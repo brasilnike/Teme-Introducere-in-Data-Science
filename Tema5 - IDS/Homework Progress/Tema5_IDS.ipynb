{
 "cells": [
  {
   "cell_type": "markdown",
   "metadata": {},
   "source": [
    "# Tema 5 - Modele de regresie"
   ]
  },
  {
   "cell_type": "code",
   "execution_count": 68,
   "metadata": {},
   "outputs": [
    {
     "name": "stdout",
     "output_type": "stream",
     "text": [
      "At the moment the program was made:\n",
      "\tNumPy Version = 1.20.2\n",
      "\tScykit_learn Version = 0.24.1\n",
      "\tPandas Version = 1.2.3\n",
      "\n",
      "Current NumPy Version = 1.20.2\n",
      "Current Sklearn Version = 0.24.1\n",
      "Current Pandas Version = 1.2.4\n"
     ]
    }
   ],
   "source": [
    "import numpy as np\n",
    "import pandas as pd\n",
    "import sklearn\n",
    "\n",
    "print('At the moment the program was made:')\n",
    "print('\\tNumPy Version = 1.20.2')\n",
    "print('\\tScykit_learn Version = 0.24.1')\n",
    "print('\\tPandas Version = 1.2.3\\n')\n",
    "\n",
    "print(f'Current NumPy Version = {np.__version__}')\n",
    "print(f'Current Sklearn Version = {sklearn.__version__}')\n",
    "print(f'Current Pandas Version = {pd.__version__}')"
   ]
  },
  {
   "cell_type": "code",
   "execution_count": 69,
   "metadata": {},
   "outputs": [],
   "source": [
    "zeros = np.zeros(10)\n",
    "CPU_model_df = pd.DataFrame({\n",
    "    'Model':list(zeros), \n",
    "    'Search_strategy': list(zeros), \n",
    "    'test_neg_mean_absolute_error': list(zeros), \n",
    "    'test_neg_mean_squared_error': list(zeros), \n",
    "    'test_neg_median_absolute_error': list(zeros),\n",
    "    'train_neg_mean_absolute_error': list(zeros),\n",
    "    'train_neg_mean_squared_error': list(zeros),\n",
    "    'train_neg_median_absolute_error': list(zeros),\n",
    "    'fit_time': list(zeros),\n",
    "    'score_time': list(zeros)\n",
    "})"
   ]
  },
  {
   "cell_type": "markdown",
   "metadata": {},
   "source": [
    "## CPU Computer Hardware"
   ]
  },
  {
   "cell_type": "markdown",
   "metadata": {},
   "source": [
    "* CPU Computer Hardware; excludeti din dataset coloanele: vendor name, model name, estimated relative performance; se va estima coloana \"published relative performance\"."
   ]
  },
  {
   "cell_type": "code",
   "execution_count": 70,
   "metadata": {},
   "outputs": [
    {
     "data": {
      "text/html": [
       "<div>\n",
       "<style scoped>\n",
       "    .dataframe tbody tr th:only-of-type {\n",
       "        vertical-align: middle;\n",
       "    }\n",
       "\n",
       "    .dataframe tbody tr th {\n",
       "        vertical-align: top;\n",
       "    }\n",
       "\n",
       "    .dataframe thead th {\n",
       "        text-align: right;\n",
       "    }\n",
       "</style>\n",
       "<table border=\"1\" class=\"dataframe\">\n",
       "  <thead>\n",
       "    <tr style=\"text-align: right;\">\n",
       "      <th></th>\n",
       "      <th>2</th>\n",
       "      <th>3</th>\n",
       "      <th>4</th>\n",
       "      <th>5</th>\n",
       "      <th>6</th>\n",
       "      <th>7</th>\n",
       "      <th>8</th>\n",
       "    </tr>\n",
       "  </thead>\n",
       "  <tbody>\n",
       "    <tr>\n",
       "      <th>0</th>\n",
       "      <td>125</td>\n",
       "      <td>256</td>\n",
       "      <td>6000</td>\n",
       "      <td>256</td>\n",
       "      <td>16</td>\n",
       "      <td>128</td>\n",
       "      <td>198</td>\n",
       "    </tr>\n",
       "    <tr>\n",
       "      <th>1</th>\n",
       "      <td>29</td>\n",
       "      <td>8000</td>\n",
       "      <td>32000</td>\n",
       "      <td>32</td>\n",
       "      <td>8</td>\n",
       "      <td>32</td>\n",
       "      <td>269</td>\n",
       "    </tr>\n",
       "    <tr>\n",
       "      <th>2</th>\n",
       "      <td>29</td>\n",
       "      <td>8000</td>\n",
       "      <td>32000</td>\n",
       "      <td>32</td>\n",
       "      <td>8</td>\n",
       "      <td>32</td>\n",
       "      <td>220</td>\n",
       "    </tr>\n",
       "    <tr>\n",
       "      <th>3</th>\n",
       "      <td>29</td>\n",
       "      <td>8000</td>\n",
       "      <td>32000</td>\n",
       "      <td>32</td>\n",
       "      <td>8</td>\n",
       "      <td>32</td>\n",
       "      <td>172</td>\n",
       "    </tr>\n",
       "    <tr>\n",
       "      <th>4</th>\n",
       "      <td>29</td>\n",
       "      <td>8000</td>\n",
       "      <td>16000</td>\n",
       "      <td>32</td>\n",
       "      <td>8</td>\n",
       "      <td>16</td>\n",
       "      <td>132</td>\n",
       "    </tr>\n",
       "  </tbody>\n",
       "</table>\n",
       "</div>"
      ],
      "text/plain": [
       "     2     3      4    5   6    7    8\n",
       "0  125   256   6000  256  16  128  198\n",
       "1   29  8000  32000   32   8   32  269\n",
       "2   29  8000  32000   32   8   32  220\n",
       "3   29  8000  32000   32   8   32  172\n",
       "4   29  8000  16000   32   8   16  132"
      ]
     },
     "execution_count": 70,
     "metadata": {},
     "output_type": "execute_result"
    }
   ],
   "source": [
    "CPU_data = pd.read_csv(\"data/machine.data\", delimiter=\",\", header=None)\n",
    "CPU_data = CPU_data.drop([0, 1, 9], axis = 1)\n",
    "#CPU_data = CPU_data.drop(1, axis = 1)\n",
    "#CPU_data = CPU_data.drop(9, axis = 1)\n",
    "CPU_data.head()"
   ]
  },
  {
   "cell_type": "code",
   "execution_count": 71,
   "metadata": {},
   "outputs": [],
   "source": [
    "CPU_X = CPU_data.iloc[:, :-1].values\n",
    "CPU_y = CPU_data.iloc[:, -1].values"
   ]
  },
  {
   "cell_type": "markdown",
   "metadata": {},
   "source": [
    "### LinearRegression"
   ]
  },
  {
   "cell_type": "code",
   "execution_count": 72,
   "metadata": {},
   "outputs": [],
   "source": [
    "from sklearn.linear_model import LinearRegression\n",
    "from sklearn.model_selection import cross_validate, GridSearchCV, RandomizedSearchCV\n",
    "from sklearn import metrics"
   ]
  },
  {
   "cell_type": "code",
   "execution_count": 73,
   "metadata": {},
   "outputs": [],
   "source": [
    "regression = LinearRegression()\n",
    "parameter_grid = {\"fit_intercept\":[True, False], \"normalize\":[True, False], \"n_jobs\":[None, 2, 4, 6]}"
   ]
  },
  {
   "cell_type": "code",
   "execution_count": 74,
   "metadata": {},
   "outputs": [
    {
     "name": "stdout",
     "output_type": "stream",
     "text": [
      "{'fit_intercept': True, 'n_jobs': None, 'normalize': False}\n"
     ]
    }
   ],
   "source": [
    "grid_search = GridSearchCV(estimator=regression, param_grid=parameter_grid, cv=5, scoring='neg_mean_squared_error')\n",
    "grid_search.fit(CPU_X, CPU_y)\n",
    "best_parameters = grid_search.best_params_\n",
    "print(best_parameters)"
   ]
  },
  {
   "cell_type": "code",
   "execution_count": 75,
   "metadata": {},
   "outputs": [],
   "source": [
    "tunned_regression = LinearRegression(**best_parameters)\n",
    "grid_scores = cross_validate(tunned_regression, CPU_X, CPU_y, cv=5, scoring=['neg_mean_absolute_error', 'neg_mean_squared_error', 'neg_median_absolute_error'], return_train_score=True)\n",
    "CPU_model_df.iloc[0, 0] = 'LinearRegression'\n",
    "CPU_model_df.iloc[0, 1] = 'GridSearchCV'\n",
    "CPU_model_df.iloc[0, 2] = grid_scores['test_neg_mean_absolute_error'].mean()\n",
    "CPU_model_df.iloc[0, 3] = grid_scores['test_neg_mean_squared_error'].mean()\n",
    "CPU_model_df.iloc[0, 4] = grid_scores['test_neg_median_absolute_error'].mean()\n",
    "CPU_model_df.iloc[0, 5] = grid_scores['train_neg_mean_absolute_error'].mean()\n",
    "CPU_model_df.iloc[0, 6] = grid_scores['train_neg_mean_squared_error'].mean()\n",
    "CPU_model_df.iloc[0, 7] = grid_scores['train_neg_median_absolute_error'].mean()\n",
    "CPU_model_df.iloc[0, 8] = grid_scores['fit_time'].mean()\n",
    "CPU_model_df.iloc[0, 9] = grid_scores['score_time'].mean()"
   ]
  },
  {
   "cell_type": "code",
   "execution_count": 76,
   "metadata": {},
   "outputs": [
    {
     "name": "stdout",
     "output_type": "stream",
     "text": [
      "{'normalize': False, 'n_jobs': 4, 'fit_intercept': True}\n"
     ]
    }
   ],
   "source": [
    "random_search = RandomizedSearchCV(estimator=regression, param_distributions=parameter_grid, cv=5, scoring='neg_mean_squared_error')\n",
    "random_search.fit(CPU_X, CPU_y)\n",
    "best_parameters = random_search.best_params_\n",
    "print(best_parameters)"
   ]
  },
  {
   "cell_type": "code",
   "execution_count": 77,
   "metadata": {},
   "outputs": [
    {
     "data": {
      "text/html": [
       "<div>\n",
       "<style scoped>\n",
       "    .dataframe tbody tr th:only-of-type {\n",
       "        vertical-align: middle;\n",
       "    }\n",
       "\n",
       "    .dataframe tbody tr th {\n",
       "        vertical-align: top;\n",
       "    }\n",
       "\n",
       "    .dataframe thead th {\n",
       "        text-align: right;\n",
       "    }\n",
       "</style>\n",
       "<table border=\"1\" class=\"dataframe\">\n",
       "  <thead>\n",
       "    <tr style=\"text-align: right;\">\n",
       "      <th></th>\n",
       "      <th>Model</th>\n",
       "      <th>Search_strategy</th>\n",
       "      <th>test_neg_mean_absolute_error</th>\n",
       "      <th>test_neg_mean_squared_error</th>\n",
       "      <th>test_neg_median_absolute_error</th>\n",
       "      <th>train_neg_mean_absolute_error</th>\n",
       "      <th>train_neg_mean_squared_error</th>\n",
       "      <th>train_neg_median_absolute_error</th>\n",
       "      <th>fit_time</th>\n",
       "      <th>score_time</th>\n",
       "    </tr>\n",
       "  </thead>\n",
       "  <tbody>\n",
       "    <tr>\n",
       "      <th>0</th>\n",
       "      <td>LinearRegression</td>\n",
       "      <td>GridSearchCV</td>\n",
       "      <td>-43.378262</td>\n",
       "      <td>-6383.656697</td>\n",
       "      <td>-27.053792</td>\n",
       "      <td>-36.695674</td>\n",
       "      <td>-3243.698611</td>\n",
       "      <td>-25.581576</td>\n",
       "      <td>0.001032</td>\n",
       "      <td>0.000466</td>\n",
       "    </tr>\n",
       "    <tr>\n",
       "      <th>1</th>\n",
       "      <td>LinearRegression</td>\n",
       "      <td>RandomizedSearchCV</td>\n",
       "      <td>-43.378262</td>\n",
       "      <td>-6383.656697</td>\n",
       "      <td>-27.053792</td>\n",
       "      <td>-36.695674</td>\n",
       "      <td>-3243.698611</td>\n",
       "      <td>-25.581576</td>\n",
       "      <td>0.001130</td>\n",
       "      <td>0.000768</td>\n",
       "    </tr>\n",
       "    <tr>\n",
       "      <th>2</th>\n",
       "      <td>0.0</td>\n",
       "      <td>0.0</td>\n",
       "      <td>0.000000</td>\n",
       "      <td>0.000000</td>\n",
       "      <td>0.000000</td>\n",
       "      <td>0.000000</td>\n",
       "      <td>0.000000</td>\n",
       "      <td>0.000000</td>\n",
       "      <td>0.000000</td>\n",
       "      <td>0.000000</td>\n",
       "    </tr>\n",
       "    <tr>\n",
       "      <th>3</th>\n",
       "      <td>0.0</td>\n",
       "      <td>0.0</td>\n",
       "      <td>0.000000</td>\n",
       "      <td>0.000000</td>\n",
       "      <td>0.000000</td>\n",
       "      <td>0.000000</td>\n",
       "      <td>0.000000</td>\n",
       "      <td>0.000000</td>\n",
       "      <td>0.000000</td>\n",
       "      <td>0.000000</td>\n",
       "    </tr>\n",
       "    <tr>\n",
       "      <th>4</th>\n",
       "      <td>0.0</td>\n",
       "      <td>0.0</td>\n",
       "      <td>0.000000</td>\n",
       "      <td>0.000000</td>\n",
       "      <td>0.000000</td>\n",
       "      <td>0.000000</td>\n",
       "      <td>0.000000</td>\n",
       "      <td>0.000000</td>\n",
       "      <td>0.000000</td>\n",
       "      <td>0.000000</td>\n",
       "    </tr>\n",
       "  </tbody>\n",
       "</table>\n",
       "</div>"
      ],
      "text/plain": [
       "              Model     Search_strategy  test_neg_mean_absolute_error  \\\n",
       "0  LinearRegression        GridSearchCV                    -43.378262   \n",
       "1  LinearRegression  RandomizedSearchCV                    -43.378262   \n",
       "2               0.0                 0.0                      0.000000   \n",
       "3               0.0                 0.0                      0.000000   \n",
       "4               0.0                 0.0                      0.000000   \n",
       "\n",
       "   test_neg_mean_squared_error  test_neg_median_absolute_error  \\\n",
       "0                 -6383.656697                      -27.053792   \n",
       "1                 -6383.656697                      -27.053792   \n",
       "2                     0.000000                        0.000000   \n",
       "3                     0.000000                        0.000000   \n",
       "4                     0.000000                        0.000000   \n",
       "\n",
       "   train_neg_mean_absolute_error  train_neg_mean_squared_error  \\\n",
       "0                     -36.695674                  -3243.698611   \n",
       "1                     -36.695674                  -3243.698611   \n",
       "2                       0.000000                      0.000000   \n",
       "3                       0.000000                      0.000000   \n",
       "4                       0.000000                      0.000000   \n",
       "\n",
       "   train_neg_median_absolute_error  fit_time  score_time  \n",
       "0                       -25.581576  0.001032    0.000466  \n",
       "1                       -25.581576  0.001130    0.000768  \n",
       "2                         0.000000  0.000000    0.000000  \n",
       "3                         0.000000  0.000000    0.000000  \n",
       "4                         0.000000  0.000000    0.000000  "
      ]
     },
     "execution_count": 77,
     "metadata": {},
     "output_type": "execute_result"
    }
   ],
   "source": [
    "tunned_regression = LinearRegression(**best_parameters)\n",
    "random_scores = cross_validate(tunned_regression, CPU_X, CPU_y, cv=5, scoring=['neg_mean_absolute_error', 'neg_mean_squared_error', 'neg_median_absolute_error'], return_train_score=True)\n",
    "CPU_model_df.iloc[1, 0] = 'LinearRegression'\n",
    "CPU_model_df.iloc[1, 1] = 'RandomizedSearchCV'\n",
    "CPU_model_df.iloc[1, 2] = random_scores['test_neg_mean_absolute_error'].mean()\n",
    "CPU_model_df.iloc[1, 3] = random_scores['test_neg_mean_squared_error'].mean()\n",
    "CPU_model_df.iloc[1, 4] = random_scores['test_neg_median_absolute_error'].mean()\n",
    "CPU_model_df.iloc[1, 5] = random_scores['train_neg_mean_absolute_error'].mean()\n",
    "CPU_model_df.iloc[1, 6] = random_scores['train_neg_mean_squared_error'].mean()\n",
    "CPU_model_df.iloc[1, 7] = random_scores['train_neg_median_absolute_error'].mean()\n",
    "CPU_model_df.iloc[1, 8] = random_scores['fit_time'].mean()\n",
    "CPU_model_df.iloc[1, 9] = random_scores['score_time'].mean()\n",
    "\n",
    "CPU_model_df.head()"
   ]
  },
  {
   "cell_type": "markdown",
   "metadata": {},
   "source": [
    "### DecisionTreeRegressor"
   ]
  },
  {
   "cell_type": "code",
   "execution_count": 78,
   "metadata": {},
   "outputs": [],
   "source": [
    "from sklearn import tree"
   ]
  },
  {
   "cell_type": "code",
   "execution_count": 79,
   "metadata": {},
   "outputs": [],
   "source": [
    "regression = tree.DecisionTreeRegressor()\n",
    "parameter_grid = {'splitter':['best', 'random'], 'max_depth': [1, 3, 5, 7], 'min_samples_leaf':[1, 2, 3, 4, 5],\n",
    "                 'min_weight_fraction_leaf':[0.1, 0.2, 0.3, 0.4, 0.5], 'max_features':['auto', 'log2', 'sqrt', None],\n",
    "                 'max_leaf_nodes':[None, 10, 20, 30, 40, 50]}"
   ]
  },
  {
   "cell_type": "code",
   "execution_count": 80,
   "metadata": {},
   "outputs": [
    {
     "name": "stdout",
     "output_type": "stream",
     "text": [
      "{'max_depth': 7, 'max_features': 'log2', 'max_leaf_nodes': 40, 'min_samples_leaf': 5, 'min_weight_fraction_leaf': 0.1, 'splitter': 'best'}\n"
     ]
    }
   ],
   "source": [
    "grid_search = GridSearchCV(estimator=regression, param_grid=parameter_grid, cv=5, scoring='neg_mean_squared_error')\n",
    "grid_search.fit(CPU_X, CPU_y)\n",
    "best_parameters = grid_search.best_params_\n",
    "print(best_parameters)"
   ]
  },
  {
   "cell_type": "code",
   "execution_count": 81,
   "metadata": {},
   "outputs": [],
   "source": [
    "tuned_regression = tree.DecisionTreeRegressor(**best_parameters)\n",
    "grid_scores = cross_validate(tuned_regression, CPU_X, CPU_y, cv=5, scoring=['neg_mean_absolute_error', 'neg_mean_squared_error', 'neg_median_absolute_error'], return_train_score=True)\n",
    "CPU_model_df.iloc[2, 0] = 'DecisionTreeRegressor'\n",
    "CPU_model_df.iloc[2, 1] = 'GridSearchCV'\n",
    "CPU_model_df.iloc[2, 2] = grid_scores['test_neg_mean_absolute_error'].mean()\n",
    "CPU_model_df.iloc[2, 3] = grid_scores['test_neg_mean_squared_error'].mean()\n",
    "CPU_model_df.iloc[2, 4] = grid_scores['test_neg_median_absolute_error'].mean()\n",
    "CPU_model_df.iloc[2, 5] = grid_scores['train_neg_mean_absolute_error'].mean()\n",
    "CPU_model_df.iloc[2, 6] = grid_scores['train_neg_mean_squared_error'].mean()\n",
    "CPU_model_df.iloc[2, 7] = grid_scores['train_neg_median_absolute_error'].mean()\n",
    "CPU_model_df.iloc[2, 8] = grid_scores['fit_time'].mean()\n",
    "CPU_model_df.iloc[2, 9] = grid_scores['score_time'].mean()"
   ]
  },
  {
   "cell_type": "code",
   "execution_count": 82,
   "metadata": {},
   "outputs": [
    {
     "name": "stdout",
     "output_type": "stream",
     "text": [
      "{'splitter': 'best', 'min_weight_fraction_leaf': 0.2, 'min_samples_leaf': 3, 'max_leaf_nodes': 30, 'max_features': None, 'max_depth': 5}\n"
     ]
    }
   ],
   "source": [
    "random_search = RandomizedSearchCV(estimator=regression, param_distributions=parameter_grid, cv=5, scoring='neg_mean_squared_error')\n",
    "random_search.fit(CPU_X, CPU_y)\n",
    "best_parameters = random_search.best_params_\n",
    "print(best_parameters)"
   ]
  },
  {
   "cell_type": "code",
   "execution_count": 83,
   "metadata": {},
   "outputs": [
    {
     "data": {
      "text/html": [
       "<div>\n",
       "<style scoped>\n",
       "    .dataframe tbody tr th:only-of-type {\n",
       "        vertical-align: middle;\n",
       "    }\n",
       "\n",
       "    .dataframe tbody tr th {\n",
       "        vertical-align: top;\n",
       "    }\n",
       "\n",
       "    .dataframe thead th {\n",
       "        text-align: right;\n",
       "    }\n",
       "</style>\n",
       "<table border=\"1\" class=\"dataframe\">\n",
       "  <thead>\n",
       "    <tr style=\"text-align: right;\">\n",
       "      <th></th>\n",
       "      <th>Model</th>\n",
       "      <th>Search_strategy</th>\n",
       "      <th>test_neg_mean_absolute_error</th>\n",
       "      <th>test_neg_mean_squared_error</th>\n",
       "      <th>test_neg_median_absolute_error</th>\n",
       "      <th>train_neg_mean_absolute_error</th>\n",
       "      <th>train_neg_mean_squared_error</th>\n",
       "      <th>train_neg_median_absolute_error</th>\n",
       "      <th>fit_time</th>\n",
       "      <th>score_time</th>\n",
       "    </tr>\n",
       "  </thead>\n",
       "  <tbody>\n",
       "    <tr>\n",
       "      <th>0</th>\n",
       "      <td>LinearRegression</td>\n",
       "      <td>GridSearchCV</td>\n",
       "      <td>-43.378262</td>\n",
       "      <td>-6383.656697</td>\n",
       "      <td>-27.053792</td>\n",
       "      <td>-36.695674</td>\n",
       "      <td>-3243.698611</td>\n",
       "      <td>-25.581576</td>\n",
       "      <td>0.001032</td>\n",
       "      <td>0.000466</td>\n",
       "    </tr>\n",
       "    <tr>\n",
       "      <th>1</th>\n",
       "      <td>LinearRegression</td>\n",
       "      <td>RandomizedSearchCV</td>\n",
       "      <td>-43.378262</td>\n",
       "      <td>-6383.656697</td>\n",
       "      <td>-27.053792</td>\n",
       "      <td>-36.695674</td>\n",
       "      <td>-3243.698611</td>\n",
       "      <td>-25.581576</td>\n",
       "      <td>0.001130</td>\n",
       "      <td>0.000768</td>\n",
       "    </tr>\n",
       "    <tr>\n",
       "      <th>2</th>\n",
       "      <td>DecisionTreeRegressor</td>\n",
       "      <td>GridSearchCV</td>\n",
       "      <td>-52.701758</td>\n",
       "      <td>-13353.272434</td>\n",
       "      <td>-24.085735</td>\n",
       "      <td>-47.505936</td>\n",
       "      <td>-11006.196351</td>\n",
       "      <td>-15.530619</td>\n",
       "      <td>0.000472</td>\n",
       "      <td>0.000879</td>\n",
       "    </tr>\n",
       "    <tr>\n",
       "      <th>3</th>\n",
       "      <td>DecisionTreeRegressor</td>\n",
       "      <td>RandomizedSearchCV</td>\n",
       "      <td>-54.459100</td>\n",
       "      <td>-15169.740479</td>\n",
       "      <td>-22.279448</td>\n",
       "      <td>-54.789366</td>\n",
       "      <td>-14417.968844</td>\n",
       "      <td>-17.832162</td>\n",
       "      <td>0.000399</td>\n",
       "      <td>0.000599</td>\n",
       "    </tr>\n",
       "    <tr>\n",
       "      <th>4</th>\n",
       "      <td>0.0</td>\n",
       "      <td>0.0</td>\n",
       "      <td>0.000000</td>\n",
       "      <td>0.000000</td>\n",
       "      <td>0.000000</td>\n",
       "      <td>0.000000</td>\n",
       "      <td>0.000000</td>\n",
       "      <td>0.000000</td>\n",
       "      <td>0.000000</td>\n",
       "      <td>0.000000</td>\n",
       "    </tr>\n",
       "  </tbody>\n",
       "</table>\n",
       "</div>"
      ],
      "text/plain": [
       "                   Model     Search_strategy  test_neg_mean_absolute_error  \\\n",
       "0       LinearRegression        GridSearchCV                    -43.378262   \n",
       "1       LinearRegression  RandomizedSearchCV                    -43.378262   \n",
       "2  DecisionTreeRegressor        GridSearchCV                    -52.701758   \n",
       "3  DecisionTreeRegressor  RandomizedSearchCV                    -54.459100   \n",
       "4                    0.0                 0.0                      0.000000   \n",
       "\n",
       "   test_neg_mean_squared_error  test_neg_median_absolute_error  \\\n",
       "0                 -6383.656697                      -27.053792   \n",
       "1                 -6383.656697                      -27.053792   \n",
       "2                -13353.272434                      -24.085735   \n",
       "3                -15169.740479                      -22.279448   \n",
       "4                     0.000000                        0.000000   \n",
       "\n",
       "   train_neg_mean_absolute_error  train_neg_mean_squared_error  \\\n",
       "0                     -36.695674                  -3243.698611   \n",
       "1                     -36.695674                  -3243.698611   \n",
       "2                     -47.505936                 -11006.196351   \n",
       "3                     -54.789366                 -14417.968844   \n",
       "4                       0.000000                      0.000000   \n",
       "\n",
       "   train_neg_median_absolute_error  fit_time  score_time  \n",
       "0                       -25.581576  0.001032    0.000466  \n",
       "1                       -25.581576  0.001130    0.000768  \n",
       "2                       -15.530619  0.000472    0.000879  \n",
       "3                       -17.832162  0.000399    0.000599  \n",
       "4                         0.000000  0.000000    0.000000  "
      ]
     },
     "execution_count": 83,
     "metadata": {},
     "output_type": "execute_result"
    }
   ],
   "source": [
    "tuned_regression = tree.DecisionTreeRegressor(**best_parameters)\n",
    "grid_scores = cross_validate(tuned_regression, CPU_X, CPU_y, cv=5, scoring=['neg_mean_absolute_error', 'neg_mean_squared_error', 'neg_median_absolute_error'], return_train_score=True)\n",
    "CPU_model_df.iloc[3, 0] = 'DecisionTreeRegressor'\n",
    "CPU_model_df.iloc[3, 1] = 'RandomizedSearchCV'\n",
    "CPU_model_df.iloc[3, 2] = grid_scores['test_neg_mean_absolute_error'].mean()\n",
    "CPU_model_df.iloc[3, 3] = grid_scores['test_neg_mean_squared_error'].mean()\n",
    "CPU_model_df.iloc[3, 4] = grid_scores['test_neg_median_absolute_error'].mean()\n",
    "CPU_model_df.iloc[3, 5] = grid_scores['train_neg_mean_absolute_error'].mean()\n",
    "CPU_model_df.iloc[3, 6] = grid_scores['train_neg_mean_squared_error'].mean()\n",
    "CPU_model_df.iloc[3, 7] = grid_scores['train_neg_median_absolute_error'].mean()\n",
    "CPU_model_df.iloc[3, 8] = grid_scores['fit_time'].mean()\n",
    "CPU_model_df.iloc[3, 9] = grid_scores['score_time'].mean()\n",
    "\n",
    "CPU_model_df.head()"
   ]
  },
  {
   "cell_type": "markdown",
   "metadata": {},
   "source": [
    "### KernelRidge"
   ]
  },
  {
   "cell_type": "code",
   "execution_count": 84,
   "metadata": {},
   "outputs": [],
   "source": [
    "from sklearn.kernel_ridge import KernelRidge"
   ]
  },
  {
   "cell_type": "code",
   "execution_count": 85,
   "metadata": {},
   "outputs": [],
   "source": [
    "regression = KernelRidge()\n",
    "parameter_grid = {'kernel':['linear', 'rbf'], 'alpha':[1, 2, 3, 5], 'gamma':[None, 0.1, 0.001]}"
   ]
  },
  {
   "cell_type": "code",
   "execution_count": 86,
   "metadata": {},
   "outputs": [
    {
     "name": "stdout",
     "output_type": "stream",
     "text": [
      "{'alpha': 5, 'gamma': None, 'kernel': 'linear'}\n"
     ]
    }
   ],
   "source": [
    "grid_search = GridSearchCV(estimator=regression, param_grid=parameter_grid, cv=5, scoring='neg_mean_squared_error')\n",
    "grid_search.fit(CPU_X, CPU_y)\n",
    "best_parameters = grid_search.best_params_\n",
    "print(best_parameters)"
   ]
  },
  {
   "cell_type": "code",
   "execution_count": 87,
   "metadata": {},
   "outputs": [],
   "source": [
    "tuned_regression = KernelRidge(**best_parameters)\n",
    "grid_scores = cross_validate(tuned_regression, CPU_X, CPU_y, cv=5, scoring=['neg_mean_absolute_error', 'neg_mean_squared_error', 'neg_median_absolute_error'], return_train_score=True)\n",
    "CPU_model_df.iloc[4, 0] = 'KernelRidge'\n",
    "CPU_model_df.iloc[4, 1] = 'GridSearchCV'\n",
    "CPU_model_df.iloc[4, 2] = grid_scores['test_neg_mean_absolute_error'].mean()\n",
    "CPU_model_df.iloc[4, 3] = grid_scores['test_neg_mean_squared_error'].mean()\n",
    "CPU_model_df.iloc[4, 4] = grid_scores['test_neg_median_absolute_error'].mean()\n",
    "CPU_model_df.iloc[4, 5] = grid_scores['train_neg_mean_absolute_error'].mean()\n",
    "CPU_model_df.iloc[4, 6] = grid_scores['train_neg_mean_squared_error'].mean()\n",
    "CPU_model_df.iloc[4, 7] = grid_scores['train_neg_median_absolute_error'].mean()\n",
    "CPU_model_df.iloc[4, 8] = grid_scores['fit_time'].mean()\n",
    "CPU_model_df.iloc[4, 9] = grid_scores['score_time'].mean()"
   ]
  },
  {
   "cell_type": "code",
   "execution_count": 88,
   "metadata": {},
   "outputs": [
    {
     "name": "stdout",
     "output_type": "stream",
     "text": [
      "{'kernel': 'linear', 'gamma': 0.1, 'alpha': 5}\n"
     ]
    }
   ],
   "source": [
    "random_search = RandomizedSearchCV(estimator=regression, param_distributions=parameter_grid, cv=5, scoring='neg_mean_squared_error')\n",
    "random_search.fit(CPU_X, CPU_y)\n",
    "best_parameters = random_search.best_params_\n",
    "print(best_parameters)"
   ]
  },
  {
   "cell_type": "code",
   "execution_count": 89,
   "metadata": {},
   "outputs": [
    {
     "name": "stdout",
     "output_type": "stream",
     "text": [
      "                   Model     Search_strategy  test_neg_mean_absolute_error  \\\n",
      "0       LinearRegression        GridSearchCV                    -43.378262   \n",
      "1       LinearRegression  RandomizedSearchCV                    -43.378262   \n",
      "2  DecisionTreeRegressor        GridSearchCV                    -52.701758   \n",
      "3  DecisionTreeRegressor  RandomizedSearchCV                    -54.459100   \n",
      "4            KernelRidge        GridSearchCV                    -47.222355   \n",
      "5            KernelRidge  RandomizedSearchCV                    -47.222355   \n",
      "6                    0.0                 0.0                      0.000000   \n",
      "7                    0.0                 0.0                      0.000000   \n",
      "8                    0.0                 0.0                      0.000000   \n",
      "9                    0.0                 0.0                      0.000000   \n",
      "\n",
      "   test_neg_mean_squared_error  test_neg_median_absolute_error  \\\n",
      "0                 -6383.656697                      -27.053792   \n",
      "1                 -6383.656697                      -27.053792   \n",
      "2                -13353.272434                      -24.085735   \n",
      "3                -15169.740479                      -22.279448   \n",
      "4                 -8067.967074                      -30.918495   \n",
      "5                 -8067.967074                      -30.918495   \n",
      "6                     0.000000                        0.000000   \n",
      "7                     0.000000                        0.000000   \n",
      "8                     0.000000                        0.000000   \n",
      "9                     0.000000                        0.000000   \n",
      "\n",
      "   train_neg_mean_absolute_error  train_neg_mean_squared_error  \\\n",
      "0                     -36.695674                  -3243.698611   \n",
      "1                     -36.695674                  -3243.698611   \n",
      "2                     -47.505936                 -11006.196351   \n",
      "3                     -54.789366                 -14417.968844   \n",
      "4                     -39.472751                  -3987.727118   \n",
      "5                     -39.472751                  -3987.727118   \n",
      "6                       0.000000                      0.000000   \n",
      "7                       0.000000                      0.000000   \n",
      "8                       0.000000                      0.000000   \n",
      "9                       0.000000                      0.000000   \n",
      "\n",
      "   train_neg_median_absolute_error  fit_time  score_time  \n",
      "0                       -25.581576  0.001032    0.000466  \n",
      "1                       -25.581576  0.001130    0.000768  \n",
      "2                       -15.530619  0.000472    0.000879  \n",
      "3                       -17.832162  0.000399    0.000599  \n",
      "4                       -24.955848  0.001406    0.000793  \n",
      "5                       -24.955848  0.001100    0.000906  \n",
      "6                         0.000000  0.000000    0.000000  \n",
      "7                         0.000000  0.000000    0.000000  \n",
      "8                         0.000000  0.000000    0.000000  \n",
      "9                         0.000000  0.000000    0.000000  \n"
     ]
    }
   ],
   "source": [
    "tuned_regression = KernelRidge(**best_parameters)\n",
    "grid_scores = cross_validate(tuned_regression, CPU_X, CPU_y, cv=5, scoring=['neg_mean_absolute_error', 'neg_mean_squared_error', 'neg_median_absolute_error'], return_train_score=True)\n",
    "CPU_model_df.iloc[5, 0] = 'KernelRidge'\n",
    "CPU_model_df.iloc[5, 1] = 'RandomizedSearchCV'\n",
    "CPU_model_df.iloc[5, 2] = grid_scores['test_neg_mean_absolute_error'].mean()\n",
    "CPU_model_df.iloc[5, 3] = grid_scores['test_neg_mean_squared_error'].mean()\n",
    "CPU_model_df.iloc[5, 4] = grid_scores['test_neg_median_absolute_error'].mean()\n",
    "CPU_model_df.iloc[5, 5] = grid_scores['train_neg_mean_absolute_error'].mean()\n",
    "CPU_model_df.iloc[5, 6] = grid_scores['train_neg_mean_squared_error'].mean()\n",
    "CPU_model_df.iloc[5, 7] = grid_scores['train_neg_median_absolute_error'].mean()\n",
    "CPU_model_df.iloc[5, 8] = grid_scores['fit_time'].mean()\n",
    "CPU_model_df.iloc[5, 9] = grid_scores['score_time'].mean()\n",
    "\n",
    "print(CPU_model_df)"
   ]
  },
  {
   "cell_type": "markdown",
   "metadata": {},
   "source": [
    "### GaussianProcessRegressor"
   ]
  },
  {
   "cell_type": "code",
   "execution_count": 90,
   "metadata": {},
   "outputs": [],
   "source": [
    "from sklearn.gaussian_process import GaussianProcessRegressor\n",
    "from sklearn.gaussian_process.kernels import RBF, DotProduct"
   ]
  },
  {
   "cell_type": "code",
   "execution_count": 91,
   "metadata": {},
   "outputs": [
    {
     "name": "stdout",
     "output_type": "stream",
     "text": [
      "[[0.07282535 0.00601202 0.09284284 1.         0.30769231 0.72727273]\n",
      " [0.00809171 0.24849699 0.4994995  0.125      0.15384615 0.18181818]\n",
      " [0.00809171 0.24849699 0.4994995  0.125      0.15384615 0.18181818]\n",
      " ...\n",
      " [0.07282535 0.06062124 0.12412412 0.         0.03846154 0.07954545]\n",
      " [0.31220499 0.01402806 0.12412412 0.125      0.         0.        ]\n",
      " [0.31220499 0.02930862 0.06156156 0.         0.         0.        ]]\n"
     ]
    }
   ],
   "source": [
    "from sklearn.preprocessing import MinMaxScaler\n",
    "scaler = MinMaxScaler()\n",
    "CPU_X_scaled = scaler.fit_transform(CPU_X)\n",
    "print(CPU_X_scaled)"
   ]
  },
  {
   "cell_type": "code",
   "execution_count": 92,
   "metadata": {},
   "outputs": [],
   "source": [
    "regression = GaussianProcessRegressor()\n",
    "parameter_grid = [{\"alpha\":[1e-2, 1e-3], \"kernel\":[RBF(l) for l in np.logspace(-1, 1, 2)]},\n",
    "                 {\"alpha\":[1e-2, 1e-3], \"kernel\": [DotProduct(sigma_0) for sigma_0 in np.logspace(-1, 1, 2)]}]"
   ]
  },
  {
   "cell_type": "code",
   "execution_count": 93,
   "metadata": {},
   "outputs": [
    {
     "name": "stderr",
     "output_type": "stream",
     "text": [
      "C:\\Users\\Laur\\anaconda3\\envs\\IntroducereInDataScience\\lib\\site-packages\\sklearn\\gaussian_process\\kernels.py:402: ConvergenceWarning: The optimal value found for dimension 0 of parameter length_scale is close to the specified lower bound 1e-05. Decreasing the bound and calling fit again may find a better value.\n",
      "  warnings.warn(\"The optimal value found for \"\n",
      "C:\\Users\\Laur\\anaconda3\\envs\\IntroducereInDataScience\\lib\\site-packages\\sklearn\\gaussian_process\\kernels.py:402: ConvergenceWarning: The optimal value found for dimension 0 of parameter length_scale is close to the specified lower bound 1e-05. Decreasing the bound and calling fit again may find a better value.\n",
      "  warnings.warn(\"The optimal value found for \"\n",
      "C:\\Users\\Laur\\anaconda3\\envs\\IntroducereInDataScience\\lib\\site-packages\\sklearn\\gaussian_process\\kernels.py:402: ConvergenceWarning: The optimal value found for dimension 0 of parameter length_scale is close to the specified lower bound 1e-05. Decreasing the bound and calling fit again may find a better value.\n",
      "  warnings.warn(\"The optimal value found for \"\n",
      "C:\\Users\\Laur\\anaconda3\\envs\\IntroducereInDataScience\\lib\\site-packages\\sklearn\\gaussian_process\\kernels.py:402: ConvergenceWarning: The optimal value found for dimension 0 of parameter length_scale is close to the specified lower bound 1e-05. Decreasing the bound and calling fit again may find a better value.\n",
      "  warnings.warn(\"The optimal value found for \"\n",
      "C:\\Users\\Laur\\anaconda3\\envs\\IntroducereInDataScience\\lib\\site-packages\\sklearn\\gaussian_process\\kernels.py:402: ConvergenceWarning: The optimal value found for dimension 0 of parameter length_scale is close to the specified lower bound 1e-05. Decreasing the bound and calling fit again may find a better value.\n",
      "  warnings.warn(\"The optimal value found for \"\n",
      "C:\\Users\\Laur\\anaconda3\\envs\\IntroducereInDataScience\\lib\\site-packages\\sklearn\\gaussian_process\\kernels.py:402: ConvergenceWarning: The optimal value found for dimension 0 of parameter length_scale is close to the specified lower bound 1e-05. Decreasing the bound and calling fit again may find a better value.\n",
      "  warnings.warn(\"The optimal value found for \"\n",
      "C:\\Users\\Laur\\anaconda3\\envs\\IntroducereInDataScience\\lib\\site-packages\\sklearn\\gaussian_process\\kernels.py:402: ConvergenceWarning: The optimal value found for dimension 0 of parameter length_scale is close to the specified lower bound 1e-05. Decreasing the bound and calling fit again may find a better value.\n",
      "  warnings.warn(\"The optimal value found for \"\n",
      "C:\\Users\\Laur\\anaconda3\\envs\\IntroducereInDataScience\\lib\\site-packages\\sklearn\\gaussian_process\\kernels.py:402: ConvergenceWarning: The optimal value found for dimension 0 of parameter length_scale is close to the specified lower bound 1e-05. Decreasing the bound and calling fit again may find a better value.\n",
      "  warnings.warn(\"The optimal value found for \"\n",
      "C:\\Users\\Laur\\anaconda3\\envs\\IntroducereInDataScience\\lib\\site-packages\\sklearn\\gaussian_process\\kernels.py:402: ConvergenceWarning: The optimal value found for dimension 0 of parameter length_scale is close to the specified lower bound 1e-05. Decreasing the bound and calling fit again may find a better value.\n",
      "  warnings.warn(\"The optimal value found for \"\n",
      "C:\\Users\\Laur\\anaconda3\\envs\\IntroducereInDataScience\\lib\\site-packages\\sklearn\\gaussian_process\\kernels.py:402: ConvergenceWarning: The optimal value found for dimension 0 of parameter length_scale is close to the specified lower bound 1e-05. Decreasing the bound and calling fit again may find a better value.\n",
      "  warnings.warn(\"The optimal value found for \"\n",
      "C:\\Users\\Laur\\anaconda3\\envs\\IntroducereInDataScience\\lib\\site-packages\\sklearn\\gaussian_process\\kernels.py:402: ConvergenceWarning: The optimal value found for dimension 0 of parameter length_scale is close to the specified lower bound 1e-05. Decreasing the bound and calling fit again may find a better value.\n",
      "  warnings.warn(\"The optimal value found for \"\n",
      "C:\\Users\\Laur\\anaconda3\\envs\\IntroducereInDataScience\\lib\\site-packages\\sklearn\\gaussian_process\\kernels.py:402: ConvergenceWarning: The optimal value found for dimension 0 of parameter length_scale is close to the specified lower bound 1e-05. Decreasing the bound and calling fit again may find a better value.\n",
      "  warnings.warn(\"The optimal value found for \"\n",
      "C:\\Users\\Laur\\anaconda3\\envs\\IntroducereInDataScience\\lib\\site-packages\\sklearn\\gaussian_process\\kernels.py:402: ConvergenceWarning: The optimal value found for dimension 0 of parameter length_scale is close to the specified lower bound 1e-05. Decreasing the bound and calling fit again may find a better value.\n",
      "  warnings.warn(\"The optimal value found for \"\n",
      "C:\\Users\\Laur\\anaconda3\\envs\\IntroducereInDataScience\\lib\\site-packages\\sklearn\\gaussian_process\\kernels.py:402: ConvergenceWarning: The optimal value found for dimension 0 of parameter length_scale is close to the specified lower bound 1e-05. Decreasing the bound and calling fit again may find a better value.\n",
      "  warnings.warn(\"The optimal value found for \"\n",
      "C:\\Users\\Laur\\anaconda3\\envs\\IntroducereInDataScience\\lib\\site-packages\\sklearn\\gaussian_process\\kernels.py:402: ConvergenceWarning: The optimal value found for dimension 0 of parameter length_scale is close to the specified lower bound 1e-05. Decreasing the bound and calling fit again may find a better value.\n",
      "  warnings.warn(\"The optimal value found for \"\n",
      "C:\\Users\\Laur\\anaconda3\\envs\\IntroducereInDataScience\\lib\\site-packages\\sklearn\\gaussian_process\\kernels.py:402: ConvergenceWarning: The optimal value found for dimension 0 of parameter length_scale is close to the specified lower bound 1e-05. Decreasing the bound and calling fit again may find a better value.\n",
      "  warnings.warn(\"The optimal value found for \"\n",
      "C:\\Users\\Laur\\anaconda3\\envs\\IntroducereInDataScience\\lib\\site-packages\\sklearn\\gaussian_process\\kernels.py:402: ConvergenceWarning: The optimal value found for dimension 0 of parameter length_scale is close to the specified lower bound 1e-05. Decreasing the bound and calling fit again may find a better value.\n",
      "  warnings.warn(\"The optimal value found for \"\n",
      "C:\\Users\\Laur\\anaconda3\\envs\\IntroducereInDataScience\\lib\\site-packages\\sklearn\\gaussian_process\\kernels.py:411: ConvergenceWarning: The optimal value found for dimension 0 of parameter sigma_0 is close to the specified upper bound 100000.0. Increasing the bound and calling fit again may find a better value.\n",
      "  warnings.warn(\"The optimal value found for \"\n",
      "C:\\Users\\Laur\\anaconda3\\envs\\IntroducereInDataScience\\lib\\site-packages\\sklearn\\gaussian_process\\_gpr.py:509: ConvergenceWarning: lbfgs failed to converge (status=2):\n",
      "ABNORMAL_TERMINATION_IN_LNSRCH.\n",
      "\n",
      "Increase the number of iterations (max_iter) or scale the data as shown in:\n",
      "    https://scikit-learn.org/stable/modules/preprocessing.html\n",
      "  _check_optimize_result(\"lbfgs\", opt_res)\n",
      "C:\\Users\\Laur\\anaconda3\\envs\\IntroducereInDataScience\\lib\\site-packages\\sklearn\\gaussian_process\\_gpr.py:509: ConvergenceWarning: lbfgs failed to converge (status=2):\n",
      "ABNORMAL_TERMINATION_IN_LNSRCH.\n",
      "\n",
      "Increase the number of iterations (max_iter) or scale the data as shown in:\n",
      "    https://scikit-learn.org/stable/modules/preprocessing.html\n",
      "  _check_optimize_result(\"lbfgs\", opt_res)\n",
      "C:\\Users\\Laur\\anaconda3\\envs\\IntroducereInDataScience\\lib\\site-packages\\sklearn\\gaussian_process\\_gpr.py:509: ConvergenceWarning: lbfgs failed to converge (status=2):\n",
      "ABNORMAL_TERMINATION_IN_LNSRCH.\n",
      "\n",
      "Increase the number of iterations (max_iter) or scale the data as shown in:\n",
      "    https://scikit-learn.org/stable/modules/preprocessing.html\n",
      "  _check_optimize_result(\"lbfgs\", opt_res)\n",
      "C:\\Users\\Laur\\anaconda3\\envs\\IntroducereInDataScience\\lib\\site-packages\\sklearn\\gaussian_process\\_gpr.py:509: ConvergenceWarning: lbfgs failed to converge (status=2):\n",
      "ABNORMAL_TERMINATION_IN_LNSRCH.\n",
      "\n",
      "Increase the number of iterations (max_iter) or scale the data as shown in:\n",
      "    https://scikit-learn.org/stable/modules/preprocessing.html\n",
      "  _check_optimize_result(\"lbfgs\", opt_res)\n",
      "C:\\Users\\Laur\\anaconda3\\envs\\IntroducereInDataScience\\lib\\site-packages\\sklearn\\gaussian_process\\kernels.py:411: ConvergenceWarning: The optimal value found for dimension 0 of parameter sigma_0 is close to the specified upper bound 100000.0. Increasing the bound and calling fit again may find a better value.\n",
      "  warnings.warn(\"The optimal value found for \"\n",
      "C:\\Users\\Laur\\anaconda3\\envs\\IntroducereInDataScience\\lib\\site-packages\\sklearn\\gaussian_process\\_gpr.py:509: ConvergenceWarning: lbfgs failed to converge (status=2):\n",
      "ABNORMAL_TERMINATION_IN_LNSRCH.\n",
      "\n",
      "Increase the number of iterations (max_iter) or scale the data as shown in:\n",
      "    https://scikit-learn.org/stable/modules/preprocessing.html\n",
      "  _check_optimize_result(\"lbfgs\", opt_res)\n",
      "C:\\Users\\Laur\\anaconda3\\envs\\IntroducereInDataScience\\lib\\site-packages\\sklearn\\gaussian_process\\kernels.py:411: ConvergenceWarning: The optimal value found for dimension 0 of parameter sigma_0 is close to the specified upper bound 100000.0. Increasing the bound and calling fit again may find a better value.\n",
      "  warnings.warn(\"The optimal value found for \"\n",
      "C:\\Users\\Laur\\anaconda3\\envs\\IntroducereInDataScience\\lib\\site-packages\\sklearn\\gaussian_process\\_gpr.py:509: ConvergenceWarning: lbfgs failed to converge (status=2):\n",
      "ABNORMAL_TERMINATION_IN_LNSRCH.\n",
      "\n",
      "Increase the number of iterations (max_iter) or scale the data as shown in:\n",
      "    https://scikit-learn.org/stable/modules/preprocessing.html\n",
      "  _check_optimize_result(\"lbfgs\", opt_res)\n"
     ]
    },
    {
     "name": "stdout",
     "output_type": "stream",
     "text": [
      "{'alpha': 0.01, 'kernel': DotProduct(sigma_0=0.1)}\n"
     ]
    },
    {
     "name": "stderr",
     "output_type": "stream",
     "text": [
      "C:\\Users\\Laur\\anaconda3\\envs\\IntroducereInDataScience\\lib\\site-packages\\sklearn\\gaussian_process\\_gpr.py:509: ConvergenceWarning: lbfgs failed to converge (status=2):\n",
      "ABNORMAL_TERMINATION_IN_LNSRCH.\n",
      "\n",
      "Increase the number of iterations (max_iter) or scale the data as shown in:\n",
      "    https://scikit-learn.org/stable/modules/preprocessing.html\n",
      "  _check_optimize_result(\"lbfgs\", opt_res)\n",
      "C:\\Users\\Laur\\anaconda3\\envs\\IntroducereInDataScience\\lib\\site-packages\\sklearn\\gaussian_process\\kernels.py:411: ConvergenceWarning: The optimal value found for dimension 0 of parameter sigma_0 is close to the specified upper bound 100000.0. Increasing the bound and calling fit again may find a better value.\n",
      "  warnings.warn(\"The optimal value found for \"\n"
     ]
    }
   ],
   "source": [
    "grid_search = GridSearchCV(estimator=regression, param_grid=parameter_grid, cv=5, scoring='neg_mean_squared_error')\n",
    "grid_search.fit(CPU_X_scaled, CPU_y)\n",
    "best_parameters = grid_search.best_params_\n",
    "print(best_parameters)"
   ]
  },
  {
   "cell_type": "code",
   "execution_count": 94,
   "metadata": {},
   "outputs": [
    {
     "name": "stderr",
     "output_type": "stream",
     "text": [
      "C:\\Users\\Laur\\anaconda3\\envs\\IntroducereInDataScience\\lib\\site-packages\\sklearn\\gaussian_process\\kernels.py:411: ConvergenceWarning: The optimal value found for dimension 0 of parameter sigma_0 is close to the specified upper bound 100000.0. Increasing the bound and calling fit again may find a better value.\n",
      "  warnings.warn(\"The optimal value found for \"\n",
      "C:\\Users\\Laur\\anaconda3\\envs\\IntroducereInDataScience\\lib\\site-packages\\sklearn\\gaussian_process\\_gpr.py:509: ConvergenceWarning: lbfgs failed to converge (status=2):\n",
      "ABNORMAL_TERMINATION_IN_LNSRCH.\n",
      "\n",
      "Increase the number of iterations (max_iter) or scale the data as shown in:\n",
      "    https://scikit-learn.org/stable/modules/preprocessing.html\n",
      "  _check_optimize_result(\"lbfgs\", opt_res)\n",
      "C:\\Users\\Laur\\anaconda3\\envs\\IntroducereInDataScience\\lib\\site-packages\\sklearn\\gaussian_process\\_gpr.py:509: ConvergenceWarning: lbfgs failed to converge (status=2):\n",
      "ABNORMAL_TERMINATION_IN_LNSRCH.\n",
      "\n",
      "Increase the number of iterations (max_iter) or scale the data as shown in:\n",
      "    https://scikit-learn.org/stable/modules/preprocessing.html\n",
      "  _check_optimize_result(\"lbfgs\", opt_res)\n",
      "C:\\Users\\Laur\\anaconda3\\envs\\IntroducereInDataScience\\lib\\site-packages\\sklearn\\gaussian_process\\_gpr.py:509: ConvergenceWarning: lbfgs failed to converge (status=2):\n",
      "ABNORMAL_TERMINATION_IN_LNSRCH.\n",
      "\n",
      "Increase the number of iterations (max_iter) or scale the data as shown in:\n",
      "    https://scikit-learn.org/stable/modules/preprocessing.html\n",
      "  _check_optimize_result(\"lbfgs\", opt_res)\n"
     ]
    }
   ],
   "source": [
    "tuned_regression = GaussianProcessRegressor(**best_parameters)\n",
    "grid_scores = cross_validate(tuned_regression, CPU_X_scaled, CPU_y, cv=5, scoring=['neg_mean_absolute_error', 'neg_mean_squared_error', 'neg_median_absolute_error'], return_train_score=True)\n",
    "CPU_model_df.iloc[6, 0] = 'GaussianProcessRegressor'\n",
    "CPU_model_df.iloc[6, 1] = 'GridSearchCV'\n",
    "CPU_model_df.iloc[6, 2] = grid_scores['test_neg_mean_absolute_error'].mean()\n",
    "CPU_model_df.iloc[6, 3] = grid_scores['test_neg_mean_squared_error'].mean()\n",
    "CPU_model_df.iloc[6, 4] = grid_scores['test_neg_median_absolute_error'].mean()\n",
    "CPU_model_df.iloc[6, 5] = grid_scores['train_neg_mean_absolute_error'].mean()\n",
    "CPU_model_df.iloc[6, 6] = grid_scores['train_neg_mean_squared_error'].mean()\n",
    "CPU_model_df.iloc[6, 7] = grid_scores['train_neg_median_absolute_error'].mean()\n",
    "CPU_model_df.iloc[6, 8] = grid_scores['fit_time'].mean()\n",
    "CPU_model_df.iloc[6, 9] = grid_scores['score_time'].mean()"
   ]
  },
  {
   "cell_type": "code",
   "execution_count": 95,
   "metadata": {},
   "outputs": [
    {
     "name": "stderr",
     "output_type": "stream",
     "text": [
      "C:\\Users\\Laur\\anaconda3\\envs\\IntroducereInDataScience\\lib\\site-packages\\sklearn\\model_selection\\_search.py:285: UserWarning: The total space of parameters 8 is smaller than n_iter=10. Running 8 iterations. For exhaustive searches, use GridSearchCV.\n",
      "  warnings.warn(\n",
      "C:\\Users\\Laur\\anaconda3\\envs\\IntroducereInDataScience\\lib\\site-packages\\sklearn\\gaussian_process\\kernels.py:402: ConvergenceWarning: The optimal value found for dimension 0 of parameter length_scale is close to the specified lower bound 1e-05. Decreasing the bound and calling fit again may find a better value.\n",
      "  warnings.warn(\"The optimal value found for \"\n",
      "C:\\Users\\Laur\\anaconda3\\envs\\IntroducereInDataScience\\lib\\site-packages\\sklearn\\gaussian_process\\kernels.py:402: ConvergenceWarning: The optimal value found for dimension 0 of parameter length_scale is close to the specified lower bound 1e-05. Decreasing the bound and calling fit again may find a better value.\n",
      "  warnings.warn(\"The optimal value found for \"\n",
      "C:\\Users\\Laur\\anaconda3\\envs\\IntroducereInDataScience\\lib\\site-packages\\sklearn\\gaussian_process\\kernels.py:402: ConvergenceWarning: The optimal value found for dimension 0 of parameter length_scale is close to the specified lower bound 1e-05. Decreasing the bound and calling fit again may find a better value.\n",
      "  warnings.warn(\"The optimal value found for \"\n",
      "C:\\Users\\Laur\\anaconda3\\envs\\IntroducereInDataScience\\lib\\site-packages\\sklearn\\gaussian_process\\kernels.py:402: ConvergenceWarning: The optimal value found for dimension 0 of parameter length_scale is close to the specified lower bound 1e-05. Decreasing the bound and calling fit again may find a better value.\n",
      "  warnings.warn(\"The optimal value found for \"\n",
      "C:\\Users\\Laur\\anaconda3\\envs\\IntroducereInDataScience\\lib\\site-packages\\sklearn\\gaussian_process\\kernels.py:402: ConvergenceWarning: The optimal value found for dimension 0 of parameter length_scale is close to the specified lower bound 1e-05. Decreasing the bound and calling fit again may find a better value.\n",
      "  warnings.warn(\"The optimal value found for \"\n",
      "C:\\Users\\Laur\\anaconda3\\envs\\IntroducereInDataScience\\lib\\site-packages\\sklearn\\gaussian_process\\kernels.py:402: ConvergenceWarning: The optimal value found for dimension 0 of parameter length_scale is close to the specified lower bound 1e-05. Decreasing the bound and calling fit again may find a better value.\n",
      "  warnings.warn(\"The optimal value found for \"\n",
      "C:\\Users\\Laur\\anaconda3\\envs\\IntroducereInDataScience\\lib\\site-packages\\sklearn\\gaussian_process\\kernels.py:402: ConvergenceWarning: The optimal value found for dimension 0 of parameter length_scale is close to the specified lower bound 1e-05. Decreasing the bound and calling fit again may find a better value.\n",
      "  warnings.warn(\"The optimal value found for \"\n",
      "C:\\Users\\Laur\\anaconda3\\envs\\IntroducereInDataScience\\lib\\site-packages\\sklearn\\gaussian_process\\kernels.py:402: ConvergenceWarning: The optimal value found for dimension 0 of parameter length_scale is close to the specified lower bound 1e-05. Decreasing the bound and calling fit again may find a better value.\n",
      "  warnings.warn(\"The optimal value found for \"\n",
      "C:\\Users\\Laur\\anaconda3\\envs\\IntroducereInDataScience\\lib\\site-packages\\sklearn\\gaussian_process\\kernels.py:402: ConvergenceWarning: The optimal value found for dimension 0 of parameter length_scale is close to the specified lower bound 1e-05. Decreasing the bound and calling fit again may find a better value.\n",
      "  warnings.warn(\"The optimal value found for \"\n",
      "C:\\Users\\Laur\\anaconda3\\envs\\IntroducereInDataScience\\lib\\site-packages\\sklearn\\gaussian_process\\kernels.py:402: ConvergenceWarning: The optimal value found for dimension 0 of parameter length_scale is close to the specified lower bound 1e-05. Decreasing the bound and calling fit again may find a better value.\n",
      "  warnings.warn(\"The optimal value found for \"\n",
      "C:\\Users\\Laur\\anaconda3\\envs\\IntroducereInDataScience\\lib\\site-packages\\sklearn\\gaussian_process\\kernels.py:402: ConvergenceWarning: The optimal value found for dimension 0 of parameter length_scale is close to the specified lower bound 1e-05. Decreasing the bound and calling fit again may find a better value.\n",
      "  warnings.warn(\"The optimal value found for \"\n",
      "C:\\Users\\Laur\\anaconda3\\envs\\IntroducereInDataScience\\lib\\site-packages\\sklearn\\gaussian_process\\kernels.py:402: ConvergenceWarning: The optimal value found for dimension 0 of parameter length_scale is close to the specified lower bound 1e-05. Decreasing the bound and calling fit again may find a better value.\n",
      "  warnings.warn(\"The optimal value found for \"\n",
      "C:\\Users\\Laur\\anaconda3\\envs\\IntroducereInDataScience\\lib\\site-packages\\sklearn\\gaussian_process\\kernels.py:402: ConvergenceWarning: The optimal value found for dimension 0 of parameter length_scale is close to the specified lower bound 1e-05. Decreasing the bound and calling fit again may find a better value.\n",
      "  warnings.warn(\"The optimal value found for \"\n",
      "C:\\Users\\Laur\\anaconda3\\envs\\IntroducereInDataScience\\lib\\site-packages\\sklearn\\gaussian_process\\kernels.py:402: ConvergenceWarning: The optimal value found for dimension 0 of parameter length_scale is close to the specified lower bound 1e-05. Decreasing the bound and calling fit again may find a better value.\n",
      "  warnings.warn(\"The optimal value found for \"\n",
      "C:\\Users\\Laur\\anaconda3\\envs\\IntroducereInDataScience\\lib\\site-packages\\sklearn\\gaussian_process\\kernels.py:402: ConvergenceWarning: The optimal value found for dimension 0 of parameter length_scale is close to the specified lower bound 1e-05. Decreasing the bound and calling fit again may find a better value.\n",
      "  warnings.warn(\"The optimal value found for \"\n",
      "C:\\Users\\Laur\\anaconda3\\envs\\IntroducereInDataScience\\lib\\site-packages\\sklearn\\gaussian_process\\kernels.py:402: ConvergenceWarning: The optimal value found for dimension 0 of parameter length_scale is close to the specified lower bound 1e-05. Decreasing the bound and calling fit again may find a better value.\n",
      "  warnings.warn(\"The optimal value found for \"\n",
      "C:\\Users\\Laur\\anaconda3\\envs\\IntroducereInDataScience\\lib\\site-packages\\sklearn\\gaussian_process\\kernels.py:402: ConvergenceWarning: The optimal value found for dimension 0 of parameter length_scale is close to the specified lower bound 1e-05. Decreasing the bound and calling fit again may find a better value.\n",
      "  warnings.warn(\"The optimal value found for \"\n",
      "C:\\Users\\Laur\\anaconda3\\envs\\IntroducereInDataScience\\lib\\site-packages\\sklearn\\gaussian_process\\kernels.py:411: ConvergenceWarning: The optimal value found for dimension 0 of parameter sigma_0 is close to the specified upper bound 100000.0. Increasing the bound and calling fit again may find a better value.\n",
      "  warnings.warn(\"The optimal value found for \"\n",
      "C:\\Users\\Laur\\anaconda3\\envs\\IntroducereInDataScience\\lib\\site-packages\\sklearn\\gaussian_process\\_gpr.py:509: ConvergenceWarning: lbfgs failed to converge (status=2):\n",
      "ABNORMAL_TERMINATION_IN_LNSRCH.\n",
      "\n",
      "Increase the number of iterations (max_iter) or scale the data as shown in:\n",
      "    https://scikit-learn.org/stable/modules/preprocessing.html\n",
      "  _check_optimize_result(\"lbfgs\", opt_res)\n",
      "C:\\Users\\Laur\\anaconda3\\envs\\IntroducereInDataScience\\lib\\site-packages\\sklearn\\gaussian_process\\_gpr.py:509: ConvergenceWarning: lbfgs failed to converge (status=2):\n",
      "ABNORMAL_TERMINATION_IN_LNSRCH.\n",
      "\n",
      "Increase the number of iterations (max_iter) or scale the data as shown in:\n",
      "    https://scikit-learn.org/stable/modules/preprocessing.html\n",
      "  _check_optimize_result(\"lbfgs\", opt_res)\n",
      "C:\\Users\\Laur\\anaconda3\\envs\\IntroducereInDataScience\\lib\\site-packages\\sklearn\\gaussian_process\\_gpr.py:509: ConvergenceWarning: lbfgs failed to converge (status=2):\n",
      "ABNORMAL_TERMINATION_IN_LNSRCH.\n",
      "\n",
      "Increase the number of iterations (max_iter) or scale the data as shown in:\n",
      "    https://scikit-learn.org/stable/modules/preprocessing.html\n",
      "  _check_optimize_result(\"lbfgs\", opt_res)\n",
      "C:\\Users\\Laur\\anaconda3\\envs\\IntroducereInDataScience\\lib\\site-packages\\sklearn\\gaussian_process\\_gpr.py:509: ConvergenceWarning: lbfgs failed to converge (status=2):\n",
      "ABNORMAL_TERMINATION_IN_LNSRCH.\n",
      "\n",
      "Increase the number of iterations (max_iter) or scale the data as shown in:\n",
      "    https://scikit-learn.org/stable/modules/preprocessing.html\n",
      "  _check_optimize_result(\"lbfgs\", opt_res)\n"
     ]
    },
    {
     "name": "stderr",
     "output_type": "stream",
     "text": [
      "C:\\Users\\Laur\\anaconda3\\envs\\IntroducereInDataScience\\lib\\site-packages\\sklearn\\gaussian_process\\kernels.py:411: ConvergenceWarning: The optimal value found for dimension 0 of parameter sigma_0 is close to the specified upper bound 100000.0. Increasing the bound and calling fit again may find a better value.\n",
      "  warnings.warn(\"The optimal value found for \"\n",
      "C:\\Users\\Laur\\anaconda3\\envs\\IntroducereInDataScience\\lib\\site-packages\\sklearn\\gaussian_process\\_gpr.py:509: ConvergenceWarning: lbfgs failed to converge (status=2):\n",
      "ABNORMAL_TERMINATION_IN_LNSRCH.\n",
      "\n",
      "Increase the number of iterations (max_iter) or scale the data as shown in:\n",
      "    https://scikit-learn.org/stable/modules/preprocessing.html\n",
      "  _check_optimize_result(\"lbfgs\", opt_res)\n",
      "C:\\Users\\Laur\\anaconda3\\envs\\IntroducereInDataScience\\lib\\site-packages\\sklearn\\gaussian_process\\kernels.py:411: ConvergenceWarning: The optimal value found for dimension 0 of parameter sigma_0 is close to the specified upper bound 100000.0. Increasing the bound and calling fit again may find a better value.\n",
      "  warnings.warn(\"The optimal value found for \"\n",
      "C:\\Users\\Laur\\anaconda3\\envs\\IntroducereInDataScience\\lib\\site-packages\\sklearn\\gaussian_process\\_gpr.py:509: ConvergenceWarning: lbfgs failed to converge (status=2):\n",
      "ABNORMAL_TERMINATION_IN_LNSRCH.\n",
      "\n",
      "Increase the number of iterations (max_iter) or scale the data as shown in:\n",
      "    https://scikit-learn.org/stable/modules/preprocessing.html\n",
      "  _check_optimize_result(\"lbfgs\", opt_res)\n"
     ]
    },
    {
     "name": "stdout",
     "output_type": "stream",
     "text": [
      "{'kernel': DotProduct(sigma_0=0.1), 'alpha': 0.01}\n"
     ]
    },
    {
     "name": "stderr",
     "output_type": "stream",
     "text": [
      "C:\\Users\\Laur\\anaconda3\\envs\\IntroducereInDataScience\\lib\\site-packages\\sklearn\\gaussian_process\\_gpr.py:509: ConvergenceWarning: lbfgs failed to converge (status=2):\n",
      "ABNORMAL_TERMINATION_IN_LNSRCH.\n",
      "\n",
      "Increase the number of iterations (max_iter) or scale the data as shown in:\n",
      "    https://scikit-learn.org/stable/modules/preprocessing.html\n",
      "  _check_optimize_result(\"lbfgs\", opt_res)\n",
      "C:\\Users\\Laur\\anaconda3\\envs\\IntroducereInDataScience\\lib\\site-packages\\sklearn\\gaussian_process\\kernels.py:411: ConvergenceWarning: The optimal value found for dimension 0 of parameter sigma_0 is close to the specified upper bound 100000.0. Increasing the bound and calling fit again may find a better value.\n",
      "  warnings.warn(\"The optimal value found for \"\n"
     ]
    }
   ],
   "source": [
    "random_search = RandomizedSearchCV(estimator=regression, param_distributions=parameter_grid, cv=5, scoring='neg_mean_squared_error')\n",
    "random_search.fit(CPU_X_scaled, CPU_y)\n",
    "best_parameters = random_search.best_params_\n",
    "print(best_parameters)"
   ]
  },
  {
   "cell_type": "code",
   "execution_count": 96,
   "metadata": {},
   "outputs": [
    {
     "name": "stderr",
     "output_type": "stream",
     "text": [
      "C:\\Users\\Laur\\anaconda3\\envs\\IntroducereInDataScience\\lib\\site-packages\\sklearn\\gaussian_process\\kernels.py:411: ConvergenceWarning: The optimal value found for dimension 0 of parameter sigma_0 is close to the specified upper bound 100000.0. Increasing the bound and calling fit again may find a better value.\n",
      "  warnings.warn(\"The optimal value found for \"\n",
      "C:\\Users\\Laur\\anaconda3\\envs\\IntroducereInDataScience\\lib\\site-packages\\sklearn\\gaussian_process\\_gpr.py:509: ConvergenceWarning: lbfgs failed to converge (status=2):\n",
      "ABNORMAL_TERMINATION_IN_LNSRCH.\n",
      "\n",
      "Increase the number of iterations (max_iter) or scale the data as shown in:\n",
      "    https://scikit-learn.org/stable/modules/preprocessing.html\n",
      "  _check_optimize_result(\"lbfgs\", opt_res)\n",
      "C:\\Users\\Laur\\anaconda3\\envs\\IntroducereInDataScience\\lib\\site-packages\\sklearn\\gaussian_process\\_gpr.py:509: ConvergenceWarning: lbfgs failed to converge (status=2):\n",
      "ABNORMAL_TERMINATION_IN_LNSRCH.\n",
      "\n",
      "Increase the number of iterations (max_iter) or scale the data as shown in:\n",
      "    https://scikit-learn.org/stable/modules/preprocessing.html\n",
      "  _check_optimize_result(\"lbfgs\", opt_res)\n",
      "C:\\Users\\Laur\\anaconda3\\envs\\IntroducereInDataScience\\lib\\site-packages\\sklearn\\gaussian_process\\_gpr.py:509: ConvergenceWarning: lbfgs failed to converge (status=2):\n",
      "ABNORMAL_TERMINATION_IN_LNSRCH.\n",
      "\n",
      "Increase the number of iterations (max_iter) or scale the data as shown in:\n",
      "    https://scikit-learn.org/stable/modules/preprocessing.html\n",
      "  _check_optimize_result(\"lbfgs\", opt_res)\n"
     ]
    },
    {
     "name": "stdout",
     "output_type": "stream",
     "text": [
      "                      Model     Search_strategy  test_neg_mean_absolute_error  \\\n",
      "0          LinearRegression        GridSearchCV                    -43.378262   \n",
      "1          LinearRegression  RandomizedSearchCV                    -43.378262   \n",
      "2     DecisionTreeRegressor        GridSearchCV                    -52.701758   \n",
      "3     DecisionTreeRegressor  RandomizedSearchCV                    -54.459100   \n",
      "4               KernelRidge        GridSearchCV                    -47.222355   \n",
      "5               KernelRidge  RandomizedSearchCV                    -47.222355   \n",
      "6  GaussianProcessRegressor        GridSearchCV                    -43.327007   \n",
      "7  GaussianProcessRegressor  RandomizedSearchCV                    -43.327007   \n",
      "8                       0.0                 0.0                      0.000000   \n",
      "9                       0.0                 0.0                      0.000000   \n",
      "\n",
      "   test_neg_mean_squared_error  test_neg_median_absolute_error  \\\n",
      "0                 -6383.656697                      -27.053792   \n",
      "1                 -6383.656697                      -27.053792   \n",
      "2                -13353.272434                      -24.085735   \n",
      "3                -15169.740479                      -22.279448   \n",
      "4                 -8067.967074                      -30.918495   \n",
      "5                 -8067.967074                      -30.918495   \n",
      "6                 -6367.059231                      -27.077930   \n",
      "7                 -6367.059231                      -27.077930   \n",
      "8                     0.000000                        0.000000   \n",
      "9                     0.000000                        0.000000   \n",
      "\n",
      "   train_neg_mean_absolute_error  train_neg_mean_squared_error  \\\n",
      "0                     -36.695674                  -3243.698611   \n",
      "1                     -36.695674                  -3243.698611   \n",
      "2                     -47.505936                 -11006.196351   \n",
      "3                     -54.789366                 -14417.968844   \n",
      "4                     -39.472751                  -3987.727118   \n",
      "5                     -39.472751                  -3987.727118   \n",
      "6                     -36.664309                  -3243.095266   \n",
      "7                     -36.664309                  -3243.095266   \n",
      "8                       0.000000                      0.000000   \n",
      "9                       0.000000                      0.000000   \n",
      "\n",
      "   train_neg_median_absolute_error  fit_time  score_time  \n",
      "0                       -25.581576  0.001032    0.000466  \n",
      "1                       -25.581576  0.001130    0.000768  \n",
      "2                       -15.530619  0.000472    0.000879  \n",
      "3                       -17.832162  0.000399    0.000599  \n",
      "4                       -24.955848  0.001406    0.000793  \n",
      "5                       -24.955848  0.001100    0.000906  \n",
      "6                       -25.468359  0.047273    0.000598  \n",
      "7                       -25.468359  0.048284    0.000592  \n",
      "8                         0.000000  0.000000    0.000000  \n",
      "9                         0.000000  0.000000    0.000000  \n"
     ]
    }
   ],
   "source": [
    "tuned_regression = GaussianProcessRegressor(**best_parameters)\n",
    "grid_scores = cross_validate(tuned_regression, CPU_X_scaled, CPU_y, cv=5, scoring=['neg_mean_absolute_error', 'neg_mean_squared_error', 'neg_median_absolute_error'], return_train_score=True)\n",
    "CPU_model_df.iloc[7, 0] = 'GaussianProcessRegressor'\n",
    "CPU_model_df.iloc[7, 1] = 'RandomizedSearchCV'\n",
    "CPU_model_df.iloc[7, 2] = grid_scores['test_neg_mean_absolute_error'].mean()\n",
    "CPU_model_df.iloc[7, 3] = grid_scores['test_neg_mean_squared_error'].mean()\n",
    "CPU_model_df.iloc[7, 4] = grid_scores['test_neg_median_absolute_error'].mean()\n",
    "CPU_model_df.iloc[7, 5] = grid_scores['train_neg_mean_absolute_error'].mean()\n",
    "CPU_model_df.iloc[7, 6] = grid_scores['train_neg_mean_squared_error'].mean()\n",
    "CPU_model_df.iloc[7, 7] = grid_scores['train_neg_median_absolute_error'].mean()\n",
    "CPU_model_df.iloc[7, 8] = grid_scores['fit_time'].mean()\n",
    "CPU_model_df.iloc[7, 9] = grid_scores['score_time'].mean()\n",
    "\n",
    "print(CPU_model_df)"
   ]
  },
  {
   "cell_type": "markdown",
   "metadata": {},
   "source": [
    "### LogisticRegression"
   ]
  },
  {
   "cell_type": "code",
   "execution_count": 97,
   "metadata": {},
   "outputs": [],
   "source": [
    "from sklearn.linear_model import LogisticRegression"
   ]
  },
  {
   "cell_type": "code",
   "execution_count": 98,
   "metadata": {},
   "outputs": [],
   "source": [
    "regression = LogisticRegression()\n",
    "parameter_grid = {'penalty': ['l1', 'l2'], 'C': np.logspace(-4, 4, 20), 'solver':['liblinear'], 'max_iter':[1e4]}"
   ]
  },
  {
   "cell_type": "code",
   "execution_count": 99,
   "metadata": {},
   "outputs": [
    {
     "name": "stderr",
     "output_type": "stream",
     "text": [
      "C:\\Users\\Laur\\anaconda3\\envs\\IntroducereInDataScience\\lib\\site-packages\\sklearn\\model_selection\\_split.py:666: UserWarning: The least populated class in y has only 1 members, which is less than n_splits=5.\n",
      "  warnings.warn((\"The least populated class in y has only %d\"\n"
     ]
    },
    {
     "name": "stdout",
     "output_type": "stream",
     "text": [
      "{'C': 1438.44988828766, 'max_iter': 10000.0, 'penalty': 'l2', 'solver': 'liblinear'}\n"
     ]
    }
   ],
   "source": [
    "grid_search = GridSearchCV(estimator=regression, param_grid=parameter_grid, cv=5, scoring='neg_mean_squared_error')\n",
    "grid_search.fit(CPU_X_scaled, CPU_y)\n",
    "best_parameters = grid_search.best_params_\n",
    "print(best_parameters)"
   ]
  },
  {
   "cell_type": "code",
   "execution_count": 100,
   "metadata": {},
   "outputs": [
    {
     "name": "stderr",
     "output_type": "stream",
     "text": [
      "C:\\Users\\Laur\\anaconda3\\envs\\IntroducereInDataScience\\lib\\site-packages\\sklearn\\model_selection\\_split.py:666: UserWarning: The least populated class in y has only 1 members, which is less than n_splits=5.\n",
      "  warnings.warn((\"The least populated class in y has only %d\"\n"
     ]
    }
   ],
   "source": [
    "tuned_regression = LogisticRegression(**best_parameters)\n",
    "grid_scores = cross_validate(tuned_regression, CPU_X_scaled, CPU_y, cv=5, scoring=['neg_mean_absolute_error', 'neg_mean_squared_error', 'neg_median_absolute_error'], return_train_score=True)\n",
    "CPU_model_df.iloc[8, 0] = 'LogisticRegression'\n",
    "CPU_model_df.iloc[8, 1] = 'GridSearchCV'\n",
    "CPU_model_df.iloc[8, 2] = grid_scores['test_neg_mean_absolute_error'].mean()\n",
    "CPU_model_df.iloc[8, 3] = grid_scores['test_neg_mean_squared_error'].mean()\n",
    "CPU_model_df.iloc[8, 4] = grid_scores['test_neg_median_absolute_error'].mean()\n",
    "CPU_model_df.iloc[8, 5] = grid_scores['train_neg_mean_absolute_error'].mean()\n",
    "CPU_model_df.iloc[8, 6] = grid_scores['train_neg_mean_squared_error'].mean()\n",
    "CPU_model_df.iloc[8, 7] = grid_scores['train_neg_median_absolute_error'].mean()\n",
    "CPU_model_df.iloc[8, 8] = grid_scores['fit_time'].mean()\n",
    "CPU_model_df.iloc[8, 9] = grid_scores['score_time'].mean()"
   ]
  },
  {
   "cell_type": "code",
   "execution_count": 101,
   "metadata": {},
   "outputs": [
    {
     "name": "stderr",
     "output_type": "stream",
     "text": [
      "C:\\Users\\Laur\\anaconda3\\envs\\IntroducereInDataScience\\lib\\site-packages\\sklearn\\model_selection\\_split.py:666: UserWarning: The least populated class in y has only 1 members, which is less than n_splits=5.\n",
      "  warnings.warn((\"The least populated class in y has only %d\"\n"
     ]
    },
    {
     "name": "stdout",
     "output_type": "stream",
     "text": [
      "{'solver': 'liblinear', 'penalty': 'l2', 'max_iter': 10000.0, 'C': 206.913808111479}\n"
     ]
    }
   ],
   "source": [
    "random_search = RandomizedSearchCV(estimator=regression, param_distributions=parameter_grid, cv=5, scoring='neg_mean_squared_error')\n",
    "random_search.fit(CPU_X_scaled, CPU_y)\n",
    "best_parameters = random_search.best_params_\n",
    "print(best_parameters)"
   ]
  },
  {
   "cell_type": "code",
   "execution_count": 102,
   "metadata": {},
   "outputs": [
    {
     "name": "stdout",
     "output_type": "stream",
     "text": [
      "                      Model     Search_strategy  test_neg_mean_absolute_error  \\\n",
      "0          LinearRegression        GridSearchCV                    -43.378262   \n",
      "1          LinearRegression  RandomizedSearchCV                    -43.378262   \n",
      "2     DecisionTreeRegressor        GridSearchCV                    -52.701758   \n",
      "3     DecisionTreeRegressor  RandomizedSearchCV                    -54.459100   \n",
      "4               KernelRidge        GridSearchCV                    -47.222355   \n",
      "5               KernelRidge  RandomizedSearchCV                    -47.222355   \n",
      "6  GaussianProcessRegressor        GridSearchCV                    -43.327007   \n",
      "7  GaussianProcessRegressor  RandomizedSearchCV                    -43.327007   \n",
      "8        LogisticRegression        GridSearchCV                    -47.049245   \n",
      "9        LogisticRegression  RandomizedSearchCV                    -47.965157   \n",
      "\n",
      "   test_neg_mean_squared_error  test_neg_median_absolute_error  \\\n",
      "0                 -6383.656697                      -27.053792   \n",
      "1                 -6383.656697                      -27.053792   \n",
      "2                -13353.272434                      -24.085735   \n",
      "3                -15169.740479                      -22.279448   \n",
      "4                 -8067.967074                      -30.918495   \n",
      "5                 -8067.967074                      -30.918495   \n",
      "6                 -6367.059231                      -27.077930   \n",
      "7                 -6367.059231                      -27.077930   \n",
      "8                 -8983.801394                      -15.800000   \n",
      "9                 -9431.606504                      -17.600000   \n",
      "\n",
      "   train_neg_mean_absolute_error  train_neg_mean_squared_error  \\\n",
      "0                     -36.695674                  -3243.698611   \n",
      "1                     -36.695674                  -3243.698611   \n",
      "2                     -47.505936                 -11006.196351   \n",
      "3                     -54.789366                 -14417.968844   \n",
      "4                     -39.472751                  -3987.727118   \n",
      "5                     -39.472751                  -3987.727118   \n",
      "6                     -36.664309                  -3243.095266   \n",
      "7                     -36.664309                  -3243.095266   \n",
      "8                     -12.373460                   -659.393449   \n",
      "9                     -18.516460                  -1490.295259   \n",
      "\n",
      "   train_neg_median_absolute_error  fit_time  score_time  \n",
      "0                       -25.581576  0.001032    0.000466  \n",
      "1                       -25.581576  0.001130    0.000768  \n",
      "2                       -15.530619  0.000472    0.000879  \n",
      "3                       -17.832162  0.000399    0.000599  \n",
      "4                       -24.955848  0.001406    0.000793  \n",
      "5                       -24.955848  0.001100    0.000906  \n",
      "6                       -25.468359  0.047273    0.000598  \n",
      "7                       -25.468359  0.048284    0.000592  \n",
      "8                        -3.600000  0.021260    0.000601  \n",
      "9                        -8.000000  0.016969    0.000605  \n"
     ]
    },
    {
     "name": "stderr",
     "output_type": "stream",
     "text": [
      "C:\\Users\\Laur\\anaconda3\\envs\\IntroducereInDataScience\\lib\\site-packages\\sklearn\\model_selection\\_split.py:666: UserWarning: The least populated class in y has only 1 members, which is less than n_splits=5.\n",
      "  warnings.warn((\"The least populated class in y has only %d\"\n"
     ]
    }
   ],
   "source": [
    "tuned_regression = LogisticRegression(**best_parameters)\n",
    "grid_scores = cross_validate(tuned_regression, CPU_X_scaled, CPU_y, cv=5, scoring=['neg_mean_absolute_error', 'neg_mean_squared_error', 'neg_median_absolute_error'], return_train_score=True)\n",
    "CPU_model_df.iloc[9, 0] = 'LogisticRegression'\n",
    "CPU_model_df.iloc[9, 1] = 'RandomizedSearchCV'\n",
    "CPU_model_df.iloc[9, 2] = grid_scores['test_neg_mean_absolute_error'].mean()\n",
    "CPU_model_df.iloc[9, 3] = grid_scores['test_neg_mean_squared_error'].mean()\n",
    "CPU_model_df.iloc[9, 4] = grid_scores['test_neg_median_absolute_error'].mean()\n",
    "CPU_model_df.iloc[9, 5] = grid_scores['train_neg_mean_absolute_error'].mean()\n",
    "CPU_model_df.iloc[9, 6] = grid_scores['train_neg_mean_squared_error'].mean()\n",
    "CPU_model_df.iloc[9, 7] = grid_scores['train_neg_median_absolute_error'].mean()\n",
    "CPU_model_df.iloc[9, 8] = grid_scores['fit_time'].mean()\n",
    "CPU_model_df.iloc[9, 9] = grid_scores['score_time'].mean()\n",
    "\n",
    "print(CPU_model_df)"
   ]
  },
  {
   "cell_type": "markdown",
   "metadata": {},
   "source": [
    "## Boston Housing"
   ]
  },
  {
   "cell_type": "code",
   "execution_count": 3,
   "metadata": {},
   "outputs": [
    {
     "data": {
      "text/html": [
       "<div>\n",
       "<style scoped>\n",
       "    .dataframe tbody tr th:only-of-type {\n",
       "        vertical-align: middle;\n",
       "    }\n",
       "\n",
       "    .dataframe tbody tr th {\n",
       "        vertical-align: top;\n",
       "    }\n",
       "\n",
       "    .dataframe thead th {\n",
       "        text-align: right;\n",
       "    }\n",
       "</style>\n",
       "<table border=\"1\" class=\"dataframe\">\n",
       "  <thead>\n",
       "    <tr style=\"text-align: right;\">\n",
       "      <th></th>\n",
       "      <th>0</th>\n",
       "    </tr>\n",
       "  </thead>\n",
       "  <tbody>\n",
       "    <tr>\n",
       "      <th>0</th>\n",
       "      <td>0.00632  18.00   2.310  0  0.5380  6.5750  65...</td>\n",
       "    </tr>\n",
       "    <tr>\n",
       "      <th>1</th>\n",
       "      <td>0.02731   0.00   7.070  0  0.4690  6.4210  78...</td>\n",
       "    </tr>\n",
       "    <tr>\n",
       "      <th>2</th>\n",
       "      <td>0.02729   0.00   7.070  0  0.4690  7.1850  61...</td>\n",
       "    </tr>\n",
       "    <tr>\n",
       "      <th>3</th>\n",
       "      <td>0.03237   0.00   2.180  0  0.4580  6.9980  45...</td>\n",
       "    </tr>\n",
       "    <tr>\n",
       "      <th>4</th>\n",
       "      <td>0.06905   0.00   2.180  0  0.4580  7.1470  54...</td>\n",
       "    </tr>\n",
       "  </tbody>\n",
       "</table>\n",
       "</div>"
      ],
      "text/plain": [
       "                                                   0\n",
       "0   0.00632  18.00   2.310  0  0.5380  6.5750  65...\n",
       "1   0.02731   0.00   7.070  0  0.4690  6.4210  78...\n",
       "2   0.02729   0.00   7.070  0  0.4690  7.1850  61...\n",
       "3   0.03237   0.00   2.180  0  0.4580  6.9980  45...\n",
       "4   0.06905   0.00   2.180  0  0.4580  7.1470  54..."
      ]
     },
     "execution_count": 3,
     "metadata": {},
     "output_type": "execute_result"
    }
   ],
   "source": [
    "BH_data = pd.read_csv(\"data/housing.data\", delimiter = \"\\t\", header = None)\n",
    "BH_data.head()"
   ]
  },
  {
   "cell_type": "markdown",
   "metadata": {},
   "source": [
    "## Wisconsin Breast Cancer"
   ]
  },
  {
   "cell_type": "code",
   "execution_count": 4,
   "metadata": {},
   "outputs": [
    {
     "name": "stdout",
     "output_type": "stream",
     "text": [
      "<class 'pandas.core.frame.DataFrame'>\n",
      "RangeIndex: 194 entries, 0 to 193\n",
      "Data columns (total 33 columns):\n",
      " #   Column  Non-Null Count  Dtype  \n",
      "---  ------  --------------  -----  \n",
      " 0   0       194 non-null    int64  \n",
      " 1   1       194 non-null    float64\n",
      " 2   2       194 non-null    float64\n",
      " 3   3       194 non-null    float64\n",
      " 4   4       194 non-null    float64\n",
      " 5   5       194 non-null    float64\n",
      " 6   6       194 non-null    float64\n",
      " 7   7       194 non-null    float64\n",
      " 8   8       194 non-null    float64\n",
      " 9   9       194 non-null    float64\n",
      " 10  10      194 non-null    float64\n",
      " 11  11      194 non-null    float64\n",
      " 12  12      194 non-null    float64\n",
      " 13  13      194 non-null    float64\n",
      " 14  14      194 non-null    float64\n",
      " 15  15      194 non-null    float64\n",
      " 16  16      194 non-null    float64\n",
      " 17  17      194 non-null    float64\n",
      " 18  18      194 non-null    float64\n",
      " 19  19      194 non-null    float64\n",
      " 20  20      194 non-null    float64\n",
      " 21  21      194 non-null    float64\n",
      " 22  22      194 non-null    float64\n",
      " 23  23      194 non-null    float64\n",
      " 24  24      194 non-null    float64\n",
      " 25  25      194 non-null    float64\n",
      " 26  26      194 non-null    float64\n",
      " 27  27      194 non-null    float64\n",
      " 28  28      194 non-null    float64\n",
      " 29  29      194 non-null    float64\n",
      " 30  30      194 non-null    float64\n",
      " 31  31      194 non-null    float64\n",
      " 32  32      194 non-null    int64  \n",
      "dtypes: float64(31), int64(2)\n",
      "memory usage: 50.1 KB\n"
     ]
    }
   ],
   "source": [
    "WBC_data = pd.read_csv(\"data/r_wpbc.data\", delimiter = \",\", header = None)\n",
    "WBC_data.head()\n",
    "assert not np.isnan(WBC_data.values.sum())\n",
    "WBC_data.info()\n"
   ]
  },
  {
   "cell_type": "markdown",
   "metadata": {},
   "source": [
    "## Comunities and Crime"
   ]
  },
  {
   "cell_type": "code",
   "execution_count": 5,
   "metadata": {},
   "outputs": [
    {
     "data": {
      "text/html": [
       "<div>\n",
       "<style scoped>\n",
       "    .dataframe tbody tr th:only-of-type {\n",
       "        vertical-align: middle;\n",
       "    }\n",
       "\n",
       "    .dataframe tbody tr th {\n",
       "        vertical-align: top;\n",
       "    }\n",
       "\n",
       "    .dataframe thead th {\n",
       "        text-align: right;\n",
       "    }\n",
       "</style>\n",
       "<table border=\"1\" class=\"dataframe\">\n",
       "  <thead>\n",
       "    <tr style=\"text-align: right;\">\n",
       "      <th></th>\n",
       "      <th>5</th>\n",
       "      <th>6</th>\n",
       "      <th>7</th>\n",
       "      <th>8</th>\n",
       "      <th>9</th>\n",
       "      <th>10</th>\n",
       "      <th>11</th>\n",
       "      <th>12</th>\n",
       "      <th>13</th>\n",
       "      <th>14</th>\n",
       "      <th>...</th>\n",
       "      <th>118</th>\n",
       "      <th>119</th>\n",
       "      <th>120</th>\n",
       "      <th>121</th>\n",
       "      <th>122</th>\n",
       "      <th>123</th>\n",
       "      <th>124</th>\n",
       "      <th>125</th>\n",
       "      <th>126</th>\n",
       "      <th>127</th>\n",
       "    </tr>\n",
       "  </thead>\n",
       "  <tbody>\n",
       "    <tr>\n",
       "      <th>0</th>\n",
       "      <td>0.19</td>\n",
       "      <td>0.33</td>\n",
       "      <td>0.02</td>\n",
       "      <td>0.90</td>\n",
       "      <td>0.12</td>\n",
       "      <td>0.17</td>\n",
       "      <td>0.34</td>\n",
       "      <td>0.47</td>\n",
       "      <td>0.29</td>\n",
       "      <td>0.32</td>\n",
       "      <td>...</td>\n",
       "      <td>0.12</td>\n",
       "      <td>0.26</td>\n",
       "      <td>0.20</td>\n",
       "      <td>0.06</td>\n",
       "      <td>0.04</td>\n",
       "      <td>0.9</td>\n",
       "      <td>0.5</td>\n",
       "      <td>0.32</td>\n",
       "      <td>0.14</td>\n",
       "      <td>0.20</td>\n",
       "    </tr>\n",
       "    <tr>\n",
       "      <th>16</th>\n",
       "      <td>0.15</td>\n",
       "      <td>0.31</td>\n",
       "      <td>0.40</td>\n",
       "      <td>0.63</td>\n",
       "      <td>0.14</td>\n",
       "      <td>0.06</td>\n",
       "      <td>0.58</td>\n",
       "      <td>0.72</td>\n",
       "      <td>0.65</td>\n",
       "      <td>0.47</td>\n",
       "      <td>...</td>\n",
       "      <td>0.06</td>\n",
       "      <td>0.39</td>\n",
       "      <td>0.84</td>\n",
       "      <td>0.06</td>\n",
       "      <td>0.06</td>\n",
       "      <td>0.91</td>\n",
       "      <td>0.5</td>\n",
       "      <td>0.88</td>\n",
       "      <td>0.26</td>\n",
       "      <td>0.49</td>\n",
       "    </tr>\n",
       "    <tr>\n",
       "      <th>20</th>\n",
       "      <td>0.25</td>\n",
       "      <td>0.54</td>\n",
       "      <td>0.05</td>\n",
       "      <td>0.71</td>\n",
       "      <td>0.48</td>\n",
       "      <td>0.30</td>\n",
       "      <td>0.42</td>\n",
       "      <td>0.48</td>\n",
       "      <td>0.28</td>\n",
       "      <td>0.32</td>\n",
       "      <td>...</td>\n",
       "      <td>0.09</td>\n",
       "      <td>0.46</td>\n",
       "      <td>0.05</td>\n",
       "      <td>0.09</td>\n",
       "      <td>0.05</td>\n",
       "      <td>0.88</td>\n",
       "      <td>0.5</td>\n",
       "      <td>0.76</td>\n",
       "      <td>0.13</td>\n",
       "      <td>0.34</td>\n",
       "    </tr>\n",
       "    <tr>\n",
       "      <th>21</th>\n",
       "      <td>1.00</td>\n",
       "      <td>0.42</td>\n",
       "      <td>0.47</td>\n",
       "      <td>0.59</td>\n",
       "      <td>0.12</td>\n",
       "      <td>0.05</td>\n",
       "      <td>0.41</td>\n",
       "      <td>0.53</td>\n",
       "      <td>0.34</td>\n",
       "      <td>0.33</td>\n",
       "      <td>...</td>\n",
       "      <td>1.00</td>\n",
       "      <td>0.07</td>\n",
       "      <td>0.15</td>\n",
       "      <td>1</td>\n",
       "      <td>0.35</td>\n",
       "      <td>0.73</td>\n",
       "      <td>0</td>\n",
       "      <td>0.31</td>\n",
       "      <td>0.21</td>\n",
       "      <td>0.69</td>\n",
       "    </tr>\n",
       "    <tr>\n",
       "      <th>23</th>\n",
       "      <td>0.11</td>\n",
       "      <td>0.43</td>\n",
       "      <td>0.04</td>\n",
       "      <td>0.89</td>\n",
       "      <td>0.09</td>\n",
       "      <td>0.06</td>\n",
       "      <td>0.45</td>\n",
       "      <td>0.48</td>\n",
       "      <td>0.31</td>\n",
       "      <td>0.46</td>\n",
       "      <td>...</td>\n",
       "      <td>0.16</td>\n",
       "      <td>0.12</td>\n",
       "      <td>0.07</td>\n",
       "      <td>0.04</td>\n",
       "      <td>0.01</td>\n",
       "      <td>0.81</td>\n",
       "      <td>1</td>\n",
       "      <td>0.56</td>\n",
       "      <td>0.09</td>\n",
       "      <td>0.63</td>\n",
       "    </tr>\n",
       "  </tbody>\n",
       "</table>\n",
       "<p>5 rows × 123 columns</p>\n",
       "</div>"
      ],
      "text/plain": [
       "     5     6     7     8     9     10    11    12    13    14   ...   118  \\\n",
       "0   0.19  0.33  0.02  0.90  0.12  0.17  0.34  0.47  0.29  0.32  ...  0.12   \n",
       "16  0.15  0.31  0.40  0.63  0.14  0.06  0.58  0.72  0.65  0.47  ...  0.06   \n",
       "20  0.25  0.54  0.05  0.71  0.48  0.30  0.42  0.48  0.28  0.32  ...  0.09   \n",
       "21  1.00  0.42  0.47  0.59  0.12  0.05  0.41  0.53  0.34  0.33  ...  1.00   \n",
       "23  0.11  0.43  0.04  0.89  0.09  0.06  0.45  0.48  0.31  0.46  ...  0.16   \n",
       "\n",
       "     119   120   121   122   123  124   125   126   127  \n",
       "0   0.26  0.20  0.06  0.04   0.9  0.5  0.32  0.14  0.20  \n",
       "16  0.39  0.84  0.06  0.06  0.91  0.5  0.88  0.26  0.49  \n",
       "20  0.46  0.05  0.09  0.05  0.88  0.5  0.76  0.13  0.34  \n",
       "21  0.07  0.15     1  0.35  0.73    0  0.31  0.21  0.69  \n",
       "23  0.12  0.07  0.04  0.01  0.81    1  0.56  0.09  0.63  \n",
       "\n",
       "[5 rows x 123 columns]"
      ]
     },
     "execution_count": 5,
     "metadata": {},
     "output_type": "execute_result"
    }
   ],
   "source": [
    "com_crime_data = pd.read_csv(\"data/communities.data\", delimiter = \",\", header = None)\n",
    "com_crime_data = com_crime_data.drop(range(5), axis = 1)\n",
    "com_crime_data = com_crime_data.replace(\"?\", np.nan)\n",
    "com_crime_data = com_crime_data.dropna()\n",
    "com_crime_data.head()"
   ]
  },
  {
   "cell_type": "code",
   "execution_count": null,
   "metadata": {},
   "outputs": [],
   "source": []
  },
  {
   "cell_type": "code",
   "execution_count": 6,
   "metadata": {},
   "outputs": [],
   "source": [
    "from sklearn.datasets import load_iris\n",
    "from sklearn.linear_model import LogisticRegression"
   ]
  },
  {
   "cell_type": "code",
   "execution_count": null,
   "metadata": {},
   "outputs": [],
   "source": []
  },
  {
   "cell_type": "code",
   "execution_count": null,
   "metadata": {},
   "outputs": [],
   "source": []
  },
  {
   "cell_type": "code",
   "execution_count": null,
   "metadata": {},
   "outputs": [],
   "source": []
  }
 ],
 "metadata": {
  "kernelspec": {
   "display_name": "Python 3",
   "language": "python",
   "name": "python3"
  },
  "language_info": {
   "codemirror_mode": {
    "name": "ipython",
    "version": 3
   },
   "file_extension": ".py",
   "mimetype": "text/x-python",
   "name": "python",
   "nbconvert_exporter": "python",
   "pygments_lexer": "ipython3",
   "version": "3.8.8"
  },
  "toc": {
   "base_numbering": 1,
   "nav_menu": {
    "height": "317.997px",
    "width": "435.994px"
   },
   "number_sections": true,
   "sideBar": true,
   "skip_h1_title": false,
   "title_cell": "Table of Contents",
   "title_sidebar": "Contents",
   "toc_cell": false,
   "toc_position": {},
   "toc_section_display": true,
   "toc_window_display": false
  }
 },
 "nbformat": 4,
 "nbformat_minor": 4
}
