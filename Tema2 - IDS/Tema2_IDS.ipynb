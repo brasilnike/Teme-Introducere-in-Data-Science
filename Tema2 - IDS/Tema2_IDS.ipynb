{
 "cells": [
  {
   "cell_type": "markdown",
   "metadata": {},
   "source": [
    "# Exercitii cu functii"
   ]
  },
  {
   "cell_type": "markdown",
   "metadata": {},
   "source": [
    "1. Scrieti o functie care determina daca un numar este egal cu suma divizorilor sai, mai putin numarul insusi. Exemplu:\n",
    "* divizorii lui 6 sunt 1,2,3,6; suma celor mai mici decat 6 este 1+2+3 = 6.\n",
    "* numarul 8 nu este in aceasta situatie: 1+2+4 = 7 != 8."
   ]
  },
  {
   "cell_type": "code",
   "execution_count": 20,
   "metadata": {},
   "outputs": [
    {
     "data": {
      "text/plain": [
       "True"
      ]
     },
     "execution_count": 20,
     "metadata": {},
     "output_type": "execute_result"
    }
   ],
   "source": [
    "from typing import List\n",
    "def check_divisor_sum(n: int) -> bool:\n",
    "    \"\"\"\n",
    "    Check if the sum of the divisors of a number smaller than the number itself is equal to the respective number.\n",
    "    For example: 6 = 1 + 2 + 3\n",
    "                 8 != 1 + 2 + 4\n",
    "    :param n: strictly positive integer\n",
    "    :returns: True or false if the condition for :param n: is satisfied\n",
    "    \"\"\"\n",
    "    sum:int = 0\n",
    "    lista_divizori: List[int] = [i for i in range(1, n) if n % i == 0]\n",
    "    for div in lista_divizori:\n",
    "        sum += div\n",
    "    if (sum != n):\n",
    "        return False\n",
    "    return True\n",
    "\n",
    "check_divisor_sum(6)"
   ]
  },
  {
   "cell_type": "markdown",
   "metadata": {},
   "source": [
    "Folositi aceasta functie pentru a afisa toate numerele cu proprietatea ceruta pana la un *n* dat"
   ]
  },
  {
   "cell_type": "code",
   "execution_count": 21,
   "metadata": {},
   "outputs": [
    {
     "name": "stdout",
     "output_type": "stream",
     "text": [
      "6\n",
      "28\n",
      "496\n"
     ]
    }
   ],
   "source": [
    "def check_condition(n: int) -> None:\n",
    "    for i in range(1, n):\n",
    "        if (check_divisor_sum(i) == True):\n",
    "            print(i)\n",
    "\n",
    "check_condition(1000)"
   ]
  },
  {
   "cell_type": "markdown",
   "metadata": {},
   "source": [
    "2. Scrieti o functie care determina daca un sir de caractere - presupus a fi scris cu litere mici - este sau nu palindrom. Un palindrom este un sir de caractere care citit de la dreapta la stanga are acelasi continut ca si citirea de la stanga la dreapta. In functie de valoarea unui indicator boolean *ignore_spaces*, avand valoarea implicita False, se vor ignora (elimina) sau nu spatiile. Daca sirul dat ca parametru nu are toate literele mici, se va arunca exceptie."
   ]
  },
  {
   "cell_type": "code",
   "execution_count": null,
   "metadata": {},
   "outputs": [],
   "source": []
  },
  {
   "cell_type": "markdown",
   "metadata": {},
   "source": [
    "3. Sa se scrie o functie care primeste caile catre doua fisiere de tip text. Despre fiecare fiecare se stie ca arecate un numar pe linie (numarul de linii din fisiere este necunoscut apriori). Functia va returna un tuplu cu:lista de numere care apar in ambele fisiere si diferenta maxima care exista intre numerele din al doileafisier si numerele din primul fisier. Numerele pot fi cu semn, intregi sau in virgula mobila (functia trebuie samearga in orice situatie). Incercati sa folositi functii predefinite din Python (sau NumPy) si collectioncomprehension. Exemplu:\n",
    "* *a.txt* contine numerele 1,2,3,4 (cate unul pe o linie); *b.txt* contine 2,3,4,10 (cate un numar pe o linie). Functia va returna tuplul ([2,3,4], 9). Numarul 9 este realizat de 10 - 1."
   ]
  },
  {
   "cell_type": "code",
   "execution_count": 72,
   "metadata": {},
   "outputs": [
    {
     "data": {
      "text/plain": [
       "([2, 4, 3], 9)"
      ]
     },
     "execution_count": 72,
     "metadata": {},
     "output_type": "execute_result"
    }
   ],
   "source": [
    "from typing import Tuple, List, Union\n",
    "\n",
    "def file_numbers(path1: str, path2: str) -> Tuple:\n",
    "    set_fis1: set = set(open(path1, 'r').read().split('\\n'))\n",
    "    set_fis2: set = set(open(path2, 'r').read().split('\\n'))\n",
    "    flag: bool = False;\n",
    "    for x in set_fis1.union(set_fis2):\n",
    "        if ('.' in x):\n",
    "            flag = True\n",
    "    if (flag == True):\n",
    "        lista_numere: List[Union(int, float)] = [float(x) for x in set_fis1.union(set_fis2)]\n",
    "        intersectie: List[Union(int, float)] = [float(x) for x in set_fis1.intersection(set_fis2)]\n",
    "    else:\n",
    "        lista_numere: List[Union(int, float)] = [int(x) for x in set_fis1.union(set_fis2)]\n",
    "        intersectie: List[Union(int, float)] = [int(x) for x in set_fis1.intersection(set_fis2)]\n",
    "    lista_numere.sort()\n",
    "    result: Union(int, float) = lista_numere[-1] - lista_numere[0]\n",
    "    \n",
    "    return(intersectie, result)\n",
    "    \n",
    "file_numbers(\"a.txt\", \"b.txt\")"
   ]
  },
  {
   "cell_type": "markdown",
   "metadata": {},
   "source": [
    "4. Sa se scrie o functie *sum_divisors_digits care preia un numar natural strict pozitiv *n* si returneaza suma cifrelor divizorilor sai. Intr-o alta functie *black_hole* se apeleaza in mod repetat *sum_divisor_digit* pe numerele rezultate, pana cand se atinge un numar maxim de iteratii (implicit 1000) sau se ajunge la numarul 15. Puteti crea alte functii auxiliare. Exemple:\n",
    "* se pleaca de la n=15; divizorii sunt 1,3,5,15; suma cifrelor divizorilor este 1+3+5+1+5=15, acesta fiind rezultatul apelului *sum_divisors_digits(15)*. Functia *black_hole* se opreste deci dupa un singur apel al functie *sum_divisors_digits*\n",
    "* se pleaca de la n=21; divizorii sunt 1,3,7,21, iar *sum_divisors_digits(21)* este 1+3+7+2+1=14; se reia in functia *black_hole* apelul functiei *sum_divisors_digits* pana la epuizarea numarului de apeluri sau potentiala stabilizare in 15"
   ]
  },
  {
   "cell_type": "code",
   "execution_count": null,
   "metadata": {},
   "outputs": [],
   "source": []
  },
  {
   "cell_type": "markdown",
   "metadata": {},
   "source": [
    "5. Sa se scrie o functie care primeste doua dictionare si returneaza True daca primul dictionar este continut in al doilea si False altfel. Spunem ca un dictionar a este continut in dictionarul b daca toate cheile din a se gasesc printre cheile din b si pentru orice cheie c din a, a[c] == b[c]. Incercati sa folositi functii predefinite din Python(any, all), tipuri de date incluse in Python si collection comprehension"
   ]
  },
  {
   "cell_type": "code",
   "execution_count": 60,
   "metadata": {},
   "outputs": [
    {
     "name": "stdout",
     "output_type": "stream",
     "text": [
      "[1 3 5]\n"
     ]
    }
   ],
   "source": [
    "from typing import Dict, List\n",
    "\n",
    "def check_dictionaries(first: Dict, second: Dict) -> bool:\n",
    "    assert len(first) <= len(second), 'First dictionary is bigger than the second'\n",
    "    lista: Lista[bool] = [True if ((key) in second and first[key] == second[key]) else False for key in first]\n",
    "    return all(lista)\n",
    "    \n",
    "dict1 = {\n",
    "    'a': 1,\n",
    "    'b': 2,\n",
    "    'c': 3\n",
    "}\n",
    "dict2 = {\n",
    "    'a': 1,\n",
    "    'b': 2,\n",
    "    'c': 3,\n",
    "    'd': 4\n",
    "}\n",
    "\n",
    "check_dictionaries(dict1, dict2)\n",
    "a = np.array([1,2,3,4,5])\n",
    "print(a[0:5:2])"
   ]
  },
  {
   "cell_type": "markdown",
   "metadata": {},
   "source": [
    "# Exercitii cu NumPy"
   ]
  },
  {
   "cell_type": "markdown",
   "metadata": {},
   "source": [
    "1. Scrieti o functie care pentru un vector *a* dat, returneaza diferenta de ordinul intai intre elementele sale: *b[i] = a[i+1] - a[i]*. Scrieti apoi o alta functie care face acelasi lucru pentru o matrice, pe linii sau pe coloane. Exemple:\n",
    "* a=np.array([1, 2, 10, 3]); diff1_vector(a) va returna vectorul NumPy cu continutul (1, 8, -7).\n",
    "* a=np.array([[1, 2, 3], [40, 50, 60]]); diff1_mat(a, axis=0) returneaza o matrice cu o singura linie: [[39, 48, 57]]. diff1_mat(a, axis=1) returneaza o matrice cu 2x2: [[1, 1], [10, 10]]."
   ]
  },
  {
   "cell_type": "code",
   "execution_count": null,
   "metadata": {},
   "outputs": [],
   "source": []
  },
  {
   "cell_type": "markdown",
   "metadata": {},
   "source": [
    "2. Sa se scrie o functie care gaseste pozitiile maximelor locale dint-un vector numpy. Un maxim local este o valoare care are in vecinii imediati (indicele curent +-1, fara a iesi din vector) valori strict mai mici decat ea. Exemplu:\n",
    "* [-1, 3, -7, 1, 2, 6, 0, 1] => [1, 5, 7]"
   ]
  },
  {
   "cell_type": "code",
   "execution_count": 123,
   "metadata": {},
   "outputs": [
    {
     "data": {
      "text/plain": [
       "[array([1, 5, 7], dtype=int64)]"
      ]
     },
     "execution_count": 123,
     "metadata": {},
     "output_type": "execute_result"
    }
   ],
   "source": [
    "import numpy as np\n",
    "from scipy.signal import argrelextrema\n",
    "\n",
    "def local_maximum(array: np.ndarray) -> List[int]:\n",
    "    array = np.insert(array, 0, array[-1], axis=0)\n",
    "    array = np.append(array, array[1])\n",
    "    max_ind = [x - 1 for x in argrelextrema(array, np.greater)]\n",
    "    return max_ind\n",
    "    \n",
    "#     print(array - 1)\n",
    "#     result = np.where(array > array -1, 1, 0)\n",
    "#     result = np.array([i for i in range(1, array.size-1) if ((array[i] > array[i+1]) and (array[i] > array[i-1]))])\n",
    "#     return result\n",
    "\n",
    "a = np.array([-1, 3, -7, 1, 2, 6, 0, 1])\n",
    "b = np.array([0, 3, 2, -1, 2, -2, -1, -3])\n",
    "local_maximum(a)"
   ]
  },
  {
   "cell_type": "markdown",
   "metadata": {},
   "source": [
    "3. Pentru un vector NumPy dat, sa se calculeze toate ferestrele de o anumita lungime, cu o anumita dilatare. Lungimea unei ferestre inseamna numarul de elemente din vectorii rezultati, dilatare reprezinta peste cate elemente vecine se sare in construirea unei \"ferestre\". Exemple:\n",
    "* v = np.arrange(20), win_len=4, dilation=1 => [0,1,2,3], [1,2,3,4], [2,3,4,5], ... , [16,17,18,19]\n",
    "* v = np.arrange(20), win_len=3, dilation=2 => [0,2,4], [1,3,5], ... , [15, 17, 19]"
   ]
  },
  {
   "cell_type": "code",
   "execution_count": 154,
   "metadata": {},
   "outputs": [
    {
     "name": "stdout",
     "output_type": "stream",
     "text": [
      "[array([ 0,  4,  8, 12, 16]), array([ 1,  5,  9, 13, 17]), array([ 2,  6, 10, 14, 18]), array([ 3,  7, 11, 15, 19])]\n"
     ]
    }
   ],
   "source": [
    "def window_array_slice(array: np.ndarray, win_len: int = 3, dilation: int = 1):\n",
    "    if (win_len < 0 or win_len > array.size):\n",
    "        raise Exception('The dimension of the window cannot be smaller than 0 or larger than the size of the array')\n",
    "    if (dilation <= 0):\n",
    "        raise Exception('The dilation must be bigger than 0')\n",
    "        \n",
    "    result = [array[x:x+win_len*dilation:dilation] for x in range(array.size) if (x < array.size - win_len*dilation + dilation)]\n",
    "    print(result)\n",
    "\n",
    "window_array_slice(np.arange(20),5, 4)"
   ]
  },
  {
   "cell_type": "markdown",
   "metadata": {},
   "source": [
    "4. Descarcati setul de date Wine descris la \"https:://archive.ics.uci.edu/ml/datasets/Wine\" fisierul wine.data si incarcati-l intr-o matrice NumPy folosind np.genfromtxt. Alegeti aleator 35 de pozitii din cadrul matricei de valori, setati pe aceste pozitii NaN. Construiti o functie care, primind la intrare o matrice, returneaza o colectie cu indicii de linii respectiv de coloane in care se gasesc valori NaN, precum si matricea 'corectata': valorile NaN se umplu cu o valoare implicita data ca parametru al functiei dvs."
   ]
  },
  {
   "cell_type": "code",
   "execution_count": 208,
   "metadata": {},
   "outputs": [
    {
     "data": {
      "text/plain": [
       "([(118, 10),\n",
       "  (124, 13),\n",
       "  (12, 2),\n",
       "  (94, 5),\n",
       "  (64, 8),\n",
       "  (159, 3),\n",
       "  (166, 12),\n",
       "  (12, 5),\n",
       "  (132, 2),\n",
       "  (59, 13),\n",
       "  (160, 2),\n",
       "  (37, 5),\n",
       "  (4, 9),\n",
       "  (30, 6),\n",
       "  (146, 0),\n",
       "  (125, 2),\n",
       "  (123, 8),\n",
       "  (98, 4),\n",
       "  (87, 5),\n",
       "  (122, 12),\n",
       "  (138, 12),\n",
       "  (53, 1),\n",
       "  (63, 2),\n",
       "  (70, 11),\n",
       "  (133, 12),\n",
       "  (152, 7),\n",
       "  (85, 5),\n",
       "  (164, 8),\n",
       "  (115, 8),\n",
       "  (67, 4),\n",
       "  (158, 5),\n",
       "  (159, 10),\n",
       "  (155, 6),\n",
       "  (116, 10),\n",
       "  (19, 11)],\n",
       " array([[1.000e+00, 1.423e+01, 1.710e+00, ..., 1.040e+00, 3.920e+00,\n",
       "         1.065e+03],\n",
       "        [1.000e+00, 1.320e+01, 1.780e+00, ..., 1.050e+00, 3.400e+00,\n",
       "         1.050e+03],\n",
       "        [1.000e+00, 1.316e+01, 2.360e+00, ..., 1.030e+00, 3.170e+00,\n",
       "         1.185e+03],\n",
       "        ...,\n",
       "        [3.000e+00, 1.327e+01, 4.280e+00, ..., 5.900e-01, 1.560e+00,\n",
       "         8.350e+02],\n",
       "        [3.000e+00, 1.317e+01, 2.590e+00, ..., 6.000e-01, 1.620e+00,\n",
       "         8.400e+02],\n",
       "        [3.000e+00, 1.413e+01, 4.100e+00, ..., 6.100e-01, 1.600e+00,\n",
       "         5.600e+02]]))"
      ]
     },
     "execution_count": 208,
     "metadata": {},
     "output_type": "execute_result"
    }
   ],
   "source": [
    "import math\n",
    "\n",
    "def matrix_nan_check(path, value=4.0):\n",
    "    mat = np.genfromtxt(path, delimiter=\",\")\n",
    "    random_generated_number = 0\n",
    "    lista = []\n",
    "    while (random_generated_number < 35):\n",
    "        line_random_position=np.random.randint(mat.shape[0])\n",
    "        column_random_position=np.random.randint(mat.shape[1])\n",
    "        if(np.isnan(mat[line_random_position, column_random_position])):\n",
    "            continue\n",
    "        else:\n",
    "            mat[line_random_position, column_random_position] = math.nan\n",
    "            lista.append((line_random_position, column_random_position))\n",
    "            random_generated_number = random_generated_number + 1\n",
    "    \n",
    "    for element in lista:\n",
    "        mat[element[0], element[1]] = value        \n",
    "    return lista, mat\n",
    "\n",
    "matrix_nan_check(\"wine.data\")\n",
    "# lista, matrice = matrix_nan_check(\"wine.data\")\n",
    "# for element in lista:\n",
    "#     print(matrice[element[0], element[1]])\n"
   ]
  },
  {
   "cell_type": "markdown",
   "metadata": {},
   "source": [
    "5. Se da un vector *v* de numere floating point, un numar floating point *x* si un numar intreg *k>0, k<=len(v)*. Sa se scrie o functie care determina pozitiile celor mai apropiate k valori din v fata de x (k nearest neighbours, 1d)."
   ]
  },
  {
   "cell_type": "code",
   "execution_count": null,
   "metadata": {},
   "outputs": [],
   "source": []
  }
 ],
 "metadata": {
  "kernelspec": {
   "display_name": "Python 3",
   "language": "python",
   "name": "python3"
  },
  "language_info": {
   "codemirror_mode": {
    "name": "ipython",
    "version": 3
   },
   "file_extension": ".py",
   "mimetype": "text/x-python",
   "name": "python",
   "nbconvert_exporter": "python",
   "pygments_lexer": "ipython3",
   "version": "3.8.5"
  }
 },
 "nbformat": 4,
 "nbformat_minor": 4
}
