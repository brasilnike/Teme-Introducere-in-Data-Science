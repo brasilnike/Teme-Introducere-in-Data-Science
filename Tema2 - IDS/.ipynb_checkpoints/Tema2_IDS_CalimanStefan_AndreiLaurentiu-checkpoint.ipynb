{
 "cells": [
  {
   "cell_type": "markdown",
   "metadata": {},
   "source": [
    "# Exercitii cu functii"
   ]
  },
  {
   "cell_type": "markdown",
   "metadata": {},
   "source": [
    "1. Scrieti o functie care determina daca un numar este egal cu suma divizorilor sai, mai putin numarul insusi. Exemplu:\n",
    "* divizorii lui 6 sunt 1,2,3,6; suma celor mai mici decat 6 este 1+2+3 = 6.\n",
    "* numarul 8 nu este in aceasta situatie: 1+2+4 = 7 != 8."
   ]
  },
  {
   "cell_type": "code",
   "execution_count": 20,
   "metadata": {},
   "outputs": [
    {
     "data": {
      "text/plain": [
       "True"
      ]
     },
     "execution_count": 20,
     "metadata": {},
     "output_type": "execute_result"
    }
   ],
   "source": [
    "from typing import List\n",
    "def check_divisor_sum(n: int) -> bool:\n",
    "    \"\"\"\n",
    "    Check if the sum of the divisors of a number smaller than the number itself is equal to the respective number.\n",
    "    For example: 6 = 1 + 2 + 3\n",
    "                 8 != 1 + 2 + 4\n",
    "    :param n: strictly positive integer\n",
    "    :returns: True or false if the condition for :param n: is satisfied\n",
    "    \"\"\"\n",
    "    sum:int = 0\n",
    "    lista_divizori: List[int] = [i for i in range(1, n) if n % i == 0]\n",
    "    for div in lista_divizori:\n",
    "        sum += div\n",
    "    if (sum != n):\n",
    "        return False\n",
    "    return True\n",
    "\n",
    "check_divisor_sum(6)"
   ]
  },
  {
   "cell_type": "markdown",
   "metadata": {},
   "source": [
    "Folositi aceasta functie pentru a afisa toate numerele cu proprietatea ceruta pana la un *n* dat"
   ]
  },
  {
   "cell_type": "code",
   "execution_count": 21,
   "metadata": {},
   "outputs": [
    {
     "name": "stdout",
     "output_type": "stream",
     "text": [
      "6\n",
      "28\n",
      "496\n"
     ]
    }
   ],
   "source": [
    "def check_condition(n: int) -> None:\n",
    "    for i in range(1, n):\n",
    "        if (check_divisor_sum(i) == True):\n",
    "            print(i)\n",
    "\n",
    "check_condition(1000)"
   ]
  },
  {
   "cell_type": "markdown",
   "metadata": {},
   "source": [
    "2. Scrieti o functie care determina daca un sir de caractere - presupus a fi scris cu litere mici - este sau nu palindrom. Un palindrom este un sir de caractere care citit de la dreapta la stanga are acelasi continut ca si citirea de la stanga la dreapta. In functie de valoarea unui indicator boolean *ignore_spaces*, avand valoarea implicita False, se vor ignora (elimina) sau nu spatiile. Daca sirul dat ca parametru nu are toate literele mici, se va arunca exceptie."
   ]
  },
  {
   "cell_type": "code",
   "execution_count": 2,
   "metadata": {},
   "outputs": [
    {
     "data": {
      "text/plain": [
       "True"
      ]
     },
     "execution_count": 2,
     "metadata": {},
     "output_type": "execute_result"
    }
   ],
   "source": [
    "def is_palindrom(s: str, ignore_spaces: bool=False) -> bool:\n",
    "    \"\"\"\n",
    "    Check if a string is a palindrome or not\n",
    "    :param s: string that is supposed to be in lower case\n",
    "    :param ignore_spaces: boolean that tells the function if the spaces in the string should be ignored or not\n",
    "    :returns: returns True if the string is a palindrome or False otherwise\n",
    "    :raises Exception: if the string contains uppercase letters\n",
    "    \"\"\"\n",
    "    if(s.islower()==False):\n",
    "        raise Exception(\"Exista caractere cu majuscule\")\n",
    "    if(ignore_spaces==False):\n",
    "        inverse_s: str = s[::-1]\n",
    "        for i in range(0,len(s)):\n",
    "            if(s[i]!=inverse_s[i]):\n",
    "                return False\n",
    "        return True\n",
    "    else:\n",
    "        inverse_s:str = s[::-1].replace(\" \", \"\")\n",
    "        s_copy:str = s.replace(\" \", \"\")\n",
    "        for i in range(0,len(s_copy)):\n",
    "            if(s_copy[i]!=inverse_s[i]):\n",
    "                return False\n",
    "        return True\n",
    "is_palindrom('apa')"
   ]
  },
  {
   "cell_type": "markdown",
   "metadata": {},
   "source": [
    "3. Sa se scrie o functie care primeste caile catre doua fisiere de tip text. Despre fiecare fiecare se stie ca arecate un numar pe linie (numarul de linii din fisiere este necunoscut apriori). Functia va returna un tuplu cu:lista de numere care apar in ambele fisiere si diferenta maxima care exista intre numerele din al doilea fisier si numerele din primul fisier. Numerele pot fi cu semn, intregi sau in virgula mobila (functia trebuie sa mearga in orice situatie). Incercati sa folositi functii predefinite din Python (sau NumPy) si collection comprehension. Exemplu:\n",
    "* *a.txt* contine numerele 1,2,3,4 (cate unul pe o linie); *b.txt* contine 2,3,4,10 (cate un numar pe o linie). Functia va returna tuplul ([2,3,4], 9). Numarul 9 este realizat de 10 - 1."
   ]
  },
  {
   "cell_type": "code",
   "execution_count": 72,
   "metadata": {},
   "outputs": [
    {
     "data": {
      "text/plain": [
       "([2, 4, 3], 9)"
      ]
     },
     "execution_count": 72,
     "metadata": {},
     "output_type": "execute_result"
    }
   ],
   "source": [
    "from typing import Tuple, List, Union\n",
    "\n",
    "def file_numbers(path1: str, path2: str) -> Tuple:\n",
    "    \"\"\"\n",
    "    A function to check for common elements in 2 lists and calculate the maximum difference between elements in both lists\n",
    "    :param path1: string that represents the path to the first file\n",
    "    :param path2: string that represents the path to the second file\n",
    "    :returns: a tuple that contains a list of common elements in the lists and an int representing the maximum difference\n",
    "    \"\"\"\n",
    "    set_fis1: set = set(open(path1, 'r').read().split('\\n'))\n",
    "    set_fis2: set = set(open(path2, 'r').read().split('\\n'))\n",
    "    flag: bool = False;\n",
    "    for x in set_fis1.union(set_fis2):\n",
    "        if ('.' in x):\n",
    "            flag = True\n",
    "    if (flag == True):\n",
    "        lista_numere: List[Union(int, float)] = [float(x) for x in set_fis1.union(set_fis2)]\n",
    "        intersectie: List[Union(int, float)] = [float(x) for x in set_fis1.intersection(set_fis2)]\n",
    "    else:\n",
    "        lista_numere: List[Union(int, float)] = [int(x) for x in set_fis1.union(set_fis2)]\n",
    "        intersectie: List[Union(int, float)] = [int(x) for x in set_fis1.intersection(set_fis2)]\n",
    "    lista_numere.sort()\n",
    "    result: int = lista_numere[-1] - lista_numere[0]\n",
    "    \n",
    "    return(intersectie, result)\n",
    "    \n",
    "file_numbers(\"a.txt\", \"b.txt\")"
   ]
  },
  {
   "cell_type": "markdown",
   "metadata": {},
   "source": [
    "4. Sa se scrie o functie *sum_divisors_digits care preia un numar natural strict pozitiv *n* si returneaza suma cifrelor divizorilor sai. Intr-o alta functie *black_hole* se apeleaza in mod repetat *sum_divisor_digit* pe numerele rezultate, pana cand se atinge un numar maxim de iteratii (implicit 1000) sau se ajunge la numarul 15. Puteti crea alte functii auxiliare. Exemple:\n",
    "* se pleaca de la n=15; divizorii sunt 1,3,5,15; suma cifrelor divizorilor este 1+3+5+1+5=15, acesta fiind rezultatul apelului *sum_divisors_digits(15)*. Functia *black_hole* se opreste deci dupa un singur apel al functie *sum_divisors_digits*\n",
    "* se pleaca de la n=21; divizorii sunt 1,3,7,21, iar *sum_divisors_digits(21)* este 1+3+7+2+1=14; se reia in functia *black_hole* apelul functiei *sum_divisors_digits* pana la epuizarea numarului de apeluri sau potentiala stabilizare in 15"
   ]
  },
  {
   "cell_type": "code",
   "execution_count": 14,
   "metadata": {},
   "outputs": [
    {
     "data": {
      "text/plain": [
       "14"
      ]
     },
     "execution_count": 14,
     "metadata": {},
     "output_type": "execute_result"
    }
   ],
   "source": [
    "from typing import List\n",
    "\n",
    "def divisors(n: int) -> List[int]:\n",
    "    \"\"\"\n",
    "    Function that returns of a list of divisors of a given number\n",
    "    :param n: integer number\n",
    "    :returns: list of divisors of :param n:\n",
    "    \"\"\"\n",
    "    lista: List[int] = [i for i in range(1, n//2 + 1) if (n%i==0)]\n",
    "    lista.append(n)\n",
    "    return lista\n",
    "\n",
    "def sum_divisors_digits(n: int) -> int:\n",
    "    \"\"\"\n",
    "    Function that calculates the sum of the digits of the divisors of a given number\n",
    "    :param n: integer number\n",
    "    :retruns: integer number representing the sum of the digits of the number's divisors\n",
    "    \"\"\"\n",
    "    lista: List[int] = divisors(n)\n",
    "    s: int = 0\n",
    "    for el in lista:\n",
    "        aux: int = el\n",
    "        while(aux != 0):\n",
    "            s = s + aux%10\n",
    "            aux = aux // 10\n",
    "    return s\n",
    "    \n",
    "def black_hole(n: int, max_iterations: int= 1000) -> int:\n",
    "    \"\"\"\n",
    "    Function that does user defined number of iterations of the sum_divisors_digit() function or until sum_divisors_digit()\n",
    "returns 15\n",
    "    :param n: integer number\n",
    "    :param max_iterations: strictly positive integer number with the implicit value of 1000\n",
    "    :returns: integer number representing the output of sum_divisors_digit() function\n",
    "    :raises Exception: if max_iterations smaller than 1\n",
    "    \"\"\"\n",
    "    if(max_iterations < 1):\n",
    "        raise Exception('Number of iterations cannot be smaller than 1')\n",
    "    for i in range(max_iterations):\n",
    "        res: int = sum_divisors_digits(n)\n",
    "        if(res == 15):\n",
    "            break\n",
    "    return res\n",
    "        \n",
    "black_hole(21)"
   ]
  },
  {
   "cell_type": "markdown",
   "metadata": {},
   "source": [
    "5. Sa se scrie o functie care primeste doua dictionare si returneaza True daca primul dictionar este continut in al doilea si False altfel. Spunem ca un dictionar a este continut in dictionarul b daca toate cheile din a se gasesc printre cheile din b si pentru orice cheie c din a, a[c] == b[c]. Incercati sa folositi functii predefinite din Python(any, all), tipuri de date incluse in Python si collection comprehension"
   ]
  },
  {
   "cell_type": "code",
   "execution_count": 16,
   "metadata": {},
   "outputs": [
    {
     "data": {
      "text/plain": [
       "True"
      ]
     },
     "execution_count": 16,
     "metadata": {},
     "output_type": "execute_result"
    }
   ],
   "source": [
    "from typing import Dict, List\n",
    "\n",
    "def check_dictionaries(first: Dict, second: Dict) -> bool:\n",
    "    \"\"\"\n",
    "    Function that returns if a dictionary contains another dictionary. \n",
    "    A dictionary 'a' is contained by another one 'b' if all the keys 'key' in the first one are also in the second one and given any key from\n",
    "any key form the first dictionary a[key] == b[key].\n",
    "    :param first: a dictionary\n",
    "    :param second: a dictionary\n",
    "    :returns: True if the conditions are matched or False otherwise\n",
    "    \"\"\"\n",
    "    assert len(first) <= len(second), 'First dictionary is bigger than the second'\n",
    "    lista: Lista[bool] = [True if ((key) in second and first[key] == second[key]) else False for key in first]\n",
    "    return all(lista)\n",
    "    \n",
    "dict1 = {\n",
    "    'a': 1,\n",
    "    'b': 2,\n",
    "    'c': 3\n",
    "}\n",
    "dict2 = {\n",
    "    'a': 1,\n",
    "    'b': 2,\n",
    "    'c': 3,\n",
    "    'd': 4\n",
    "}\n",
    "\n",
    "check_dictionaries(dict1, dict2)"
   ]
  },
  {
   "cell_type": "markdown",
   "metadata": {},
   "source": [
    "# Exercitii cu NumPy"
   ]
  },
  {
   "cell_type": "markdown",
   "metadata": {},
   "source": [
    "1. Scrieti o functie care pentru un vector *a* dat, returneaza diferenta de ordinul intai intre elementele sale: *b[i] = a[i+1] - a[i]*. Scrieti apoi o alta functie care face acelasi lucru pentru o matrice, pe linii sau pe coloane. Exemple:\n",
    "* a=np.array([1, 2, 10, 3]); diff1_vector(a) va returna vectorul NumPy cu continutul (1, 8, -7).\n",
    "* a=np.array([[1, 2, 3], [40, 50, 60]]); diff1_mat(a, axis=0) returneaza o matrice cu o singura linie: [[39, 48, 57]]. diff1_mat(a, axis=1) returneaza o matrice cu 2x2: [[1, 1], [10, 10]]."
   ]
  },
  {
   "cell_type": "code",
   "execution_count": 20,
   "metadata": {},
   "outputs": [
    {
     "name": "stdout",
     "output_type": "stream",
     "text": [
      "[ 1  8 -7]\n",
      "Rezultatul este: [[ 1  1]\n",
      " [10 10]]\n"
     ]
    }
   ],
   "source": [
    "import numpy as np\n",
    "\n",
    "def diff1_vec(a: np.ndarray) -> np.ndarray:\n",
    "    \"\"\"\n",
    "    Functions that returns the first order difference of the elements of an array\n",
    "    :param a: array of integers\n",
    "    :returns: array of integers containing the first order difference of :param a:\n",
    "    \"\"\"\n",
    "    b:np.ndarray = np.zeros(len(a)-1, dtype = np.int8)\n",
    "    b = np.diff(a)\n",
    "    return b\n",
    "        \n",
    "def diff1_mat(a: np.ndarray, ax: int):\n",
    "    \"\"\"\n",
    "    Functions that returns the first order difference of the elements of an array given an axis\n",
    "    :param a: array of integers\n",
    "    :param ax: integer number representing the axis on which the function calculates the difference \n",
    "    :returns: array of integers containing the first order difference of :param a:\n",
    "    \"\"\"\n",
    "    b: np.ndarray = np.diff(a, axis = ax)\n",
    "    return b\n",
    "\n",
    "a1 = np.array([1,2,10,3])\n",
    "print(diff1_vec(a1))\n",
    "\n",
    "a2 = np.array([[1, 2, 3], [40, 50, 60]])\n",
    "print(\"Rezultatul este: {}\".format(diff1_mat(a2,1)))"
   ]
  },
  {
   "cell_type": "markdown",
   "metadata": {},
   "source": [
    "2. Sa se scrie o functie care gaseste pozitiile maximelor locale dint-un vector numpy. Un maxim local este o valoare care are in vecinii imediati (indicele curent +-1, fara a iesi din vector) valori strict mai mici decat ea. Exemplu:\n",
    "* [-1, 3, -7, 1, 2, 6, 0, 1] => [1, 5, 7]"
   ]
  },
  {
   "cell_type": "code",
   "execution_count": 19,
   "metadata": {},
   "outputs": [
    {
     "data": {
      "text/plain": [
       "[1, 5, 7]"
      ]
     },
     "execution_count": 19,
     "metadata": {},
     "output_type": "execute_result"
    }
   ],
   "source": [
    "import numpy as np\n",
    "from typing import List\n",
    "\n",
    "def local_maximum(array: np.ndarray) -> List[int]:\n",
    "    \"\"\"\n",
    "    Function that returns a list with the indexes of the local maximum elements in an array\n",
    "    :param array: array of numbers\n",
    "    :returns: list containing the indexes of the local maximum elements in :param array:\n",
    "    \"\"\"\n",
    "    array: np.ndarray = np.insert(array, 0, array[-1], axis=0)\n",
    "    array: np.ndarray = np.append(array, array[1])\n",
    "    max_ind: List[int] = [i-1 for i in range(1, array.size-1) if (array[i] > array[i-1] and array[i] > array[i+1])]\n",
    "    return max_ind\n",
    "\n",
    "a = np.array([-1, 3, -7, 1, 2, 6, 0, 1])\n",
    "b = np.array([0, 3, 2, -1, 2, -2, -1, -3])\n",
    "local_maximum(a)"
   ]
  },
  {
   "cell_type": "markdown",
   "metadata": {},
   "source": [
    "3. Pentru un vector NumPy dat, sa se calculeze toate ferestrele de o anumita lungime, cu o anumita dilatare. Lungimea unei ferestre inseamna numarul de elemente din vectorii rezultati, dilatare reprezinta peste cate elemente vecine se sare in construirea unei \"ferestre\". Exemple:\n",
    "* v = np.arrange(20), win_len=4, dilation=1 => [0,1,2,3], [1,2,3,4], [2,3,4,5], ... , [16,17,18,19]\n",
    "* v = np.arrange(20), win_len=3, dilation=2 => [0,2,4], [1,3,5], ... , [15, 17, 19]"
   ]
  },
  {
   "cell_type": "code",
   "execution_count": 29,
   "metadata": {},
   "outputs": [
    {
     "data": {
      "text/plain": [
       "[array([0, 2, 4]),\n",
       " array([1, 3, 5]),\n",
       " array([2, 4, 6]),\n",
       " array([3, 5, 7]),\n",
       " array([4, 6, 8]),\n",
       " array([5, 7, 9]),\n",
       " array([ 6,  8, 10]),\n",
       " array([ 7,  9, 11]),\n",
       " array([ 8, 10, 12]),\n",
       " array([ 9, 11, 13]),\n",
       " array([10, 12, 14]),\n",
       " array([11, 13, 15]),\n",
       " array([12, 14, 16]),\n",
       " array([13, 15, 17]),\n",
       " array([14, 16, 18]),\n",
       " array([15, 17, 19])]"
      ]
     },
     "execution_count": 29,
     "metadata": {},
     "output_type": "execute_result"
    }
   ],
   "source": [
    "from typing import List\n",
    "\n",
    "def window_array_slice(array: np.ndarray, win_len: int = 3, dilation: int = 1) -> List[np.ndarray]:\n",
    "    \"\"\"\n",
    "    Function that calculates windows of a given size with a given dilation in a given array\n",
    "    :param array: array of numbers\n",
    "    :param win_len: strictly positive integer that gives the size of the window\n",
    "                    implicit value is 3\n",
    "    :param dilation: strictly positive integer that gives the number of elements over which we jump in the making of the windows\n",
    "                    implicit value is 1\n",
    "    :retruns: a list of arrays of :param win_len: size with :param dilation: dilation\n",
    "    :raises Exception: if :param win_len: is smaller than 0 or larger than the size of :param array:\n",
    "    :raises Exception: if :param dilation: is smaller than 0\n",
    "    \"\"\"\n",
    "    if (win_len < 0 or win_len > array.size):\n",
    "        raise Exception('The dimension of the window cannot be smaller than 0 or larger than the size of the array')\n",
    "    if (dilation <= 0):\n",
    "        raise Exception('The dilation must be bigger than 0')\n",
    "        \n",
    "    result: List[np.ndarray] = [array[x:x+win_len*dilation:dilation] for x in range(array.size) if (x < array.size - win_len*dilation + dilation)]\n",
    "    return result\n",
    "\n",
    "window_array_slice(np.arange(20),3, 2)"
   ]
  },
  {
   "cell_type": "markdown",
   "metadata": {},
   "source": [
    "4. Descarcati setul de date Wine descris la \"https:://archive.ics.uci.edu/ml/datasets/Wine\" fisierul wine.data si incarcati-l intr-o matrice NumPy folosind np.genfromtxt. Alegeti aleator 35 de pozitii din cadrul matricei de valori, setati pe aceste pozitii NaN. Construiti o functie care, primind la intrare o matrice, returneaza o colectie cu indicii de linii respectiv de coloane in care se gasesc valori NaN, precum si matricea 'corectata': valorile NaN se umplu cu o valoare implicita data ca parametru al functiei dvs."
   ]
  },
  {
   "cell_type": "code",
   "execution_count": 34,
   "metadata": {},
   "outputs": [
    {
     "data": {
      "text/plain": [
       "([(123, 12),\n",
       "  (80, 2),\n",
       "  (52, 6),\n",
       "  (93, 9),\n",
       "  (109, 12),\n",
       "  (60, 7),\n",
       "  (58, 13),\n",
       "  (79, 6),\n",
       "  (84, 7),\n",
       "  (64, 3),\n",
       "  (91, 13),\n",
       "  (42, 8),\n",
       "  (20, 0),\n",
       "  (94, 5),\n",
       "  (60, 1),\n",
       "  (32, 8),\n",
       "  (24, 1),\n",
       "  (27, 3),\n",
       "  (79, 5),\n",
       "  (52, 11),\n",
       "  (33, 12),\n",
       "  (10, 11),\n",
       "  (175, 7),\n",
       "  (33, 6),\n",
       "  (22, 0),\n",
       "  (148, 3),\n",
       "  (4, 2),\n",
       "  (144, 8),\n",
       "  (174, 7),\n",
       "  (70, 4),\n",
       "  (14, 8),\n",
       "  (96, 1),\n",
       "  (89, 11),\n",
       "  (39, 2),\n",
       "  (5, 4)],\n",
       " array([[1.000e+00, 1.423e+01, 1.710e+00, ..., 1.040e+00, 3.920e+00,\n",
       "         1.065e+03],\n",
       "        [1.000e+00, 1.320e+01, 1.780e+00, ..., 1.050e+00, 3.400e+00,\n",
       "         1.050e+03],\n",
       "        [1.000e+00, 1.316e+01, 2.360e+00, ..., 1.030e+00, 3.170e+00,\n",
       "         1.185e+03],\n",
       "        ...,\n",
       "        [3.000e+00, 1.327e+01, 4.280e+00, ..., 5.900e-01, 1.560e+00,\n",
       "         8.350e+02],\n",
       "        [3.000e+00, 1.317e+01, 2.590e+00, ..., 6.000e-01, 1.620e+00,\n",
       "         8.400e+02],\n",
       "        [3.000e+00, 1.413e+01, 4.100e+00, ..., 6.100e-01, 1.600e+00,\n",
       "         5.600e+02]]))"
      ]
     },
     "execution_count": 34,
     "metadata": {},
     "output_type": "execute_result"
    }
   ],
   "source": [
    "import math\n",
    "from typing import List,Tuple\n",
    "\n",
    "def matrix_nan_check(path: str, value: float=4.0) -> Tuple:\n",
    "    \"\"\"\n",
    "    Function that loads a matrix from a given file, generates 35 random matrix positions and replaces the values in that positions\n",
    "with Nan, and returns a Tuple containing a list of the random generated positions and a matrix in which that positions are replaced \n",
    "with a given value\n",
    "    :param path: string representing the path to the input file\n",
    "    :param value: float number with implicit value = 4.0\n",
    "    :returns: tuple containing a list of the random generated position and a matrix in which that positions are replaced with :param value:\n",
    "    \"\"\"\n",
    "    mat: np.ndarray = np.genfromtxt(path, delimiter=\",\")\n",
    "    random_generated_number: int = 0\n",
    "    lista: List[Tuple] = []\n",
    "    while (random_generated_number < 35):\n",
    "        line_random_position: int=np.random.randint(mat.shape[0])\n",
    "        column_random_position: int=np.random.randint(mat.shape[1])\n",
    "        if(np.isnan(mat[line_random_position, column_random_position])):\n",
    "            continue\n",
    "        else:\n",
    "            mat[line_random_position, column_random_position] = math.nan\n",
    "            lista.append((line_random_position, column_random_position))\n",
    "            random_generated_number = random_generated_number + 1\n",
    "    \n",
    "    for element in lista:\n",
    "        mat[element[0], element[1]] = value        \n",
    "    return lista, mat\n",
    "\n",
    "matrix_nan_check(\"wine.data\")\n",
    "\n",
    "#Pentru verificare\n",
    "# lista, matrice = matrix_nan_check(\"wine.data\")\n",
    "# for element in lista:\n",
    "#     print(matrice[element[0], element[1]])\n"
   ]
  },
  {
   "cell_type": "markdown",
   "metadata": {},
   "source": [
    "5. Se da un vector *v* de numere floating point, un numar floating point *x* si un numar intreg *k>0, k<=len(v)*. Sa se scrie o functie care determina pozitiile celor mai apropiate k valori din v fata de x (k nearest neighbours, 1d)."
   ]
  },
  {
   "cell_type": "code",
   "execution_count": 4,
   "metadata": {},
   "outputs": [
    {
     "name": "stdout",
     "output_type": "stream",
     "text": [
      "5\n",
      "2\n",
      "3\n"
     ]
    },
    {
     "data": {
      "text/plain": [
       "[5, 2, 3]"
      ]
     },
     "execution_count": 4,
     "metadata": {},
     "output_type": "execute_result"
    }
   ],
   "source": [
    "import math\n",
    "import sys\n",
    "import numpy as np\n",
    "from typing import List\n",
    "\n",
    "def closest(v: np.ndarray, x: float, k: int) -> None:\n",
    "    \"\"\"\n",
    "    Function that calculates the k nearest neighbours, 1d in a given array\n",
    "    :param v: array of float numbers\n",
    "    :param x: float number\n",
    "    :param k: strictly positive integer\n",
    "    :raises Exception: if k<0 or k bigger than the size of :param v:\n",
    "    :returns: return the idexes of :param k: neighbours\n",
    "    \"\"\"\n",
    "    if (k>len(v) or k<=0):\n",
    "        raise Exception(\"k is bigger than the size of the array or k is smaller than 0\")\n",
    "    lista: List[float] = [np.abs(v[i] -x) for i in range(len(v))]\n",
    "    indexes: List[int] =[] \n",
    "    for i in range(k):\n",
    "        aux: int = lista.index(min(lista))\n",
    "        indexes.append(aux)\n",
    "        lista[aux] = sys.float_info.max\n",
    "    return indexes\n",
    "        \n",
    "v = np.array([1.2,1.7,2.9,4.7,5.6, 3.0])\n",
    "x = 3.2\n",
    "k = 3\n",
    "closest(v, x, k)"
   ]
  },
  {
   "cell_type": "code",
   "execution_count": null,
   "metadata": {},
   "outputs": [],
   "source": []
  }
 ],
 "metadata": {
  "kernelspec": {
   "display_name": "Python 3",
   "language": "python",
   "name": "python3"
  },
  "language_info": {
   "codemirror_mode": {
    "name": "ipython",
    "version": 3
   },
   "file_extension": ".py",
   "mimetype": "text/x-python",
   "name": "python",
   "nbconvert_exporter": "python",
   "pygments_lexer": "ipython3",
   "version": "3.8.5"
  }
 },
 "nbformat": 4,
 "nbformat_minor": 4
}
