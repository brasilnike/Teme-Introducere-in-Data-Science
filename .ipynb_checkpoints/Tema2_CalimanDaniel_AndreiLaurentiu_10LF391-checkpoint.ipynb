{
 "cells": [
  {
   "cell_type": "code",
   "execution_count": 25,
   "metadata": {},
   "outputs": [
    {
     "name": "stdout",
     "output_type": "stream",
     "text": [
      "True\n"
     ]
    }
   ],
   "source": [
    "#2\n",
    "\"\"\"2. Scrieti o functie care determina daca un sir de caractere - presupus a fi scris cu litere mici - este sau nu\n",
    "palindrom. Un palindrom este un sir de caractere care citit de la dreapta la stanga are acelasi continut ca si\n",
    "citirea de la stanga la dreapta. In functie de valoarea unui indicator boolean ignore_spaces , avand\n",
    "valoarea implicita False , se vor ignora (elimina) sau nu spatiile. Daca sirul dat ca parametru nu are toate\n",
    "literele mici, se va arunca exceptie;\n",
    "Exemple:\n",
    "is_palindrome('ele fac cafele', ignore_spaces=True) returneaza True ; \n",
    "is_palindrome('ele fac cafele') returneaza False . \n",
    "is_palindrome('Ele fac cafele') arunca o exceptie, indiferent de valoarea lui ignore_spaces .\n",
    "is_palindrome('abaac') returneaza False\"\"\"\n",
    "\n",
    "def is_palindrom(s, ignore_spaces=False):\n",
    "    if(s.islower()==False):\n",
    "        raise Exception(\"Exista caractere cu majuscule\")\n",
    "    if(ignore_spaces==False):\n",
    "        inverse_s = s[::-1].strip()\n",
    "        for i in range(0,len(s)):\n",
    "            if(s[i]!=inverse_s[i]):\n",
    "                return False\n",
    "        return True\n",
    "    else:\n",
    "        inverse_s = s[::-1].replace(\" \", \"\")\n",
    "        s_copy = s.replace(\" \", \"\")\n",
    "        for i in range(0,len(s_copy)):\n",
    "            if(s_copy[i]!=inverse_s[i]):\n",
    "                return False\n",
    "        return True\n",
    "print(is_palindrom('aba'))"
   ]
  },
  {
   "cell_type": "code",
   "execution_count": 38,
   "metadata": {},
   "outputs": [
    {
     "name": "stdout",
     "output_type": "stream",
     "text": [
      "14\n"
     ]
    }
   ],
   "source": [
    "\"\"\"4. Sa se scrie o functie sum_divisors_digits care preia un numar natural strict pozitiv si returneaza\n",
    "suma cifrelor divizorilor sai. Intr-o alta functie black_hole se apeleaza in mod repetat\n",
    "sum_divisors_digits pe numerele rezultate, pana cand se atinge un numar maxim de iteratii (implicit\n",
    "1000) sau se ajunge la numarul 15. Puteti crea alte functii auxilia\n",
    "Exemplul 1: se pleaca de la n=15 ; \n",
    "divizorii sunt 1,3,5,15 ; \n",
    "suma cifrelor divizorilor este 1+3+5+1+5 = 15\n",
    ", acesta fiind rezultatul apelului sum_divisors_digits(15) . \n",
    "Functia black_hole\n",
    "se opreste deci dupa un singur apel al functiei sum_divisors_digits .\n",
    "Exemplul 2: se pleaca de la n=21 ; divizorii sunt 1,3,7,21 iar sum_divisors_digits(21) este 1+3+7+2+1=14\n",
    "; se reia in functia black_hole apelul functiei sum_divisors_digits pana la\n",
    "epuizarea numarului de apeluri sau potentiala stabilizare in 15.\"\"\"\n",
    "\n",
    "def divisors(n):\n",
    "    lista = []\n",
    "    for i in range(1,n//2):\n",
    "        if(n%i==0):\n",
    "            lista.append(i)\n",
    "    lista.append(n)\n",
    "    return lista\n",
    "\n",
    "def sum_divisors_digits(n):\n",
    "    lista=divisors(n)\n",
    "    s = 0\n",
    "    for el in lista:\n",
    "        aux = el\n",
    "        while(aux != 0):\n",
    "            s = s + aux%10\n",
    "            aux = aux // 10\n",
    "    return s\n",
    "    \n",
    "def black_hole(n):\n",
    "    for i in range(1,1000):\n",
    "        res = sum_divisors_digits(n)\n",
    "        if(res == 15):\n",
    "            break\n",
    "    return res\n",
    "        \n",
    "print(black_hole(21))"
   ]
  },
  {
   "cell_type": "code",
   "execution_count": 3,
   "metadata": {},
   "outputs": [
    {
     "name": "stdout",
     "output_type": "stream",
     "text": [
      "[ 1  8 -7]\n",
      "Rezultatul este: [[ 1  1]\n",
      " [10 10]]\n"
     ]
    }
   ],
   "source": [
    "\"\"\"#1 Scrieti o functie care pentru un vector dat dat, returneaza diferenta de ordinul intai intre elementele sale: \n",
    "𝑏[𝑖] = 𝑎[𝑖 + 1] − 𝑎[𝑖]. Scrieti apoi o alta functie care face acelasi lucru pentru o matrice, pe linii sau pe\n",
    "coloane.\n",
    "Exemple:\n",
    "a = np.array([1, 2, 10, 3]) ; diff1_vector(a) va returna vectorul NumPy cu continutul (1, 8,-7) .\n",
    "\n",
    "a = np.array([[1, 2, 3], [40, 50, 60]]) ; diff1_mat(a, axis=0) returneaza o matrice cu o\n",
    "singura linie, [[39, 48, 57]] . diff1_mat(a, axis=1) returneaza o matrice cu 2x2, [[1, 1], [10,\n",
    "10]]\"\"\"\n",
    "import numpy as np\n",
    "\n",
    "def diff1_vec(a):\n",
    "    b = np.zeros(len(a)-1, dtype = np.int8)\n",
    "    for i in range(0,len(a)-1):\n",
    "        b[i] = a[i + 1] - a[i]\n",
    "    return b\n",
    "        \n",
    "def diff1_mat(a, ax):\n",
    "    b = np.diff(a, axis = ax)\n",
    "    return b\n",
    "\n",
    "a1 = np.array([1,2,10,3])\n",
    "print(diff1_vec(a1))\n",
    "\n",
    "a2 = np.array([[1, 2, 3], [40, 50, 60]])\n",
    "print(\"Rezultatul este: {}\".format(diff1_mat(a2,1)))"
   ]
  },
  {
   "cell_type": "code",
   "execution_count": 71,
   "metadata": {},
   "outputs": [
    {
     "name": "stdout",
     "output_type": "stream",
     "text": [
      "[0]\n",
      "[[], array([], dtype=int32), array([], dtype=int32), array([], dtype=int32), array([], dtype=int32), array([0, 1, 2, 3, 4]), array([1, 2, 3, 4, 5]), array([2, 3, 4, 5, 6]), array([3, 4, 5, 6, 7]), array([4, 5, 6, 7, 8]), array([5, 6, 7, 8, 9]), array([ 6,  7,  8,  9, 10]), array([ 7,  8,  9, 10, 11]), array([ 8,  9, 10, 11, 12]), array([ 9, 10, 11, 12, 13]), array([10, 11, 12, 13, 14]), array([11, 12, 13, 14, 15]), array([12, 13, 14, 15, 16]), array([13, 14, 15, 16, 17]), array([14, 15, 16, 17, 18]), array([15, 16, 17, 18, 19])]\n"
     ]
    }
   ],
   "source": [
    "# 3. Pentru un vector NumPy dat, sa se calculeze toate ferestrele de o anumita lungime, cu o anumita dilatare.\n",
    "# Lungimea unei ferestre inseamna numarul de elemente din vectorii rezultati, dilatare reprezinta peste cate\n",
    "# elemente vecine se sare in construirea unei \"ferestre\".\n",
    "# Exemple:\n",
    "# v = np.arange(20), win_len=4, dilation=1 -> [0, 1, 2, 3], [1, 2, 3, 4], [2, 3, 4, 5], ...[16, 17, 18, 19]\n",
    "# v = np.arange(20), win_len=3, dilation=2 -> [0, 2, 4], [1, 3, 5], ..., [15, 17, 19]\n",
    "\n",
    "def window(v,win_len=3, dilation=1):\n",
    "    lista = [[]]\n",
    "    a = np.zeros(1,dtype = np.int8)\n",
    "    print(a)\n",
    "    for i in range(len(v)-dilation+1):\n",
    "        lista.append(v[i-win_len:i+dilation:dilation])\n",
    "        \n",
    "    print(lista)\n",
    "    \n",
    "v = np.arange(20)\n",
    "window(v,4,1)\n",
    "\n",
    "# Valorile implicite pentru win_len si dilation sunt 3, respectiv 1. Veti verifica in cadrul functiilor daca:\n",
    "#  0 < win_len <= numarul de elemente din vector , dilation > 0 si daca pentru vectorul de intrare,\n",
    "# win_len si dilation date rezulta macar o fereastra; daca vreuna din aceste conditii nu se indeplineste, nu\n",
    "# se executa restul functiei si se arunca exceptie (se pot folosi assertiuni sau aruncari de exceptii). Rezultatul se\n",
    "# va da ca un tablou cu win_len coloane\n",
    "\n"
   ]
  },
  {
   "cell_type": "code",
   "execution_count": 107,
   "metadata": {},
   "outputs": [
    {
     "name": "stdout",
     "output_type": "stream",
     "text": [
      "5\n",
      "2\n",
      "3\n"
     ]
    }
   ],
   "source": [
    "# #5\n",
    "# Se da un vector v de numere floating point, un numar floating point x si un numar intreg k>0 ,\n",
    "# k<=len(v) . Sa se scrie o functie care determina pozitiile celor mai apropiate k valori din v fata de x (k\n",
    "# nearest neighbors, 1d).\n",
    "import math\n",
    "import sys\n",
    "\n",
    "def closest(lst, x, k):\n",
    "    print(lst)\n",
    "    idx = (np.abs(lst - x)).argmin() \n",
    "    print(lst[idx])\n",
    "    return idx\n",
    "\n",
    "      \n",
    "\n",
    "v = np.array([1.2,1.7,2.9,4.7,5.6, 3.0])\n",
    "x = 3.2\n",
    "k = 3\n",
    "\n",
    "lista = []\n",
    "\n",
    "for i in range(len(v)):\n",
    "    lista.append(np.abs(v[i] - x))\n",
    "\n",
    "for i in range(k):\n",
    "    aux = lista.index(min(lista))\n",
    "    print(aux)\n",
    "    lista[aux] = sys.float_info.max\n",
    "    "
   ]
  },
  {
   "cell_type": "code",
   "execution_count": null,
   "metadata": {},
   "outputs": [],
   "source": []
  }
 ],
 "metadata": {
  "kernelspec": {
   "display_name": "Python 3",
   "language": "python",
   "name": "python3"
  },
  "language_info": {
   "codemirror_mode": {
    "name": "ipython",
    "version": 3
   },
   "file_extension": ".py",
   "mimetype": "text/x-python",
   "name": "python",
   "nbconvert_exporter": "python",
   "pygments_lexer": "ipython3",
   "version": "3.8.5"
  }
 },
 "nbformat": 4,
 "nbformat_minor": 4
}
