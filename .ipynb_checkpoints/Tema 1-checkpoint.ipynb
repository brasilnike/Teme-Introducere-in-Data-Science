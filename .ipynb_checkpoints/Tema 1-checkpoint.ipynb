{
 "cells": [
  {
   "cell_type": "code",
   "execution_count": 5,
   "metadata": {},
   "outputs": [
    {
     "name": "stdout",
     "output_type": "stream",
     "text": [
      "Rezultatul este 35\n"
     ]
    }
   ],
   "source": [
    "# ex 1\n",
    "lista = [10, 3, 5, 20, -4, 9, 1]\n",
    "lista.sort()\n",
    "\n",
    "s = lista[-1] + lista [-2] + lista [-3]\n",
    "p = lista[1]+lista[2]\n",
    "print(f'Rezultatul este {s-p}')"
   ]
  },
  {
   "cell_type": "code",
   "execution_count": 42,
   "metadata": {},
   "outputs": [
    {
     "name": "stdout",
     "output_type": "stream",
     "text": [
      "Elementele 10, 9, 8 au suma 720\n"
     ]
    }
   ],
   "source": [
    "# ex 3\n",
    "lista = [1, -2, -3, -4, -5, 0]\n",
    "lista.sort()\n",
    "a = lista[0]*lista[1]*lista[-1]\n",
    "b = lista[-1]*lista[-2]*lista[-3]\n",
    "if(a > b):\n",
    "    print('Elementele {}, {}, {} au suma {}'.format(lista[0],lista[1],lista[-1],a))\n",
    "else:\n",
    "    print('Elementele {}, {}, {} au suma {}'.format(lista[-1],lista[-2],lista[-3],b))"
   ]
  },
  {
   "cell_type": "code",
   "execution_count": 58,
   "metadata": {},
   "outputs": [
    {
     "name": "stdout",
     "output_type": "stream",
     "text": [
      "6 8 10\n",
      "3 4 5\n"
     ]
    }
   ],
   "source": [
    "# ex 4\n",
    "lista = [12, 11, 10, 9, 8, 7, 6, 5, 4, 3, 2]\n",
    "n = 2\n",
    "\n",
    "for i in lista:\n",
    "    a = i\n",
    "    if(n==3):\n",
    "        break\n",
    "    for j in lista:\n",
    "        b = j\n",
    "        for k in lista:\n",
    "            c = k\n",
    "            if((a<b)and(((a**n) + (b**n))==c**n)):\n",
    "                print(a,b,c)"
   ]
  },
  {
   "cell_type": "code",
   "execution_count": null,
   "metadata": {},
   "outputs": [],
   "source": [
    "#ex 5\n",
    "cuvant = \"acasa\"\n",
    "vocale = ['a','e','i','o','u','A','E','I','O','U']\n",
    "x=0\n",
    "print(vocale)\n",
    "while x < len(cuvant):\n",
    "    if(cuvant[x] in vocale):\n",
    "        cuvant = cuvant[:x+1] + \"p\" + cuvant[x+1:]\n",
    "        cuvant = cuvant[:x+2] + \"a\" + cuvant[x+2:]\n",
    "    x+=1\n",
    "print(cuvant)"
   ]
  },
  {
   "cell_type": "code",
   "execution_count": null,
   "metadata": {},
   "outputs": [],
   "source": []
  },
  {
   "cell_type": "code",
   "execution_count": null,
   "metadata": {},
   "outputs": [],
   "source": []
  }
 ],
 "metadata": {
  "kernelspec": {
   "display_name": "Python 3",
   "language": "python",
   "name": "python3"
  },
  "language_info": {
   "codemirror_mode": {
    "name": "ipython",
    "version": 3
   },
   "file_extension": ".py",
   "mimetype": "text/x-python",
   "name": "python",
   "nbconvert_exporter": "python",
   "pygments_lexer": "ipython3",
   "version": "3.8.5"
  }
 },
 "nbformat": 4,
 "nbformat_minor": 4
}
