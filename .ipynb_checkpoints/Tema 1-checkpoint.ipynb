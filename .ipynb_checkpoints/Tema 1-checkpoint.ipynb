{
 "cells": [
  {
   "cell_type": "code",
   "execution_count": 5,
   "metadata": {},
   "outputs": [
    {
     "name": "stdout",
     "output_type": "stream",
     "text": [
      "Rezultatul este 35\n"
     ]
    }
   ],
   "source": [
    "# ex 1\n",
    "lista = [10, 3, 5, 20, -4, 9, 1]\n",
    "lista.sort()\n",
    "\n",
    "s = lista[-1] + lista [-2] + lista [-3]\n",
    "p = lista[1]+lista[2]\n",
    "print(f'Rezultatul este {s-p}')"
   ]
  },
  {
   "cell_type": "code",
   "execution_count": null,
   "metadata": {},
   "outputs": [],
   "source": []
  }
 ],
 "metadata": {
  "kernelspec": {
   "display_name": "Python 3",
   "language": "python",
   "name": "python3"
  },
  "language_info": {
   "codemirror_mode": {
    "name": "ipython",
    "version": 3
   },
   "file_extension": ".py",
   "mimetype": "text/x-python",
   "name": "python",
   "nbconvert_exporter": "python",
   "pygments_lexer": "ipython3",
   "version": "3.8.5"
  }
 },
 "nbformat": 4,
 "nbformat_minor": 4
}
