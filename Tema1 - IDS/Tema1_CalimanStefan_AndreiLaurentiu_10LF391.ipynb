{
 "cells": [
  {
   "cell_type": "markdown",
   "metadata": {},
   "source": [
    "# Problema 1\n",
    "1. Se da o lista de numere. Sa se afiseze diferenta dintre: suma celor mai mari 3 numere si produsul celor mai mici 2 numere.\n",
    "* lista = [10, 3, 5, 20, -4, 9, 1] => 43\n",
    "* lista = [0, -1, -2, -3, -4] => -15"
   ]
  },
  {
   "cell_type": "code",
   "execution_count": 22,
   "metadata": {},
   "outputs": [
    {
     "name": "stdout",
     "output_type": "stream",
     "text": [
      "Expresia ceruta are valoarea:-15\n"
     ]
    }
   ],
   "source": [
    "lista = [0, -1, -2, -3, -4]\n",
    "lista.sort()\n",
    "\n",
    "suma = lista[-1] + lista[-2] + lista[-3]\n",
    "prod = lista[0] * lista[1]\n",
    "\n",
    "print(f'Expresia ceruta are valoarea:{suma - prod}')"
   ]
  },
  {
   "cell_type": "markdown",
   "metadata": {},
   "source": [
    "# Problema 2\n",
    "2. Se da o lista de cuvinte. Sa se determine cuvintele unice (fara diferenta intre litere mici si mari) si de cate ori apare fiecare. Exemple:\n",
    "* ['mouse', 'and', 'branza', 'viezure', 'viezure', 'viezure', 'me', 'slow', 'mouse', 'This', 'mouse', 'out', 'in', 'want', 'branza', 'song', 'barza', 'barza', 'barza', 'makes', 'to', 'in', 'branza', 'run', 'motion'] => {'mouse': 3, 'and': 1, 'branza': 3, 'viezure': 3, 'me': 1, 'slow': 1, 'This':1, 'out': 1, 'in': 2, 'want': 1, 'song': 1, 'barza': 3, 'makes': 1, 'to': 1, 'run': 1, 'motion': 1}\n",
    "* ['doi', 'doi', 'trei', 'Trei', 'un'] => {'doi': 2, 'trei': 2, 'un': 1}"
   ]
  },
  {
   "cell_type": "code",
   "execution_count": 23,
   "metadata": {},
   "outputs": [
    {
     "name": "stdout",
     "output_type": "stream",
     "text": [
      "{'doi': 2, 'trei': 2, 'un': 1}\n"
     ]
    }
   ],
   "source": [
    "dict = {}\n",
    "lista = ['doi', 'doi', 'trei', 'Trei', 'un']\n",
    "\n",
    "for word in lista:\n",
    "    try:\n",
    "        dict[word.lower()] += 1\n",
    "    except KeyError:\n",
    "        dict[word.lower()] = 1\n",
    "\n",
    "print(dict)"
   ]
  },
  {
   "cell_type": "markdown",
   "metadata": {},
   "source": [
    "# Problema 3\n",
    "3. Se da o lista de cel putin 10 numere. Care numere din lista, inmultite, dau produsul maxim? Exemple:\n",
    "* [10, 1, 2, 9, 7, 8, 3, 6, 4, 5] => p_max = 720, solutie = (10,9,8)\n",
    "* [1, -2, -3, -4, -5, 0] => p_max = 20, solutie= (1, -4, -5)"
   ]
  },
  {
   "cell_type": "code",
   "execution_count": 24,
   "metadata": {},
   "outputs": [
    {
     "name": "stdout",
     "output_type": "stream",
     "text": [
      "Elementele -5, -4, 1 au produsul 20\n"
     ]
    }
   ],
   "source": [
    "lista = [1, -2, -3, -4, -5, 0]\n",
    "lista.sort()\n",
    "a = lista[0]*lista[1]*lista[-1]\n",
    "b = lista[-1]*lista[-2]*lista[-3]\n",
    "if(a > b):\n",
    "    print('Elementele {}, {}, {} au produsul {}'.format(lista[0],lista[1],lista[-1],a))\n",
    "else:\n",
    "    print('Elementele {}, {}, {} au produsul {}'.format(lista[-1],lista[-2],lista[-3],b))"
   ]
  },
  {
   "cell_type": "markdown",
   "metadata": {},
   "source": [
    "# Problema 4\n",
    "4. Dandu-se o lista de numere si un numar n natural, n>=1, sa se determine toate tripletele a,b,c cu a<b din lista, pentru care a^n + b^n == c^n. Exemple:\n",
    "* lista = [12, 11, 10, 9, 8, 7, 6, 5, 4, 3, 2], n = 2 => 3,4,5; 6,8,10\n",
    "* lista = [90, 10, 20, 30, 40, 50], n = 3 => se afiseaza 'Nu exista solutie'"
   ]
  },
  {
   "cell_type": "code",
   "execution_count": 1,
   "metadata": {},
   "outputs": [
    {
     "name": "stdout",
     "output_type": "stream",
     "text": [
      "Nu exista solutie\n"
     ]
    }
   ],
   "source": [
    "lista = [90, 10, 20, 30, 40, 50]\n",
    "n = 3\n",
    "\n",
    "lista.sort()\n",
    "printed = 0\n",
    "\n",
    "for a in range(len(lista) - 2):\n",
    "    for b in range(a, len(lista) -1):\n",
    "        for c in range(b, len(lista)):\n",
    "            if (lista[a]**n + lista[b]**n == lista[c]**n):\n",
    "                print(lista[a], lista[b], lista[c])\n",
    "                printed = printed + 1\n",
    "                \n",
    "if (printed == 0):\n",
    "    print('Nu exista solutie')"
   ]
  },
  {
   "cell_type": "markdown",
   "metadata": {},
   "source": [
    "# Problema 5\n",
    "5. Dandu-se o propozitie, sa se determine transcrierea ei in \"pasareasca\" (o vocala se transforma in vocala + 'P' + vocala. Exemple de traducere in pasareasca:\n",
    "* acasa - apacapasapa\n",
    "* prietena - pripiepetepenapa"
   ]
  },
  {
   "cell_type": "code",
   "execution_count": 26,
   "metadata": {},
   "outputs": [
    {
     "name": "stdout",
     "output_type": "stream",
     "text": [
      "Traducerea in pasareasca este: apacapasapa\n"
     ]
    }
   ],
   "source": [
    "#Traducerea din romana in pasareasca \n",
    "\n",
    "sentence = \"acasa\"\n",
    "lista = list(sentence)\n",
    "\n",
    "replacements = {\n",
    "    'a':'apa',\n",
    "    'A':'Apa',\n",
    "    'e':'epe',\n",
    "    'E':'Epe',\n",
    "    'i':'ipi',\n",
    "    'I':'Ipi',\n",
    "    'o':'opo',\n",
    "    'O':'Opo',\n",
    "    'u':'upu',\n",
    "    'U':'Upu'\n",
    "}\n",
    "  \n",
    "def listToString(s):\n",
    "    str = \"\"\n",
    "    return (str.join(s))\n",
    "\n",
    "lista = [replacements.get(x, x) for x in lista]\n",
    "print(f'Traducerea in pasareasca este: {listToString(lista)}')    "
   ]
  },
  {
   "cell_type": "markdown",
   "metadata": {},
   "source": [
    "Sa se scrie un program care face traducerea inversa (daca stringul dat provine din pasareasca; daca nu, semnaleaza acest lucru)."
   ]
  },
  {
   "cell_type": "code",
   "execution_count": 27,
   "metadata": {},
   "outputs": [
    {
     "name": "stdout",
     "output_type": "stream",
     "text": [
      "Traducerea din pasareasca in limba romana este: acasa\n"
     ]
    }
   ],
   "source": [
    "# Traducerea inversa cu verificare daca provine din pasareasca\n",
    "\n",
    "sentence = 'apacapasapa'\n",
    "lista = list(sentence)\n",
    "\n",
    "def listToString(s):\n",
    "    str = \"\"\n",
    "    return (str.join(s))\n",
    "\n",
    "def checkWord(s): \n",
    "    index = 0\n",
    "    while (index <= len(s)-2):\n",
    "        if (lista[index] in ('a','e','i','o','u')):\n",
    "            if (lista[index+1] != 'p' and lista[index+2] != lista[index]):\n",
    "                return False\n",
    "            else:\n",
    "                index = index+3\n",
    "        else:\n",
    "            index = index + 1\n",
    "    return True\n",
    "               \n",
    "if (checkWord(lista) == False):\n",
    "    print('Stringul nu provine din pasareasca !!')\n",
    "else:\n",
    "    for i in range(len(lista) -2):\n",
    "        try:\n",
    "            if(lista[i] in ('a','e','i','o','u')):\n",
    "                del lista[i:i+2]\n",
    "            else:\n",
    "                continue\n",
    "        except IndexError:\n",
    "            break\n",
    "    print(f'Traducerea din pasareasca in limba romana este: {listToString(lista)}')"
   ]
  },
  {
   "cell_type": "markdown",
   "metadata": {},
   "source": [
    "# Problema 6\n",
    "6. Se da un dictionar in care cheile sunt nume de studenti, iar valorile sunt liste de carti preferate. Sa se determine:\n",
    "* A. Care sunt studentii care au in lista de preferinte o carte specificata;\n",
    "* B. Care sunt perechile de studenti care au aceleasi preferinte de carti (ordinea in lista de preferinte nu e relevanta);\n",
    "* C. Pentru un student dat, care sunt studentii cu care are cele mai multe carti comune in listele de preferinte; daca sunt mai multi astfel de studenti cei mai apropiati, se vor enumera toti.\n",
    "* D. Pentru 2 studenti, A si B, care e lista de stergeri si adaugari prin care lista lui A devine identica cu lista lui B (ordinea in lista nefiind importanta);\n",
    "* E. Toate perechile de studenti A, B pentru care lista de preferinte a lui A este inclusa (dar nu coincide cu) lista de preferinte a lui B."
   ]
  },
  {
   "cell_type": "code",
   "execution_count": 28,
   "metadata": {},
   "outputs": [
    {
     "name": "stdout",
     "output_type": "stream",
     "text": [
      "Subpunctul A: \n",
      "Ionescu\n",
      "Georgescu\n",
      "Subpunctul B: \n",
      "Popescu si Dragomir au aceleasi preferinte\n",
      "Subpunctul C:\n",
      "Suprapunere maxima a lui Xulescu de preferinte (2) este cu ['Ionescu'] \n",
      "Subpunctul D:\n",
      "Pentru ca Popescu si Ionescu sa aiba listele identice trebuie adaugate ['alta carte', 'carte7'] si sterse ['carte4']\n",
      "Subpunctul E\n",
      "Preferintele lui Georgescu sunt un subset propriu a lui Ionescu\n"
     ]
    }
   ],
   "source": [
    "preferinte = {\n",
    " 'Popescu': ['carte2', 'carte1', 'carte3', 'carte4'],\n",
    " 'Ionescu': ['carte1', 'carte2', 'carte3', 'carte7', 'alta carte'],\n",
    " 'Georgescu': ['carte1', 'alta carte'],\n",
    " 'Xulescu': ['carte2', 'carte5', 'carte6', 'carte7'],\n",
    " 'Dragomir': ['carte4', 'carte1', 'carte2', 'carte3']\n",
    "}\n",
    "print(\"Subpunctul A: \")\n",
    "carte = 'alta carte'\n",
    "for key,value in preferinte.items():\n",
    "    if carte in value:\n",
    "        print(key)\n",
    "\n",
    "print(\"Subpunctul B: \")\n",
    "for i in preferinte.values():\n",
    "    i.sort()\n",
    "             \n",
    "for i,item_i in enumerate(preferinte):\n",
    "    for j,item_j in enumerate(preferinte):\n",
    "        if(item_i==item_j or i>j):\n",
    "            continue\n",
    "        if(preferinte[item_i]==preferinte[item_j]):\n",
    "            print(\"{} si {} au aceleasi preferinte\".format(item_i,item_j))\n",
    "\n",
    "print(\"Subpunctul C:\")\n",
    "student = 'Xulescu'\n",
    "rezultat = []\n",
    "max = 0\n",
    "for i,item_i in enumerate(preferinte):\n",
    "    if(item_i==student):\n",
    "        continue\n",
    "    sum = 0\n",
    "    for x in preferinte[item_i]:\n",
    "        if(preferinte[student].count(x)>0):\n",
    "            sum+=1\n",
    "    if(sum>max):\n",
    "        max=sum\n",
    "        rezultat.clear()\n",
    "    if(sum==max):\n",
    "        rezultat.append(item_i)\n",
    "print(\"Suprapunere maxima a lui {} de preferinte ({}) este cu {} \".format(student,max,rezultat))\n",
    "\n",
    "print(\"Subpunctul D:\")\n",
    "stud_A = \"Popescu\"\n",
    "stud_B = \"Ionescu\"\n",
    "adauga = []\n",
    "sterg = []\n",
    "for x in preferinte[stud_A]:\n",
    "    if x not in preferinte[stud_B]:\n",
    "        sterg.append(x)\n",
    "        \n",
    "for x in preferinte[stud_B]:\n",
    "    if x not in preferinte[stud_A]:\n",
    "        adauga.append(x)\n",
    "print(\"Pentru ca {} si {} sa aiba listele identice trebuie adaugate {} si sterse {}\".format(stud_A,stud_B,adauga,sterg))\n",
    "\n",
    "print(\"Subpunctul E\")\n",
    "stud_A = \"Georgescu\"\n",
    "stud_B = \"Ionescu\"\n",
    "for i,item_i in enumerate(preferinte):\n",
    "    set1 = set(preferinte[item_i])\n",
    "    sorted(set1)\n",
    "    for j,item_j in enumerate(preferinte):\n",
    "        if(item_i==item_j):\n",
    "            continue\n",
    "        set2 = set(preferinte[item_j])  \n",
    "        sorted(set2)\n",
    "        if(set1.issubset(set2) and set1!=set2):\n",
    "            print(\"Preferintele lui {} sunt un subset propriu a lui {}\".format(item_i,item_j))"
   ]
  },
  {
   "cell_type": "markdown",
   "metadata": {},
   "source": [
    "# Problema 7\n",
    "7. Se da un dictionar cu persoane si pentru fiecare persoana o lista de intervale de timp de disponibilitate. O disponibilitate incepe la o anumita ora fixa (ex:17) sau ora fixa + 30 de minute si dureaza exact 30 de minute. Sa se determine toate intervalele de timp in care numarul maxim de persoane poate participa. Daca sunt mai multe intervale pentru acest numar maxim de persoane, se vor da toate solutiile. In fiecare caz se da lista de persoane participante si intervalele orare."
   ]
  },
  {
   "cell_type": "code",
   "execution_count": 1,
   "metadata": {},
   "outputs": [
    {
     "name": "stdout",
     "output_type": "stream",
     "text": [
      "['13', '13.30', '16', '17', '13', '13.30', '16', '17', '17.30', '11', '15', '14', '14.30', '15', '15.30', '16.30', '19', '19.30']\n",
      "La ora 13 sunt disponibili: \n",
      "\tPopescu\n",
      "\tIonescu\n",
      "La ora 13.30 sunt disponibili: \n",
      "\tPopescu\n",
      "\tIonescu\n",
      "La ora 16 sunt disponibili: \n",
      "\tPopescu\n",
      "\tIonescu\n",
      "La ora 17 sunt disponibili: \n",
      "\tPopescu\n",
      "\tIonescu\n",
      "La ora 15 sunt disponibili: \n",
      "\tIonescu\n",
      "\tMaximilian\n"
     ]
    }
   ],
   "source": [
    "doodle = {\n",
    "    \"Popescu\": [\"13\", \"13.30\", \"16\", \"17\"],\n",
    "    \"Ionescu\": [\"13\", \"13.30\", \"16\", \"17\", \"17.30\", \"11\", \"15\"],\n",
    "    \"Maximilian\": [\"14\", \"14.30\", \"15\", \"15.30\", \"16.30\", \"19\", \"19.30\"]\n",
    "}\n",
    "lista = []\n",
    "name_count = 0\n",
    "for nume in doodle:\n",
    "    lista += doodle[nume]\n",
    "    name_count = name_count + 1\n",
    "\n",
    "counter_dict = {}\n",
    "for time in lista:\n",
    "    try:\n",
    "        counter_dict[time] += 1\n",
    "    except KeyError:\n",
    "        counter_dict[time] = 1\n",
    "        \n",
    "def getMaximumValue(d):\n",
    "    max_val = -999999999\n",
    "    for interval in d:\n",
    "        if (d[interval] > max_val):\n",
    "            max_val = d[interval]\n",
    "    return max_val\n",
    "\n",
    "max_Value = getMaximumValue(counter_dict)\n",
    "\n",
    "if (max_Value == name_count):\n",
    "    for interval in counter_dict:\n",
    "        if (counter_dict[interval] == name_count):\n",
    "            print(\"Toate cele \" + str(name_count) + \" persoane sunt disponibile la ora: \" + str(interval))\n",
    "else:\n",
    "    temp_list=[]\n",
    "    for interval in counter_dict:\n",
    "        if(counter_dict[interval] == max_Value):\n",
    "            temp_list.append(interval)\n",
    "    for interval in temp_list:\n",
    "        print(\"La ora \" + str(interval)+ \" sunt disponibili: \")\n",
    "        for nume in doodle:\n",
    "            if (interval in doodle[nume]):\n",
    "                print('\\t' + nume)"
   ]
  },
  {
   "cell_type": "markdown",
   "metadata": {},
   "source": [
    "# Problema 8 \n",
    "8. Se da o lista de dictionare de forma:\n",
    "\n",
    "[\n",
    "\n",
    "{\"nume\": \"Popescu\", \"gen\": \"feminin\". \"varsta\": 30, \"salariu\": 2000, \"animal preferat\": \"pisica\"},\n",
    "\n",
    "{\"nume\": \"Irimia\", \"gen\": \"masculin\". \"varsta\": 40, \"salariu\": 3000, \"animal preferat\": \"caine\"},\n",
    "\n",
    "etc.\n",
    "\n",
    "]\n",
    "\n",
    "Sa se determine:\n",
    "* A. salariul mediu, minim si maxim;\n",
    "* B. cei care au varsta intr-un anumit interval dat [a,b];\n",
    "* C. care este animalul cu cele mai multe preferinte. Daca sunt mai multe astfel de animale, atunci se vor da toate;\n",
    "* D. cate persoane de gen feminin si respectiv masculin sunt in lista.\n",
    "\n",
    "Nota: Toate dictionarele au aceleasi chei: nume, etc."
   ]
  },
  {
   "cell_type": "code",
   "execution_count": 30,
   "metadata": {},
   "outputs": [
    {
     "name": "stdout",
     "output_type": "stream",
     "text": [
      "Punctul A:\n",
      "Salariul minim din lista este: 2000\n",
      "Salariul maxim din lista este: 4500\n",
      "Salariul mediu din lista este: 3166.6666666666665\n",
      "\n",
      "\n",
      "Punctul B:\n",
      "Persoanele care au varsta cuprinsa intre: 25 si 50 ani sunt: \n",
      "\tPopescu\n",
      "\tIrimia\n",
      "\n",
      "\n",
      "Punctul C:\n",
      "Animalul cu cele mai multe preferinte este: \n",
      "\tcaine\n",
      "\n",
      "\n",
      "Punctul D:\n",
      "Numarul de persoane de genul feminin este: 1\n",
      "Numarul de persoane de genul masculin este: 2\n"
     ]
    }
   ],
   "source": [
    "dict_list = [\n",
    "    {\"nume\": \"Popescu\",\n",
    "    \"gen\": \"feminin\",\n",
    "    \"varsta\": 30,\n",
    "    \"salariu\": 2000,\n",
    "    \"animal preferat\": \"pisica\"\n",
    "    },\n",
    "    {\"nume\": \"Irimia\",\n",
    "    \"gen\": \"masculin\",\n",
    "    \"varsta\": 40,\n",
    "    \"salariu\": 3000,\n",
    "    \"animal preferat\": \"caine\"\n",
    "    },\n",
    "    {\"nume\": \"Maximilian\",\n",
    "    \"gen\": \"masculin\",\n",
    "    \"varsta\": 55,\n",
    "    \"salariu\": 4500,\n",
    "    \"animal preferat\": \"caine\"\n",
    "    }\n",
    "]\n",
    "\n",
    "def punctulA(l):\n",
    "    salariu_min = 99999999\n",
    "    salariu_max = -99999999\n",
    "    salariu_mediu = 0\n",
    "    \n",
    "    for element in l:\n",
    "        for atribute in element:\n",
    "            if (atribute == \"salariu\"):\n",
    "                if (element[atribute] < salariu_min):\n",
    "                    salariu_min = element[atribute]\n",
    "                if (element[atribute] > salariu_max):\n",
    "                    salariu_max = element[atribute]\n",
    "                salariu_mediu += element[atribute]\n",
    "    salariu_mediu = salariu_mediu / len(l)\n",
    "    \n",
    "    print(f'Salariul minim din lista este: {salariu_min}')\n",
    "    print(f'Salariul maxim din lista este: {salariu_max}')\n",
    "    print(f'Salariul mediu din lista este: {salariu_mediu}')\n",
    "    \n",
    "def punctulB(l):\n",
    "    a = 25\n",
    "    b = 50\n",
    "    print(\"Persoanele care au varsta cuprinsa intre: \" + str(a) + \" si \" + str(b) + \" ani sunt: \")\n",
    "    for element in l:\n",
    "        for atribute in element:\n",
    "            if (atribute == \"varsta\"):\n",
    "                if (element[atribute] > a and element[atribute] < b):\n",
    "                    print('\\t' + element[\"nume\"])\n",
    "                    \n",
    "def punctulC(l):\n",
    "    print(\"Animalul cu cele mai multe preferinte este: \")\n",
    "    count_dict = {}\n",
    "    for element in l:\n",
    "        for atribute in element:\n",
    "            if (atribute == \"animal preferat\"):\n",
    "                try:\n",
    "                    count_dict[element[atribute]] += 1\n",
    "                except KeyError:\n",
    "                    count_dict[element[atribute]] = 1\n",
    "                    \n",
    "    max_element = -999999999\n",
    "    for element in count_dict:\n",
    "        if (count_dict[element] > max_element):\n",
    "            max_element = count_dict[element]\n",
    "\n",
    "    for nume in count_dict:\n",
    "        if (max_element == count_dict[nume]):           \n",
    "            print('\\t' + nume)\n",
    "\n",
    "def punctulD(l):\n",
    "    count_dict = {}\n",
    "    for element in l:\n",
    "        for atribute in element:\n",
    "            if (atribute == \"gen\"):\n",
    "                try:\n",
    "                    count_dict[element[atribute]] += 1\n",
    "                except:\n",
    "                    count_dict[element[atribute]] = 1\n",
    "    for nume in count_dict:\n",
    "        print(\"Numarul de persoane de genul \" + nume + \" este: \" + str(count_dict[nume]))\n",
    "\n",
    "print(\"Punctul A:\")\n",
    "punctulA(dict_list)\n",
    "print(\"\\n\\nPunctul B:\")\n",
    "punctulB(dict_list)\n",
    "print(\"\\n\\nPunctul C:\")\n",
    "punctulC(dict_list)\n",
    "print(\"\\n\\nPunctul D:\")\n",
    "punctulD(dict_list)"
   ]
  }
 ],
 "metadata": {
  "kernelspec": {
   "display_name": "Python 3",
   "language": "python",
   "name": "python3"
  },
  "language_info": {
   "codemirror_mode": {
    "name": "ipython",
    "version": 3
   },
   "file_extension": ".py",
   "mimetype": "text/x-python",
   "name": "python",
   "nbconvert_exporter": "python",
   "pygments_lexer": "ipython3",
   "version": "3.8.5"
  }
 },
 "nbformat": 4,
 "nbformat_minor": 4
}
