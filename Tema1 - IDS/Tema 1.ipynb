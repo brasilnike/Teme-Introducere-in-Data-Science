{
 "cells": [
  {
   "cell_type": "code",
   "execution_count": 5,
   "metadata": {},
   "outputs": [
    {
     "name": "stdout",
     "output_type": "stream",
     "text": [
      "Rezultatul este 35\n"
     ]
    }
   ],
   "source": [
    "# ex 1\n",
    "lista = [10, 3, 5, 20, -4, 9, 1]\n",
    "lista.sort()\n",
    "\n",
    "s = lista[-1] + lista [-2] + lista [-3]\n",
    "p = lista[1]+lista[2]\n",
    "print(f'Rezultatul este {s-p}')"
   ]
  },
  {
   "cell_type": "code",
   "execution_count": 42,
   "metadata": {},
   "outputs": [
    {
     "name": "stdout",
     "output_type": "stream",
     "text": [
      "Elementele 10, 9, 8 au suma 720\n"
     ]
    }
   ],
   "source": [
    "# ex 3\n",
    "lista = [1, -2, -3, -4, -5, 0]\n",
    "lista.sort()\n",
    "a = lista[0]*lista[1]*lista[-1]\n",
    "b = lista[-1]*lista[-2]*lista[-3]\n",
    "if(a > b):\n",
    "    print('Elementele {}, {}, {} au suma {}'.format(lista[0],lista[1],lista[-1],a))\n",
    "else:\n",
    "    print('Elementele {}, {}, {} au suma {}'.format(lista[-1],lista[-2],lista[-3],b))"
   ]
  },
  {
   "cell_type": "code",
   "execution_count": 58,
   "metadata": {},
   "outputs": [
    {
     "name": "stdout",
     "output_type": "stream",
     "text": [
      "6 8 10\n",
      "3 4 5\n"
     ]
    }
   ],
   "source": [
    "# ex 4\n",
    "lista = [12, 11, 10, 9, 8, 7, 6, 5, 4, 3, 2]\n",
    "n = 2\n",
    "\n",
    "for i in lista:\n",
    "    a = i\n",
    "    if(n==3):\n",
    "        break\n",
    "    for j in lista:\n",
    "        b = j\n",
    "        for k in lista:\n",
    "            c = k\n",
    "            if((a<b)and(((a**n) + (b**n))==c**n)):\n",
    "                print(a,b,c)"
   ]
  },
  {
   "cell_type": "code",
   "execution_count": null,
   "metadata": {},
   "outputs": [],
   "source": [
    "#ex 5\n",
    "cuvant = \"acasa\"\n",
    "vocale = ['a','e','i','o','u','A','E','I','O','U']\n",
    "x=0\n",
    "print(vocale)\n",
    "while x < len(cuvant):\n",
    "    if(cuvant[x] in vocale):\n",
    "        cuvant = cuvant[:x+1] + \"p\" + cuvant[x+1:]\n",
    "        cuvant = cuvant[:x+2] + \"a\" + cuvant[x+2:]\n",
    "    x+=1\n",
    "print(cuvant)"
   ]
  },
  {
   "cell_type": "code",
   "execution_count": 165,
   "metadata": {},
   "outputs": [
    {
     "name": "stdout",
     "output_type": "stream",
     "text": [
      "Subpunctul A: \n",
      "Ionescu\n",
      "Georgescu\n",
      "Subpunctul B: \n",
      "Popescu Dragomir\n",
      "Dragomir Popescu\n",
      "Popescu si Dragomir au aceleasi preferinte\n",
      "Subpunctul C:\n",
      "Suprapunere maxima a lui Xulescu de preferinte (2) este cu ['Ionescu'] \n",
      "Subpunctul D:\n",
      "Pentru ca Popescu si Ionescu sa aiba listele identice trebuie adaugate ['alta carte', 'carte7'] si sterse ['carte4']\n",
      "Subpunctul E\n",
      "Preferintele lui Georgescu sunt un subset propriu a lui Ionescu\n"
     ]
    }
   ],
   "source": [
    "#ex 6\n",
    "preferinte = {\n",
    " 'Popescu': ['carte2', 'carte1', 'carte3', 'carte4'],\n",
    " 'Ionescu': ['carte1', 'carte2', 'carte3', 'carte7', 'alta carte'],\n",
    " 'Georgescu': ['carte1', 'alta carte'],\n",
    " 'Xulescu': ['carte2', 'carte5', 'carte6', 'carte7'],\n",
    " 'Dragomir': ['carte4', 'carte1', 'carte2', 'carte3']\n",
    "}\n",
    "print(\"Subpunctul A: \")\n",
    "carte = 'alta carte'\n",
    "for key,value in preferinte.items():\n",
    "    if carte in value:\n",
    "        print(key)\n",
    "\n",
    "print(\"Subpunctul B: \")\n",
    "for i in preferinte.values():\n",
    "    i.sort()\n",
    "for key,value in preferinte.items():\n",
    "    for keyj,valuej in preferinte.items():\n",
    "        if(key==keyj):\n",
    "            continue\n",
    "        if valuej==value:\n",
    "            print(key,keyj)\n",
    "                      \n",
    "for i,item_i in enumerate(preferinte):\n",
    "    for j,item_j in enumerate(preferinte):\n",
    "        if(item_i==item_j or i>j):\n",
    "            continue\n",
    "        if(preferinte[item_i]==preferinte[item_j]):\n",
    "            print(\"{} si {} au aceleasi preferinte\".format(item_i,item_j))\n",
    "\n",
    "print(\"Subpunctul C:\")\n",
    "student = 'Xulescu'\n",
    "rezultat = []\n",
    "max = 0\n",
    "for i,item_i in enumerate(preferinte):\n",
    "    if(item_i==student):\n",
    "        continue\n",
    "    sum = 0\n",
    "    for x in preferinte[item_i]:\n",
    "        if(preferinte[student].count(x)>0):\n",
    "            sum+=1\n",
    "    if(sum>max):\n",
    "        max=sum\n",
    "        rezultat.clear()\n",
    "    if(sum==max):\n",
    "        rezultat.append(item_i)\n",
    "print(\"Suprapunere maxima a lui {} de preferinte ({}) este cu {} \".format(student,max,rezultat))\n",
    "\n",
    "print(\"Subpunctul D:\")\n",
    "stud_A = \"Popescu\"\n",
    "stud_B = \"Ionescu\"\n",
    "adauga = []\n",
    "sterg = []\n",
    "for x in preferinte[stud_A]:\n",
    "    if x not in preferinte[stud_B]:\n",
    "        sterg.append(x)\n",
    "        \n",
    "for x in preferinte[stud_B]:\n",
    "    if x not in preferinte[stud_A]:\n",
    "        adauga.append(x)\n",
    "print(\"Pentru ca {} si {} sa aiba listele identice trebuie adaugate {} si sterse {}\".format(stud_A,stud_B,adauga,sterg))\n",
    "\n",
    "print(\"Subpunctul E\")\n",
    "stud_A = \"Georgescu\"\n",
    "stud_B = \"Ionescu\"\n",
    "for i,item_i in enumerate(preferinte):\n",
    "    set1 = set(preferinte[item_i])\n",
    "    for j,item_j in enumerate(preferinte):\n",
    "        if(item_i==item_j):\n",
    "            continue\n",
    "        set2 = set(preferinte[item_j])   \n",
    "        if(set1.issubset(set2) and set1!=set2):\n",
    "            print(\"Preferintele lui {} sunt un subset propriu a lui {}\".format(item_i,item_j))"
   ]
  },
  {
   "cell_type": "code",
   "execution_count": null,
   "metadata": {},
   "outputs": [],
   "source": []
  }
 ],
 "metadata": {
  "kernelspec": {
   "display_name": "Python 3",
   "language": "python",
   "name": "python3"
  },
  "language_info": {
   "codemirror_mode": {
    "name": "ipython",
    "version": 3
   },
   "file_extension": ".py",
   "mimetype": "text/x-python",
   "name": "python",
   "nbconvert_exporter": "python",
   "pygments_lexer": "ipython3",
   "version": "3.8.5"
  }
 },
 "nbformat": 4,
 "nbformat_minor": 4
}
