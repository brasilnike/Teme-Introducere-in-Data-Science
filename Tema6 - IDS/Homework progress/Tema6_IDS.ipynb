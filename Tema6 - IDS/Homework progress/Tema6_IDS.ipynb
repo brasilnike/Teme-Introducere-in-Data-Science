{
 "cells": [
  {
   "cell_type": "markdown",
   "id": "67dd6de4",
   "metadata": {},
   "source": [
    "# Tema 6 IDS"
   ]
  },
  {
   "cell_type": "code",
   "execution_count": 45,
   "id": "72de68f7",
   "metadata": {
    "ExecuteTime": {
     "end_time": "2021-05-21T08:17:54.135070Z",
     "start_time": "2021-05-21T08:17:54.122375Z"
    }
   },
   "outputs": [
    {
     "name": "stdout",
     "output_type": "stream",
     "text": [
      "\tCurrent Numpy version: 1.20.2\n",
      "\tNumpy version at the creation of the project: 1.20.2\n",
      "\n",
      " \tCurrent Pandas version: 1.2.4\n",
      "\tPandas version at the creation of the project: 1.2.4\n",
      "\n",
      " \tCurrent Regular Expressions version: 2.2.1\n",
      "\tRegular Expressions version at the creation of the project: 2.2.1\n",
      "\n",
      " \tCurrent Seaborn version: 0.11.1\n",
      "\tSeaborn version at the creation of the project: 0.11.1\n"
     ]
    }
   ],
   "source": [
    "import numpy as np\n",
    "import pandas as pd\n",
    "import matplotlib.pyplot as plt\n",
    "import seaborn as sns\n",
    "\n",
    "import re\n",
    "import string\n",
    "import math\n",
    "\n",
    "print(f'\\tCurrent Numpy version: {np.__version__}')\n",
    "print('\\tNumpy version at the creation of the project: 1.20.2')\n",
    "\n",
    "print(f'\\n \\tCurrent Pandas version: {pd.__version__}')\n",
    "print('\\tPandas version at the creation of the project: 1.2.4')\n",
    "\n",
    "print(f'\\n \\tCurrent Regular Expressions version: {re.__version__}')\n",
    "print('\\tRegular Expressions version at the creation of the project: 2.2.1')\n",
    "\n",
    "print(f'\\n \\tCurrent Seaborn version: {sns.__version__}')\n",
    "print('\\tSeaborn version at the creation of the project: 0.11.1')"
   ]
  },
  {
   "cell_type": "code",
   "execution_count": 55,
   "id": "6b3fd62e",
   "metadata": {
    "ExecuteTime": {
     "end_time": "2021-05-21T08:18:50.728986Z",
     "start_time": "2021-05-21T08:18:41.332199Z"
    }
   },
   "outputs": [
    {
     "name": "stdout",
     "output_type": "stream",
     "text": [
      "Requirement already satisfied: nltk in c:\\users\\laur\\anaconda3\\envs\\introducereindatascience\\lib\\site-packages (3.6.1)\n",
      "Requirement already satisfied: regex in c:\\users\\laur\\anaconda3\\envs\\introducereindatascience\\lib\\site-packages (from nltk) (2021.4.4)\n",
      "Requirement already satisfied: click in c:\\users\\laur\\anaconda3\\envs\\introducereindatascience\\lib\\site-packages (from nltk) (7.1.2)\n",
      "Requirement already satisfied: joblib in c:\\users\\laur\\anaconda3\\envs\\introducereindatascience\\lib\\site-packages (from nltk) (1.0.1)\n",
      "Requirement already satisfied: tqdm in c:\\users\\laur\\anaconda3\\envs\\introducereindatascience\\lib\\site-packages (from nltk) (4.59.0)\n"
     ]
    }
   ],
   "source": [
    "!pip install nltk"
   ]
  },
  {
   "cell_type": "code",
   "execution_count": 68,
   "id": "654b1fae",
   "metadata": {
    "ExecuteTime": {
     "end_time": "2021-05-21T08:23:21.566556Z",
     "start_time": "2021-05-21T08:23:21.172246Z"
    }
   },
   "outputs": [
    {
     "name": "stderr",
     "output_type": "stream",
     "text": [
      "[nltk_data] Downloading package stopwords to\n",
      "[nltk_data]     C:\\Users\\Laur\\AppData\\Roaming\\nltk_data...\n",
      "[nltk_data]   Unzipping corpora\\stopwords.zip.\n"
     ]
    },
    {
     "data": {
      "text/plain": [
       "True"
      ]
     },
     "execution_count": 68,
     "metadata": {},
     "output_type": "execute_result"
    }
   ],
   "source": [
    "import nltk\n",
    "nltk.download('stopwords')"
   ]
  },
  {
   "cell_type": "code",
   "execution_count": 69,
   "id": "f15a63ee",
   "metadata": {
    "ExecuteTime": {
     "end_time": "2021-05-21T08:23:30.104203Z",
     "start_time": "2021-05-21T08:23:30.090843Z"
    }
   },
   "outputs": [],
   "source": [
    "from nltk.corpus import stopwords\n",
    "\n",
    "from sklearn.feature_extraction.text import CountVectorizer, TfidfVectorizer\n",
    "from sklearn.feature_extraction.text import TfidfTransformer\n",
    "from sklearn.model_selection import train_test_split\n",
    "from sklearn.pipeline import Pipeline\n",
    "from sklearn.model_selection import cross_validate"
   ]
  },
  {
   "cell_type": "markdown",
   "id": "8e580c06",
   "metadata": {},
   "source": [
    "## Setul de date `SMSSpamCollection`"
   ]
  },
  {
   "cell_type": "markdown",
   "id": "90f09cfb",
   "metadata": {},
   "source": [
    "### Descrierea setului de date"
   ]
  },
  {
   "cell_type": "markdown",
   "id": "dd7b6145",
   "metadata": {},
   "source": [
    "Setul de date `SMSSpamCollection` este un set de mesaje SMS care au fost colectate pentru a analiza SMS-urile de tip Spam. Acesta contine un set de 5574 mesaje text in limba engleza clasificate in 2 categorii: `ham`(mesaje legitime) sau `spam`.\n",
    "\n",
    "Aceste mesaje au fost colectate din resurse gratuite de pe Web:\n",
    "* O colectie de aproximativ 425 SMS-uri de tip spam extrase manual de pe site-ul [Grumbletext](http://www.grumbletext.co.uk). Acesta este un forum din UK in care utilizatorii telefoanelor mobile fac plangeri publice despre mesajele text de tip spam.\n",
    "* O lista de 450 de SMS-uri legitime colectate din [teza de doctorat a lui Caroline Tag](http://etheses.bham.ac.uk/253/1/Tagg09PhD.pdf).\n",
    "* Un subset de 3375 mesaje legitime luate de pe site-ul [NUS SMS Corpus (NSC)](http://www.comp.nus.edu.sg/~rpnlpir/downloads/corpora/smsCorpus/), un site care contine aproximativ 10000 de mesaje SMS legitime colectate pentru research de catre Department of Computer Science at the National University of Singapore. Mesajele provin in mare parte de la oamenii din Singapore si de la studentii de la universitate. Aceste mesaje au fost colectate de voluntari.\n",
    "* Un numar de 1002 SMS-uri legitime si 332 SMS-uri de tip spam extrase din [SMS Spam Corpus v.0.1 Big](http://www.esp.uem.es/jmgomez/smsspamcorpus/), colectie creata de José María Gómez Hidalgo.\n",
    "\n",
    "Setul de date contine un total de 4827 de SMS-uri de tip legitim (86.6%) si 747 de mesaje de tip spam (13.4%)."
   ]
  },
  {
   "cell_type": "markdown",
   "id": "f509610f",
   "metadata": {},
   "source": [
    "### Analiza exploratorie a setului de date"
   ]
  },
  {
   "cell_type": "code",
   "execution_count": 70,
   "id": "95675a0e",
   "metadata": {
    "ExecuteTime": {
     "end_time": "2021-05-21T08:23:31.692275Z",
     "start_time": "2021-05-21T08:23:31.672316Z"
    }
   },
   "outputs": [],
   "source": [
    "data = pd.read_csv(\"data/SMSSpamCollection\", delimiter=\"\\t\", header=None)\n",
    "data = data.rename(columns= {0: 'Type', 1:'Message'})"
   ]
  },
  {
   "cell_type": "code",
   "execution_count": 71,
   "id": "71d74d8b",
   "metadata": {
    "ExecuteTime": {
     "end_time": "2021-05-21T08:23:31.972370Z",
     "start_time": "2021-05-21T08:23:31.953270Z"
    }
   },
   "outputs": [
    {
     "data": {
      "text/html": [
       "<div>\n",
       "<style scoped>\n",
       "    .dataframe tbody tr th:only-of-type {\n",
       "        vertical-align: middle;\n",
       "    }\n",
       "\n",
       "    .dataframe tbody tr th {\n",
       "        vertical-align: top;\n",
       "    }\n",
       "\n",
       "    .dataframe thead th {\n",
       "        text-align: right;\n",
       "    }\n",
       "</style>\n",
       "<table border=\"1\" class=\"dataframe\">\n",
       "  <thead>\n",
       "    <tr style=\"text-align: right;\">\n",
       "      <th></th>\n",
       "      <th>Type</th>\n",
       "      <th>Message</th>\n",
       "    </tr>\n",
       "  </thead>\n",
       "  <tbody>\n",
       "    <tr>\n",
       "      <th>0</th>\n",
       "      <td>ham</td>\n",
       "      <td>Go until jurong point, crazy.. Available only ...</td>\n",
       "    </tr>\n",
       "    <tr>\n",
       "      <th>1</th>\n",
       "      <td>ham</td>\n",
       "      <td>Ok lar... Joking wif u oni...</td>\n",
       "    </tr>\n",
       "    <tr>\n",
       "      <th>2</th>\n",
       "      <td>spam</td>\n",
       "      <td>Free entry in 2 a wkly comp to win FA Cup fina...</td>\n",
       "    </tr>\n",
       "    <tr>\n",
       "      <th>3</th>\n",
       "      <td>ham</td>\n",
       "      <td>U dun say so early hor... U c already then say...</td>\n",
       "    </tr>\n",
       "    <tr>\n",
       "      <th>4</th>\n",
       "      <td>ham</td>\n",
       "      <td>Nah I don't think he goes to usf, he lives aro...</td>\n",
       "    </tr>\n",
       "  </tbody>\n",
       "</table>\n",
       "</div>"
      ],
      "text/plain": [
       "   Type                                            Message\n",
       "0   ham  Go until jurong point, crazy.. Available only ...\n",
       "1   ham                      Ok lar... Joking wif u oni...\n",
       "2  spam  Free entry in 2 a wkly comp to win FA Cup fina...\n",
       "3   ham  U dun say so early hor... U c already then say...\n",
       "4   ham  Nah I don't think he goes to usf, he lives aro..."
      ]
     },
     "execution_count": 71,
     "metadata": {},
     "output_type": "execute_result"
    }
   ],
   "source": [
    "data.head()"
   ]
  },
  {
   "cell_type": "code",
   "execution_count": 72,
   "id": "07a9870d",
   "metadata": {
    "ExecuteTime": {
     "end_time": "2021-05-21T08:23:32.314920Z",
     "start_time": "2021-05-21T08:23:32.293934Z"
    }
   },
   "outputs": [
    {
     "data": {
      "text/html": [
       "<div>\n",
       "<style scoped>\n",
       "    .dataframe tbody tr th:only-of-type {\n",
       "        vertical-align: middle;\n",
       "    }\n",
       "\n",
       "    .dataframe tbody tr th {\n",
       "        vertical-align: top;\n",
       "    }\n",
       "\n",
       "    .dataframe thead th {\n",
       "        text-align: right;\n",
       "    }\n",
       "</style>\n",
       "<table border=\"1\" class=\"dataframe\">\n",
       "  <thead>\n",
       "    <tr style=\"text-align: right;\">\n",
       "      <th></th>\n",
       "      <th>Type</th>\n",
       "      <th>Message</th>\n",
       "    </tr>\n",
       "  </thead>\n",
       "  <tbody>\n",
       "    <tr>\n",
       "      <th>count</th>\n",
       "      <td>5572</td>\n",
       "      <td>5572</td>\n",
       "    </tr>\n",
       "    <tr>\n",
       "      <th>unique</th>\n",
       "      <td>2</td>\n",
       "      <td>5169</td>\n",
       "    </tr>\n",
       "    <tr>\n",
       "      <th>top</th>\n",
       "      <td>ham</td>\n",
       "      <td>Sorry, I'll call later</td>\n",
       "    </tr>\n",
       "    <tr>\n",
       "      <th>freq</th>\n",
       "      <td>4825</td>\n",
       "      <td>30</td>\n",
       "    </tr>\n",
       "  </tbody>\n",
       "</table>\n",
       "</div>"
      ],
      "text/plain": [
       "        Type                 Message\n",
       "count   5572                    5572\n",
       "unique     2                    5169\n",
       "top      ham  Sorry, I'll call later\n",
       "freq    4825                      30"
      ]
     },
     "execution_count": 72,
     "metadata": {},
     "output_type": "execute_result"
    }
   ],
   "source": [
    "data.describe()"
   ]
  },
  {
   "cell_type": "code",
   "execution_count": 73,
   "id": "19b8bef1",
   "metadata": {
    "ExecuteTime": {
     "end_time": "2021-05-21T08:23:32.626144Z",
     "start_time": "2021-05-21T08:23:32.612342Z"
    }
   },
   "outputs": [
    {
     "data": {
      "text/html": [
       "<div>\n",
       "<style scoped>\n",
       "    .dataframe tbody tr th:only-of-type {\n",
       "        vertical-align: middle;\n",
       "    }\n",
       "\n",
       "    .dataframe tbody tr th {\n",
       "        vertical-align: top;\n",
       "    }\n",
       "\n",
       "    .dataframe thead th {\n",
       "        text-align: right;\n",
       "    }\n",
       "</style>\n",
       "<table border=\"1\" class=\"dataframe\">\n",
       "  <thead>\n",
       "    <tr style=\"text-align: right;\">\n",
       "      <th></th>\n",
       "      <th>Type</th>\n",
       "      <th>Message</th>\n",
       "      <th>SMS_Length</th>\n",
       "    </tr>\n",
       "  </thead>\n",
       "  <tbody>\n",
       "    <tr>\n",
       "      <th>0</th>\n",
       "      <td>ham</td>\n",
       "      <td>Go until jurong point, crazy.. Available only ...</td>\n",
       "      <td>111</td>\n",
       "    </tr>\n",
       "    <tr>\n",
       "      <th>1</th>\n",
       "      <td>ham</td>\n",
       "      <td>Ok lar... Joking wif u oni...</td>\n",
       "      <td>29</td>\n",
       "    </tr>\n",
       "    <tr>\n",
       "      <th>2</th>\n",
       "      <td>spam</td>\n",
       "      <td>Free entry in 2 a wkly comp to win FA Cup fina...</td>\n",
       "      <td>155</td>\n",
       "    </tr>\n",
       "    <tr>\n",
       "      <th>3</th>\n",
       "      <td>ham</td>\n",
       "      <td>U dun say so early hor... U c already then say...</td>\n",
       "      <td>49</td>\n",
       "    </tr>\n",
       "    <tr>\n",
       "      <th>4</th>\n",
       "      <td>ham</td>\n",
       "      <td>Nah I don't think he goes to usf, he lives aro...</td>\n",
       "      <td>61</td>\n",
       "    </tr>\n",
       "  </tbody>\n",
       "</table>\n",
       "</div>"
      ],
      "text/plain": [
       "   Type                                            Message  SMS_Length\n",
       "0   ham  Go until jurong point, crazy.. Available only ...         111\n",
       "1   ham                      Ok lar... Joking wif u oni...          29\n",
       "2  spam  Free entry in 2 a wkly comp to win FA Cup fina...         155\n",
       "3   ham  U dun say so early hor... U c already then say...          49\n",
       "4   ham  Nah I don't think he goes to usf, he lives aro...          61"
      ]
     },
     "execution_count": 73,
     "metadata": {},
     "output_type": "execute_result"
    }
   ],
   "source": [
    "data['SMS_Length'] = data['Message'].apply(len)\n",
    "data.head()"
   ]
  },
  {
   "cell_type": "markdown",
   "id": "463a01c4",
   "metadata": {},
   "source": [
    "Putem observa din tabelul de mai jos urmatoarele detalii:\n",
    "1. Numarul de mesaje legitime este mare in comparatie cu numarul mesajelor de tip spam.\n",
    "2. Mesajele de tip spam sunt mai lungi decat mesajele legitime.\n",
    "3. Lungimea medie pentru SMS-urile legitime este 71, insa lungimea maxima a unui mesaj din setul de date este 910."
   ]
  },
  {
   "cell_type": "code",
   "execution_count": 74,
   "id": "2e042322",
   "metadata": {
    "ExecuteTime": {
     "end_time": "2021-05-21T08:23:33.377860Z",
     "start_time": "2021-05-21T08:23:33.353295Z"
    }
   },
   "outputs": [
    {
     "data": {
      "text/html": [
       "<div>\n",
       "<style scoped>\n",
       "    .dataframe tbody tr th:only-of-type {\n",
       "        vertical-align: middle;\n",
       "    }\n",
       "\n",
       "    .dataframe tbody tr th {\n",
       "        vertical-align: top;\n",
       "    }\n",
       "\n",
       "    .dataframe thead tr th {\n",
       "        text-align: left;\n",
       "    }\n",
       "\n",
       "    .dataframe thead tr:last-of-type th {\n",
       "        text-align: right;\n",
       "    }\n",
       "</style>\n",
       "<table border=\"1\" class=\"dataframe\">\n",
       "  <thead>\n",
       "    <tr>\n",
       "      <th></th>\n",
       "      <th colspan=\"8\" halign=\"left\">SMS_Length</th>\n",
       "    </tr>\n",
       "    <tr>\n",
       "      <th></th>\n",
       "      <th>count</th>\n",
       "      <th>mean</th>\n",
       "      <th>std</th>\n",
       "      <th>min</th>\n",
       "      <th>25%</th>\n",
       "      <th>50%</th>\n",
       "      <th>75%</th>\n",
       "      <th>max</th>\n",
       "    </tr>\n",
       "    <tr>\n",
       "      <th>Type</th>\n",
       "      <th></th>\n",
       "      <th></th>\n",
       "      <th></th>\n",
       "      <th></th>\n",
       "      <th></th>\n",
       "      <th></th>\n",
       "      <th></th>\n",
       "      <th></th>\n",
       "    </tr>\n",
       "  </thead>\n",
       "  <tbody>\n",
       "    <tr>\n",
       "      <th>ham</th>\n",
       "      <td>4825.0</td>\n",
       "      <td>71.482487</td>\n",
       "      <td>58.440652</td>\n",
       "      <td>2.0</td>\n",
       "      <td>33.0</td>\n",
       "      <td>52.0</td>\n",
       "      <td>93.0</td>\n",
       "      <td>910.0</td>\n",
       "    </tr>\n",
       "    <tr>\n",
       "      <th>spam</th>\n",
       "      <td>747.0</td>\n",
       "      <td>138.670683</td>\n",
       "      <td>28.873603</td>\n",
       "      <td>13.0</td>\n",
       "      <td>133.0</td>\n",
       "      <td>149.0</td>\n",
       "      <td>157.0</td>\n",
       "      <td>223.0</td>\n",
       "    </tr>\n",
       "  </tbody>\n",
       "</table>\n",
       "</div>"
      ],
      "text/plain": [
       "     SMS_Length                                                         \n",
       "          count        mean        std   min    25%    50%    75%    max\n",
       "Type                                                                    \n",
       "ham      4825.0   71.482487  58.440652   2.0   33.0   52.0   93.0  910.0\n",
       "spam      747.0  138.670683  28.873603  13.0  133.0  149.0  157.0  223.0"
      ]
     },
     "execution_count": 74,
     "metadata": {},
     "output_type": "execute_result"
    }
   ],
   "source": [
    "data.groupby('Type').describe()"
   ]
  },
  {
   "cell_type": "code",
   "execution_count": 75,
   "id": "e0c62bb9",
   "metadata": {
    "ExecuteTime": {
     "end_time": "2021-05-21T08:23:34.097886Z",
     "start_time": "2021-05-21T08:23:33.695780Z"
    }
   },
   "outputs": [
    {
     "data": {
      "image/png": "[encoded data removed]",
      "text/plain": [
       "<Figure size 864x288 with 2 Axes>"
      ]
     },
     "metadata": {
      "needs_background": "light"
     },
     "output_type": "display_data"
    }
   ],
   "source": [
    "ply, axes = plt.subplots(nrows=1, ncols=2, figsize = (12,4))\n",
    "axes[0].scatter(x='Type', y='SMS_Length', data=data)\n",
    "sns.histplot(data, color='red', label='SMS_Length', kde=True, stat='density',linewidth=0);"
   ]
  },
  {
   "cell_type": "markdown",
   "id": "66947058",
   "metadata": {},
   "source": [
    "Distributia lungimii SMS-urilor este foarte inclinata. De asemenea, putem observa valori aberante in categoria mesajelor legitime"
   ]
  },
  {
   "cell_type": "code",
   "execution_count": 76,
   "id": "e131e727",
   "metadata": {
    "ExecuteTime": {
     "end_time": "2021-05-21T08:23:34.801499Z",
     "start_time": "2021-05-21T08:23:34.691673Z"
    }
   },
   "outputs": [
    {
     "data": {
      "image/png": "[encoded data removed]",
      "text/plain": [
       "<Figure size 432x288 with 1 Axes>"
      ]
     },
     "metadata": {
      "needs_background": "light"
     },
     "output_type": "display_data"
    }
   ],
   "source": [
    "sns.boxplot(x='Type', y='SMS_Length', data=data);"
   ]
  },
  {
   "cell_type": "markdown",
   "id": "262c25ce",
   "metadata": {},
   "source": [
    "Vom renunta la valorile aberante, adica la mesajele cu o lungime mai mare sau egala cu 790."
   ]
  },
  {
   "cell_type": "code",
   "execution_count": 77,
   "id": "f24e40aa",
   "metadata": {
    "ExecuteTime": {
     "end_time": "2021-05-21T08:23:35.771544Z",
     "start_time": "2021-05-21T08:23:35.729195Z"
    }
   },
   "outputs": [
    {
     "data": {
      "text/html": [
       "<div>\n",
       "<style scoped>\n",
       "    .dataframe tbody tr th:only-of-type {\n",
       "        vertical-align: middle;\n",
       "    }\n",
       "\n",
       "    .dataframe tbody tr th {\n",
       "        vertical-align: top;\n",
       "    }\n",
       "\n",
       "    .dataframe thead tr th {\n",
       "        text-align: left;\n",
       "    }\n",
       "\n",
       "    .dataframe thead tr:last-of-type th {\n",
       "        text-align: right;\n",
       "    }\n",
       "</style>\n",
       "<table border=\"1\" class=\"dataframe\">\n",
       "  <thead>\n",
       "    <tr>\n",
       "      <th></th>\n",
       "      <th colspan=\"8\" halign=\"left\">SMS_Length</th>\n",
       "    </tr>\n",
       "    <tr>\n",
       "      <th></th>\n",
       "      <th>count</th>\n",
       "      <th>mean</th>\n",
       "      <th>std</th>\n",
       "      <th>min</th>\n",
       "      <th>25%</th>\n",
       "      <th>50%</th>\n",
       "      <th>75%</th>\n",
       "      <th>max</th>\n",
       "    </tr>\n",
       "    <tr>\n",
       "      <th>Type</th>\n",
       "      <th></th>\n",
       "      <th></th>\n",
       "      <th></th>\n",
       "      <th></th>\n",
       "      <th></th>\n",
       "      <th></th>\n",
       "      <th></th>\n",
       "      <th></th>\n",
       "    </tr>\n",
       "  </thead>\n",
       "  <tbody>\n",
       "    <tr>\n",
       "      <th>ham</th>\n",
       "      <td>4823.0</td>\n",
       "      <td>71.159652</td>\n",
       "      <td>56.247168</td>\n",
       "      <td>2.0</td>\n",
       "      <td>33.0</td>\n",
       "      <td>52.0</td>\n",
       "      <td>93.0</td>\n",
       "      <td>629.0</td>\n",
       "    </tr>\n",
       "    <tr>\n",
       "      <th>spam</th>\n",
       "      <td>747.0</td>\n",
       "      <td>138.670683</td>\n",
       "      <td>28.873603</td>\n",
       "      <td>13.0</td>\n",
       "      <td>133.0</td>\n",
       "      <td>149.0</td>\n",
       "      <td>157.0</td>\n",
       "      <td>223.0</td>\n",
       "    </tr>\n",
       "  </tbody>\n",
       "</table>\n",
       "</div>"
      ],
      "text/plain": [
       "     SMS_Length                                                         \n",
       "          count        mean        std   min    25%    50%    75%    max\n",
       "Type                                                                    \n",
       "ham      4823.0   71.159652  56.247168   2.0   33.0   52.0   93.0  629.0\n",
       "spam      747.0  138.670683  28.873603  13.0  133.0  149.0  157.0  223.0"
      ]
     },
     "execution_count": 77,
     "metadata": {},
     "output_type": "execute_result"
    }
   ],
   "source": [
    "data[data['SMS_Length'] >= 790].index\n",
    "data.drop(data[data['SMS_Length'] >= 790].index, axis = 0, inplace=True)\n",
    "\n",
    "data.groupby('Type').describe()"
   ]
  },
  {
   "cell_type": "markdown",
   "id": "45825084",
   "metadata": {},
   "source": [
    "### Preprocesarea datelor"
   ]
  },
  {
   "cell_type": "code",
   "execution_count": 78,
   "id": "d3e28752",
   "metadata": {
    "ExecuteTime": {
     "end_time": "2021-05-21T08:23:36.530644Z",
     "start_time": "2021-05-21T08:23:36.520125Z"
    }
   },
   "outputs": [],
   "source": [
    "def text_process(text):\n",
    "    nopunct = [c for c in text if c not in string.punctuation]\n",
    "    nopunct = ''.join(nopunct)\n",
    "    clean_words = [word for word in nopunct.split() if word.lower() not in stopwords.words('english')]\n",
    "    return clean_words"
   ]
  },
  {
   "cell_type": "code",
   "execution_count": 80,
   "id": "e99514f1",
   "metadata": {
    "ExecuteTime": {
     "end_time": "2021-05-21T08:24:30.438874Z",
     "start_time": "2021-05-21T08:24:14.063764Z"
    }
   },
   "outputs": [
    {
     "data": {
      "text/plain": [
       "(5570, 11403)"
      ]
     },
     "execution_count": 80,
     "metadata": {},
     "output_type": "execute_result"
    }
   ],
   "source": [
    "bow_transform = CountVectorizer(analyzer=text_process).fit_transform(data['Message'])\n",
    "\n",
    "bow_transform.shape"
   ]
  },
  {
   "cell_type": "code",
   "execution_count": 88,
   "id": "0320a9ad",
   "metadata": {
    "ExecuteTime": {
     "end_time": "2021-05-21T08:32:09.113749Z",
     "start_time": "2021-05-21T08:31:52.645635Z"
    }
   },
   "outputs": [],
   "source": [
    "tfidf = TfidfVectorizer(analyzer=text_process).fit_transform(data['Message'])"
   ]
  },
  {
   "cell_type": "code",
   "execution_count": 89,
   "id": "5f4ac006",
   "metadata": {
    "ExecuteTime": {
     "end_time": "2021-05-21T08:33:16.445600Z",
     "start_time": "2021-05-21T08:33:16.436448Z"
    }
   },
   "outputs": [],
   "source": [
    "X_train, X_test, y_train, y_test = train_test_split(data['Message'], data['Type'], test_size=1/4, random_state=42)"
   ]
  },
  {
   "cell_type": "code",
   "execution_count": 91,
   "id": "c6294ffe",
   "metadata": {
    "ExecuteTime": {
     "end_time": "2021-05-21T08:34:08.319465Z",
     "start_time": "2021-05-21T08:34:08.308527Z"
    }
   },
   "outputs": [],
   "source": [
    "from sklearn.naive_bayes import MultinomialNB"
   ]
  },
  {
   "cell_type": "code",
   "execution_count": 92,
   "id": "ba444e7a",
   "metadata": {
    "ExecuteTime": {
     "end_time": "2021-05-21T08:41:29.653492Z",
     "start_time": "2021-05-21T08:41:29.642945Z"
    }
   },
   "outputs": [],
   "source": [
    "pipeline = Pipeline([('wordtokenizer', TfidfVectorizer(analyzer=text_process)), ('model', MultinomialNB())])"
   ]
  },
  {
   "cell_type": "code",
   "execution_count": 93,
   "id": "59eae74e",
   "metadata": {
    "ExecuteTime": {
     "end_time": "2021-05-21T08:41:57.504942Z",
     "start_time": "2021-05-21T08:41:45.095695Z"
    }
   },
   "outputs": [
    {
     "data": {
      "text/plain": [
       "Pipeline(steps=[('wordtokenizer',\n",
       "                 TfidfVectorizer(analyzer=<function text_process at 0x000001BC8DA75040>)),\n",
       "                ('model', MultinomialNB())])"
      ]
     },
     "execution_count": 93,
     "metadata": {},
     "output_type": "execute_result"
    }
   ],
   "source": [
    "pipeline.fit(X_train, y_train);"
   ]
  },
  {
   "cell_type": "code",
   "execution_count": 94,
   "id": "db582966",
   "metadata": {
    "ExecuteTime": {
     "end_time": "2021-05-21T08:42:51.721720Z",
     "start_time": "2021-05-21T08:42:47.546889Z"
    }
   },
   "outputs": [],
   "source": [
    "preds = pipeline.predict(X_test)"
   ]
  },
  {
   "cell_type": "code",
   "execution_count": 97,
   "id": "d211b532",
   "metadata": {
    "ExecuteTime": {
     "end_time": "2021-05-21T08:44:42.869980Z",
     "start_time": "2021-05-21T08:44:42.826160Z"
    }
   },
   "outputs": [
    {
     "name": "stdout",
     "output_type": "stream",
     "text": [
      "              precision    recall  f1-score   support\n",
      "\n",
      "         ham       1.00      0.96      0.98      1247\n",
      "        spam       0.76      1.00      0.86       146\n",
      "\n",
      "    accuracy                           0.97      1393\n",
      "   macro avg       0.88      0.98      0.92      1393\n",
      "weighted avg       0.97      0.97      0.97      1393\n",
      "\n",
      "Naive Bayes Accuracy Score:  0.9669777458722182\n"
     ]
    }
   ],
   "source": [
    "from sklearn.metrics import accuracy_score, f1_score, classification_report\n",
    "print(classification_report(preds, y_test))\n",
    "\n",
    "print('Naive Bayes Accuracy Score: ', accuracy_score(preds, y_test))"
   ]
  },
  {
   "cell_type": "code",
   "execution_count": null,
   "id": "ed504f23",
   "metadata": {},
   "outputs": [],
   "source": []
  },
  {
   "cell_type": "code",
   "execution_count": null,
   "id": "7237aa9c",
   "metadata": {},
   "outputs": [],
   "source": []
  },
  {
   "cell_type": "code",
   "execution_count": 110,
   "id": "81733f64",
   "metadata": {
    "ExecuteTime": {
     "end_time": "2021-05-18T16:35:17.379377Z",
     "start_time": "2021-05-18T16:35:17.368832Z"
    }
   },
   "outputs": [],
   "source": [
    "y_data = data.iloc[:, 0]\n",
    "X_data = data.iloc[:, -1]"
   ]
  },
  {
   "cell_type": "code",
   "execution_count": 111,
   "id": "2b177250",
   "metadata": {
    "ExecuteTime": {
     "end_time": "2021-05-18T16:35:17.865110Z",
     "start_time": "2021-05-18T16:35:17.857621Z"
    }
   },
   "outputs": [
    {
     "name": "stdout",
     "output_type": "stream",
     "text": [
      "X =\n",
      " 0       Go until jurong point, crazy.. Available only ...\n",
      "1                           Ok lar... Joking wif u oni...\n",
      "2       Free entry in 2 a wkly comp to win FA Cup fina...\n",
      "3       U dun say so early hor... U c already then say...\n",
      "4       Nah I don't think he goes to usf, he lives aro...\n",
      "                              ...                        \n",
      "5567    This is the 2nd time we have tried 2 contact u...\n",
      "5568                 Will ü b going to esplanade fr home?\n",
      "5569    Pity, * was in mood for that. So...any other s...\n",
      "5570    The guy did some bitching but I acted like i'd...\n",
      "5571                           Rofl. Its true to its name\n",
      "Name: 1, Length: 5572, dtype: object\n",
      "\n",
      "\n",
      "y =\n",
      " 0        ham\n",
      "1        ham\n",
      "2       spam\n",
      "3        ham\n",
      "4        ham\n",
      "        ... \n",
      "5567    spam\n",
      "5568     ham\n",
      "5569     ham\n",
      "5570     ham\n",
      "5571     ham\n",
      "Name: 0, Length: 5572, dtype: object\n"
     ]
    }
   ],
   "source": [
    "print(f'X =\\n {X_data}')\n",
    "print(f'\\n\\ny =\\n {y_data}')"
   ]
  },
  {
   "cell_type": "code",
   "execution_count": 112,
   "id": "2b0b7d39",
   "metadata": {
    "ExecuteTime": {
     "end_time": "2021-05-18T16:35:18.283389Z",
     "start_time": "2021-05-18T16:35:18.244262Z"
    }
   },
   "outputs": [],
   "source": [
    "import string\n",
    "data = [line.translate(str.maketrans('','', string.punctuation)) for line in X_data]"
   ]
  },
  {
   "cell_type": "code",
   "execution_count": 113,
   "id": "b5d42cc1",
   "metadata": {
    "ExecuteTime": {
     "end_time": "2021-05-18T16:35:18.730544Z",
     "start_time": "2021-05-18T16:35:18.711420Z"
    }
   },
   "outputs": [],
   "source": [
    "X_data = np.array(data)"
   ]
  },
  {
   "cell_type": "code",
   "execution_count": 114,
   "id": "9f131762",
   "metadata": {
    "ExecuteTime": {
     "end_time": "2021-05-18T16:35:19.412136Z",
     "start_time": "2021-05-18T16:35:19.395538Z"
    }
   },
   "outputs": [
    {
     "name": "stdout",
     "output_type": "stream",
     "text": [
      "['Go until jurong point crazy Available only in bugis n great world la e buffet Cine there got amore wat'\n",
      " 'Ok lar Joking wif u oni'\n",
      " 'Free entry in 2 a wkly comp to win FA Cup final tkts 21st May 2005 Text FA to 87121 to receive entry questionstd txt rateTCs apply 08452810075over18s'\n",
      " ... 'Pity  was in mood for that Soany other suggestions'\n",
      " 'The guy did some bitching but I acted like id be interested in buying something else next week and he gave it to us for free'\n",
      " 'Rofl Its true to its name']\n"
     ]
    }
   ],
   "source": [
    "print(X_data)"
   ]
  },
  {
   "cell_type": "code",
   "execution_count": 115,
   "id": "504d89a5",
   "metadata": {
    "ExecuteTime": {
     "end_time": "2021-05-18T16:35:19.944555Z",
     "start_time": "2021-05-18T16:35:19.934075Z"
    }
   },
   "outputs": [
    {
     "name": "stdout",
     "output_type": "stream",
     "text": [
      "[1 1 0 ... 1 1 1]\n"
     ]
    }
   ],
   "source": [
    "y_data = np.where(y_data=='ham', 1, y_data)\n",
    "y_data = np.where(y_data=='spam', 0, y_data)\n",
    "\n",
    "print(y_data)"
   ]
  },
  {
   "cell_type": "code",
   "execution_count": 116,
   "id": "28ac9385",
   "metadata": {
    "ExecuteTime": {
     "end_time": "2021-05-18T16:35:20.799315Z",
     "start_time": "2021-05-18T16:35:20.788511Z"
    }
   },
   "outputs": [],
   "source": [
    "from sklearn.model_selection import train_test_split\n",
    "\n",
    "X_train, X_test, y_train, y_test = train_test_split(X_data, y_data, test_size = 1/3)"
   ]
  },
  {
   "cell_type": "code",
   "execution_count": 117,
   "id": "9bf12b5c",
   "metadata": {
    "ExecuteTime": {
     "end_time": "2021-05-18T16:35:25.789075Z",
     "start_time": "2021-05-18T16:35:25.779424Z"
    }
   },
   "outputs": [
    {
     "name": "stdout",
     "output_type": "stream",
     "text": [
      "['Tell me again what your address is'\n",
      " 'You have an important customer service announcement from PREMIER Call FREEPHONE 0800 542 0578 now'\n",
      " 'Yo do you know anyone  ltgt  or otherwise able to buy liquor Our guy flaked and right now if we dont get a hold of somebody its just 4 loko all night'\n",
      " ...\n",
      " 'Do you ever notice that when youre driving anyone going slower than you is an idiot and everyone driving faster than you is a maniac'\n",
      " ' sad puppy noise' 'Im going for bath will msg you next  ltgt  min']\n"
     ]
    }
   ],
   "source": [
    "print(X_train)"
   ]
  },
  {
   "cell_type": "code",
   "execution_count": 118,
   "id": "9b3b97a7",
   "metadata": {
    "ExecuteTime": {
     "end_time": "2021-05-18T16:35:26.380863Z",
     "start_time": "2021-05-18T16:35:26.367695Z"
    }
   },
   "outputs": [
    {
     "name": "stdout",
     "output_type": "stream",
     "text": [
      "['Ki didt see youkwhere are you now' 'MMM  Fuck  Merry Christmas to me'\n",
      " 'Hey gorgeous man My work mobile number is Have a good one babe Squishy Mwahs'\n",
      " ...\n",
      " 'Yeah we can probably swing by once my roommate finishes up with his girl'\n",
      " 'What happen dear Why you silent I am tensed'\n",
      " 'Compliments to you Was away from the system How your side']\n"
     ]
    }
   ],
   "source": [
    "print(X_test)"
   ]
  },
  {
   "cell_type": "code",
   "execution_count": 119,
   "id": "53b17467",
   "metadata": {
    "ExecuteTime": {
     "end_time": "2021-05-18T16:35:26.955643Z",
     "start_time": "2021-05-18T16:35:26.939267Z"
    }
   },
   "outputs": [
    {
     "name": "stdout",
     "output_type": "stream",
     "text": [
      "[1 0 1 ... 0 1 1]\n"
     ]
    }
   ],
   "source": [
    "print(y_train)"
   ]
  },
  {
   "cell_type": "code",
   "execution_count": 120,
   "id": "49d844d3",
   "metadata": {
    "ExecuteTime": {
     "end_time": "2021-05-18T16:35:27.622486Z",
     "start_time": "2021-05-18T16:35:27.610118Z"
    }
   },
   "outputs": [
    {
     "name": "stdout",
     "output_type": "stream",
     "text": [
      "[1 1 1 ... 1 1 1]\n"
     ]
    }
   ],
   "source": [
    "print(y_test)"
   ]
  },
  {
   "cell_type": "markdown",
   "id": "f46f3719",
   "metadata": {},
   "source": [
    "Bag of Words"
   ]
  },
  {
   "cell_type": "code",
   "execution_count": 121,
   "id": "24592c49",
   "metadata": {
    "ExecuteTime": {
     "end_time": "2021-05-18T16:35:28.856507Z",
     "start_time": "2021-05-18T16:35:28.750884Z"
    }
   },
   "outputs": [
    {
     "name": "stdout",
     "output_type": "stream",
     "text": [
      "<3714x7598 sparse matrix of type '<class 'numpy.int64'>'\n",
      "\twith 48980 stored elements in Compressed Sparse Row format>\n"
     ]
    }
   ],
   "source": [
    "from sklearn.feature_extraction.text import CountVectorizer\n",
    "\n",
    "vect = CountVectorizer()\n",
    "X_train = vect.fit_transform(X_train)\n",
    "print(repr(X_train))\n",
    "\n",
    "X_test = vect.fit_transform(X_test)"
   ]
  },
  {
   "cell_type": "code",
   "execution_count": 122,
   "id": "c8eb9199",
   "metadata": {
    "ExecuteTime": {
     "end_time": "2021-05-18T16:35:59.458283Z",
     "start_time": "2021-05-18T16:35:59.448310Z"
    }
   },
   "outputs": [
    {
     "name": "stdout",
     "output_type": "stream",
     "text": [
      "Dimensiune vocabular: 4969\n"
     ]
    }
   ],
   "source": [
    "print(f'Dimensiune vocabular: {len(vect.vocabulary_)}')"
   ]
  },
  {
   "cell_type": "code",
   "execution_count": 123,
   "id": "3d81d85c",
   "metadata": {
    "ExecuteTime": {
     "end_time": "2021-05-18T16:36:55.538289Z",
     "start_time": "2021-05-18T16:36:55.525189Z"
    }
   },
   "outputs": [
    {
     "name": "stdout",
     "output_type": "stream",
     "text": [
      "Dimensiunea vocabularului: 4969\n"
     ]
    }
   ],
   "source": [
    "feature_names = vect.get_feature_names()\n",
    "print(f'Dimensiunea vocabularului: {len(feature_names)}')"
   ]
  },
  {
   "cell_type": "code",
   "execution_count": 124,
   "id": "782d4380",
   "metadata": {
    "ExecuteTime": {
     "end_time": "2021-05-18T16:37:21.906070Z",
     "start_time": "2021-05-18T16:37:21.895092Z"
    }
   },
   "outputs": [
    {
     "name": "stdout",
     "output_type": "stream",
     "text": [
      "['020603', '0207', '02073162414', '02085076972', '050703', '06', '07008009200', '0721072', '07732584351', '07815296484', '07821230901', '0796xxxxxx', '07xxxxxxxxx', '0800', '08000776320', '08000839402', '08000930705', '08000938767', '08001950382', '08002888812']\n"
     ]
    }
   ],
   "source": [
    "print(feature_names[:20])"
   ]
  },
  {
   "cell_type": "code",
   "execution_count": 125,
   "id": "dce6785b",
   "metadata": {
    "ExecuteTime": {
     "end_time": "2021-05-18T16:37:46.823051Z",
     "start_time": "2021-05-18T16:37:46.818064Z"
    }
   },
   "outputs": [
    {
     "name": "stdout",
     "output_type": "stream",
     "text": [
      "['yourjob', 'yours', 'yourself', 'youso', 'youve', 'yoville', 'yr', 'yrs', 'yummmm', 'yun', 'yunny', 'yuou', 'yup', 'yupz', 'ywhere', 'zed', 'zoe', 'zogtorius', 'zoom', 'üll']\n"
     ]
    }
   ],
   "source": [
    "print(feature_names[-20:])"
   ]
  },
  {
   "cell_type": "code",
   "execution_count": 126,
   "id": "78fc374c",
   "metadata": {
    "ExecuteTime": {
     "end_time": "2021-05-18T16:38:18.495277Z",
     "start_time": "2021-05-18T16:38:18.477300Z"
    }
   },
   "outputs": [
    {
     "name": "stdout",
     "output_type": "stream",
     "text": [
      "['govtinstituitions', 'gprs', 'gpu', 'gr8', 'grab', 'grahmbell', 'gram', 'grand', 'grandfather', 'grandma', 'granted', 'graphics', 'grave', 'gray', 'great', 'greatbhaji', 'greatbye', 'green', 'greet', 'greeting']\n"
     ]
    }
   ],
   "source": [
    "print(feature_names[2000:2020])"
   ]
  },
  {
   "cell_type": "code",
   "execution_count": 127,
   "id": "70c166c5",
   "metadata": {
    "ExecuteTime": {
     "end_time": "2021-05-18T16:42:09.679889Z",
     "start_time": "2021-05-18T16:42:09.584953Z"
    }
   },
   "outputs": [],
   "source": [
    "from sklearn.model_selection import cross_validate\n",
    "from sklearn.linear_model import LogisticRegression"
   ]
  },
  {
   "cell_type": "code",
   "execution_count": null,
   "id": "fb7a311c",
   "metadata": {},
   "outputs": [],
   "source": [
    "scores = cross_validate(LogisticRegression(), X_train, y_train, cv=5, scoring=['f1_macro', 'accuracy'])"
   ]
  }
 ],
 "metadata": {
  "kernelspec": {
   "display_name": "Python 3",
   "language": "python",
   "name": "python3"
  },
  "language_info": {
   "codemirror_mode": {
    "name": "ipython",
    "version": 3
   },
   "file_extension": ".py",
   "mimetype": "text/x-python",
   "name": "python",
   "nbconvert_exporter": "python",
   "pygments_lexer": "ipython3",
   "version": "3.8.8"
  },
  "toc": {
   "base_numbering": 1,
   "nav_menu": {
    "height": "251px",
    "width": "358px"
   },
   "number_sections": true,
   "sideBar": true,
   "skip_h1_title": false,
   "title_cell": "Table of Contents",
   "title_sidebar": "Contents",
   "toc_cell": false,
   "toc_position": {},
   "toc_section_display": true,
   "toc_window_display": false
  }
 },
 "nbformat": 4,
 "nbformat_minor": 5
}
