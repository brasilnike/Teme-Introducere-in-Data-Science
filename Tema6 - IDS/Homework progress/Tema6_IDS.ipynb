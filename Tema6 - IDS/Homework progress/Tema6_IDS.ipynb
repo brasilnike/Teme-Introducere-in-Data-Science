{
 "cells": [
  {
   "cell_type": "markdown",
   "id": "67dd6de4",
   "metadata": {},
   "source": [
    "# Tema 6 IDS"
   ]
  },
  {
   "cell_type": "code",
   "execution_count": 1,
   "id": "72de68f7",
   "metadata": {
    "ExecuteTime": {
     "end_time": "2021-05-25T16:54:31.985441Z",
     "start_time": "2021-05-25T16:54:28.998891Z"
    }
   },
   "outputs": [
    {
     "name": "stdout",
     "output_type": "stream",
     "text": [
      "\tCurrent Numpy version: 1.20.2\n",
      "\tNumpy version at the creation of the project: 1.20.2\n",
      "\n",
      " \tCurrent Pandas version: 1.2.4\n",
      "\tPandas version at the creation of the project: 1.2.4\n",
      "\n",
      " \tCurrent Regular Expressions version: 2.2.1\n",
      "\tRegular Expressions version at the creation of the project: 2.2.1\n",
      "\n",
      " \tCurrent Seaborn version: 0.11.1\n",
      "\tSeaborn version at the creation of the project: 0.11.1\n"
     ]
    }
   ],
   "source": [
    "import numpy as np\n",
    "import pandas as pd\n",
    "import matplotlib.pyplot as plt\n",
    "import seaborn as sns\n",
    "\n",
    "import re\n",
    "import string\n",
    "import math\n",
    "\n",
    "print(f'\\tCurrent Numpy version: {np.__version__}')\n",
    "print('\\tNumpy version at the creation of the project: 1.20.2')\n",
    "\n",
    "print(f'\\n \\tCurrent Pandas version: {pd.__version__}')\n",
    "print('\\tPandas version at the creation of the project: 1.2.4')\n",
    "\n",
    "print(f'\\n \\tCurrent Regular Expressions version: {re.__version__}')\n",
    "print('\\tRegular Expressions version at the creation of the project: 2.2.1')\n",
    "\n",
    "print(f'\\n \\tCurrent Seaborn version: {sns.__version__}')\n",
    "print('\\tSeaborn version at the creation of the project: 0.11.1')"
   ]
  },
  {
   "cell_type": "code",
   "execution_count": 2,
   "id": "6b3fd62e",
   "metadata": {
    "ExecuteTime": {
     "end_time": "2021-05-25T16:54:37.101469Z",
     "start_time": "2021-05-25T16:54:31.990257Z"
    }
   },
   "outputs": [
    {
     "name": "stdout",
     "output_type": "stream",
     "text": [
      "Requirement already satisfied: nltk in c:\\users\\laur\\anaconda3\\envs\\introducereindatascience\\lib\\site-packages (3.6.1)\n",
      "Requirement already satisfied: joblib in c:\\users\\laur\\anaconda3\\envs\\introducereindatascience\\lib\\site-packages (from nltk) (1.0.1)\n",
      "Requirement already satisfied: regex in c:\\users\\laur\\anaconda3\\envs\\introducereindatascience\\lib\\site-packages (from nltk) (2021.4.4)\n",
      "Requirement already satisfied: tqdm in c:\\users\\laur\\anaconda3\\envs\\introducereindatascience\\lib\\site-packages (from nltk) (4.59.0)\n",
      "Requirement already satisfied: click in c:\\users\\laur\\anaconda3\\envs\\introducereindatascience\\lib\\site-packages (from nltk) (7.1.2)\n"
     ]
    }
   ],
   "source": [
    "!pip install nltk"
   ]
  },
  {
   "cell_type": "code",
   "execution_count": 3,
   "id": "654b1fae",
   "metadata": {
    "ExecuteTime": {
     "end_time": "2021-05-25T16:54:40.164018Z",
     "start_time": "2021-05-25T16:54:37.108726Z"
    }
   },
   "outputs": [
    {
     "name": "stderr",
     "output_type": "stream",
     "text": [
      "[nltk_data] Downloading package stopwords to\n",
      "[nltk_data]     C:\\Users\\Laur\\AppData\\Roaming\\nltk_data...\n",
      "[nltk_data]   Package stopwords is already up-to-date!\n"
     ]
    },
    {
     "data": {
      "text/plain": [
       "True"
      ]
     },
     "execution_count": 3,
     "metadata": {},
     "output_type": "execute_result"
    }
   ],
   "source": [
    "import nltk\n",
    "nltk.download('stopwords')"
   ]
  },
  {
   "cell_type": "code",
   "execution_count": 4,
   "id": "f15a63ee",
   "metadata": {
    "ExecuteTime": {
     "end_time": "2021-05-25T16:54:40.198719Z",
     "start_time": "2021-05-25T16:54:40.166982Z"
    }
   },
   "outputs": [],
   "source": [
    "from nltk.corpus import stopwords\n",
    "\n",
    "from sklearn.feature_extraction.text import CountVectorizer, TfidfVectorizer\n",
    "from sklearn.feature_extraction.text import TfidfTransformer\n",
    "from sklearn.model_selection import train_test_split\n",
    "from sklearn.pipeline import Pipeline\n",
    "from sklearn.model_selection import cross_validate"
   ]
  },
  {
   "cell_type": "markdown",
   "id": "8e580c06",
   "metadata": {},
   "source": [
    "## Setul de date `SMSSpamCollection`"
   ]
  },
  {
   "cell_type": "markdown",
   "id": "90f09cfb",
   "metadata": {},
   "source": [
    "### Descrierea setului de date"
   ]
  },
  {
   "cell_type": "markdown",
   "id": "dd7b6145",
   "metadata": {},
   "source": [
    "Setul de date `SMSSpamCollection` este un set de mesaje SMS care au fost colectate pentru a analiza SMS-urile de tip Spam. Acesta contine un set de 5574 mesaje text in limba engleza clasificate in 2 categorii: `ham`(mesaje legitime) sau `spam`.\n",
    "\n",
    "Aceste mesaje au fost colectate din resurse gratuite de pe Web:\n",
    "* O colectie de aproximativ 425 SMS-uri de tip spam extrase manual de pe site-ul [Grumbletext](http://www.grumbletext.co.uk). Acesta este un forum din UK in care utilizatorii telefoanelor mobile fac plangeri publice despre mesajele text de tip spam.\n",
    "* O lista de 450 de SMS-uri legitime colectate din [teza de doctorat a lui Caroline Tag](http://etheses.bham.ac.uk/253/1/Tagg09PhD.pdf).\n",
    "* Un subset de 3375 mesaje legitime luate de pe site-ul [NUS SMS Corpus (NSC)](http://www.comp.nus.edu.sg/~rpnlpir/downloads/corpora/smsCorpus/), un site care contine aproximativ 10000 de mesaje SMS legitime colectate pentru research de catre Department of Computer Science at the National University of Singapore. Mesajele provin in mare parte de la oamenii din Singapore si de la studentii de la universitate. Aceste mesaje au fost colectate de voluntari.\n",
    "* Un numar de 1002 SMS-uri legitime si 332 SMS-uri de tip spam extrase din [SMS Spam Corpus v.0.1 Big](http://www.esp.uem.es/jmgomez/smsspamcorpus/), colectie creata de José María Gómez Hidalgo.\n",
    "\n",
    "Setul de date contine un total de 4827 de SMS-uri de tip legitim (86.6%) si 747 de mesaje de tip spam (13.4%)."
   ]
  },
  {
   "cell_type": "markdown",
   "id": "f509610f",
   "metadata": {},
   "source": [
    "### Analiza exploratorie a setului de date"
   ]
  },
  {
   "cell_type": "code",
   "execution_count": 5,
   "id": "95675a0e",
   "metadata": {
    "ExecuteTime": {
     "end_time": "2021-05-25T16:54:40.257452Z",
     "start_time": "2021-05-25T16:54:40.201751Z"
    }
   },
   "outputs": [],
   "source": [
    "data = pd.read_csv(\"data/SMSSpamCollection\", delimiter=\"\\t\", header=None)\n",
    "data = data.rename(columns= {0: 'Class', 1:'Message'})"
   ]
  },
  {
   "cell_type": "code",
   "execution_count": 6,
   "id": "71d74d8b",
   "metadata": {
    "ExecuteTime": {
     "end_time": "2021-05-25T16:54:40.303103Z",
     "start_time": "2021-05-25T16:54:40.263061Z"
    }
   },
   "outputs": [
    {
     "data": {
      "text/html": [
       "<div>\n",
       "<style scoped>\n",
       "    .dataframe tbody tr th:only-of-type {\n",
       "        vertical-align: middle;\n",
       "    }\n",
       "\n",
       "    .dataframe tbody tr th {\n",
       "        vertical-align: top;\n",
       "    }\n",
       "\n",
       "    .dataframe thead th {\n",
       "        text-align: right;\n",
       "    }\n",
       "</style>\n",
       "<table border=\"1\" class=\"dataframe\">\n",
       "  <thead>\n",
       "    <tr style=\"text-align: right;\">\n",
       "      <th></th>\n",
       "      <th>Class</th>\n",
       "      <th>Message</th>\n",
       "    </tr>\n",
       "  </thead>\n",
       "  <tbody>\n",
       "    <tr>\n",
       "      <th>0</th>\n",
       "      <td>ham</td>\n",
       "      <td>Go until jurong point, crazy.. Available only ...</td>\n",
       "    </tr>\n",
       "    <tr>\n",
       "      <th>1</th>\n",
       "      <td>ham</td>\n",
       "      <td>Ok lar... Joking wif u oni...</td>\n",
       "    </tr>\n",
       "    <tr>\n",
       "      <th>2</th>\n",
       "      <td>spam</td>\n",
       "      <td>Free entry in 2 a wkly comp to win FA Cup fina...</td>\n",
       "    </tr>\n",
       "    <tr>\n",
       "      <th>3</th>\n",
       "      <td>ham</td>\n",
       "      <td>U dun say so early hor... U c already then say...</td>\n",
       "    </tr>\n",
       "    <tr>\n",
       "      <th>4</th>\n",
       "      <td>ham</td>\n",
       "      <td>Nah I don't think he goes to usf, he lives aro...</td>\n",
       "    </tr>\n",
       "  </tbody>\n",
       "</table>\n",
       "</div>"
      ],
      "text/plain": [
       "  Class                                            Message\n",
       "0   ham  Go until jurong point, crazy.. Available only ...\n",
       "1   ham                      Ok lar... Joking wif u oni...\n",
       "2  spam  Free entry in 2 a wkly comp to win FA Cup fina...\n",
       "3   ham  U dun say so early hor... U c already then say...\n",
       "4   ham  Nah I don't think he goes to usf, he lives aro..."
      ]
     },
     "execution_count": 6,
     "metadata": {},
     "output_type": "execute_result"
    }
   ],
   "source": [
    "data.head()"
   ]
  },
  {
   "cell_type": "markdown",
   "id": "2f957955",
   "metadata": {},
   "source": [
    "Vom exemplifica acum cum arata un `mesaj legitim`"
   ]
  },
  {
   "cell_type": "code",
   "execution_count": 7,
   "id": "07a9870d",
   "metadata": {
    "ExecuteTime": {
     "end_time": "2021-05-25T16:54:40.331587Z",
     "start_time": "2021-05-25T16:54:40.308558Z"
    }
   },
   "outputs": [
    {
     "data": {
      "text/plain": [
       "'Go until jurong point, crazy.. Available only in bugis n great world la e buffet... Cine there got amore wat...'"
      ]
     },
     "execution_count": 7,
     "metadata": {},
     "output_type": "execute_result"
    }
   ],
   "source": [
    "data[data['Class'] == 'ham'].iloc[0]['Message']"
   ]
  },
  {
   "cell_type": "markdown",
   "id": "ab0c943b",
   "metadata": {},
   "source": [
    "Vom da un exemplu si de mesaj de tip `spam`"
   ]
  },
  {
   "cell_type": "code",
   "execution_count": 8,
   "id": "51cce13d",
   "metadata": {
    "ExecuteTime": {
     "end_time": "2021-05-25T16:54:40.359100Z",
     "start_time": "2021-05-25T16:54:40.338950Z"
    }
   },
   "outputs": [
    {
     "data": {
      "text/plain": [
       "\"Free entry in 2 a wkly comp to win FA Cup final tkts 21st May 2005. Text FA to 87121 to receive entry question(std txt rate)T&C's apply 08452810075over18's\""
      ]
     },
     "execution_count": 8,
     "metadata": {},
     "output_type": "execute_result"
    }
   ],
   "source": [
    "data[data['Class'] == 'spam'].iloc[0]['Message']"
   ]
  },
  {
   "cell_type": "markdown",
   "id": "e9435a9d",
   "metadata": {},
   "source": [
    "Verificam daca exista vreo valoare NaN in setul nostru de date"
   ]
  },
  {
   "cell_type": "code",
   "execution_count": 9,
   "id": "4407f42b",
   "metadata": {
    "ExecuteTime": {
     "end_time": "2021-05-25T16:54:40.390579Z",
     "start_time": "2021-05-25T16:54:40.366455Z"
    }
   },
   "outputs": [
    {
     "data": {
      "text/plain": [
       "Class      0\n",
       "Message    0\n",
       "dtype: int64"
      ]
     },
     "execution_count": 9,
     "metadata": {},
     "output_type": "execute_result"
    }
   ],
   "source": [
    "data.isna().sum()"
   ]
  },
  {
   "cell_type": "markdown",
   "id": "fac542cb",
   "metadata": {},
   "source": [
    "Vom creea etichete numerice pentru clasificare"
   ]
  },
  {
   "cell_type": "code",
   "execution_count": 10,
   "id": "87c9d5b3",
   "metadata": {
    "ExecuteTime": {
     "end_time": "2021-05-25T16:54:40.547201Z",
     "start_time": "2021-05-25T16:54:40.394250Z"
    }
   },
   "outputs": [
    {
     "data": {
      "text/html": [
       "<div>\n",
       "<style scoped>\n",
       "    .dataframe tbody tr th:only-of-type {\n",
       "        vertical-align: middle;\n",
       "    }\n",
       "\n",
       "    .dataframe tbody tr th {\n",
       "        vertical-align: top;\n",
       "    }\n",
       "\n",
       "    .dataframe thead th {\n",
       "        text-align: right;\n",
       "    }\n",
       "</style>\n",
       "<table border=\"1\" class=\"dataframe\">\n",
       "  <thead>\n",
       "    <tr style=\"text-align: right;\">\n",
       "      <th></th>\n",
       "      <th>Class</th>\n",
       "      <th>Message</th>\n",
       "      <th>IsSpam</th>\n",
       "    </tr>\n",
       "  </thead>\n",
       "  <tbody>\n",
       "    <tr>\n",
       "      <th>0</th>\n",
       "      <td>ham</td>\n",
       "      <td>Go until jurong point, crazy.. Available only ...</td>\n",
       "      <td>0</td>\n",
       "    </tr>\n",
       "    <tr>\n",
       "      <th>1</th>\n",
       "      <td>ham</td>\n",
       "      <td>Ok lar... Joking wif u oni...</td>\n",
       "      <td>0</td>\n",
       "    </tr>\n",
       "    <tr>\n",
       "      <th>2</th>\n",
       "      <td>spam</td>\n",
       "      <td>Free entry in 2 a wkly comp to win FA Cup fina...</td>\n",
       "      <td>1</td>\n",
       "    </tr>\n",
       "    <tr>\n",
       "      <th>3</th>\n",
       "      <td>ham</td>\n",
       "      <td>U dun say so early hor... U c already then say...</td>\n",
       "      <td>0</td>\n",
       "    </tr>\n",
       "    <tr>\n",
       "      <th>4</th>\n",
       "      <td>ham</td>\n",
       "      <td>Nah I don't think he goes to usf, he lives aro...</td>\n",
       "      <td>0</td>\n",
       "    </tr>\n",
       "    <tr>\n",
       "      <th>...</th>\n",
       "      <td>...</td>\n",
       "      <td>...</td>\n",
       "      <td>...</td>\n",
       "    </tr>\n",
       "    <tr>\n",
       "      <th>5567</th>\n",
       "      <td>spam</td>\n",
       "      <td>This is the 2nd time we have tried 2 contact u...</td>\n",
       "      <td>1</td>\n",
       "    </tr>\n",
       "    <tr>\n",
       "      <th>5568</th>\n",
       "      <td>ham</td>\n",
       "      <td>Will ü b going to esplanade fr home?</td>\n",
       "      <td>0</td>\n",
       "    </tr>\n",
       "    <tr>\n",
       "      <th>5569</th>\n",
       "      <td>ham</td>\n",
       "      <td>Pity, * was in mood for that. So...any other s...</td>\n",
       "      <td>0</td>\n",
       "    </tr>\n",
       "    <tr>\n",
       "      <th>5570</th>\n",
       "      <td>ham</td>\n",
       "      <td>The guy did some bitching but I acted like i'd...</td>\n",
       "      <td>0</td>\n",
       "    </tr>\n",
       "    <tr>\n",
       "      <th>5571</th>\n",
       "      <td>ham</td>\n",
       "      <td>Rofl. Its true to its name</td>\n",
       "      <td>0</td>\n",
       "    </tr>\n",
       "  </tbody>\n",
       "</table>\n",
       "<p>5572 rows × 3 columns</p>\n",
       "</div>"
      ],
      "text/plain": [
       "     Class                                            Message  IsSpam\n",
       "0      ham  Go until jurong point, crazy.. Available only ...       0\n",
       "1      ham                      Ok lar... Joking wif u oni...       0\n",
       "2     spam  Free entry in 2 a wkly comp to win FA Cup fina...       1\n",
       "3      ham  U dun say so early hor... U c already then say...       0\n",
       "4      ham  Nah I don't think he goes to usf, he lives aro...       0\n",
       "...    ...                                                ...     ...\n",
       "5567  spam  This is the 2nd time we have tried 2 contact u...       1\n",
       "5568   ham               Will ü b going to esplanade fr home?       0\n",
       "5569   ham  Pity, * was in mood for that. So...any other s...       0\n",
       "5570   ham  The guy did some bitching but I acted like i'd...       0\n",
       "5571   ham                         Rofl. Its true to its name       0\n",
       "\n",
       "[5572 rows x 3 columns]"
      ]
     },
     "execution_count": 10,
     "metadata": {},
     "output_type": "execute_result"
    }
   ],
   "source": [
    "label = {'ham': 0, 'spam': 1}\n",
    "data['IsSpam'] = data['Class'].map(label)\n",
    "data"
   ]
  },
  {
   "cell_type": "markdown",
   "id": "caaa03bf",
   "metadata": {},
   "source": [
    "Pentru standardizarea tuturor mesajelor, vom face toate literele de tip lowercase"
   ]
  },
  {
   "cell_type": "code",
   "execution_count": 11,
   "id": "7eeca78e",
   "metadata": {
    "ExecuteTime": {
     "end_time": "2021-05-25T16:54:40.562860Z",
     "start_time": "2021-05-25T16:54:40.549673Z"
    }
   },
   "outputs": [
    {
     "data": {
      "text/plain": [
       "0       go until jurong point, crazy.. available only ...\n",
       "1                           ok lar... joking wif u oni...\n",
       "2       free entry in 2 a wkly comp to win fa cup fina...\n",
       "3       u dun say so early hor... u c already then say...\n",
       "4       nah i don't think he goes to usf, he lives aro...\n",
       "                              ...                        \n",
       "5567    this is the 2nd time we have tried 2 contact u...\n",
       "5568                 will ü b going to esplanade fr home?\n",
       "5569    pity, * was in mood for that. so...any other s...\n",
       "5570    the guy did some bitching but i acted like i'd...\n",
       "5571                           rofl. its true to its name\n",
       "Name: Message, Length: 5572, dtype: object"
      ]
     },
     "execution_count": 11,
     "metadata": {},
     "output_type": "execute_result"
    }
   ],
   "source": [
    "data['Message'] = data['Message'].str.lower()\n",
    "data['Message']"
   ]
  },
  {
   "cell_type": "markdown",
   "id": "ead4c24b",
   "metadata": {},
   "source": [
    "Calculam lungimea mesajelor si adaugam o coloana cu aceasta valoare in dataframe-ul nostru"
   ]
  },
  {
   "cell_type": "code",
   "execution_count": 12,
   "id": "258b89b3",
   "metadata": {
    "ExecuteTime": {
     "end_time": "2021-05-25T16:54:40.592224Z",
     "start_time": "2021-05-25T16:54:40.565432Z"
    }
   },
   "outputs": [
    {
     "data": {
      "text/html": [
       "<div>\n",
       "<style scoped>\n",
       "    .dataframe tbody tr th:only-of-type {\n",
       "        vertical-align: middle;\n",
       "    }\n",
       "\n",
       "    .dataframe tbody tr th {\n",
       "        vertical-align: top;\n",
       "    }\n",
       "\n",
       "    .dataframe thead th {\n",
       "        text-align: right;\n",
       "    }\n",
       "</style>\n",
       "<table border=\"1\" class=\"dataframe\">\n",
       "  <thead>\n",
       "    <tr style=\"text-align: right;\">\n",
       "      <th></th>\n",
       "      <th>Class</th>\n",
       "      <th>Message</th>\n",
       "      <th>IsSpam</th>\n",
       "      <th>Length</th>\n",
       "    </tr>\n",
       "  </thead>\n",
       "  <tbody>\n",
       "    <tr>\n",
       "      <th>0</th>\n",
       "      <td>ham</td>\n",
       "      <td>go until jurong point, crazy.. available only ...</td>\n",
       "      <td>0</td>\n",
       "      <td>111</td>\n",
       "    </tr>\n",
       "    <tr>\n",
       "      <th>1</th>\n",
       "      <td>ham</td>\n",
       "      <td>ok lar... joking wif u oni...</td>\n",
       "      <td>0</td>\n",
       "      <td>29</td>\n",
       "    </tr>\n",
       "    <tr>\n",
       "      <th>2</th>\n",
       "      <td>spam</td>\n",
       "      <td>free entry in 2 a wkly comp to win fa cup fina...</td>\n",
       "      <td>1</td>\n",
       "      <td>155</td>\n",
       "    </tr>\n",
       "    <tr>\n",
       "      <th>3</th>\n",
       "      <td>ham</td>\n",
       "      <td>u dun say so early hor... u c already then say...</td>\n",
       "      <td>0</td>\n",
       "      <td>49</td>\n",
       "    </tr>\n",
       "    <tr>\n",
       "      <th>4</th>\n",
       "      <td>ham</td>\n",
       "      <td>nah i don't think he goes to usf, he lives aro...</td>\n",
       "      <td>0</td>\n",
       "      <td>61</td>\n",
       "    </tr>\n",
       "    <tr>\n",
       "      <th>...</th>\n",
       "      <td>...</td>\n",
       "      <td>...</td>\n",
       "      <td>...</td>\n",
       "      <td>...</td>\n",
       "    </tr>\n",
       "    <tr>\n",
       "      <th>5567</th>\n",
       "      <td>spam</td>\n",
       "      <td>this is the 2nd time we have tried 2 contact u...</td>\n",
       "      <td>1</td>\n",
       "      <td>160</td>\n",
       "    </tr>\n",
       "    <tr>\n",
       "      <th>5568</th>\n",
       "      <td>ham</td>\n",
       "      <td>will ü b going to esplanade fr home?</td>\n",
       "      <td>0</td>\n",
       "      <td>36</td>\n",
       "    </tr>\n",
       "    <tr>\n",
       "      <th>5569</th>\n",
       "      <td>ham</td>\n",
       "      <td>pity, * was in mood for that. so...any other s...</td>\n",
       "      <td>0</td>\n",
       "      <td>57</td>\n",
       "    </tr>\n",
       "    <tr>\n",
       "      <th>5570</th>\n",
       "      <td>ham</td>\n",
       "      <td>the guy did some bitching but i acted like i'd...</td>\n",
       "      <td>0</td>\n",
       "      <td>125</td>\n",
       "    </tr>\n",
       "    <tr>\n",
       "      <th>5571</th>\n",
       "      <td>ham</td>\n",
       "      <td>rofl. its true to its name</td>\n",
       "      <td>0</td>\n",
       "      <td>26</td>\n",
       "    </tr>\n",
       "  </tbody>\n",
       "</table>\n",
       "<p>5572 rows × 4 columns</p>\n",
       "</div>"
      ],
      "text/plain": [
       "     Class                                            Message  IsSpam  Length\n",
       "0      ham  go until jurong point, crazy.. available only ...       0     111\n",
       "1      ham                      ok lar... joking wif u oni...       0      29\n",
       "2     spam  free entry in 2 a wkly comp to win fa cup fina...       1     155\n",
       "3      ham  u dun say so early hor... u c already then say...       0      49\n",
       "4      ham  nah i don't think he goes to usf, he lives aro...       0      61\n",
       "...    ...                                                ...     ...     ...\n",
       "5567  spam  this is the 2nd time we have tried 2 contact u...       1     160\n",
       "5568   ham               will ü b going to esplanade fr home?       0      36\n",
       "5569   ham  pity, * was in mood for that. so...any other s...       0      57\n",
       "5570   ham  the guy did some bitching but i acted like i'd...       0     125\n",
       "5571   ham                         rofl. its true to its name       0      26\n",
       "\n",
       "[5572 rows x 4 columns]"
      ]
     },
     "execution_count": 12,
     "metadata": {},
     "output_type": "execute_result"
    }
   ],
   "source": [
    "data['Length'] = data['Message'].apply(len)\n",
    "data"
   ]
  },
  {
   "cell_type": "code",
   "execution_count": 13,
   "id": "a032405a",
   "metadata": {
    "ExecuteTime": {
     "end_time": "2021-05-25T16:54:40.607605Z",
     "start_time": "2021-05-25T16:54:40.594539Z"
    }
   },
   "outputs": [],
   "source": [
    "import warnings\n",
    "warnings.simplefilter(action='ignore', category=FutureWarning)"
   ]
  },
  {
   "cell_type": "code",
   "execution_count": 14,
   "id": "db11ab3f",
   "metadata": {
    "ExecuteTime": {
     "end_time": "2021-05-25T16:54:41.349726Z",
     "start_time": "2021-05-25T16:54:40.609628Z"
    }
   },
   "outputs": [
    {
     "data": {
      "image/png": "[encoded data removed]",
      "text/plain": [
       "<Figure size 1080x576 with 1 Axes>"
      ]
     },
     "metadata": {
      "needs_background": "light"
     },
     "output_type": "display_data"
    }
   ],
   "source": [
    "plt.figure(figsize=(15, 8))\n",
    "hams_length = data[data['IsSpam'] == 0][['IsSpam', 'Length']]\n",
    "spam_length = data[data['IsSpam'] == 1][['IsSpam', 'Length']]\n",
    "ax = sns.distplot(hams_length, hist = False, label = 'Ham')\n",
    "ax = sns.distplot(spam_length, hist = False, label = 'Spam')\n",
    "plt.xlim(0, 300)\n",
    "plt.title('Distribution of SMS Message Character Count between Spam vs. Ham ')\n",
    "sns.set(font_scale=1.3)\n",
    "plt.legend()\n",
    "ax.set_ylabel('Distribution')\n",
    "ax.set_xlabel('Length of SMS');"
   ]
  },
  {
   "cell_type": "markdown",
   "id": "b9c0311e",
   "metadata": {},
   "source": [
    "Afisam date despre mesajele legitime."
   ]
  },
  {
   "cell_type": "code",
   "execution_count": 15,
   "id": "89e2a51d",
   "metadata": {
    "ExecuteTime": {
     "end_time": "2021-05-25T16:54:41.407222Z",
     "start_time": "2021-05-25T16:54:41.353812Z"
    }
   },
   "outputs": [
    {
     "data": {
      "text/html": [
       "<div>\n",
       "<style scoped>\n",
       "    .dataframe tbody tr th:only-of-type {\n",
       "        vertical-align: middle;\n",
       "    }\n",
       "\n",
       "    .dataframe tbody tr th {\n",
       "        vertical-align: top;\n",
       "    }\n",
       "\n",
       "    .dataframe thead th {\n",
       "        text-align: right;\n",
       "    }\n",
       "</style>\n",
       "<table border=\"1\" class=\"dataframe\">\n",
       "  <thead>\n",
       "    <tr style=\"text-align: right;\">\n",
       "      <th></th>\n",
       "      <th>IsSpam</th>\n",
       "      <th>Length</th>\n",
       "    </tr>\n",
       "  </thead>\n",
       "  <tbody>\n",
       "    <tr>\n",
       "      <th>count</th>\n",
       "      <td>4825.0</td>\n",
       "      <td>4825.000000</td>\n",
       "    </tr>\n",
       "    <tr>\n",
       "      <th>mean</th>\n",
       "      <td>0.0</td>\n",
       "      <td>71.482487</td>\n",
       "    </tr>\n",
       "    <tr>\n",
       "      <th>std</th>\n",
       "      <td>0.0</td>\n",
       "      <td>58.440652</td>\n",
       "    </tr>\n",
       "    <tr>\n",
       "      <th>min</th>\n",
       "      <td>0.0</td>\n",
       "      <td>2.000000</td>\n",
       "    </tr>\n",
       "    <tr>\n",
       "      <th>25%</th>\n",
       "      <td>0.0</td>\n",
       "      <td>33.000000</td>\n",
       "    </tr>\n",
       "    <tr>\n",
       "      <th>50%</th>\n",
       "      <td>0.0</td>\n",
       "      <td>52.000000</td>\n",
       "    </tr>\n",
       "    <tr>\n",
       "      <th>75%</th>\n",
       "      <td>0.0</td>\n",
       "      <td>93.000000</td>\n",
       "    </tr>\n",
       "    <tr>\n",
       "      <th>max</th>\n",
       "      <td>0.0</td>\n",
       "      <td>910.000000</td>\n",
       "    </tr>\n",
       "  </tbody>\n",
       "</table>\n",
       "</div>"
      ],
      "text/plain": [
       "       IsSpam       Length\n",
       "count  4825.0  4825.000000\n",
       "mean      0.0    71.482487\n",
       "std       0.0    58.440652\n",
       "min       0.0     2.000000\n",
       "25%       0.0    33.000000\n",
       "50%       0.0    52.000000\n",
       "75%       0.0    93.000000\n",
       "max       0.0   910.000000"
      ]
     },
     "execution_count": 15,
     "metadata": {},
     "output_type": "execute_result"
    }
   ],
   "source": [
    "data[data['IsSpam'] == 0].describe()"
   ]
  },
  {
   "cell_type": "markdown",
   "id": "276277eb",
   "metadata": {},
   "source": [
    "Afisam date despre mesajele de tip spam."
   ]
  },
  {
   "cell_type": "code",
   "execution_count": 16,
   "id": "2c1da871",
   "metadata": {
    "ExecuteTime": {
     "end_time": "2021-05-25T16:54:41.458803Z",
     "start_time": "2021-05-25T16:54:41.410250Z"
    }
   },
   "outputs": [
    {
     "data": {
      "text/html": [
       "<div>\n",
       "<style scoped>\n",
       "    .dataframe tbody tr th:only-of-type {\n",
       "        vertical-align: middle;\n",
       "    }\n",
       "\n",
       "    .dataframe tbody tr th {\n",
       "        vertical-align: top;\n",
       "    }\n",
       "\n",
       "    .dataframe thead th {\n",
       "        text-align: right;\n",
       "    }\n",
       "</style>\n",
       "<table border=\"1\" class=\"dataframe\">\n",
       "  <thead>\n",
       "    <tr style=\"text-align: right;\">\n",
       "      <th></th>\n",
       "      <th>IsSpam</th>\n",
       "      <th>Length</th>\n",
       "    </tr>\n",
       "  </thead>\n",
       "  <tbody>\n",
       "    <tr>\n",
       "      <th>count</th>\n",
       "      <td>747.0</td>\n",
       "      <td>747.000000</td>\n",
       "    </tr>\n",
       "    <tr>\n",
       "      <th>mean</th>\n",
       "      <td>1.0</td>\n",
       "      <td>138.670683</td>\n",
       "    </tr>\n",
       "    <tr>\n",
       "      <th>std</th>\n",
       "      <td>0.0</td>\n",
       "      <td>28.873603</td>\n",
       "    </tr>\n",
       "    <tr>\n",
       "      <th>min</th>\n",
       "      <td>1.0</td>\n",
       "      <td>13.000000</td>\n",
       "    </tr>\n",
       "    <tr>\n",
       "      <th>25%</th>\n",
       "      <td>1.0</td>\n",
       "      <td>133.000000</td>\n",
       "    </tr>\n",
       "    <tr>\n",
       "      <th>50%</th>\n",
       "      <td>1.0</td>\n",
       "      <td>149.000000</td>\n",
       "    </tr>\n",
       "    <tr>\n",
       "      <th>75%</th>\n",
       "      <td>1.0</td>\n",
       "      <td>157.000000</td>\n",
       "    </tr>\n",
       "    <tr>\n",
       "      <th>max</th>\n",
       "      <td>1.0</td>\n",
       "      <td>223.000000</td>\n",
       "    </tr>\n",
       "  </tbody>\n",
       "</table>\n",
       "</div>"
      ],
      "text/plain": [
       "       IsSpam      Length\n",
       "count   747.0  747.000000\n",
       "mean      1.0  138.670683\n",
       "std       0.0   28.873603\n",
       "min       1.0   13.000000\n",
       "25%       1.0  133.000000\n",
       "50%       1.0  149.000000\n",
       "75%       1.0  157.000000\n",
       "max       1.0  223.000000"
      ]
     },
     "execution_count": 16,
     "metadata": {},
     "output_type": "execute_result"
    }
   ],
   "source": [
    "data[data['IsSpam'] == 1].describe()"
   ]
  },
  {
   "cell_type": "markdown",
   "id": "340f7c4c",
   "metadata": {},
   "source": [
    "Tot ceea ce am reprezentat mai sus impreuna cu graficul afisat arata faptul ca mesajele de tip spam par a avea o lungime mai mare fata de mesajele legitime in ceea ce priveste numarul de caractere.\n",
    "\n",
    "Vom vedea acum daca este adevarat si pentru numarul de cuvinte din fiecare mesaj."
   ]
  },
  {
   "cell_type": "code",
   "execution_count": 17,
   "id": "d0762bc9",
   "metadata": {
    "ExecuteTime": {
     "end_time": "2021-05-25T16:54:41.545137Z",
     "start_time": "2021-05-25T16:54:41.464062Z"
    }
   },
   "outputs": [
    {
     "data": {
      "text/html": [
       "<div>\n",
       "<style scoped>\n",
       "    .dataframe tbody tr th:only-of-type {\n",
       "        vertical-align: middle;\n",
       "    }\n",
       "\n",
       "    .dataframe tbody tr th {\n",
       "        vertical-align: top;\n",
       "    }\n",
       "\n",
       "    .dataframe thead th {\n",
       "        text-align: right;\n",
       "    }\n",
       "</style>\n",
       "<table border=\"1\" class=\"dataframe\">\n",
       "  <thead>\n",
       "    <tr style=\"text-align: right;\">\n",
       "      <th></th>\n",
       "      <th>Class</th>\n",
       "      <th>Message</th>\n",
       "      <th>IsSpam</th>\n",
       "      <th>Length</th>\n",
       "      <th>Word_Count</th>\n",
       "    </tr>\n",
       "  </thead>\n",
       "  <tbody>\n",
       "    <tr>\n",
       "      <th>0</th>\n",
       "      <td>ham</td>\n",
       "      <td>go until jurong point, crazy.. available only ...</td>\n",
       "      <td>0</td>\n",
       "      <td>111</td>\n",
       "      <td>20</td>\n",
       "    </tr>\n",
       "    <tr>\n",
       "      <th>1</th>\n",
       "      <td>ham</td>\n",
       "      <td>ok lar... joking wif u oni...</td>\n",
       "      <td>0</td>\n",
       "      <td>29</td>\n",
       "      <td>6</td>\n",
       "    </tr>\n",
       "    <tr>\n",
       "      <th>2</th>\n",
       "      <td>spam</td>\n",
       "      <td>free entry in 2 a wkly comp to win fa cup fina...</td>\n",
       "      <td>1</td>\n",
       "      <td>155</td>\n",
       "      <td>28</td>\n",
       "    </tr>\n",
       "    <tr>\n",
       "      <th>3</th>\n",
       "      <td>ham</td>\n",
       "      <td>u dun say so early hor... u c already then say...</td>\n",
       "      <td>0</td>\n",
       "      <td>49</td>\n",
       "      <td>11</td>\n",
       "    </tr>\n",
       "    <tr>\n",
       "      <th>4</th>\n",
       "      <td>ham</td>\n",
       "      <td>nah i don't think he goes to usf, he lives aro...</td>\n",
       "      <td>0</td>\n",
       "      <td>61</td>\n",
       "      <td>13</td>\n",
       "    </tr>\n",
       "    <tr>\n",
       "      <th>...</th>\n",
       "      <td>...</td>\n",
       "      <td>...</td>\n",
       "      <td>...</td>\n",
       "      <td>...</td>\n",
       "      <td>...</td>\n",
       "    </tr>\n",
       "    <tr>\n",
       "      <th>5567</th>\n",
       "      <td>spam</td>\n",
       "      <td>this is the 2nd time we have tried 2 contact u...</td>\n",
       "      <td>1</td>\n",
       "      <td>160</td>\n",
       "      <td>30</td>\n",
       "    </tr>\n",
       "    <tr>\n",
       "      <th>5568</th>\n",
       "      <td>ham</td>\n",
       "      <td>will ü b going to esplanade fr home?</td>\n",
       "      <td>0</td>\n",
       "      <td>36</td>\n",
       "      <td>8</td>\n",
       "    </tr>\n",
       "    <tr>\n",
       "      <th>5569</th>\n",
       "      <td>ham</td>\n",
       "      <td>pity, * was in mood for that. so...any other s...</td>\n",
       "      <td>0</td>\n",
       "      <td>57</td>\n",
       "      <td>10</td>\n",
       "    </tr>\n",
       "    <tr>\n",
       "      <th>5570</th>\n",
       "      <td>ham</td>\n",
       "      <td>the guy did some bitching but i acted like i'd...</td>\n",
       "      <td>0</td>\n",
       "      <td>125</td>\n",
       "      <td>26</td>\n",
       "    </tr>\n",
       "    <tr>\n",
       "      <th>5571</th>\n",
       "      <td>ham</td>\n",
       "      <td>rofl. its true to its name</td>\n",
       "      <td>0</td>\n",
       "      <td>26</td>\n",
       "      <td>6</td>\n",
       "    </tr>\n",
       "  </tbody>\n",
       "</table>\n",
       "<p>5572 rows × 5 columns</p>\n",
       "</div>"
      ],
      "text/plain": [
       "     Class                                            Message  IsSpam  Length  \\\n",
       "0      ham  go until jurong point, crazy.. available only ...       0     111   \n",
       "1      ham                      ok lar... joking wif u oni...       0      29   \n",
       "2     spam  free entry in 2 a wkly comp to win fa cup fina...       1     155   \n",
       "3      ham  u dun say so early hor... u c already then say...       0      49   \n",
       "4      ham  nah i don't think he goes to usf, he lives aro...       0      61   \n",
       "...    ...                                                ...     ...     ...   \n",
       "5567  spam  this is the 2nd time we have tried 2 contact u...       1     160   \n",
       "5568   ham               will ü b going to esplanade fr home?       0      36   \n",
       "5569   ham  pity, * was in mood for that. so...any other s...       0      57   \n",
       "5570   ham  the guy did some bitching but i acted like i'd...       0     125   \n",
       "5571   ham                         rofl. its true to its name       0      26   \n",
       "\n",
       "      Word_Count  \n",
       "0             20  \n",
       "1              6  \n",
       "2             28  \n",
       "3             11  \n",
       "4             13  \n",
       "...          ...  \n",
       "5567          30  \n",
       "5568           8  \n",
       "5569          10  \n",
       "5570          26  \n",
       "5571           6  \n",
       "\n",
       "[5572 rows x 5 columns]"
      ]
     },
     "execution_count": 17,
     "metadata": {},
     "output_type": "execute_result"
    }
   ],
   "source": [
    "data['Word_Count'] = data['Message'].str.split().str.len()\n",
    "data"
   ]
  },
  {
   "cell_type": "code",
   "execution_count": 18,
   "id": "391cac2c",
   "metadata": {
    "ExecuteTime": {
     "end_time": "2021-05-25T16:54:42.406733Z",
     "start_time": "2021-05-25T16:54:41.551259Z"
    }
   },
   "outputs": [
    {
     "data": {
      "image/png": "[encoded data removed]",
      "text/plain": [
       "<Figure size 1080x576 with 1 Axes>"
      ]
     },
     "metadata": {},
     "output_type": "display_data"
    }
   ],
   "source": [
    "plt.figure(figsize=(15, 8))\n",
    "hams_length = data[data['IsSpam'] == 0][['IsSpam', 'Word_Count']]\n",
    "spam_length = data[data['IsSpam'] == 1][['IsSpam', 'Word_Count']]\n",
    "plt.title('Distribution of SMS Message word count between Spam vs. Ham ')\n",
    "ax = sns.distplot(hams_length, hist = False, label = 'Ham')\n",
    "ax = sns.distplot(spam_length, hist = False, label = 'Spam')\n",
    "plt.xlim(0, 100)\n",
    "plt.legend()\n",
    "sns.set(font_scale=1.3)\n",
    "ax.set_ylabel('Distribution')\n",
    "ax.set_xlabel('Length of SMS');"
   ]
  },
  {
   "cell_type": "markdown",
   "id": "b7fdcd0b",
   "metadata": {},
   "source": [
    "Observam ca graficul arata similar cu graficul prezentat mai sus."
   ]
  },
  {
   "cell_type": "code",
   "execution_count": 19,
   "id": "2ece5e69",
   "metadata": {
    "ExecuteTime": {
     "end_time": "2021-05-25T16:54:42.433509Z",
     "start_time": "2021-05-25T16:54:42.408231Z"
    }
   },
   "outputs": [
    {
     "data": {
      "text/plain": [
       "count    5572.000000\n",
       "mean       80.489950\n",
       "std        59.942907\n",
       "min         2.000000\n",
       "25%        36.000000\n",
       "50%        62.000000\n",
       "75%       122.000000\n",
       "max       910.000000\n",
       "Name: Length, dtype: float64"
      ]
     },
     "execution_count": 19,
     "metadata": {},
     "output_type": "execute_result"
    }
   ],
   "source": [
    "data.Length.describe()"
   ]
  },
  {
   "cell_type": "code",
   "execution_count": 20,
   "id": "b359cce3",
   "metadata": {
    "ExecuteTime": {
     "end_time": "2021-05-25T16:54:42.463999Z",
     "start_time": "2021-05-25T16:54:42.437852Z"
    }
   },
   "outputs": [
    {
     "data": {
      "text/plain": [
       "count    5572.000000\n",
       "mean       15.597452\n",
       "std        11.404053\n",
       "min         1.000000\n",
       "25%         7.000000\n",
       "50%        12.000000\n",
       "75%        23.000000\n",
       "max       171.000000\n",
       "Name: Word_Count, dtype: float64"
      ]
     },
     "execution_count": 20,
     "metadata": {},
     "output_type": "execute_result"
    }
   ],
   "source": [
    "data.Word_Count.describe()"
   ]
  },
  {
   "cell_type": "code",
   "execution_count": 21,
   "id": "b44621d6",
   "metadata": {
    "ExecuteTime": {
     "end_time": "2021-05-25T16:54:42.887430Z",
     "start_time": "2021-05-25T16:54:42.468533Z"
    }
   },
   "outputs": [
    {
     "data": {
      "image/png": "[encoded data removed]",
      "text/plain": [
       "<Figure size 432x288 with 1 Axes>"
      ]
     },
     "metadata": {},
     "output_type": "display_data"
    }
   ],
   "source": [
    "sns.scatterplot(x='Word_Count', y='Length', data=data);"
   ]
  },
  {
   "cell_type": "markdown",
   "id": "6afd1529",
   "metadata": {},
   "source": [
    "Observam ca numarul de caractere este similar cu numarul de cuvinte din mesaje cu o relatie aproape liniara.\n",
    "\n",
    "Pentru a evita probleme de coliniaritate, este mai bine daca folosim doar una din cele 2 trasaturi. In consecinta, vom sterge coloana 'Word_Count' din dataframe."
   ]
  },
  {
   "cell_type": "code",
   "execution_count": 22,
   "id": "af0419d2",
   "metadata": {
    "ExecuteTime": {
     "end_time": "2021-05-25T16:54:42.929986Z",
     "start_time": "2021-05-25T16:54:42.891350Z"
    }
   },
   "outputs": [
    {
     "data": {
      "text/html": [
       "<div>\n",
       "<style scoped>\n",
       "    .dataframe tbody tr th:only-of-type {\n",
       "        vertical-align: middle;\n",
       "    }\n",
       "\n",
       "    .dataframe tbody tr th {\n",
       "        vertical-align: top;\n",
       "    }\n",
       "\n",
       "    .dataframe thead th {\n",
       "        text-align: right;\n",
       "    }\n",
       "</style>\n",
       "<table border=\"1\" class=\"dataframe\">\n",
       "  <thead>\n",
       "    <tr style=\"text-align: right;\">\n",
       "      <th></th>\n",
       "      <th>Class</th>\n",
       "      <th>Message</th>\n",
       "      <th>IsSpam</th>\n",
       "      <th>Length</th>\n",
       "    </tr>\n",
       "  </thead>\n",
       "  <tbody>\n",
       "    <tr>\n",
       "      <th>0</th>\n",
       "      <td>ham</td>\n",
       "      <td>go until jurong point, crazy.. available only ...</td>\n",
       "      <td>0</td>\n",
       "      <td>111</td>\n",
       "    </tr>\n",
       "    <tr>\n",
       "      <th>1</th>\n",
       "      <td>ham</td>\n",
       "      <td>ok lar... joking wif u oni...</td>\n",
       "      <td>0</td>\n",
       "      <td>29</td>\n",
       "    </tr>\n",
       "    <tr>\n",
       "      <th>2</th>\n",
       "      <td>spam</td>\n",
       "      <td>free entry in 2 a wkly comp to win fa cup fina...</td>\n",
       "      <td>1</td>\n",
       "      <td>155</td>\n",
       "    </tr>\n",
       "    <tr>\n",
       "      <th>3</th>\n",
       "      <td>ham</td>\n",
       "      <td>u dun say so early hor... u c already then say...</td>\n",
       "      <td>0</td>\n",
       "      <td>49</td>\n",
       "    </tr>\n",
       "    <tr>\n",
       "      <th>4</th>\n",
       "      <td>ham</td>\n",
       "      <td>nah i don't think he goes to usf, he lives aro...</td>\n",
       "      <td>0</td>\n",
       "      <td>61</td>\n",
       "    </tr>\n",
       "    <tr>\n",
       "      <th>...</th>\n",
       "      <td>...</td>\n",
       "      <td>...</td>\n",
       "      <td>...</td>\n",
       "      <td>...</td>\n",
       "    </tr>\n",
       "    <tr>\n",
       "      <th>5567</th>\n",
       "      <td>spam</td>\n",
       "      <td>this is the 2nd time we have tried 2 contact u...</td>\n",
       "      <td>1</td>\n",
       "      <td>160</td>\n",
       "    </tr>\n",
       "    <tr>\n",
       "      <th>5568</th>\n",
       "      <td>ham</td>\n",
       "      <td>will ü b going to esplanade fr home?</td>\n",
       "      <td>0</td>\n",
       "      <td>36</td>\n",
       "    </tr>\n",
       "    <tr>\n",
       "      <th>5569</th>\n",
       "      <td>ham</td>\n",
       "      <td>pity, * was in mood for that. so...any other s...</td>\n",
       "      <td>0</td>\n",
       "      <td>57</td>\n",
       "    </tr>\n",
       "    <tr>\n",
       "      <th>5570</th>\n",
       "      <td>ham</td>\n",
       "      <td>the guy did some bitching but i acted like i'd...</td>\n",
       "      <td>0</td>\n",
       "      <td>125</td>\n",
       "    </tr>\n",
       "    <tr>\n",
       "      <th>5571</th>\n",
       "      <td>ham</td>\n",
       "      <td>rofl. its true to its name</td>\n",
       "      <td>0</td>\n",
       "      <td>26</td>\n",
       "    </tr>\n",
       "  </tbody>\n",
       "</table>\n",
       "<p>5572 rows × 4 columns</p>\n",
       "</div>"
      ],
      "text/plain": [
       "     Class                                            Message  IsSpam  Length\n",
       "0      ham  go until jurong point, crazy.. available only ...       0     111\n",
       "1      ham                      ok lar... joking wif u oni...       0      29\n",
       "2     spam  free entry in 2 a wkly comp to win fa cup fina...       1     155\n",
       "3      ham  u dun say so early hor... u c already then say...       0      49\n",
       "4      ham  nah i don't think he goes to usf, he lives aro...       0      61\n",
       "...    ...                                                ...     ...     ...\n",
       "5567  spam  this is the 2nd time we have tried 2 contact u...       1     160\n",
       "5568   ham               will ü b going to esplanade fr home?       0      36\n",
       "5569   ham  pity, * was in mood for that. so...any other s...       0      57\n",
       "5570   ham  the guy did some bitching but i acted like i'd...       0     125\n",
       "5571   ham                         rofl. its true to its name       0      26\n",
       "\n",
       "[5572 rows x 4 columns]"
      ]
     },
     "execution_count": 22,
     "metadata": {},
     "output_type": "execute_result"
    }
   ],
   "source": [
    "data = data.drop('Word_Count', axis = 1).reset_index(drop=True)\n",
    "data"
   ]
  },
  {
   "cell_type": "markdown",
   "id": "131be185",
   "metadata": {},
   "source": [
    "Vom vedea acum care sunt cuvintele care apar cel mai des in functie de tipul de mesaj."
   ]
  },
  {
   "cell_type": "code",
   "execution_count": 23,
   "id": "4f429548",
   "metadata": {
    "ExecuteTime": {
     "end_time": "2021-05-25T16:55:40.855591Z",
     "start_time": "2021-05-25T16:54:42.941924Z"
    }
   },
   "outputs": [],
   "source": [
    "spam_dictionary = {}\n",
    "ham_dictionary = {}\n",
    "\n",
    "def word_count(word, dictionary):\n",
    "    #cuvinte care vor fi sterse\n",
    "    remove_words = list(stopwords.words('english')) + ['u', 'ur', '2', '4', 'ü']\n",
    "    \n",
    "    #stergerea semnelor de punctuatie\n",
    "    no_punct = []\n",
    "    for char in word:\n",
    "        if char not in string.punctuation:\n",
    "            no_punct.append(char)\n",
    "    punctless = ''.join(no_punct)\n",
    "    \n",
    "    #stergerea stopword-urilor\n",
    "    if punctless not in remove_words and punctless != '':\n",
    "        if punctless in dictionary:\n",
    "            dictionary[punctless] += 1\n",
    "        else:\n",
    "            dictionary[punctless] = 1\n",
    "\n",
    "ham_list = ' '.join(data[data['IsSpam'] == 0]['Message'].tolist()).split()\n",
    "spam_list = ' '.join(data[data['IsSpam'] == 1]['Message'].tolist()).split()\n",
    "\n",
    "for text in ham_list:\n",
    "    word_count(text, ham_dictionary)\n",
    "\n",
    "for text in spam_list:\n",
    "    word_count(text, spam_dictionary)"
   ]
  },
  {
   "cell_type": "markdown",
   "id": "f1ea705b",
   "metadata": {},
   "source": [
    "Vom creea DataFrame-uri pentru numarul de cuvinte si vom selecta cele mai frecvente 10 cuvinte"
   ]
  },
  {
   "cell_type": "code",
   "execution_count": 24,
   "id": "dd3ef2a8",
   "metadata": {
    "ExecuteTime": {
     "end_time": "2021-05-25T16:55:40.884650Z",
     "start_time": "2021-05-25T16:55:40.860429Z"
    }
   },
   "outputs": [],
   "source": [
    "spam_count = pd.DataFrame(list(spam_dictionary.items()), columns = ['word', 'count']).sort_values(by = 'count', ascending = False).iloc[:10]\n",
    "ham_count = pd.DataFrame(list(ham_dictionary.items()), columns = ['word', 'count']).sort_values(by = 'count', ascending = False).iloc[:10]"
   ]
  },
  {
   "cell_type": "markdown",
   "id": "5e202b7f",
   "metadata": {},
   "source": [
    "Cele mai frecvente cuvinte din SMS-urile `legitime`:"
   ]
  },
  {
   "cell_type": "code",
   "execution_count": 25,
   "id": "fa4cc8a7",
   "metadata": {
    "ExecuteTime": {
     "end_time": "2021-05-25T16:55:40.928925Z",
     "start_time": "2021-05-25T16:55:40.890829Z"
    }
   },
   "outputs": [
    {
     "data": {
      "text/html": [
       "<div>\n",
       "<style scoped>\n",
       "    .dataframe tbody tr th:only-of-type {\n",
       "        vertical-align: middle;\n",
       "    }\n",
       "\n",
       "    .dataframe tbody tr th {\n",
       "        vertical-align: top;\n",
       "    }\n",
       "\n",
       "    .dataframe thead th {\n",
       "        text-align: right;\n",
       "    }\n",
       "</style>\n",
       "<table border=\"1\" class=\"dataframe\">\n",
       "  <thead>\n",
       "    <tr style=\"text-align: right;\">\n",
       "      <th></th>\n",
       "      <th>word</th>\n",
       "    </tr>\n",
       "  </thead>\n",
       "  <tbody>\n",
       "    <tr>\n",
       "      <th>0</th>\n",
       "      <td>im</td>\n",
       "    </tr>\n",
       "    <tr>\n",
       "      <th>1</th>\n",
       "      <td>get</td>\n",
       "    </tr>\n",
       "    <tr>\n",
       "      <th>2</th>\n",
       "      <td>ltgt</td>\n",
       "    </tr>\n",
       "    <tr>\n",
       "      <th>3</th>\n",
       "      <td>ok</td>\n",
       "    </tr>\n",
       "    <tr>\n",
       "      <th>4</th>\n",
       "      <td>dont</td>\n",
       "    </tr>\n",
       "    <tr>\n",
       "      <th>5</th>\n",
       "      <td>go</td>\n",
       "    </tr>\n",
       "    <tr>\n",
       "      <th>6</th>\n",
       "      <td>ill</td>\n",
       "    </tr>\n",
       "    <tr>\n",
       "      <th>7</th>\n",
       "      <td>got</td>\n",
       "    </tr>\n",
       "    <tr>\n",
       "      <th>8</th>\n",
       "      <td>know</td>\n",
       "    </tr>\n",
       "    <tr>\n",
       "      <th>9</th>\n",
       "      <td>call</td>\n",
       "    </tr>\n",
       "  </tbody>\n",
       "</table>\n",
       "</div>"
      ],
      "text/plain": [
       "   word\n",
       "0    im\n",
       "1   get\n",
       "2  ltgt\n",
       "3    ok\n",
       "4  dont\n",
       "5    go\n",
       "6   ill\n",
       "7   got\n",
       "8  know\n",
       "9  call"
      ]
     },
     "execution_count": 25,
     "metadata": {},
     "output_type": "execute_result"
    }
   ],
   "source": [
    "ham_count[['word']].reset_index(drop=True)"
   ]
  },
  {
   "cell_type": "markdown",
   "id": "e1137b8b",
   "metadata": {},
   "source": [
    "Cele mai frecvente cuvinte din SMS-urile de tip spam:"
   ]
  },
  {
   "cell_type": "code",
   "execution_count": 26,
   "id": "b93743b8",
   "metadata": {
    "ExecuteTime": {
     "end_time": "2021-05-25T16:55:40.977796Z",
     "start_time": "2021-05-25T16:55:40.939020Z"
    }
   },
   "outputs": [
    {
     "data": {
      "text/html": [
       "<div>\n",
       "<style scoped>\n",
       "    .dataframe tbody tr th:only-of-type {\n",
       "        vertical-align: middle;\n",
       "    }\n",
       "\n",
       "    .dataframe tbody tr th {\n",
       "        vertical-align: top;\n",
       "    }\n",
       "\n",
       "    .dataframe thead th {\n",
       "        text-align: right;\n",
       "    }\n",
       "</style>\n",
       "<table border=\"1\" class=\"dataframe\">\n",
       "  <thead>\n",
       "    <tr style=\"text-align: right;\">\n",
       "      <th></th>\n",
       "      <th>word</th>\n",
       "    </tr>\n",
       "  </thead>\n",
       "  <tbody>\n",
       "    <tr>\n",
       "      <th>0</th>\n",
       "      <td>call</td>\n",
       "    </tr>\n",
       "    <tr>\n",
       "      <th>1</th>\n",
       "      <td>free</td>\n",
       "    </tr>\n",
       "    <tr>\n",
       "      <th>2</th>\n",
       "      <td>txt</td>\n",
       "    </tr>\n",
       "    <tr>\n",
       "      <th>3</th>\n",
       "      <td>mobile</td>\n",
       "    </tr>\n",
       "    <tr>\n",
       "      <th>4</th>\n",
       "      <td>text</td>\n",
       "    </tr>\n",
       "    <tr>\n",
       "      <th>5</th>\n",
       "      <td>stop</td>\n",
       "    </tr>\n",
       "    <tr>\n",
       "      <th>6</th>\n",
       "      <td>claim</td>\n",
       "    </tr>\n",
       "    <tr>\n",
       "      <th>7</th>\n",
       "      <td>reply</td>\n",
       "    </tr>\n",
       "    <tr>\n",
       "      <th>8</th>\n",
       "      <td>prize</td>\n",
       "    </tr>\n",
       "    <tr>\n",
       "      <th>9</th>\n",
       "      <td>get</td>\n",
       "    </tr>\n",
       "  </tbody>\n",
       "</table>\n",
       "</div>"
      ],
      "text/plain": [
       "     word\n",
       "0    call\n",
       "1    free\n",
       "2     txt\n",
       "3  mobile\n",
       "4    text\n",
       "5    stop\n",
       "6   claim\n",
       "7   reply\n",
       "8   prize\n",
       "9     get"
      ]
     },
     "execution_count": 26,
     "metadata": {},
     "output_type": "execute_result"
    }
   ],
   "source": [
    "spam_count[['word']].reset_index(drop=True)"
   ]
  },
  {
   "cell_type": "markdown",
   "id": "c6aae0fd",
   "metadata": {},
   "source": [
    "**Observatie** Desi am calculat numarul de aparitii al fiecarui cuvant, acestea nu pot fi utilizate pentru comparatie, deoarece este o diferenta intre numarul de mesaje de tip spam si numarul de mesaje legitime din setul de date. Sunt mult mai multe mesaje legitime decat mesaje de tip spam."
   ]
  },
  {
   "cell_type": "markdown",
   "id": "1c146105",
   "metadata": {},
   "source": [
    "### Curatarea setului de date"
   ]
  },
  {
   "cell_type": "markdown",
   "id": "9697c5c5",
   "metadata": {},
   "source": [
    "Inainte de vectorizarea datelor, este bine sa facem anumite operatii pe aceste date."
   ]
  },
  {
   "cell_type": "code",
   "execution_count": 27,
   "id": "143413c9",
   "metadata": {
    "ExecuteTime": {
     "end_time": "2021-05-25T16:55:45.462385Z",
     "start_time": "2021-05-25T16:55:40.979830Z"
    }
   },
   "outputs": [],
   "source": [
    "def text_cleaning(word):\n",
    "    #cuvinte care vor fi sterse\n",
    "    remove_words = list(stopwords.words('english')) + ['u', 'ur', '2', '4', 'ü']\n",
    "    \n",
    "    #stergerea semnelor de punctuatie\n",
    "    no_punct = []\n",
    "    for char in word:\n",
    "        if char not in string.punctuation:\n",
    "            no_punct.append(char)\n",
    "    punctless = ''.join(no_punct)\n",
    "    \n",
    "    #returnam mesajul curat\n",
    "    return ' '.join([text for text in punctless.split() if text not in remove_words])\n",
    "\n",
    "data['Cleaned_Message'] = data['Message'].apply(text_cleaning)"
   ]
  },
  {
   "cell_type": "code",
   "execution_count": 28,
   "id": "95be886c",
   "metadata": {
    "ExecuteTime": {
     "end_time": "2021-05-25T16:55:45.508609Z",
     "start_time": "2021-05-25T16:55:45.464895Z"
    }
   },
   "outputs": [
    {
     "data": {
      "text/html": [
       "<div>\n",
       "<style scoped>\n",
       "    .dataframe tbody tr th:only-of-type {\n",
       "        vertical-align: middle;\n",
       "    }\n",
       "\n",
       "    .dataframe tbody tr th {\n",
       "        vertical-align: top;\n",
       "    }\n",
       "\n",
       "    .dataframe thead th {\n",
       "        text-align: right;\n",
       "    }\n",
       "</style>\n",
       "<table border=\"1\" class=\"dataframe\">\n",
       "  <thead>\n",
       "    <tr style=\"text-align: right;\">\n",
       "      <th></th>\n",
       "      <th>Class</th>\n",
       "      <th>Message</th>\n",
       "      <th>IsSpam</th>\n",
       "      <th>Length</th>\n",
       "      <th>Cleaned_Message</th>\n",
       "    </tr>\n",
       "  </thead>\n",
       "  <tbody>\n",
       "    <tr>\n",
       "      <th>0</th>\n",
       "      <td>ham</td>\n",
       "      <td>go until jurong point, crazy.. available only ...</td>\n",
       "      <td>0</td>\n",
       "      <td>111</td>\n",
       "      <td>go jurong point crazy available bugis n great ...</td>\n",
       "    </tr>\n",
       "    <tr>\n",
       "      <th>1</th>\n",
       "      <td>ham</td>\n",
       "      <td>ok lar... joking wif u oni...</td>\n",
       "      <td>0</td>\n",
       "      <td>29</td>\n",
       "      <td>ok lar joking wif oni</td>\n",
       "    </tr>\n",
       "    <tr>\n",
       "      <th>2</th>\n",
       "      <td>spam</td>\n",
       "      <td>free entry in 2 a wkly comp to win fa cup fina...</td>\n",
       "      <td>1</td>\n",
       "      <td>155</td>\n",
       "      <td>free entry wkly comp win fa cup final tkts 21s...</td>\n",
       "    </tr>\n",
       "    <tr>\n",
       "      <th>3</th>\n",
       "      <td>ham</td>\n",
       "      <td>u dun say so early hor... u c already then say...</td>\n",
       "      <td>0</td>\n",
       "      <td>49</td>\n",
       "      <td>dun say early hor c already say</td>\n",
       "    </tr>\n",
       "    <tr>\n",
       "      <th>4</th>\n",
       "      <td>ham</td>\n",
       "      <td>nah i don't think he goes to usf, he lives aro...</td>\n",
       "      <td>0</td>\n",
       "      <td>61</td>\n",
       "      <td>nah dont think goes usf lives around though</td>\n",
       "    </tr>\n",
       "  </tbody>\n",
       "</table>\n",
       "</div>"
      ],
      "text/plain": [
       "  Class                                            Message  IsSpam  Length  \\\n",
       "0   ham  go until jurong point, crazy.. available only ...       0     111   \n",
       "1   ham                      ok lar... joking wif u oni...       0      29   \n",
       "2  spam  free entry in 2 a wkly comp to win fa cup fina...       1     155   \n",
       "3   ham  u dun say so early hor... u c already then say...       0      49   \n",
       "4   ham  nah i don't think he goes to usf, he lives aro...       0      61   \n",
       "\n",
       "                                     Cleaned_Message  \n",
       "0  go jurong point crazy available bugis n great ...  \n",
       "1                              ok lar joking wif oni  \n",
       "2  free entry wkly comp win fa cup final tkts 21s...  \n",
       "3                    dun say early hor c already say  \n",
       "4        nah dont think goes usf lives around though  "
      ]
     },
     "execution_count": 28,
     "metadata": {},
     "output_type": "execute_result"
    }
   ],
   "source": [
    "data.head()"
   ]
  },
  {
   "cell_type": "markdown",
   "id": "ca94a1d5",
   "metadata": {},
   "source": [
    "Inlocuim mesajele initiale cu mesajele curatate"
   ]
  },
  {
   "cell_type": "code",
   "execution_count": 29,
   "id": "9a0c8401",
   "metadata": {
    "ExecuteTime": {
     "end_time": "2021-05-25T16:55:45.553533Z",
     "start_time": "2021-05-25T16:55:45.513674Z"
    }
   },
   "outputs": [
    {
     "data": {
      "text/html": [
       "<div>\n",
       "<style scoped>\n",
       "    .dataframe tbody tr th:only-of-type {\n",
       "        vertical-align: middle;\n",
       "    }\n",
       "\n",
       "    .dataframe tbody tr th {\n",
       "        vertical-align: top;\n",
       "    }\n",
       "\n",
       "    .dataframe thead th {\n",
       "        text-align: right;\n",
       "    }\n",
       "</style>\n",
       "<table border=\"1\" class=\"dataframe\">\n",
       "  <thead>\n",
       "    <tr style=\"text-align: right;\">\n",
       "      <th></th>\n",
       "      <th>Class</th>\n",
       "      <th>Message</th>\n",
       "      <th>IsSpam</th>\n",
       "      <th>Length</th>\n",
       "    </tr>\n",
       "  </thead>\n",
       "  <tbody>\n",
       "    <tr>\n",
       "      <th>0</th>\n",
       "      <td>ham</td>\n",
       "      <td>go jurong point crazy available bugis n great ...</td>\n",
       "      <td>0</td>\n",
       "      <td>111</td>\n",
       "    </tr>\n",
       "    <tr>\n",
       "      <th>1</th>\n",
       "      <td>ham</td>\n",
       "      <td>ok lar joking wif oni</td>\n",
       "      <td>0</td>\n",
       "      <td>29</td>\n",
       "    </tr>\n",
       "    <tr>\n",
       "      <th>2</th>\n",
       "      <td>spam</td>\n",
       "      <td>free entry wkly comp win fa cup final tkts 21s...</td>\n",
       "      <td>1</td>\n",
       "      <td>155</td>\n",
       "    </tr>\n",
       "    <tr>\n",
       "      <th>3</th>\n",
       "      <td>ham</td>\n",
       "      <td>dun say early hor c already say</td>\n",
       "      <td>0</td>\n",
       "      <td>49</td>\n",
       "    </tr>\n",
       "    <tr>\n",
       "      <th>4</th>\n",
       "      <td>ham</td>\n",
       "      <td>nah dont think goes usf lives around though</td>\n",
       "      <td>0</td>\n",
       "      <td>61</td>\n",
       "    </tr>\n",
       "  </tbody>\n",
       "</table>\n",
       "</div>"
      ],
      "text/plain": [
       "  Class                                            Message  IsSpam  Length\n",
       "0   ham  go jurong point crazy available bugis n great ...       0     111\n",
       "1   ham                              ok lar joking wif oni       0      29\n",
       "2  spam  free entry wkly comp win fa cup final tkts 21s...       1     155\n",
       "3   ham                    dun say early hor c already say       0      49\n",
       "4   ham        nah dont think goes usf lives around though       0      61"
      ]
     },
     "execution_count": 29,
     "metadata": {},
     "output_type": "execute_result"
    }
   ],
   "source": [
    "data['Message'] = data['Cleaned_Message']\n",
    "data = data.drop(columns = {'Cleaned_Message'})\n",
    "data.head()"
   ]
  },
  {
   "cell_type": "markdown",
   "id": "a7942d26",
   "metadata": {},
   "source": [
    "### Bag of Words"
   ]
  },
  {
   "cell_type": "markdown",
   "id": "a7df980e",
   "metadata": {},
   "source": [
    "Impartim setul de date in set de antrenare si de testare"
   ]
  },
  {
   "cell_type": "code",
   "execution_count": 30,
   "id": "4546ce63",
   "metadata": {
    "ExecuteTime": {
     "end_time": "2021-05-25T16:55:45.598331Z",
     "start_time": "2021-05-25T16:55:45.559188Z"
    }
   },
   "outputs": [
    {
     "data": {
      "text/html": [
       "<div>\n",
       "<style scoped>\n",
       "    .dataframe tbody tr th:only-of-type {\n",
       "        vertical-align: middle;\n",
       "    }\n",
       "\n",
       "    .dataframe tbody tr th {\n",
       "        vertical-align: top;\n",
       "    }\n",
       "\n",
       "    .dataframe thead th {\n",
       "        text-align: right;\n",
       "    }\n",
       "</style>\n",
       "<table border=\"1\" class=\"dataframe\">\n",
       "  <thead>\n",
       "    <tr style=\"text-align: right;\">\n",
       "      <th></th>\n",
       "      <th>Class</th>\n",
       "      <th>Message</th>\n",
       "      <th>Length</th>\n",
       "    </tr>\n",
       "  </thead>\n",
       "  <tbody>\n",
       "    <tr>\n",
       "      <th>0</th>\n",
       "      <td>spam</td>\n",
       "      <td>500 new mobiles 2004 must go txt nokia 89545 c...</td>\n",
       "      <td>142</td>\n",
       "    </tr>\n",
       "    <tr>\n",
       "      <th>1</th>\n",
       "      <td>ham</td>\n",
       "      <td>ok msg b4 leave house</td>\n",
       "      <td>31</td>\n",
       "    </tr>\n",
       "    <tr>\n",
       "      <th>2</th>\n",
       "      <td>ham</td>\n",
       "      <td>lets go bill millers</td>\n",
       "      <td>30</td>\n",
       "    </tr>\n",
       "    <tr>\n",
       "      <th>3</th>\n",
       "      <td>ham</td>\n",
       "      <td>dont want hear anything</td>\n",
       "      <td>28</td>\n",
       "    </tr>\n",
       "    <tr>\n",
       "      <th>4</th>\n",
       "      <td>ham</td>\n",
       "      <td>dont file bagi work called mei tell find anyth...</td>\n",
       "      <td>118</td>\n",
       "    </tr>\n",
       "    <tr>\n",
       "      <th>...</th>\n",
       "      <td>...</td>\n",
       "      <td>...</td>\n",
       "      <td>...</td>\n",
       "    </tr>\n",
       "    <tr>\n",
       "      <th>3728</th>\n",
       "      <td>ham</td>\n",
       "      <td>day class class</td>\n",
       "      <td>35</td>\n",
       "    </tr>\n",
       "    <tr>\n",
       "      <th>3729</th>\n",
       "      <td>ham</td>\n",
       "      <td>time thinkin goin</td>\n",
       "      <td>30</td>\n",
       "    </tr>\n",
       "    <tr>\n",
       "      <th>3730</th>\n",
       "      <td>ham</td>\n",
       "      <td>crazy ar hes married like gd looking guys fren...</td>\n",
       "      <td>159</td>\n",
       "    </tr>\n",
       "    <tr>\n",
       "      <th>3731</th>\n",
       "      <td>ham</td>\n",
       "      <td>finally came fix ceiling</td>\n",
       "      <td>37</td>\n",
       "    </tr>\n",
       "    <tr>\n",
       "      <th>3732</th>\n",
       "      <td>ham</td>\n",
       "      <td>happy new year</td>\n",
       "      <td>24</td>\n",
       "    </tr>\n",
       "  </tbody>\n",
       "</table>\n",
       "<p>3733 rows × 3 columns</p>\n",
       "</div>"
      ],
      "text/plain": [
       "     Class                                            Message  Length\n",
       "0     spam  500 new mobiles 2004 must go txt nokia 89545 c...     142\n",
       "1      ham                              ok msg b4 leave house      31\n",
       "2      ham                               lets go bill millers      30\n",
       "3      ham                            dont want hear anything      28\n",
       "4      ham  dont file bagi work called mei tell find anyth...     118\n",
       "...    ...                                                ...     ...\n",
       "3728   ham                                    day class class      35\n",
       "3729   ham                                  time thinkin goin      30\n",
       "3730   ham  crazy ar hes married like gd looking guys fren...     159\n",
       "3731   ham                           finally came fix ceiling      37\n",
       "3732   ham                                     happy new year      24\n",
       "\n",
       "[3733 rows x 3 columns]"
      ]
     },
     "execution_count": 30,
     "metadata": {},
     "output_type": "execute_result"
    }
   ],
   "source": [
    "X_data = data.drop(columns = ['IsSpam'])\n",
    "y_data = data['IsSpam']\n",
    "\n",
    "X_train, X_test, y_train, y_test = train_test_split(X_data, y_data, test_size=0.33, random_state=10)\n",
    "\n",
    "X_train.reset_index(drop=True, inplace=True)\n",
    "X_test.reset_index(drop=True, inplace=True)\n",
    "y_train.reset_index(drop=True, inplace=True)\n",
    "y_test.reset_index(drop=True, inplace=True)\n",
    "\n",
    "X_train"
   ]
  },
  {
   "cell_type": "code",
   "execution_count": 31,
   "id": "0cfaf8f6",
   "metadata": {
    "ExecuteTime": {
     "end_time": "2021-05-25T16:55:45.615127Z",
     "start_time": "2021-05-25T16:55:45.601074Z"
    }
   },
   "outputs": [],
   "source": [
    "vectorizer = CountVectorizer()"
   ]
  },
  {
   "cell_type": "markdown",
   "id": "8579f867",
   "metadata": {},
   "source": [
    "Vom crea un vocabular"
   ]
  },
  {
   "cell_type": "code",
   "execution_count": 32,
   "id": "01f98b87",
   "metadata": {
    "ExecuteTime": {
     "end_time": "2021-05-25T16:55:45.734516Z",
     "start_time": "2021-05-25T16:55:45.617557Z"
    }
   },
   "outputs": [
    {
     "data": {
      "text/plain": [
       "7483"
      ]
     },
     "execution_count": 32,
     "metadata": {},
     "output_type": "execute_result"
    }
   ],
   "source": [
    "document_matrix = vectorizer.fit(X_train['Message'])\n",
    "len(document_matrix.vocabulary_)"
   ]
  },
  {
   "cell_type": "markdown",
   "id": "3e2d1723",
   "metadata": {},
   "source": [
    "Testam CountVectorizer() pentru unul dintre SMS-uri"
   ]
  },
  {
   "cell_type": "code",
   "execution_count": 33,
   "id": "462d3eac",
   "metadata": {
    "ExecuteTime": {
     "end_time": "2021-05-25T16:55:45.762400Z",
     "start_time": "2021-05-25T16:55:45.738540Z"
    }
   },
   "outputs": [
    {
     "name": "stdout",
     "output_type": "stream",
     "text": [
      "  (0, 1462)\t1\n",
      "  (0, 1984)\t1\n",
      "  (0, 6228)\t1\n",
      "  (0, 6504)\t1\n",
      "  (0, 7106)\t1\n",
      "  (0, 7278)\t1\n"
     ]
    },
    {
     "data": {
      "text/plain": [
       "(1, 7483)"
      ]
     },
     "execution_count": 33,
     "metadata": {},
     "output_type": "execute_result"
    }
   ],
   "source": [
    "train_bow = vectorizer.transform([X_train['Message'][12]])\n",
    "print(train_bow)\n",
    "train_bow.shape"
   ]
  },
  {
   "cell_type": "markdown",
   "id": "6cdada98",
   "metadata": {},
   "source": [
    "Folosind `transform`, modelul nostru poate returna o matrice care numara aparitiile fiecarui cuvant. \n",
    "\n",
    "Se pare ca in mesajul nostru apar doar 6 cuvinte din totalul de 7483.\n",
    "\n",
    "Verificam ce cuvant corespunde numarului 6504:"
   ]
  },
  {
   "cell_type": "code",
   "execution_count": 34,
   "id": "2210be98",
   "metadata": {
    "ExecuteTime": {
     "end_time": "2021-05-25T16:55:45.778406Z",
     "start_time": "2021-05-25T16:55:45.765392Z"
    }
   },
   "outputs": [
    {
     "name": "stdout",
     "output_type": "stream",
     "text": [
      "text\n"
     ]
    }
   ],
   "source": [
    "print(vectorizer.get_feature_names()[6504])"
   ]
  },
  {
   "cell_type": "markdown",
   "id": "3fa8f13a",
   "metadata": {},
   "source": [
    "Verificam si daca mesajul contine cuvantul de mai sus:"
   ]
  },
  {
   "cell_type": "code",
   "execution_count": 35,
   "id": "6e230b9c",
   "metadata": {
    "ExecuteTime": {
     "end_time": "2021-05-25T16:55:45.795531Z",
     "start_time": "2021-05-25T16:55:45.781397Z"
    }
   },
   "outputs": [
    {
     "data": {
      "text/plain": [
       "'text way cup stop work bus'"
      ]
     },
     "execution_count": 35,
     "metadata": {},
     "output_type": "execute_result"
    }
   ],
   "source": [
    "X_train['Message'][12]"
   ]
  },
  {
   "cell_type": "markdown",
   "id": "b7bae0b7",
   "metadata": {},
   "source": [
    "Aplicam `CountVectorizer()` pe tot setul de date"
   ]
  },
  {
   "cell_type": "code",
   "execution_count": 36,
   "id": "042f3608",
   "metadata": {
    "ExecuteTime": {
     "end_time": "2021-05-25T16:55:45.870261Z",
     "start_time": "2021-05-25T16:55:45.798748Z"
    }
   },
   "outputs": [],
   "source": [
    "train_count = vectorizer.transform(X_train['Message'])"
   ]
  },
  {
   "cell_type": "code",
   "execution_count": 37,
   "id": "ac02b839",
   "metadata": {
    "ExecuteTime": {
     "end_time": "2021-05-25T16:55:45.883480Z",
     "start_time": "2021-05-25T16:55:45.872255Z"
    }
   },
   "outputs": [
    {
     "name": "stdout",
     "output_type": "stream",
     "text": [
      "Shape of matrix: (3733, 7483)\n",
      "Amount of Non-Zero occurences: 31638\n"
     ]
    }
   ],
   "source": [
    "print(f'Shape of matrix: {train_count.shape}')\n",
    "print(f'Amount of Non-Zero occurences: {train_count.nnz}')"
   ]
  },
  {
   "cell_type": "markdown",
   "id": "3487815e",
   "metadata": {},
   "source": [
    "Returnam matricea Hot-one-encoded"
   ]
  },
  {
   "cell_type": "code",
   "execution_count": 38,
   "id": "f35d4034",
   "metadata": {
    "ExecuteTime": {
     "end_time": "2021-05-25T16:55:45.991483Z",
     "start_time": "2021-05-25T16:55:45.885463Z"
    }
   },
   "outputs": [
    {
     "data": {
      "text/html": [
       "<div>\n",
       "<style scoped>\n",
       "    .dataframe tbody tr th:only-of-type {\n",
       "        vertical-align: middle;\n",
       "    }\n",
       "\n",
       "    .dataframe tbody tr th {\n",
       "        vertical-align: top;\n",
       "    }\n",
       "\n",
       "    .dataframe thead th {\n",
       "        text-align: right;\n",
       "    }\n",
       "</style>\n",
       "<table border=\"1\" class=\"dataframe\">\n",
       "  <thead>\n",
       "    <tr style=\"text-align: right;\">\n",
       "      <th></th>\n",
       "      <th>008704050406</th>\n",
       "      <th>0089my</th>\n",
       "      <th>0121</th>\n",
       "      <th>01223585334</th>\n",
       "      <th>020603</th>\n",
       "      <th>0207</th>\n",
       "      <th>02070836089</th>\n",
       "      <th>02085076972</th>\n",
       "      <th>020903</th>\n",
       "      <th>021</th>\n",
       "      <th>...</th>\n",
       "      <th>yupz</th>\n",
       "      <th>ywhere</th>\n",
       "      <th>zac</th>\n",
       "      <th>zahers</th>\n",
       "      <th>zealand</th>\n",
       "      <th>zed</th>\n",
       "      <th>zoe</th>\n",
       "      <th>zogtorius</th>\n",
       "      <th>üll</th>\n",
       "      <th>〨ud</th>\n",
       "    </tr>\n",
       "  </thead>\n",
       "  <tbody>\n",
       "    <tr>\n",
       "      <th>0</th>\n",
       "      <td>0</td>\n",
       "      <td>0</td>\n",
       "      <td>0</td>\n",
       "      <td>0</td>\n",
       "      <td>0</td>\n",
       "      <td>0</td>\n",
       "      <td>0</td>\n",
       "      <td>0</td>\n",
       "      <td>0</td>\n",
       "      <td>0</td>\n",
       "      <td>...</td>\n",
       "      <td>0</td>\n",
       "      <td>0</td>\n",
       "      <td>0</td>\n",
       "      <td>0</td>\n",
       "      <td>0</td>\n",
       "      <td>0</td>\n",
       "      <td>0</td>\n",
       "      <td>0</td>\n",
       "      <td>0</td>\n",
       "      <td>0</td>\n",
       "    </tr>\n",
       "    <tr>\n",
       "      <th>1</th>\n",
       "      <td>0</td>\n",
       "      <td>0</td>\n",
       "      <td>0</td>\n",
       "      <td>0</td>\n",
       "      <td>0</td>\n",
       "      <td>0</td>\n",
       "      <td>0</td>\n",
       "      <td>0</td>\n",
       "      <td>0</td>\n",
       "      <td>0</td>\n",
       "      <td>...</td>\n",
       "      <td>0</td>\n",
       "      <td>0</td>\n",
       "      <td>0</td>\n",
       "      <td>0</td>\n",
       "      <td>0</td>\n",
       "      <td>0</td>\n",
       "      <td>0</td>\n",
       "      <td>0</td>\n",
       "      <td>0</td>\n",
       "      <td>0</td>\n",
       "    </tr>\n",
       "    <tr>\n",
       "      <th>2</th>\n",
       "      <td>0</td>\n",
       "      <td>0</td>\n",
       "      <td>0</td>\n",
       "      <td>0</td>\n",
       "      <td>0</td>\n",
       "      <td>0</td>\n",
       "      <td>0</td>\n",
       "      <td>0</td>\n",
       "      <td>0</td>\n",
       "      <td>0</td>\n",
       "      <td>...</td>\n",
       "      <td>0</td>\n",
       "      <td>0</td>\n",
       "      <td>0</td>\n",
       "      <td>0</td>\n",
       "      <td>0</td>\n",
       "      <td>0</td>\n",
       "      <td>0</td>\n",
       "      <td>0</td>\n",
       "      <td>0</td>\n",
       "      <td>0</td>\n",
       "    </tr>\n",
       "    <tr>\n",
       "      <th>3</th>\n",
       "      <td>0</td>\n",
       "      <td>0</td>\n",
       "      <td>0</td>\n",
       "      <td>0</td>\n",
       "      <td>0</td>\n",
       "      <td>0</td>\n",
       "      <td>0</td>\n",
       "      <td>0</td>\n",
       "      <td>0</td>\n",
       "      <td>0</td>\n",
       "      <td>...</td>\n",
       "      <td>0</td>\n",
       "      <td>0</td>\n",
       "      <td>0</td>\n",
       "      <td>0</td>\n",
       "      <td>0</td>\n",
       "      <td>0</td>\n",
       "      <td>0</td>\n",
       "      <td>0</td>\n",
       "      <td>0</td>\n",
       "      <td>0</td>\n",
       "    </tr>\n",
       "    <tr>\n",
       "      <th>4</th>\n",
       "      <td>0</td>\n",
       "      <td>0</td>\n",
       "      <td>0</td>\n",
       "      <td>0</td>\n",
       "      <td>0</td>\n",
       "      <td>0</td>\n",
       "      <td>0</td>\n",
       "      <td>0</td>\n",
       "      <td>0</td>\n",
       "      <td>0</td>\n",
       "      <td>...</td>\n",
       "      <td>0</td>\n",
       "      <td>0</td>\n",
       "      <td>0</td>\n",
       "      <td>0</td>\n",
       "      <td>0</td>\n",
       "      <td>0</td>\n",
       "      <td>0</td>\n",
       "      <td>0</td>\n",
       "      <td>0</td>\n",
       "      <td>0</td>\n",
       "    </tr>\n",
       "    <tr>\n",
       "      <th>...</th>\n",
       "      <td>...</td>\n",
       "      <td>...</td>\n",
       "      <td>...</td>\n",
       "      <td>...</td>\n",
       "      <td>...</td>\n",
       "      <td>...</td>\n",
       "      <td>...</td>\n",
       "      <td>...</td>\n",
       "      <td>...</td>\n",
       "      <td>...</td>\n",
       "      <td>...</td>\n",
       "      <td>...</td>\n",
       "      <td>...</td>\n",
       "      <td>...</td>\n",
       "      <td>...</td>\n",
       "      <td>...</td>\n",
       "      <td>...</td>\n",
       "      <td>...</td>\n",
       "      <td>...</td>\n",
       "      <td>...</td>\n",
       "      <td>...</td>\n",
       "    </tr>\n",
       "    <tr>\n",
       "      <th>3728</th>\n",
       "      <td>0</td>\n",
       "      <td>0</td>\n",
       "      <td>0</td>\n",
       "      <td>0</td>\n",
       "      <td>0</td>\n",
       "      <td>0</td>\n",
       "      <td>0</td>\n",
       "      <td>0</td>\n",
       "      <td>0</td>\n",
       "      <td>0</td>\n",
       "      <td>...</td>\n",
       "      <td>0</td>\n",
       "      <td>0</td>\n",
       "      <td>0</td>\n",
       "      <td>0</td>\n",
       "      <td>0</td>\n",
       "      <td>0</td>\n",
       "      <td>0</td>\n",
       "      <td>0</td>\n",
       "      <td>0</td>\n",
       "      <td>0</td>\n",
       "    </tr>\n",
       "    <tr>\n",
       "      <th>3729</th>\n",
       "      <td>0</td>\n",
       "      <td>0</td>\n",
       "      <td>0</td>\n",
       "      <td>0</td>\n",
       "      <td>0</td>\n",
       "      <td>0</td>\n",
       "      <td>0</td>\n",
       "      <td>0</td>\n",
       "      <td>0</td>\n",
       "      <td>0</td>\n",
       "      <td>...</td>\n",
       "      <td>0</td>\n",
       "      <td>0</td>\n",
       "      <td>0</td>\n",
       "      <td>0</td>\n",
       "      <td>0</td>\n",
       "      <td>0</td>\n",
       "      <td>0</td>\n",
       "      <td>0</td>\n",
       "      <td>0</td>\n",
       "      <td>0</td>\n",
       "    </tr>\n",
       "    <tr>\n",
       "      <th>3730</th>\n",
       "      <td>0</td>\n",
       "      <td>0</td>\n",
       "      <td>0</td>\n",
       "      <td>0</td>\n",
       "      <td>0</td>\n",
       "      <td>0</td>\n",
       "      <td>0</td>\n",
       "      <td>0</td>\n",
       "      <td>0</td>\n",
       "      <td>0</td>\n",
       "      <td>...</td>\n",
       "      <td>0</td>\n",
       "      <td>0</td>\n",
       "      <td>0</td>\n",
       "      <td>0</td>\n",
       "      <td>0</td>\n",
       "      <td>0</td>\n",
       "      <td>0</td>\n",
       "      <td>0</td>\n",
       "      <td>0</td>\n",
       "      <td>0</td>\n",
       "    </tr>\n",
       "    <tr>\n",
       "      <th>3731</th>\n",
       "      <td>0</td>\n",
       "      <td>0</td>\n",
       "      <td>0</td>\n",
       "      <td>0</td>\n",
       "      <td>0</td>\n",
       "      <td>0</td>\n",
       "      <td>0</td>\n",
       "      <td>0</td>\n",
       "      <td>0</td>\n",
       "      <td>0</td>\n",
       "      <td>...</td>\n",
       "      <td>0</td>\n",
       "      <td>0</td>\n",
       "      <td>0</td>\n",
       "      <td>0</td>\n",
       "      <td>0</td>\n",
       "      <td>0</td>\n",
       "      <td>0</td>\n",
       "      <td>0</td>\n",
       "      <td>0</td>\n",
       "      <td>0</td>\n",
       "    </tr>\n",
       "    <tr>\n",
       "      <th>3732</th>\n",
       "      <td>0</td>\n",
       "      <td>0</td>\n",
       "      <td>0</td>\n",
       "      <td>0</td>\n",
       "      <td>0</td>\n",
       "      <td>0</td>\n",
       "      <td>0</td>\n",
       "      <td>0</td>\n",
       "      <td>0</td>\n",
       "      <td>0</td>\n",
       "      <td>...</td>\n",
       "      <td>0</td>\n",
       "      <td>0</td>\n",
       "      <td>0</td>\n",
       "      <td>0</td>\n",
       "      <td>0</td>\n",
       "      <td>0</td>\n",
       "      <td>0</td>\n",
       "      <td>0</td>\n",
       "      <td>0</td>\n",
       "      <td>0</td>\n",
       "    </tr>\n",
       "  </tbody>\n",
       "</table>\n",
       "<p>3733 rows × 7483 columns</p>\n",
       "</div>"
      ],
      "text/plain": [
       "      008704050406  0089my  0121  01223585334  020603  0207  02070836089  \\\n",
       "0                0       0     0            0       0     0            0   \n",
       "1                0       0     0            0       0     0            0   \n",
       "2                0       0     0            0       0     0            0   \n",
       "3                0       0     0            0       0     0            0   \n",
       "4                0       0     0            0       0     0            0   \n",
       "...            ...     ...   ...          ...     ...   ...          ...   \n",
       "3728             0       0     0            0       0     0            0   \n",
       "3729             0       0     0            0       0     0            0   \n",
       "3730             0       0     0            0       0     0            0   \n",
       "3731             0       0     0            0       0     0            0   \n",
       "3732             0       0     0            0       0     0            0   \n",
       "\n",
       "      02085076972  020903  021  ...  yupz  ywhere  zac  zahers  zealand  zed  \\\n",
       "0               0       0    0  ...     0       0    0       0        0    0   \n",
       "1               0       0    0  ...     0       0    0       0        0    0   \n",
       "2               0       0    0  ...     0       0    0       0        0    0   \n",
       "3               0       0    0  ...     0       0    0       0        0    0   \n",
       "4               0       0    0  ...     0       0    0       0        0    0   \n",
       "...           ...     ...  ...  ...   ...     ...  ...     ...      ...  ...   \n",
       "3728            0       0    0  ...     0       0    0       0        0    0   \n",
       "3729            0       0    0  ...     0       0    0       0        0    0   \n",
       "3730            0       0    0  ...     0       0    0       0        0    0   \n",
       "3731            0       0    0  ...     0       0    0       0        0    0   \n",
       "3732            0       0    0  ...     0       0    0       0        0    0   \n",
       "\n",
       "      zoe  zogtorius  üll  〨ud  \n",
       "0       0          0    0    0  \n",
       "1       0          0    0    0  \n",
       "2       0          0    0    0  \n",
       "3       0          0    0    0  \n",
       "4       0          0    0    0  \n",
       "...   ...        ...  ...  ...  \n",
       "3728    0          0    0    0  \n",
       "3729    0          0    0    0  \n",
       "3730    0          0    0    0  \n",
       "3731    0          0    0    0  \n",
       "3732    0          0    0    0  \n",
       "\n",
       "[3733 rows x 7483 columns]"
      ]
     },
     "execution_count": 38,
     "metadata": {},
     "output_type": "execute_result"
    }
   ],
   "source": [
    "bow_matrix = pd.DataFrame(train_count.toarray(), columns=vectorizer.get_feature_names())\n",
    "bow_matrix"
   ]
  },
  {
   "cell_type": "markdown",
   "id": "b84e7070",
   "metadata": {
    "ExecuteTime": {
     "end_time": "2021-05-25T15:25:54.101370Z",
     "start_time": "2021-05-25T15:25:54.043158Z"
    }
   },
   "source": [
    "### Term frequency-inverse document frequency (TFIDF)"
   ]
  },
  {
   "cell_type": "markdown",
   "id": "863e874b",
   "metadata": {},
   "source": [
    "Desi vectorizarea a venit cu mult mai multe date, o problema este sistemul de weighting. Acum, o celula are valoare 0 sau 1, valori care reprezinta daca acel cuvant apare sau nu. Desi aceasta diferentiere binara este de ajutor, este posibil sa calculam weight-urile acestor valori bazandu-ne pe frecventa de aparitie a cuvantului. Vom folosi pentru acest calcul `TF-IDF`."
   ]
  },
  {
   "cell_type": "code",
   "execution_count": 39,
   "id": "153744e3",
   "metadata": {
    "ExecuteTime": {
     "end_time": "2021-05-25T16:55:46.006556Z",
     "start_time": "2021-05-25T16:55:45.994222Z"
    }
   },
   "outputs": [],
   "source": [
    "tfTransformer = TfidfTransformer().fit(train_count)"
   ]
  },
  {
   "cell_type": "markdown",
   "id": "29908323",
   "metadata": {},
   "source": [
    "Vom testa pe un mesaj pentru a observa output-ul. (Este acelasi mesaj de la testul de CountVectorizer)"
   ]
  },
  {
   "cell_type": "code",
   "execution_count": 40,
   "id": "9aedc866",
   "metadata": {
    "ExecuteTime": {
     "end_time": "2021-05-25T16:55:46.022416Z",
     "start_time": "2021-05-25T16:55:46.012049Z"
    }
   },
   "outputs": [
    {
     "name": "stdout",
     "output_type": "stream",
     "text": [
      "  (0, 7278)\t0.364275244454683\n",
      "  (0, 7106)\t0.3674442878291312\n",
      "  (0, 6504)\t0.3391348218748505\n",
      "  (0, 6228)\t0.3452554297558748\n",
      "  (0, 1984)\t0.5343371949981742\n",
      "  (0, 1462)\t0.46104041523136147\n"
     ]
    }
   ],
   "source": [
    "tfidf_test = tfTransformer.transform(train_bow)\n",
    "print(tfidf_test)"
   ]
  },
  {
   "cell_type": "markdown",
   "id": "5a693bff",
   "metadata": {},
   "source": [
    "Putem observa ca in locul valorilor de 0 sau 1, avem acum valori variate in functie de importanta cuvantului.\n",
    "\n",
    "Aplicam acum `TfidfTransformer` asupra intregului set de date."
   ]
  },
  {
   "cell_type": "code",
   "execution_count": 41,
   "id": "ccf1172d",
   "metadata": {
    "ExecuteTime": {
     "end_time": "2021-05-25T16:55:46.036123Z",
     "start_time": "2021-05-25T16:55:46.026614Z"
    }
   },
   "outputs": [],
   "source": [
    "train_tfidf = tfTransformer.transform(train_count)"
   ]
  },
  {
   "cell_type": "code",
   "execution_count": 42,
   "id": "867aed6a",
   "metadata": {
    "ExecuteTime": {
     "end_time": "2021-05-25T16:55:46.151130Z",
     "start_time": "2021-05-25T16:55:46.040116Z"
    }
   },
   "outputs": [
    {
     "data": {
      "text/html": [
       "<div>\n",
       "<style scoped>\n",
       "    .dataframe tbody tr th:only-of-type {\n",
       "        vertical-align: middle;\n",
       "    }\n",
       "\n",
       "    .dataframe tbody tr th {\n",
       "        vertical-align: top;\n",
       "    }\n",
       "\n",
       "    .dataframe thead th {\n",
       "        text-align: right;\n",
       "    }\n",
       "</style>\n",
       "<table border=\"1\" class=\"dataframe\">\n",
       "  <thead>\n",
       "    <tr style=\"text-align: right;\">\n",
       "      <th></th>\n",
       "      <th>008704050406</th>\n",
       "      <th>0089my</th>\n",
       "      <th>0121</th>\n",
       "      <th>01223585334</th>\n",
       "      <th>020603</th>\n",
       "      <th>0207</th>\n",
       "      <th>02070836089</th>\n",
       "      <th>02085076972</th>\n",
       "      <th>020903</th>\n",
       "      <th>021</th>\n",
       "      <th>...</th>\n",
       "      <th>yupz</th>\n",
       "      <th>ywhere</th>\n",
       "      <th>zac</th>\n",
       "      <th>zahers</th>\n",
       "      <th>zealand</th>\n",
       "      <th>zed</th>\n",
       "      <th>zoe</th>\n",
       "      <th>zogtorius</th>\n",
       "      <th>üll</th>\n",
       "      <th>〨ud</th>\n",
       "    </tr>\n",
       "  </thead>\n",
       "  <tbody>\n",
       "    <tr>\n",
       "      <th>0</th>\n",
       "      <td>0.0</td>\n",
       "      <td>0.0</td>\n",
       "      <td>0.0</td>\n",
       "      <td>0.0</td>\n",
       "      <td>0.0</td>\n",
       "      <td>0.0</td>\n",
       "      <td>0.0</td>\n",
       "      <td>0.0</td>\n",
       "      <td>0.0</td>\n",
       "      <td>0.0</td>\n",
       "      <td>...</td>\n",
       "      <td>0.0</td>\n",
       "      <td>0.0</td>\n",
       "      <td>0.0</td>\n",
       "      <td>0.0</td>\n",
       "      <td>0.0</td>\n",
       "      <td>0.0</td>\n",
       "      <td>0.0</td>\n",
       "      <td>0.0</td>\n",
       "      <td>0.0</td>\n",
       "      <td>0.0</td>\n",
       "    </tr>\n",
       "    <tr>\n",
       "      <th>1</th>\n",
       "      <td>0.0</td>\n",
       "      <td>0.0</td>\n",
       "      <td>0.0</td>\n",
       "      <td>0.0</td>\n",
       "      <td>0.0</td>\n",
       "      <td>0.0</td>\n",
       "      <td>0.0</td>\n",
       "      <td>0.0</td>\n",
       "      <td>0.0</td>\n",
       "      <td>0.0</td>\n",
       "      <td>...</td>\n",
       "      <td>0.0</td>\n",
       "      <td>0.0</td>\n",
       "      <td>0.0</td>\n",
       "      <td>0.0</td>\n",
       "      <td>0.0</td>\n",
       "      <td>0.0</td>\n",
       "      <td>0.0</td>\n",
       "      <td>0.0</td>\n",
       "      <td>0.0</td>\n",
       "      <td>0.0</td>\n",
       "    </tr>\n",
       "    <tr>\n",
       "      <th>2</th>\n",
       "      <td>0.0</td>\n",
       "      <td>0.0</td>\n",
       "      <td>0.0</td>\n",
       "      <td>0.0</td>\n",
       "      <td>0.0</td>\n",
       "      <td>0.0</td>\n",
       "      <td>0.0</td>\n",
       "      <td>0.0</td>\n",
       "      <td>0.0</td>\n",
       "      <td>0.0</td>\n",
       "      <td>...</td>\n",
       "      <td>0.0</td>\n",
       "      <td>0.0</td>\n",
       "      <td>0.0</td>\n",
       "      <td>0.0</td>\n",
       "      <td>0.0</td>\n",
       "      <td>0.0</td>\n",
       "      <td>0.0</td>\n",
       "      <td>0.0</td>\n",
       "      <td>0.0</td>\n",
       "      <td>0.0</td>\n",
       "    </tr>\n",
       "    <tr>\n",
       "      <th>3</th>\n",
       "      <td>0.0</td>\n",
       "      <td>0.0</td>\n",
       "      <td>0.0</td>\n",
       "      <td>0.0</td>\n",
       "      <td>0.0</td>\n",
       "      <td>0.0</td>\n",
       "      <td>0.0</td>\n",
       "      <td>0.0</td>\n",
       "      <td>0.0</td>\n",
       "      <td>0.0</td>\n",
       "      <td>...</td>\n",
       "      <td>0.0</td>\n",
       "      <td>0.0</td>\n",
       "      <td>0.0</td>\n",
       "      <td>0.0</td>\n",
       "      <td>0.0</td>\n",
       "      <td>0.0</td>\n",
       "      <td>0.0</td>\n",
       "      <td>0.0</td>\n",
       "      <td>0.0</td>\n",
       "      <td>0.0</td>\n",
       "    </tr>\n",
       "    <tr>\n",
       "      <th>4</th>\n",
       "      <td>0.0</td>\n",
       "      <td>0.0</td>\n",
       "      <td>0.0</td>\n",
       "      <td>0.0</td>\n",
       "      <td>0.0</td>\n",
       "      <td>0.0</td>\n",
       "      <td>0.0</td>\n",
       "      <td>0.0</td>\n",
       "      <td>0.0</td>\n",
       "      <td>0.0</td>\n",
       "      <td>...</td>\n",
       "      <td>0.0</td>\n",
       "      <td>0.0</td>\n",
       "      <td>0.0</td>\n",
       "      <td>0.0</td>\n",
       "      <td>0.0</td>\n",
       "      <td>0.0</td>\n",
       "      <td>0.0</td>\n",
       "      <td>0.0</td>\n",
       "      <td>0.0</td>\n",
       "      <td>0.0</td>\n",
       "    </tr>\n",
       "  </tbody>\n",
       "</table>\n",
       "<p>5 rows × 7483 columns</p>\n",
       "</div>"
      ],
      "text/plain": [
       "   008704050406  0089my  0121  01223585334  020603  0207  02070836089  \\\n",
       "0           0.0     0.0   0.0          0.0     0.0   0.0          0.0   \n",
       "1           0.0     0.0   0.0          0.0     0.0   0.0          0.0   \n",
       "2           0.0     0.0   0.0          0.0     0.0   0.0          0.0   \n",
       "3           0.0     0.0   0.0          0.0     0.0   0.0          0.0   \n",
       "4           0.0     0.0   0.0          0.0     0.0   0.0          0.0   \n",
       "\n",
       "   02085076972  020903  021  ...  yupz  ywhere  zac  zahers  zealand  zed  \\\n",
       "0          0.0     0.0  0.0  ...   0.0     0.0  0.0     0.0      0.0  0.0   \n",
       "1          0.0     0.0  0.0  ...   0.0     0.0  0.0     0.0      0.0  0.0   \n",
       "2          0.0     0.0  0.0  ...   0.0     0.0  0.0     0.0      0.0  0.0   \n",
       "3          0.0     0.0  0.0  ...   0.0     0.0  0.0     0.0      0.0  0.0   \n",
       "4          0.0     0.0  0.0  ...   0.0     0.0  0.0     0.0      0.0  0.0   \n",
       "\n",
       "   zoe  zogtorius  üll  〨ud  \n",
       "0  0.0        0.0  0.0  0.0  \n",
       "1  0.0        0.0  0.0  0.0  \n",
       "2  0.0        0.0  0.0  0.0  \n",
       "3  0.0        0.0  0.0  0.0  \n",
       "4  0.0        0.0  0.0  0.0  \n",
       "\n",
       "[5 rows x 7483 columns]"
      ]
     },
     "execution_count": 42,
     "metadata": {},
     "output_type": "execute_result"
    }
   ],
   "source": [
    "train_tfidf = pd.DataFrame(train_tfidf.toarray(), columns=bow_matrix.columns)\n",
    "train_tfidf.head()"
   ]
  },
  {
   "cell_type": "markdown",
   "id": "e0860503",
   "metadata": {},
   "source": [
    "Vom uni acest dataframe cu cel initial, insa vom adauga un sufix pentru ca atat 'Class' cat si 'Message' sunt cuvinte care apar in mesajele noastre si trebuiesc diferentiate."
   ]
  },
  {
   "cell_type": "code",
   "execution_count": 43,
   "id": "50ab3050",
   "metadata": {
    "ExecuteTime": {
     "end_time": "2021-05-25T16:55:46.856525Z",
     "start_time": "2021-05-25T16:55:46.153346Z"
    }
   },
   "outputs": [
    {
     "data": {
      "text/html": [
       "<div>\n",
       "<style scoped>\n",
       "    .dataframe tbody tr th:only-of-type {\n",
       "        vertical-align: middle;\n",
       "    }\n",
       "\n",
       "    .dataframe tbody tr th {\n",
       "        vertical-align: top;\n",
       "    }\n",
       "\n",
       "    .dataframe thead th {\n",
       "        text-align: right;\n",
       "    }\n",
       "</style>\n",
       "<table border=\"1\" class=\"dataframe\">\n",
       "  <thead>\n",
       "    <tr style=\"text-align: right;\">\n",
       "      <th></th>\n",
       "      <th>Class</th>\n",
       "      <th>Message</th>\n",
       "      <th>Length</th>\n",
       "      <th>008704050406</th>\n",
       "      <th>0089my</th>\n",
       "      <th>0121</th>\n",
       "      <th>01223585334</th>\n",
       "      <th>020603</th>\n",
       "      <th>0207</th>\n",
       "      <th>02070836089</th>\n",
       "      <th>...</th>\n",
       "      <th>yupz</th>\n",
       "      <th>ywhere</th>\n",
       "      <th>zac</th>\n",
       "      <th>zahers</th>\n",
       "      <th>zealand</th>\n",
       "      <th>zed</th>\n",
       "      <th>zoe</th>\n",
       "      <th>zogtorius</th>\n",
       "      <th>üll</th>\n",
       "      <th>〨ud</th>\n",
       "    </tr>\n",
       "  </thead>\n",
       "  <tbody>\n",
       "    <tr>\n",
       "      <th>0</th>\n",
       "      <td>spam</td>\n",
       "      <td>500 new mobiles 2004 must go txt nokia 89545 c...</td>\n",
       "      <td>142</td>\n",
       "      <td>0.0</td>\n",
       "      <td>0.0</td>\n",
       "      <td>0.0</td>\n",
       "      <td>0.0</td>\n",
       "      <td>0.0</td>\n",
       "      <td>0.0</td>\n",
       "      <td>0.0</td>\n",
       "      <td>...</td>\n",
       "      <td>0.0</td>\n",
       "      <td>0.0</td>\n",
       "      <td>0.0</td>\n",
       "      <td>0.0</td>\n",
       "      <td>0.0</td>\n",
       "      <td>0.0</td>\n",
       "      <td>0.0</td>\n",
       "      <td>0.0</td>\n",
       "      <td>0.0</td>\n",
       "      <td>0.0</td>\n",
       "    </tr>\n",
       "    <tr>\n",
       "      <th>1</th>\n",
       "      <td>ham</td>\n",
       "      <td>ok msg b4 leave house</td>\n",
       "      <td>31</td>\n",
       "      <td>0.0</td>\n",
       "      <td>0.0</td>\n",
       "      <td>0.0</td>\n",
       "      <td>0.0</td>\n",
       "      <td>0.0</td>\n",
       "      <td>0.0</td>\n",
       "      <td>0.0</td>\n",
       "      <td>...</td>\n",
       "      <td>0.0</td>\n",
       "      <td>0.0</td>\n",
       "      <td>0.0</td>\n",
       "      <td>0.0</td>\n",
       "      <td>0.0</td>\n",
       "      <td>0.0</td>\n",
       "      <td>0.0</td>\n",
       "      <td>0.0</td>\n",
       "      <td>0.0</td>\n",
       "      <td>0.0</td>\n",
       "    </tr>\n",
       "    <tr>\n",
       "      <th>2</th>\n",
       "      <td>ham</td>\n",
       "      <td>lets go bill millers</td>\n",
       "      <td>30</td>\n",
       "      <td>0.0</td>\n",
       "      <td>0.0</td>\n",
       "      <td>0.0</td>\n",
       "      <td>0.0</td>\n",
       "      <td>0.0</td>\n",
       "      <td>0.0</td>\n",
       "      <td>0.0</td>\n",
       "      <td>...</td>\n",
       "      <td>0.0</td>\n",
       "      <td>0.0</td>\n",
       "      <td>0.0</td>\n",
       "      <td>0.0</td>\n",
       "      <td>0.0</td>\n",
       "      <td>0.0</td>\n",
       "      <td>0.0</td>\n",
       "      <td>0.0</td>\n",
       "      <td>0.0</td>\n",
       "      <td>0.0</td>\n",
       "    </tr>\n",
       "    <tr>\n",
       "      <th>3</th>\n",
       "      <td>ham</td>\n",
       "      <td>dont want hear anything</td>\n",
       "      <td>28</td>\n",
       "      <td>0.0</td>\n",
       "      <td>0.0</td>\n",
       "      <td>0.0</td>\n",
       "      <td>0.0</td>\n",
       "      <td>0.0</td>\n",
       "      <td>0.0</td>\n",
       "      <td>0.0</td>\n",
       "      <td>...</td>\n",
       "      <td>0.0</td>\n",
       "      <td>0.0</td>\n",
       "      <td>0.0</td>\n",
       "      <td>0.0</td>\n",
       "      <td>0.0</td>\n",
       "      <td>0.0</td>\n",
       "      <td>0.0</td>\n",
       "      <td>0.0</td>\n",
       "      <td>0.0</td>\n",
       "      <td>0.0</td>\n",
       "    </tr>\n",
       "    <tr>\n",
       "      <th>4</th>\n",
       "      <td>ham</td>\n",
       "      <td>dont file bagi work called mei tell find anyth...</td>\n",
       "      <td>118</td>\n",
       "      <td>0.0</td>\n",
       "      <td>0.0</td>\n",
       "      <td>0.0</td>\n",
       "      <td>0.0</td>\n",
       "      <td>0.0</td>\n",
       "      <td>0.0</td>\n",
       "      <td>0.0</td>\n",
       "      <td>...</td>\n",
       "      <td>0.0</td>\n",
       "      <td>0.0</td>\n",
       "      <td>0.0</td>\n",
       "      <td>0.0</td>\n",
       "      <td>0.0</td>\n",
       "      <td>0.0</td>\n",
       "      <td>0.0</td>\n",
       "      <td>0.0</td>\n",
       "      <td>0.0</td>\n",
       "      <td>0.0</td>\n",
       "    </tr>\n",
       "    <tr>\n",
       "      <th>...</th>\n",
       "      <td>...</td>\n",
       "      <td>...</td>\n",
       "      <td>...</td>\n",
       "      <td>...</td>\n",
       "      <td>...</td>\n",
       "      <td>...</td>\n",
       "      <td>...</td>\n",
       "      <td>...</td>\n",
       "      <td>...</td>\n",
       "      <td>...</td>\n",
       "      <td>...</td>\n",
       "      <td>...</td>\n",
       "      <td>...</td>\n",
       "      <td>...</td>\n",
       "      <td>...</td>\n",
       "      <td>...</td>\n",
       "      <td>...</td>\n",
       "      <td>...</td>\n",
       "      <td>...</td>\n",
       "      <td>...</td>\n",
       "      <td>...</td>\n",
       "    </tr>\n",
       "    <tr>\n",
       "      <th>3728</th>\n",
       "      <td>ham</td>\n",
       "      <td>day class class</td>\n",
       "      <td>35</td>\n",
       "      <td>0.0</td>\n",
       "      <td>0.0</td>\n",
       "      <td>0.0</td>\n",
       "      <td>0.0</td>\n",
       "      <td>0.0</td>\n",
       "      <td>0.0</td>\n",
       "      <td>0.0</td>\n",
       "      <td>...</td>\n",
       "      <td>0.0</td>\n",
       "      <td>0.0</td>\n",
       "      <td>0.0</td>\n",
       "      <td>0.0</td>\n",
       "      <td>0.0</td>\n",
       "      <td>0.0</td>\n",
       "      <td>0.0</td>\n",
       "      <td>0.0</td>\n",
       "      <td>0.0</td>\n",
       "      <td>0.0</td>\n",
       "    </tr>\n",
       "    <tr>\n",
       "      <th>3729</th>\n",
       "      <td>ham</td>\n",
       "      <td>time thinkin goin</td>\n",
       "      <td>30</td>\n",
       "      <td>0.0</td>\n",
       "      <td>0.0</td>\n",
       "      <td>0.0</td>\n",
       "      <td>0.0</td>\n",
       "      <td>0.0</td>\n",
       "      <td>0.0</td>\n",
       "      <td>0.0</td>\n",
       "      <td>...</td>\n",
       "      <td>0.0</td>\n",
       "      <td>0.0</td>\n",
       "      <td>0.0</td>\n",
       "      <td>0.0</td>\n",
       "      <td>0.0</td>\n",
       "      <td>0.0</td>\n",
       "      <td>0.0</td>\n",
       "      <td>0.0</td>\n",
       "      <td>0.0</td>\n",
       "      <td>0.0</td>\n",
       "    </tr>\n",
       "    <tr>\n",
       "      <th>3730</th>\n",
       "      <td>ham</td>\n",
       "      <td>crazy ar hes married like gd looking guys fren...</td>\n",
       "      <td>159</td>\n",
       "      <td>0.0</td>\n",
       "      <td>0.0</td>\n",
       "      <td>0.0</td>\n",
       "      <td>0.0</td>\n",
       "      <td>0.0</td>\n",
       "      <td>0.0</td>\n",
       "      <td>0.0</td>\n",
       "      <td>...</td>\n",
       "      <td>0.0</td>\n",
       "      <td>0.0</td>\n",
       "      <td>0.0</td>\n",
       "      <td>0.0</td>\n",
       "      <td>0.0</td>\n",
       "      <td>0.0</td>\n",
       "      <td>0.0</td>\n",
       "      <td>0.0</td>\n",
       "      <td>0.0</td>\n",
       "      <td>0.0</td>\n",
       "    </tr>\n",
       "    <tr>\n",
       "      <th>3731</th>\n",
       "      <td>ham</td>\n",
       "      <td>finally came fix ceiling</td>\n",
       "      <td>37</td>\n",
       "      <td>0.0</td>\n",
       "      <td>0.0</td>\n",
       "      <td>0.0</td>\n",
       "      <td>0.0</td>\n",
       "      <td>0.0</td>\n",
       "      <td>0.0</td>\n",
       "      <td>0.0</td>\n",
       "      <td>...</td>\n",
       "      <td>0.0</td>\n",
       "      <td>0.0</td>\n",
       "      <td>0.0</td>\n",
       "      <td>0.0</td>\n",
       "      <td>0.0</td>\n",
       "      <td>0.0</td>\n",
       "      <td>0.0</td>\n",
       "      <td>0.0</td>\n",
       "      <td>0.0</td>\n",
       "      <td>0.0</td>\n",
       "    </tr>\n",
       "    <tr>\n",
       "      <th>3732</th>\n",
       "      <td>ham</td>\n",
       "      <td>happy new year</td>\n",
       "      <td>24</td>\n",
       "      <td>0.0</td>\n",
       "      <td>0.0</td>\n",
       "      <td>0.0</td>\n",
       "      <td>0.0</td>\n",
       "      <td>0.0</td>\n",
       "      <td>0.0</td>\n",
       "      <td>0.0</td>\n",
       "      <td>...</td>\n",
       "      <td>0.0</td>\n",
       "      <td>0.0</td>\n",
       "      <td>0.0</td>\n",
       "      <td>0.0</td>\n",
       "      <td>0.0</td>\n",
       "      <td>0.0</td>\n",
       "      <td>0.0</td>\n",
       "      <td>0.0</td>\n",
       "      <td>0.0</td>\n",
       "      <td>0.0</td>\n",
       "    </tr>\n",
       "  </tbody>\n",
       "</table>\n",
       "<p>3733 rows × 7486 columns</p>\n",
       "</div>"
      ],
      "text/plain": [
       "     Class                                            Message  Length  \\\n",
       "0     spam  500 new mobiles 2004 must go txt nokia 89545 c...     142   \n",
       "1      ham                              ok msg b4 leave house      31   \n",
       "2      ham                               lets go bill millers      30   \n",
       "3      ham                            dont want hear anything      28   \n",
       "4      ham  dont file bagi work called mei tell find anyth...     118   \n",
       "...    ...                                                ...     ...   \n",
       "3728   ham                                    day class class      35   \n",
       "3729   ham                                  time thinkin goin      30   \n",
       "3730   ham  crazy ar hes married like gd looking guys fren...     159   \n",
       "3731   ham                           finally came fix ceiling      37   \n",
       "3732   ham                                     happy new year      24   \n",
       "\n",
       "      008704050406  0089my  0121  01223585334  020603  0207  02070836089  ...  \\\n",
       "0              0.0     0.0   0.0          0.0     0.0   0.0          0.0  ...   \n",
       "1              0.0     0.0   0.0          0.0     0.0   0.0          0.0  ...   \n",
       "2              0.0     0.0   0.0          0.0     0.0   0.0          0.0  ...   \n",
       "3              0.0     0.0   0.0          0.0     0.0   0.0          0.0  ...   \n",
       "4              0.0     0.0   0.0          0.0     0.0   0.0          0.0  ...   \n",
       "...            ...     ...   ...          ...     ...   ...          ...  ...   \n",
       "3728           0.0     0.0   0.0          0.0     0.0   0.0          0.0  ...   \n",
       "3729           0.0     0.0   0.0          0.0     0.0   0.0          0.0  ...   \n",
       "3730           0.0     0.0   0.0          0.0     0.0   0.0          0.0  ...   \n",
       "3731           0.0     0.0   0.0          0.0     0.0   0.0          0.0  ...   \n",
       "3732           0.0     0.0   0.0          0.0     0.0   0.0          0.0  ...   \n",
       "\n",
       "      yupz  ywhere  zac  zahers  zealand  zed  zoe  zogtorius  üll  〨ud  \n",
       "0      0.0     0.0  0.0     0.0      0.0  0.0  0.0        0.0  0.0  0.0  \n",
       "1      0.0     0.0  0.0     0.0      0.0  0.0  0.0        0.0  0.0  0.0  \n",
       "2      0.0     0.0  0.0     0.0      0.0  0.0  0.0        0.0  0.0  0.0  \n",
       "3      0.0     0.0  0.0     0.0      0.0  0.0  0.0        0.0  0.0  0.0  \n",
       "4      0.0     0.0  0.0     0.0      0.0  0.0  0.0        0.0  0.0  0.0  \n",
       "...    ...     ...  ...     ...      ...  ...  ...        ...  ...  ...  \n",
       "3728   0.0     0.0  0.0     0.0      0.0  0.0  0.0        0.0  0.0  0.0  \n",
       "3729   0.0     0.0  0.0     0.0      0.0  0.0  0.0        0.0  0.0  0.0  \n",
       "3730   0.0     0.0  0.0     0.0      0.0  0.0  0.0        0.0  0.0  0.0  \n",
       "3731   0.0     0.0  0.0     0.0      0.0  0.0  0.0        0.0  0.0  0.0  \n",
       "3732   0.0     0.0  0.0     0.0      0.0  0.0  0.0        0.0  0.0  0.0  \n",
       "\n",
       "[3733 rows x 7486 columns]"
      ]
     },
     "execution_count": 43,
     "metadata": {},
     "output_type": "execute_result"
    }
   ],
   "source": [
    "cleaned_train = X_train.join(train_tfidf, rsuffix='_word', how='left')\n",
    "cleaned_train"
   ]
  },
  {
   "cell_type": "markdown",
   "id": "e9546904",
   "metadata": {},
   "source": [
    "Vom face vectorizarea si tfidf si pentru seturile de testare"
   ]
  },
  {
   "cell_type": "code",
   "execution_count": 44,
   "id": "1051a07f",
   "metadata": {
    "ExecuteTime": {
     "end_time": "2021-05-25T16:55:47.366742Z",
     "start_time": "2021-05-25T16:55:46.861228Z"
    }
   },
   "outputs": [
    {
     "data": {
      "text/html": [
       "<div>\n",
       "<style scoped>\n",
       "    .dataframe tbody tr th:only-of-type {\n",
       "        vertical-align: middle;\n",
       "    }\n",
       "\n",
       "    .dataframe tbody tr th {\n",
       "        vertical-align: top;\n",
       "    }\n",
       "\n",
       "    .dataframe thead th {\n",
       "        text-align: right;\n",
       "    }\n",
       "</style>\n",
       "<table border=\"1\" class=\"dataframe\">\n",
       "  <thead>\n",
       "    <tr style=\"text-align: right;\">\n",
       "      <th></th>\n",
       "      <th>Class</th>\n",
       "      <th>Message</th>\n",
       "      <th>Length</th>\n",
       "      <th>008704050406</th>\n",
       "      <th>0089my</th>\n",
       "      <th>0121</th>\n",
       "      <th>01223585334</th>\n",
       "      <th>020603</th>\n",
       "      <th>0207</th>\n",
       "      <th>02070836089</th>\n",
       "      <th>...</th>\n",
       "      <th>yupz</th>\n",
       "      <th>ywhere</th>\n",
       "      <th>zac</th>\n",
       "      <th>zahers</th>\n",
       "      <th>zealand</th>\n",
       "      <th>zed</th>\n",
       "      <th>zoe</th>\n",
       "      <th>zogtorius</th>\n",
       "      <th>üll</th>\n",
       "      <th>〨ud</th>\n",
       "    </tr>\n",
       "  </thead>\n",
       "  <tbody>\n",
       "    <tr>\n",
       "      <th>0</th>\n",
       "      <td>ham</td>\n",
       "      <td>wont move morphine</td>\n",
       "      <td>43</td>\n",
       "      <td>0.0</td>\n",
       "      <td>0.0</td>\n",
       "      <td>0.0</td>\n",
       "      <td>0.0</td>\n",
       "      <td>0.0</td>\n",
       "      <td>0.0</td>\n",
       "      <td>0.0</td>\n",
       "      <td>...</td>\n",
       "      <td>0.0</td>\n",
       "      <td>0.0</td>\n",
       "      <td>0.0</td>\n",
       "      <td>0.0</td>\n",
       "      <td>0.0</td>\n",
       "      <td>0.0</td>\n",
       "      <td>0.0</td>\n",
       "      <td>0.0</td>\n",
       "      <td>0.0</td>\n",
       "      <td>0.0</td>\n",
       "    </tr>\n",
       "    <tr>\n",
       "      <th>1</th>\n",
       "      <td>ham</td>\n",
       "      <td>hmmbad newshype park plaza 700 studio takenonl...</td>\n",
       "      <td>78</td>\n",
       "      <td>0.0</td>\n",
       "      <td>0.0</td>\n",
       "      <td>0.0</td>\n",
       "      <td>0.0</td>\n",
       "      <td>0.0</td>\n",
       "      <td>0.0</td>\n",
       "      <td>0.0</td>\n",
       "      <td>...</td>\n",
       "      <td>0.0</td>\n",
       "      <td>0.0</td>\n",
       "      <td>0.0</td>\n",
       "      <td>0.0</td>\n",
       "      <td>0.0</td>\n",
       "      <td>0.0</td>\n",
       "      <td>0.0</td>\n",
       "      <td>0.0</td>\n",
       "      <td>0.0</td>\n",
       "      <td>0.0</td>\n",
       "    </tr>\n",
       "    <tr>\n",
       "      <th>2</th>\n",
       "      <td>ham</td>\n",
       "      <td>derek done class</td>\n",
       "      <td>35</td>\n",
       "      <td>0.0</td>\n",
       "      <td>0.0</td>\n",
       "      <td>0.0</td>\n",
       "      <td>0.0</td>\n",
       "      <td>0.0</td>\n",
       "      <td>0.0</td>\n",
       "      <td>0.0</td>\n",
       "      <td>...</td>\n",
       "      <td>0.0</td>\n",
       "      <td>0.0</td>\n",
       "      <td>0.0</td>\n",
       "      <td>0.0</td>\n",
       "      <td>0.0</td>\n",
       "      <td>0.0</td>\n",
       "      <td>0.0</td>\n",
       "      <td>0.0</td>\n",
       "      <td>0.0</td>\n",
       "      <td>0.0</td>\n",
       "    </tr>\n",
       "    <tr>\n",
       "      <th>3</th>\n",
       "      <td>ham</td>\n",
       "      <td>hey happy birthday</td>\n",
       "      <td>21</td>\n",
       "      <td>0.0</td>\n",
       "      <td>0.0</td>\n",
       "      <td>0.0</td>\n",
       "      <td>0.0</td>\n",
       "      <td>0.0</td>\n",
       "      <td>0.0</td>\n",
       "      <td>0.0</td>\n",
       "      <td>...</td>\n",
       "      <td>0.0</td>\n",
       "      <td>0.0</td>\n",
       "      <td>0.0</td>\n",
       "      <td>0.0</td>\n",
       "      <td>0.0</td>\n",
       "      <td>0.0</td>\n",
       "      <td>0.0</td>\n",
       "      <td>0.0</td>\n",
       "      <td>0.0</td>\n",
       "      <td>0.0</td>\n",
       "    </tr>\n",
       "    <tr>\n",
       "      <th>4</th>\n",
       "      <td>ham</td>\n",
       "      <td>ill hand phone chat wit</td>\n",
       "      <td>36</td>\n",
       "      <td>0.0</td>\n",
       "      <td>0.0</td>\n",
       "      <td>0.0</td>\n",
       "      <td>0.0</td>\n",
       "      <td>0.0</td>\n",
       "      <td>0.0</td>\n",
       "      <td>0.0</td>\n",
       "      <td>...</td>\n",
       "      <td>0.0</td>\n",
       "      <td>0.0</td>\n",
       "      <td>0.0</td>\n",
       "      <td>0.0</td>\n",
       "      <td>0.0</td>\n",
       "      <td>0.0</td>\n",
       "      <td>0.0</td>\n",
       "      <td>0.0</td>\n",
       "      <td>0.0</td>\n",
       "      <td>0.0</td>\n",
       "    </tr>\n",
       "    <tr>\n",
       "      <th>...</th>\n",
       "      <td>...</td>\n",
       "      <td>...</td>\n",
       "      <td>...</td>\n",
       "      <td>...</td>\n",
       "      <td>...</td>\n",
       "      <td>...</td>\n",
       "      <td>...</td>\n",
       "      <td>...</td>\n",
       "      <td>...</td>\n",
       "      <td>...</td>\n",
       "      <td>...</td>\n",
       "      <td>...</td>\n",
       "      <td>...</td>\n",
       "      <td>...</td>\n",
       "      <td>...</td>\n",
       "      <td>...</td>\n",
       "      <td>...</td>\n",
       "      <td>...</td>\n",
       "      <td>...</td>\n",
       "      <td>...</td>\n",
       "      <td>...</td>\n",
       "    </tr>\n",
       "    <tr>\n",
       "      <th>1834</th>\n",
       "      <td>ham</td>\n",
       "      <td>nothing getting msgs dis name wit different nos</td>\n",
       "      <td>58</td>\n",
       "      <td>0.0</td>\n",
       "      <td>0.0</td>\n",
       "      <td>0.0</td>\n",
       "      <td>0.0</td>\n",
       "      <td>0.0</td>\n",
       "      <td>0.0</td>\n",
       "      <td>0.0</td>\n",
       "      <td>...</td>\n",
       "      <td>0.0</td>\n",
       "      <td>0.0</td>\n",
       "      <td>0.0</td>\n",
       "      <td>0.0</td>\n",
       "      <td>0.0</td>\n",
       "      <td>0.0</td>\n",
       "      <td>0.0</td>\n",
       "      <td>0.0</td>\n",
       "      <td>0.0</td>\n",
       "      <td>0.0</td>\n",
       "    </tr>\n",
       "    <tr>\n",
       "      <th>1835</th>\n",
       "      <td>ham</td>\n",
       "      <td>dont worry easy ingredients</td>\n",
       "      <td>45</td>\n",
       "      <td>0.0</td>\n",
       "      <td>0.0</td>\n",
       "      <td>0.0</td>\n",
       "      <td>0.0</td>\n",
       "      <td>0.0</td>\n",
       "      <td>0.0</td>\n",
       "      <td>0.0</td>\n",
       "      <td>...</td>\n",
       "      <td>0.0</td>\n",
       "      <td>0.0</td>\n",
       "      <td>0.0</td>\n",
       "      <td>0.0</td>\n",
       "      <td>0.0</td>\n",
       "      <td>0.0</td>\n",
       "      <td>0.0</td>\n",
       "      <td>0.0</td>\n",
       "      <td>0.0</td>\n",
       "      <td>0.0</td>\n",
       "    </tr>\n",
       "    <tr>\n",
       "      <th>1836</th>\n",
       "      <td>ham</td>\n",
       "      <td>got back dislikes bed</td>\n",
       "      <td>49</td>\n",
       "      <td>0.0</td>\n",
       "      <td>0.0</td>\n",
       "      <td>0.0</td>\n",
       "      <td>0.0</td>\n",
       "      <td>0.0</td>\n",
       "      <td>0.0</td>\n",
       "      <td>0.0</td>\n",
       "      <td>...</td>\n",
       "      <td>0.0</td>\n",
       "      <td>0.0</td>\n",
       "      <td>0.0</td>\n",
       "      <td>0.0</td>\n",
       "      <td>0.0</td>\n",
       "      <td>0.0</td>\n",
       "      <td>0.0</td>\n",
       "      <td>0.0</td>\n",
       "      <td>0.0</td>\n",
       "      <td>0.0</td>\n",
       "    </tr>\n",
       "    <tr>\n",
       "      <th>1837</th>\n",
       "      <td>ham</td>\n",
       "      <td>say fantastic chance anything need bigger life...</td>\n",
       "      <td>167</td>\n",
       "      <td>0.0</td>\n",
       "      <td>0.0</td>\n",
       "      <td>0.0</td>\n",
       "      <td>0.0</td>\n",
       "      <td>0.0</td>\n",
       "      <td>0.0</td>\n",
       "      <td>0.0</td>\n",
       "      <td>...</td>\n",
       "      <td>0.0</td>\n",
       "      <td>0.0</td>\n",
       "      <td>0.0</td>\n",
       "      <td>0.0</td>\n",
       "      <td>0.0</td>\n",
       "      <td>0.0</td>\n",
       "      <td>0.0</td>\n",
       "      <td>0.0</td>\n",
       "      <td>0.0</td>\n",
       "      <td>0.0</td>\n",
       "    </tr>\n",
       "    <tr>\n",
       "      <th>1838</th>\n",
       "      <td>ham</td>\n",
       "      <td>yes glad made</td>\n",
       "      <td>38</td>\n",
       "      <td>0.0</td>\n",
       "      <td>0.0</td>\n",
       "      <td>0.0</td>\n",
       "      <td>0.0</td>\n",
       "      <td>0.0</td>\n",
       "      <td>0.0</td>\n",
       "      <td>0.0</td>\n",
       "      <td>...</td>\n",
       "      <td>0.0</td>\n",
       "      <td>0.0</td>\n",
       "      <td>0.0</td>\n",
       "      <td>0.0</td>\n",
       "      <td>0.0</td>\n",
       "      <td>0.0</td>\n",
       "      <td>0.0</td>\n",
       "      <td>0.0</td>\n",
       "      <td>0.0</td>\n",
       "      <td>0.0</td>\n",
       "    </tr>\n",
       "  </tbody>\n",
       "</table>\n",
       "<p>1839 rows × 7486 columns</p>\n",
       "</div>"
      ],
      "text/plain": [
       "     Class                                            Message  Length  \\\n",
       "0      ham                                 wont move morphine      43   \n",
       "1      ham  hmmbad newshype park plaza 700 studio takenonl...      78   \n",
       "2      ham                                   derek done class      35   \n",
       "3      ham                                 hey happy birthday      21   \n",
       "4      ham                            ill hand phone chat wit      36   \n",
       "...    ...                                                ...     ...   \n",
       "1834   ham    nothing getting msgs dis name wit different nos      58   \n",
       "1835   ham                        dont worry easy ingredients      45   \n",
       "1836   ham                              got back dislikes bed      49   \n",
       "1837   ham  say fantastic chance anything need bigger life...     167   \n",
       "1838   ham                                      yes glad made      38   \n",
       "\n",
       "      008704050406  0089my  0121  01223585334  020603  0207  02070836089  ...  \\\n",
       "0              0.0     0.0   0.0          0.0     0.0   0.0          0.0  ...   \n",
       "1              0.0     0.0   0.0          0.0     0.0   0.0          0.0  ...   \n",
       "2              0.0     0.0   0.0          0.0     0.0   0.0          0.0  ...   \n",
       "3              0.0     0.0   0.0          0.0     0.0   0.0          0.0  ...   \n",
       "4              0.0     0.0   0.0          0.0     0.0   0.0          0.0  ...   \n",
       "...            ...     ...   ...          ...     ...   ...          ...  ...   \n",
       "1834           0.0     0.0   0.0          0.0     0.0   0.0          0.0  ...   \n",
       "1835           0.0     0.0   0.0          0.0     0.0   0.0          0.0  ...   \n",
       "1836           0.0     0.0   0.0          0.0     0.0   0.0          0.0  ...   \n",
       "1837           0.0     0.0   0.0          0.0     0.0   0.0          0.0  ...   \n",
       "1838           0.0     0.0   0.0          0.0     0.0   0.0          0.0  ...   \n",
       "\n",
       "      yupz  ywhere  zac  zahers  zealand  zed  zoe  zogtorius  üll  〨ud  \n",
       "0      0.0     0.0  0.0     0.0      0.0  0.0  0.0        0.0  0.0  0.0  \n",
       "1      0.0     0.0  0.0     0.0      0.0  0.0  0.0        0.0  0.0  0.0  \n",
       "2      0.0     0.0  0.0     0.0      0.0  0.0  0.0        0.0  0.0  0.0  \n",
       "3      0.0     0.0  0.0     0.0      0.0  0.0  0.0        0.0  0.0  0.0  \n",
       "4      0.0     0.0  0.0     0.0      0.0  0.0  0.0        0.0  0.0  0.0  \n",
       "...    ...     ...  ...     ...      ...  ...  ...        ...  ...  ...  \n",
       "1834   0.0     0.0  0.0     0.0      0.0  0.0  0.0        0.0  0.0  0.0  \n",
       "1835   0.0     0.0  0.0     0.0      0.0  0.0  0.0        0.0  0.0  0.0  \n",
       "1836   0.0     0.0  0.0     0.0      0.0  0.0  0.0        0.0  0.0  0.0  \n",
       "1837   0.0     0.0  0.0     0.0      0.0  0.0  0.0        0.0  0.0  0.0  \n",
       "1838   0.0     0.0  0.0     0.0      0.0  0.0  0.0        0.0  0.0  0.0  \n",
       "\n",
       "[1839 rows x 7486 columns]"
      ]
     },
     "execution_count": 44,
     "metadata": {},
     "output_type": "execute_result"
    }
   ],
   "source": [
    "test_count = vectorizer.transform(X_test['Message'])\n",
    "test_tfidf = tfTransformer.transform(test_count)\n",
    "test_tfidf = pd.DataFrame(test_tfidf.toarray(), columns = bow_matrix.columns)\n",
    "\n",
    "cleaned_test = X_test.join(test_tfidf, rsuffix='_word', how='left')\n",
    "cleaned_test"
   ]
  },
  {
   "cell_type": "markdown",
   "id": "1102fcd3",
   "metadata": {},
   "source": [
    "### Modele de regresie si de clasificare"
   ]
  },
  {
   "cell_type": "markdown",
   "id": "d93760a5",
   "metadata": {},
   "source": [
    "Vom crea un dataframe pentru a memora scorurile calculate"
   ]
  },
  {
   "cell_type": "code",
   "execution_count": 45,
   "id": "fe19c237",
   "metadata": {
    "ExecuteTime": {
     "end_time": "2021-05-25T16:55:47.394273Z",
     "start_time": "2021-05-25T16:55:47.367776Z"
    }
   },
   "outputs": [
    {
     "data": {
      "text/html": [
       "<div>\n",
       "<style scoped>\n",
       "    .dataframe tbody tr th:only-of-type {\n",
       "        vertical-align: middle;\n",
       "    }\n",
       "\n",
       "    .dataframe tbody tr th {\n",
       "        vertical-align: top;\n",
       "    }\n",
       "\n",
       "    .dataframe thead th {\n",
       "        text-align: right;\n",
       "    }\n",
       "</style>\n",
       "<table border=\"1\" class=\"dataframe\">\n",
       "  <thead>\n",
       "    <tr style=\"text-align: right;\">\n",
       "      <th></th>\n",
       "      <th>model</th>\n",
       "      <th>fit_time</th>\n",
       "      <th>score_time</th>\n",
       "      <th>test_accuracy</th>\n",
       "      <th>train_accuracy</th>\n",
       "      <th>test_f1</th>\n",
       "      <th>train_f1</th>\n",
       "    </tr>\n",
       "  </thead>\n",
       "  <tbody>\n",
       "  </tbody>\n",
       "</table>\n",
       "</div>"
      ],
      "text/plain": [
       "Empty DataFrame\n",
       "Columns: [model, fit_time, score_time, test_accuracy, train_accuracy, test_f1, train_f1]\n",
       "Index: []"
      ]
     },
     "execution_count": 45,
     "metadata": {},
     "output_type": "execute_result"
    }
   ],
   "source": [
    "column_names = ['model', 'fit_time', 'score_time', 'test_accuracy', 'train_accuracy', 'test_f1', 'train_f1']\n",
    "scores_df = pd.DataFrame(columns = column_names)\n",
    "\n",
    "scores_df.head()"
   ]
  },
  {
   "cell_type": "markdown",
   "id": "35dcb8f8",
   "metadata": {
    "ExecuteTime": {
     "end_time": "2021-05-25T15:55:53.596992Z",
     "start_time": "2021-05-25T15:55:53.555448Z"
    }
   },
   "source": [
    "Vom renunta la coloanele de tip text"
   ]
  },
  {
   "cell_type": "code",
   "execution_count": 46,
   "id": "015ae7f4",
   "metadata": {
    "ExecuteTime": {
     "end_time": "2021-05-25T16:55:47.601043Z",
     "start_time": "2021-05-25T16:55:47.398426Z"
    }
   },
   "outputs": [
    {
     "data": {
      "text/html": [
       "<div>\n",
       "<style scoped>\n",
       "    .dataframe tbody tr th:only-of-type {\n",
       "        vertical-align: middle;\n",
       "    }\n",
       "\n",
       "    .dataframe tbody tr th {\n",
       "        vertical-align: top;\n",
       "    }\n",
       "\n",
       "    .dataframe thead th {\n",
       "        text-align: right;\n",
       "    }\n",
       "</style>\n",
       "<table border=\"1\" class=\"dataframe\">\n",
       "  <thead>\n",
       "    <tr style=\"text-align: right;\">\n",
       "      <th></th>\n",
       "      <th>Length</th>\n",
       "      <th>008704050406</th>\n",
       "      <th>0089my</th>\n",
       "      <th>0121</th>\n",
       "      <th>01223585334</th>\n",
       "      <th>020603</th>\n",
       "      <th>0207</th>\n",
       "      <th>02070836089</th>\n",
       "      <th>02085076972</th>\n",
       "      <th>020903</th>\n",
       "      <th>...</th>\n",
       "      <th>yupz</th>\n",
       "      <th>ywhere</th>\n",
       "      <th>zac</th>\n",
       "      <th>zahers</th>\n",
       "      <th>zealand</th>\n",
       "      <th>zed</th>\n",
       "      <th>zoe</th>\n",
       "      <th>zogtorius</th>\n",
       "      <th>üll</th>\n",
       "      <th>〨ud</th>\n",
       "    </tr>\n",
       "  </thead>\n",
       "  <tbody>\n",
       "    <tr>\n",
       "      <th>0</th>\n",
       "      <td>142</td>\n",
       "      <td>0.0</td>\n",
       "      <td>0.0</td>\n",
       "      <td>0.0</td>\n",
       "      <td>0.0</td>\n",
       "      <td>0.0</td>\n",
       "      <td>0.0</td>\n",
       "      <td>0.0</td>\n",
       "      <td>0.0</td>\n",
       "      <td>0.0</td>\n",
       "      <td>...</td>\n",
       "      <td>0.0</td>\n",
       "      <td>0.0</td>\n",
       "      <td>0.0</td>\n",
       "      <td>0.0</td>\n",
       "      <td>0.0</td>\n",
       "      <td>0.0</td>\n",
       "      <td>0.0</td>\n",
       "      <td>0.0</td>\n",
       "      <td>0.0</td>\n",
       "      <td>0.0</td>\n",
       "    </tr>\n",
       "    <tr>\n",
       "      <th>1</th>\n",
       "      <td>31</td>\n",
       "      <td>0.0</td>\n",
       "      <td>0.0</td>\n",
       "      <td>0.0</td>\n",
       "      <td>0.0</td>\n",
       "      <td>0.0</td>\n",
       "      <td>0.0</td>\n",
       "      <td>0.0</td>\n",
       "      <td>0.0</td>\n",
       "      <td>0.0</td>\n",
       "      <td>...</td>\n",
       "      <td>0.0</td>\n",
       "      <td>0.0</td>\n",
       "      <td>0.0</td>\n",
       "      <td>0.0</td>\n",
       "      <td>0.0</td>\n",
       "      <td>0.0</td>\n",
       "      <td>0.0</td>\n",
       "      <td>0.0</td>\n",
       "      <td>0.0</td>\n",
       "      <td>0.0</td>\n",
       "    </tr>\n",
       "    <tr>\n",
       "      <th>2</th>\n",
       "      <td>30</td>\n",
       "      <td>0.0</td>\n",
       "      <td>0.0</td>\n",
       "      <td>0.0</td>\n",
       "      <td>0.0</td>\n",
       "      <td>0.0</td>\n",
       "      <td>0.0</td>\n",
       "      <td>0.0</td>\n",
       "      <td>0.0</td>\n",
       "      <td>0.0</td>\n",
       "      <td>...</td>\n",
       "      <td>0.0</td>\n",
       "      <td>0.0</td>\n",
       "      <td>0.0</td>\n",
       "      <td>0.0</td>\n",
       "      <td>0.0</td>\n",
       "      <td>0.0</td>\n",
       "      <td>0.0</td>\n",
       "      <td>0.0</td>\n",
       "      <td>0.0</td>\n",
       "      <td>0.0</td>\n",
       "    </tr>\n",
       "    <tr>\n",
       "      <th>3</th>\n",
       "      <td>28</td>\n",
       "      <td>0.0</td>\n",
       "      <td>0.0</td>\n",
       "      <td>0.0</td>\n",
       "      <td>0.0</td>\n",
       "      <td>0.0</td>\n",
       "      <td>0.0</td>\n",
       "      <td>0.0</td>\n",
       "      <td>0.0</td>\n",
       "      <td>0.0</td>\n",
       "      <td>...</td>\n",
       "      <td>0.0</td>\n",
       "      <td>0.0</td>\n",
       "      <td>0.0</td>\n",
       "      <td>0.0</td>\n",
       "      <td>0.0</td>\n",
       "      <td>0.0</td>\n",
       "      <td>0.0</td>\n",
       "      <td>0.0</td>\n",
       "      <td>0.0</td>\n",
       "      <td>0.0</td>\n",
       "    </tr>\n",
       "    <tr>\n",
       "      <th>4</th>\n",
       "      <td>118</td>\n",
       "      <td>0.0</td>\n",
       "      <td>0.0</td>\n",
       "      <td>0.0</td>\n",
       "      <td>0.0</td>\n",
       "      <td>0.0</td>\n",
       "      <td>0.0</td>\n",
       "      <td>0.0</td>\n",
       "      <td>0.0</td>\n",
       "      <td>0.0</td>\n",
       "      <td>...</td>\n",
       "      <td>0.0</td>\n",
       "      <td>0.0</td>\n",
       "      <td>0.0</td>\n",
       "      <td>0.0</td>\n",
       "      <td>0.0</td>\n",
       "      <td>0.0</td>\n",
       "      <td>0.0</td>\n",
       "      <td>0.0</td>\n",
       "      <td>0.0</td>\n",
       "      <td>0.0</td>\n",
       "    </tr>\n",
       "    <tr>\n",
       "      <th>...</th>\n",
       "      <td>...</td>\n",
       "      <td>...</td>\n",
       "      <td>...</td>\n",
       "      <td>...</td>\n",
       "      <td>...</td>\n",
       "      <td>...</td>\n",
       "      <td>...</td>\n",
       "      <td>...</td>\n",
       "      <td>...</td>\n",
       "      <td>...</td>\n",
       "      <td>...</td>\n",
       "      <td>...</td>\n",
       "      <td>...</td>\n",
       "      <td>...</td>\n",
       "      <td>...</td>\n",
       "      <td>...</td>\n",
       "      <td>...</td>\n",
       "      <td>...</td>\n",
       "      <td>...</td>\n",
       "      <td>...</td>\n",
       "      <td>...</td>\n",
       "    </tr>\n",
       "    <tr>\n",
       "      <th>3728</th>\n",
       "      <td>35</td>\n",
       "      <td>0.0</td>\n",
       "      <td>0.0</td>\n",
       "      <td>0.0</td>\n",
       "      <td>0.0</td>\n",
       "      <td>0.0</td>\n",
       "      <td>0.0</td>\n",
       "      <td>0.0</td>\n",
       "      <td>0.0</td>\n",
       "      <td>0.0</td>\n",
       "      <td>...</td>\n",
       "      <td>0.0</td>\n",
       "      <td>0.0</td>\n",
       "      <td>0.0</td>\n",
       "      <td>0.0</td>\n",
       "      <td>0.0</td>\n",
       "      <td>0.0</td>\n",
       "      <td>0.0</td>\n",
       "      <td>0.0</td>\n",
       "      <td>0.0</td>\n",
       "      <td>0.0</td>\n",
       "    </tr>\n",
       "    <tr>\n",
       "      <th>3729</th>\n",
       "      <td>30</td>\n",
       "      <td>0.0</td>\n",
       "      <td>0.0</td>\n",
       "      <td>0.0</td>\n",
       "      <td>0.0</td>\n",
       "      <td>0.0</td>\n",
       "      <td>0.0</td>\n",
       "      <td>0.0</td>\n",
       "      <td>0.0</td>\n",
       "      <td>0.0</td>\n",
       "      <td>...</td>\n",
       "      <td>0.0</td>\n",
       "      <td>0.0</td>\n",
       "      <td>0.0</td>\n",
       "      <td>0.0</td>\n",
       "      <td>0.0</td>\n",
       "      <td>0.0</td>\n",
       "      <td>0.0</td>\n",
       "      <td>0.0</td>\n",
       "      <td>0.0</td>\n",
       "      <td>0.0</td>\n",
       "    </tr>\n",
       "    <tr>\n",
       "      <th>3730</th>\n",
       "      <td>159</td>\n",
       "      <td>0.0</td>\n",
       "      <td>0.0</td>\n",
       "      <td>0.0</td>\n",
       "      <td>0.0</td>\n",
       "      <td>0.0</td>\n",
       "      <td>0.0</td>\n",
       "      <td>0.0</td>\n",
       "      <td>0.0</td>\n",
       "      <td>0.0</td>\n",
       "      <td>...</td>\n",
       "      <td>0.0</td>\n",
       "      <td>0.0</td>\n",
       "      <td>0.0</td>\n",
       "      <td>0.0</td>\n",
       "      <td>0.0</td>\n",
       "      <td>0.0</td>\n",
       "      <td>0.0</td>\n",
       "      <td>0.0</td>\n",
       "      <td>0.0</td>\n",
       "      <td>0.0</td>\n",
       "    </tr>\n",
       "    <tr>\n",
       "      <th>3731</th>\n",
       "      <td>37</td>\n",
       "      <td>0.0</td>\n",
       "      <td>0.0</td>\n",
       "      <td>0.0</td>\n",
       "      <td>0.0</td>\n",
       "      <td>0.0</td>\n",
       "      <td>0.0</td>\n",
       "      <td>0.0</td>\n",
       "      <td>0.0</td>\n",
       "      <td>0.0</td>\n",
       "      <td>...</td>\n",
       "      <td>0.0</td>\n",
       "      <td>0.0</td>\n",
       "      <td>0.0</td>\n",
       "      <td>0.0</td>\n",
       "      <td>0.0</td>\n",
       "      <td>0.0</td>\n",
       "      <td>0.0</td>\n",
       "      <td>0.0</td>\n",
       "      <td>0.0</td>\n",
       "      <td>0.0</td>\n",
       "    </tr>\n",
       "    <tr>\n",
       "      <th>3732</th>\n",
       "      <td>24</td>\n",
       "      <td>0.0</td>\n",
       "      <td>0.0</td>\n",
       "      <td>0.0</td>\n",
       "      <td>0.0</td>\n",
       "      <td>0.0</td>\n",
       "      <td>0.0</td>\n",
       "      <td>0.0</td>\n",
       "      <td>0.0</td>\n",
       "      <td>0.0</td>\n",
       "      <td>...</td>\n",
       "      <td>0.0</td>\n",
       "      <td>0.0</td>\n",
       "      <td>0.0</td>\n",
       "      <td>0.0</td>\n",
       "      <td>0.0</td>\n",
       "      <td>0.0</td>\n",
       "      <td>0.0</td>\n",
       "      <td>0.0</td>\n",
       "      <td>0.0</td>\n",
       "      <td>0.0</td>\n",
       "    </tr>\n",
       "  </tbody>\n",
       "</table>\n",
       "<p>3733 rows × 7484 columns</p>\n",
       "</div>"
      ],
      "text/plain": [
       "      Length  008704050406  0089my  0121  01223585334  020603  0207  \\\n",
       "0        142           0.0     0.0   0.0          0.0     0.0   0.0   \n",
       "1         31           0.0     0.0   0.0          0.0     0.0   0.0   \n",
       "2         30           0.0     0.0   0.0          0.0     0.0   0.0   \n",
       "3         28           0.0     0.0   0.0          0.0     0.0   0.0   \n",
       "4        118           0.0     0.0   0.0          0.0     0.0   0.0   \n",
       "...      ...           ...     ...   ...          ...     ...   ...   \n",
       "3728      35           0.0     0.0   0.0          0.0     0.0   0.0   \n",
       "3729      30           0.0     0.0   0.0          0.0     0.0   0.0   \n",
       "3730     159           0.0     0.0   0.0          0.0     0.0   0.0   \n",
       "3731      37           0.0     0.0   0.0          0.0     0.0   0.0   \n",
       "3732      24           0.0     0.0   0.0          0.0     0.0   0.0   \n",
       "\n",
       "      02070836089  02085076972  020903  ...  yupz  ywhere  zac  zahers  \\\n",
       "0             0.0          0.0     0.0  ...   0.0     0.0  0.0     0.0   \n",
       "1             0.0          0.0     0.0  ...   0.0     0.0  0.0     0.0   \n",
       "2             0.0          0.0     0.0  ...   0.0     0.0  0.0     0.0   \n",
       "3             0.0          0.0     0.0  ...   0.0     0.0  0.0     0.0   \n",
       "4             0.0          0.0     0.0  ...   0.0     0.0  0.0     0.0   \n",
       "...           ...          ...     ...  ...   ...     ...  ...     ...   \n",
       "3728          0.0          0.0     0.0  ...   0.0     0.0  0.0     0.0   \n",
       "3729          0.0          0.0     0.0  ...   0.0     0.0  0.0     0.0   \n",
       "3730          0.0          0.0     0.0  ...   0.0     0.0  0.0     0.0   \n",
       "3731          0.0          0.0     0.0  ...   0.0     0.0  0.0     0.0   \n",
       "3732          0.0          0.0     0.0  ...   0.0     0.0  0.0     0.0   \n",
       "\n",
       "      zealand  zed  zoe  zogtorius  üll  〨ud  \n",
       "0         0.0  0.0  0.0        0.0  0.0  0.0  \n",
       "1         0.0  0.0  0.0        0.0  0.0  0.0  \n",
       "2         0.0  0.0  0.0        0.0  0.0  0.0  \n",
       "3         0.0  0.0  0.0        0.0  0.0  0.0  \n",
       "4         0.0  0.0  0.0        0.0  0.0  0.0  \n",
       "...       ...  ...  ...        ...  ...  ...  \n",
       "3728      0.0  0.0  0.0        0.0  0.0  0.0  \n",
       "3729      0.0  0.0  0.0        0.0  0.0  0.0  \n",
       "3730      0.0  0.0  0.0        0.0  0.0  0.0  \n",
       "3731      0.0  0.0  0.0        0.0  0.0  0.0  \n",
       "3732      0.0  0.0  0.0        0.0  0.0  0.0  \n",
       "\n",
       "[3733 rows x 7484 columns]"
      ]
     },
     "execution_count": 46,
     "metadata": {},
     "output_type": "execute_result"
    }
   ],
   "source": [
    "cleaned_train = cleaned_train.drop(columns = ['Class', 'Message'])\n",
    "cleaned_train"
   ]
  },
  {
   "cell_type": "markdown",
   "id": "1dff1ad5",
   "metadata": {
    "ExecuteTime": {
     "end_time": "2021-05-25T16:23:31.371914Z",
     "start_time": "2021-05-25T16:23:31.361836Z"
    }
   },
   "source": [
    "#### LogisticRegression"
   ]
  },
  {
   "cell_type": "code",
   "execution_count": 47,
   "id": "e8203558",
   "metadata": {
    "ExecuteTime": {
     "end_time": "2021-05-25T16:55:47.613449Z",
     "start_time": "2021-05-25T16:55:47.605739Z"
    }
   },
   "outputs": [],
   "source": [
    "from sklearn.linear_model import LogisticRegression\n",
    "from sklearn.model_selection import cross_validate, GridSearchCV, RandomizedSearchCV"
   ]
  },
  {
   "cell_type": "markdown",
   "id": "e44a9080",
   "metadata": {
    "ExecuteTime": {
     "end_time": "2021-05-25T16:24:17.925430Z",
     "start_time": "2021-05-25T16:24:17.907478Z"
    }
   },
   "source": [
    "Cautarea valorilor optime ale hiperparametrilor folosind RandomizedSearchCV"
   ]
  },
  {
   "cell_type": "code",
   "execution_count": 48,
   "id": "06309f31",
   "metadata": {
    "ExecuteTime": {
     "end_time": "2021-05-25T16:56:55.637550Z",
     "start_time": "2021-05-25T16:55:47.618532Z"
    }
   },
   "outputs": [
    {
     "name": "stdout",
     "output_type": "stream",
     "text": [
      "{'penalty': 'l1', 'C': 10000.0}\n"
     ]
    }
   ],
   "source": [
    "regression = LogisticRegression(solver='liblinear', max_iter=1000)\n",
    "parameter_grid = {'penalty': ['l1', 'l2'], 'C': np.logspace(-4, 4, 20)}\n",
    "random_search = RandomizedSearchCV(estimator=regression, param_distributions=parameter_grid, cv=5, scoring='neg_mean_squared_error')\n",
    "random_search.fit(cleaned_train, y_train)\n",
    "best_parameters = random_search.best_params_\n",
    "\n",
    "print(best_parameters)"
   ]
  },
  {
   "cell_type": "code",
   "execution_count": 49,
   "id": "5c46c12c",
   "metadata": {
    "ExecuteTime": {
     "end_time": "2021-05-25T16:57:03.923445Z",
     "start_time": "2021-05-25T16:56:55.641500Z"
    }
   },
   "outputs": [
    {
     "data": {
      "text/html": [
       "<div>\n",
       "<style scoped>\n",
       "    .dataframe tbody tr th:only-of-type {\n",
       "        vertical-align: middle;\n",
       "    }\n",
       "\n",
       "    .dataframe tbody tr th {\n",
       "        vertical-align: top;\n",
       "    }\n",
       "\n",
       "    .dataframe thead th {\n",
       "        text-align: right;\n",
       "    }\n",
       "</style>\n",
       "<table border=\"1\" class=\"dataframe\">\n",
       "  <thead>\n",
       "    <tr style=\"text-align: right;\">\n",
       "      <th></th>\n",
       "      <th>model</th>\n",
       "      <th>fit_time</th>\n",
       "      <th>score_time</th>\n",
       "      <th>test_accuracy</th>\n",
       "      <th>train_accuracy</th>\n",
       "      <th>test_f1</th>\n",
       "      <th>train_f1</th>\n",
       "    </tr>\n",
       "  </thead>\n",
       "  <tbody>\n",
       "    <tr>\n",
       "      <th>0</th>\n",
       "      <td>LogisticRegression</td>\n",
       "      <td>1.150885</td>\n",
       "      <td>0.169517</td>\n",
       "      <td>0.977499</td>\n",
       "      <td>1.0</td>\n",
       "      <td>0.91067</td>\n",
       "      <td>1.0</td>\n",
       "    </tr>\n",
       "  </tbody>\n",
       "</table>\n",
       "</div>"
      ],
      "text/plain": [
       "                model  fit_time score_time test_accuracy train_accuracy  \\\n",
       "0  LogisticRegression  1.150885   0.169517      0.977499            1.0   \n",
       "\n",
       "   test_f1 train_f1  \n",
       "0  0.91067      1.0  "
      ]
     },
     "execution_count": 49,
     "metadata": {},
     "output_type": "execute_result"
    }
   ],
   "source": [
    "tunned_regression = LogisticRegression(**best_parameters, solver='liblinear', max_iter=1000)\n",
    "\n",
    "grid_scores = cross_validate(tunned_regression, cleaned_train, y_train, cv=5, scoring=['accuracy', 'f1'], return_train_score=True)\n",
    "\n",
    "scores = ['LogisticRegression', grid_scores['fit_time'].mean(), grid_scores['score_time'].mean(), grid_scores['test_accuracy'].mean(),\n",
    "         grid_scores['train_accuracy'].mean(), grid_scores['test_f1'].mean(), grid_scores['train_f1'].mean()]\n",
    "\n",
    "for i in range(len(column_names)):\n",
    "    scores_df.loc[0, column_names[i]] = scores[i]\n",
    "\n",
    "scores_df.head()"
   ]
  },
  {
   "cell_type": "markdown",
   "id": "59a733a2",
   "metadata": {
    "ExecuteTime": {
     "end_time": "2021-05-25T16:22:08.830708Z",
     "start_time": "2021-05-25T16:22:08.809641Z"
    }
   },
   "source": [
    "#### DecisionTreeClassifier"
   ]
  },
  {
   "cell_type": "code",
   "execution_count": 50,
   "id": "fca03133",
   "metadata": {
    "ExecuteTime": {
     "end_time": "2021-05-25T16:57:04.071662Z",
     "start_time": "2021-05-25T16:57:03.925880Z"
    }
   },
   "outputs": [],
   "source": [
    "from sklearn.tree import DecisionTreeClassifier"
   ]
  },
  {
   "cell_type": "markdown",
   "id": "c8403cf7",
   "metadata": {},
   "source": [
    "Cautarea valorilor optime ale hiperparametrilor folosind RandomizedSearchCV"
   ]
  },
  {
   "cell_type": "code",
   "execution_count": 51,
   "id": "e1c46bc3",
   "metadata": {
    "ExecuteTime": {
     "end_time": "2021-05-25T16:57:41.146338Z",
     "start_time": "2021-05-25T16:57:04.077744Z"
    }
   },
   "outputs": [
    {
     "name": "stdout",
     "output_type": "stream",
     "text": [
      "{'min_samples_leaf': 1, 'max_features': 2, 'max_depth': 3, 'criterion': 'entropy'}\n"
     ]
    }
   ],
   "source": [
    "classifier = DecisionTreeClassifier()\n",
    "parameter_grid = {'max_depth':[3, None], 'max_features':[1, 2, 4, 5, 7], 'min_samples_leaf':[1, 2, 3, 4, 5, 6], 'criterion':['gini', 'entropy']}\n",
    "    \n",
    "random_search = RandomizedSearchCV(estimator=classifier, param_distributions=parameter_grid, cv=5, scoring='accuracy')\n",
    "random_search.fit(cleaned_train, y_train)\n",
    "best_parameters = random_search.best_params_\n",
    "\n",
    "print(best_parameters)"
   ]
  },
  {
   "cell_type": "code",
   "execution_count": 52,
   "id": "fb7a311c",
   "metadata": {
    "ExecuteTime": {
     "end_time": "2021-05-25T16:57:46.438576Z",
     "start_time": "2021-05-25T16:57:41.150508Z"
    }
   },
   "outputs": [
    {
     "data": {
      "text/html": [
       "<div>\n",
       "<style scoped>\n",
       "    .dataframe tbody tr th:only-of-type {\n",
       "        vertical-align: middle;\n",
       "    }\n",
       "\n",
       "    .dataframe tbody tr th {\n",
       "        vertical-align: top;\n",
       "    }\n",
       "\n",
       "    .dataframe thead th {\n",
       "        text-align: right;\n",
       "    }\n",
       "</style>\n",
       "<table border=\"1\" class=\"dataframe\">\n",
       "  <thead>\n",
       "    <tr style=\"text-align: right;\">\n",
       "      <th></th>\n",
       "      <th>model</th>\n",
       "      <th>fit_time</th>\n",
       "      <th>score_time</th>\n",
       "      <th>test_accuracy</th>\n",
       "      <th>train_accuracy</th>\n",
       "      <th>test_f1</th>\n",
       "      <th>train_f1</th>\n",
       "    </tr>\n",
       "  </thead>\n",
       "  <tbody>\n",
       "    <tr>\n",
       "      <th>0</th>\n",
       "      <td>LogisticRegression</td>\n",
       "      <td>1.150885</td>\n",
       "      <td>0.169517</td>\n",
       "      <td>0.977499</td>\n",
       "      <td>1.0</td>\n",
       "      <td>0.91067</td>\n",
       "      <td>1.0</td>\n",
       "    </tr>\n",
       "    <tr>\n",
       "      <th>1</th>\n",
       "      <td>DecisionTreeClassifier</td>\n",
       "      <td>0.530746</td>\n",
       "      <td>0.172754</td>\n",
       "      <td>0.865524</td>\n",
       "      <td>0.867198</td>\n",
       "      <td>0.00396</td>\n",
       "      <td>0.027431</td>\n",
       "    </tr>\n",
       "  </tbody>\n",
       "</table>\n",
       "</div>"
      ],
      "text/plain": [
       "                    model  fit_time score_time test_accuracy train_accuracy  \\\n",
       "0      LogisticRegression  1.150885   0.169517      0.977499            1.0   \n",
       "1  DecisionTreeClassifier  0.530746   0.172754      0.865524       0.867198   \n",
       "\n",
       "   test_f1  train_f1  \n",
       "0  0.91067       1.0  \n",
       "1  0.00396  0.027431  "
      ]
     },
     "execution_count": 52,
     "metadata": {},
     "output_type": "execute_result"
    }
   ],
   "source": [
    "tunned_classifier = DecisionTreeClassifier(**best_parameters)\n",
    "\n",
    "grid_scores = cross_validate(tunned_classifier, cleaned_train, y_train, cv=5, scoring=['accuracy', 'f1'], return_train_score=True)\n",
    "\n",
    "scores = ['DecisionTreeClassifier', grid_scores['fit_time'].mean(), grid_scores['score_time'].mean(), grid_scores['test_accuracy'].mean(),\n",
    "         grid_scores['train_accuracy'].mean(), grid_scores['test_f1'].mean(), grid_scores['train_f1'].mean()]\n",
    "\n",
    "for i in range(len(column_names)):\n",
    "    scores_df.loc[1, column_names[i]] = scores[i]\n",
    "\n",
    "scores_df.head()"
   ]
  },
  {
   "cell_type": "markdown",
   "id": "ae2c6b62",
   "metadata": {},
   "source": [
    "#### KNeighborsClassifier"
   ]
  },
  {
   "cell_type": "code",
   "execution_count": 55,
   "id": "4d4387e2",
   "metadata": {
    "ExecuteTime": {
     "end_time": "2021-05-25T17:00:32.421802Z",
     "start_time": "2021-05-25T17:00:32.409126Z"
    }
   },
   "outputs": [],
   "source": [
    "from sklearn.neighbors import KNeighborsClassifier"
   ]
  },
  {
   "cell_type": "code",
   "execution_count": 56,
   "id": "05ecb56a",
   "metadata": {
    "ExecuteTime": {
     "end_time": "2021-05-25T17:03:53.218308Z",
     "start_time": "2021-05-25T17:00:33.507145Z"
    }
   },
   "outputs": [
    {
     "name": "stdout",
     "output_type": "stream",
     "text": [
      "{'p': 2, 'n_neighbors': 3}\n"
     ]
    }
   ],
   "source": [
    "classifier = KNeighborsClassifier()\n",
    "parameter_grid = {'n_neighbors': list(range(1,10)), 'p': [1, 2]}\n",
    "\n",
    "random_search = RandomizedSearchCV(estimator=classifier, param_distributions=parameter_grid, cv=5, scoring='accuracy', n_jobs=-1)\n",
    "random_search.fit(cleaned_train, y_train)\n",
    "best_parameters = random_search.best_params_\n",
    "\n",
    "print(best_parameters)"
   ]
  },
  {
   "cell_type": "code",
   "execution_count": 57,
   "id": "39ca651e",
   "metadata": {
    "ExecuteTime": {
     "end_time": "2021-05-25T17:04:03.131386Z",
     "start_time": "2021-05-25T17:03:56.818017Z"
    }
   },
   "outputs": [
    {
     "data": {
      "text/html": [
       "<div>\n",
       "<style scoped>\n",
       "    .dataframe tbody tr th:only-of-type {\n",
       "        vertical-align: middle;\n",
       "    }\n",
       "\n",
       "    .dataframe tbody tr th {\n",
       "        vertical-align: top;\n",
       "    }\n",
       "\n",
       "    .dataframe thead th {\n",
       "        text-align: right;\n",
       "    }\n",
       "</style>\n",
       "<table border=\"1\" class=\"dataframe\">\n",
       "  <thead>\n",
       "    <tr style=\"text-align: right;\">\n",
       "      <th></th>\n",
       "      <th>model</th>\n",
       "      <th>fit_time</th>\n",
       "      <th>score_time</th>\n",
       "      <th>test_accuracy</th>\n",
       "      <th>train_accuracy</th>\n",
       "      <th>test_f1</th>\n",
       "      <th>train_f1</th>\n",
       "    </tr>\n",
       "  </thead>\n",
       "  <tbody>\n",
       "    <tr>\n",
       "      <th>0</th>\n",
       "      <td>LogisticRegression</td>\n",
       "      <td>1.150885</td>\n",
       "      <td>0.169517</td>\n",
       "      <td>0.977499</td>\n",
       "      <td>1.0</td>\n",
       "      <td>0.91067</td>\n",
       "      <td>1.0</td>\n",
       "    </tr>\n",
       "    <tr>\n",
       "      <th>1</th>\n",
       "      <td>DecisionTreeClassifier</td>\n",
       "      <td>0.530746</td>\n",
       "      <td>0.172754</td>\n",
       "      <td>0.865524</td>\n",
       "      <td>0.867198</td>\n",
       "      <td>0.00396</td>\n",
       "      <td>0.027431</td>\n",
       "    </tr>\n",
       "    <tr>\n",
       "      <th>2</th>\n",
       "      <td>KNeighborsClassifier</td>\n",
       "      <td>0.620498</td>\n",
       "      <td>0.210114</td>\n",
       "      <td>0.866327</td>\n",
       "      <td>0.866796</td>\n",
       "      <td>0.011765</td>\n",
       "      <td>0.01855</td>\n",
       "    </tr>\n",
       "  </tbody>\n",
       "</table>\n",
       "</div>"
      ],
      "text/plain": [
       "                    model  fit_time score_time test_accuracy train_accuracy  \\\n",
       "0      LogisticRegression  1.150885   0.169517      0.977499            1.0   \n",
       "1  DecisionTreeClassifier  0.530746   0.172754      0.865524       0.867198   \n",
       "2    KNeighborsClassifier  0.620498   0.210114      0.866327       0.866796   \n",
       "\n",
       "    test_f1  train_f1  \n",
       "0   0.91067       1.0  \n",
       "1   0.00396  0.027431  \n",
       "2  0.011765   0.01855  "
      ]
     },
     "execution_count": 57,
     "metadata": {},
     "output_type": "execute_result"
    }
   ],
   "source": [
    "tunned_classifer = KNeighborsClassifier(**best_parameters)\n",
    "\n",
    "grid_scores = cross_validate(tunned_classifier, cleaned_train, y_train, cv=5, scoring=['accuracy', 'f1'], return_train_score=True)\n",
    "\n",
    "scores = ['KNeighborsClassifier', grid_scores['fit_time'].mean(), grid_scores['score_time'].mean(), grid_scores['test_accuracy'].mean(),\n",
    "         grid_scores['train_accuracy'].mean(), grid_scores['test_f1'].mean(), grid_scores['train_f1'].mean()]\n",
    "\n",
    "for i in range(len(column_names)):\n",
    "    scores_df.loc[2, column_names[i]] = scores[i]\n",
    "\n",
    "scores_df.head()"
   ]
  },
  {
   "cell_type": "markdown",
   "id": "a8367f89",
   "metadata": {},
   "source": [
    "#### MLP Classifier"
   ]
  },
  {
   "cell_type": "code",
   "execution_count": 58,
   "id": "f359b5f9",
   "metadata": {
    "ExecuteTime": {
     "end_time": "2021-05-25T17:04:08.283701Z",
     "start_time": "2021-05-25T17:04:08.256384Z"
    }
   },
   "outputs": [],
   "source": [
    "from sklearn.neural_network import MLPClassifier"
   ]
  },
  {
   "cell_type": "code",
   "execution_count": 59,
   "id": "51686c39",
   "metadata": {
    "ExecuteTime": {
     "end_time": "2021-05-25T17:20:44.237121Z",
     "start_time": "2021-05-25T17:05:58.384404Z"
    }
   },
   "outputs": [
    {
     "name": "stdout",
     "output_type": "stream",
     "text": [
      "{'solver': 'adam', 'learning_rate': 'constant', 'hidden_layer_sizes': (50, 100, 50), 'alpha': 0.0001, 'activation': 'tanh'}\n"
     ]
    }
   ],
   "source": [
    "classifier = MLPClassifier(max_iter=100)\n",
    "parameter_grid = {'hidden_layer_sizes': [(50,50,50), (50, 100, 50), (100,)], 'activation': ['tanh', 'relu'], 'solver': ['sgd', 'adam'],\n",
    "                 'alpha': [0.0001, 0.05], 'learning_rate': ['constant', 'adaptive']}\n",
    "\n",
    "random_search = RandomizedSearchCV(estimator=classifier, param_distributions=parameter_grid, cv=5, scoring='accuracy', n_jobs=-1)\n",
    "random_search.fit(cleaned_train, y_train)\n",
    "best_parameters = random_search.best_params_\n",
    "\n",
    "print(best_parameters)"
   ]
  },
  {
   "cell_type": "code",
   "execution_count": 61,
   "id": "e4e5164b",
   "metadata": {
    "ExecuteTime": {
     "end_time": "2021-05-25T17:21:02.036328Z",
     "start_time": "2021-05-25T17:21:00.061880Z"
    }
   },
   "outputs": [
    {
     "data": {
      "text/html": [
       "<div>\n",
       "<style scoped>\n",
       "    .dataframe tbody tr th:only-of-type {\n",
       "        vertical-align: middle;\n",
       "    }\n",
       "\n",
       "    .dataframe tbody tr th {\n",
       "        vertical-align: top;\n",
       "    }\n",
       "\n",
       "    .dataframe thead th {\n",
       "        text-align: right;\n",
       "    }\n",
       "</style>\n",
       "<table border=\"1\" class=\"dataframe\">\n",
       "  <thead>\n",
       "    <tr style=\"text-align: right;\">\n",
       "      <th></th>\n",
       "      <th>model</th>\n",
       "      <th>fit_time</th>\n",
       "      <th>score_time</th>\n",
       "      <th>test_accuracy</th>\n",
       "      <th>train_accuracy</th>\n",
       "      <th>test_f1</th>\n",
       "      <th>train_f1</th>\n",
       "    </tr>\n",
       "  </thead>\n",
       "  <tbody>\n",
       "    <tr>\n",
       "      <th>0</th>\n",
       "      <td>LogisticRegression</td>\n",
       "      <td>1.150885</td>\n",
       "      <td>0.169517</td>\n",
       "      <td>0.977499</td>\n",
       "      <td>1.0</td>\n",
       "      <td>0.91067</td>\n",
       "      <td>1.0</td>\n",
       "    </tr>\n",
       "    <tr>\n",
       "      <th>1</th>\n",
       "      <td>DecisionTreeClassifier</td>\n",
       "      <td>0.530746</td>\n",
       "      <td>0.172754</td>\n",
       "      <td>0.865524</td>\n",
       "      <td>0.867198</td>\n",
       "      <td>0.00396</td>\n",
       "      <td>0.027431</td>\n",
       "    </tr>\n",
       "    <tr>\n",
       "      <th>2</th>\n",
       "      <td>KNeighborsClassifier</td>\n",
       "      <td>0.620498</td>\n",
       "      <td>0.210114</td>\n",
       "      <td>0.866327</td>\n",
       "      <td>0.866796</td>\n",
       "      <td>0.011765</td>\n",
       "      <td>0.01855</td>\n",
       "    </tr>\n",
       "    <tr>\n",
       "      <th>3</th>\n",
       "      <td>MLPClassifier</td>\n",
       "      <td>0.196014</td>\n",
       "      <td>0.058038</td>\n",
       "      <td>0.867667</td>\n",
       "      <td>0.866796</td>\n",
       "      <td>0.034328</td>\n",
       "      <td>0.021471</td>\n",
       "    </tr>\n",
       "  </tbody>\n",
       "</table>\n",
       "</div>"
      ],
      "text/plain": [
       "                    model  fit_time score_time test_accuracy train_accuracy  \\\n",
       "0      LogisticRegression  1.150885   0.169517      0.977499            1.0   \n",
       "1  DecisionTreeClassifier  0.530746   0.172754      0.865524       0.867198   \n",
       "2    KNeighborsClassifier  0.620498   0.210114      0.866327       0.866796   \n",
       "3           MLPClassifier  0.196014   0.058038      0.867667       0.866796   \n",
       "\n",
       "    test_f1  train_f1  \n",
       "0   0.91067       1.0  \n",
       "1   0.00396  0.027431  \n",
       "2  0.011765   0.01855  \n",
       "3  0.034328  0.021471  "
      ]
     },
     "execution_count": 61,
     "metadata": {},
     "output_type": "execute_result"
    }
   ],
   "source": [
    "tunned_classifer = MLPClassifier(**best_parameters, max_iter=100)\n",
    "\n",
    "grid_scores = cross_validate(tunned_classifier, cleaned_train, y_train, cv=5, scoring=['accuracy', 'f1'], return_train_score=True)\n",
    "\n",
    "scores = ['MLPClassifier', grid_scores['fit_time'].mean(), grid_scores['score_time'].mean(), grid_scores['test_accuracy'].mean(),\n",
    "         grid_scores['train_accuracy'].mean(), grid_scores['test_f1'].mean(), grid_scores['train_f1'].mean()]\n",
    "\n",
    "for i in range(len(column_names)):\n",
    "    scores_df.loc[3, column_names[i]] = scores[i]\n",
    "\n",
    "scores_df.head()"
   ]
  },
  {
   "cell_type": "markdown",
   "id": "ef45d277",
   "metadata": {},
   "source": [
    "Vom exporta un fisier html cu rezultatele:"
   ]
  },
  {
   "cell_type": "code",
   "execution_count": 63,
   "id": "f14da804",
   "metadata": {
    "ExecuteTime": {
     "end_time": "2021-05-25T17:21:12.931179Z",
     "start_time": "2021-05-25T17:21:12.916363Z"
    }
   },
   "outputs": [],
   "source": [
    "html = scores_df.to_html()\n",
    "file = open(\"output/SMSSpamCollection_DataSet.html\", \"w\")\n",
    "file.write(html)\n",
    "file.close()"
   ]
  },
  {
   "cell_type": "markdown",
   "id": "0def4339",
   "metadata": {},
   "source": [
    "## Setul de date `FarmAds`"
   ]
  },
  {
   "cell_type": "code",
   "execution_count": null,
   "id": "435d6974",
   "metadata": {},
   "outputs": [],
   "source": []
  },
  {
   "cell_type": "code",
   "execution_count": null,
   "id": "02aebc94",
   "metadata": {},
   "outputs": [],
   "source": []
  }
 ],
 "metadata": {
  "kernelspec": {
   "display_name": "Python 3",
   "language": "python",
   "name": "python3"
  },
  "language_info": {
   "codemirror_mode": {
    "name": "ipython",
    "version": 3
   },
   "file_extension": ".py",
   "mimetype": "text/x-python",
   "name": "python",
   "nbconvert_exporter": "python",
   "pygments_lexer": "ipython3",
   "version": "3.8.8"
  },
  "toc": {
   "base_numbering": 1,
   "nav_menu": {
    "height": "251px",
    "width": "358px"
   },
   "number_sections": true,
   "sideBar": true,
   "skip_h1_title": false,
   "title_cell": "Table of Contents",
   "title_sidebar": "Contents",
   "toc_cell": false,
   "toc_position": {},
   "toc_section_display": true,
   "toc_window_display": false
  }
 },
 "nbformat": 4,
 "nbformat_minor": 5
}
