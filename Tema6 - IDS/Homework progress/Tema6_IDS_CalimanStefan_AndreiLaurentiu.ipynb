{
 "cells": [
  {
   "cell_type": "markdown",
   "id": "bd42b4e1",
   "metadata": {},
   "source": [
    "# Tema 6 IDS"
   ]
  },
  {
   "cell_type": "code",
   "execution_count": 1,
   "id": "0d1436c4",
   "metadata": {
    "ExecuteTime": {
     "end_time": "2021-05-28T07:19:41.911205Z",
     "start_time": "2021-05-28T07:19:40.050690Z"
    }
   },
   "outputs": [
    {
     "name": "stdout",
     "output_type": "stream",
     "text": [
      "\tCurrent Numpy version: 1.20.2\n",
      "\tNumpy version at the creation of the project: 1.20.2\n",
      "\n",
      " \tCurrent Pandas version: 1.2.4\n",
      "\tPandas version at the creation of the project: 1.2.4\n",
      "\n",
      " \tCurrent Regular Expressions version: 2.2.1\n",
      "\tRegular Expressions version at the creation of the project: 2.2.1\n",
      "\n",
      " \tCurrent Seaborn version: 0.11.1\n",
      "\tSeaborn version at the creation of the project: 0.11.1\n"
     ]
    }
   ],
   "source": [
    "import numpy as np\n",
    "import pandas as pd\n",
    "import matplotlib.pyplot as plt\n",
    "import seaborn as sns\n",
    "from typing import List, Dict, Union, Any\n",
    "\n",
    "import re\n",
    "import string\n",
    "import math\n",
    "\n",
    "print(f'\\tCurrent Numpy version: {np.__version__}')\n",
    "print('\\tNumpy version at the creation of the project: 1.20.2')\n",
    "\n",
    "print(f'\\n \\tCurrent Pandas version: {pd.__version__}')\n",
    "print('\\tPandas version at the creation of the project: 1.2.4')\n",
    "\n",
    "print(f'\\n \\tCurrent Regular Expressions version: {re.__version__}')\n",
    "print('\\tRegular Expressions version at the creation of the project: 2.2.1')\n",
    "\n",
    "print(f'\\n \\tCurrent Seaborn version: {sns.__version__}')\n",
    "print('\\tSeaborn version at the creation of the project: 0.11.1')"
   ]
  },
  {
   "cell_type": "code",
   "execution_count": 2,
   "id": "cff77a9d",
   "metadata": {
    "ExecuteTime": {
     "end_time": "2021-05-28T07:19:47.957334Z",
     "start_time": "2021-05-28T07:19:45.289240Z"
    }
   },
   "outputs": [
    {
     "name": "stdout",
     "output_type": "stream",
     "text": [
      "Requirement already satisfied: nltk in c:\\users\\laur\\anaconda3\\envs\\introducereindatascience\\lib\\site-packages (3.6.1)\n",
      "Requirement already satisfied: tqdm in c:\\users\\laur\\anaconda3\\envs\\introducereindatascience\\lib\\site-packages (from nltk) (4.59.0)\n",
      "Requirement already satisfied: regex in c:\\users\\laur\\anaconda3\\envs\\introducereindatascience\\lib\\site-packages (from nltk) (2021.4.4)\n",
      "Requirement already satisfied: joblib in c:\\users\\laur\\anaconda3\\envs\\introducereindatascience\\lib\\site-packages (from nltk) (1.0.1)\n",
      "Requirement already satisfied: click in c:\\users\\laur\\anaconda3\\envs\\introducereindatascience\\lib\\site-packages (from nltk) (7.1.2)\n"
     ]
    }
   ],
   "source": [
    "!pip install nltk"
   ]
  },
  {
   "cell_type": "code",
   "execution_count": 3,
   "id": "478ca2c0",
   "metadata": {
    "ExecuteTime": {
     "end_time": "2021-05-28T07:20:04.643905Z",
     "start_time": "2021-05-28T07:20:03.326708Z"
    }
   },
   "outputs": [
    {
     "name": "stderr",
     "output_type": "stream",
     "text": [
      "[nltk_data] Downloading package stopwords to\n",
      "[nltk_data]     C:\\Users\\Laur\\AppData\\Roaming\\nltk_data...\n",
      "[nltk_data]   Package stopwords is already up-to-date!\n"
     ]
    },
    {
     "data": {
      "text/plain": [
       "True"
      ]
     },
     "execution_count": 3,
     "metadata": {},
     "output_type": "execute_result"
    }
   ],
   "source": [
    "import nltk\n",
    "nltk.download('stopwords')"
   ]
  },
  {
   "cell_type": "code",
   "execution_count": 4,
   "id": "64598212",
   "metadata": {
    "ExecuteTime": {
     "end_time": "2021-05-28T07:20:06.283348Z",
     "start_time": "2021-05-28T07:20:06.262393Z"
    }
   },
   "outputs": [],
   "source": [
    "from nltk.corpus import stopwords\n",
    "\n",
    "from sklearn.feature_extraction.text import CountVectorizer, TfidfVectorizer\n",
    "from sklearn.feature_extraction.text import TfidfTransformer\n",
    "from sklearn.model_selection import train_test_split\n",
    "from sklearn.pipeline import Pipeline\n",
    "from sklearn.model_selection import cross_validate"
   ]
  },
  {
   "cell_type": "markdown",
   "id": "6e998a1b",
   "metadata": {},
   "source": [
    "## Setul de date `SMSSpamCollection`"
   ]
  },
  {
   "cell_type": "markdown",
   "id": "38b1a456",
   "metadata": {},
   "source": [
    "### Descrierea setului de date"
   ]
  },
  {
   "cell_type": "markdown",
   "id": "4799a1a7",
   "metadata": {},
   "source": [
    "Setul de date `SMSSpamCollection` este un set de mesaje SMS care au fost colectate pentru a analiza SMS-urile de tip Spam. Acesta contine un set de 5574 mesaje text in limba engleza clasificate in 2 categorii: `ham`(mesaje legitime) sau `spam`.\n",
    "\n",
    "Aceste mesaje au fost colectate din resurse gratuite de pe Web:\n",
    "* O colectie de aproximativ 425 SMS-uri de tip spam extrase manual de pe site-ul [Grumbletext](http://www.grumbletext.co.uk). Acesta este un forum din UK in care utilizatorii telefoanelor mobile fac plangeri publice despre mesajele text de tip spam.\n",
    "* O lista de 450 de SMS-uri legitime colectate din [teza de doctorat a lui Caroline Tag](http://etheses.bham.ac.uk/253/1/Tagg09PhD.pdf).\n",
    "* Un subset de 3375 mesaje legitime luate de pe site-ul [NUS SMS Corpus (NSC)](http://www.comp.nus.edu.sg/~rpnlpir/downloads/corpora/smsCorpus/), un site care contine aproximativ 10000 de mesaje SMS legitime colectate pentru research de catre Department of Computer Science at the National University of Singapore. Mesajele provin in mare parte de la oamenii din Singapore si de la studentii de la universitate. Aceste mesaje au fost colectate de voluntari.\n",
    "* Un numar de 1002 SMS-uri legitime si 332 SMS-uri de tip spam extrase din [SMS Spam Corpus v.0.1 Big](http://www.esp.uem.es/jmgomez/smsspamcorpus/), colectie creata de José María Gómez Hidalgo.\n",
    "\n",
    "Setul de date contine un total de 4827 de SMS-uri de tip legitim (86.6%) si 747 de mesaje de tip spam (13.4%)."
   ]
  },
  {
   "cell_type": "markdown",
   "id": "fc82185e",
   "metadata": {},
   "source": [
    "### Analiza exploratorie a setului de date"
   ]
  },
  {
   "cell_type": "code",
   "execution_count": 5,
   "id": "e2f93032",
   "metadata": {
    "ExecuteTime": {
     "end_time": "2021-05-28T07:20:09.996059Z",
     "start_time": "2021-05-28T07:20:09.965142Z"
    }
   },
   "outputs": [],
   "source": [
    "data: pd.DataFrame = pd.read_csv(\"data/SMSSpamCollection\", delimiter=\"\\t\", header=None)\n",
    "data: pd.DataFrame = data.rename(columns= {0: 'Class', 1:'Message'})"
   ]
  },
  {
   "cell_type": "code",
   "execution_count": 6,
   "id": "65fc8e4b",
   "metadata": {
    "ExecuteTime": {
     "end_time": "2021-05-28T07:20:10.787522Z",
     "start_time": "2021-05-28T07:20:10.761575Z"
    }
   },
   "outputs": [
    {
     "data": {
      "text/html": [
       "<div>\n",
       "<style scoped>\n",
       "    .dataframe tbody tr th:only-of-type {\n",
       "        vertical-align: middle;\n",
       "    }\n",
       "\n",
       "    .dataframe tbody tr th {\n",
       "        vertical-align: top;\n",
       "    }\n",
       "\n",
       "    .dataframe thead th {\n",
       "        text-align: right;\n",
       "    }\n",
       "</style>\n",
       "<table border=\"1\" class=\"dataframe\">\n",
       "  <thead>\n",
       "    <tr style=\"text-align: right;\">\n",
       "      <th></th>\n",
       "      <th>Class</th>\n",
       "      <th>Message</th>\n",
       "    </tr>\n",
       "  </thead>\n",
       "  <tbody>\n",
       "    <tr>\n",
       "      <th>0</th>\n",
       "      <td>ham</td>\n",
       "      <td>Go until jurong point, crazy.. Available only ...</td>\n",
       "    </tr>\n",
       "    <tr>\n",
       "      <th>1</th>\n",
       "      <td>ham</td>\n",
       "      <td>Ok lar... Joking wif u oni...</td>\n",
       "    </tr>\n",
       "    <tr>\n",
       "      <th>2</th>\n",
       "      <td>spam</td>\n",
       "      <td>Free entry in 2 a wkly comp to win FA Cup fina...</td>\n",
       "    </tr>\n",
       "    <tr>\n",
       "      <th>3</th>\n",
       "      <td>ham</td>\n",
       "      <td>U dun say so early hor... U c already then say...</td>\n",
       "    </tr>\n",
       "    <tr>\n",
       "      <th>4</th>\n",
       "      <td>ham</td>\n",
       "      <td>Nah I don't think he goes to usf, he lives aro...</td>\n",
       "    </tr>\n",
       "  </tbody>\n",
       "</table>\n",
       "</div>"
      ],
      "text/plain": [
       "  Class                                            Message\n",
       "0   ham  Go until jurong point, crazy.. Available only ...\n",
       "1   ham                      Ok lar... Joking wif u oni...\n",
       "2  spam  Free entry in 2 a wkly comp to win FA Cup fina...\n",
       "3   ham  U dun say so early hor... U c already then say...\n",
       "4   ham  Nah I don't think he goes to usf, he lives aro..."
      ]
     },
     "execution_count": 6,
     "metadata": {},
     "output_type": "execute_result"
    }
   ],
   "source": [
    "data.head()"
   ]
  },
  {
   "cell_type": "markdown",
   "id": "9ba468fc",
   "metadata": {},
   "source": [
    "Vom exemplifica acum cum arata un `mesaj legitim`"
   ]
  },
  {
   "cell_type": "code",
   "execution_count": 9,
   "id": "5b176834",
   "metadata": {
    "ExecuteTime": {
     "end_time": "2021-05-28T07:20:43.799360Z",
     "start_time": "2021-05-28T07:20:43.790874Z"
    }
   },
   "outputs": [
    {
     "data": {
      "text/plain": [
       "'Go until jurong point, crazy.. Available only in bugis n great world la e buffet... Cine there got amore wat...'"
      ]
     },
     "execution_count": 9,
     "metadata": {},
     "output_type": "execute_result"
    }
   ],
   "source": [
    "data[data['Class'] == 'ham'].iloc[0]['Message']"
   ]
  },
  {
   "cell_type": "markdown",
   "id": "131c5078",
   "metadata": {},
   "source": [
    "Vom da un exemplu si de mesaj de tip `spam`"
   ]
  },
  {
   "cell_type": "code",
   "execution_count": 10,
   "id": "8e69db14",
   "metadata": {
    "ExecuteTime": {
     "end_time": "2021-05-28T07:20:49.925413Z",
     "start_time": "2021-05-28T07:20:49.910452Z"
    }
   },
   "outputs": [
    {
     "data": {
      "text/plain": [
       "\"Free entry in 2 a wkly comp to win FA Cup final tkts 21st May 2005. Text FA to 87121 to receive entry question(std txt rate)T&C's apply 08452810075over18's\""
      ]
     },
     "execution_count": 10,
     "metadata": {},
     "output_type": "execute_result"
    }
   ],
   "source": [
    "data[data['Class'] == 'spam'].iloc[0]['Message']"
   ]
  },
  {
   "cell_type": "markdown",
   "id": "40bd6da3",
   "metadata": {},
   "source": [
    "Verificam daca exista vreo valoare NaN in setul nostru de date"
   ]
  },
  {
   "cell_type": "code",
   "execution_count": 11,
   "id": "25502182",
   "metadata": {
    "ExecuteTime": {
     "end_time": "2021-05-28T07:20:51.581800Z",
     "start_time": "2021-05-28T07:20:51.553239Z"
    }
   },
   "outputs": [
    {
     "data": {
      "text/plain": [
       "Class      0\n",
       "Message    0\n",
       "dtype: int64"
      ]
     },
     "execution_count": 11,
     "metadata": {},
     "output_type": "execute_result"
    }
   ],
   "source": [
    "data.isna().sum()"
   ]
  },
  {
   "cell_type": "markdown",
   "id": "398ba3c5",
   "metadata": {},
   "source": [
    "Vom creea etichete numerice pentru clasificare"
   ]
  },
  {
   "cell_type": "code",
   "execution_count": 12,
   "id": "9ceb68d6",
   "metadata": {
    "ExecuteTime": {
     "end_time": "2021-05-28T07:20:57.671659Z",
     "start_time": "2021-05-28T07:20:57.602732Z"
    }
   },
   "outputs": [
    {
     "data": {
      "text/html": [
       "<div>\n",
       "<style scoped>\n",
       "    .dataframe tbody tr th:only-of-type {\n",
       "        vertical-align: middle;\n",
       "    }\n",
       "\n",
       "    .dataframe tbody tr th {\n",
       "        vertical-align: top;\n",
       "    }\n",
       "\n",
       "    .dataframe thead th {\n",
       "        text-align: right;\n",
       "    }\n",
       "</style>\n",
       "<table border=\"1\" class=\"dataframe\">\n",
       "  <thead>\n",
       "    <tr style=\"text-align: right;\">\n",
       "      <th></th>\n",
       "      <th>Class</th>\n",
       "      <th>Message</th>\n",
       "      <th>IsSpam</th>\n",
       "    </tr>\n",
       "  </thead>\n",
       "  <tbody>\n",
       "    <tr>\n",
       "      <th>0</th>\n",
       "      <td>ham</td>\n",
       "      <td>Go until jurong point, crazy.. Available only ...</td>\n",
       "      <td>0</td>\n",
       "    </tr>\n",
       "    <tr>\n",
       "      <th>1</th>\n",
       "      <td>ham</td>\n",
       "      <td>Ok lar... Joking wif u oni...</td>\n",
       "      <td>0</td>\n",
       "    </tr>\n",
       "    <tr>\n",
       "      <th>2</th>\n",
       "      <td>spam</td>\n",
       "      <td>Free entry in 2 a wkly comp to win FA Cup fina...</td>\n",
       "      <td>1</td>\n",
       "    </tr>\n",
       "    <tr>\n",
       "      <th>3</th>\n",
       "      <td>ham</td>\n",
       "      <td>U dun say so early hor... U c already then say...</td>\n",
       "      <td>0</td>\n",
       "    </tr>\n",
       "    <tr>\n",
       "      <th>4</th>\n",
       "      <td>ham</td>\n",
       "      <td>Nah I don't think he goes to usf, he lives aro...</td>\n",
       "      <td>0</td>\n",
       "    </tr>\n",
       "    <tr>\n",
       "      <th>...</th>\n",
       "      <td>...</td>\n",
       "      <td>...</td>\n",
       "      <td>...</td>\n",
       "    </tr>\n",
       "    <tr>\n",
       "      <th>5567</th>\n",
       "      <td>spam</td>\n",
       "      <td>This is the 2nd time we have tried 2 contact u...</td>\n",
       "      <td>1</td>\n",
       "    </tr>\n",
       "    <tr>\n",
       "      <th>5568</th>\n",
       "      <td>ham</td>\n",
       "      <td>Will ü b going to esplanade fr home?</td>\n",
       "      <td>0</td>\n",
       "    </tr>\n",
       "    <tr>\n",
       "      <th>5569</th>\n",
       "      <td>ham</td>\n",
       "      <td>Pity, * was in mood for that. So...any other s...</td>\n",
       "      <td>0</td>\n",
       "    </tr>\n",
       "    <tr>\n",
       "      <th>5570</th>\n",
       "      <td>ham</td>\n",
       "      <td>The guy did some bitching but I acted like i'd...</td>\n",
       "      <td>0</td>\n",
       "    </tr>\n",
       "    <tr>\n",
       "      <th>5571</th>\n",
       "      <td>ham</td>\n",
       "      <td>Rofl. Its true to its name</td>\n",
       "      <td>0</td>\n",
       "    </tr>\n",
       "  </tbody>\n",
       "</table>\n",
       "<p>5572 rows × 3 columns</p>\n",
       "</div>"
      ],
      "text/plain": [
       "     Class                                            Message  IsSpam\n",
       "0      ham  Go until jurong point, crazy.. Available only ...       0\n",
       "1      ham                      Ok lar... Joking wif u oni...       0\n",
       "2     spam  Free entry in 2 a wkly comp to win FA Cup fina...       1\n",
       "3      ham  U dun say so early hor... U c already then say...       0\n",
       "4      ham  Nah I don't think he goes to usf, he lives aro...       0\n",
       "...    ...                                                ...     ...\n",
       "5567  spam  This is the 2nd time we have tried 2 contact u...       1\n",
       "5568   ham               Will ü b going to esplanade fr home?       0\n",
       "5569   ham  Pity, * was in mood for that. So...any other s...       0\n",
       "5570   ham  The guy did some bitching but I acted like i'd...       0\n",
       "5571   ham                         Rofl. Its true to its name       0\n",
       "\n",
       "[5572 rows x 3 columns]"
      ]
     },
     "execution_count": 12,
     "metadata": {},
     "output_type": "execute_result"
    }
   ],
   "source": [
    "label: Dict[str,int] = {'ham': 0, 'spam': 1}\n",
    "data['IsSpam'] = data['Class'].map(label)\n",
    "data"
   ]
  },
  {
   "cell_type": "markdown",
   "id": "fd4bc359",
   "metadata": {},
   "source": [
    "Pentru standardizarea tuturor mesajelor, vom face toate literele de tip lowercase"
   ]
  },
  {
   "cell_type": "code",
   "execution_count": 14,
   "id": "d36b63b9",
   "metadata": {
    "ExecuteTime": {
     "end_time": "2021-05-28T07:21:18.457667Z",
     "start_time": "2021-05-28T07:21:18.439703Z"
    }
   },
   "outputs": [
    {
     "data": {
      "text/plain": [
       "0       go until jurong point, crazy.. available only ...\n",
       "1                           ok lar... joking wif u oni...\n",
       "2       free entry in 2 a wkly comp to win fa cup fina...\n",
       "3       u dun say so early hor... u c already then say...\n",
       "4       nah i don't think he goes to usf, he lives aro...\n",
       "                              ...                        \n",
       "5567    this is the 2nd time we have tried 2 contact u...\n",
       "5568                 will ü b going to esplanade fr home?\n",
       "5569    pity, * was in mood for that. so...any other s...\n",
       "5570    the guy did some bitching but i acted like i'd...\n",
       "5571                           rofl. its true to its name\n",
       "Name: Message, Length: 5572, dtype: object"
      ]
     },
     "execution_count": 14,
     "metadata": {},
     "output_type": "execute_result"
    }
   ],
   "source": [
    "data['Message']: pd.Series = data['Message'].str.lower()\n",
    "data['Message']"
   ]
  },
  {
   "cell_type": "markdown",
   "id": "3fd24a4c",
   "metadata": {},
   "source": [
    "Calculam lungimea mesajelor si adaugam o coloana cu aceasta valoare in dataframe-ul nostru"
   ]
  },
  {
   "cell_type": "code",
   "execution_count": 15,
   "id": "714c1e00",
   "metadata": {
    "ExecuteTime": {
     "end_time": "2021-05-28T07:21:26.945614Z",
     "start_time": "2021-05-28T07:21:26.920509Z"
    }
   },
   "outputs": [
    {
     "data": {
      "text/html": [
       "<div>\n",
       "<style scoped>\n",
       "    .dataframe tbody tr th:only-of-type {\n",
       "        vertical-align: middle;\n",
       "    }\n",
       "\n",
       "    .dataframe tbody tr th {\n",
       "        vertical-align: top;\n",
       "    }\n",
       "\n",
       "    .dataframe thead th {\n",
       "        text-align: right;\n",
       "    }\n",
       "</style>\n",
       "<table border=\"1\" class=\"dataframe\">\n",
       "  <thead>\n",
       "    <tr style=\"text-align: right;\">\n",
       "      <th></th>\n",
       "      <th>Class</th>\n",
       "      <th>Message</th>\n",
       "      <th>IsSpam</th>\n",
       "      <th>Length</th>\n",
       "    </tr>\n",
       "  </thead>\n",
       "  <tbody>\n",
       "    <tr>\n",
       "      <th>0</th>\n",
       "      <td>ham</td>\n",
       "      <td>go until jurong point, crazy.. available only ...</td>\n",
       "      <td>0</td>\n",
       "      <td>111</td>\n",
       "    </tr>\n",
       "    <tr>\n",
       "      <th>1</th>\n",
       "      <td>ham</td>\n",
       "      <td>ok lar... joking wif u oni...</td>\n",
       "      <td>0</td>\n",
       "      <td>29</td>\n",
       "    </tr>\n",
       "    <tr>\n",
       "      <th>2</th>\n",
       "      <td>spam</td>\n",
       "      <td>free entry in 2 a wkly comp to win fa cup fina...</td>\n",
       "      <td>1</td>\n",
       "      <td>155</td>\n",
       "    </tr>\n",
       "    <tr>\n",
       "      <th>3</th>\n",
       "      <td>ham</td>\n",
       "      <td>u dun say so early hor... u c already then say...</td>\n",
       "      <td>0</td>\n",
       "      <td>49</td>\n",
       "    </tr>\n",
       "    <tr>\n",
       "      <th>4</th>\n",
       "      <td>ham</td>\n",
       "      <td>nah i don't think he goes to usf, he lives aro...</td>\n",
       "      <td>0</td>\n",
       "      <td>61</td>\n",
       "    </tr>\n",
       "    <tr>\n",
       "      <th>...</th>\n",
       "      <td>...</td>\n",
       "      <td>...</td>\n",
       "      <td>...</td>\n",
       "      <td>...</td>\n",
       "    </tr>\n",
       "    <tr>\n",
       "      <th>5567</th>\n",
       "      <td>spam</td>\n",
       "      <td>this is the 2nd time we have tried 2 contact u...</td>\n",
       "      <td>1</td>\n",
       "      <td>160</td>\n",
       "    </tr>\n",
       "    <tr>\n",
       "      <th>5568</th>\n",
       "      <td>ham</td>\n",
       "      <td>will ü b going to esplanade fr home?</td>\n",
       "      <td>0</td>\n",
       "      <td>36</td>\n",
       "    </tr>\n",
       "    <tr>\n",
       "      <th>5569</th>\n",
       "      <td>ham</td>\n",
       "      <td>pity, * was in mood for that. so...any other s...</td>\n",
       "      <td>0</td>\n",
       "      <td>57</td>\n",
       "    </tr>\n",
       "    <tr>\n",
       "      <th>5570</th>\n",
       "      <td>ham</td>\n",
       "      <td>the guy did some bitching but i acted like i'd...</td>\n",
       "      <td>0</td>\n",
       "      <td>125</td>\n",
       "    </tr>\n",
       "    <tr>\n",
       "      <th>5571</th>\n",
       "      <td>ham</td>\n",
       "      <td>rofl. its true to its name</td>\n",
       "      <td>0</td>\n",
       "      <td>26</td>\n",
       "    </tr>\n",
       "  </tbody>\n",
       "</table>\n",
       "<p>5572 rows × 4 columns</p>\n",
       "</div>"
      ],
      "text/plain": [
       "     Class                                            Message  IsSpam  Length\n",
       "0      ham  go until jurong point, crazy.. available only ...       0     111\n",
       "1      ham                      ok lar... joking wif u oni...       0      29\n",
       "2     spam  free entry in 2 a wkly comp to win fa cup fina...       1     155\n",
       "3      ham  u dun say so early hor... u c already then say...       0      49\n",
       "4      ham  nah i don't think he goes to usf, he lives aro...       0      61\n",
       "...    ...                                                ...     ...     ...\n",
       "5567  spam  this is the 2nd time we have tried 2 contact u...       1     160\n",
       "5568   ham               will ü b going to esplanade fr home?       0      36\n",
       "5569   ham  pity, * was in mood for that. so...any other s...       0      57\n",
       "5570   ham  the guy did some bitching but i acted like i'd...       0     125\n",
       "5571   ham                         rofl. its true to its name       0      26\n",
       "\n",
       "[5572 rows x 4 columns]"
      ]
     },
     "execution_count": 15,
     "metadata": {},
     "output_type": "execute_result"
    }
   ],
   "source": [
    "data['Length']: pd.Series = data['Message'].apply(len)\n",
    "data"
   ]
  },
  {
   "cell_type": "code",
   "execution_count": 16,
   "id": "99d25422",
   "metadata": {
    "ExecuteTime": {
     "end_time": "2021-05-28T07:21:30.363051Z",
     "start_time": "2021-05-28T07:21:30.349072Z"
    }
   },
   "outputs": [],
   "source": [
    "import warnings\n",
    "warnings.simplefilter(action='ignore', category=FutureWarning)"
   ]
  },
  {
   "cell_type": "code",
   "execution_count": 22,
   "id": "f4675d5a",
   "metadata": {
    "ExecuteTime": {
     "end_time": "2021-05-28T07:23:49.426708Z",
     "start_time": "2021-05-28T07:23:49.136518Z"
    }
   },
   "outputs": [
    {
     "data": {
      "image/png": "[encoded data removed]",
      "text/plain": [
       "<Figure size 1080x576 with 1 Axes>"
      ]
     },
     "metadata": {},
     "output_type": "display_data"
    }
   ],
   "source": [
    "plt.figure(figsize=(15, 8))\n",
    "hams_length: pd.DataFrame = data[data['IsSpam'] == 0][['IsSpam', 'Length']]\n",
    "spam_length: pd.DataFrame = data[data['IsSpam'] == 1][['IsSpam', 'Length']]\n",
    "ax = sns.distplot(hams_length, hist = False, label = 'Ham')\n",
    "ax = sns.distplot(spam_length, hist = False, label = 'Spam')\n",
    "plt.xlim(0, 300)\n",
    "plt.title('Distribution of SMS Message Character Count between Spam vs. Ham ')\n",
    "sns.set(font_scale=1.3)\n",
    "plt.legend()\n",
    "ax.set_ylabel('Distribution')\n",
    "ax.set_xlabel('Length of SMS');"
   ]
  },
  {
   "cell_type": "markdown",
   "id": "a5255978",
   "metadata": {},
   "source": [
    "Afisam date despre mesajele legitime."
   ]
  },
  {
   "cell_type": "code",
   "execution_count": 23,
   "id": "2cdea8f4",
   "metadata": {
    "ExecuteTime": {
     "end_time": "2021-05-28T07:23:55.487159Z",
     "start_time": "2021-05-28T07:23:55.465187Z"
    }
   },
   "outputs": [
    {
     "data": {
      "text/html": [
       "<div>\n",
       "<style scoped>\n",
       "    .dataframe tbody tr th:only-of-type {\n",
       "        vertical-align: middle;\n",
       "    }\n",
       "\n",
       "    .dataframe tbody tr th {\n",
       "        vertical-align: top;\n",
       "    }\n",
       "\n",
       "    .dataframe thead th {\n",
       "        text-align: right;\n",
       "    }\n",
       "</style>\n",
       "<table border=\"1\" class=\"dataframe\">\n",
       "  <thead>\n",
       "    <tr style=\"text-align: right;\">\n",
       "      <th></th>\n",
       "      <th>IsSpam</th>\n",
       "      <th>Length</th>\n",
       "    </tr>\n",
       "  </thead>\n",
       "  <tbody>\n",
       "    <tr>\n",
       "      <th>count</th>\n",
       "      <td>4825.0</td>\n",
       "      <td>4825.000000</td>\n",
       "    </tr>\n",
       "    <tr>\n",
       "      <th>mean</th>\n",
       "      <td>0.0</td>\n",
       "      <td>71.482487</td>\n",
       "    </tr>\n",
       "    <tr>\n",
       "      <th>std</th>\n",
       "      <td>0.0</td>\n",
       "      <td>58.440652</td>\n",
       "    </tr>\n",
       "    <tr>\n",
       "      <th>min</th>\n",
       "      <td>0.0</td>\n",
       "      <td>2.000000</td>\n",
       "    </tr>\n",
       "    <tr>\n",
       "      <th>25%</th>\n",
       "      <td>0.0</td>\n",
       "      <td>33.000000</td>\n",
       "    </tr>\n",
       "    <tr>\n",
       "      <th>50%</th>\n",
       "      <td>0.0</td>\n",
       "      <td>52.000000</td>\n",
       "    </tr>\n",
       "    <tr>\n",
       "      <th>75%</th>\n",
       "      <td>0.0</td>\n",
       "      <td>93.000000</td>\n",
       "    </tr>\n",
       "    <tr>\n",
       "      <th>max</th>\n",
       "      <td>0.0</td>\n",
       "      <td>910.000000</td>\n",
       "    </tr>\n",
       "  </tbody>\n",
       "</table>\n",
       "</div>"
      ],
      "text/plain": [
       "       IsSpam       Length\n",
       "count  4825.0  4825.000000\n",
       "mean      0.0    71.482487\n",
       "std       0.0    58.440652\n",
       "min       0.0     2.000000\n",
       "25%       0.0    33.000000\n",
       "50%       0.0    52.000000\n",
       "75%       0.0    93.000000\n",
       "max       0.0   910.000000"
      ]
     },
     "execution_count": 23,
     "metadata": {},
     "output_type": "execute_result"
    }
   ],
   "source": [
    "data[data['IsSpam'] == 0].describe()"
   ]
  },
  {
   "cell_type": "markdown",
   "id": "a63e8623",
   "metadata": {},
   "source": [
    "Afisam date despre mesajele de tip spam."
   ]
  },
  {
   "cell_type": "code",
   "execution_count": 24,
   "id": "1bd611a4",
   "metadata": {
    "ExecuteTime": {
     "end_time": "2021-05-28T07:23:57.955197Z",
     "start_time": "2021-05-28T07:23:57.935733Z"
    }
   },
   "outputs": [
    {
     "data": {
      "text/html": [
       "<div>\n",
       "<style scoped>\n",
       "    .dataframe tbody tr th:only-of-type {\n",
       "        vertical-align: middle;\n",
       "    }\n",
       "\n",
       "    .dataframe tbody tr th {\n",
       "        vertical-align: top;\n",
       "    }\n",
       "\n",
       "    .dataframe thead th {\n",
       "        text-align: right;\n",
       "    }\n",
       "</style>\n",
       "<table border=\"1\" class=\"dataframe\">\n",
       "  <thead>\n",
       "    <tr style=\"text-align: right;\">\n",
       "      <th></th>\n",
       "      <th>IsSpam</th>\n",
       "      <th>Length</th>\n",
       "    </tr>\n",
       "  </thead>\n",
       "  <tbody>\n",
       "    <tr>\n",
       "      <th>count</th>\n",
       "      <td>747.0</td>\n",
       "      <td>747.000000</td>\n",
       "    </tr>\n",
       "    <tr>\n",
       "      <th>mean</th>\n",
       "      <td>1.0</td>\n",
       "      <td>138.670683</td>\n",
       "    </tr>\n",
       "    <tr>\n",
       "      <th>std</th>\n",
       "      <td>0.0</td>\n",
       "      <td>28.873603</td>\n",
       "    </tr>\n",
       "    <tr>\n",
       "      <th>min</th>\n",
       "      <td>1.0</td>\n",
       "      <td>13.000000</td>\n",
       "    </tr>\n",
       "    <tr>\n",
       "      <th>25%</th>\n",
       "      <td>1.0</td>\n",
       "      <td>133.000000</td>\n",
       "    </tr>\n",
       "    <tr>\n",
       "      <th>50%</th>\n",
       "      <td>1.0</td>\n",
       "      <td>149.000000</td>\n",
       "    </tr>\n",
       "    <tr>\n",
       "      <th>75%</th>\n",
       "      <td>1.0</td>\n",
       "      <td>157.000000</td>\n",
       "    </tr>\n",
       "    <tr>\n",
       "      <th>max</th>\n",
       "      <td>1.0</td>\n",
       "      <td>223.000000</td>\n",
       "    </tr>\n",
       "  </tbody>\n",
       "</table>\n",
       "</div>"
      ],
      "text/plain": [
       "       IsSpam      Length\n",
       "count   747.0  747.000000\n",
       "mean      1.0  138.670683\n",
       "std       0.0   28.873603\n",
       "min       1.0   13.000000\n",
       "25%       1.0  133.000000\n",
       "50%       1.0  149.000000\n",
       "75%       1.0  157.000000\n",
       "max       1.0  223.000000"
      ]
     },
     "execution_count": 24,
     "metadata": {},
     "output_type": "execute_result"
    }
   ],
   "source": [
    "data[data['IsSpam'] == 1].describe()"
   ]
  },
  {
   "cell_type": "markdown",
   "id": "b24260e7",
   "metadata": {},
   "source": [
    "Tot ceea ce am reprezentat mai sus impreuna cu graficul afisat arata faptul ca mesajele de tip spam par a avea o lungime mai mare fata de mesajele legitime in ceea ce priveste numarul de caractere.\n",
    "\n",
    "Vom vedea acum daca este adevarat si pentru numarul de cuvinte din fiecare mesaj."
   ]
  },
  {
   "cell_type": "code",
   "execution_count": 25,
   "id": "527260f3",
   "metadata": {
    "ExecuteTime": {
     "end_time": "2021-05-28T07:24:07.613447Z",
     "start_time": "2021-05-28T07:24:07.578512Z"
    }
   },
   "outputs": [
    {
     "data": {
      "text/html": [
       "<div>\n",
       "<style scoped>\n",
       "    .dataframe tbody tr th:only-of-type {\n",
       "        vertical-align: middle;\n",
       "    }\n",
       "\n",
       "    .dataframe tbody tr th {\n",
       "        vertical-align: top;\n",
       "    }\n",
       "\n",
       "    .dataframe thead th {\n",
       "        text-align: right;\n",
       "    }\n",
       "</style>\n",
       "<table border=\"1\" class=\"dataframe\">\n",
       "  <thead>\n",
       "    <tr style=\"text-align: right;\">\n",
       "      <th></th>\n",
       "      <th>Class</th>\n",
       "      <th>Message</th>\n",
       "      <th>IsSpam</th>\n",
       "      <th>Length</th>\n",
       "      <th>Word_Count</th>\n",
       "    </tr>\n",
       "  </thead>\n",
       "  <tbody>\n",
       "    <tr>\n",
       "      <th>0</th>\n",
       "      <td>ham</td>\n",
       "      <td>go until jurong point, crazy.. available only ...</td>\n",
       "      <td>0</td>\n",
       "      <td>111</td>\n",
       "      <td>20</td>\n",
       "    </tr>\n",
       "    <tr>\n",
       "      <th>1</th>\n",
       "      <td>ham</td>\n",
       "      <td>ok lar... joking wif u oni...</td>\n",
       "      <td>0</td>\n",
       "      <td>29</td>\n",
       "      <td>6</td>\n",
       "    </tr>\n",
       "    <tr>\n",
       "      <th>2</th>\n",
       "      <td>spam</td>\n",
       "      <td>free entry in 2 a wkly comp to win fa cup fina...</td>\n",
       "      <td>1</td>\n",
       "      <td>155</td>\n",
       "      <td>28</td>\n",
       "    </tr>\n",
       "    <tr>\n",
       "      <th>3</th>\n",
       "      <td>ham</td>\n",
       "      <td>u dun say so early hor... u c already then say...</td>\n",
       "      <td>0</td>\n",
       "      <td>49</td>\n",
       "      <td>11</td>\n",
       "    </tr>\n",
       "    <tr>\n",
       "      <th>4</th>\n",
       "      <td>ham</td>\n",
       "      <td>nah i don't think he goes to usf, he lives aro...</td>\n",
       "      <td>0</td>\n",
       "      <td>61</td>\n",
       "      <td>13</td>\n",
       "    </tr>\n",
       "    <tr>\n",
       "      <th>...</th>\n",
       "      <td>...</td>\n",
       "      <td>...</td>\n",
       "      <td>...</td>\n",
       "      <td>...</td>\n",
       "      <td>...</td>\n",
       "    </tr>\n",
       "    <tr>\n",
       "      <th>5567</th>\n",
       "      <td>spam</td>\n",
       "      <td>this is the 2nd time we have tried 2 contact u...</td>\n",
       "      <td>1</td>\n",
       "      <td>160</td>\n",
       "      <td>30</td>\n",
       "    </tr>\n",
       "    <tr>\n",
       "      <th>5568</th>\n",
       "      <td>ham</td>\n",
       "      <td>will ü b going to esplanade fr home?</td>\n",
       "      <td>0</td>\n",
       "      <td>36</td>\n",
       "      <td>8</td>\n",
       "    </tr>\n",
       "    <tr>\n",
       "      <th>5569</th>\n",
       "      <td>ham</td>\n",
       "      <td>pity, * was in mood for that. so...any other s...</td>\n",
       "      <td>0</td>\n",
       "      <td>57</td>\n",
       "      <td>10</td>\n",
       "    </tr>\n",
       "    <tr>\n",
       "      <th>5570</th>\n",
       "      <td>ham</td>\n",
       "      <td>the guy did some bitching but i acted like i'd...</td>\n",
       "      <td>0</td>\n",
       "      <td>125</td>\n",
       "      <td>26</td>\n",
       "    </tr>\n",
       "    <tr>\n",
       "      <th>5571</th>\n",
       "      <td>ham</td>\n",
       "      <td>rofl. its true to its name</td>\n",
       "      <td>0</td>\n",
       "      <td>26</td>\n",
       "      <td>6</td>\n",
       "    </tr>\n",
       "  </tbody>\n",
       "</table>\n",
       "<p>5572 rows × 5 columns</p>\n",
       "</div>"
      ],
      "text/plain": [
       "     Class                                            Message  IsSpam  Length  \\\n",
       "0      ham  go until jurong point, crazy.. available only ...       0     111   \n",
       "1      ham                      ok lar... joking wif u oni...       0      29   \n",
       "2     spam  free entry in 2 a wkly comp to win fa cup fina...       1     155   \n",
       "3      ham  u dun say so early hor... u c already then say...       0      49   \n",
       "4      ham  nah i don't think he goes to usf, he lives aro...       0      61   \n",
       "...    ...                                                ...     ...     ...   \n",
       "5567  spam  this is the 2nd time we have tried 2 contact u...       1     160   \n",
       "5568   ham               will ü b going to esplanade fr home?       0      36   \n",
       "5569   ham  pity, * was in mood for that. so...any other s...       0      57   \n",
       "5570   ham  the guy did some bitching but i acted like i'd...       0     125   \n",
       "5571   ham                         rofl. its true to its name       0      26   \n",
       "\n",
       "      Word_Count  \n",
       "0             20  \n",
       "1              6  \n",
       "2             28  \n",
       "3             11  \n",
       "4             13  \n",
       "...          ...  \n",
       "5567          30  \n",
       "5568           8  \n",
       "5569          10  \n",
       "5570          26  \n",
       "5571           6  \n",
       "\n",
       "[5572 rows x 5 columns]"
      ]
     },
     "execution_count": 25,
     "metadata": {},
     "output_type": "execute_result"
    }
   ],
   "source": [
    "data['Word_Count']: pd.Series = data['Message'].str.split().str.len()\n",
    "data"
   ]
  },
  {
   "cell_type": "code",
   "execution_count": 26,
   "id": "a91f23ca",
   "metadata": {
    "ExecuteTime": {
     "end_time": "2021-05-28T07:24:16.160857Z",
     "start_time": "2021-05-28T07:24:15.862282Z"
    }
   },
   "outputs": [
    {
     "data": {
      "image/png": "[encoded data removed]",
      "text/plain": [
       "<Figure size 1080x576 with 1 Axes>"
      ]
     },
     "metadata": {},
     "output_type": "display_data"
    }
   ],
   "source": [
    "plt.figure(figsize=(15, 8))\n",
    "hams_length: pd.DataFrame = data[data['IsSpam'] == 0][['IsSpam', 'Word_Count']]\n",
    "spam_length: pd.DataFrame = data[data['IsSpam'] == 1][['IsSpam', 'Word_Count']]\n",
    "plt.title('Distribution of SMS Message word count between Spam vs. Ham ')\n",
    "ax = sns.distplot(hams_length, hist = False, label = 'Ham')\n",
    "ax = sns.distplot(spam_length, hist = False, label = 'Spam')\n",
    "plt.xlim(0, 100)\n",
    "plt.legend()\n",
    "sns.set(font_scale=1.3)\n",
    "ax.set_ylabel('Distribution')\n",
    "ax.set_xlabel('Length of SMS');"
   ]
  },
  {
   "cell_type": "markdown",
   "id": "1ace8361",
   "metadata": {},
   "source": [
    "Observam ca graficul arata similar cu graficul prezentat mai sus."
   ]
  },
  {
   "cell_type": "code",
   "execution_count": 27,
   "id": "cae45d96",
   "metadata": {
    "ExecuteTime": {
     "end_time": "2021-05-28T07:24:19.485741Z",
     "start_time": "2021-05-28T07:24:19.463799Z"
    }
   },
   "outputs": [
    {
     "data": {
      "text/plain": [
       "count    5572.000000\n",
       "mean       80.489950\n",
       "std        59.942907\n",
       "min         2.000000\n",
       "25%        36.000000\n",
       "50%        62.000000\n",
       "75%       122.000000\n",
       "max       910.000000\n",
       "Name: Length, dtype: float64"
      ]
     },
     "execution_count": 27,
     "metadata": {},
     "output_type": "execute_result"
    }
   ],
   "source": [
    "data.Length.describe()"
   ]
  },
  {
   "cell_type": "code",
   "execution_count": 28,
   "id": "3b99c48f",
   "metadata": {
    "ExecuteTime": {
     "end_time": "2021-05-28T07:24:20.533966Z",
     "start_time": "2021-05-28T07:24:20.520977Z"
    }
   },
   "outputs": [
    {
     "data": {
      "text/plain": [
       "count    5572.000000\n",
       "mean       15.597452\n",
       "std        11.404053\n",
       "min         1.000000\n",
       "25%         7.000000\n",
       "50%        12.000000\n",
       "75%        23.000000\n",
       "max       171.000000\n",
       "Name: Word_Count, dtype: float64"
      ]
     },
     "execution_count": 28,
     "metadata": {},
     "output_type": "execute_result"
    }
   ],
   "source": [
    "data.Word_Count.describe()"
   ]
  },
  {
   "cell_type": "code",
   "execution_count": 29,
   "id": "f305b092",
   "metadata": {
    "ExecuteTime": {
     "end_time": "2021-05-28T07:24:22.065273Z",
     "start_time": "2021-05-28T07:24:21.903690Z"
    }
   },
   "outputs": [
    {
     "data": {
      "image/png": "[encoded data removed]",
      "text/plain": [
       "<Figure size 432x288 with 1 Axes>"
      ]
     },
     "metadata": {},
     "output_type": "display_data"
    }
   ],
   "source": [
    "sns.scatterplot(x='Word_Count', y='Length', data=data);"
   ]
  },
  {
   "cell_type": "markdown",
   "id": "b7cd6a68",
   "metadata": {},
   "source": [
    "Observam ca numarul de caractere este similar cu numarul de cuvinte din mesaje cu o relatie aproape liniara.\n",
    "\n",
    "Pentru a evita probleme de coliniaritate, este mai bine daca folosim doar una din cele 2 trasaturi. In consecinta, vom sterge coloana 'Word_Count' din dataframe."
   ]
  },
  {
   "cell_type": "code",
   "execution_count": 30,
   "id": "7ab2f1d9",
   "metadata": {
    "ExecuteTime": {
     "end_time": "2021-05-28T07:24:27.175751Z",
     "start_time": "2021-05-28T07:24:27.164779Z"
    }
   },
   "outputs": [
    {
     "data": {
      "text/html": [
       "<div>\n",
       "<style scoped>\n",
       "    .dataframe tbody tr th:only-of-type {\n",
       "        vertical-align: middle;\n",
       "    }\n",
       "\n",
       "    .dataframe tbody tr th {\n",
       "        vertical-align: top;\n",
       "    }\n",
       "\n",
       "    .dataframe thead th {\n",
       "        text-align: right;\n",
       "    }\n",
       "</style>\n",
       "<table border=\"1\" class=\"dataframe\">\n",
       "  <thead>\n",
       "    <tr style=\"text-align: right;\">\n",
       "      <th></th>\n",
       "      <th>Class</th>\n",
       "      <th>Message</th>\n",
       "      <th>IsSpam</th>\n",
       "      <th>Length</th>\n",
       "    </tr>\n",
       "  </thead>\n",
       "  <tbody>\n",
       "    <tr>\n",
       "      <th>0</th>\n",
       "      <td>ham</td>\n",
       "      <td>go until jurong point, crazy.. available only ...</td>\n",
       "      <td>0</td>\n",
       "      <td>111</td>\n",
       "    </tr>\n",
       "    <tr>\n",
       "      <th>1</th>\n",
       "      <td>ham</td>\n",
       "      <td>ok lar... joking wif u oni...</td>\n",
       "      <td>0</td>\n",
       "      <td>29</td>\n",
       "    </tr>\n",
       "    <tr>\n",
       "      <th>2</th>\n",
       "      <td>spam</td>\n",
       "      <td>free entry in 2 a wkly comp to win fa cup fina...</td>\n",
       "      <td>1</td>\n",
       "      <td>155</td>\n",
       "    </tr>\n",
       "    <tr>\n",
       "      <th>3</th>\n",
       "      <td>ham</td>\n",
       "      <td>u dun say so early hor... u c already then say...</td>\n",
       "      <td>0</td>\n",
       "      <td>49</td>\n",
       "    </tr>\n",
       "    <tr>\n",
       "      <th>4</th>\n",
       "      <td>ham</td>\n",
       "      <td>nah i don't think he goes to usf, he lives aro...</td>\n",
       "      <td>0</td>\n",
       "      <td>61</td>\n",
       "    </tr>\n",
       "    <tr>\n",
       "      <th>...</th>\n",
       "      <td>...</td>\n",
       "      <td>...</td>\n",
       "      <td>...</td>\n",
       "      <td>...</td>\n",
       "    </tr>\n",
       "    <tr>\n",
       "      <th>5567</th>\n",
       "      <td>spam</td>\n",
       "      <td>this is the 2nd time we have tried 2 contact u...</td>\n",
       "      <td>1</td>\n",
       "      <td>160</td>\n",
       "    </tr>\n",
       "    <tr>\n",
       "      <th>5568</th>\n",
       "      <td>ham</td>\n",
       "      <td>will ü b going to esplanade fr home?</td>\n",
       "      <td>0</td>\n",
       "      <td>36</td>\n",
       "    </tr>\n",
       "    <tr>\n",
       "      <th>5569</th>\n",
       "      <td>ham</td>\n",
       "      <td>pity, * was in mood for that. so...any other s...</td>\n",
       "      <td>0</td>\n",
       "      <td>57</td>\n",
       "    </tr>\n",
       "    <tr>\n",
       "      <th>5570</th>\n",
       "      <td>ham</td>\n",
       "      <td>the guy did some bitching but i acted like i'd...</td>\n",
       "      <td>0</td>\n",
       "      <td>125</td>\n",
       "    </tr>\n",
       "    <tr>\n",
       "      <th>5571</th>\n",
       "      <td>ham</td>\n",
       "      <td>rofl. its true to its name</td>\n",
       "      <td>0</td>\n",
       "      <td>26</td>\n",
       "    </tr>\n",
       "  </tbody>\n",
       "</table>\n",
       "<p>5572 rows × 4 columns</p>\n",
       "</div>"
      ],
      "text/plain": [
       "     Class                                            Message  IsSpam  Length\n",
       "0      ham  go until jurong point, crazy.. available only ...       0     111\n",
       "1      ham                      ok lar... joking wif u oni...       0      29\n",
       "2     spam  free entry in 2 a wkly comp to win fa cup fina...       1     155\n",
       "3      ham  u dun say so early hor... u c already then say...       0      49\n",
       "4      ham  nah i don't think he goes to usf, he lives aro...       0      61\n",
       "...    ...                                                ...     ...     ...\n",
       "5567  spam  this is the 2nd time we have tried 2 contact u...       1     160\n",
       "5568   ham               will ü b going to esplanade fr home?       0      36\n",
       "5569   ham  pity, * was in mood for that. so...any other s...       0      57\n",
       "5570   ham  the guy did some bitching but i acted like i'd...       0     125\n",
       "5571   ham                         rofl. its true to its name       0      26\n",
       "\n",
       "[5572 rows x 4 columns]"
      ]
     },
     "execution_count": 30,
     "metadata": {},
     "output_type": "execute_result"
    }
   ],
   "source": [
    "data: pd.DataFrame = data.drop('Word_Count', axis = 1).reset_index(drop=True)\n",
    "data"
   ]
  },
  {
   "cell_type": "markdown",
   "id": "b1442d6b",
   "metadata": {},
   "source": [
    "Vom vedea acum care sunt cuvintele care apar cel mai des in functie de tipul de mesaj."
   ]
  },
  {
   "cell_type": "code",
   "execution_count": 31,
   "id": "f4849626",
   "metadata": {
    "ExecuteTime": {
     "end_time": "2021-05-28T07:25:10.424552Z",
     "start_time": "2021-05-28T07:24:52.550985Z"
    }
   },
   "outputs": [],
   "source": [
    "spam_dictionary: Dict = {}\n",
    "ham_dictionary: Dict = {}\n",
    "\n",
    "def word_count(word: str, dictionary: Dict):\n",
    "    '''\n",
    "    Function to count how often a word appears in a dictionary.\n",
    "    :param word: string that represents current word\n",
    "    :param dictionary: dictionary with keys of type string and values of type int that contains number of occurences of :param word\n",
    "    :returns None:\n",
    "    '''\n",
    "    #cuvinte care vor fi sterse\n",
    "    remove_words: List[str] = list(stopwords.words('english')) + ['u', 'ur', '2', '4', 'ü']\n",
    "    #stergerea semnelor de punctuatie\n",
    "    no_punct: List[str] = []\n",
    "    for char in word:\n",
    "        if char not in string.punctuation:\n",
    "            no_punct.append(char)\n",
    "    punctless: str = ''.join(no_punct)\n",
    "    #stergerea stopword-urilor\n",
    "    if punctless not in remove_words and punctless != '':\n",
    "        if punctless in dictionary:\n",
    "            dictionary[punctless] += 1\n",
    "        else:\n",
    "            dictionary[punctless] = 1\n",
    "\n",
    "ham_list: List[str] = ' '.join(data[data['IsSpam'] == 0]['Message'].tolist()).split()\n",
    "spam_list: List[str] = ' '.join(data[data['IsSpam'] == 1]['Message'].tolist()).split()\n",
    "    \n",
    "for text in ham_list:\n",
    "    word_count(text, ham_dictionary)\n",
    "\n",
    "for text in spam_list:\n",
    "    word_count(text, spam_dictionary)"
   ]
  },
  {
   "cell_type": "markdown",
   "id": "c9ce38d7",
   "metadata": {},
   "source": [
    "Vom creea DataFrame-uri pentru numarul de cuvinte si vom selecta cele mai frecvente 10 cuvinte"
   ]
  },
  {
   "cell_type": "code",
   "execution_count": 32,
   "id": "6c5af2ea",
   "metadata": {
    "ExecuteTime": {
     "end_time": "2021-05-28T07:25:32.267404Z",
     "start_time": "2021-05-28T07:25:32.243437Z"
    }
   },
   "outputs": [],
   "source": [
    "spam_count: pd.DataFrame = pd.DataFrame(list(spam_dictionary.items()), columns = ['word', 'count']).sort_values(by = 'count', ascending = False).iloc[:10]\n",
    "ham_count: pd.DataFrame = pd.DataFrame(list(ham_dictionary.items()), columns = ['word', 'count']).sort_values(by = 'count', ascending = False).iloc[:10]"
   ]
  },
  {
   "cell_type": "markdown",
   "id": "36204901",
   "metadata": {},
   "source": [
    "Cele mai frecvente cuvinte din SMS-urile `legitime`:"
   ]
  },
  {
   "cell_type": "code",
   "execution_count": 33,
   "id": "5416e0de",
   "metadata": {
    "ExecuteTime": {
     "end_time": "2021-05-28T07:25:34.346573Z",
     "start_time": "2021-05-28T07:25:34.329586Z"
    }
   },
   "outputs": [
    {
     "data": {
      "text/html": [
       "<div>\n",
       "<style scoped>\n",
       "    .dataframe tbody tr th:only-of-type {\n",
       "        vertical-align: middle;\n",
       "    }\n",
       "\n",
       "    .dataframe tbody tr th {\n",
       "        vertical-align: top;\n",
       "    }\n",
       "\n",
       "    .dataframe thead th {\n",
       "        text-align: right;\n",
       "    }\n",
       "</style>\n",
       "<table border=\"1\" class=\"dataframe\">\n",
       "  <thead>\n",
       "    <tr style=\"text-align: right;\">\n",
       "      <th></th>\n",
       "      <th>word</th>\n",
       "    </tr>\n",
       "  </thead>\n",
       "  <tbody>\n",
       "    <tr>\n",
       "      <th>0</th>\n",
       "      <td>im</td>\n",
       "    </tr>\n",
       "    <tr>\n",
       "      <th>1</th>\n",
       "      <td>get</td>\n",
       "    </tr>\n",
       "    <tr>\n",
       "      <th>2</th>\n",
       "      <td>ltgt</td>\n",
       "    </tr>\n",
       "    <tr>\n",
       "      <th>3</th>\n",
       "      <td>ok</td>\n",
       "    </tr>\n",
       "    <tr>\n",
       "      <th>4</th>\n",
       "      <td>dont</td>\n",
       "    </tr>\n",
       "    <tr>\n",
       "      <th>5</th>\n",
       "      <td>go</td>\n",
       "    </tr>\n",
       "    <tr>\n",
       "      <th>6</th>\n",
       "      <td>ill</td>\n",
       "    </tr>\n",
       "    <tr>\n",
       "      <th>7</th>\n",
       "      <td>got</td>\n",
       "    </tr>\n",
       "    <tr>\n",
       "      <th>8</th>\n",
       "      <td>know</td>\n",
       "    </tr>\n",
       "    <tr>\n",
       "      <th>9</th>\n",
       "      <td>call</td>\n",
       "    </tr>\n",
       "  </tbody>\n",
       "</table>\n",
       "</div>"
      ],
      "text/plain": [
       "   word\n",
       "0    im\n",
       "1   get\n",
       "2  ltgt\n",
       "3    ok\n",
       "4  dont\n",
       "5    go\n",
       "6   ill\n",
       "7   got\n",
       "8  know\n",
       "9  call"
      ]
     },
     "execution_count": 33,
     "metadata": {},
     "output_type": "execute_result"
    }
   ],
   "source": [
    "ham_count[['word']].reset_index(drop=True)"
   ]
  },
  {
   "cell_type": "markdown",
   "id": "0b930e1d",
   "metadata": {},
   "source": [
    "Cele mai frecvente cuvinte din SMS-urile de tip spam:"
   ]
  },
  {
   "cell_type": "code",
   "execution_count": 34,
   "id": "f58dfdf6",
   "metadata": {
    "ExecuteTime": {
     "end_time": "2021-05-28T07:25:35.768411Z",
     "start_time": "2021-05-28T07:25:35.747836Z"
    }
   },
   "outputs": [
    {
     "data": {
      "text/html": [
       "<div>\n",
       "<style scoped>\n",
       "    .dataframe tbody tr th:only-of-type {\n",
       "        vertical-align: middle;\n",
       "    }\n",
       "\n",
       "    .dataframe tbody tr th {\n",
       "        vertical-align: top;\n",
       "    }\n",
       "\n",
       "    .dataframe thead th {\n",
       "        text-align: right;\n",
       "    }\n",
       "</style>\n",
       "<table border=\"1\" class=\"dataframe\">\n",
       "  <thead>\n",
       "    <tr style=\"text-align: right;\">\n",
       "      <th></th>\n",
       "      <th>word</th>\n",
       "    </tr>\n",
       "  </thead>\n",
       "  <tbody>\n",
       "    <tr>\n",
       "      <th>0</th>\n",
       "      <td>call</td>\n",
       "    </tr>\n",
       "    <tr>\n",
       "      <th>1</th>\n",
       "      <td>free</td>\n",
       "    </tr>\n",
       "    <tr>\n",
       "      <th>2</th>\n",
       "      <td>txt</td>\n",
       "    </tr>\n",
       "    <tr>\n",
       "      <th>3</th>\n",
       "      <td>mobile</td>\n",
       "    </tr>\n",
       "    <tr>\n",
       "      <th>4</th>\n",
       "      <td>text</td>\n",
       "    </tr>\n",
       "    <tr>\n",
       "      <th>5</th>\n",
       "      <td>stop</td>\n",
       "    </tr>\n",
       "    <tr>\n",
       "      <th>6</th>\n",
       "      <td>claim</td>\n",
       "    </tr>\n",
       "    <tr>\n",
       "      <th>7</th>\n",
       "      <td>reply</td>\n",
       "    </tr>\n",
       "    <tr>\n",
       "      <th>8</th>\n",
       "      <td>prize</td>\n",
       "    </tr>\n",
       "    <tr>\n",
       "      <th>9</th>\n",
       "      <td>get</td>\n",
       "    </tr>\n",
       "  </tbody>\n",
       "</table>\n",
       "</div>"
      ],
      "text/plain": [
       "     word\n",
       "0    call\n",
       "1    free\n",
       "2     txt\n",
       "3  mobile\n",
       "4    text\n",
       "5    stop\n",
       "6   claim\n",
       "7   reply\n",
       "8   prize\n",
       "9     get"
      ]
     },
     "execution_count": 34,
     "metadata": {},
     "output_type": "execute_result"
    }
   ],
   "source": [
    "spam_count[['word']].reset_index(drop=True)"
   ]
  },
  {
   "cell_type": "markdown",
   "id": "56a4338e",
   "metadata": {},
   "source": [
    "**Observatie** Desi am calculat numarul de aparitii al fiecarui cuvant, acestea nu pot fi utilizate pentru comparatie, deoarece este o diferenta intre numarul de mesaje de tip spam si numarul de mesaje legitime din setul de date. Sunt mult mai multe mesaje legitime decat mesaje de tip spam."
   ]
  },
  {
   "cell_type": "markdown",
   "id": "30bab795",
   "metadata": {},
   "source": [
    "### Curatarea setului de date"
   ]
  },
  {
   "cell_type": "markdown",
   "id": "5aecb675",
   "metadata": {},
   "source": [
    "Inainte de vectorizarea datelor, este bine sa facem anumite operatii pe aceste date."
   ]
  },
  {
   "cell_type": "code",
   "execution_count": 35,
   "id": "5ee86862",
   "metadata": {
    "ExecuteTime": {
     "end_time": "2021-05-28T07:26:58.519231Z",
     "start_time": "2021-05-28T07:26:57.186537Z"
    }
   },
   "outputs": [],
   "source": [
    "def text_cleaning(word: str) -> str:\n",
    "    '''\n",
    "    Function to remove unwanted words/punctuation signs\n",
    "    :param word: string that represents current message\n",
    "    :returns: the message text without stopwords and punctuation signs\n",
    "    '''\n",
    "    #cuvinte care vor fi sterse\n",
    "    remove_words: List[str] = list(stopwords.words('english')) + ['u', 'ur', '2', '4', 'ü']\n",
    "    \n",
    "    #stergerea semnelor de punctuatie\n",
    "    no_punct: List[str] = []\n",
    "    for char in word:\n",
    "        if char not in string.punctuation:\n",
    "            no_punct.append(char)\n",
    "    punctless = ''.join(no_punct)\n",
    "    \n",
    "    #returnam mesajul curat\n",
    "    return ' '.join([text for text in punctless.split() if text not in remove_words])\n",
    "\n",
    "data['Cleaned_Message'] = data['Message'].apply(text_cleaning)"
   ]
  },
  {
   "cell_type": "code",
   "execution_count": 36,
   "id": "6e520557",
   "metadata": {
    "ExecuteTime": {
     "end_time": "2021-05-28T07:27:03.222693Z",
     "start_time": "2021-05-28T07:27:03.209224Z"
    }
   },
   "outputs": [
    {
     "data": {
      "text/html": [
       "<div>\n",
       "<style scoped>\n",
       "    .dataframe tbody tr th:only-of-type {\n",
       "        vertical-align: middle;\n",
       "    }\n",
       "\n",
       "    .dataframe tbody tr th {\n",
       "        vertical-align: top;\n",
       "    }\n",
       "\n",
       "    .dataframe thead th {\n",
       "        text-align: right;\n",
       "    }\n",
       "</style>\n",
       "<table border=\"1\" class=\"dataframe\">\n",
       "  <thead>\n",
       "    <tr style=\"text-align: right;\">\n",
       "      <th></th>\n",
       "      <th>Class</th>\n",
       "      <th>Message</th>\n",
       "      <th>IsSpam</th>\n",
       "      <th>Length</th>\n",
       "      <th>Cleaned_Message</th>\n",
       "    </tr>\n",
       "  </thead>\n",
       "  <tbody>\n",
       "    <tr>\n",
       "      <th>0</th>\n",
       "      <td>ham</td>\n",
       "      <td>go until jurong point, crazy.. available only ...</td>\n",
       "      <td>0</td>\n",
       "      <td>111</td>\n",
       "      <td>go jurong point crazy available bugis n great ...</td>\n",
       "    </tr>\n",
       "    <tr>\n",
       "      <th>1</th>\n",
       "      <td>ham</td>\n",
       "      <td>ok lar... joking wif u oni...</td>\n",
       "      <td>0</td>\n",
       "      <td>29</td>\n",
       "      <td>ok lar joking wif oni</td>\n",
       "    </tr>\n",
       "    <tr>\n",
       "      <th>2</th>\n",
       "      <td>spam</td>\n",
       "      <td>free entry in 2 a wkly comp to win fa cup fina...</td>\n",
       "      <td>1</td>\n",
       "      <td>155</td>\n",
       "      <td>free entry wkly comp win fa cup final tkts 21s...</td>\n",
       "    </tr>\n",
       "    <tr>\n",
       "      <th>3</th>\n",
       "      <td>ham</td>\n",
       "      <td>u dun say so early hor... u c already then say...</td>\n",
       "      <td>0</td>\n",
       "      <td>49</td>\n",
       "      <td>dun say early hor c already say</td>\n",
       "    </tr>\n",
       "    <tr>\n",
       "      <th>4</th>\n",
       "      <td>ham</td>\n",
       "      <td>nah i don't think he goes to usf, he lives aro...</td>\n",
       "      <td>0</td>\n",
       "      <td>61</td>\n",
       "      <td>nah dont think goes usf lives around though</td>\n",
       "    </tr>\n",
       "  </tbody>\n",
       "</table>\n",
       "</div>"
      ],
      "text/plain": [
       "  Class                                            Message  IsSpam  Length  \\\n",
       "0   ham  go until jurong point, crazy.. available only ...       0     111   \n",
       "1   ham                      ok lar... joking wif u oni...       0      29   \n",
       "2  spam  free entry in 2 a wkly comp to win fa cup fina...       1     155   \n",
       "3   ham  u dun say so early hor... u c already then say...       0      49   \n",
       "4   ham  nah i don't think he goes to usf, he lives aro...       0      61   \n",
       "\n",
       "                                     Cleaned_Message  \n",
       "0  go jurong point crazy available bugis n great ...  \n",
       "1                              ok lar joking wif oni  \n",
       "2  free entry wkly comp win fa cup final tkts 21s...  \n",
       "3                    dun say early hor c already say  \n",
       "4        nah dont think goes usf lives around though  "
      ]
     },
     "execution_count": 36,
     "metadata": {},
     "output_type": "execute_result"
    }
   ],
   "source": [
    "data.head()"
   ]
  },
  {
   "cell_type": "markdown",
   "id": "10a91db6",
   "metadata": {},
   "source": [
    "Inlocuim mesajele initiale cu mesajele curatate"
   ]
  },
  {
   "cell_type": "code",
   "execution_count": 37,
   "id": "c062fb4a",
   "metadata": {
    "ExecuteTime": {
     "end_time": "2021-05-28T07:27:16.751454Z",
     "start_time": "2021-05-28T07:27:16.737944Z"
    }
   },
   "outputs": [
    {
     "data": {
      "text/html": [
       "<div>\n",
       "<style scoped>\n",
       "    .dataframe tbody tr th:only-of-type {\n",
       "        vertical-align: middle;\n",
       "    }\n",
       "\n",
       "    .dataframe tbody tr th {\n",
       "        vertical-align: top;\n",
       "    }\n",
       "\n",
       "    .dataframe thead th {\n",
       "        text-align: right;\n",
       "    }\n",
       "</style>\n",
       "<table border=\"1\" class=\"dataframe\">\n",
       "  <thead>\n",
       "    <tr style=\"text-align: right;\">\n",
       "      <th></th>\n",
       "      <th>Class</th>\n",
       "      <th>Message</th>\n",
       "      <th>IsSpam</th>\n",
       "      <th>Length</th>\n",
       "    </tr>\n",
       "  </thead>\n",
       "  <tbody>\n",
       "    <tr>\n",
       "      <th>0</th>\n",
       "      <td>ham</td>\n",
       "      <td>go jurong point crazy available bugis n great ...</td>\n",
       "      <td>0</td>\n",
       "      <td>111</td>\n",
       "    </tr>\n",
       "    <tr>\n",
       "      <th>1</th>\n",
       "      <td>ham</td>\n",
       "      <td>ok lar joking wif oni</td>\n",
       "      <td>0</td>\n",
       "      <td>29</td>\n",
       "    </tr>\n",
       "    <tr>\n",
       "      <th>2</th>\n",
       "      <td>spam</td>\n",
       "      <td>free entry wkly comp win fa cup final tkts 21s...</td>\n",
       "      <td>1</td>\n",
       "      <td>155</td>\n",
       "    </tr>\n",
       "    <tr>\n",
       "      <th>3</th>\n",
       "      <td>ham</td>\n",
       "      <td>dun say early hor c already say</td>\n",
       "      <td>0</td>\n",
       "      <td>49</td>\n",
       "    </tr>\n",
       "    <tr>\n",
       "      <th>4</th>\n",
       "      <td>ham</td>\n",
       "      <td>nah dont think goes usf lives around though</td>\n",
       "      <td>0</td>\n",
       "      <td>61</td>\n",
       "    </tr>\n",
       "  </tbody>\n",
       "</table>\n",
       "</div>"
      ],
      "text/plain": [
       "  Class                                            Message  IsSpam  Length\n",
       "0   ham  go jurong point crazy available bugis n great ...       0     111\n",
       "1   ham                              ok lar joking wif oni       0      29\n",
       "2  spam  free entry wkly comp win fa cup final tkts 21s...       1     155\n",
       "3   ham                    dun say early hor c already say       0      49\n",
       "4   ham        nah dont think goes usf lives around though       0      61"
      ]
     },
     "execution_count": 37,
     "metadata": {},
     "output_type": "execute_result"
    }
   ],
   "source": [
    "data['Message']: pd.Series = data['Cleaned_Message']\n",
    "data: pd.DataFrame = data.drop(columns = {'Cleaned_Message'})\n",
    "data.head()"
   ]
  },
  {
   "cell_type": "markdown",
   "id": "5adc69e6",
   "metadata": {},
   "source": [
    "### Bag of Words"
   ]
  },
  {
   "cell_type": "markdown",
   "id": "c0bb6cc9",
   "metadata": {},
   "source": [
    "Impartim setul de date in set de antrenare si de testare"
   ]
  },
  {
   "cell_type": "code",
   "execution_count": 40,
   "id": "653dc890",
   "metadata": {
    "ExecuteTime": {
     "end_time": "2021-05-28T07:27:51.620098Z",
     "start_time": "2021-05-28T07:27:51.595056Z"
    }
   },
   "outputs": [
    {
     "data": {
      "text/html": [
       "<div>\n",
       "<style scoped>\n",
       "    .dataframe tbody tr th:only-of-type {\n",
       "        vertical-align: middle;\n",
       "    }\n",
       "\n",
       "    .dataframe tbody tr th {\n",
       "        vertical-align: top;\n",
       "    }\n",
       "\n",
       "    .dataframe thead th {\n",
       "        text-align: right;\n",
       "    }\n",
       "</style>\n",
       "<table border=\"1\" class=\"dataframe\">\n",
       "  <thead>\n",
       "    <tr style=\"text-align: right;\">\n",
       "      <th></th>\n",
       "      <th>Class</th>\n",
       "      <th>Message</th>\n",
       "      <th>Length</th>\n",
       "    </tr>\n",
       "  </thead>\n",
       "  <tbody>\n",
       "    <tr>\n",
       "      <th>0</th>\n",
       "      <td>spam</td>\n",
       "      <td>500 new mobiles 2004 must go txt nokia 89545 c...</td>\n",
       "      <td>142</td>\n",
       "    </tr>\n",
       "    <tr>\n",
       "      <th>1</th>\n",
       "      <td>ham</td>\n",
       "      <td>ok msg b4 leave house</td>\n",
       "      <td>31</td>\n",
       "    </tr>\n",
       "    <tr>\n",
       "      <th>2</th>\n",
       "      <td>ham</td>\n",
       "      <td>lets go bill millers</td>\n",
       "      <td>30</td>\n",
       "    </tr>\n",
       "    <tr>\n",
       "      <th>3</th>\n",
       "      <td>ham</td>\n",
       "      <td>dont want hear anything</td>\n",
       "      <td>28</td>\n",
       "    </tr>\n",
       "    <tr>\n",
       "      <th>4</th>\n",
       "      <td>ham</td>\n",
       "      <td>dont file bagi work called mei tell find anyth...</td>\n",
       "      <td>118</td>\n",
       "    </tr>\n",
       "    <tr>\n",
       "      <th>...</th>\n",
       "      <td>...</td>\n",
       "      <td>...</td>\n",
       "      <td>...</td>\n",
       "    </tr>\n",
       "    <tr>\n",
       "      <th>3728</th>\n",
       "      <td>ham</td>\n",
       "      <td>day class class</td>\n",
       "      <td>35</td>\n",
       "    </tr>\n",
       "    <tr>\n",
       "      <th>3729</th>\n",
       "      <td>ham</td>\n",
       "      <td>time thinkin goin</td>\n",
       "      <td>30</td>\n",
       "    </tr>\n",
       "    <tr>\n",
       "      <th>3730</th>\n",
       "      <td>ham</td>\n",
       "      <td>crazy ar hes married like gd looking guys fren...</td>\n",
       "      <td>159</td>\n",
       "    </tr>\n",
       "    <tr>\n",
       "      <th>3731</th>\n",
       "      <td>ham</td>\n",
       "      <td>finally came fix ceiling</td>\n",
       "      <td>37</td>\n",
       "    </tr>\n",
       "    <tr>\n",
       "      <th>3732</th>\n",
       "      <td>ham</td>\n",
       "      <td>happy new year</td>\n",
       "      <td>24</td>\n",
       "    </tr>\n",
       "  </tbody>\n",
       "</table>\n",
       "<p>3733 rows × 3 columns</p>\n",
       "</div>"
      ],
      "text/plain": [
       "     Class                                            Message  Length\n",
       "0     spam  500 new mobiles 2004 must go txt nokia 89545 c...     142\n",
       "1      ham                              ok msg b4 leave house      31\n",
       "2      ham                               lets go bill millers      30\n",
       "3      ham                            dont want hear anything      28\n",
       "4      ham  dont file bagi work called mei tell find anyth...     118\n",
       "...    ...                                                ...     ...\n",
       "3728   ham                                    day class class      35\n",
       "3729   ham                                  time thinkin goin      30\n",
       "3730   ham  crazy ar hes married like gd looking guys fren...     159\n",
       "3731   ham                           finally came fix ceiling      37\n",
       "3732   ham                                     happy new year      24\n",
       "\n",
       "[3733 rows x 3 columns]"
      ]
     },
     "execution_count": 40,
     "metadata": {},
     "output_type": "execute_result"
    }
   ],
   "source": [
    "X_data: pd.DataFrame = data.drop(columns = ['IsSpam'])\n",
    "y_data: pd.Series = data['IsSpam']\n",
    "\n",
    "X_train, X_test, y_train, y_test = train_test_split(X_data, y_data, test_size=0.33, random_state=10)\n",
    "\n",
    "X_train.reset_index(drop=True, inplace=True)\n",
    "X_test.reset_index(drop=True, inplace=True)\n",
    "y_train.reset_index(drop=True, inplace=True)\n",
    "y_test.reset_index(drop=True, inplace=True)\n",
    "\n",
    "X_train"
   ]
  },
  {
   "cell_type": "code",
   "execution_count": 42,
   "id": "0ca92c4b",
   "metadata": {
    "ExecuteTime": {
     "end_time": "2021-05-28T07:28:11.924148Z",
     "start_time": "2021-05-28T07:28:11.916042Z"
    }
   },
   "outputs": [],
   "source": [
    "vectorizer: CountVectorizer = CountVectorizer()"
   ]
  },
  {
   "cell_type": "markdown",
   "id": "251b1507",
   "metadata": {},
   "source": [
    "Vom crea un vocabular"
   ]
  },
  {
   "cell_type": "code",
   "execution_count": 43,
   "id": "ec6bcd29",
   "metadata": {
    "ExecuteTime": {
     "end_time": "2021-05-28T07:28:15.564685Z",
     "start_time": "2021-05-28T07:28:15.509832Z"
    }
   },
   "outputs": [
    {
     "data": {
      "text/plain": [
       "7483"
      ]
     },
     "execution_count": 43,
     "metadata": {},
     "output_type": "execute_result"
    }
   ],
   "source": [
    "document_matrix: TfidfTransformer = vectorizer.fit(X_train['Message'])\n",
    "len(document_matrix.vocabulary_)"
   ]
  },
  {
   "cell_type": "markdown",
   "id": "45d20ee4",
   "metadata": {},
   "source": [
    "Testam CountVectorizer() pentru unul dintre SMS-uri"
   ]
  },
  {
   "cell_type": "code",
   "execution_count": 46,
   "id": "bdbb19b8",
   "metadata": {
    "ExecuteTime": {
     "end_time": "2021-05-28T07:28:43.926855Z",
     "start_time": "2021-05-28T07:28:43.907817Z"
    }
   },
   "outputs": [
    {
     "name": "stdout",
     "output_type": "stream",
     "text": [
      "  (0, 1462)\t1\n",
      "  (0, 1984)\t1\n",
      "  (0, 6228)\t1\n",
      "  (0, 6504)\t1\n",
      "  (0, 7106)\t1\n",
      "  (0, 7278)\t1\n"
     ]
    },
    {
     "data": {
      "text/plain": [
       "(1, 7483)"
      ]
     },
     "execution_count": 46,
     "metadata": {},
     "output_type": "execute_result"
    }
   ],
   "source": [
    "train_bow = vectorizer.transform([X_train['Message'][12]])\n",
    "print(train_bow)\n",
    "train_bow.shape"
   ]
  },
  {
   "cell_type": "markdown",
   "id": "18f4da68",
   "metadata": {},
   "source": [
    "Folosind `transform`, modelul nostru poate returna o matrice care numara aparitiile fiecarui cuvant. \n",
    "\n",
    "Se pare ca in mesajul nostru apar doar 6 cuvinte din totalul de 7483.\n",
    "\n",
    "Verificam ce cuvant corespunde numarului 6504:"
   ]
  },
  {
   "cell_type": "code",
   "execution_count": 47,
   "id": "04c4826f",
   "metadata": {
    "ExecuteTime": {
     "end_time": "2021-05-28T07:28:46.600317Z",
     "start_time": "2021-05-28T07:28:46.592334Z"
    }
   },
   "outputs": [
    {
     "name": "stdout",
     "output_type": "stream",
     "text": [
      "text\n"
     ]
    }
   ],
   "source": [
    "print(vectorizer.get_feature_names()[6504])"
   ]
  },
  {
   "cell_type": "markdown",
   "id": "a4930798",
   "metadata": {},
   "source": [
    "Verificam si daca mesajul contine cuvantul de mai sus:"
   ]
  },
  {
   "cell_type": "code",
   "execution_count": 48,
   "id": "90f3afb3",
   "metadata": {
    "ExecuteTime": {
     "end_time": "2021-05-28T07:28:48.184660Z",
     "start_time": "2021-05-28T07:28:48.174714Z"
    }
   },
   "outputs": [
    {
     "data": {
      "text/plain": [
       "'text way cup stop work bus'"
      ]
     },
     "execution_count": 48,
     "metadata": {},
     "output_type": "execute_result"
    }
   ],
   "source": [
    "X_train['Message'][12]"
   ]
  },
  {
   "cell_type": "markdown",
   "id": "92cf1592",
   "metadata": {},
   "source": [
    "Aplicam `CountVectorizer()` pe tot setul de date"
   ]
  },
  {
   "cell_type": "code",
   "execution_count": 49,
   "id": "4930a3c8",
   "metadata": {
    "ExecuteTime": {
     "end_time": "2021-05-28T07:28:50.737195Z",
     "start_time": "2021-05-28T07:28:50.693313Z"
    }
   },
   "outputs": [],
   "source": [
    "train_count = vectorizer.transform(X_train['Message'])"
   ]
  },
  {
   "cell_type": "code",
   "execution_count": 50,
   "id": "56e3feca",
   "metadata": {
    "ExecuteTime": {
     "end_time": "2021-05-28T07:28:52.691246Z",
     "start_time": "2021-05-28T07:28:52.674292Z"
    }
   },
   "outputs": [
    {
     "name": "stdout",
     "output_type": "stream",
     "text": [
      "Shape of matrix: (3733, 7483)\n",
      "Amount of Non-Zero occurences: 31638\n"
     ]
    }
   ],
   "source": [
    "print(f'Shape of matrix: {train_count.shape}')\n",
    "print(f'Amount of Non-Zero occurences: {train_count.nnz}')"
   ]
  },
  {
   "cell_type": "markdown",
   "id": "d56bf868",
   "metadata": {},
   "source": [
    "Returnam matricea Hot-one-encoded"
   ]
  },
  {
   "cell_type": "code",
   "execution_count": 51,
   "id": "734a3b64",
   "metadata": {
    "ExecuteTime": {
     "end_time": "2021-05-28T07:28:59.111870Z",
     "start_time": "2021-05-28T07:28:59.045496Z"
    }
   },
   "outputs": [
    {
     "data": {
      "text/html": [
       "<div>\n",
       "<style scoped>\n",
       "    .dataframe tbody tr th:only-of-type {\n",
       "        vertical-align: middle;\n",
       "    }\n",
       "\n",
       "    .dataframe tbody tr th {\n",
       "        vertical-align: top;\n",
       "    }\n",
       "\n",
       "    .dataframe thead th {\n",
       "        text-align: right;\n",
       "    }\n",
       "</style>\n",
       "<table border=\"1\" class=\"dataframe\">\n",
       "  <thead>\n",
       "    <tr style=\"text-align: right;\">\n",
       "      <th></th>\n",
       "      <th>008704050406</th>\n",
       "      <th>0089my</th>\n",
       "      <th>0121</th>\n",
       "      <th>01223585334</th>\n",
       "      <th>020603</th>\n",
       "      <th>0207</th>\n",
       "      <th>02070836089</th>\n",
       "      <th>02085076972</th>\n",
       "      <th>020903</th>\n",
       "      <th>021</th>\n",
       "      <th>...</th>\n",
       "      <th>yupz</th>\n",
       "      <th>ywhere</th>\n",
       "      <th>zac</th>\n",
       "      <th>zahers</th>\n",
       "      <th>zealand</th>\n",
       "      <th>zed</th>\n",
       "      <th>zoe</th>\n",
       "      <th>zogtorius</th>\n",
       "      <th>üll</th>\n",
       "      <th>〨ud</th>\n",
       "    </tr>\n",
       "  </thead>\n",
       "  <tbody>\n",
       "    <tr>\n",
       "      <th>0</th>\n",
       "      <td>0</td>\n",
       "      <td>0</td>\n",
       "      <td>0</td>\n",
       "      <td>0</td>\n",
       "      <td>0</td>\n",
       "      <td>0</td>\n",
       "      <td>0</td>\n",
       "      <td>0</td>\n",
       "      <td>0</td>\n",
       "      <td>0</td>\n",
       "      <td>...</td>\n",
       "      <td>0</td>\n",
       "      <td>0</td>\n",
       "      <td>0</td>\n",
       "      <td>0</td>\n",
       "      <td>0</td>\n",
       "      <td>0</td>\n",
       "      <td>0</td>\n",
       "      <td>0</td>\n",
       "      <td>0</td>\n",
       "      <td>0</td>\n",
       "    </tr>\n",
       "    <tr>\n",
       "      <th>1</th>\n",
       "      <td>0</td>\n",
       "      <td>0</td>\n",
       "      <td>0</td>\n",
       "      <td>0</td>\n",
       "      <td>0</td>\n",
       "      <td>0</td>\n",
       "      <td>0</td>\n",
       "      <td>0</td>\n",
       "      <td>0</td>\n",
       "      <td>0</td>\n",
       "      <td>...</td>\n",
       "      <td>0</td>\n",
       "      <td>0</td>\n",
       "      <td>0</td>\n",
       "      <td>0</td>\n",
       "      <td>0</td>\n",
       "      <td>0</td>\n",
       "      <td>0</td>\n",
       "      <td>0</td>\n",
       "      <td>0</td>\n",
       "      <td>0</td>\n",
       "    </tr>\n",
       "    <tr>\n",
       "      <th>2</th>\n",
       "      <td>0</td>\n",
       "      <td>0</td>\n",
       "      <td>0</td>\n",
       "      <td>0</td>\n",
       "      <td>0</td>\n",
       "      <td>0</td>\n",
       "      <td>0</td>\n",
       "      <td>0</td>\n",
       "      <td>0</td>\n",
       "      <td>0</td>\n",
       "      <td>...</td>\n",
       "      <td>0</td>\n",
       "      <td>0</td>\n",
       "      <td>0</td>\n",
       "      <td>0</td>\n",
       "      <td>0</td>\n",
       "      <td>0</td>\n",
       "      <td>0</td>\n",
       "      <td>0</td>\n",
       "      <td>0</td>\n",
       "      <td>0</td>\n",
       "    </tr>\n",
       "    <tr>\n",
       "      <th>3</th>\n",
       "      <td>0</td>\n",
       "      <td>0</td>\n",
       "      <td>0</td>\n",
       "      <td>0</td>\n",
       "      <td>0</td>\n",
       "      <td>0</td>\n",
       "      <td>0</td>\n",
       "      <td>0</td>\n",
       "      <td>0</td>\n",
       "      <td>0</td>\n",
       "      <td>...</td>\n",
       "      <td>0</td>\n",
       "      <td>0</td>\n",
       "      <td>0</td>\n",
       "      <td>0</td>\n",
       "      <td>0</td>\n",
       "      <td>0</td>\n",
       "      <td>0</td>\n",
       "      <td>0</td>\n",
       "      <td>0</td>\n",
       "      <td>0</td>\n",
       "    </tr>\n",
       "    <tr>\n",
       "      <th>4</th>\n",
       "      <td>0</td>\n",
       "      <td>0</td>\n",
       "      <td>0</td>\n",
       "      <td>0</td>\n",
       "      <td>0</td>\n",
       "      <td>0</td>\n",
       "      <td>0</td>\n",
       "      <td>0</td>\n",
       "      <td>0</td>\n",
       "      <td>0</td>\n",
       "      <td>...</td>\n",
       "      <td>0</td>\n",
       "      <td>0</td>\n",
       "      <td>0</td>\n",
       "      <td>0</td>\n",
       "      <td>0</td>\n",
       "      <td>0</td>\n",
       "      <td>0</td>\n",
       "      <td>0</td>\n",
       "      <td>0</td>\n",
       "      <td>0</td>\n",
       "    </tr>\n",
       "    <tr>\n",
       "      <th>...</th>\n",
       "      <td>...</td>\n",
       "      <td>...</td>\n",
       "      <td>...</td>\n",
       "      <td>...</td>\n",
       "      <td>...</td>\n",
       "      <td>...</td>\n",
       "      <td>...</td>\n",
       "      <td>...</td>\n",
       "      <td>...</td>\n",
       "      <td>...</td>\n",
       "      <td>...</td>\n",
       "      <td>...</td>\n",
       "      <td>...</td>\n",
       "      <td>...</td>\n",
       "      <td>...</td>\n",
       "      <td>...</td>\n",
       "      <td>...</td>\n",
       "      <td>...</td>\n",
       "      <td>...</td>\n",
       "      <td>...</td>\n",
       "      <td>...</td>\n",
       "    </tr>\n",
       "    <tr>\n",
       "      <th>3728</th>\n",
       "      <td>0</td>\n",
       "      <td>0</td>\n",
       "      <td>0</td>\n",
       "      <td>0</td>\n",
       "      <td>0</td>\n",
       "      <td>0</td>\n",
       "      <td>0</td>\n",
       "      <td>0</td>\n",
       "      <td>0</td>\n",
       "      <td>0</td>\n",
       "      <td>...</td>\n",
       "      <td>0</td>\n",
       "      <td>0</td>\n",
       "      <td>0</td>\n",
       "      <td>0</td>\n",
       "      <td>0</td>\n",
       "      <td>0</td>\n",
       "      <td>0</td>\n",
       "      <td>0</td>\n",
       "      <td>0</td>\n",
       "      <td>0</td>\n",
       "    </tr>\n",
       "    <tr>\n",
       "      <th>3729</th>\n",
       "      <td>0</td>\n",
       "      <td>0</td>\n",
       "      <td>0</td>\n",
       "      <td>0</td>\n",
       "      <td>0</td>\n",
       "      <td>0</td>\n",
       "      <td>0</td>\n",
       "      <td>0</td>\n",
       "      <td>0</td>\n",
       "      <td>0</td>\n",
       "      <td>...</td>\n",
       "      <td>0</td>\n",
       "      <td>0</td>\n",
       "      <td>0</td>\n",
       "      <td>0</td>\n",
       "      <td>0</td>\n",
       "      <td>0</td>\n",
       "      <td>0</td>\n",
       "      <td>0</td>\n",
       "      <td>0</td>\n",
       "      <td>0</td>\n",
       "    </tr>\n",
       "    <tr>\n",
       "      <th>3730</th>\n",
       "      <td>0</td>\n",
       "      <td>0</td>\n",
       "      <td>0</td>\n",
       "      <td>0</td>\n",
       "      <td>0</td>\n",
       "      <td>0</td>\n",
       "      <td>0</td>\n",
       "      <td>0</td>\n",
       "      <td>0</td>\n",
       "      <td>0</td>\n",
       "      <td>...</td>\n",
       "      <td>0</td>\n",
       "      <td>0</td>\n",
       "      <td>0</td>\n",
       "      <td>0</td>\n",
       "      <td>0</td>\n",
       "      <td>0</td>\n",
       "      <td>0</td>\n",
       "      <td>0</td>\n",
       "      <td>0</td>\n",
       "      <td>0</td>\n",
       "    </tr>\n",
       "    <tr>\n",
       "      <th>3731</th>\n",
       "      <td>0</td>\n",
       "      <td>0</td>\n",
       "      <td>0</td>\n",
       "      <td>0</td>\n",
       "      <td>0</td>\n",
       "      <td>0</td>\n",
       "      <td>0</td>\n",
       "      <td>0</td>\n",
       "      <td>0</td>\n",
       "      <td>0</td>\n",
       "      <td>...</td>\n",
       "      <td>0</td>\n",
       "      <td>0</td>\n",
       "      <td>0</td>\n",
       "      <td>0</td>\n",
       "      <td>0</td>\n",
       "      <td>0</td>\n",
       "      <td>0</td>\n",
       "      <td>0</td>\n",
       "      <td>0</td>\n",
       "      <td>0</td>\n",
       "    </tr>\n",
       "    <tr>\n",
       "      <th>3732</th>\n",
       "      <td>0</td>\n",
       "      <td>0</td>\n",
       "      <td>0</td>\n",
       "      <td>0</td>\n",
       "      <td>0</td>\n",
       "      <td>0</td>\n",
       "      <td>0</td>\n",
       "      <td>0</td>\n",
       "      <td>0</td>\n",
       "      <td>0</td>\n",
       "      <td>...</td>\n",
       "      <td>0</td>\n",
       "      <td>0</td>\n",
       "      <td>0</td>\n",
       "      <td>0</td>\n",
       "      <td>0</td>\n",
       "      <td>0</td>\n",
       "      <td>0</td>\n",
       "      <td>0</td>\n",
       "      <td>0</td>\n",
       "      <td>0</td>\n",
       "    </tr>\n",
       "  </tbody>\n",
       "</table>\n",
       "<p>3733 rows × 7483 columns</p>\n",
       "</div>"
      ],
      "text/plain": [
       "      008704050406  0089my  0121  01223585334  020603  0207  02070836089  \\\n",
       "0                0       0     0            0       0     0            0   \n",
       "1                0       0     0            0       0     0            0   \n",
       "2                0       0     0            0       0     0            0   \n",
       "3                0       0     0            0       0     0            0   \n",
       "4                0       0     0            0       0     0            0   \n",
       "...            ...     ...   ...          ...     ...   ...          ...   \n",
       "3728             0       0     0            0       0     0            0   \n",
       "3729             0       0     0            0       0     0            0   \n",
       "3730             0       0     0            0       0     0            0   \n",
       "3731             0       0     0            0       0     0            0   \n",
       "3732             0       0     0            0       0     0            0   \n",
       "\n",
       "      02085076972  020903  021  ...  yupz  ywhere  zac  zahers  zealand  zed  \\\n",
       "0               0       0    0  ...     0       0    0       0        0    0   \n",
       "1               0       0    0  ...     0       0    0       0        0    0   \n",
       "2               0       0    0  ...     0       0    0       0        0    0   \n",
       "3               0       0    0  ...     0       0    0       0        0    0   \n",
       "4               0       0    0  ...     0       0    0       0        0    0   \n",
       "...           ...     ...  ...  ...   ...     ...  ...     ...      ...  ...   \n",
       "3728            0       0    0  ...     0       0    0       0        0    0   \n",
       "3729            0       0    0  ...     0       0    0       0        0    0   \n",
       "3730            0       0    0  ...     0       0    0       0        0    0   \n",
       "3731            0       0    0  ...     0       0    0       0        0    0   \n",
       "3732            0       0    0  ...     0       0    0       0        0    0   \n",
       "\n",
       "      zoe  zogtorius  üll  〨ud  \n",
       "0       0          0    0    0  \n",
       "1       0          0    0    0  \n",
       "2       0          0    0    0  \n",
       "3       0          0    0    0  \n",
       "4       0          0    0    0  \n",
       "...   ...        ...  ...  ...  \n",
       "3728    0          0    0    0  \n",
       "3729    0          0    0    0  \n",
       "3730    0          0    0    0  \n",
       "3731    0          0    0    0  \n",
       "3732    0          0    0    0  \n",
       "\n",
       "[3733 rows x 7483 columns]"
      ]
     },
     "execution_count": 51,
     "metadata": {},
     "output_type": "execute_result"
    }
   ],
   "source": [
    "bow_matrix: pd.DataFrame = pd.DataFrame(train_count.toarray(), columns=vectorizer.get_feature_names())\n",
    "bow_matrix"
   ]
  },
  {
   "cell_type": "markdown",
   "id": "dc2f4137",
   "metadata": {
    "ExecuteTime": {
     "end_time": "2021-05-25T15:25:54.101370Z",
     "start_time": "2021-05-25T15:25:54.043158Z"
    }
   },
   "source": [
    "### Term frequency-inverse document frequency (TFIDF)"
   ]
  },
  {
   "cell_type": "markdown",
   "id": "81a4236f",
   "metadata": {},
   "source": [
    "Desi vectorizarea a venit cu mult mai multe date, o problema este sistemul de weighting. Acum, o celula are valoare 0 sau 1, valori care reprezinta daca acel cuvant apare sau nu. Desi aceasta diferentiere binara este de ajutor, este posibil sa calculam weight-urile acestor valori bazandu-ne pe frecventa de aparitie a cuvantului. Vom folosi pentru acest calcul `TF-IDF`."
   ]
  },
  {
   "cell_type": "code",
   "execution_count": 52,
   "id": "9cfd233e",
   "metadata": {
    "ExecuteTime": {
     "end_time": "2021-05-28T07:29:09.873969Z",
     "start_time": "2021-05-28T07:29:09.854010Z"
    }
   },
   "outputs": [],
   "source": [
    "tfTransformer: TfidfTransformer = TfidfTransformer().fit(train_count)"
   ]
  },
  {
   "cell_type": "markdown",
   "id": "44d8cc00",
   "metadata": {},
   "source": [
    "Vom testa pe un mesaj pentru a observa output-ul. (Este acelasi mesaj de la testul de CountVectorizer)"
   ]
  },
  {
   "cell_type": "code",
   "execution_count": 54,
   "id": "ba2a6291",
   "metadata": {
    "ExecuteTime": {
     "end_time": "2021-05-28T07:29:27.081602Z",
     "start_time": "2021-05-28T07:29:27.070107Z"
    }
   },
   "outputs": [
    {
     "name": "stdout",
     "output_type": "stream",
     "text": [
      "  (0, 7278)\t0.364275244454683\n",
      "  (0, 7106)\t0.3674442878291312\n",
      "  (0, 6504)\t0.3391348218748505\n",
      "  (0, 6228)\t0.3452554297558748\n",
      "  (0, 1984)\t0.5343371949981742\n",
      "  (0, 1462)\t0.46104041523136147\n"
     ]
    }
   ],
   "source": [
    "tfidf_test = tfTransformer.transform(train_bow)\n",
    "print(tfidf_test)"
   ]
  },
  {
   "cell_type": "markdown",
   "id": "f57be370",
   "metadata": {},
   "source": [
    "Putem observa ca in locul valorilor de 0 sau 1, avem acum valori variate in functie de importanta cuvantului.\n",
    "\n",
    "Aplicam acum `TfidfTransformer` asupra intregului set de date."
   ]
  },
  {
   "cell_type": "code",
   "execution_count": 55,
   "id": "baefff22",
   "metadata": {
    "ExecuteTime": {
     "end_time": "2021-05-28T07:29:34.061976Z",
     "start_time": "2021-05-28T07:29:34.044011Z"
    }
   },
   "outputs": [],
   "source": [
    "train_tfidf = tfTransformer.transform(train_count)"
   ]
  },
  {
   "cell_type": "code",
   "execution_count": 56,
   "id": "d38ec7d3",
   "metadata": {
    "ExecuteTime": {
     "end_time": "2021-05-28T07:29:34.561000Z",
     "start_time": "2021-05-28T07:29:34.508129Z"
    }
   },
   "outputs": [
    {
     "data": {
      "text/html": [
       "<div>\n",
       "<style scoped>\n",
       "    .dataframe tbody tr th:only-of-type {\n",
       "        vertical-align: middle;\n",
       "    }\n",
       "\n",
       "    .dataframe tbody tr th {\n",
       "        vertical-align: top;\n",
       "    }\n",
       "\n",
       "    .dataframe thead th {\n",
       "        text-align: right;\n",
       "    }\n",
       "</style>\n",
       "<table border=\"1\" class=\"dataframe\">\n",
       "  <thead>\n",
       "    <tr style=\"text-align: right;\">\n",
       "      <th></th>\n",
       "      <th>008704050406</th>\n",
       "      <th>0089my</th>\n",
       "      <th>0121</th>\n",
       "      <th>01223585334</th>\n",
       "      <th>020603</th>\n",
       "      <th>0207</th>\n",
       "      <th>02070836089</th>\n",
       "      <th>02085076972</th>\n",
       "      <th>020903</th>\n",
       "      <th>021</th>\n",
       "      <th>...</th>\n",
       "      <th>yupz</th>\n",
       "      <th>ywhere</th>\n",
       "      <th>zac</th>\n",
       "      <th>zahers</th>\n",
       "      <th>zealand</th>\n",
       "      <th>zed</th>\n",
       "      <th>zoe</th>\n",
       "      <th>zogtorius</th>\n",
       "      <th>üll</th>\n",
       "      <th>〨ud</th>\n",
       "    </tr>\n",
       "  </thead>\n",
       "  <tbody>\n",
       "    <tr>\n",
       "      <th>0</th>\n",
       "      <td>0.0</td>\n",
       "      <td>0.0</td>\n",
       "      <td>0.0</td>\n",
       "      <td>0.0</td>\n",
       "      <td>0.0</td>\n",
       "      <td>0.0</td>\n",
       "      <td>0.0</td>\n",
       "      <td>0.0</td>\n",
       "      <td>0.0</td>\n",
       "      <td>0.0</td>\n",
       "      <td>...</td>\n",
       "      <td>0.0</td>\n",
       "      <td>0.0</td>\n",
       "      <td>0.0</td>\n",
       "      <td>0.0</td>\n",
       "      <td>0.0</td>\n",
       "      <td>0.0</td>\n",
       "      <td>0.0</td>\n",
       "      <td>0.0</td>\n",
       "      <td>0.0</td>\n",
       "      <td>0.0</td>\n",
       "    </tr>\n",
       "    <tr>\n",
       "      <th>1</th>\n",
       "      <td>0.0</td>\n",
       "      <td>0.0</td>\n",
       "      <td>0.0</td>\n",
       "      <td>0.0</td>\n",
       "      <td>0.0</td>\n",
       "      <td>0.0</td>\n",
       "      <td>0.0</td>\n",
       "      <td>0.0</td>\n",
       "      <td>0.0</td>\n",
       "      <td>0.0</td>\n",
       "      <td>...</td>\n",
       "      <td>0.0</td>\n",
       "      <td>0.0</td>\n",
       "      <td>0.0</td>\n",
       "      <td>0.0</td>\n",
       "      <td>0.0</td>\n",
       "      <td>0.0</td>\n",
       "      <td>0.0</td>\n",
       "      <td>0.0</td>\n",
       "      <td>0.0</td>\n",
       "      <td>0.0</td>\n",
       "    </tr>\n",
       "    <tr>\n",
       "      <th>2</th>\n",
       "      <td>0.0</td>\n",
       "      <td>0.0</td>\n",
       "      <td>0.0</td>\n",
       "      <td>0.0</td>\n",
       "      <td>0.0</td>\n",
       "      <td>0.0</td>\n",
       "      <td>0.0</td>\n",
       "      <td>0.0</td>\n",
       "      <td>0.0</td>\n",
       "      <td>0.0</td>\n",
       "      <td>...</td>\n",
       "      <td>0.0</td>\n",
       "      <td>0.0</td>\n",
       "      <td>0.0</td>\n",
       "      <td>0.0</td>\n",
       "      <td>0.0</td>\n",
       "      <td>0.0</td>\n",
       "      <td>0.0</td>\n",
       "      <td>0.0</td>\n",
       "      <td>0.0</td>\n",
       "      <td>0.0</td>\n",
       "    </tr>\n",
       "    <tr>\n",
       "      <th>3</th>\n",
       "      <td>0.0</td>\n",
       "      <td>0.0</td>\n",
       "      <td>0.0</td>\n",
       "      <td>0.0</td>\n",
       "      <td>0.0</td>\n",
       "      <td>0.0</td>\n",
       "      <td>0.0</td>\n",
       "      <td>0.0</td>\n",
       "      <td>0.0</td>\n",
       "      <td>0.0</td>\n",
       "      <td>...</td>\n",
       "      <td>0.0</td>\n",
       "      <td>0.0</td>\n",
       "      <td>0.0</td>\n",
       "      <td>0.0</td>\n",
       "      <td>0.0</td>\n",
       "      <td>0.0</td>\n",
       "      <td>0.0</td>\n",
       "      <td>0.0</td>\n",
       "      <td>0.0</td>\n",
       "      <td>0.0</td>\n",
       "    </tr>\n",
       "    <tr>\n",
       "      <th>4</th>\n",
       "      <td>0.0</td>\n",
       "      <td>0.0</td>\n",
       "      <td>0.0</td>\n",
       "      <td>0.0</td>\n",
       "      <td>0.0</td>\n",
       "      <td>0.0</td>\n",
       "      <td>0.0</td>\n",
       "      <td>0.0</td>\n",
       "      <td>0.0</td>\n",
       "      <td>0.0</td>\n",
       "      <td>...</td>\n",
       "      <td>0.0</td>\n",
       "      <td>0.0</td>\n",
       "      <td>0.0</td>\n",
       "      <td>0.0</td>\n",
       "      <td>0.0</td>\n",
       "      <td>0.0</td>\n",
       "      <td>0.0</td>\n",
       "      <td>0.0</td>\n",
       "      <td>0.0</td>\n",
       "      <td>0.0</td>\n",
       "    </tr>\n",
       "  </tbody>\n",
       "</table>\n",
       "<p>5 rows × 7483 columns</p>\n",
       "</div>"
      ],
      "text/plain": [
       "   008704050406  0089my  0121  01223585334  020603  0207  02070836089  \\\n",
       "0           0.0     0.0   0.0          0.0     0.0   0.0          0.0   \n",
       "1           0.0     0.0   0.0          0.0     0.0   0.0          0.0   \n",
       "2           0.0     0.0   0.0          0.0     0.0   0.0          0.0   \n",
       "3           0.0     0.0   0.0          0.0     0.0   0.0          0.0   \n",
       "4           0.0     0.0   0.0          0.0     0.0   0.0          0.0   \n",
       "\n",
       "   02085076972  020903  021  ...  yupz  ywhere  zac  zahers  zealand  zed  \\\n",
       "0          0.0     0.0  0.0  ...   0.0     0.0  0.0     0.0      0.0  0.0   \n",
       "1          0.0     0.0  0.0  ...   0.0     0.0  0.0     0.0      0.0  0.0   \n",
       "2          0.0     0.0  0.0  ...   0.0     0.0  0.0     0.0      0.0  0.0   \n",
       "3          0.0     0.0  0.0  ...   0.0     0.0  0.0     0.0      0.0  0.0   \n",
       "4          0.0     0.0  0.0  ...   0.0     0.0  0.0     0.0      0.0  0.0   \n",
       "\n",
       "   zoe  zogtorius  üll  〨ud  \n",
       "0  0.0        0.0  0.0  0.0  \n",
       "1  0.0        0.0  0.0  0.0  \n",
       "2  0.0        0.0  0.0  0.0  \n",
       "3  0.0        0.0  0.0  0.0  \n",
       "4  0.0        0.0  0.0  0.0  \n",
       "\n",
       "[5 rows x 7483 columns]"
      ]
     },
     "execution_count": 56,
     "metadata": {},
     "output_type": "execute_result"
    }
   ],
   "source": [
    "train_tfidf: pd.DataFrame = pd.DataFrame(train_tfidf.toarray(), columns=bow_matrix.columns)\n",
    "train_tfidf.head()"
   ]
  },
  {
   "cell_type": "markdown",
   "id": "ce1149f0",
   "metadata": {},
   "source": [
    "Vom uni acest dataframe cu cel initial, insa vom adauga un sufix pentru ca atat 'Class' cat si 'Message' sunt cuvinte care apar in mesajele noastre si trebuiesc diferentiate."
   ]
  },
  {
   "cell_type": "code",
   "execution_count": 57,
   "id": "f77bf628",
   "metadata": {
    "ExecuteTime": {
     "end_time": "2021-05-28T07:29:38.925154Z",
     "start_time": "2021-05-28T07:29:38.592032Z"
    }
   },
   "outputs": [
    {
     "data": {
      "text/html": [
       "<div>\n",
       "<style scoped>\n",
       "    .dataframe tbody tr th:only-of-type {\n",
       "        vertical-align: middle;\n",
       "    }\n",
       "\n",
       "    .dataframe tbody tr th {\n",
       "        vertical-align: top;\n",
       "    }\n",
       "\n",
       "    .dataframe thead th {\n",
       "        text-align: right;\n",
       "    }\n",
       "</style>\n",
       "<table border=\"1\" class=\"dataframe\">\n",
       "  <thead>\n",
       "    <tr style=\"text-align: right;\">\n",
       "      <th></th>\n",
       "      <th>Class</th>\n",
       "      <th>Message</th>\n",
       "      <th>Length</th>\n",
       "      <th>008704050406</th>\n",
       "      <th>0089my</th>\n",
       "      <th>0121</th>\n",
       "      <th>01223585334</th>\n",
       "      <th>020603</th>\n",
       "      <th>0207</th>\n",
       "      <th>02070836089</th>\n",
       "      <th>...</th>\n",
       "      <th>yupz</th>\n",
       "      <th>ywhere</th>\n",
       "      <th>zac</th>\n",
       "      <th>zahers</th>\n",
       "      <th>zealand</th>\n",
       "      <th>zed</th>\n",
       "      <th>zoe</th>\n",
       "      <th>zogtorius</th>\n",
       "      <th>üll</th>\n",
       "      <th>〨ud</th>\n",
       "    </tr>\n",
       "  </thead>\n",
       "  <tbody>\n",
       "    <tr>\n",
       "      <th>0</th>\n",
       "      <td>spam</td>\n",
       "      <td>500 new mobiles 2004 must go txt nokia 89545 c...</td>\n",
       "      <td>142</td>\n",
       "      <td>0.0</td>\n",
       "      <td>0.0</td>\n",
       "      <td>0.0</td>\n",
       "      <td>0.0</td>\n",
       "      <td>0.0</td>\n",
       "      <td>0.0</td>\n",
       "      <td>0.0</td>\n",
       "      <td>...</td>\n",
       "      <td>0.0</td>\n",
       "      <td>0.0</td>\n",
       "      <td>0.0</td>\n",
       "      <td>0.0</td>\n",
       "      <td>0.0</td>\n",
       "      <td>0.0</td>\n",
       "      <td>0.0</td>\n",
       "      <td>0.0</td>\n",
       "      <td>0.0</td>\n",
       "      <td>0.0</td>\n",
       "    </tr>\n",
       "    <tr>\n",
       "      <th>1</th>\n",
       "      <td>ham</td>\n",
       "      <td>ok msg b4 leave house</td>\n",
       "      <td>31</td>\n",
       "      <td>0.0</td>\n",
       "      <td>0.0</td>\n",
       "      <td>0.0</td>\n",
       "      <td>0.0</td>\n",
       "      <td>0.0</td>\n",
       "      <td>0.0</td>\n",
       "      <td>0.0</td>\n",
       "      <td>...</td>\n",
       "      <td>0.0</td>\n",
       "      <td>0.0</td>\n",
       "      <td>0.0</td>\n",
       "      <td>0.0</td>\n",
       "      <td>0.0</td>\n",
       "      <td>0.0</td>\n",
       "      <td>0.0</td>\n",
       "      <td>0.0</td>\n",
       "      <td>0.0</td>\n",
       "      <td>0.0</td>\n",
       "    </tr>\n",
       "    <tr>\n",
       "      <th>2</th>\n",
       "      <td>ham</td>\n",
       "      <td>lets go bill millers</td>\n",
       "      <td>30</td>\n",
       "      <td>0.0</td>\n",
       "      <td>0.0</td>\n",
       "      <td>0.0</td>\n",
       "      <td>0.0</td>\n",
       "      <td>0.0</td>\n",
       "      <td>0.0</td>\n",
       "      <td>0.0</td>\n",
       "      <td>...</td>\n",
       "      <td>0.0</td>\n",
       "      <td>0.0</td>\n",
       "      <td>0.0</td>\n",
       "      <td>0.0</td>\n",
       "      <td>0.0</td>\n",
       "      <td>0.0</td>\n",
       "      <td>0.0</td>\n",
       "      <td>0.0</td>\n",
       "      <td>0.0</td>\n",
       "      <td>0.0</td>\n",
       "    </tr>\n",
       "    <tr>\n",
       "      <th>3</th>\n",
       "      <td>ham</td>\n",
       "      <td>dont want hear anything</td>\n",
       "      <td>28</td>\n",
       "      <td>0.0</td>\n",
       "      <td>0.0</td>\n",
       "      <td>0.0</td>\n",
       "      <td>0.0</td>\n",
       "      <td>0.0</td>\n",
       "      <td>0.0</td>\n",
       "      <td>0.0</td>\n",
       "      <td>...</td>\n",
       "      <td>0.0</td>\n",
       "      <td>0.0</td>\n",
       "      <td>0.0</td>\n",
       "      <td>0.0</td>\n",
       "      <td>0.0</td>\n",
       "      <td>0.0</td>\n",
       "      <td>0.0</td>\n",
       "      <td>0.0</td>\n",
       "      <td>0.0</td>\n",
       "      <td>0.0</td>\n",
       "    </tr>\n",
       "    <tr>\n",
       "      <th>4</th>\n",
       "      <td>ham</td>\n",
       "      <td>dont file bagi work called mei tell find anyth...</td>\n",
       "      <td>118</td>\n",
       "      <td>0.0</td>\n",
       "      <td>0.0</td>\n",
       "      <td>0.0</td>\n",
       "      <td>0.0</td>\n",
       "      <td>0.0</td>\n",
       "      <td>0.0</td>\n",
       "      <td>0.0</td>\n",
       "      <td>...</td>\n",
       "      <td>0.0</td>\n",
       "      <td>0.0</td>\n",
       "      <td>0.0</td>\n",
       "      <td>0.0</td>\n",
       "      <td>0.0</td>\n",
       "      <td>0.0</td>\n",
       "      <td>0.0</td>\n",
       "      <td>0.0</td>\n",
       "      <td>0.0</td>\n",
       "      <td>0.0</td>\n",
       "    </tr>\n",
       "    <tr>\n",
       "      <th>...</th>\n",
       "      <td>...</td>\n",
       "      <td>...</td>\n",
       "      <td>...</td>\n",
       "      <td>...</td>\n",
       "      <td>...</td>\n",
       "      <td>...</td>\n",
       "      <td>...</td>\n",
       "      <td>...</td>\n",
       "      <td>...</td>\n",
       "      <td>...</td>\n",
       "      <td>...</td>\n",
       "      <td>...</td>\n",
       "      <td>...</td>\n",
       "      <td>...</td>\n",
       "      <td>...</td>\n",
       "      <td>...</td>\n",
       "      <td>...</td>\n",
       "      <td>...</td>\n",
       "      <td>...</td>\n",
       "      <td>...</td>\n",
       "      <td>...</td>\n",
       "    </tr>\n",
       "    <tr>\n",
       "      <th>3728</th>\n",
       "      <td>ham</td>\n",
       "      <td>day class class</td>\n",
       "      <td>35</td>\n",
       "      <td>0.0</td>\n",
       "      <td>0.0</td>\n",
       "      <td>0.0</td>\n",
       "      <td>0.0</td>\n",
       "      <td>0.0</td>\n",
       "      <td>0.0</td>\n",
       "      <td>0.0</td>\n",
       "      <td>...</td>\n",
       "      <td>0.0</td>\n",
       "      <td>0.0</td>\n",
       "      <td>0.0</td>\n",
       "      <td>0.0</td>\n",
       "      <td>0.0</td>\n",
       "      <td>0.0</td>\n",
       "      <td>0.0</td>\n",
       "      <td>0.0</td>\n",
       "      <td>0.0</td>\n",
       "      <td>0.0</td>\n",
       "    </tr>\n",
       "    <tr>\n",
       "      <th>3729</th>\n",
       "      <td>ham</td>\n",
       "      <td>time thinkin goin</td>\n",
       "      <td>30</td>\n",
       "      <td>0.0</td>\n",
       "      <td>0.0</td>\n",
       "      <td>0.0</td>\n",
       "      <td>0.0</td>\n",
       "      <td>0.0</td>\n",
       "      <td>0.0</td>\n",
       "      <td>0.0</td>\n",
       "      <td>...</td>\n",
       "      <td>0.0</td>\n",
       "      <td>0.0</td>\n",
       "      <td>0.0</td>\n",
       "      <td>0.0</td>\n",
       "      <td>0.0</td>\n",
       "      <td>0.0</td>\n",
       "      <td>0.0</td>\n",
       "      <td>0.0</td>\n",
       "      <td>0.0</td>\n",
       "      <td>0.0</td>\n",
       "    </tr>\n",
       "    <tr>\n",
       "      <th>3730</th>\n",
       "      <td>ham</td>\n",
       "      <td>crazy ar hes married like gd looking guys fren...</td>\n",
       "      <td>159</td>\n",
       "      <td>0.0</td>\n",
       "      <td>0.0</td>\n",
       "      <td>0.0</td>\n",
       "      <td>0.0</td>\n",
       "      <td>0.0</td>\n",
       "      <td>0.0</td>\n",
       "      <td>0.0</td>\n",
       "      <td>...</td>\n",
       "      <td>0.0</td>\n",
       "      <td>0.0</td>\n",
       "      <td>0.0</td>\n",
       "      <td>0.0</td>\n",
       "      <td>0.0</td>\n",
       "      <td>0.0</td>\n",
       "      <td>0.0</td>\n",
       "      <td>0.0</td>\n",
       "      <td>0.0</td>\n",
       "      <td>0.0</td>\n",
       "    </tr>\n",
       "    <tr>\n",
       "      <th>3731</th>\n",
       "      <td>ham</td>\n",
       "      <td>finally came fix ceiling</td>\n",
       "      <td>37</td>\n",
       "      <td>0.0</td>\n",
       "      <td>0.0</td>\n",
       "      <td>0.0</td>\n",
       "      <td>0.0</td>\n",
       "      <td>0.0</td>\n",
       "      <td>0.0</td>\n",
       "      <td>0.0</td>\n",
       "      <td>...</td>\n",
       "      <td>0.0</td>\n",
       "      <td>0.0</td>\n",
       "      <td>0.0</td>\n",
       "      <td>0.0</td>\n",
       "      <td>0.0</td>\n",
       "      <td>0.0</td>\n",
       "      <td>0.0</td>\n",
       "      <td>0.0</td>\n",
       "      <td>0.0</td>\n",
       "      <td>0.0</td>\n",
       "    </tr>\n",
       "    <tr>\n",
       "      <th>3732</th>\n",
       "      <td>ham</td>\n",
       "      <td>happy new year</td>\n",
       "      <td>24</td>\n",
       "      <td>0.0</td>\n",
       "      <td>0.0</td>\n",
       "      <td>0.0</td>\n",
       "      <td>0.0</td>\n",
       "      <td>0.0</td>\n",
       "      <td>0.0</td>\n",
       "      <td>0.0</td>\n",
       "      <td>...</td>\n",
       "      <td>0.0</td>\n",
       "      <td>0.0</td>\n",
       "      <td>0.0</td>\n",
       "      <td>0.0</td>\n",
       "      <td>0.0</td>\n",
       "      <td>0.0</td>\n",
       "      <td>0.0</td>\n",
       "      <td>0.0</td>\n",
       "      <td>0.0</td>\n",
       "      <td>0.0</td>\n",
       "    </tr>\n",
       "  </tbody>\n",
       "</table>\n",
       "<p>3733 rows × 7486 columns</p>\n",
       "</div>"
      ],
      "text/plain": [
       "     Class                                            Message  Length  \\\n",
       "0     spam  500 new mobiles 2004 must go txt nokia 89545 c...     142   \n",
       "1      ham                              ok msg b4 leave house      31   \n",
       "2      ham                               lets go bill millers      30   \n",
       "3      ham                            dont want hear anything      28   \n",
       "4      ham  dont file bagi work called mei tell find anyth...     118   \n",
       "...    ...                                                ...     ...   \n",
       "3728   ham                                    day class class      35   \n",
       "3729   ham                                  time thinkin goin      30   \n",
       "3730   ham  crazy ar hes married like gd looking guys fren...     159   \n",
       "3731   ham                           finally came fix ceiling      37   \n",
       "3732   ham                                     happy new year      24   \n",
       "\n",
       "      008704050406  0089my  0121  01223585334  020603  0207  02070836089  ...  \\\n",
       "0              0.0     0.0   0.0          0.0     0.0   0.0          0.0  ...   \n",
       "1              0.0     0.0   0.0          0.0     0.0   0.0          0.0  ...   \n",
       "2              0.0     0.0   0.0          0.0     0.0   0.0          0.0  ...   \n",
       "3              0.0     0.0   0.0          0.0     0.0   0.0          0.0  ...   \n",
       "4              0.0     0.0   0.0          0.0     0.0   0.0          0.0  ...   \n",
       "...            ...     ...   ...          ...     ...   ...          ...  ...   \n",
       "3728           0.0     0.0   0.0          0.0     0.0   0.0          0.0  ...   \n",
       "3729           0.0     0.0   0.0          0.0     0.0   0.0          0.0  ...   \n",
       "3730           0.0     0.0   0.0          0.0     0.0   0.0          0.0  ...   \n",
       "3731           0.0     0.0   0.0          0.0     0.0   0.0          0.0  ...   \n",
       "3732           0.0     0.0   0.0          0.0     0.0   0.0          0.0  ...   \n",
       "\n",
       "      yupz  ywhere  zac  zahers  zealand  zed  zoe  zogtorius  üll  〨ud  \n",
       "0      0.0     0.0  0.0     0.0      0.0  0.0  0.0        0.0  0.0  0.0  \n",
       "1      0.0     0.0  0.0     0.0      0.0  0.0  0.0        0.0  0.0  0.0  \n",
       "2      0.0     0.0  0.0     0.0      0.0  0.0  0.0        0.0  0.0  0.0  \n",
       "3      0.0     0.0  0.0     0.0      0.0  0.0  0.0        0.0  0.0  0.0  \n",
       "4      0.0     0.0  0.0     0.0      0.0  0.0  0.0        0.0  0.0  0.0  \n",
       "...    ...     ...  ...     ...      ...  ...  ...        ...  ...  ...  \n",
       "3728   0.0     0.0  0.0     0.0      0.0  0.0  0.0        0.0  0.0  0.0  \n",
       "3729   0.0     0.0  0.0     0.0      0.0  0.0  0.0        0.0  0.0  0.0  \n",
       "3730   0.0     0.0  0.0     0.0      0.0  0.0  0.0        0.0  0.0  0.0  \n",
       "3731   0.0     0.0  0.0     0.0      0.0  0.0  0.0        0.0  0.0  0.0  \n",
       "3732   0.0     0.0  0.0     0.0      0.0  0.0  0.0        0.0  0.0  0.0  \n",
       "\n",
       "[3733 rows x 7486 columns]"
      ]
     },
     "execution_count": 57,
     "metadata": {},
     "output_type": "execute_result"
    }
   ],
   "source": [
    "cleaned_train: pd.DataFrame = X_train.join(train_tfidf, rsuffix='_word', how='left')\n",
    "cleaned_train"
   ]
  },
  {
   "cell_type": "markdown",
   "id": "ec152a12",
   "metadata": {},
   "source": [
    "Vom face vectorizarea si tfidf si pentru seturile de testare"
   ]
  },
  {
   "cell_type": "code",
   "execution_count": 58,
   "id": "0a279999",
   "metadata": {
    "ExecuteTime": {
     "end_time": "2021-05-28T07:29:48.143837Z",
     "start_time": "2021-05-28T07:29:47.958050Z"
    }
   },
   "outputs": [
    {
     "data": {
      "text/html": [
       "<div>\n",
       "<style scoped>\n",
       "    .dataframe tbody tr th:only-of-type {\n",
       "        vertical-align: middle;\n",
       "    }\n",
       "\n",
       "    .dataframe tbody tr th {\n",
       "        vertical-align: top;\n",
       "    }\n",
       "\n",
       "    .dataframe thead th {\n",
       "        text-align: right;\n",
       "    }\n",
       "</style>\n",
       "<table border=\"1\" class=\"dataframe\">\n",
       "  <thead>\n",
       "    <tr style=\"text-align: right;\">\n",
       "      <th></th>\n",
       "      <th>Class</th>\n",
       "      <th>Message</th>\n",
       "      <th>Length</th>\n",
       "      <th>008704050406</th>\n",
       "      <th>0089my</th>\n",
       "      <th>0121</th>\n",
       "      <th>01223585334</th>\n",
       "      <th>020603</th>\n",
       "      <th>0207</th>\n",
       "      <th>02070836089</th>\n",
       "      <th>...</th>\n",
       "      <th>yupz</th>\n",
       "      <th>ywhere</th>\n",
       "      <th>zac</th>\n",
       "      <th>zahers</th>\n",
       "      <th>zealand</th>\n",
       "      <th>zed</th>\n",
       "      <th>zoe</th>\n",
       "      <th>zogtorius</th>\n",
       "      <th>üll</th>\n",
       "      <th>〨ud</th>\n",
       "    </tr>\n",
       "  </thead>\n",
       "  <tbody>\n",
       "    <tr>\n",
       "      <th>0</th>\n",
       "      <td>ham</td>\n",
       "      <td>wont move morphine</td>\n",
       "      <td>43</td>\n",
       "      <td>0.0</td>\n",
       "      <td>0.0</td>\n",
       "      <td>0.0</td>\n",
       "      <td>0.0</td>\n",
       "      <td>0.0</td>\n",
       "      <td>0.0</td>\n",
       "      <td>0.0</td>\n",
       "      <td>...</td>\n",
       "      <td>0.0</td>\n",
       "      <td>0.0</td>\n",
       "      <td>0.0</td>\n",
       "      <td>0.0</td>\n",
       "      <td>0.0</td>\n",
       "      <td>0.0</td>\n",
       "      <td>0.0</td>\n",
       "      <td>0.0</td>\n",
       "      <td>0.0</td>\n",
       "      <td>0.0</td>\n",
       "    </tr>\n",
       "    <tr>\n",
       "      <th>1</th>\n",
       "      <td>ham</td>\n",
       "      <td>hmmbad newshype park plaza 700 studio takenonl...</td>\n",
       "      <td>78</td>\n",
       "      <td>0.0</td>\n",
       "      <td>0.0</td>\n",
       "      <td>0.0</td>\n",
       "      <td>0.0</td>\n",
       "      <td>0.0</td>\n",
       "      <td>0.0</td>\n",
       "      <td>0.0</td>\n",
       "      <td>...</td>\n",
       "      <td>0.0</td>\n",
       "      <td>0.0</td>\n",
       "      <td>0.0</td>\n",
       "      <td>0.0</td>\n",
       "      <td>0.0</td>\n",
       "      <td>0.0</td>\n",
       "      <td>0.0</td>\n",
       "      <td>0.0</td>\n",
       "      <td>0.0</td>\n",
       "      <td>0.0</td>\n",
       "    </tr>\n",
       "    <tr>\n",
       "      <th>2</th>\n",
       "      <td>ham</td>\n",
       "      <td>derek done class</td>\n",
       "      <td>35</td>\n",
       "      <td>0.0</td>\n",
       "      <td>0.0</td>\n",
       "      <td>0.0</td>\n",
       "      <td>0.0</td>\n",
       "      <td>0.0</td>\n",
       "      <td>0.0</td>\n",
       "      <td>0.0</td>\n",
       "      <td>...</td>\n",
       "      <td>0.0</td>\n",
       "      <td>0.0</td>\n",
       "      <td>0.0</td>\n",
       "      <td>0.0</td>\n",
       "      <td>0.0</td>\n",
       "      <td>0.0</td>\n",
       "      <td>0.0</td>\n",
       "      <td>0.0</td>\n",
       "      <td>0.0</td>\n",
       "      <td>0.0</td>\n",
       "    </tr>\n",
       "    <tr>\n",
       "      <th>3</th>\n",
       "      <td>ham</td>\n",
       "      <td>hey happy birthday</td>\n",
       "      <td>21</td>\n",
       "      <td>0.0</td>\n",
       "      <td>0.0</td>\n",
       "      <td>0.0</td>\n",
       "      <td>0.0</td>\n",
       "      <td>0.0</td>\n",
       "      <td>0.0</td>\n",
       "      <td>0.0</td>\n",
       "      <td>...</td>\n",
       "      <td>0.0</td>\n",
       "      <td>0.0</td>\n",
       "      <td>0.0</td>\n",
       "      <td>0.0</td>\n",
       "      <td>0.0</td>\n",
       "      <td>0.0</td>\n",
       "      <td>0.0</td>\n",
       "      <td>0.0</td>\n",
       "      <td>0.0</td>\n",
       "      <td>0.0</td>\n",
       "    </tr>\n",
       "    <tr>\n",
       "      <th>4</th>\n",
       "      <td>ham</td>\n",
       "      <td>ill hand phone chat wit</td>\n",
       "      <td>36</td>\n",
       "      <td>0.0</td>\n",
       "      <td>0.0</td>\n",
       "      <td>0.0</td>\n",
       "      <td>0.0</td>\n",
       "      <td>0.0</td>\n",
       "      <td>0.0</td>\n",
       "      <td>0.0</td>\n",
       "      <td>...</td>\n",
       "      <td>0.0</td>\n",
       "      <td>0.0</td>\n",
       "      <td>0.0</td>\n",
       "      <td>0.0</td>\n",
       "      <td>0.0</td>\n",
       "      <td>0.0</td>\n",
       "      <td>0.0</td>\n",
       "      <td>0.0</td>\n",
       "      <td>0.0</td>\n",
       "      <td>0.0</td>\n",
       "    </tr>\n",
       "    <tr>\n",
       "      <th>...</th>\n",
       "      <td>...</td>\n",
       "      <td>...</td>\n",
       "      <td>...</td>\n",
       "      <td>...</td>\n",
       "      <td>...</td>\n",
       "      <td>...</td>\n",
       "      <td>...</td>\n",
       "      <td>...</td>\n",
       "      <td>...</td>\n",
       "      <td>...</td>\n",
       "      <td>...</td>\n",
       "      <td>...</td>\n",
       "      <td>...</td>\n",
       "      <td>...</td>\n",
       "      <td>...</td>\n",
       "      <td>...</td>\n",
       "      <td>...</td>\n",
       "      <td>...</td>\n",
       "      <td>...</td>\n",
       "      <td>...</td>\n",
       "      <td>...</td>\n",
       "    </tr>\n",
       "    <tr>\n",
       "      <th>1834</th>\n",
       "      <td>ham</td>\n",
       "      <td>nothing getting msgs dis name wit different nos</td>\n",
       "      <td>58</td>\n",
       "      <td>0.0</td>\n",
       "      <td>0.0</td>\n",
       "      <td>0.0</td>\n",
       "      <td>0.0</td>\n",
       "      <td>0.0</td>\n",
       "      <td>0.0</td>\n",
       "      <td>0.0</td>\n",
       "      <td>...</td>\n",
       "      <td>0.0</td>\n",
       "      <td>0.0</td>\n",
       "      <td>0.0</td>\n",
       "      <td>0.0</td>\n",
       "      <td>0.0</td>\n",
       "      <td>0.0</td>\n",
       "      <td>0.0</td>\n",
       "      <td>0.0</td>\n",
       "      <td>0.0</td>\n",
       "      <td>0.0</td>\n",
       "    </tr>\n",
       "    <tr>\n",
       "      <th>1835</th>\n",
       "      <td>ham</td>\n",
       "      <td>dont worry easy ingredients</td>\n",
       "      <td>45</td>\n",
       "      <td>0.0</td>\n",
       "      <td>0.0</td>\n",
       "      <td>0.0</td>\n",
       "      <td>0.0</td>\n",
       "      <td>0.0</td>\n",
       "      <td>0.0</td>\n",
       "      <td>0.0</td>\n",
       "      <td>...</td>\n",
       "      <td>0.0</td>\n",
       "      <td>0.0</td>\n",
       "      <td>0.0</td>\n",
       "      <td>0.0</td>\n",
       "      <td>0.0</td>\n",
       "      <td>0.0</td>\n",
       "      <td>0.0</td>\n",
       "      <td>0.0</td>\n",
       "      <td>0.0</td>\n",
       "      <td>0.0</td>\n",
       "    </tr>\n",
       "    <tr>\n",
       "      <th>1836</th>\n",
       "      <td>ham</td>\n",
       "      <td>got back dislikes bed</td>\n",
       "      <td>49</td>\n",
       "      <td>0.0</td>\n",
       "      <td>0.0</td>\n",
       "      <td>0.0</td>\n",
       "      <td>0.0</td>\n",
       "      <td>0.0</td>\n",
       "      <td>0.0</td>\n",
       "      <td>0.0</td>\n",
       "      <td>...</td>\n",
       "      <td>0.0</td>\n",
       "      <td>0.0</td>\n",
       "      <td>0.0</td>\n",
       "      <td>0.0</td>\n",
       "      <td>0.0</td>\n",
       "      <td>0.0</td>\n",
       "      <td>0.0</td>\n",
       "      <td>0.0</td>\n",
       "      <td>0.0</td>\n",
       "      <td>0.0</td>\n",
       "    </tr>\n",
       "    <tr>\n",
       "      <th>1837</th>\n",
       "      <td>ham</td>\n",
       "      <td>say fantastic chance anything need bigger life...</td>\n",
       "      <td>167</td>\n",
       "      <td>0.0</td>\n",
       "      <td>0.0</td>\n",
       "      <td>0.0</td>\n",
       "      <td>0.0</td>\n",
       "      <td>0.0</td>\n",
       "      <td>0.0</td>\n",
       "      <td>0.0</td>\n",
       "      <td>...</td>\n",
       "      <td>0.0</td>\n",
       "      <td>0.0</td>\n",
       "      <td>0.0</td>\n",
       "      <td>0.0</td>\n",
       "      <td>0.0</td>\n",
       "      <td>0.0</td>\n",
       "      <td>0.0</td>\n",
       "      <td>0.0</td>\n",
       "      <td>0.0</td>\n",
       "      <td>0.0</td>\n",
       "    </tr>\n",
       "    <tr>\n",
       "      <th>1838</th>\n",
       "      <td>ham</td>\n",
       "      <td>yes glad made</td>\n",
       "      <td>38</td>\n",
       "      <td>0.0</td>\n",
       "      <td>0.0</td>\n",
       "      <td>0.0</td>\n",
       "      <td>0.0</td>\n",
       "      <td>0.0</td>\n",
       "      <td>0.0</td>\n",
       "      <td>0.0</td>\n",
       "      <td>...</td>\n",
       "      <td>0.0</td>\n",
       "      <td>0.0</td>\n",
       "      <td>0.0</td>\n",
       "      <td>0.0</td>\n",
       "      <td>0.0</td>\n",
       "      <td>0.0</td>\n",
       "      <td>0.0</td>\n",
       "      <td>0.0</td>\n",
       "      <td>0.0</td>\n",
       "      <td>0.0</td>\n",
       "    </tr>\n",
       "  </tbody>\n",
       "</table>\n",
       "<p>1839 rows × 7486 columns</p>\n",
       "</div>"
      ],
      "text/plain": [
       "     Class                                            Message  Length  \\\n",
       "0      ham                                 wont move morphine      43   \n",
       "1      ham  hmmbad newshype park plaza 700 studio takenonl...      78   \n",
       "2      ham                                   derek done class      35   \n",
       "3      ham                                 hey happy birthday      21   \n",
       "4      ham                            ill hand phone chat wit      36   \n",
       "...    ...                                                ...     ...   \n",
       "1834   ham    nothing getting msgs dis name wit different nos      58   \n",
       "1835   ham                        dont worry easy ingredients      45   \n",
       "1836   ham                              got back dislikes bed      49   \n",
       "1837   ham  say fantastic chance anything need bigger life...     167   \n",
       "1838   ham                                      yes glad made      38   \n",
       "\n",
       "      008704050406  0089my  0121  01223585334  020603  0207  02070836089  ...  \\\n",
       "0              0.0     0.0   0.0          0.0     0.0   0.0          0.0  ...   \n",
       "1              0.0     0.0   0.0          0.0     0.0   0.0          0.0  ...   \n",
       "2              0.0     0.0   0.0          0.0     0.0   0.0          0.0  ...   \n",
       "3              0.0     0.0   0.0          0.0     0.0   0.0          0.0  ...   \n",
       "4              0.0     0.0   0.0          0.0     0.0   0.0          0.0  ...   \n",
       "...            ...     ...   ...          ...     ...   ...          ...  ...   \n",
       "1834           0.0     0.0   0.0          0.0     0.0   0.0          0.0  ...   \n",
       "1835           0.0     0.0   0.0          0.0     0.0   0.0          0.0  ...   \n",
       "1836           0.0     0.0   0.0          0.0     0.0   0.0          0.0  ...   \n",
       "1837           0.0     0.0   0.0          0.0     0.0   0.0          0.0  ...   \n",
       "1838           0.0     0.0   0.0          0.0     0.0   0.0          0.0  ...   \n",
       "\n",
       "      yupz  ywhere  zac  zahers  zealand  zed  zoe  zogtorius  üll  〨ud  \n",
       "0      0.0     0.0  0.0     0.0      0.0  0.0  0.0        0.0  0.0  0.0  \n",
       "1      0.0     0.0  0.0     0.0      0.0  0.0  0.0        0.0  0.0  0.0  \n",
       "2      0.0     0.0  0.0     0.0      0.0  0.0  0.0        0.0  0.0  0.0  \n",
       "3      0.0     0.0  0.0     0.0      0.0  0.0  0.0        0.0  0.0  0.0  \n",
       "4      0.0     0.0  0.0     0.0      0.0  0.0  0.0        0.0  0.0  0.0  \n",
       "...    ...     ...  ...     ...      ...  ...  ...        ...  ...  ...  \n",
       "1834   0.0     0.0  0.0     0.0      0.0  0.0  0.0        0.0  0.0  0.0  \n",
       "1835   0.0     0.0  0.0     0.0      0.0  0.0  0.0        0.0  0.0  0.0  \n",
       "1836   0.0     0.0  0.0     0.0      0.0  0.0  0.0        0.0  0.0  0.0  \n",
       "1837   0.0     0.0  0.0     0.0      0.0  0.0  0.0        0.0  0.0  0.0  \n",
       "1838   0.0     0.0  0.0     0.0      0.0  0.0  0.0        0.0  0.0  0.0  \n",
       "\n",
       "[1839 rows x 7486 columns]"
      ]
     },
     "execution_count": 58,
     "metadata": {},
     "output_type": "execute_result"
    }
   ],
   "source": [
    "test_count = vectorizer.transform(X_test['Message'])\n",
    "test_tfidf = tfTransformer.transform(test_count)\n",
    "test_tfidf: pd.DataFrame = pd.DataFrame(test_tfidf.toarray(), columns = bow_matrix.columns)\n",
    "\n",
    "cleaned_test: pd.DataFrame = X_test.join(test_tfidf, rsuffix='_word', how='left')\n",
    "cleaned_test"
   ]
  },
  {
   "cell_type": "markdown",
   "id": "b5fcca0d",
   "metadata": {},
   "source": [
    "### Modele de regresie si de clasificare"
   ]
  },
  {
   "cell_type": "markdown",
   "id": "c83adebf",
   "metadata": {},
   "source": [
    "Vom crea un dataframe pentru a memora scorurile calculate"
   ]
  },
  {
   "cell_type": "code",
   "execution_count": 59,
   "id": "a1aece83",
   "metadata": {
    "ExecuteTime": {
     "end_time": "2021-05-28T07:29:53.136693Z",
     "start_time": "2021-05-28T07:29:53.115748Z"
    }
   },
   "outputs": [
    {
     "data": {
      "text/html": [
       "<div>\n",
       "<style scoped>\n",
       "    .dataframe tbody tr th:only-of-type {\n",
       "        vertical-align: middle;\n",
       "    }\n",
       "\n",
       "    .dataframe tbody tr th {\n",
       "        vertical-align: top;\n",
       "    }\n",
       "\n",
       "    .dataframe thead th {\n",
       "        text-align: right;\n",
       "    }\n",
       "</style>\n",
       "<table border=\"1\" class=\"dataframe\">\n",
       "  <thead>\n",
       "    <tr style=\"text-align: right;\">\n",
       "      <th></th>\n",
       "      <th>model</th>\n",
       "      <th>fit_time</th>\n",
       "      <th>score_time</th>\n",
       "      <th>test_accuracy</th>\n",
       "      <th>train_accuracy</th>\n",
       "      <th>test_f1</th>\n",
       "      <th>train_f1</th>\n",
       "    </tr>\n",
       "  </thead>\n",
       "  <tbody>\n",
       "  </tbody>\n",
       "</table>\n",
       "</div>"
      ],
      "text/plain": [
       "Empty DataFrame\n",
       "Columns: [model, fit_time, score_time, test_accuracy, train_accuracy, test_f1, train_f1]\n",
       "Index: []"
      ]
     },
     "execution_count": 59,
     "metadata": {},
     "output_type": "execute_result"
    }
   ],
   "source": [
    "column_names: List[str] = ['model', 'fit_time', 'score_time', 'test_accuracy', 'train_accuracy', 'test_f1', 'train_f1']\n",
    "scores_df: pd.DataFrame = pd.DataFrame(columns = column_names)\n",
    "\n",
    "scores_df.head()"
   ]
  },
  {
   "cell_type": "markdown",
   "id": "94960929",
   "metadata": {
    "ExecuteTime": {
     "end_time": "2021-05-25T15:55:53.596992Z",
     "start_time": "2021-05-25T15:55:53.555448Z"
    }
   },
   "source": [
    "Vom renunta la coloanele de tip text"
   ]
  },
  {
   "cell_type": "code",
   "execution_count": 60,
   "id": "3ade5e5b",
   "metadata": {
    "ExecuteTime": {
     "end_time": "2021-05-28T07:30:02.253317Z",
     "start_time": "2021-05-28T07:30:02.171537Z"
    }
   },
   "outputs": [
    {
     "data": {
      "text/html": [
       "<div>\n",
       "<style scoped>\n",
       "    .dataframe tbody tr th:only-of-type {\n",
       "        vertical-align: middle;\n",
       "    }\n",
       "\n",
       "    .dataframe tbody tr th {\n",
       "        vertical-align: top;\n",
       "    }\n",
       "\n",
       "    .dataframe thead th {\n",
       "        text-align: right;\n",
       "    }\n",
       "</style>\n",
       "<table border=\"1\" class=\"dataframe\">\n",
       "  <thead>\n",
       "    <tr style=\"text-align: right;\">\n",
       "      <th></th>\n",
       "      <th>Length</th>\n",
       "      <th>008704050406</th>\n",
       "      <th>0089my</th>\n",
       "      <th>0121</th>\n",
       "      <th>01223585334</th>\n",
       "      <th>020603</th>\n",
       "      <th>0207</th>\n",
       "      <th>02070836089</th>\n",
       "      <th>02085076972</th>\n",
       "      <th>020903</th>\n",
       "      <th>...</th>\n",
       "      <th>yupz</th>\n",
       "      <th>ywhere</th>\n",
       "      <th>zac</th>\n",
       "      <th>zahers</th>\n",
       "      <th>zealand</th>\n",
       "      <th>zed</th>\n",
       "      <th>zoe</th>\n",
       "      <th>zogtorius</th>\n",
       "      <th>üll</th>\n",
       "      <th>〨ud</th>\n",
       "    </tr>\n",
       "  </thead>\n",
       "  <tbody>\n",
       "    <tr>\n",
       "      <th>0</th>\n",
       "      <td>142</td>\n",
       "      <td>0.0</td>\n",
       "      <td>0.0</td>\n",
       "      <td>0.0</td>\n",
       "      <td>0.0</td>\n",
       "      <td>0.0</td>\n",
       "      <td>0.0</td>\n",
       "      <td>0.0</td>\n",
       "      <td>0.0</td>\n",
       "      <td>0.0</td>\n",
       "      <td>...</td>\n",
       "      <td>0.0</td>\n",
       "      <td>0.0</td>\n",
       "      <td>0.0</td>\n",
       "      <td>0.0</td>\n",
       "      <td>0.0</td>\n",
       "      <td>0.0</td>\n",
       "      <td>0.0</td>\n",
       "      <td>0.0</td>\n",
       "      <td>0.0</td>\n",
       "      <td>0.0</td>\n",
       "    </tr>\n",
       "    <tr>\n",
       "      <th>1</th>\n",
       "      <td>31</td>\n",
       "      <td>0.0</td>\n",
       "      <td>0.0</td>\n",
       "      <td>0.0</td>\n",
       "      <td>0.0</td>\n",
       "      <td>0.0</td>\n",
       "      <td>0.0</td>\n",
       "      <td>0.0</td>\n",
       "      <td>0.0</td>\n",
       "      <td>0.0</td>\n",
       "      <td>...</td>\n",
       "      <td>0.0</td>\n",
       "      <td>0.0</td>\n",
       "      <td>0.0</td>\n",
       "      <td>0.0</td>\n",
       "      <td>0.0</td>\n",
       "      <td>0.0</td>\n",
       "      <td>0.0</td>\n",
       "      <td>0.0</td>\n",
       "      <td>0.0</td>\n",
       "      <td>0.0</td>\n",
       "    </tr>\n",
       "    <tr>\n",
       "      <th>2</th>\n",
       "      <td>30</td>\n",
       "      <td>0.0</td>\n",
       "      <td>0.0</td>\n",
       "      <td>0.0</td>\n",
       "      <td>0.0</td>\n",
       "      <td>0.0</td>\n",
       "      <td>0.0</td>\n",
       "      <td>0.0</td>\n",
       "      <td>0.0</td>\n",
       "      <td>0.0</td>\n",
       "      <td>...</td>\n",
       "      <td>0.0</td>\n",
       "      <td>0.0</td>\n",
       "      <td>0.0</td>\n",
       "      <td>0.0</td>\n",
       "      <td>0.0</td>\n",
       "      <td>0.0</td>\n",
       "      <td>0.0</td>\n",
       "      <td>0.0</td>\n",
       "      <td>0.0</td>\n",
       "      <td>0.0</td>\n",
       "    </tr>\n",
       "    <tr>\n",
       "      <th>3</th>\n",
       "      <td>28</td>\n",
       "      <td>0.0</td>\n",
       "      <td>0.0</td>\n",
       "      <td>0.0</td>\n",
       "      <td>0.0</td>\n",
       "      <td>0.0</td>\n",
       "      <td>0.0</td>\n",
       "      <td>0.0</td>\n",
       "      <td>0.0</td>\n",
       "      <td>0.0</td>\n",
       "      <td>...</td>\n",
       "      <td>0.0</td>\n",
       "      <td>0.0</td>\n",
       "      <td>0.0</td>\n",
       "      <td>0.0</td>\n",
       "      <td>0.0</td>\n",
       "      <td>0.0</td>\n",
       "      <td>0.0</td>\n",
       "      <td>0.0</td>\n",
       "      <td>0.0</td>\n",
       "      <td>0.0</td>\n",
       "    </tr>\n",
       "    <tr>\n",
       "      <th>4</th>\n",
       "      <td>118</td>\n",
       "      <td>0.0</td>\n",
       "      <td>0.0</td>\n",
       "      <td>0.0</td>\n",
       "      <td>0.0</td>\n",
       "      <td>0.0</td>\n",
       "      <td>0.0</td>\n",
       "      <td>0.0</td>\n",
       "      <td>0.0</td>\n",
       "      <td>0.0</td>\n",
       "      <td>...</td>\n",
       "      <td>0.0</td>\n",
       "      <td>0.0</td>\n",
       "      <td>0.0</td>\n",
       "      <td>0.0</td>\n",
       "      <td>0.0</td>\n",
       "      <td>0.0</td>\n",
       "      <td>0.0</td>\n",
       "      <td>0.0</td>\n",
       "      <td>0.0</td>\n",
       "      <td>0.0</td>\n",
       "    </tr>\n",
       "    <tr>\n",
       "      <th>...</th>\n",
       "      <td>...</td>\n",
       "      <td>...</td>\n",
       "      <td>...</td>\n",
       "      <td>...</td>\n",
       "      <td>...</td>\n",
       "      <td>...</td>\n",
       "      <td>...</td>\n",
       "      <td>...</td>\n",
       "      <td>...</td>\n",
       "      <td>...</td>\n",
       "      <td>...</td>\n",
       "      <td>...</td>\n",
       "      <td>...</td>\n",
       "      <td>...</td>\n",
       "      <td>...</td>\n",
       "      <td>...</td>\n",
       "      <td>...</td>\n",
       "      <td>...</td>\n",
       "      <td>...</td>\n",
       "      <td>...</td>\n",
       "      <td>...</td>\n",
       "    </tr>\n",
       "    <tr>\n",
       "      <th>3728</th>\n",
       "      <td>35</td>\n",
       "      <td>0.0</td>\n",
       "      <td>0.0</td>\n",
       "      <td>0.0</td>\n",
       "      <td>0.0</td>\n",
       "      <td>0.0</td>\n",
       "      <td>0.0</td>\n",
       "      <td>0.0</td>\n",
       "      <td>0.0</td>\n",
       "      <td>0.0</td>\n",
       "      <td>...</td>\n",
       "      <td>0.0</td>\n",
       "      <td>0.0</td>\n",
       "      <td>0.0</td>\n",
       "      <td>0.0</td>\n",
       "      <td>0.0</td>\n",
       "      <td>0.0</td>\n",
       "      <td>0.0</td>\n",
       "      <td>0.0</td>\n",
       "      <td>0.0</td>\n",
       "      <td>0.0</td>\n",
       "    </tr>\n",
       "    <tr>\n",
       "      <th>3729</th>\n",
       "      <td>30</td>\n",
       "      <td>0.0</td>\n",
       "      <td>0.0</td>\n",
       "      <td>0.0</td>\n",
       "      <td>0.0</td>\n",
       "      <td>0.0</td>\n",
       "      <td>0.0</td>\n",
       "      <td>0.0</td>\n",
       "      <td>0.0</td>\n",
       "      <td>0.0</td>\n",
       "      <td>...</td>\n",
       "      <td>0.0</td>\n",
       "      <td>0.0</td>\n",
       "      <td>0.0</td>\n",
       "      <td>0.0</td>\n",
       "      <td>0.0</td>\n",
       "      <td>0.0</td>\n",
       "      <td>0.0</td>\n",
       "      <td>0.0</td>\n",
       "      <td>0.0</td>\n",
       "      <td>0.0</td>\n",
       "    </tr>\n",
       "    <tr>\n",
       "      <th>3730</th>\n",
       "      <td>159</td>\n",
       "      <td>0.0</td>\n",
       "      <td>0.0</td>\n",
       "      <td>0.0</td>\n",
       "      <td>0.0</td>\n",
       "      <td>0.0</td>\n",
       "      <td>0.0</td>\n",
       "      <td>0.0</td>\n",
       "      <td>0.0</td>\n",
       "      <td>0.0</td>\n",
       "      <td>...</td>\n",
       "      <td>0.0</td>\n",
       "      <td>0.0</td>\n",
       "      <td>0.0</td>\n",
       "      <td>0.0</td>\n",
       "      <td>0.0</td>\n",
       "      <td>0.0</td>\n",
       "      <td>0.0</td>\n",
       "      <td>0.0</td>\n",
       "      <td>0.0</td>\n",
       "      <td>0.0</td>\n",
       "    </tr>\n",
       "    <tr>\n",
       "      <th>3731</th>\n",
       "      <td>37</td>\n",
       "      <td>0.0</td>\n",
       "      <td>0.0</td>\n",
       "      <td>0.0</td>\n",
       "      <td>0.0</td>\n",
       "      <td>0.0</td>\n",
       "      <td>0.0</td>\n",
       "      <td>0.0</td>\n",
       "      <td>0.0</td>\n",
       "      <td>0.0</td>\n",
       "      <td>...</td>\n",
       "      <td>0.0</td>\n",
       "      <td>0.0</td>\n",
       "      <td>0.0</td>\n",
       "      <td>0.0</td>\n",
       "      <td>0.0</td>\n",
       "      <td>0.0</td>\n",
       "      <td>0.0</td>\n",
       "      <td>0.0</td>\n",
       "      <td>0.0</td>\n",
       "      <td>0.0</td>\n",
       "    </tr>\n",
       "    <tr>\n",
       "      <th>3732</th>\n",
       "      <td>24</td>\n",
       "      <td>0.0</td>\n",
       "      <td>0.0</td>\n",
       "      <td>0.0</td>\n",
       "      <td>0.0</td>\n",
       "      <td>0.0</td>\n",
       "      <td>0.0</td>\n",
       "      <td>0.0</td>\n",
       "      <td>0.0</td>\n",
       "      <td>0.0</td>\n",
       "      <td>...</td>\n",
       "      <td>0.0</td>\n",
       "      <td>0.0</td>\n",
       "      <td>0.0</td>\n",
       "      <td>0.0</td>\n",
       "      <td>0.0</td>\n",
       "      <td>0.0</td>\n",
       "      <td>0.0</td>\n",
       "      <td>0.0</td>\n",
       "      <td>0.0</td>\n",
       "      <td>0.0</td>\n",
       "    </tr>\n",
       "  </tbody>\n",
       "</table>\n",
       "<p>3733 rows × 7484 columns</p>\n",
       "</div>"
      ],
      "text/plain": [
       "      Length  008704050406  0089my  0121  01223585334  020603  0207  \\\n",
       "0        142           0.0     0.0   0.0          0.0     0.0   0.0   \n",
       "1         31           0.0     0.0   0.0          0.0     0.0   0.0   \n",
       "2         30           0.0     0.0   0.0          0.0     0.0   0.0   \n",
       "3         28           0.0     0.0   0.0          0.0     0.0   0.0   \n",
       "4        118           0.0     0.0   0.0          0.0     0.0   0.0   \n",
       "...      ...           ...     ...   ...          ...     ...   ...   \n",
       "3728      35           0.0     0.0   0.0          0.0     0.0   0.0   \n",
       "3729      30           0.0     0.0   0.0          0.0     0.0   0.0   \n",
       "3730     159           0.0     0.0   0.0          0.0     0.0   0.0   \n",
       "3731      37           0.0     0.0   0.0          0.0     0.0   0.0   \n",
       "3732      24           0.0     0.0   0.0          0.0     0.0   0.0   \n",
       "\n",
       "      02070836089  02085076972  020903  ...  yupz  ywhere  zac  zahers  \\\n",
       "0             0.0          0.0     0.0  ...   0.0     0.0  0.0     0.0   \n",
       "1             0.0          0.0     0.0  ...   0.0     0.0  0.0     0.0   \n",
       "2             0.0          0.0     0.0  ...   0.0     0.0  0.0     0.0   \n",
       "3             0.0          0.0     0.0  ...   0.0     0.0  0.0     0.0   \n",
       "4             0.0          0.0     0.0  ...   0.0     0.0  0.0     0.0   \n",
       "...           ...          ...     ...  ...   ...     ...  ...     ...   \n",
       "3728          0.0          0.0     0.0  ...   0.0     0.0  0.0     0.0   \n",
       "3729          0.0          0.0     0.0  ...   0.0     0.0  0.0     0.0   \n",
       "3730          0.0          0.0     0.0  ...   0.0     0.0  0.0     0.0   \n",
       "3731          0.0          0.0     0.0  ...   0.0     0.0  0.0     0.0   \n",
       "3732          0.0          0.0     0.0  ...   0.0     0.0  0.0     0.0   \n",
       "\n",
       "      zealand  zed  zoe  zogtorius  üll  〨ud  \n",
       "0         0.0  0.0  0.0        0.0  0.0  0.0  \n",
       "1         0.0  0.0  0.0        0.0  0.0  0.0  \n",
       "2         0.0  0.0  0.0        0.0  0.0  0.0  \n",
       "3         0.0  0.0  0.0        0.0  0.0  0.0  \n",
       "4         0.0  0.0  0.0        0.0  0.0  0.0  \n",
       "...       ...  ...  ...        ...  ...  ...  \n",
       "3728      0.0  0.0  0.0        0.0  0.0  0.0  \n",
       "3729      0.0  0.0  0.0        0.0  0.0  0.0  \n",
       "3730      0.0  0.0  0.0        0.0  0.0  0.0  \n",
       "3731      0.0  0.0  0.0        0.0  0.0  0.0  \n",
       "3732      0.0  0.0  0.0        0.0  0.0  0.0  \n",
       "\n",
       "[3733 rows x 7484 columns]"
      ]
     },
     "execution_count": 60,
     "metadata": {},
     "output_type": "execute_result"
    }
   ],
   "source": [
    "cleaned_train: pd.DataFrame = cleaned_train.drop(columns = ['Class', 'Message'])\n",
    "cleaned_train"
   ]
  },
  {
   "cell_type": "code",
   "execution_count": 61,
   "id": "49b58b86",
   "metadata": {
    "ExecuteTime": {
     "end_time": "2021-05-28T07:30:07.258336Z",
     "start_time": "2021-05-28T07:30:07.144118Z"
    }
   },
   "outputs": [],
   "source": [
    "from sklearn.linear_model import LogisticRegression\n",
    "from sklearn.model_selection import cross_validate, GridSearchCV, RandomizedSearchCV\n",
    "from sklearn.tree import DecisionTreeClassifier\n",
    "from sklearn.neighbors import KNeighborsClassifier\n",
    "from sklearn.neural_network import MLPClassifier"
   ]
  },
  {
   "cell_type": "markdown",
   "id": "567d2ddb",
   "metadata": {
    "ExecuteTime": {
     "end_time": "2021-05-25T16:23:31.371914Z",
     "start_time": "2021-05-25T16:23:31.361836Z"
    }
   },
   "source": [
    "#### LogisticRegression"
   ]
  },
  {
   "cell_type": "markdown",
   "id": "d08e314f",
   "metadata": {
    "ExecuteTime": {
     "end_time": "2021-05-25T16:24:17.925430Z",
     "start_time": "2021-05-25T16:24:17.907478Z"
    }
   },
   "source": [
    "Cautarea valorilor optime ale hiperparametrilor folosind RandomizedSearchCV"
   ]
  },
  {
   "cell_type": "code",
   "execution_count": 62,
   "id": "50354277",
   "metadata": {
    "ExecuteTime": {
     "end_time": "2021-05-28T07:30:12.407570Z",
     "start_time": "2021-05-28T07:30:12.394581Z"
    }
   },
   "outputs": [],
   "source": [
    "RegressionModel = Union[LogisticRegression, DecisionTreeClassifier, KNeighborsClassifier, MLPClassifier]\n",
    "SearchModel = Union[GridSearchCV, RandomizedSearchCV, cross_validate]"
   ]
  },
  {
   "cell_type": "code",
   "execution_count": 64,
   "id": "40ef16b3",
   "metadata": {
    "ExecuteTime": {
     "end_time": "2021-05-28T07:31:11.784309Z",
     "start_time": "2021-05-28T07:30:58.542039Z"
    }
   },
   "outputs": [
    {
     "name": "stdout",
     "output_type": "stream",
     "text": [
      "{'penalty': 'l2', 'C': 78.47599703514607}\n"
     ]
    }
   ],
   "source": [
    "regression: RegressionModel = LogisticRegression(solver='liblinear', max_iter=1000)\n",
    "parameter_grid: Dict[str, List[Any]] = {'penalty': ['l1', 'l2'], 'C': np.logspace(-4, 4, 20)}\n",
    "random_search: SearchModel = RandomizedSearchCV(estimator=regression, param_distributions=parameter_grid, cv=5, scoring='neg_mean_squared_error', n_jobs=-1)\n",
    "random_search.fit(cleaned_train, y_train)\n",
    "best_parameters: Dict[str, List[Any]] = random_search.best_params_\n",
    "\n",
    "print(best_parameters)"
   ]
  },
  {
   "cell_type": "code",
   "execution_count": 65,
   "id": "c759628a",
   "metadata": {
    "ExecuteTime": {
     "end_time": "2021-05-28T07:31:30.067207Z",
     "start_time": "2021-05-28T07:31:26.947335Z"
    }
   },
   "outputs": [
    {
     "data": {
      "text/html": [
       "<div>\n",
       "<style scoped>\n",
       "    .dataframe tbody tr th:only-of-type {\n",
       "        vertical-align: middle;\n",
       "    }\n",
       "\n",
       "    .dataframe tbody tr th {\n",
       "        vertical-align: top;\n",
       "    }\n",
       "\n",
       "    .dataframe thead th {\n",
       "        text-align: right;\n",
       "    }\n",
       "</style>\n",
       "<table border=\"1\" class=\"dataframe\">\n",
       "  <thead>\n",
       "    <tr style=\"text-align: right;\">\n",
       "      <th></th>\n",
       "      <th>model</th>\n",
       "      <th>fit_time</th>\n",
       "      <th>score_time</th>\n",
       "      <th>test_accuracy</th>\n",
       "      <th>train_accuracy</th>\n",
       "      <th>test_f1</th>\n",
       "      <th>train_f1</th>\n",
       "    </tr>\n",
       "  </thead>\n",
       "  <tbody>\n",
       "    <tr>\n",
       "      <th>0</th>\n",
       "      <td>LogisticRegression</td>\n",
       "      <td>0.432185</td>\n",
       "      <td>0.063429</td>\n",
       "      <td>0.976427</td>\n",
       "      <td>1.0</td>\n",
       "      <td>0.906958</td>\n",
       "      <td>1.0</td>\n",
       "    </tr>\n",
       "  </tbody>\n",
       "</table>\n",
       "</div>"
      ],
      "text/plain": [
       "                model  fit_time score_time test_accuracy train_accuracy  \\\n",
       "0  LogisticRegression  0.432185   0.063429      0.976427            1.0   \n",
       "\n",
       "    test_f1 train_f1  \n",
       "0  0.906958      1.0  "
      ]
     },
     "execution_count": 65,
     "metadata": {},
     "output_type": "execute_result"
    }
   ],
   "source": [
    "tunned_regression: RegressionModel = LogisticRegression(**best_parameters, solver='liblinear', max_iter=1000)\n",
    "\n",
    "grid_scores: Dict[str, List[float]] = cross_validate(tunned_regression, cleaned_train, y_train, cv=5, scoring=['accuracy', 'f1'], return_train_score=True)\n",
    "\n",
    "scores: List[Any] = ['LogisticRegression', grid_scores['fit_time'].mean(), grid_scores['score_time'].mean(), grid_scores['test_accuracy'].mean(),\n",
    "         grid_scores['train_accuracy'].mean(), grid_scores['test_f1'].mean(), grid_scores['train_f1'].mean()]\n",
    "\n",
    "for i in range(len(column_names)):\n",
    "    scores_df.loc[0, column_names[i]] = scores[i]\n",
    "\n",
    "scores_df.head()"
   ]
  },
  {
   "cell_type": "markdown",
   "id": "59edc7f8",
   "metadata": {
    "ExecuteTime": {
     "end_time": "2021-05-25T16:22:08.830708Z",
     "start_time": "2021-05-25T16:22:08.809641Z"
    }
   },
   "source": [
    "#### DecisionTreeClassifier"
   ]
  },
  {
   "cell_type": "markdown",
   "id": "6b7c638f",
   "metadata": {},
   "source": [
    "Cautarea valorilor optime ale hiperparametrilor folosind RandomizedSearchCV"
   ]
  },
  {
   "cell_type": "code",
   "execution_count": 66,
   "id": "dc5c4d9f",
   "metadata": {
    "ExecuteTime": {
     "end_time": "2021-05-28T07:31:58.314849Z",
     "start_time": "2021-05-28T07:31:53.491745Z"
    }
   },
   "outputs": [
    {
     "name": "stdout",
     "output_type": "stream",
     "text": [
      "{'min_samples_leaf': 6, 'max_features': 4, 'max_depth': 3, 'criterion': 'entropy'}\n"
     ]
    }
   ],
   "source": [
    "classifier: RegressionModel = DecisionTreeClassifier()\n",
    "parameter_grid: Dict[str, List[Any]] = {'max_depth':[3, None], 'max_features':[1, 2, 4, 5, 7], 'min_samples_leaf':[1, 2, 3, 4, 5, 6], 'criterion':['gini', 'entropy']}\n",
    "    \n",
    "random_search: SearchModel = RandomizedSearchCV(estimator=classifier, param_distributions=parameter_grid, cv=5, scoring='accuracy', n_jobs=-1)\n",
    "random_search.fit(cleaned_train, y_train)\n",
    "best_parameters: Dict[str, List[Any]] = random_search.best_params_\n",
    "\n",
    "print(best_parameters)"
   ]
  },
  {
   "cell_type": "code",
   "execution_count": 67,
   "id": "d5fb2f48",
   "metadata": {
    "ExecuteTime": {
     "end_time": "2021-05-28T07:32:04.408654Z",
     "start_time": "2021-05-28T07:32:02.432938Z"
    }
   },
   "outputs": [
    {
     "data": {
      "text/html": [
       "<div>\n",
       "<style scoped>\n",
       "    .dataframe tbody tr th:only-of-type {\n",
       "        vertical-align: middle;\n",
       "    }\n",
       "\n",
       "    .dataframe tbody tr th {\n",
       "        vertical-align: top;\n",
       "    }\n",
       "\n",
       "    .dataframe thead th {\n",
       "        text-align: right;\n",
       "    }\n",
       "</style>\n",
       "<table border=\"1\" class=\"dataframe\">\n",
       "  <thead>\n",
       "    <tr style=\"text-align: right;\">\n",
       "      <th></th>\n",
       "      <th>model</th>\n",
       "      <th>fit_time</th>\n",
       "      <th>score_time</th>\n",
       "      <th>test_accuracy</th>\n",
       "      <th>train_accuracy</th>\n",
       "      <th>test_f1</th>\n",
       "      <th>train_f1</th>\n",
       "    </tr>\n",
       "  </thead>\n",
       "  <tbody>\n",
       "    <tr>\n",
       "      <th>0</th>\n",
       "      <td>LogisticRegression</td>\n",
       "      <td>0.432185</td>\n",
       "      <td>0.063429</td>\n",
       "      <td>0.976427</td>\n",
       "      <td>1.0</td>\n",
       "      <td>0.906958</td>\n",
       "      <td>1.0</td>\n",
       "    </tr>\n",
       "    <tr>\n",
       "      <th>1</th>\n",
       "      <td>DecisionTreeClassifier</td>\n",
       "      <td>0.204665</td>\n",
       "      <td>0.056849</td>\n",
       "      <td>0.865524</td>\n",
       "      <td>0.865524</td>\n",
       "      <td>0.0</td>\n",
       "      <td>0.0</td>\n",
       "    </tr>\n",
       "  </tbody>\n",
       "</table>\n",
       "</div>"
      ],
      "text/plain": [
       "                    model  fit_time score_time test_accuracy train_accuracy  \\\n",
       "0      LogisticRegression  0.432185   0.063429      0.976427            1.0   \n",
       "1  DecisionTreeClassifier  0.204665   0.056849      0.865524       0.865524   \n",
       "\n",
       "    test_f1 train_f1  \n",
       "0  0.906958      1.0  \n",
       "1       0.0      0.0  "
      ]
     },
     "execution_count": 67,
     "metadata": {},
     "output_type": "execute_result"
    }
   ],
   "source": [
    "tunned_classifier: RegressionModel = DecisionTreeClassifier(**best_parameters)\n",
    "\n",
    "grid_scores: Dict[str, List[float]] = cross_validate(tunned_classifier, cleaned_train, y_train, cv=5, scoring=['accuracy', 'f1'], return_train_score=True)\n",
    "\n",
    "scores: List[Any] = ['DecisionTreeClassifier', grid_scores['fit_time'].mean(), grid_scores['score_time'].mean(), grid_scores['test_accuracy'].mean(),\n",
    "         grid_scores['train_accuracy'].mean(), grid_scores['test_f1'].mean(), grid_scores['train_f1'].mean()]\n",
    "\n",
    "for i in range(len(column_names)):\n",
    "    scores_df.loc[1, column_names[i]] = scores[i]\n",
    "\n",
    "scores_df.head()"
   ]
  },
  {
   "cell_type": "markdown",
   "id": "ea1541fb",
   "metadata": {},
   "source": [
    "#### KNeighborsClassifier"
   ]
  },
  {
   "cell_type": "code",
   "execution_count": 68,
   "id": "198a7e94",
   "metadata": {
    "ExecuteTime": {
     "end_time": "2021-05-28T07:34:38.410541Z",
     "start_time": "2021-05-28T07:32:18.780271Z"
    }
   },
   "outputs": [
    {
     "name": "stdout",
     "output_type": "stream",
     "text": [
      "{'p': 2, 'n_neighbors': 2}\n"
     ]
    }
   ],
   "source": [
    "classifier: RegressionModel = KNeighborsClassifier()\n",
    "parameter_grid: Dict[str, List[Any]] = {'n_neighbors': list(range(1,10)), 'p': [1, 2]}\n",
    "\n",
    "random_search: SearchModel = RandomizedSearchCV(estimator=classifier, param_distributions=parameter_grid, cv=5, scoring='accuracy', n_jobs=-1)\n",
    "random_search.fit(cleaned_train, y_train)\n",
    "best_parameters: Dict[str, List[Any]] = random_search.best_params_\n",
    "\n",
    "print(best_parameters)"
   ]
  },
  {
   "cell_type": "code",
   "execution_count": 69,
   "id": "4746e34e",
   "metadata": {
    "ExecuteTime": {
     "end_time": "2021-05-28T07:34:47.877537Z",
     "start_time": "2021-05-28T07:34:45.844712Z"
    }
   },
   "outputs": [
    {
     "data": {
      "text/html": [
       "<div>\n",
       "<style scoped>\n",
       "    .dataframe tbody tr th:only-of-type {\n",
       "        vertical-align: middle;\n",
       "    }\n",
       "\n",
       "    .dataframe tbody tr th {\n",
       "        vertical-align: top;\n",
       "    }\n",
       "\n",
       "    .dataframe thead th {\n",
       "        text-align: right;\n",
       "    }\n",
       "</style>\n",
       "<table border=\"1\" class=\"dataframe\">\n",
       "  <thead>\n",
       "    <tr style=\"text-align: right;\">\n",
       "      <th></th>\n",
       "      <th>model</th>\n",
       "      <th>fit_time</th>\n",
       "      <th>score_time</th>\n",
       "      <th>test_accuracy</th>\n",
       "      <th>train_accuracy</th>\n",
       "      <th>test_f1</th>\n",
       "      <th>train_f1</th>\n",
       "    </tr>\n",
       "  </thead>\n",
       "  <tbody>\n",
       "    <tr>\n",
       "      <th>0</th>\n",
       "      <td>LogisticRegression</td>\n",
       "      <td>0.432185</td>\n",
       "      <td>0.063429</td>\n",
       "      <td>0.976427</td>\n",
       "      <td>1.0</td>\n",
       "      <td>0.906958</td>\n",
       "      <td>1.0</td>\n",
       "    </tr>\n",
       "    <tr>\n",
       "      <th>1</th>\n",
       "      <td>DecisionTreeClassifier</td>\n",
       "      <td>0.204665</td>\n",
       "      <td>0.056849</td>\n",
       "      <td>0.865524</td>\n",
       "      <td>0.865524</td>\n",
       "      <td>0.0</td>\n",
       "      <td>0.0</td>\n",
       "    </tr>\n",
       "    <tr>\n",
       "      <th>2</th>\n",
       "      <td>KNeighborsClassifier</td>\n",
       "      <td>0.200199</td>\n",
       "      <td>0.058239</td>\n",
       "      <td>0.86954</td>\n",
       "      <td>0.86981</td>\n",
       "      <td>0.089744</td>\n",
       "      <td>0.102742</td>\n",
       "    </tr>\n",
       "  </tbody>\n",
       "</table>\n",
       "</div>"
      ],
      "text/plain": [
       "                    model  fit_time score_time test_accuracy train_accuracy  \\\n",
       "0      LogisticRegression  0.432185   0.063429      0.976427            1.0   \n",
       "1  DecisionTreeClassifier  0.204665   0.056849      0.865524       0.865524   \n",
       "2    KNeighborsClassifier  0.200199   0.058239       0.86954        0.86981   \n",
       "\n",
       "    test_f1  train_f1  \n",
       "0  0.906958       1.0  \n",
       "1       0.0       0.0  \n",
       "2  0.089744  0.102742  "
      ]
     },
     "execution_count": 69,
     "metadata": {},
     "output_type": "execute_result"
    }
   ],
   "source": [
    "tunned_classifer: RegressionModel = KNeighborsClassifier(**best_parameters)\n",
    "\n",
    "grid_scores: Dict[str, List[float]] = cross_validate(tunned_classifier, cleaned_train, y_train, cv=5, scoring=['accuracy', 'f1'], return_train_score=True)\n",
    "\n",
    "scores: List[Any] = ['KNeighborsClassifier', grid_scores['fit_time'].mean(), grid_scores['score_time'].mean(), grid_scores['test_accuracy'].mean(),\n",
    "         grid_scores['train_accuracy'].mean(), grid_scores['test_f1'].mean(), grid_scores['train_f1'].mean()]\n",
    "\n",
    "for i in range(len(column_names)):\n",
    "    scores_df.loc[2, column_names[i]] = scores[i]\n",
    "\n",
    "scores_df.head()"
   ]
  },
  {
   "cell_type": "markdown",
   "id": "c99fc0e9",
   "metadata": {},
   "source": [
    "#### MLP Classifier"
   ]
  },
  {
   "cell_type": "code",
   "execution_count": 70,
   "id": "8269bd83",
   "metadata": {
    "ExecuteTime": {
     "end_time": "2021-05-28T07:53:12.393076Z",
     "start_time": "2021-05-28T07:35:10.174117Z"
    }
   },
   "outputs": [
    {
     "name": "stdout",
     "output_type": "stream",
     "text": [
      "{'solver': 'adam', 'learning_rate': 'adaptive', 'hidden_layer_sizes': (50, 100, 50), 'alpha': 0.0001, 'activation': 'relu'}\n"
     ]
    }
   ],
   "source": [
    "classifier: RegressionModel = MLPClassifier(max_iter=100)\n",
    "parameter_grid: Dict[str, List[Any]] = {'hidden_layer_sizes': [(50,50,50), (50, 100, 50), (100,)], 'activation': ['tanh', 'relu'], 'solver': ['sgd', 'adam'],\n",
    "                 'alpha': [0.0001, 0.05], 'learning_rate': ['constant', 'adaptive']}\n",
    "\n",
    "random_search: SearchModel = RandomizedSearchCV(estimator=classifier, param_distributions=parameter_grid, cv=5, scoring='accuracy', n_jobs=-1)\n",
    "random_search.fit(cleaned_train, y_train)\n",
    "best_parameters: Dict[str, List[Any]] = random_search.best_params_\n",
    "\n",
    "print(best_parameters)"
   ]
  },
  {
   "cell_type": "code",
   "execution_count": 71,
   "id": "703a887e",
   "metadata": {
    "ExecuteTime": {
     "end_time": "2021-05-28T07:53:24.768747Z",
     "start_time": "2021-05-28T07:53:22.727900Z"
    }
   },
   "outputs": [
    {
     "data": {
      "text/html": [
       "<div>\n",
       "<style scoped>\n",
       "    .dataframe tbody tr th:only-of-type {\n",
       "        vertical-align: middle;\n",
       "    }\n",
       "\n",
       "    .dataframe tbody tr th {\n",
       "        vertical-align: top;\n",
       "    }\n",
       "\n",
       "    .dataframe thead th {\n",
       "        text-align: right;\n",
       "    }\n",
       "</style>\n",
       "<table border=\"1\" class=\"dataframe\">\n",
       "  <thead>\n",
       "    <tr style=\"text-align: right;\">\n",
       "      <th></th>\n",
       "      <th>model</th>\n",
       "      <th>fit_time</th>\n",
       "      <th>score_time</th>\n",
       "      <th>test_accuracy</th>\n",
       "      <th>train_accuracy</th>\n",
       "      <th>test_f1</th>\n",
       "      <th>train_f1</th>\n",
       "    </tr>\n",
       "  </thead>\n",
       "  <tbody>\n",
       "    <tr>\n",
       "      <th>0</th>\n",
       "      <td>LogisticRegression</td>\n",
       "      <td>0.432185</td>\n",
       "      <td>0.063429</td>\n",
       "      <td>0.976427</td>\n",
       "      <td>1.0</td>\n",
       "      <td>0.906958</td>\n",
       "      <td>1.0</td>\n",
       "    </tr>\n",
       "    <tr>\n",
       "      <th>1</th>\n",
       "      <td>DecisionTreeClassifier</td>\n",
       "      <td>0.204665</td>\n",
       "      <td>0.056849</td>\n",
       "      <td>0.865524</td>\n",
       "      <td>0.865524</td>\n",
       "      <td>0.0</td>\n",
       "      <td>0.0</td>\n",
       "    </tr>\n",
       "    <tr>\n",
       "      <th>2</th>\n",
       "      <td>KNeighborsClassifier</td>\n",
       "      <td>0.200199</td>\n",
       "      <td>0.058239</td>\n",
       "      <td>0.86954</td>\n",
       "      <td>0.86981</td>\n",
       "      <td>0.089744</td>\n",
       "      <td>0.102742</td>\n",
       "    </tr>\n",
       "    <tr>\n",
       "      <th>3</th>\n",
       "      <td>MLPClassifier</td>\n",
       "      <td>0.204699</td>\n",
       "      <td>0.060653</td>\n",
       "      <td>0.865524</td>\n",
       "      <td>0.865524</td>\n",
       "      <td>0.0</td>\n",
       "      <td>0.0</td>\n",
       "    </tr>\n",
       "  </tbody>\n",
       "</table>\n",
       "</div>"
      ],
      "text/plain": [
       "                    model  fit_time score_time test_accuracy train_accuracy  \\\n",
       "0      LogisticRegression  0.432185   0.063429      0.976427            1.0   \n",
       "1  DecisionTreeClassifier  0.204665   0.056849      0.865524       0.865524   \n",
       "2    KNeighborsClassifier  0.200199   0.058239       0.86954        0.86981   \n",
       "3           MLPClassifier  0.204699   0.060653      0.865524       0.865524   \n",
       "\n",
       "    test_f1  train_f1  \n",
       "0  0.906958       1.0  \n",
       "1       0.0       0.0  \n",
       "2  0.089744  0.102742  \n",
       "3       0.0       0.0  "
      ]
     },
     "execution_count": 71,
     "metadata": {},
     "output_type": "execute_result"
    }
   ],
   "source": [
    "tunned_classifer: RegressionModel = MLPClassifier(**best_parameters, max_iter=100)\n",
    "\n",
    "grid_scores: Dict[str, List[float]] = cross_validate(tunned_classifier, cleaned_train, y_train, cv=5, scoring=['accuracy', 'f1'], return_train_score=True)\n",
    "\n",
    "scores: List[Any] = ['MLPClassifier', grid_scores['fit_time'].mean(), grid_scores['score_time'].mean(), grid_scores['test_accuracy'].mean(),\n",
    "         grid_scores['train_accuracy'].mean(), grid_scores['test_f1'].mean(), grid_scores['train_f1'].mean()]\n",
    "\n",
    "for i in range(len(column_names)):\n",
    "    scores_df.loc[3, column_names[i]] = scores[i]\n",
    "\n",
    "scores_df.head()"
   ]
  },
  {
   "cell_type": "markdown",
   "id": "6fd9ed7d",
   "metadata": {},
   "source": [
    "Vom exporta un fisier html cu rezultatele:"
   ]
  },
  {
   "cell_type": "code",
   "execution_count": 72,
   "id": "27f07730",
   "metadata": {
    "ExecuteTime": {
     "end_time": "2021-05-28T07:53:28.790635Z",
     "start_time": "2021-05-28T07:53:28.775554Z"
    }
   },
   "outputs": [],
   "source": [
    "html: str = scores_df.to_html()\n",
    "file = open(\"output/SMSSpamCollection_DataSet.html\", \"w\")\n",
    "file.write(html)\n",
    "file.close()"
   ]
  },
  {
   "cell_type": "markdown",
   "id": "d97796b0",
   "metadata": {},
   "source": [
    "## Setul de date `FarmAds`"
   ]
  },
  {
   "cell_type": "markdown",
   "id": "bc3bf367",
   "metadata": {},
   "source": [
    "### Descrierea setului de date"
   ]
  },
  {
   "cell_type": "markdown",
   "id": "936d2b62",
   "metadata": {},
   "source": [
    "Aceste date au fost colectate din reclame de tip text gasite pe 12 website-uri care au diferite teme legate de animalele de la ferma. Au fost incluse informatii despre creatorii reclamei si despre pagina unde reclama se afla. Etichetele sunt bazate pe acceptul sau refuzul proprietarului asupra reclamei astfel: 1 este eticheta pentru reclamele acceptate si -1 este eticheta pentru reclamele respinse.\n",
    "\n",
    "Pentru fiecare reclama, includem cuvintele de la crearea reclamei si cuvintele de pe pagina destinatie. Fiecarui cuvant din partea de creatie ii este atribuit un prefix 'ad-'. Fiecare reclama este pe o linie in fisierul de intrare. Primul cuvant de pe linie este reprezentat de eticheta reclamei.\n",
    "\n",
    "Setul de date este deja standardizat, fiind efectuate deja stop word removal si stemming. \n",
    "\n",
    "De asemenea, exista si o reprezentare bag-of-words in fisierele de intrare. Prima valoare este eticheta, urmata de fiecare atribut nonzero. Toate aceste atribute sunt codate dupa tipul (index:valoare). Totusi, noi vom porni de la fisierul initial si vom incerca sa facem noi toti pasii necesari pentru clasificare."
   ]
  },
  {
   "cell_type": "markdown",
   "id": "37df9999",
   "metadata": {},
   "source": [
    "### Analiza exploratorie a setului de date"
   ]
  },
  {
   "cell_type": "code",
   "execution_count": 73,
   "id": "1f74c7c0",
   "metadata": {
    "ExecuteTime": {
     "end_time": "2021-05-28T07:54:20.565369Z",
     "start_time": "2021-05-28T07:54:20.554899Z"
    }
   },
   "outputs": [],
   "source": [
    "def read_file(path:str) -> pd.DataFrame:\n",
    "    '''\n",
    "    Function to read a file given a path\n",
    "    :param path: string that represents the path of the file\n",
    "    :returns: pandas DataFrame containing the classes and the text of the ads\n",
    "    '''\n",
    "    file = open(path, \"r\")\n",
    "    lines: str = file.read().splitlines()\n",
    "    \n",
    "    words: List[str] = [lines[i].split() for i in range(len(lines))]\n",
    "    clase: List[int] = [int(words[i][0]) for i in range(len(words))]\n",
    "    \n",
    "    ads: List[str] = [' '.join(words[i][1:]) for i in range(len(words))]\n",
    "    data: pd.DataFrame = pd.DataFrame(columns = ['Label', 'Ad'])\n",
    "    data['Label'] = clase\n",
    "    data['Ad'] = ads\n",
    "    \n",
    "    return data"
   ]
  },
  {
   "cell_type": "code",
   "execution_count": 74,
   "id": "dde2ac5b",
   "metadata": {
    "ExecuteTime": {
     "end_time": "2021-05-28T07:54:30.174317Z",
     "start_time": "2021-05-28T07:54:29.872006Z"
    }
   },
   "outputs": [
    {
     "data": {
      "text/html": [
       "<div>\n",
       "<style scoped>\n",
       "    .dataframe tbody tr th:only-of-type {\n",
       "        vertical-align: middle;\n",
       "    }\n",
       "\n",
       "    .dataframe tbody tr th {\n",
       "        vertical-align: top;\n",
       "    }\n",
       "\n",
       "    .dataframe thead th {\n",
       "        text-align: right;\n",
       "    }\n",
       "</style>\n",
       "<table border=\"1\" class=\"dataframe\">\n",
       "  <thead>\n",
       "    <tr style=\"text-align: right;\">\n",
       "      <th></th>\n",
       "      <th>Label</th>\n",
       "      <th>Ad</th>\n",
       "    </tr>\n",
       "  </thead>\n",
       "  <tbody>\n",
       "    <tr>\n",
       "      <th>0</th>\n",
       "      <td>1</td>\n",
       "      <td>ad-jerry ad-bruckheimer ad-chase ad-premier ad...</td>\n",
       "    </tr>\n",
       "    <tr>\n",
       "      <th>1</th>\n",
       "      <td>-1</td>\n",
       "      <td>ad-rheumatoid ad-arthritis ad-expert ad-tip ad...</td>\n",
       "    </tr>\n",
       "    <tr>\n",
       "      <th>2</th>\n",
       "      <td>-1</td>\n",
       "      <td>ad-rheumatologist ad-anju ad-varghese ad-yonke...</td>\n",
       "    </tr>\n",
       "    <tr>\n",
       "      <th>3</th>\n",
       "      <td>-1</td>\n",
       "      <td>ad-siemen ad-water ad-remediation ad-water ad-...</td>\n",
       "    </tr>\n",
       "    <tr>\n",
       "      <th>4</th>\n",
       "      <td>-1</td>\n",
       "      <td>ad-symptom ad-muscle ad-weakness ad-genetic ad...</td>\n",
       "    </tr>\n",
       "    <tr>\n",
       "      <th>5</th>\n",
       "      <td>1</td>\n",
       "      <td>ad-animal ad-animal ad-wild ad-sa ad-official ...</td>\n",
       "    </tr>\n",
       "    <tr>\n",
       "      <th>6</th>\n",
       "      <td>-1</td>\n",
       "      <td>ad-dr ad-enrico ad-fazzini ad-parkinson ad-dis...</td>\n",
       "    </tr>\n",
       "    <tr>\n",
       "      <th>7</th>\n",
       "      <td>-1</td>\n",
       "      <td>ad-ulcerative ad-colitis ad-uc ad-quiz ad-ulce...</td>\n",
       "    </tr>\n",
       "    <tr>\n",
       "      <th>8</th>\n",
       "      <td>-1</td>\n",
       "      <td>ad-wellcentive ad-registry ad-web ad-base ad-p...</td>\n",
       "    </tr>\n",
       "    <tr>\n",
       "      <th>9</th>\n",
       "      <td>1</td>\n",
       "      <td>ad-free ad-raw ad-food ad-video ad-feature ad-...</td>\n",
       "    </tr>\n",
       "  </tbody>\n",
       "</table>\n",
       "</div>"
      ],
      "text/plain": [
       "   Label                                                 Ad\n",
       "0      1  ad-jerry ad-bruckheimer ad-chase ad-premier ad...\n",
       "1     -1  ad-rheumatoid ad-arthritis ad-expert ad-tip ad...\n",
       "2     -1  ad-rheumatologist ad-anju ad-varghese ad-yonke...\n",
       "3     -1  ad-siemen ad-water ad-remediation ad-water ad-...\n",
       "4     -1  ad-symptom ad-muscle ad-weakness ad-genetic ad...\n",
       "5      1  ad-animal ad-animal ad-wild ad-sa ad-official ...\n",
       "6     -1  ad-dr ad-enrico ad-fazzini ad-parkinson ad-dis...\n",
       "7     -1  ad-ulcerative ad-colitis ad-uc ad-quiz ad-ulce...\n",
       "8     -1  ad-wellcentive ad-registry ad-web ad-base ad-p...\n",
       "9      1  ad-free ad-raw ad-food ad-video ad-feature ad-..."
      ]
     },
     "execution_count": 74,
     "metadata": {},
     "output_type": "execute_result"
    }
   ],
   "source": [
    "data: pd.DataFrame = read_file(\"data/farm-ads\")\n",
    "data.head(10)"
   ]
  },
  {
   "cell_type": "markdown",
   "id": "8cc91b79",
   "metadata": {},
   "source": [
    "Exemplificam cum arata o `reclama acceptata`:"
   ]
  },
  {
   "cell_type": "code",
   "execution_count": 75,
   "id": "a82d225d",
   "metadata": {
    "ExecuteTime": {
     "end_time": "2021-05-28T07:54:33.939143Z",
     "start_time": "2021-05-28T07:54:33.931140Z"
    }
   },
   "outputs": [
    {
     "data": {
      "text/plain": [
       "'ad-jerry ad-bruckheimer ad-chase ad-premier ad-sept ad-th ad-clip ad-bruckheimer ad-chase page found'"
      ]
     },
     "execution_count": 75,
     "metadata": {},
     "output_type": "execute_result"
    }
   ],
   "source": [
    "data[data['Label'] == 1].iloc[0]['Ad']"
   ]
  },
  {
   "cell_type": "markdown",
   "id": "0ae821ea",
   "metadata": {},
   "source": [
    "Exemplificam, de asemenea cum arata o `reclama refuzata`:"
   ]
  },
  {
   "cell_type": "code",
   "execution_count": 76,
   "id": "bcc81ea3",
   "metadata": {
    "ExecuteTime": {
     "end_time": "2021-05-28T07:54:35.331133Z",
     "start_time": "2021-05-28T07:54:35.322158Z"
    }
   },
   "outputs": [
    {
     "data": {
      "text/plain": [
       "'ad-rheumatoid ad-arthritis ad-expert ad-tip ad-info ad-article ad-treatment ad-option ad-support title-understand title-rheumatoid title-arthritis title-everyday title-health header-understand header-rheumatoid header-arthritis understand rheumatoid arthritis everyday health root root act consumer root content everyday solution understand rheumatoid arthritis future ra treatment advance rheumatoid arthritis treatment expect future lead researcher ra treatment research exercise ra check tip slideshow help create workout program ra fitness tip question doctor print list rheumatoid arthritis question doctor visit list ra question understand rheumatoid arthritis tip manage rheumatoid arthritis pain mak key change help manage rheumatoid arthritis pain ease joint pain strive eat balance diet help healthy weight sufficient vitamin mineral counter chronic inflammation tip ease rheumatoid arthritis pain cause rheumatoid arthritis inflammation rheumatoid arthritis ra symptom cause inflammation learn inflammation lead ra symptom joint pain stiffness plus discover cause rheumatoid arthritis rheumatoid arthritis inflammation rheumatoid arthritis management research rheumatoid arthritis research lifestyle choice day impact ra symptom example people ra experience depression treate depression help people manage ra control ra rheumatoid arthritis expert yoga ra yoga safe exercise option person rheumatoid arthritis read dr susan lee answer root act consumer rheumatoid arthritis poll lifestyle change help manage ra pain please select option eat healthy balance diet muscle strengthen aerobic exercise sleep night try reduce manage stress technique haven lifestyle change toolkit healthy recipe shop list meal planner recipe box tool root act consumer enter search term register sign newsletter home health common condition add adhd addiction allergy alternative health alzheimer disease anxiety disorder arthritis asthma autism autoimmune disorder bipolar disorder pain breast cancer cancer cardiovascular health cold flu dental health depression diabete diet nutrition digestive health dvt emotional health epilepsy erectile dysfunction family health fibromyalgia fitness gerd headache migraine healthy home healthy live heart health cholesterol hiv aid hypertension ib incontinence kid health health menopause multiple sclerosis osteoporosis pain management pet health psoriasis rheumatoid arthritis schizophrenia senior health sexual health skin beauty sleep stop smok stroke swine flu weight women health yeast infection condition drug symptom checker flu checkup abdominal pain arm pain pain body ach breast pain breathing difficulty chest pain congestion cough diarrhea ear pain excessive sweate faintness fatigue fever ga headache irregular period joint pain leg pain mouth lesion nausea neck pain rash rectal bleed skin lump sore throat vaginal itch vomite food fitness calorie counter healthy recipe search recipe diet nutrition weight fitness community profile blog discussion photo albums everyday health health tool bmi calculator bmr calculator body fat calculator brain game conversion calculator glossary glucose tracker meal planner calorie counter photo gallery recipe box symptom checker video weight tracker everyday health edit profile inbox discussion blog friend tool copyright everyday health inc everydayhealth com everyday health inc help ad policy advertise link feedback advertise notice site third party advertisement site collect information visit site website provide advertisement service obtain information advertise practice choice online behavioral advertise please click material web site provide educational purpose medical advice diagnosis treatment additional information site subject term privacy policy site comply honcode standard trustworthy health information verify'"
      ]
     },
     "execution_count": 76,
     "metadata": {},
     "output_type": "execute_result"
    }
   ],
   "source": [
    "data[data['Label'] == -1].iloc[0]['Ad']"
   ]
  },
  {
   "cell_type": "markdown",
   "id": "a2bced48",
   "metadata": {},
   "source": [
    "Calculam lungimea mesajelor in numar de caractere si adaugam o coloana cu aceasta valoare in dataframe-ul nostru."
   ]
  },
  {
   "cell_type": "code",
   "execution_count": 77,
   "id": "d9c9ef61",
   "metadata": {
    "ExecuteTime": {
     "end_time": "2021-05-28T07:54:41.227485Z",
     "start_time": "2021-05-28T07:54:41.208424Z"
    }
   },
   "outputs": [
    {
     "data": {
      "text/html": [
       "<div>\n",
       "<style scoped>\n",
       "    .dataframe tbody tr th:only-of-type {\n",
       "        vertical-align: middle;\n",
       "    }\n",
       "\n",
       "    .dataframe tbody tr th {\n",
       "        vertical-align: top;\n",
       "    }\n",
       "\n",
       "    .dataframe thead th {\n",
       "        text-align: right;\n",
       "    }\n",
       "</style>\n",
       "<table border=\"1\" class=\"dataframe\">\n",
       "  <thead>\n",
       "    <tr style=\"text-align: right;\">\n",
       "      <th></th>\n",
       "      <th>Label</th>\n",
       "      <th>Ad</th>\n",
       "      <th>Char_Length</th>\n",
       "    </tr>\n",
       "  </thead>\n",
       "  <tbody>\n",
       "    <tr>\n",
       "      <th>0</th>\n",
       "      <td>1</td>\n",
       "      <td>ad-jerry ad-bruckheimer ad-chase ad-premier ad...</td>\n",
       "      <td>100</td>\n",
       "    </tr>\n",
       "    <tr>\n",
       "      <th>1</th>\n",
       "      <td>-1</td>\n",
       "      <td>ad-rheumatoid ad-arthritis ad-expert ad-tip ad...</td>\n",
       "      <td>3816</td>\n",
       "    </tr>\n",
       "    <tr>\n",
       "      <th>2</th>\n",
       "      <td>-1</td>\n",
       "      <td>ad-rheumatologist ad-anju ad-varghese ad-yonke...</td>\n",
       "      <td>656</td>\n",
       "    </tr>\n",
       "    <tr>\n",
       "      <th>3</th>\n",
       "      <td>-1</td>\n",
       "      <td>ad-siemen ad-water ad-remediation ad-water ad-...</td>\n",
       "      <td>1316</td>\n",
       "    </tr>\n",
       "    <tr>\n",
       "      <th>4</th>\n",
       "      <td>-1</td>\n",
       "      <td>ad-symptom ad-muscle ad-weakness ad-genetic ad...</td>\n",
       "      <td>106</td>\n",
       "    </tr>\n",
       "    <tr>\n",
       "      <th>...</th>\n",
       "      <td>...</td>\n",
       "      <td>...</td>\n",
       "      <td>...</td>\n",
       "    </tr>\n",
       "    <tr>\n",
       "      <th>4138</th>\n",
       "      <td>-1</td>\n",
       "      <td>ad-affordable ad-ivf ad-cost ad-efficient ad-i...</td>\n",
       "      <td>1617</td>\n",
       "    </tr>\n",
       "    <tr>\n",
       "      <th>4139</th>\n",
       "      <td>1</td>\n",
       "      <td>ad-mozypro ad-business ad-backup ad-affordable...</td>\n",
       "      <td>1524</td>\n",
       "    </tr>\n",
       "    <tr>\n",
       "      <th>4140</th>\n",
       "      <td>1</td>\n",
       "      <td>ad-oster ad-line ad-clipper ad-oster ad-factor...</td>\n",
       "      <td>7462</td>\n",
       "    </tr>\n",
       "    <tr>\n",
       "      <th>4141</th>\n",
       "      <td>-1</td>\n",
       "      <td>ad-synrevoice ad-schoolconnect ad-trust ad-aut...</td>\n",
       "      <td>1374</td>\n",
       "    </tr>\n",
       "    <tr>\n",
       "      <th>4142</th>\n",
       "      <td>1</td>\n",
       "      <td>ad-vet ad-online ad-veterinarian ad-online ad-...</td>\n",
       "      <td>6885</td>\n",
       "    </tr>\n",
       "  </tbody>\n",
       "</table>\n",
       "<p>4143 rows × 3 columns</p>\n",
       "</div>"
      ],
      "text/plain": [
       "      Label                                                 Ad  Char_Length\n",
       "0         1  ad-jerry ad-bruckheimer ad-chase ad-premier ad...          100\n",
       "1        -1  ad-rheumatoid ad-arthritis ad-expert ad-tip ad...         3816\n",
       "2        -1  ad-rheumatologist ad-anju ad-varghese ad-yonke...          656\n",
       "3        -1  ad-siemen ad-water ad-remediation ad-water ad-...         1316\n",
       "4        -1  ad-symptom ad-muscle ad-weakness ad-genetic ad...          106\n",
       "...     ...                                                ...          ...\n",
       "4138     -1  ad-affordable ad-ivf ad-cost ad-efficient ad-i...         1617\n",
       "4139      1  ad-mozypro ad-business ad-backup ad-affordable...         1524\n",
       "4140      1  ad-oster ad-line ad-clipper ad-oster ad-factor...         7462\n",
       "4141     -1  ad-synrevoice ad-schoolconnect ad-trust ad-aut...         1374\n",
       "4142      1  ad-vet ad-online ad-veterinarian ad-online ad-...         6885\n",
       "\n",
       "[4143 rows x 3 columns]"
      ]
     },
     "execution_count": 77,
     "metadata": {},
     "output_type": "execute_result"
    }
   ],
   "source": [
    "data['Char_Length']: pd.Series = data['Ad'].apply(len)\n",
    "data"
   ]
  },
  {
   "cell_type": "code",
   "execution_count": 78,
   "id": "00be037b",
   "metadata": {
    "ExecuteTime": {
     "end_time": "2021-05-28T07:55:54.720812Z",
     "start_time": "2021-05-28T07:55:54.442689Z"
    }
   },
   "outputs": [
    {
     "data": {
      "image/png": "[encoded data removed]",
      "text/plain": [
       "<Figure size 1080x576 with 1 Axes>"
      ]
     },
     "metadata": {},
     "output_type": "display_data"
    }
   ],
   "source": [
    "plt.figure(figsize=(15, 8))\n",
    "good_length: pd.DataFrame = data[data['Label'] == 1][['Label', 'Char_Length']]\n",
    "bad_length: pd.DataFrame = data[data['Label'] == -1][['Label', 'Char_Length']]\n",
    "ax = sns.distplot(good_length, hist=False, label = 'Accepted')\n",
    "ax = sns.distplot(bad_length, hist=False, label = 'Rejected')\n",
    "plt.xlim(0,15000)\n",
    "plt.title('Distribution of Ad Character Count between Accepted vs. Rejected')\n",
    "sns.set(font_scale=1.3)\n",
    "plt.legend()\n",
    "ax.set_ylabel('Distribution')\n",
    "ax.set_xlabel('Char Lenght of Ad');"
   ]
  },
  {
   "cell_type": "markdown",
   "id": "32948344",
   "metadata": {},
   "source": [
    "Afisam date despre reclamele acceptate:"
   ]
  },
  {
   "cell_type": "code",
   "execution_count": 79,
   "id": "c4f8820e",
   "metadata": {
    "ExecuteTime": {
     "end_time": "2021-05-28T07:55:57.841077Z",
     "start_time": "2021-05-28T07:55:57.818106Z"
    }
   },
   "outputs": [
    {
     "data": {
      "text/html": [
       "<div>\n",
       "<style scoped>\n",
       "    .dataframe tbody tr th:only-of-type {\n",
       "        vertical-align: middle;\n",
       "    }\n",
       "\n",
       "    .dataframe tbody tr th {\n",
       "        vertical-align: top;\n",
       "    }\n",
       "\n",
       "    .dataframe thead th {\n",
       "        text-align: right;\n",
       "    }\n",
       "</style>\n",
       "<table border=\"1\" class=\"dataframe\">\n",
       "  <thead>\n",
       "    <tr style=\"text-align: right;\">\n",
       "      <th></th>\n",
       "      <th>Label</th>\n",
       "      <th>Char_Length</th>\n",
       "    </tr>\n",
       "  </thead>\n",
       "  <tbody>\n",
       "    <tr>\n",
       "      <th>count</th>\n",
       "      <td>2210.0</td>\n",
       "      <td>2210.000000</td>\n",
       "    </tr>\n",
       "    <tr>\n",
       "      <th>mean</th>\n",
       "      <td>1.0</td>\n",
       "      <td>3483.166968</td>\n",
       "    </tr>\n",
       "    <tr>\n",
       "      <th>std</th>\n",
       "      <td>0.0</td>\n",
       "      <td>5608.191154</td>\n",
       "    </tr>\n",
       "    <tr>\n",
       "      <th>min</th>\n",
       "      <td>1.0</td>\n",
       "      <td>31.000000</td>\n",
       "    </tr>\n",
       "    <tr>\n",
       "      <th>25%</th>\n",
       "      <td>1.0</td>\n",
       "      <td>833.250000</td>\n",
       "    </tr>\n",
       "    <tr>\n",
       "      <th>50%</th>\n",
       "      <td>1.0</td>\n",
       "      <td>2049.000000</td>\n",
       "    </tr>\n",
       "    <tr>\n",
       "      <th>75%</th>\n",
       "      <td>1.0</td>\n",
       "      <td>4110.000000</td>\n",
       "    </tr>\n",
       "    <tr>\n",
       "      <th>max</th>\n",
       "      <td>1.0</td>\n",
       "      <td>54314.000000</td>\n",
       "    </tr>\n",
       "  </tbody>\n",
       "</table>\n",
       "</div>"
      ],
      "text/plain": [
       "        Label   Char_Length\n",
       "count  2210.0   2210.000000\n",
       "mean      1.0   3483.166968\n",
       "std       0.0   5608.191154\n",
       "min       1.0     31.000000\n",
       "25%       1.0    833.250000\n",
       "50%       1.0   2049.000000\n",
       "75%       1.0   4110.000000\n",
       "max       1.0  54314.000000"
      ]
     },
     "execution_count": 79,
     "metadata": {},
     "output_type": "execute_result"
    }
   ],
   "source": [
    "data[data['Label'] == 1].describe()"
   ]
  },
  {
   "cell_type": "markdown",
   "id": "a4aee44c",
   "metadata": {},
   "source": [
    "Afisam, de asemenea, date despre reclamele refuzate:"
   ]
  },
  {
   "cell_type": "code",
   "execution_count": 80,
   "id": "6a3ffb35",
   "metadata": {
    "ExecuteTime": {
     "end_time": "2021-05-28T07:55:58.844924Z",
     "start_time": "2021-05-28T07:55:58.831944Z"
    }
   },
   "outputs": [
    {
     "data": {
      "text/html": [
       "<div>\n",
       "<style scoped>\n",
       "    .dataframe tbody tr th:only-of-type {\n",
       "        vertical-align: middle;\n",
       "    }\n",
       "\n",
       "    .dataframe tbody tr th {\n",
       "        vertical-align: top;\n",
       "    }\n",
       "\n",
       "    .dataframe thead th {\n",
       "        text-align: right;\n",
       "    }\n",
       "</style>\n",
       "<table border=\"1\" class=\"dataframe\">\n",
       "  <thead>\n",
       "    <tr style=\"text-align: right;\">\n",
       "      <th></th>\n",
       "      <th>Label</th>\n",
       "      <th>Char_Length</th>\n",
       "    </tr>\n",
       "  </thead>\n",
       "  <tbody>\n",
       "    <tr>\n",
       "      <th>count</th>\n",
       "      <td>1933.0</td>\n",
       "      <td>1933.000000</td>\n",
       "    </tr>\n",
       "    <tr>\n",
       "      <th>mean</th>\n",
       "      <td>-1.0</td>\n",
       "      <td>2918.441800</td>\n",
       "    </tr>\n",
       "    <tr>\n",
       "      <th>std</th>\n",
       "      <td>0.0</td>\n",
       "      <td>3756.327081</td>\n",
       "    </tr>\n",
       "    <tr>\n",
       "      <th>min</th>\n",
       "      <td>-1.0</td>\n",
       "      <td>34.000000</td>\n",
       "    </tr>\n",
       "    <tr>\n",
       "      <th>25%</th>\n",
       "      <td>-1.0</td>\n",
       "      <td>1128.000000</td>\n",
       "    </tr>\n",
       "    <tr>\n",
       "      <th>50%</th>\n",
       "      <td>-1.0</td>\n",
       "      <td>2129.000000</td>\n",
       "    </tr>\n",
       "    <tr>\n",
       "      <th>75%</th>\n",
       "      <td>-1.0</td>\n",
       "      <td>3538.000000</td>\n",
       "    </tr>\n",
       "    <tr>\n",
       "      <th>max</th>\n",
       "      <td>-1.0</td>\n",
       "      <td>63195.000000</td>\n",
       "    </tr>\n",
       "  </tbody>\n",
       "</table>\n",
       "</div>"
      ],
      "text/plain": [
       "        Label   Char_Length\n",
       "count  1933.0   1933.000000\n",
       "mean     -1.0   2918.441800\n",
       "std       0.0   3756.327081\n",
       "min      -1.0     34.000000\n",
       "25%      -1.0   1128.000000\n",
       "50%      -1.0   2129.000000\n",
       "75%      -1.0   3538.000000\n",
       "max      -1.0  63195.000000"
      ]
     },
     "execution_count": 80,
     "metadata": {},
     "output_type": "execute_result"
    }
   ],
   "source": [
    "data[data['Label'] == -1].describe()"
   ]
  },
  {
   "cell_type": "markdown",
   "id": "f63270cb",
   "metadata": {},
   "source": [
    "Observam ca numarul de caractere este destul de asemanator pentru ambele tipuri de reclame. Vom vedea acum si numarul de cuvinte in functie de tipul reclamei."
   ]
  },
  {
   "cell_type": "code",
   "execution_count": 81,
   "id": "ee1c617f",
   "metadata": {
    "ExecuteTime": {
     "end_time": "2021-05-28T07:56:05.563170Z",
     "start_time": "2021-05-28T07:56:05.406333Z"
    }
   },
   "outputs": [
    {
     "data": {
      "text/html": [
       "<div>\n",
       "<style scoped>\n",
       "    .dataframe tbody tr th:only-of-type {\n",
       "        vertical-align: middle;\n",
       "    }\n",
       "\n",
       "    .dataframe tbody tr th {\n",
       "        vertical-align: top;\n",
       "    }\n",
       "\n",
       "    .dataframe thead th {\n",
       "        text-align: right;\n",
       "    }\n",
       "</style>\n",
       "<table border=\"1\" class=\"dataframe\">\n",
       "  <thead>\n",
       "    <tr style=\"text-align: right;\">\n",
       "      <th></th>\n",
       "      <th>Label</th>\n",
       "      <th>Ad</th>\n",
       "      <th>Char_Length</th>\n",
       "      <th>Word_Count</th>\n",
       "    </tr>\n",
       "  </thead>\n",
       "  <tbody>\n",
       "    <tr>\n",
       "      <th>0</th>\n",
       "      <td>1</td>\n",
       "      <td>ad-jerry ad-bruckheimer ad-chase ad-premier ad...</td>\n",
       "      <td>100</td>\n",
       "      <td>11</td>\n",
       "    </tr>\n",
       "    <tr>\n",
       "      <th>1</th>\n",
       "      <td>-1</td>\n",
       "      <td>ad-rheumatoid ad-arthritis ad-expert ad-tip ad...</td>\n",
       "      <td>3816</td>\n",
       "      <td>498</td>\n",
       "    </tr>\n",
       "    <tr>\n",
       "      <th>2</th>\n",
       "      <td>-1</td>\n",
       "      <td>ad-rheumatologist ad-anju ad-varghese ad-yonke...</td>\n",
       "      <td>656</td>\n",
       "      <td>82</td>\n",
       "    </tr>\n",
       "    <tr>\n",
       "      <th>3</th>\n",
       "      <td>-1</td>\n",
       "      <td>ad-siemen ad-water ad-remediation ad-water ad-...</td>\n",
       "      <td>1316</td>\n",
       "      <td>159</td>\n",
       "    </tr>\n",
       "    <tr>\n",
       "      <th>4</th>\n",
       "      <td>-1</td>\n",
       "      <td>ad-symptom ad-muscle ad-weakness ad-genetic ad...</td>\n",
       "      <td>106</td>\n",
       "      <td>11</td>\n",
       "    </tr>\n",
       "    <tr>\n",
       "      <th>...</th>\n",
       "      <td>...</td>\n",
       "      <td>...</td>\n",
       "      <td>...</td>\n",
       "      <td>...</td>\n",
       "    </tr>\n",
       "    <tr>\n",
       "      <th>4138</th>\n",
       "      <td>-1</td>\n",
       "      <td>ad-affordable ad-ivf ad-cost ad-efficient ad-i...</td>\n",
       "      <td>1617</td>\n",
       "      <td>191</td>\n",
       "    </tr>\n",
       "    <tr>\n",
       "      <th>4139</th>\n",
       "      <td>1</td>\n",
       "      <td>ad-mozypro ad-business ad-backup ad-affordable...</td>\n",
       "      <td>1524</td>\n",
       "      <td>204</td>\n",
       "    </tr>\n",
       "    <tr>\n",
       "      <th>4140</th>\n",
       "      <td>1</td>\n",
       "      <td>ad-oster ad-line ad-clipper ad-oster ad-factor...</td>\n",
       "      <td>7462</td>\n",
       "      <td>1139</td>\n",
       "    </tr>\n",
       "    <tr>\n",
       "      <th>4141</th>\n",
       "      <td>-1</td>\n",
       "      <td>ad-synrevoice ad-schoolconnect ad-trust ad-aut...</td>\n",
       "      <td>1374</td>\n",
       "      <td>145</td>\n",
       "    </tr>\n",
       "    <tr>\n",
       "      <th>4142</th>\n",
       "      <td>1</td>\n",
       "      <td>ad-vet ad-online ad-veterinarian ad-online ad-...</td>\n",
       "      <td>6885</td>\n",
       "      <td>970</td>\n",
       "    </tr>\n",
       "  </tbody>\n",
       "</table>\n",
       "<p>4143 rows × 4 columns</p>\n",
       "</div>"
      ],
      "text/plain": [
       "      Label                                                 Ad  Char_Length  \\\n",
       "0         1  ad-jerry ad-bruckheimer ad-chase ad-premier ad...          100   \n",
       "1        -1  ad-rheumatoid ad-arthritis ad-expert ad-tip ad...         3816   \n",
       "2        -1  ad-rheumatologist ad-anju ad-varghese ad-yonke...          656   \n",
       "3        -1  ad-siemen ad-water ad-remediation ad-water ad-...         1316   \n",
       "4        -1  ad-symptom ad-muscle ad-weakness ad-genetic ad...          106   \n",
       "...     ...                                                ...          ...   \n",
       "4138     -1  ad-affordable ad-ivf ad-cost ad-efficient ad-i...         1617   \n",
       "4139      1  ad-mozypro ad-business ad-backup ad-affordable...         1524   \n",
       "4140      1  ad-oster ad-line ad-clipper ad-oster ad-factor...         7462   \n",
       "4141     -1  ad-synrevoice ad-schoolconnect ad-trust ad-aut...         1374   \n",
       "4142      1  ad-vet ad-online ad-veterinarian ad-online ad-...         6885   \n",
       "\n",
       "      Word_Count  \n",
       "0             11  \n",
       "1            498  \n",
       "2             82  \n",
       "3            159  \n",
       "4             11  \n",
       "...          ...  \n",
       "4138         191  \n",
       "4139         204  \n",
       "4140        1139  \n",
       "4141         145  \n",
       "4142         970  \n",
       "\n",
       "[4143 rows x 4 columns]"
      ]
     },
     "execution_count": 81,
     "metadata": {},
     "output_type": "execute_result"
    }
   ],
   "source": [
    "data['Word_Count']: pd.Series = data['Ad'].str.split().str.len()\n",
    "data"
   ]
  },
  {
   "cell_type": "code",
   "execution_count": 82,
   "id": "ced9da68",
   "metadata": {
    "ExecuteTime": {
     "end_time": "2021-05-28T07:56:19.342693Z",
     "start_time": "2021-05-28T07:56:19.054236Z"
    }
   },
   "outputs": [
    {
     "data": {
      "image/png": "[encoded data removed]",
      "text/plain": [
       "<Figure size 1080x576 with 1 Axes>"
      ]
     },
     "metadata": {},
     "output_type": "display_data"
    }
   ],
   "source": [
    "plt.figure(figsize=(15, 8))\n",
    "good_length: pd.DataFrame = data[data['Label'] == 1][['Label', 'Word_Count']]\n",
    "bad_length: pd.DataFrame = data[data['Label'] == -1][['Label', 'Word_Count']]\n",
    "ax = sns.distplot(good_length, hist=False, label = 'Accepted')\n",
    "ax = sns.distplot(bad_length, hist=False, label = 'Rejected')\n",
    "plt.xlim(0, 5000)\n",
    "plt.title('Distribution of Ad Word Count between Accepted vs. Rejected')\n",
    "sns.set(font_scale=1.3)\n",
    "plt.legend()\n",
    "ax.set_ylabel('Distribution')\n",
    "ax.set_xlabel('Word Count');"
   ]
  },
  {
   "cell_type": "code",
   "execution_count": 83,
   "id": "92cac16a",
   "metadata": {
    "ExecuteTime": {
     "end_time": "2021-05-28T07:56:21.314476Z",
     "start_time": "2021-05-28T07:56:21.096139Z"
    }
   },
   "outputs": [
    {
     "data": {
      "image/png": "[encoded data removed]",
      "text/plain": [
       "<Figure size 432x288 with 1 Axes>"
      ]
     },
     "metadata": {},
     "output_type": "display_data"
    }
   ],
   "source": [
    "sns.scatterplot(x='Word_Count', y='Char_Length', data=data);"
   ]
  },
  {
   "cell_type": "markdown",
   "id": "412262a3",
   "metadata": {},
   "source": [
    "Se poate observa ca numarul de caractere este similar cu numarul de cuvinte, aflandu-se intr-o relatie aproape liniara.\n",
    "\n",
    "Pentru a evita problemele, este mai bine sa alegem doar una dintre trasaturi. In consecinta, vom sterge din dataframe coloana 'Char_Length'."
   ]
  },
  {
   "cell_type": "code",
   "execution_count": 84,
   "id": "3385bc95",
   "metadata": {
    "ExecuteTime": {
     "end_time": "2021-05-28T07:56:24.312898Z",
     "start_time": "2021-05-28T07:56:24.287969Z"
    }
   },
   "outputs": [
    {
     "data": {
      "text/html": [
       "<div>\n",
       "<style scoped>\n",
       "    .dataframe tbody tr th:only-of-type {\n",
       "        vertical-align: middle;\n",
       "    }\n",
       "\n",
       "    .dataframe tbody tr th {\n",
       "        vertical-align: top;\n",
       "    }\n",
       "\n",
       "    .dataframe thead th {\n",
       "        text-align: right;\n",
       "    }\n",
       "</style>\n",
       "<table border=\"1\" class=\"dataframe\">\n",
       "  <thead>\n",
       "    <tr style=\"text-align: right;\">\n",
       "      <th></th>\n",
       "      <th>Label</th>\n",
       "      <th>Ad</th>\n",
       "      <th>Word_Count</th>\n",
       "    </tr>\n",
       "  </thead>\n",
       "  <tbody>\n",
       "    <tr>\n",
       "      <th>0</th>\n",
       "      <td>1</td>\n",
       "      <td>ad-jerry ad-bruckheimer ad-chase ad-premier ad...</td>\n",
       "      <td>11</td>\n",
       "    </tr>\n",
       "    <tr>\n",
       "      <th>1</th>\n",
       "      <td>-1</td>\n",
       "      <td>ad-rheumatoid ad-arthritis ad-expert ad-tip ad...</td>\n",
       "      <td>498</td>\n",
       "    </tr>\n",
       "    <tr>\n",
       "      <th>2</th>\n",
       "      <td>-1</td>\n",
       "      <td>ad-rheumatologist ad-anju ad-varghese ad-yonke...</td>\n",
       "      <td>82</td>\n",
       "    </tr>\n",
       "    <tr>\n",
       "      <th>3</th>\n",
       "      <td>-1</td>\n",
       "      <td>ad-siemen ad-water ad-remediation ad-water ad-...</td>\n",
       "      <td>159</td>\n",
       "    </tr>\n",
       "    <tr>\n",
       "      <th>4</th>\n",
       "      <td>-1</td>\n",
       "      <td>ad-symptom ad-muscle ad-weakness ad-genetic ad...</td>\n",
       "      <td>11</td>\n",
       "    </tr>\n",
       "    <tr>\n",
       "      <th>...</th>\n",
       "      <td>...</td>\n",
       "      <td>...</td>\n",
       "      <td>...</td>\n",
       "    </tr>\n",
       "    <tr>\n",
       "      <th>4138</th>\n",
       "      <td>-1</td>\n",
       "      <td>ad-affordable ad-ivf ad-cost ad-efficient ad-i...</td>\n",
       "      <td>191</td>\n",
       "    </tr>\n",
       "    <tr>\n",
       "      <th>4139</th>\n",
       "      <td>1</td>\n",
       "      <td>ad-mozypro ad-business ad-backup ad-affordable...</td>\n",
       "      <td>204</td>\n",
       "    </tr>\n",
       "    <tr>\n",
       "      <th>4140</th>\n",
       "      <td>1</td>\n",
       "      <td>ad-oster ad-line ad-clipper ad-oster ad-factor...</td>\n",
       "      <td>1139</td>\n",
       "    </tr>\n",
       "    <tr>\n",
       "      <th>4141</th>\n",
       "      <td>-1</td>\n",
       "      <td>ad-synrevoice ad-schoolconnect ad-trust ad-aut...</td>\n",
       "      <td>145</td>\n",
       "    </tr>\n",
       "    <tr>\n",
       "      <th>4142</th>\n",
       "      <td>1</td>\n",
       "      <td>ad-vet ad-online ad-veterinarian ad-online ad-...</td>\n",
       "      <td>970</td>\n",
       "    </tr>\n",
       "  </tbody>\n",
       "</table>\n",
       "<p>4143 rows × 3 columns</p>\n",
       "</div>"
      ],
      "text/plain": [
       "      Label                                                 Ad  Word_Count\n",
       "0         1  ad-jerry ad-bruckheimer ad-chase ad-premier ad...          11\n",
       "1        -1  ad-rheumatoid ad-arthritis ad-expert ad-tip ad...         498\n",
       "2        -1  ad-rheumatologist ad-anju ad-varghese ad-yonke...          82\n",
       "3        -1  ad-siemen ad-water ad-remediation ad-water ad-...         159\n",
       "4        -1  ad-symptom ad-muscle ad-weakness ad-genetic ad...          11\n",
       "...     ...                                                ...         ...\n",
       "4138     -1  ad-affordable ad-ivf ad-cost ad-efficient ad-i...         191\n",
       "4139      1  ad-mozypro ad-business ad-backup ad-affordable...         204\n",
       "4140      1  ad-oster ad-line ad-clipper ad-oster ad-factor...        1139\n",
       "4141     -1  ad-synrevoice ad-schoolconnect ad-trust ad-aut...         145\n",
       "4142      1  ad-vet ad-online ad-veterinarian ad-online ad-...         970\n",
       "\n",
       "[4143 rows x 3 columns]"
      ]
     },
     "execution_count": 84,
     "metadata": {},
     "output_type": "execute_result"
    }
   ],
   "source": [
    "data: pd.DataFrame = data.drop('Char_Length', axis=1).reset_index(drop=True)\n",
    "data"
   ]
  },
  {
   "cell_type": "markdown",
   "id": "529c0a0c",
   "metadata": {},
   "source": [
    "Vom verifica acum care sunt cuvintele care apar cel mai des in functie de tipul reclamei:"
   ]
  },
  {
   "cell_type": "code",
   "execution_count": 85,
   "id": "0838881b",
   "metadata": {
    "ExecuteTime": {
     "end_time": "2021-05-28T07:56:32.551571Z",
     "start_time": "2021-05-28T07:56:31.757237Z"
    }
   },
   "outputs": [],
   "source": [
    "good_dictionary: Dict = {}\n",
    "bad_dictionary: Dict = {}\n",
    "\n",
    "def word_count(word: str, dictionary: Dict):\n",
    "    '''\n",
    "    Function to count how often a word appears in a dictionary.\n",
    "    :param word: string that represents current word\n",
    "    :param dictionary: dictionary with keys of type string and values of type int that contains number of occurences of :param word\n",
    "    :returns None:\n",
    "    '''\n",
    "    if word in dictionary:\n",
    "        dictionary[word] +=1\n",
    "    else:\n",
    "        dictionary[word] = 1\n",
    "\n",
    "good_list: List[str] = ' '.join(data[data['Label'] == 1]['Ad'].tolist()).split()\n",
    "bad_list: List[str] = ' '.join(data[data['Label'] == -1]['Ad'].tolist()).split()\n",
    "\n",
    "for word in good_list:\n",
    "    word_count(word, good_dictionary)\n",
    "\n",
    "for word in bad_list:\n",
    "    word_count(word, bad_dictionary)"
   ]
  },
  {
   "cell_type": "markdown",
   "id": "0b5993a3",
   "metadata": {
    "ExecuteTime": {
     "end_time": "2021-05-26T11:11:22.325697Z",
     "start_time": "2021-05-26T11:11:22.291744Z"
    }
   },
   "source": [
    "Vom genera DataFrame-uri pentru numarul de cuvinte si vom selecta cele mai frecvente 10 cuvinte"
   ]
  },
  {
   "cell_type": "code",
   "execution_count": 86,
   "id": "a02243d6",
   "metadata": {
    "ExecuteTime": {
     "end_time": "2021-05-28T07:56:36.155269Z",
     "start_time": "2021-05-28T07:56:36.080484Z"
    }
   },
   "outputs": [],
   "source": [
    "good_count: pd.DataFrame = pd.DataFrame(list(good_dictionary.items()), columns = ['word', 'count']).sort_values(by = 'count', ascending = False).iloc[:10]\n",
    "bad_count: pd.DataFrame = pd.DataFrame(list(bad_dictionary.items()), columns = ['word', 'count']).sort_values(by = 'count', ascending = False).iloc[:10]"
   ]
  },
  {
   "cell_type": "markdown",
   "id": "736f94f6",
   "metadata": {},
   "source": [
    "Cuvintele care apar cel mai des in reclamele acceptate sunt:"
   ]
  },
  {
   "cell_type": "code",
   "execution_count": 87,
   "id": "f4b5df55",
   "metadata": {
    "ExecuteTime": {
     "end_time": "2021-05-28T07:56:37.959269Z",
     "start_time": "2021-05-28T07:56:37.943313Z"
    }
   },
   "outputs": [
    {
     "data": {
      "text/html": [
       "<div>\n",
       "<style scoped>\n",
       "    .dataframe tbody tr th:only-of-type {\n",
       "        vertical-align: middle;\n",
       "    }\n",
       "\n",
       "    .dataframe tbody tr th {\n",
       "        vertical-align: top;\n",
       "    }\n",
       "\n",
       "    .dataframe thead th {\n",
       "        text-align: right;\n",
       "    }\n",
       "</style>\n",
       "<table border=\"1\" class=\"dataframe\">\n",
       "  <thead>\n",
       "    <tr style=\"text-align: right;\">\n",
       "      <th></th>\n",
       "      <th>word</th>\n",
       "      <th>count</th>\n",
       "    </tr>\n",
       "  </thead>\n",
       "  <tbody>\n",
       "    <tr>\n",
       "      <th>0</th>\n",
       "      <td>list</td>\n",
       "      <td>19179</td>\n",
       "    </tr>\n",
       "    <tr>\n",
       "      <th>1</th>\n",
       "      <td>product</td>\n",
       "      <td>14459</td>\n",
       "    </tr>\n",
       "    <tr>\n",
       "      <th>2</th>\n",
       "      <td>com</td>\n",
       "      <td>8444</td>\n",
       "    </tr>\n",
       "    <tr>\n",
       "      <th>3</th>\n",
       "      <td>save</td>\n",
       "      <td>7153</td>\n",
       "    </tr>\n",
       "    <tr>\n",
       "      <th>4</th>\n",
       "      <td>pet</td>\n",
       "      <td>7015</td>\n",
       "    </tr>\n",
       "    <tr>\n",
       "      <th>5</th>\n",
       "      <td>ad</td>\n",
       "      <td>6838</td>\n",
       "    </tr>\n",
       "    <tr>\n",
       "      <th>6</th>\n",
       "      <td>name</td>\n",
       "      <td>6601</td>\n",
       "    </tr>\n",
       "    <tr>\n",
       "      <th>7</th>\n",
       "      <td>create</td>\n",
       "      <td>6528</td>\n",
       "    </tr>\n",
       "    <tr>\n",
       "      <th>8</th>\n",
       "      <td>law</td>\n",
       "      <td>5975</td>\n",
       "    </tr>\n",
       "    <tr>\n",
       "      <th>9</th>\n",
       "      <td>please</td>\n",
       "      <td>5959</td>\n",
       "    </tr>\n",
       "  </tbody>\n",
       "</table>\n",
       "</div>"
      ],
      "text/plain": [
       "      word  count\n",
       "0     list  19179\n",
       "1  product  14459\n",
       "2      com   8444\n",
       "3     save   7153\n",
       "4      pet   7015\n",
       "5       ad   6838\n",
       "6     name   6601\n",
       "7   create   6528\n",
       "8      law   5975\n",
       "9   please   5959"
      ]
     },
     "execution_count": 87,
     "metadata": {},
     "output_type": "execute_result"
    }
   ],
   "source": [
    "good_count.head(10).reset_index(drop=True)"
   ]
  },
  {
   "cell_type": "markdown",
   "id": "a681c6b5",
   "metadata": {},
   "source": [
    "Cuvintele care apar cel mai des in reclamele refuzate sunt:"
   ]
  },
  {
   "cell_type": "code",
   "execution_count": 88,
   "id": "0fa4518d",
   "metadata": {
    "ExecuteTime": {
     "end_time": "2021-05-28T07:56:39.610718Z",
     "start_time": "2021-05-28T07:56:39.592680Z"
    }
   },
   "outputs": [
    {
     "data": {
      "text/html": [
       "<div>\n",
       "<style scoped>\n",
       "    .dataframe tbody tr th:only-of-type {\n",
       "        vertical-align: middle;\n",
       "    }\n",
       "\n",
       "    .dataframe tbody tr th {\n",
       "        vertical-align: top;\n",
       "    }\n",
       "\n",
       "    .dataframe thead th {\n",
       "        text-align: right;\n",
       "    }\n",
       "</style>\n",
       "<table border=\"1\" class=\"dataframe\">\n",
       "  <thead>\n",
       "    <tr style=\"text-align: right;\">\n",
       "      <th></th>\n",
       "      <th>word</th>\n",
       "      <th>count</th>\n",
       "    </tr>\n",
       "  </thead>\n",
       "  <tbody>\n",
       "    <tr>\n",
       "      <th>0</th>\n",
       "      <td>disease</td>\n",
       "      <td>6502</td>\n",
       "    </tr>\n",
       "    <tr>\n",
       "      <th>1</th>\n",
       "      <td>treatment</td>\n",
       "      <td>5398</td>\n",
       "    </tr>\n",
       "    <tr>\n",
       "      <th>2</th>\n",
       "      <td>health</td>\n",
       "      <td>4115</td>\n",
       "    </tr>\n",
       "    <tr>\n",
       "      <th>3</th>\n",
       "      <td>home</td>\n",
       "      <td>3625</td>\n",
       "    </tr>\n",
       "    <tr>\n",
       "      <th>4</th>\n",
       "      <td>pain</td>\n",
       "      <td>3348</td>\n",
       "    </tr>\n",
       "    <tr>\n",
       "      <th>5</th>\n",
       "      <td>com</td>\n",
       "      <td>3323</td>\n",
       "    </tr>\n",
       "    <tr>\n",
       "      <th>6</th>\n",
       "      <td>product</td>\n",
       "      <td>3146</td>\n",
       "    </tr>\n",
       "    <tr>\n",
       "      <th>7</th>\n",
       "      <td>symptom</td>\n",
       "      <td>3040</td>\n",
       "    </tr>\n",
       "    <tr>\n",
       "      <th>8</th>\n",
       "      <td>help</td>\n",
       "      <td>2971</td>\n",
       "    </tr>\n",
       "    <tr>\n",
       "      <th>9</th>\n",
       "      <td>information</td>\n",
       "      <td>2832</td>\n",
       "    </tr>\n",
       "  </tbody>\n",
       "</table>\n",
       "</div>"
      ],
      "text/plain": [
       "          word  count\n",
       "0      disease   6502\n",
       "1    treatment   5398\n",
       "2       health   4115\n",
       "3         home   3625\n",
       "4         pain   3348\n",
       "5          com   3323\n",
       "6      product   3146\n",
       "7      symptom   3040\n",
       "8         help   2971\n",
       "9  information   2832"
      ]
     },
     "execution_count": 88,
     "metadata": {},
     "output_type": "execute_result"
    }
   ],
   "source": [
    "bad_count.head(10).reset_index(drop=True)"
   ]
  },
  {
   "cell_type": "markdown",
   "id": "11241462",
   "metadata": {},
   "source": [
    "### Bag of Words"
   ]
  },
  {
   "cell_type": "code",
   "execution_count": 89,
   "id": "1659bbdd",
   "metadata": {
    "ExecuteTime": {
     "end_time": "2021-05-28T07:57:01.511594Z",
     "start_time": "2021-05-28T07:57:01.503069Z"
    }
   },
   "outputs": [],
   "source": [
    "X_data: pd.DataFrame = data.drop(columns = ['Label'])\n",
    "y_data: pd.Series = data['Label']"
   ]
  },
  {
   "cell_type": "code",
   "execution_count": 90,
   "id": "f98e0f27",
   "metadata": {
    "ExecuteTime": {
     "end_time": "2021-05-28T07:57:02.633298Z",
     "start_time": "2021-05-28T07:57:02.617323Z"
    }
   },
   "outputs": [],
   "source": [
    "vectorizer: CountVectorizer = CountVectorizer()"
   ]
  },
  {
   "cell_type": "code",
   "execution_count": 91,
   "id": "9ae1ba07",
   "metadata": {
    "ExecuteTime": {
     "end_time": "2021-05-28T07:57:08.502910Z",
     "start_time": "2021-05-28T07:57:07.328509Z"
    }
   },
   "outputs": [
    {
     "data": {
      "text/plain": [
       "43602"
      ]
     },
     "execution_count": 91,
     "metadata": {},
     "output_type": "execute_result"
    }
   ],
   "source": [
    "document_matrix: TfidfTransformer = vectorizer.fit(X_data['Ad'])\n",
    "len(document_matrix.vocabulary_)"
   ]
  },
  {
   "cell_type": "markdown",
   "id": "56a1759e",
   "metadata": {},
   "source": [
    "Testam CountVectorizer() pe una dintre reclame."
   ]
  },
  {
   "cell_type": "code",
   "execution_count": 92,
   "id": "4ebdb0fa",
   "metadata": {
    "ExecuteTime": {
     "end_time": "2021-05-28T07:57:15.348447Z",
     "start_time": "2021-05-28T07:57:15.332958Z"
    }
   },
   "outputs": [
    {
     "name": "stdout",
     "output_type": "stream",
     "text": [
      "  (0, 234)\t1\n",
      "  (0, 423)\t8\n",
      "  (0, 463)\t1\n",
      "  (0, 620)\t1\n",
      "  (0, 1122)\t5\n",
      "  (0, 1279)\t1\n",
      "  (0, 2493)\t5\n",
      "  (0, 3123)\t1\n",
      "  (0, 3928)\t1\n",
      "  (0, 4441)\t5\n",
      "  (0, 4472)\t1\n",
      "  (0, 5366)\t1\n",
      "  (0, 5838)\t1\n",
      "  (0, 5968)\t2\n",
      "  (0, 6058)\t2\n",
      "  (0, 6065)\t2\n",
      "  (0, 6088)\t1\n",
      "  (0, 6893)\t2\n",
      "  (0, 7088)\t1\n",
      "  (0, 7132)\t1\n",
      "  (0, 8160)\t2\n",
      "  (0, 8339)\t1\n",
      "  (0, 9930)\t3\n",
      "  (0, 10411)\t4\n",
      "  (0, 10873)\t2\n",
      "  :\t:\n",
      "  (0, 28183)\t3\n",
      "  (0, 28462)\t1\n",
      "  (0, 28489)\t1\n",
      "  (0, 28903)\t9\n",
      "  (0, 29648)\t12\n",
      "  (0, 29649)\t2\n",
      "  (0, 29774)\t1\n",
      "  (0, 30144)\t1\n",
      "  (0, 30692)\t6\n",
      "  (0, 31027)\t1\n",
      "  (0, 32535)\t4\n",
      "  (0, 32557)\t2\n",
      "  (0, 35416)\t5\n",
      "  (0, 36299)\t1\n",
      "  (0, 36305)\t1\n",
      "  (0, 37376)\t1\n",
      "  (0, 37385)\t17\n",
      "  (0, 38846)\t2\n",
      "  (0, 38951)\t1\n",
      "  (0, 39100)\t3\n",
      "  (0, 41072)\t1\n",
      "  (0, 41185)\t2\n",
      "  (0, 41338)\t1\n",
      "  (0, 41982)\t7\n",
      "  (0, 42027)\t1\n"
     ]
    },
    {
     "data": {
      "text/plain": [
       "(1, 43602)"
      ]
     },
     "execution_count": 92,
     "metadata": {},
     "output_type": "execute_result"
    }
   ],
   "source": [
    "train_bow = vectorizer.transform([X_data['Ad'][25]])\n",
    "print(train_bow)\n",
    "train_bow.shape"
   ]
  },
  {
   "cell_type": "markdown",
   "id": "f7e78709",
   "metadata": {},
   "source": [
    "Folosind `transform`, modelul nostru poate returna o matrice care contine numarul de aparitii ale fiecarui cuvant.\n",
    "\n",
    "Verificam ce cuvant corespunde numarului 39100."
   ]
  },
  {
   "cell_type": "code",
   "execution_count": 93,
   "id": "07ba2541",
   "metadata": {
    "ExecuteTime": {
     "end_time": "2021-05-28T07:57:17.538998Z",
     "start_time": "2021-05-28T07:57:17.501076Z"
    }
   },
   "outputs": [
    {
     "name": "stdout",
     "output_type": "stream",
     "text": [
      "total\n"
     ]
    }
   ],
   "source": [
    "print(vectorizer.get_feature_names()[39100])"
   ]
  },
  {
   "cell_type": "markdown",
   "id": "9471ac7c",
   "metadata": {},
   "source": [
    "Verificam daca reclama contine acest cuvant."
   ]
  },
  {
   "cell_type": "code",
   "execution_count": 94,
   "id": "4942572b",
   "metadata": {
    "ExecuteTime": {
     "end_time": "2021-05-28T07:57:18.994720Z",
     "start_time": "2021-05-28T07:57:18.989734Z"
    }
   },
   "outputs": [
    {
     "data": {
      "text/plain": [
       "'ad-horse ad-vet ad-buy ad-nutritional ad-supplement ad-horse ad-wellness ad-performance title-equine title-platinumperformance header-equine equine platinumperformance horse dog cat product platinum performance platinum performance cj ortho chon ortho chon ii hemo flo bio sponge skin allergy formula platinum potency category total horse health athletic performance bone density hoof support immune support digestive health joint support metabolic support reproduction fertility skin allergy weight management product platinum pak guide pak pak meet platinum horse platinum platinum platinum advisor platinum partner sponsorship contact log view cart foundation platinum bar athletic performance bone density cardio circulatory support immune support joint support vitamin mineral weight loss product horse total horse health athletic performance bone health hoof support immune health digestive health joint support metabolic support reproduction fertility skin allergy weight management product dog cat foundation athletic performance bone density digestive health immune support joint support reproduction fertility skin allergy weight gain weight loss product view cart account info request catalog address book platinum pass home equine equine total horse health athletic performance bone health digestive health hoof support immune support joint support metabolic support reproduction fertility skin allergy support weight gain weight loss product home contact request catalog toll free am pm pst monday friday copyright platinum performance inc'"
      ]
     },
     "execution_count": 94,
     "metadata": {},
     "output_type": "execute_result"
    }
   ],
   "source": [
    "X_data['Ad'][25]"
   ]
  },
  {
   "cell_type": "markdown",
   "id": "6fb121e2",
   "metadata": {},
   "source": [
    "Aplicam `CountVectorizer()` pe tot setul de date."
   ]
  },
  {
   "cell_type": "code",
   "execution_count": 95,
   "id": "fc78be5b",
   "metadata": {
    "ExecuteTime": {
     "end_time": "2021-05-28T07:57:22.300293Z",
     "start_time": "2021-05-28T07:57:21.189126Z"
    }
   },
   "outputs": [
    {
     "name": "stdout",
     "output_type": "stream",
     "text": [
      "Shape of matrix: (4143, 43602)\n",
      "Ammount of Non-Zero occurences: 770770\n"
     ]
    }
   ],
   "source": [
    "data_count = vectorizer.transform(X_data['Ad'])\n",
    "\n",
    "print(f'Shape of matrix: {data_count.shape}')\n",
    "print(f'Ammount of Non-Zero occurences: {data_count.nnz}')"
   ]
  },
  {
   "cell_type": "code",
   "execution_count": 96,
   "id": "1d81816a",
   "metadata": {
    "ExecuteTime": {
     "end_time": "2021-05-28T07:57:23.875862Z",
     "start_time": "2021-05-28T07:57:23.562936Z"
    }
   },
   "outputs": [
    {
     "data": {
      "text/html": [
       "<div>\n",
       "<style scoped>\n",
       "    .dataframe tbody tr th:only-of-type {\n",
       "        vertical-align: middle;\n",
       "    }\n",
       "\n",
       "    .dataframe tbody tr th {\n",
       "        vertical-align: top;\n",
       "    }\n",
       "\n",
       "    .dataframe thead th {\n",
       "        text-align: right;\n",
       "    }\n",
       "</style>\n",
       "<table border=\"1\" class=\"dataframe\">\n",
       "  <thead>\n",
       "    <tr style=\"text-align: right;\">\n",
       "      <th></th>\n",
       "      <th>aa</th>\n",
       "      <th>aaa</th>\n",
       "      <th>aaaa</th>\n",
       "      <th>aaaaa</th>\n",
       "      <th>aaaaaaaaadc</th>\n",
       "      <th>aaaaaaaaaew</th>\n",
       "      <th>aaaaaaaaato</th>\n",
       "      <th>aaaaaaaabhc</th>\n",
       "      <th>aaaaaaaagy</th>\n",
       "      <th>aaahc</th>\n",
       "      <th>...</th>\n",
       "      <th>zymine</th>\n",
       "      <th>zymosine</th>\n",
       "      <th>zyprexa</th>\n",
       "      <th>zyrpxqeb</th>\n",
       "      <th>zyrtec</th>\n",
       "      <th>zyvox</th>\n",
       "      <th>zz</th>\n",
       "      <th>zzakhrqaww</th>\n",
       "      <th>zzay</th>\n",
       "      <th>zzz</th>\n",
       "    </tr>\n",
       "  </thead>\n",
       "  <tbody>\n",
       "    <tr>\n",
       "      <th>0</th>\n",
       "      <td>0</td>\n",
       "      <td>0</td>\n",
       "      <td>0</td>\n",
       "      <td>0</td>\n",
       "      <td>0</td>\n",
       "      <td>0</td>\n",
       "      <td>0</td>\n",
       "      <td>0</td>\n",
       "      <td>0</td>\n",
       "      <td>0</td>\n",
       "      <td>...</td>\n",
       "      <td>0</td>\n",
       "      <td>0</td>\n",
       "      <td>0</td>\n",
       "      <td>0</td>\n",
       "      <td>0</td>\n",
       "      <td>0</td>\n",
       "      <td>0</td>\n",
       "      <td>0</td>\n",
       "      <td>0</td>\n",
       "      <td>0</td>\n",
       "    </tr>\n",
       "    <tr>\n",
       "      <th>1</th>\n",
       "      <td>0</td>\n",
       "      <td>0</td>\n",
       "      <td>0</td>\n",
       "      <td>0</td>\n",
       "      <td>0</td>\n",
       "      <td>0</td>\n",
       "      <td>0</td>\n",
       "      <td>0</td>\n",
       "      <td>0</td>\n",
       "      <td>0</td>\n",
       "      <td>...</td>\n",
       "      <td>0</td>\n",
       "      <td>0</td>\n",
       "      <td>0</td>\n",
       "      <td>0</td>\n",
       "      <td>0</td>\n",
       "      <td>0</td>\n",
       "      <td>0</td>\n",
       "      <td>0</td>\n",
       "      <td>0</td>\n",
       "      <td>0</td>\n",
       "    </tr>\n",
       "    <tr>\n",
       "      <th>2</th>\n",
       "      <td>0</td>\n",
       "      <td>0</td>\n",
       "      <td>0</td>\n",
       "      <td>0</td>\n",
       "      <td>0</td>\n",
       "      <td>0</td>\n",
       "      <td>0</td>\n",
       "      <td>0</td>\n",
       "      <td>0</td>\n",
       "      <td>0</td>\n",
       "      <td>...</td>\n",
       "      <td>0</td>\n",
       "      <td>0</td>\n",
       "      <td>0</td>\n",
       "      <td>0</td>\n",
       "      <td>0</td>\n",
       "      <td>0</td>\n",
       "      <td>0</td>\n",
       "      <td>0</td>\n",
       "      <td>0</td>\n",
       "      <td>0</td>\n",
       "    </tr>\n",
       "    <tr>\n",
       "      <th>3</th>\n",
       "      <td>0</td>\n",
       "      <td>0</td>\n",
       "      <td>0</td>\n",
       "      <td>0</td>\n",
       "      <td>0</td>\n",
       "      <td>0</td>\n",
       "      <td>0</td>\n",
       "      <td>0</td>\n",
       "      <td>0</td>\n",
       "      <td>0</td>\n",
       "      <td>...</td>\n",
       "      <td>0</td>\n",
       "      <td>0</td>\n",
       "      <td>0</td>\n",
       "      <td>0</td>\n",
       "      <td>0</td>\n",
       "      <td>0</td>\n",
       "      <td>0</td>\n",
       "      <td>0</td>\n",
       "      <td>0</td>\n",
       "      <td>0</td>\n",
       "    </tr>\n",
       "    <tr>\n",
       "      <th>4</th>\n",
       "      <td>0</td>\n",
       "      <td>0</td>\n",
       "      <td>0</td>\n",
       "      <td>0</td>\n",
       "      <td>0</td>\n",
       "      <td>0</td>\n",
       "      <td>0</td>\n",
       "      <td>0</td>\n",
       "      <td>0</td>\n",
       "      <td>0</td>\n",
       "      <td>...</td>\n",
       "      <td>0</td>\n",
       "      <td>0</td>\n",
       "      <td>0</td>\n",
       "      <td>0</td>\n",
       "      <td>0</td>\n",
       "      <td>0</td>\n",
       "      <td>0</td>\n",
       "      <td>0</td>\n",
       "      <td>0</td>\n",
       "      <td>0</td>\n",
       "    </tr>\n",
       "    <tr>\n",
       "      <th>...</th>\n",
       "      <td>...</td>\n",
       "      <td>...</td>\n",
       "      <td>...</td>\n",
       "      <td>...</td>\n",
       "      <td>...</td>\n",
       "      <td>...</td>\n",
       "      <td>...</td>\n",
       "      <td>...</td>\n",
       "      <td>...</td>\n",
       "      <td>...</td>\n",
       "      <td>...</td>\n",
       "      <td>...</td>\n",
       "      <td>...</td>\n",
       "      <td>...</td>\n",
       "      <td>...</td>\n",
       "      <td>...</td>\n",
       "      <td>...</td>\n",
       "      <td>...</td>\n",
       "      <td>...</td>\n",
       "      <td>...</td>\n",
       "      <td>...</td>\n",
       "    </tr>\n",
       "    <tr>\n",
       "      <th>4138</th>\n",
       "      <td>0</td>\n",
       "      <td>0</td>\n",
       "      <td>0</td>\n",
       "      <td>0</td>\n",
       "      <td>0</td>\n",
       "      <td>0</td>\n",
       "      <td>0</td>\n",
       "      <td>0</td>\n",
       "      <td>0</td>\n",
       "      <td>0</td>\n",
       "      <td>...</td>\n",
       "      <td>0</td>\n",
       "      <td>0</td>\n",
       "      <td>0</td>\n",
       "      <td>0</td>\n",
       "      <td>0</td>\n",
       "      <td>0</td>\n",
       "      <td>0</td>\n",
       "      <td>0</td>\n",
       "      <td>0</td>\n",
       "      <td>0</td>\n",
       "    </tr>\n",
       "    <tr>\n",
       "      <th>4139</th>\n",
       "      <td>0</td>\n",
       "      <td>0</td>\n",
       "      <td>0</td>\n",
       "      <td>0</td>\n",
       "      <td>0</td>\n",
       "      <td>0</td>\n",
       "      <td>0</td>\n",
       "      <td>0</td>\n",
       "      <td>0</td>\n",
       "      <td>0</td>\n",
       "      <td>...</td>\n",
       "      <td>0</td>\n",
       "      <td>0</td>\n",
       "      <td>0</td>\n",
       "      <td>0</td>\n",
       "      <td>0</td>\n",
       "      <td>0</td>\n",
       "      <td>0</td>\n",
       "      <td>0</td>\n",
       "      <td>0</td>\n",
       "      <td>0</td>\n",
       "    </tr>\n",
       "    <tr>\n",
       "      <th>4140</th>\n",
       "      <td>0</td>\n",
       "      <td>0</td>\n",
       "      <td>0</td>\n",
       "      <td>0</td>\n",
       "      <td>0</td>\n",
       "      <td>0</td>\n",
       "      <td>0</td>\n",
       "      <td>0</td>\n",
       "      <td>0</td>\n",
       "      <td>0</td>\n",
       "      <td>...</td>\n",
       "      <td>0</td>\n",
       "      <td>0</td>\n",
       "      <td>0</td>\n",
       "      <td>0</td>\n",
       "      <td>0</td>\n",
       "      <td>0</td>\n",
       "      <td>0</td>\n",
       "      <td>0</td>\n",
       "      <td>0</td>\n",
       "      <td>0</td>\n",
       "    </tr>\n",
       "    <tr>\n",
       "      <th>4141</th>\n",
       "      <td>0</td>\n",
       "      <td>0</td>\n",
       "      <td>0</td>\n",
       "      <td>0</td>\n",
       "      <td>0</td>\n",
       "      <td>0</td>\n",
       "      <td>0</td>\n",
       "      <td>0</td>\n",
       "      <td>0</td>\n",
       "      <td>0</td>\n",
       "      <td>...</td>\n",
       "      <td>0</td>\n",
       "      <td>0</td>\n",
       "      <td>0</td>\n",
       "      <td>0</td>\n",
       "      <td>0</td>\n",
       "      <td>0</td>\n",
       "      <td>0</td>\n",
       "      <td>0</td>\n",
       "      <td>0</td>\n",
       "      <td>0</td>\n",
       "    </tr>\n",
       "    <tr>\n",
       "      <th>4142</th>\n",
       "      <td>0</td>\n",
       "      <td>0</td>\n",
       "      <td>0</td>\n",
       "      <td>0</td>\n",
       "      <td>0</td>\n",
       "      <td>0</td>\n",
       "      <td>0</td>\n",
       "      <td>0</td>\n",
       "      <td>0</td>\n",
       "      <td>0</td>\n",
       "      <td>...</td>\n",
       "      <td>0</td>\n",
       "      <td>0</td>\n",
       "      <td>0</td>\n",
       "      <td>0</td>\n",
       "      <td>0</td>\n",
       "      <td>0</td>\n",
       "      <td>0</td>\n",
       "      <td>0</td>\n",
       "      <td>0</td>\n",
       "      <td>0</td>\n",
       "    </tr>\n",
       "  </tbody>\n",
       "</table>\n",
       "<p>4143 rows × 43602 columns</p>\n",
       "</div>"
      ],
      "text/plain": [
       "      aa  aaa  aaaa  aaaaa  aaaaaaaaadc  aaaaaaaaaew  aaaaaaaaato  \\\n",
       "0      0    0     0      0            0            0            0   \n",
       "1      0    0     0      0            0            0            0   \n",
       "2      0    0     0      0            0            0            0   \n",
       "3      0    0     0      0            0            0            0   \n",
       "4      0    0     0      0            0            0            0   \n",
       "...   ..  ...   ...    ...          ...          ...          ...   \n",
       "4138   0    0     0      0            0            0            0   \n",
       "4139   0    0     0      0            0            0            0   \n",
       "4140   0    0     0      0            0            0            0   \n",
       "4141   0    0     0      0            0            0            0   \n",
       "4142   0    0     0      0            0            0            0   \n",
       "\n",
       "      aaaaaaaabhc  aaaaaaaagy  aaahc  ...  zymine  zymosine  zyprexa  \\\n",
       "0               0           0      0  ...       0         0        0   \n",
       "1               0           0      0  ...       0         0        0   \n",
       "2               0           0      0  ...       0         0        0   \n",
       "3               0           0      0  ...       0         0        0   \n",
       "4               0           0      0  ...       0         0        0   \n",
       "...           ...         ...    ...  ...     ...       ...      ...   \n",
       "4138            0           0      0  ...       0         0        0   \n",
       "4139            0           0      0  ...       0         0        0   \n",
       "4140            0           0      0  ...       0         0        0   \n",
       "4141            0           0      0  ...       0         0        0   \n",
       "4142            0           0      0  ...       0         0        0   \n",
       "\n",
       "      zyrpxqeb  zyrtec  zyvox  zz  zzakhrqaww  zzay  zzz  \n",
       "0            0       0      0   0           0     0    0  \n",
       "1            0       0      0   0           0     0    0  \n",
       "2            0       0      0   0           0     0    0  \n",
       "3            0       0      0   0           0     0    0  \n",
       "4            0       0      0   0           0     0    0  \n",
       "...        ...     ...    ...  ..         ...   ...  ...  \n",
       "4138         0       0      0   0           0     0    0  \n",
       "4139         0       0      0   0           0     0    0  \n",
       "4140         0       0      0   0           0     0    0  \n",
       "4141         0       0      0   0           0     0    0  \n",
       "4142         0       0      0   0           0     0    0  \n",
       "\n",
       "[4143 rows x 43602 columns]"
      ]
     },
     "execution_count": 96,
     "metadata": {},
     "output_type": "execute_result"
    }
   ],
   "source": [
    "bow_matrix: pd.DataFrame = pd.DataFrame(data_count.toarray(), columns=vectorizer.get_feature_names())\n",
    "bow_matrix"
   ]
  },
  {
   "cell_type": "markdown",
   "id": "ca69cbe2",
   "metadata": {},
   "source": [
    "### Term frequency-inverse document frequency (TF-IDF)\n",
    "\n",
    "Desi vectorizarea a venit cu mult mai multe date, o problema este sistemul de weighting. Acum, o celula are valoare 0 sau 1, valori care reprezinta daca acel cuvant apare sau nu. Desi aceasta diferentiere binara este de ajutor, este posibil sa calculam weight-urile acestor valori bazandu-ne pe frecventa de aparitie a cuvantului. Vom folosi pentru acest calcul `TF-IDF`."
   ]
  },
  {
   "cell_type": "code",
   "execution_count": 97,
   "id": "8c5c9244",
   "metadata": {
    "ExecuteTime": {
     "end_time": "2021-05-28T07:57:32.202392Z",
     "start_time": "2021-05-28T07:57:32.185268Z"
    }
   },
   "outputs": [],
   "source": [
    "tfTransformer: TfidfTransformer = TfidfTransformer().fit(data_count)"
   ]
  },
  {
   "cell_type": "markdown",
   "id": "8ecef52a",
   "metadata": {},
   "source": [
    "Vom testa pe un mesaj pentru a observa outputul. (Este acelasi mesaj de la testul de CountVectorizer)"
   ]
  },
  {
   "cell_type": "code",
   "execution_count": 98,
   "id": "70f38c59",
   "metadata": {
    "ExecuteTime": {
     "end_time": "2021-05-28T07:57:34.551057Z",
     "start_time": "2021-05-28T07:57:34.536099Z"
    }
   },
   "outputs": [
    {
     "name": "stdout",
     "output_type": "stream",
     "text": [
      "  (0, 42027)\t0.03490600810662302\n",
      "  (0, 41982)\t0.16724171030698215\n",
      "  (0, 41338)\t0.02829699079247972\n",
      "  (0, 41185)\t0.03979917186349144\n",
      "  (0, 41072)\t0.029188487045930453\n",
      "  (0, 39100)\t0.08572974071041288\n",
      "  (0, 38951)\t0.029822621523385575\n",
      "  (0, 38846)\t0.01935988822658524\n",
      "  (0, 37385)\t0.35129228612747526\n",
      "  (0, 37376)\t0.027077326853890485\n",
      "  (0, 36305)\t0.044272534080580725\n",
      "  (0, 36299)\t0.043350917548524624\n",
      "  (0, 35416)\t0.12362102386380905\n",
      "  (0, 32557)\t0.048372461636668876\n",
      "  (0, 32535)\t0.1580203147599707\n",
      "  (0, 31027)\t0.04386523843785264\n",
      "  (0, 30692)\t0.09824215687698772\n",
      "  (0, 30144)\t0.04087917730366812\n",
      "  (0, 29774)\t0.025978913027669897\n",
      "  (0, 29649)\t0.09191904881288819\n",
      "  (0, 29648)\t0.5202110105822955\n",
      "  (0, 28903)\t0.2778539199758509\n",
      "  (0, 28489)\t0.035934109585539505\n",
      "  (0, 28462)\t0.028382041093338254\n",
      "  (0, 28183)\t0.13323829098295656\n",
      "  :\t:\n",
      "  (0, 10873)\t0.048608670457210686\n",
      "  (0, 10411)\t0.12337617977492636\n",
      "  (0, 9930)\t0.1256003021796037\n",
      "  (0, 8339)\t0.017404118430793303\n",
      "  (0, 8160)\t0.026136171314483442\n",
      "  (0, 7132)\t0.04562678778121363\n",
      "  (0, 7088)\t0.044555350151103276\n",
      "  (0, 6893)\t0.09191904881288819\n",
      "  (0, 6088)\t0.023414453865858085\n",
      "  (0, 6065)\t0.06670313266341207\n",
      "  (0, 6058)\t0.05312385638152445\n",
      "  (0, 5968)\t0.056217377872441625\n",
      "  (0, 5838)\t0.04298465794701869\n",
      "  (0, 5366)\t0.021706617869788194\n",
      "  (0, 4472)\t0.0259147637885082\n",
      "  (0, 4441)\t0.1466533761554497\n",
      "  (0, 3928)\t0.037984788157762836\n",
      "  (0, 3123)\t0.033161766548504695\n",
      "  (0, 2493)\t0.21738302119657163\n",
      "  (0, 1279)\t0.025995026416098528\n",
      "  (0, 1122)\t0.1648806013430079\n",
      "  (0, 620)\t0.03867489987101349\n",
      "  (0, 463)\t0.02297394444830849\n",
      "  (0, 423)\t0.06786957165823727\n",
      "  (0, 234)\t0.02394217124329578\n"
     ]
    }
   ],
   "source": [
    "tfidf_test = tfTransformer.transform(train_bow)\n",
    "print(tfidf_test)"
   ]
  },
  {
   "cell_type": "markdown",
   "id": "71207b15",
   "metadata": {},
   "source": [
    "Putem observa ca avem in locul valorilor de 0 sau 1 valori variate in functie de importanta cuvantului.\n",
    "\n",
    "Aplicam acum `TfidfTransformer` asupra intregului set de date."
   ]
  },
  {
   "cell_type": "code",
   "execution_count": 99,
   "id": "5c9f1b1b",
   "metadata": {
    "ExecuteTime": {
     "end_time": "2021-05-28T07:57:37.707067Z",
     "start_time": "2021-05-28T07:57:37.666993Z"
    }
   },
   "outputs": [],
   "source": [
    "data_tfidf = tfTransformer.transform(data_count)"
   ]
  },
  {
   "cell_type": "code",
   "execution_count": 100,
   "id": "47c4840a",
   "metadata": {
    "ExecuteTime": {
     "end_time": "2021-05-28T07:57:39.097416Z",
     "start_time": "2021-05-28T07:57:38.761162Z"
    }
   },
   "outputs": [
    {
     "data": {
      "text/html": [
       "<div>\n",
       "<style scoped>\n",
       "    .dataframe tbody tr th:only-of-type {\n",
       "        vertical-align: middle;\n",
       "    }\n",
       "\n",
       "    .dataframe tbody tr th {\n",
       "        vertical-align: top;\n",
       "    }\n",
       "\n",
       "    .dataframe thead th {\n",
       "        text-align: right;\n",
       "    }\n",
       "</style>\n",
       "<table border=\"1\" class=\"dataframe\">\n",
       "  <thead>\n",
       "    <tr style=\"text-align: right;\">\n",
       "      <th></th>\n",
       "      <th>aa</th>\n",
       "      <th>aaa</th>\n",
       "      <th>aaaa</th>\n",
       "      <th>aaaaa</th>\n",
       "      <th>aaaaaaaaadc</th>\n",
       "      <th>aaaaaaaaaew</th>\n",
       "      <th>aaaaaaaaato</th>\n",
       "      <th>aaaaaaaabhc</th>\n",
       "      <th>aaaaaaaagy</th>\n",
       "      <th>aaahc</th>\n",
       "      <th>...</th>\n",
       "      <th>zymine</th>\n",
       "      <th>zymosine</th>\n",
       "      <th>zyprexa</th>\n",
       "      <th>zyrpxqeb</th>\n",
       "      <th>zyrtec</th>\n",
       "      <th>zyvox</th>\n",
       "      <th>zz</th>\n",
       "      <th>zzakhrqaww</th>\n",
       "      <th>zzay</th>\n",
       "      <th>zzz</th>\n",
       "    </tr>\n",
       "  </thead>\n",
       "  <tbody>\n",
       "    <tr>\n",
       "      <th>0</th>\n",
       "      <td>0.0</td>\n",
       "      <td>0.0</td>\n",
       "      <td>0.0</td>\n",
       "      <td>0.0</td>\n",
       "      <td>0.0</td>\n",
       "      <td>0.0</td>\n",
       "      <td>0.0</td>\n",
       "      <td>0.0</td>\n",
       "      <td>0.0</td>\n",
       "      <td>0.0</td>\n",
       "      <td>...</td>\n",
       "      <td>0.0</td>\n",
       "      <td>0.0</td>\n",
       "      <td>0.0</td>\n",
       "      <td>0.0</td>\n",
       "      <td>0.0</td>\n",
       "      <td>0.0</td>\n",
       "      <td>0.0</td>\n",
       "      <td>0.0</td>\n",
       "      <td>0.0</td>\n",
       "      <td>0.0</td>\n",
       "    </tr>\n",
       "    <tr>\n",
       "      <th>1</th>\n",
       "      <td>0.0</td>\n",
       "      <td>0.0</td>\n",
       "      <td>0.0</td>\n",
       "      <td>0.0</td>\n",
       "      <td>0.0</td>\n",
       "      <td>0.0</td>\n",
       "      <td>0.0</td>\n",
       "      <td>0.0</td>\n",
       "      <td>0.0</td>\n",
       "      <td>0.0</td>\n",
       "      <td>...</td>\n",
       "      <td>0.0</td>\n",
       "      <td>0.0</td>\n",
       "      <td>0.0</td>\n",
       "      <td>0.0</td>\n",
       "      <td>0.0</td>\n",
       "      <td>0.0</td>\n",
       "      <td>0.0</td>\n",
       "      <td>0.0</td>\n",
       "      <td>0.0</td>\n",
       "      <td>0.0</td>\n",
       "    </tr>\n",
       "    <tr>\n",
       "      <th>2</th>\n",
       "      <td>0.0</td>\n",
       "      <td>0.0</td>\n",
       "      <td>0.0</td>\n",
       "      <td>0.0</td>\n",
       "      <td>0.0</td>\n",
       "      <td>0.0</td>\n",
       "      <td>0.0</td>\n",
       "      <td>0.0</td>\n",
       "      <td>0.0</td>\n",
       "      <td>0.0</td>\n",
       "      <td>...</td>\n",
       "      <td>0.0</td>\n",
       "      <td>0.0</td>\n",
       "      <td>0.0</td>\n",
       "      <td>0.0</td>\n",
       "      <td>0.0</td>\n",
       "      <td>0.0</td>\n",
       "      <td>0.0</td>\n",
       "      <td>0.0</td>\n",
       "      <td>0.0</td>\n",
       "      <td>0.0</td>\n",
       "    </tr>\n",
       "    <tr>\n",
       "      <th>3</th>\n",
       "      <td>0.0</td>\n",
       "      <td>0.0</td>\n",
       "      <td>0.0</td>\n",
       "      <td>0.0</td>\n",
       "      <td>0.0</td>\n",
       "      <td>0.0</td>\n",
       "      <td>0.0</td>\n",
       "      <td>0.0</td>\n",
       "      <td>0.0</td>\n",
       "      <td>0.0</td>\n",
       "      <td>...</td>\n",
       "      <td>0.0</td>\n",
       "      <td>0.0</td>\n",
       "      <td>0.0</td>\n",
       "      <td>0.0</td>\n",
       "      <td>0.0</td>\n",
       "      <td>0.0</td>\n",
       "      <td>0.0</td>\n",
       "      <td>0.0</td>\n",
       "      <td>0.0</td>\n",
       "      <td>0.0</td>\n",
       "    </tr>\n",
       "    <tr>\n",
       "      <th>4</th>\n",
       "      <td>0.0</td>\n",
       "      <td>0.0</td>\n",
       "      <td>0.0</td>\n",
       "      <td>0.0</td>\n",
       "      <td>0.0</td>\n",
       "      <td>0.0</td>\n",
       "      <td>0.0</td>\n",
       "      <td>0.0</td>\n",
       "      <td>0.0</td>\n",
       "      <td>0.0</td>\n",
       "      <td>...</td>\n",
       "      <td>0.0</td>\n",
       "      <td>0.0</td>\n",
       "      <td>0.0</td>\n",
       "      <td>0.0</td>\n",
       "      <td>0.0</td>\n",
       "      <td>0.0</td>\n",
       "      <td>0.0</td>\n",
       "      <td>0.0</td>\n",
       "      <td>0.0</td>\n",
       "      <td>0.0</td>\n",
       "    </tr>\n",
       "  </tbody>\n",
       "</table>\n",
       "<p>5 rows × 43602 columns</p>\n",
       "</div>"
      ],
      "text/plain": [
       "    aa  aaa  aaaa  aaaaa  aaaaaaaaadc  aaaaaaaaaew  aaaaaaaaato  aaaaaaaabhc  \\\n",
       "0  0.0  0.0   0.0    0.0          0.0          0.0          0.0          0.0   \n",
       "1  0.0  0.0   0.0    0.0          0.0          0.0          0.0          0.0   \n",
       "2  0.0  0.0   0.0    0.0          0.0          0.0          0.0          0.0   \n",
       "3  0.0  0.0   0.0    0.0          0.0          0.0          0.0          0.0   \n",
       "4  0.0  0.0   0.0    0.0          0.0          0.0          0.0          0.0   \n",
       "\n",
       "   aaaaaaaagy  aaahc  ...  zymine  zymosine  zyprexa  zyrpxqeb  zyrtec  zyvox  \\\n",
       "0         0.0    0.0  ...     0.0       0.0      0.0       0.0     0.0    0.0   \n",
       "1         0.0    0.0  ...     0.0       0.0      0.0       0.0     0.0    0.0   \n",
       "2         0.0    0.0  ...     0.0       0.0      0.0       0.0     0.0    0.0   \n",
       "3         0.0    0.0  ...     0.0       0.0      0.0       0.0     0.0    0.0   \n",
       "4         0.0    0.0  ...     0.0       0.0      0.0       0.0     0.0    0.0   \n",
       "\n",
       "    zz  zzakhrqaww  zzay  zzz  \n",
       "0  0.0         0.0   0.0  0.0  \n",
       "1  0.0         0.0   0.0  0.0  \n",
       "2  0.0         0.0   0.0  0.0  \n",
       "3  0.0         0.0   0.0  0.0  \n",
       "4  0.0         0.0   0.0  0.0  \n",
       "\n",
       "[5 rows x 43602 columns]"
      ]
     },
     "execution_count": 100,
     "metadata": {},
     "output_type": "execute_result"
    }
   ],
   "source": [
    "data_tfidf: pd.DataFrame = pd.DataFrame(data_tfidf.toarray(), columns=bow_matrix.columns)\n",
    "data_tfidf.head()"
   ]
  },
  {
   "cell_type": "markdown",
   "id": "4c848e15",
   "metadata": {},
   "source": [
    "Vom uni acest dataframe cu cel initial."
   ]
  },
  {
   "cell_type": "code",
   "execution_count": 101,
   "id": "08764c0e",
   "metadata": {
    "ExecuteTime": {
     "end_time": "2021-05-28T07:57:44.752636Z",
     "start_time": "2021-05-28T07:57:42.584978Z"
    }
   },
   "outputs": [
    {
     "data": {
      "text/html": [
       "<div>\n",
       "<style scoped>\n",
       "    .dataframe tbody tr th:only-of-type {\n",
       "        vertical-align: middle;\n",
       "    }\n",
       "\n",
       "    .dataframe tbody tr th {\n",
       "        vertical-align: top;\n",
       "    }\n",
       "\n",
       "    .dataframe thead th {\n",
       "        text-align: right;\n",
       "    }\n",
       "</style>\n",
       "<table border=\"1\" class=\"dataframe\">\n",
       "  <thead>\n",
       "    <tr style=\"text-align: right;\">\n",
       "      <th></th>\n",
       "      <th>Ad</th>\n",
       "      <th>Word_Count</th>\n",
       "      <th>aa</th>\n",
       "      <th>aaa</th>\n",
       "      <th>aaaa</th>\n",
       "      <th>aaaaa</th>\n",
       "      <th>aaaaaaaaadc</th>\n",
       "      <th>aaaaaaaaaew</th>\n",
       "      <th>aaaaaaaaato</th>\n",
       "      <th>aaaaaaaabhc</th>\n",
       "      <th>...</th>\n",
       "      <th>zymine</th>\n",
       "      <th>zymosine</th>\n",
       "      <th>zyprexa</th>\n",
       "      <th>zyrpxqeb</th>\n",
       "      <th>zyrtec</th>\n",
       "      <th>zyvox</th>\n",
       "      <th>zz</th>\n",
       "      <th>zzakhrqaww</th>\n",
       "      <th>zzay</th>\n",
       "      <th>zzz</th>\n",
       "    </tr>\n",
       "  </thead>\n",
       "  <tbody>\n",
       "    <tr>\n",
       "      <th>0</th>\n",
       "      <td>ad-jerry ad-bruckheimer ad-chase ad-premier ad...</td>\n",
       "      <td>11</td>\n",
       "      <td>0.0</td>\n",
       "      <td>0.0</td>\n",
       "      <td>0.0</td>\n",
       "      <td>0.0</td>\n",
       "      <td>0.0</td>\n",
       "      <td>0.0</td>\n",
       "      <td>0.0</td>\n",
       "      <td>0.0</td>\n",
       "      <td>...</td>\n",
       "      <td>0.0</td>\n",
       "      <td>0.0</td>\n",
       "      <td>0.0</td>\n",
       "      <td>0.0</td>\n",
       "      <td>0.0</td>\n",
       "      <td>0.0</td>\n",
       "      <td>0.0</td>\n",
       "      <td>0.0</td>\n",
       "      <td>0.0</td>\n",
       "      <td>0.0</td>\n",
       "    </tr>\n",
       "    <tr>\n",
       "      <th>1</th>\n",
       "      <td>ad-rheumatoid ad-arthritis ad-expert ad-tip ad...</td>\n",
       "      <td>498</td>\n",
       "      <td>0.0</td>\n",
       "      <td>0.0</td>\n",
       "      <td>0.0</td>\n",
       "      <td>0.0</td>\n",
       "      <td>0.0</td>\n",
       "      <td>0.0</td>\n",
       "      <td>0.0</td>\n",
       "      <td>0.0</td>\n",
       "      <td>...</td>\n",
       "      <td>0.0</td>\n",
       "      <td>0.0</td>\n",
       "      <td>0.0</td>\n",
       "      <td>0.0</td>\n",
       "      <td>0.0</td>\n",
       "      <td>0.0</td>\n",
       "      <td>0.0</td>\n",
       "      <td>0.0</td>\n",
       "      <td>0.0</td>\n",
       "      <td>0.0</td>\n",
       "    </tr>\n",
       "    <tr>\n",
       "      <th>2</th>\n",
       "      <td>ad-rheumatologist ad-anju ad-varghese ad-yonke...</td>\n",
       "      <td>82</td>\n",
       "      <td>0.0</td>\n",
       "      <td>0.0</td>\n",
       "      <td>0.0</td>\n",
       "      <td>0.0</td>\n",
       "      <td>0.0</td>\n",
       "      <td>0.0</td>\n",
       "      <td>0.0</td>\n",
       "      <td>0.0</td>\n",
       "      <td>...</td>\n",
       "      <td>0.0</td>\n",
       "      <td>0.0</td>\n",
       "      <td>0.0</td>\n",
       "      <td>0.0</td>\n",
       "      <td>0.0</td>\n",
       "      <td>0.0</td>\n",
       "      <td>0.0</td>\n",
       "      <td>0.0</td>\n",
       "      <td>0.0</td>\n",
       "      <td>0.0</td>\n",
       "    </tr>\n",
       "    <tr>\n",
       "      <th>3</th>\n",
       "      <td>ad-siemen ad-water ad-remediation ad-water ad-...</td>\n",
       "      <td>159</td>\n",
       "      <td>0.0</td>\n",
       "      <td>0.0</td>\n",
       "      <td>0.0</td>\n",
       "      <td>0.0</td>\n",
       "      <td>0.0</td>\n",
       "      <td>0.0</td>\n",
       "      <td>0.0</td>\n",
       "      <td>0.0</td>\n",
       "      <td>...</td>\n",
       "      <td>0.0</td>\n",
       "      <td>0.0</td>\n",
       "      <td>0.0</td>\n",
       "      <td>0.0</td>\n",
       "      <td>0.0</td>\n",
       "      <td>0.0</td>\n",
       "      <td>0.0</td>\n",
       "      <td>0.0</td>\n",
       "      <td>0.0</td>\n",
       "      <td>0.0</td>\n",
       "    </tr>\n",
       "    <tr>\n",
       "      <th>4</th>\n",
       "      <td>ad-symptom ad-muscle ad-weakness ad-genetic ad...</td>\n",
       "      <td>11</td>\n",
       "      <td>0.0</td>\n",
       "      <td>0.0</td>\n",
       "      <td>0.0</td>\n",
       "      <td>0.0</td>\n",
       "      <td>0.0</td>\n",
       "      <td>0.0</td>\n",
       "      <td>0.0</td>\n",
       "      <td>0.0</td>\n",
       "      <td>...</td>\n",
       "      <td>0.0</td>\n",
       "      <td>0.0</td>\n",
       "      <td>0.0</td>\n",
       "      <td>0.0</td>\n",
       "      <td>0.0</td>\n",
       "      <td>0.0</td>\n",
       "      <td>0.0</td>\n",
       "      <td>0.0</td>\n",
       "      <td>0.0</td>\n",
       "      <td>0.0</td>\n",
       "    </tr>\n",
       "    <tr>\n",
       "      <th>...</th>\n",
       "      <td>...</td>\n",
       "      <td>...</td>\n",
       "      <td>...</td>\n",
       "      <td>...</td>\n",
       "      <td>...</td>\n",
       "      <td>...</td>\n",
       "      <td>...</td>\n",
       "      <td>...</td>\n",
       "      <td>...</td>\n",
       "      <td>...</td>\n",
       "      <td>...</td>\n",
       "      <td>...</td>\n",
       "      <td>...</td>\n",
       "      <td>...</td>\n",
       "      <td>...</td>\n",
       "      <td>...</td>\n",
       "      <td>...</td>\n",
       "      <td>...</td>\n",
       "      <td>...</td>\n",
       "      <td>...</td>\n",
       "      <td>...</td>\n",
       "    </tr>\n",
       "    <tr>\n",
       "      <th>4138</th>\n",
       "      <td>ad-affordable ad-ivf ad-cost ad-efficient ad-i...</td>\n",
       "      <td>191</td>\n",
       "      <td>0.0</td>\n",
       "      <td>0.0</td>\n",
       "      <td>0.0</td>\n",
       "      <td>0.0</td>\n",
       "      <td>0.0</td>\n",
       "      <td>0.0</td>\n",
       "      <td>0.0</td>\n",
       "      <td>0.0</td>\n",
       "      <td>...</td>\n",
       "      <td>0.0</td>\n",
       "      <td>0.0</td>\n",
       "      <td>0.0</td>\n",
       "      <td>0.0</td>\n",
       "      <td>0.0</td>\n",
       "      <td>0.0</td>\n",
       "      <td>0.0</td>\n",
       "      <td>0.0</td>\n",
       "      <td>0.0</td>\n",
       "      <td>0.0</td>\n",
       "    </tr>\n",
       "    <tr>\n",
       "      <th>4139</th>\n",
       "      <td>ad-mozypro ad-business ad-backup ad-affordable...</td>\n",
       "      <td>204</td>\n",
       "      <td>0.0</td>\n",
       "      <td>0.0</td>\n",
       "      <td>0.0</td>\n",
       "      <td>0.0</td>\n",
       "      <td>0.0</td>\n",
       "      <td>0.0</td>\n",
       "      <td>0.0</td>\n",
       "      <td>0.0</td>\n",
       "      <td>...</td>\n",
       "      <td>0.0</td>\n",
       "      <td>0.0</td>\n",
       "      <td>0.0</td>\n",
       "      <td>0.0</td>\n",
       "      <td>0.0</td>\n",
       "      <td>0.0</td>\n",
       "      <td>0.0</td>\n",
       "      <td>0.0</td>\n",
       "      <td>0.0</td>\n",
       "      <td>0.0</td>\n",
       "    </tr>\n",
       "    <tr>\n",
       "      <th>4140</th>\n",
       "      <td>ad-oster ad-line ad-clipper ad-oster ad-factor...</td>\n",
       "      <td>1139</td>\n",
       "      <td>0.0</td>\n",
       "      <td>0.0</td>\n",
       "      <td>0.0</td>\n",
       "      <td>0.0</td>\n",
       "      <td>0.0</td>\n",
       "      <td>0.0</td>\n",
       "      <td>0.0</td>\n",
       "      <td>0.0</td>\n",
       "      <td>...</td>\n",
       "      <td>0.0</td>\n",
       "      <td>0.0</td>\n",
       "      <td>0.0</td>\n",
       "      <td>0.0</td>\n",
       "      <td>0.0</td>\n",
       "      <td>0.0</td>\n",
       "      <td>0.0</td>\n",
       "      <td>0.0</td>\n",
       "      <td>0.0</td>\n",
       "      <td>0.0</td>\n",
       "    </tr>\n",
       "    <tr>\n",
       "      <th>4141</th>\n",
       "      <td>ad-synrevoice ad-schoolconnect ad-trust ad-aut...</td>\n",
       "      <td>145</td>\n",
       "      <td>0.0</td>\n",
       "      <td>0.0</td>\n",
       "      <td>0.0</td>\n",
       "      <td>0.0</td>\n",
       "      <td>0.0</td>\n",
       "      <td>0.0</td>\n",
       "      <td>0.0</td>\n",
       "      <td>0.0</td>\n",
       "      <td>...</td>\n",
       "      <td>0.0</td>\n",
       "      <td>0.0</td>\n",
       "      <td>0.0</td>\n",
       "      <td>0.0</td>\n",
       "      <td>0.0</td>\n",
       "      <td>0.0</td>\n",
       "      <td>0.0</td>\n",
       "      <td>0.0</td>\n",
       "      <td>0.0</td>\n",
       "      <td>0.0</td>\n",
       "    </tr>\n",
       "    <tr>\n",
       "      <th>4142</th>\n",
       "      <td>ad-vet ad-online ad-veterinarian ad-online ad-...</td>\n",
       "      <td>970</td>\n",
       "      <td>0.0</td>\n",
       "      <td>0.0</td>\n",
       "      <td>0.0</td>\n",
       "      <td>0.0</td>\n",
       "      <td>0.0</td>\n",
       "      <td>0.0</td>\n",
       "      <td>0.0</td>\n",
       "      <td>0.0</td>\n",
       "      <td>...</td>\n",
       "      <td>0.0</td>\n",
       "      <td>0.0</td>\n",
       "      <td>0.0</td>\n",
       "      <td>0.0</td>\n",
       "      <td>0.0</td>\n",
       "      <td>0.0</td>\n",
       "      <td>0.0</td>\n",
       "      <td>0.0</td>\n",
       "      <td>0.0</td>\n",
       "      <td>0.0</td>\n",
       "    </tr>\n",
       "  </tbody>\n",
       "</table>\n",
       "<p>4143 rows × 43604 columns</p>\n",
       "</div>"
      ],
      "text/plain": [
       "                                                     Ad  Word_Count   aa  aaa  \\\n",
       "0     ad-jerry ad-bruckheimer ad-chase ad-premier ad...          11  0.0  0.0   \n",
       "1     ad-rheumatoid ad-arthritis ad-expert ad-tip ad...         498  0.0  0.0   \n",
       "2     ad-rheumatologist ad-anju ad-varghese ad-yonke...          82  0.0  0.0   \n",
       "3     ad-siemen ad-water ad-remediation ad-water ad-...         159  0.0  0.0   \n",
       "4     ad-symptom ad-muscle ad-weakness ad-genetic ad...          11  0.0  0.0   \n",
       "...                                                 ...         ...  ...  ...   \n",
       "4138  ad-affordable ad-ivf ad-cost ad-efficient ad-i...         191  0.0  0.0   \n",
       "4139  ad-mozypro ad-business ad-backup ad-affordable...         204  0.0  0.0   \n",
       "4140  ad-oster ad-line ad-clipper ad-oster ad-factor...        1139  0.0  0.0   \n",
       "4141  ad-synrevoice ad-schoolconnect ad-trust ad-aut...         145  0.0  0.0   \n",
       "4142  ad-vet ad-online ad-veterinarian ad-online ad-...         970  0.0  0.0   \n",
       "\n",
       "      aaaa  aaaaa  aaaaaaaaadc  aaaaaaaaaew  aaaaaaaaato  aaaaaaaabhc  ...  \\\n",
       "0      0.0    0.0          0.0          0.0          0.0          0.0  ...   \n",
       "1      0.0    0.0          0.0          0.0          0.0          0.0  ...   \n",
       "2      0.0    0.0          0.0          0.0          0.0          0.0  ...   \n",
       "3      0.0    0.0          0.0          0.0          0.0          0.0  ...   \n",
       "4      0.0    0.0          0.0          0.0          0.0          0.0  ...   \n",
       "...    ...    ...          ...          ...          ...          ...  ...   \n",
       "4138   0.0    0.0          0.0          0.0          0.0          0.0  ...   \n",
       "4139   0.0    0.0          0.0          0.0          0.0          0.0  ...   \n",
       "4140   0.0    0.0          0.0          0.0          0.0          0.0  ...   \n",
       "4141   0.0    0.0          0.0          0.0          0.0          0.0  ...   \n",
       "4142   0.0    0.0          0.0          0.0          0.0          0.0  ...   \n",
       "\n",
       "      zymine  zymosine  zyprexa  zyrpxqeb  zyrtec  zyvox   zz  zzakhrqaww  \\\n",
       "0        0.0       0.0      0.0       0.0     0.0    0.0  0.0         0.0   \n",
       "1        0.0       0.0      0.0       0.0     0.0    0.0  0.0         0.0   \n",
       "2        0.0       0.0      0.0       0.0     0.0    0.0  0.0         0.0   \n",
       "3        0.0       0.0      0.0       0.0     0.0    0.0  0.0         0.0   \n",
       "4        0.0       0.0      0.0       0.0     0.0    0.0  0.0         0.0   \n",
       "...      ...       ...      ...       ...     ...    ...  ...         ...   \n",
       "4138     0.0       0.0      0.0       0.0     0.0    0.0  0.0         0.0   \n",
       "4139     0.0       0.0      0.0       0.0     0.0    0.0  0.0         0.0   \n",
       "4140     0.0       0.0      0.0       0.0     0.0    0.0  0.0         0.0   \n",
       "4141     0.0       0.0      0.0       0.0     0.0    0.0  0.0         0.0   \n",
       "4142     0.0       0.0      0.0       0.0     0.0    0.0  0.0         0.0   \n",
       "\n",
       "      zzay  zzz  \n",
       "0      0.0  0.0  \n",
       "1      0.0  0.0  \n",
       "2      0.0  0.0  \n",
       "3      0.0  0.0  \n",
       "4      0.0  0.0  \n",
       "...    ...  ...  \n",
       "4138   0.0  0.0  \n",
       "4139   0.0  0.0  \n",
       "4140   0.0  0.0  \n",
       "4141   0.0  0.0  \n",
       "4142   0.0  0.0  \n",
       "\n",
       "[4143 rows x 43604 columns]"
      ]
     },
     "execution_count": 101,
     "metadata": {},
     "output_type": "execute_result"
    }
   ],
   "source": [
    "X_ready: pd.DataFrame = X_data.join(data_tfidf, rsuffix='_word', how='left')\n",
    "X_ready"
   ]
  },
  {
   "cell_type": "markdown",
   "id": "9543fd0f",
   "metadata": {},
   "source": [
    "### Modele de regresie si de clasificare\n",
    "\n",
    "Vom crea un dataframe pentru a memora scorurile calculate."
   ]
  },
  {
   "cell_type": "code",
   "execution_count": 102,
   "id": "c1195ae6",
   "metadata": {
    "ExecuteTime": {
     "end_time": "2021-05-28T07:57:53.293431Z",
     "start_time": "2021-05-28T07:57:53.269361Z"
    }
   },
   "outputs": [
    {
     "data": {
      "text/html": [
       "<div>\n",
       "<style scoped>\n",
       "    .dataframe tbody tr th:only-of-type {\n",
       "        vertical-align: middle;\n",
       "    }\n",
       "\n",
       "    .dataframe tbody tr th {\n",
       "        vertical-align: top;\n",
       "    }\n",
       "\n",
       "    .dataframe thead th {\n",
       "        text-align: right;\n",
       "    }\n",
       "</style>\n",
       "<table border=\"1\" class=\"dataframe\">\n",
       "  <thead>\n",
       "    <tr style=\"text-align: right;\">\n",
       "      <th></th>\n",
       "      <th>model</th>\n",
       "      <th>fit_time</th>\n",
       "      <th>score_time</th>\n",
       "      <th>test_accuracy</th>\n",
       "      <th>train_accuracy</th>\n",
       "      <th>test_f1</th>\n",
       "      <th>train_f1</th>\n",
       "    </tr>\n",
       "  </thead>\n",
       "  <tbody>\n",
       "  </tbody>\n",
       "</table>\n",
       "</div>"
      ],
      "text/plain": [
       "Empty DataFrame\n",
       "Columns: [model, fit_time, score_time, test_accuracy, train_accuracy, test_f1, train_f1]\n",
       "Index: []"
      ]
     },
     "execution_count": 102,
     "metadata": {},
     "output_type": "execute_result"
    }
   ],
   "source": [
    "column_names: List[str] = ['model', 'fit_time', 'score_time', 'test_accuracy', 'train_accuracy', 'test_f1', 'train_f1']\n",
    "scores_df: pd.DataFrame = pd.DataFrame(columns = column_names)\n",
    "\n",
    "scores_df.head()"
   ]
  },
  {
   "cell_type": "code",
   "execution_count": 103,
   "id": "2c5c3bb6",
   "metadata": {
    "ExecuteTime": {
     "end_time": "2021-05-28T07:57:58.894673Z",
     "start_time": "2021-05-28T07:57:58.557575Z"
    }
   },
   "outputs": [
    {
     "data": {
      "text/html": [
       "<div>\n",
       "<style scoped>\n",
       "    .dataframe tbody tr th:only-of-type {\n",
       "        vertical-align: middle;\n",
       "    }\n",
       "\n",
       "    .dataframe tbody tr th {\n",
       "        vertical-align: top;\n",
       "    }\n",
       "\n",
       "    .dataframe thead th {\n",
       "        text-align: right;\n",
       "    }\n",
       "</style>\n",
       "<table border=\"1\" class=\"dataframe\">\n",
       "  <thead>\n",
       "    <tr style=\"text-align: right;\">\n",
       "      <th></th>\n",
       "      <th>Word_Count</th>\n",
       "      <th>aa</th>\n",
       "      <th>aaa</th>\n",
       "      <th>aaaa</th>\n",
       "      <th>aaaaa</th>\n",
       "      <th>aaaaaaaaadc</th>\n",
       "      <th>aaaaaaaaaew</th>\n",
       "      <th>aaaaaaaaato</th>\n",
       "      <th>aaaaaaaabhc</th>\n",
       "      <th>aaaaaaaagy</th>\n",
       "      <th>...</th>\n",
       "      <th>zymine</th>\n",
       "      <th>zymosine</th>\n",
       "      <th>zyprexa</th>\n",
       "      <th>zyrpxqeb</th>\n",
       "      <th>zyrtec</th>\n",
       "      <th>zyvox</th>\n",
       "      <th>zz</th>\n",
       "      <th>zzakhrqaww</th>\n",
       "      <th>zzay</th>\n",
       "      <th>zzz</th>\n",
       "    </tr>\n",
       "  </thead>\n",
       "  <tbody>\n",
       "    <tr>\n",
       "      <th>0</th>\n",
       "      <td>11</td>\n",
       "      <td>0.0</td>\n",
       "      <td>0.0</td>\n",
       "      <td>0.0</td>\n",
       "      <td>0.0</td>\n",
       "      <td>0.0</td>\n",
       "      <td>0.0</td>\n",
       "      <td>0.0</td>\n",
       "      <td>0.0</td>\n",
       "      <td>0.0</td>\n",
       "      <td>...</td>\n",
       "      <td>0.0</td>\n",
       "      <td>0.0</td>\n",
       "      <td>0.0</td>\n",
       "      <td>0.0</td>\n",
       "      <td>0.0</td>\n",
       "      <td>0.0</td>\n",
       "      <td>0.0</td>\n",
       "      <td>0.0</td>\n",
       "      <td>0.0</td>\n",
       "      <td>0.0</td>\n",
       "    </tr>\n",
       "    <tr>\n",
       "      <th>1</th>\n",
       "      <td>498</td>\n",
       "      <td>0.0</td>\n",
       "      <td>0.0</td>\n",
       "      <td>0.0</td>\n",
       "      <td>0.0</td>\n",
       "      <td>0.0</td>\n",
       "      <td>0.0</td>\n",
       "      <td>0.0</td>\n",
       "      <td>0.0</td>\n",
       "      <td>0.0</td>\n",
       "      <td>...</td>\n",
       "      <td>0.0</td>\n",
       "      <td>0.0</td>\n",
       "      <td>0.0</td>\n",
       "      <td>0.0</td>\n",
       "      <td>0.0</td>\n",
       "      <td>0.0</td>\n",
       "      <td>0.0</td>\n",
       "      <td>0.0</td>\n",
       "      <td>0.0</td>\n",
       "      <td>0.0</td>\n",
       "    </tr>\n",
       "    <tr>\n",
       "      <th>2</th>\n",
       "      <td>82</td>\n",
       "      <td>0.0</td>\n",
       "      <td>0.0</td>\n",
       "      <td>0.0</td>\n",
       "      <td>0.0</td>\n",
       "      <td>0.0</td>\n",
       "      <td>0.0</td>\n",
       "      <td>0.0</td>\n",
       "      <td>0.0</td>\n",
       "      <td>0.0</td>\n",
       "      <td>...</td>\n",
       "      <td>0.0</td>\n",
       "      <td>0.0</td>\n",
       "      <td>0.0</td>\n",
       "      <td>0.0</td>\n",
       "      <td>0.0</td>\n",
       "      <td>0.0</td>\n",
       "      <td>0.0</td>\n",
       "      <td>0.0</td>\n",
       "      <td>0.0</td>\n",
       "      <td>0.0</td>\n",
       "    </tr>\n",
       "    <tr>\n",
       "      <th>3</th>\n",
       "      <td>159</td>\n",
       "      <td>0.0</td>\n",
       "      <td>0.0</td>\n",
       "      <td>0.0</td>\n",
       "      <td>0.0</td>\n",
       "      <td>0.0</td>\n",
       "      <td>0.0</td>\n",
       "      <td>0.0</td>\n",
       "      <td>0.0</td>\n",
       "      <td>0.0</td>\n",
       "      <td>...</td>\n",
       "      <td>0.0</td>\n",
       "      <td>0.0</td>\n",
       "      <td>0.0</td>\n",
       "      <td>0.0</td>\n",
       "      <td>0.0</td>\n",
       "      <td>0.0</td>\n",
       "      <td>0.0</td>\n",
       "      <td>0.0</td>\n",
       "      <td>0.0</td>\n",
       "      <td>0.0</td>\n",
       "    </tr>\n",
       "    <tr>\n",
       "      <th>4</th>\n",
       "      <td>11</td>\n",
       "      <td>0.0</td>\n",
       "      <td>0.0</td>\n",
       "      <td>0.0</td>\n",
       "      <td>0.0</td>\n",
       "      <td>0.0</td>\n",
       "      <td>0.0</td>\n",
       "      <td>0.0</td>\n",
       "      <td>0.0</td>\n",
       "      <td>0.0</td>\n",
       "      <td>...</td>\n",
       "      <td>0.0</td>\n",
       "      <td>0.0</td>\n",
       "      <td>0.0</td>\n",
       "      <td>0.0</td>\n",
       "      <td>0.0</td>\n",
       "      <td>0.0</td>\n",
       "      <td>0.0</td>\n",
       "      <td>0.0</td>\n",
       "      <td>0.0</td>\n",
       "      <td>0.0</td>\n",
       "    </tr>\n",
       "    <tr>\n",
       "      <th>...</th>\n",
       "      <td>...</td>\n",
       "      <td>...</td>\n",
       "      <td>...</td>\n",
       "      <td>...</td>\n",
       "      <td>...</td>\n",
       "      <td>...</td>\n",
       "      <td>...</td>\n",
       "      <td>...</td>\n",
       "      <td>...</td>\n",
       "      <td>...</td>\n",
       "      <td>...</td>\n",
       "      <td>...</td>\n",
       "      <td>...</td>\n",
       "      <td>...</td>\n",
       "      <td>...</td>\n",
       "      <td>...</td>\n",
       "      <td>...</td>\n",
       "      <td>...</td>\n",
       "      <td>...</td>\n",
       "      <td>...</td>\n",
       "      <td>...</td>\n",
       "    </tr>\n",
       "    <tr>\n",
       "      <th>4138</th>\n",
       "      <td>191</td>\n",
       "      <td>0.0</td>\n",
       "      <td>0.0</td>\n",
       "      <td>0.0</td>\n",
       "      <td>0.0</td>\n",
       "      <td>0.0</td>\n",
       "      <td>0.0</td>\n",
       "      <td>0.0</td>\n",
       "      <td>0.0</td>\n",
       "      <td>0.0</td>\n",
       "      <td>...</td>\n",
       "      <td>0.0</td>\n",
       "      <td>0.0</td>\n",
       "      <td>0.0</td>\n",
       "      <td>0.0</td>\n",
       "      <td>0.0</td>\n",
       "      <td>0.0</td>\n",
       "      <td>0.0</td>\n",
       "      <td>0.0</td>\n",
       "      <td>0.0</td>\n",
       "      <td>0.0</td>\n",
       "    </tr>\n",
       "    <tr>\n",
       "      <th>4139</th>\n",
       "      <td>204</td>\n",
       "      <td>0.0</td>\n",
       "      <td>0.0</td>\n",
       "      <td>0.0</td>\n",
       "      <td>0.0</td>\n",
       "      <td>0.0</td>\n",
       "      <td>0.0</td>\n",
       "      <td>0.0</td>\n",
       "      <td>0.0</td>\n",
       "      <td>0.0</td>\n",
       "      <td>...</td>\n",
       "      <td>0.0</td>\n",
       "      <td>0.0</td>\n",
       "      <td>0.0</td>\n",
       "      <td>0.0</td>\n",
       "      <td>0.0</td>\n",
       "      <td>0.0</td>\n",
       "      <td>0.0</td>\n",
       "      <td>0.0</td>\n",
       "      <td>0.0</td>\n",
       "      <td>0.0</td>\n",
       "    </tr>\n",
       "    <tr>\n",
       "      <th>4140</th>\n",
       "      <td>1139</td>\n",
       "      <td>0.0</td>\n",
       "      <td>0.0</td>\n",
       "      <td>0.0</td>\n",
       "      <td>0.0</td>\n",
       "      <td>0.0</td>\n",
       "      <td>0.0</td>\n",
       "      <td>0.0</td>\n",
       "      <td>0.0</td>\n",
       "      <td>0.0</td>\n",
       "      <td>...</td>\n",
       "      <td>0.0</td>\n",
       "      <td>0.0</td>\n",
       "      <td>0.0</td>\n",
       "      <td>0.0</td>\n",
       "      <td>0.0</td>\n",
       "      <td>0.0</td>\n",
       "      <td>0.0</td>\n",
       "      <td>0.0</td>\n",
       "      <td>0.0</td>\n",
       "      <td>0.0</td>\n",
       "    </tr>\n",
       "    <tr>\n",
       "      <th>4141</th>\n",
       "      <td>145</td>\n",
       "      <td>0.0</td>\n",
       "      <td>0.0</td>\n",
       "      <td>0.0</td>\n",
       "      <td>0.0</td>\n",
       "      <td>0.0</td>\n",
       "      <td>0.0</td>\n",
       "      <td>0.0</td>\n",
       "      <td>0.0</td>\n",
       "      <td>0.0</td>\n",
       "      <td>...</td>\n",
       "      <td>0.0</td>\n",
       "      <td>0.0</td>\n",
       "      <td>0.0</td>\n",
       "      <td>0.0</td>\n",
       "      <td>0.0</td>\n",
       "      <td>0.0</td>\n",
       "      <td>0.0</td>\n",
       "      <td>0.0</td>\n",
       "      <td>0.0</td>\n",
       "      <td>0.0</td>\n",
       "    </tr>\n",
       "    <tr>\n",
       "      <th>4142</th>\n",
       "      <td>970</td>\n",
       "      <td>0.0</td>\n",
       "      <td>0.0</td>\n",
       "      <td>0.0</td>\n",
       "      <td>0.0</td>\n",
       "      <td>0.0</td>\n",
       "      <td>0.0</td>\n",
       "      <td>0.0</td>\n",
       "      <td>0.0</td>\n",
       "      <td>0.0</td>\n",
       "      <td>...</td>\n",
       "      <td>0.0</td>\n",
       "      <td>0.0</td>\n",
       "      <td>0.0</td>\n",
       "      <td>0.0</td>\n",
       "      <td>0.0</td>\n",
       "      <td>0.0</td>\n",
       "      <td>0.0</td>\n",
       "      <td>0.0</td>\n",
       "      <td>0.0</td>\n",
       "      <td>0.0</td>\n",
       "    </tr>\n",
       "  </tbody>\n",
       "</table>\n",
       "<p>4143 rows × 43603 columns</p>\n",
       "</div>"
      ],
      "text/plain": [
       "      Word_Count   aa  aaa  aaaa  aaaaa  aaaaaaaaadc  aaaaaaaaaew  \\\n",
       "0             11  0.0  0.0   0.0    0.0          0.0          0.0   \n",
       "1            498  0.0  0.0   0.0    0.0          0.0          0.0   \n",
       "2             82  0.0  0.0   0.0    0.0          0.0          0.0   \n",
       "3            159  0.0  0.0   0.0    0.0          0.0          0.0   \n",
       "4             11  0.0  0.0   0.0    0.0          0.0          0.0   \n",
       "...          ...  ...  ...   ...    ...          ...          ...   \n",
       "4138         191  0.0  0.0   0.0    0.0          0.0          0.0   \n",
       "4139         204  0.0  0.0   0.0    0.0          0.0          0.0   \n",
       "4140        1139  0.0  0.0   0.0    0.0          0.0          0.0   \n",
       "4141         145  0.0  0.0   0.0    0.0          0.0          0.0   \n",
       "4142         970  0.0  0.0   0.0    0.0          0.0          0.0   \n",
       "\n",
       "      aaaaaaaaato  aaaaaaaabhc  aaaaaaaagy  ...  zymine  zymosine  zyprexa  \\\n",
       "0             0.0          0.0         0.0  ...     0.0       0.0      0.0   \n",
       "1             0.0          0.0         0.0  ...     0.0       0.0      0.0   \n",
       "2             0.0          0.0         0.0  ...     0.0       0.0      0.0   \n",
       "3             0.0          0.0         0.0  ...     0.0       0.0      0.0   \n",
       "4             0.0          0.0         0.0  ...     0.0       0.0      0.0   \n",
       "...           ...          ...         ...  ...     ...       ...      ...   \n",
       "4138          0.0          0.0         0.0  ...     0.0       0.0      0.0   \n",
       "4139          0.0          0.0         0.0  ...     0.0       0.0      0.0   \n",
       "4140          0.0          0.0         0.0  ...     0.0       0.0      0.0   \n",
       "4141          0.0          0.0         0.0  ...     0.0       0.0      0.0   \n",
       "4142          0.0          0.0         0.0  ...     0.0       0.0      0.0   \n",
       "\n",
       "      zyrpxqeb  zyrtec  zyvox   zz  zzakhrqaww  zzay  zzz  \n",
       "0          0.0     0.0    0.0  0.0         0.0   0.0  0.0  \n",
       "1          0.0     0.0    0.0  0.0         0.0   0.0  0.0  \n",
       "2          0.0     0.0    0.0  0.0         0.0   0.0  0.0  \n",
       "3          0.0     0.0    0.0  0.0         0.0   0.0  0.0  \n",
       "4          0.0     0.0    0.0  0.0         0.0   0.0  0.0  \n",
       "...        ...     ...    ...  ...         ...   ...  ...  \n",
       "4138       0.0     0.0    0.0  0.0         0.0   0.0  0.0  \n",
       "4139       0.0     0.0    0.0  0.0         0.0   0.0  0.0  \n",
       "4140       0.0     0.0    0.0  0.0         0.0   0.0  0.0  \n",
       "4141       0.0     0.0    0.0  0.0         0.0   0.0  0.0  \n",
       "4142       0.0     0.0    0.0  0.0         0.0   0.0  0.0  \n",
       "\n",
       "[4143 rows x 43603 columns]"
      ]
     },
     "execution_count": 103,
     "metadata": {},
     "output_type": "execute_result"
    }
   ],
   "source": [
    "X_ready: pd.DataFrame = X_ready.drop(columns = ['Ad'])\n",
    "X_ready"
   ]
  },
  {
   "cell_type": "markdown",
   "id": "bdd12256",
   "metadata": {},
   "source": [
    "#### LogisticRegression"
   ]
  },
  {
   "cell_type": "markdown",
   "id": "382aef88",
   "metadata": {},
   "source": [
    "Cautarea valorilor optime ale hiperparametrilor folosind RandomizedSearchCV"
   ]
  },
  {
   "cell_type": "code",
   "execution_count": 104,
   "id": "74105a07",
   "metadata": {
    "ExecuteTime": {
     "end_time": "2021-05-28T08:00:06.407087Z",
     "start_time": "2021-05-28T07:58:19.615820Z"
    }
   },
   "outputs": [
    {
     "name": "stdout",
     "output_type": "stream",
     "text": [
      "{'penalty': 'l2', 'C': 1.623776739188721}\n"
     ]
    }
   ],
   "source": [
    "regression: RegressionModel = LogisticRegression(solver='liblinear', max_iter=1000)\n",
    "parameter_grid: Dict[str, List[Any]] = {'penalty': ['l1', 'l2'], 'C': np.logspace(-4, 4, 20)}\n",
    "random_search: SearchModel = RandomizedSearchCV(estimator=regression, param_distributions=parameter_grid, cv=5, scoring='neg_mean_squared_error', n_jobs=-1)\n",
    "random_search.fit(X_ready, y_data)\n",
    "\n",
    "best_parameters: Dict[str, List[Any]] = random_search.best_params_\n",
    "\n",
    "print(best_parameters)"
   ]
  },
  {
   "cell_type": "code",
   "execution_count": 105,
   "id": "879a3ddb",
   "metadata": {
    "ExecuteTime": {
     "end_time": "2021-05-28T08:00:46.300352Z",
     "start_time": "2021-05-28T08:00:19.154739Z"
    }
   },
   "outputs": [
    {
     "data": {
      "text/html": [
       "<div>\n",
       "<style scoped>\n",
       "    .dataframe tbody tr th:only-of-type {\n",
       "        vertical-align: middle;\n",
       "    }\n",
       "\n",
       "    .dataframe tbody tr th {\n",
       "        vertical-align: top;\n",
       "    }\n",
       "\n",
       "    .dataframe thead th {\n",
       "        text-align: right;\n",
       "    }\n",
       "</style>\n",
       "<table border=\"1\" class=\"dataframe\">\n",
       "  <thead>\n",
       "    <tr style=\"text-align: right;\">\n",
       "      <th></th>\n",
       "      <th>model</th>\n",
       "      <th>fit_time</th>\n",
       "      <th>score_time</th>\n",
       "      <th>test_accuracy</th>\n",
       "      <th>train_accuracy</th>\n",
       "      <th>test_f1</th>\n",
       "      <th>train_f1</th>\n",
       "    </tr>\n",
       "  </thead>\n",
       "  <tbody>\n",
       "    <tr>\n",
       "      <th>0</th>\n",
       "      <td>LogisticRegression</td>\n",
       "      <td>4.293152</td>\n",
       "      <td>0.349165</td>\n",
       "      <td>0.909007</td>\n",
       "      <td>0.967958</td>\n",
       "      <td>0.917427</td>\n",
       "      <td>0.970433</td>\n",
       "    </tr>\n",
       "  </tbody>\n",
       "</table>\n",
       "</div>"
      ],
      "text/plain": [
       "                model  fit_time score_time test_accuracy train_accuracy  \\\n",
       "0  LogisticRegression  4.293152   0.349165      0.909007       0.967958   \n",
       "\n",
       "    test_f1  train_f1  \n",
       "0  0.917427  0.970433  "
      ]
     },
     "execution_count": 105,
     "metadata": {},
     "output_type": "execute_result"
    }
   ],
   "source": [
    "tunned_regression: RegressionModel = LogisticRegression(**best_parameters, solver='liblinear', max_iter=1000)\n",
    "\n",
    "grid_scores: Dict[str, List[float]] = cross_validate(tunned_regression, X_ready, y_data, cv=5, scoring=['accuracy', 'f1'], return_train_score=True)\n",
    "\n",
    "scores: List[Any] = ['LogisticRegression', grid_scores['fit_time'].mean(), grid_scores['score_time'].mean(), grid_scores['test_accuracy'].mean(),\n",
    "         grid_scores['train_accuracy'].mean(), grid_scores['test_f1'].mean(), grid_scores['train_f1'].mean()]\n",
    "\n",
    "for i in range(len(column_names)):\n",
    "    scores_df.loc[0, column_names[i]] = scores[i]\n",
    "\n",
    "scores_df.head()"
   ]
  },
  {
   "cell_type": "markdown",
   "id": "2143a300",
   "metadata": {},
   "source": [
    "#### DecisionTreeClassifier"
   ]
  },
  {
   "cell_type": "code",
   "execution_count": 106,
   "id": "444a7e0c",
   "metadata": {
    "ExecuteTime": {
     "end_time": "2021-05-28T08:01:29.658795Z",
     "start_time": "2021-05-28T08:00:55.553525Z"
    }
   },
   "outputs": [
    {
     "name": "stdout",
     "output_type": "stream",
     "text": [
      "{'min_samples_leaf': 1, 'max_features': 5, 'max_depth': None, 'criterion': 'entropy'}\n"
     ]
    }
   ],
   "source": [
    "classifier: RegressionModel = DecisionTreeClassifier()\n",
    "parameter_grid: Dict[str, List[Any]] = {'max_depth':[3, None], 'max_features':[1, 2, 4, 5, 7], 'min_samples_leaf':[1, 2, 3, 4, 5, 6], 'criterion':['gini', 'entropy']}\n",
    "    \n",
    "random_search: SearchModel = RandomizedSearchCV(estimator=classifier, param_distributions=parameter_grid, cv=5, scoring='accuracy', n_jobs=-1)\n",
    "random_search.fit(X_ready, y_data)\n",
    "best_parameters: Dict[str, List[Any]] = random_search.best_params_\n",
    "\n",
    "print(best_parameters)"
   ]
  },
  {
   "cell_type": "code",
   "execution_count": 107,
   "id": "694e213a",
   "metadata": {
    "ExecuteTime": {
     "end_time": "2021-05-28T08:01:51.674397Z",
     "start_time": "2021-05-28T08:01:38.981633Z"
    }
   },
   "outputs": [
    {
     "data": {
      "text/html": [
       "<div>\n",
       "<style scoped>\n",
       "    .dataframe tbody tr th:only-of-type {\n",
       "        vertical-align: middle;\n",
       "    }\n",
       "\n",
       "    .dataframe tbody tr th {\n",
       "        vertical-align: top;\n",
       "    }\n",
       "\n",
       "    .dataframe thead th {\n",
       "        text-align: right;\n",
       "    }\n",
       "</style>\n",
       "<table border=\"1\" class=\"dataframe\">\n",
       "  <thead>\n",
       "    <tr style=\"text-align: right;\">\n",
       "      <th></th>\n",
       "      <th>model</th>\n",
       "      <th>fit_time</th>\n",
       "      <th>score_time</th>\n",
       "      <th>test_accuracy</th>\n",
       "      <th>train_accuracy</th>\n",
       "      <th>test_f1</th>\n",
       "      <th>train_f1</th>\n",
       "    </tr>\n",
       "  </thead>\n",
       "  <tbody>\n",
       "    <tr>\n",
       "      <th>0</th>\n",
       "      <td>LogisticRegression</td>\n",
       "      <td>4.293152</td>\n",
       "      <td>0.349165</td>\n",
       "      <td>0.909007</td>\n",
       "      <td>0.967958</td>\n",
       "      <td>0.917427</td>\n",
       "      <td>0.970433</td>\n",
       "    </tr>\n",
       "    <tr>\n",
       "      <th>1</th>\n",
       "      <td>DecisionTreeClassifier</td>\n",
       "      <td>1.323857</td>\n",
       "      <td>0.347901</td>\n",
       "      <td>0.809555</td>\n",
       "      <td>0.998914</td>\n",
       "      <td>0.821295</td>\n",
       "      <td>0.998982</td>\n",
       "    </tr>\n",
       "  </tbody>\n",
       "</table>\n",
       "</div>"
      ],
      "text/plain": [
       "                    model  fit_time score_time test_accuracy train_accuracy  \\\n",
       "0      LogisticRegression  4.293152   0.349165      0.909007       0.967958   \n",
       "1  DecisionTreeClassifier  1.323857   0.347901      0.809555       0.998914   \n",
       "\n",
       "    test_f1  train_f1  \n",
       "0  0.917427  0.970433  \n",
       "1  0.821295  0.998982  "
      ]
     },
     "execution_count": 107,
     "metadata": {},
     "output_type": "execute_result"
    }
   ],
   "source": [
    "tunned_classifier: RegressionModel = DecisionTreeClassifier(**best_parameters)\n",
    "\n",
    "grid_scores: Dict[str, List[float]] = cross_validate(tunned_classifier, X_ready, y_data, cv=5, scoring=['accuracy', 'f1'], return_train_score=True)\n",
    "\n",
    "scores: List[Any] = ['DecisionTreeClassifier', grid_scores['fit_time'].mean(), grid_scores['score_time'].mean(), grid_scores['test_accuracy'].mean(),\n",
    "         grid_scores['train_accuracy'].mean(), grid_scores['test_f1'].mean(), grid_scores['train_f1'].mean()]\n",
    "\n",
    "for i in range(len(column_names)):\n",
    "    scores_df.loc[1, column_names[i]] = scores[i]\n",
    "\n",
    "scores_df.head()"
   ]
  },
  {
   "cell_type": "markdown",
   "id": "50afa6fd",
   "metadata": {},
   "source": [
    "#### KNeighborsClassifier"
   ]
  },
  {
   "cell_type": "code",
   "execution_count": 108,
   "id": "89740113",
   "metadata": {
    "ExecuteTime": {
     "end_time": "2021-05-28T08:20:18.010676Z",
     "start_time": "2021-05-28T08:02:01.924107Z"
    }
   },
   "outputs": [
    {
     "name": "stdout",
     "output_type": "stream",
     "text": [
      "{'p': 1, 'n_neighbors': 3}\n"
     ]
    }
   ],
   "source": [
    "classifier: RegressionModel = KNeighborsClassifier()\n",
    "parameter_grid: Dict[str, List[Any]]  = {'n_neighbors': list(range(1,10)), 'p': [1, 2]}\n",
    "\n",
    "random_search: SearchModel = RandomizedSearchCV(estimator=classifier, param_distributions=parameter_grid, cv=5, scoring='accuracy', n_jobs=-1)\n",
    "random_search.fit(X_ready, y_data)\n",
    "best_parameters: Dict[str, List[Any]] = random_search.best_params_\n",
    "\n",
    "print(best_parameters)"
   ]
  },
  {
   "cell_type": "code",
   "execution_count": 109,
   "id": "45730b4f",
   "metadata": {
    "ExecuteTime": {
     "end_time": "2021-05-28T08:20:35.423444Z",
     "start_time": "2021-05-28T08:20:22.503339Z"
    }
   },
   "outputs": [
    {
     "data": {
      "text/html": [
       "<div>\n",
       "<style scoped>\n",
       "    .dataframe tbody tr th:only-of-type {\n",
       "        vertical-align: middle;\n",
       "    }\n",
       "\n",
       "    .dataframe tbody tr th {\n",
       "        vertical-align: top;\n",
       "    }\n",
       "\n",
       "    .dataframe thead th {\n",
       "        text-align: right;\n",
       "    }\n",
       "</style>\n",
       "<table border=\"1\" class=\"dataframe\">\n",
       "  <thead>\n",
       "    <tr style=\"text-align: right;\">\n",
       "      <th></th>\n",
       "      <th>model</th>\n",
       "      <th>fit_time</th>\n",
       "      <th>score_time</th>\n",
       "      <th>test_accuracy</th>\n",
       "      <th>train_accuracy</th>\n",
       "      <th>test_f1</th>\n",
       "      <th>train_f1</th>\n",
       "    </tr>\n",
       "  </thead>\n",
       "  <tbody>\n",
       "    <tr>\n",
       "      <th>0</th>\n",
       "      <td>LogisticRegression</td>\n",
       "      <td>4.293152</td>\n",
       "      <td>0.349165</td>\n",
       "      <td>0.909007</td>\n",
       "      <td>0.967958</td>\n",
       "      <td>0.917427</td>\n",
       "      <td>0.970433</td>\n",
       "    </tr>\n",
       "    <tr>\n",
       "      <th>1</th>\n",
       "      <td>DecisionTreeClassifier</td>\n",
       "      <td>1.323857</td>\n",
       "      <td>0.347901</td>\n",
       "      <td>0.809555</td>\n",
       "      <td>0.998914</td>\n",
       "      <td>0.821295</td>\n",
       "      <td>0.998982</td>\n",
       "    </tr>\n",
       "    <tr>\n",
       "      <th>2</th>\n",
       "      <td>KNeighborsClassifier</td>\n",
       "      <td>1.349226</td>\n",
       "      <td>0.368942</td>\n",
       "      <td>0.806178</td>\n",
       "      <td>0.998914</td>\n",
       "      <td>0.820642</td>\n",
       "      <td>0.998982</td>\n",
       "    </tr>\n",
       "  </tbody>\n",
       "</table>\n",
       "</div>"
      ],
      "text/plain": [
       "                    model  fit_time score_time test_accuracy train_accuracy  \\\n",
       "0      LogisticRegression  4.293152   0.349165      0.909007       0.967958   \n",
       "1  DecisionTreeClassifier  1.323857   0.347901      0.809555       0.998914   \n",
       "2    KNeighborsClassifier  1.349226   0.368942      0.806178       0.998914   \n",
       "\n",
       "    test_f1  train_f1  \n",
       "0  0.917427  0.970433  \n",
       "1  0.821295  0.998982  \n",
       "2  0.820642  0.998982  "
      ]
     },
     "execution_count": 109,
     "metadata": {},
     "output_type": "execute_result"
    }
   ],
   "source": [
    "tunned_classifer: RegressionModel = KNeighborsClassifier(**best_parameters)\n",
    "\n",
    "grid_scores: Dict[str, List[float]] = cross_validate(tunned_classifier, X_ready, y_data, cv=5, scoring=['accuracy', 'f1'], return_train_score=True)\n",
    "\n",
    "scores: List[Any] = ['KNeighborsClassifier', grid_scores['fit_time'].mean(), grid_scores['score_time'].mean(), grid_scores['test_accuracy'].mean(),\n",
    "         grid_scores['train_accuracy'].mean(), grid_scores['test_f1'].mean(), grid_scores['train_f1'].mean()]\n",
    "\n",
    "for i in range(len(column_names)):\n",
    "    scores_df.loc[2, column_names[i]] = scores[i]\n",
    "\n",
    "scores_df.head()"
   ]
  },
  {
   "cell_type": "markdown",
   "id": "06ba6e97",
   "metadata": {},
   "source": [
    "#### MLP Classifier"
   ]
  },
  {
   "cell_type": "code",
   "execution_count": 110,
   "id": "9497a4d3",
   "metadata": {
    "ExecuteTime": {
     "end_time": "2021-05-28T09:57:15.379514Z",
     "start_time": "2021-05-28T08:20:49.887271Z"
    }
   },
   "outputs": [
    {
     "name": "stdout",
     "output_type": "stream",
     "text": [
      "{'solver': 'adam', 'learning_rate': 'adaptive', 'hidden_layer_sizes': (100,), 'alpha': 0.05, 'activation': 'tanh'}\n"
     ]
    }
   ],
   "source": [
    "classifier: RegressionModel = MLPClassifier(max_iter=100)\n",
    "parameter_grid: Dict[str, List[Any]] = {'hidden_layer_sizes': [(50,50,50), (50, 100, 50), (100,)], 'activation': ['tanh', 'relu'], 'solver': ['sgd', 'adam'],\n",
    "                 'alpha': [0.0001, 0.05], 'learning_rate': ['constant', 'adaptive']}\n",
    "\n",
    "random_search: SearchModel = RandomizedSearchCV(estimator=classifier, param_distributions=parameter_grid, cv=5, scoring='accuracy', n_jobs=-1)\n",
    "random_search.fit(X_ready, y_data)\n",
    "best_parameters: Dict[str, List[Any]] = random_search.best_params_\n",
    "\n",
    "print(best_parameters)"
   ]
  },
  {
   "cell_type": "markdown",
   "id": "cfbf8525",
   "metadata": {},
   "source": [
    "**Rularea celulei de mai sus dureaza aproximativ 90-120 de minute !!!!**"
   ]
  },
  {
   "cell_type": "code",
   "execution_count": 111,
   "id": "3ce6c1dd",
   "metadata": {
    "ExecuteTime": {
     "end_time": "2021-05-28T09:57:50.208402Z",
     "start_time": "2021-05-28T09:57:36.900582Z"
    }
   },
   "outputs": [
    {
     "data": {
      "text/html": [
       "<div>\n",
       "<style scoped>\n",
       "    .dataframe tbody tr th:only-of-type {\n",
       "        vertical-align: middle;\n",
       "    }\n",
       "\n",
       "    .dataframe tbody tr th {\n",
       "        vertical-align: top;\n",
       "    }\n",
       "\n",
       "    .dataframe thead th {\n",
       "        text-align: right;\n",
       "    }\n",
       "</style>\n",
       "<table border=\"1\" class=\"dataframe\">\n",
       "  <thead>\n",
       "    <tr style=\"text-align: right;\">\n",
       "      <th></th>\n",
       "      <th>model</th>\n",
       "      <th>fit_time</th>\n",
       "      <th>score_time</th>\n",
       "      <th>test_accuracy</th>\n",
       "      <th>train_accuracy</th>\n",
       "      <th>test_f1</th>\n",
       "      <th>train_f1</th>\n",
       "    </tr>\n",
       "  </thead>\n",
       "  <tbody>\n",
       "    <tr>\n",
       "      <th>0</th>\n",
       "      <td>LogisticRegression</td>\n",
       "      <td>4.293152</td>\n",
       "      <td>0.349165</td>\n",
       "      <td>0.909007</td>\n",
       "      <td>0.967958</td>\n",
       "      <td>0.917427</td>\n",
       "      <td>0.970433</td>\n",
       "    </tr>\n",
       "    <tr>\n",
       "      <th>1</th>\n",
       "      <td>DecisionTreeClassifier</td>\n",
       "      <td>1.323857</td>\n",
       "      <td>0.347901</td>\n",
       "      <td>0.809555</td>\n",
       "      <td>0.998914</td>\n",
       "      <td>0.821295</td>\n",
       "      <td>0.998982</td>\n",
       "    </tr>\n",
       "    <tr>\n",
       "      <th>2</th>\n",
       "      <td>KNeighborsClassifier</td>\n",
       "      <td>1.349226</td>\n",
       "      <td>0.368942</td>\n",
       "      <td>0.806178</td>\n",
       "      <td>0.998914</td>\n",
       "      <td>0.820642</td>\n",
       "      <td>0.998982</td>\n",
       "    </tr>\n",
       "    <tr>\n",
       "      <th>3</th>\n",
       "      <td>MLPClassifier</td>\n",
       "      <td>1.399461</td>\n",
       "      <td>0.361582</td>\n",
       "      <td>0.816801</td>\n",
       "      <td>0.998914</td>\n",
       "      <td>0.828194</td>\n",
       "      <td>0.998982</td>\n",
       "    </tr>\n",
       "  </tbody>\n",
       "</table>\n",
       "</div>"
      ],
      "text/plain": [
       "                    model  fit_time score_time test_accuracy train_accuracy  \\\n",
       "0      LogisticRegression  4.293152   0.349165      0.909007       0.967958   \n",
       "1  DecisionTreeClassifier  1.323857   0.347901      0.809555       0.998914   \n",
       "2    KNeighborsClassifier  1.349226   0.368942      0.806178       0.998914   \n",
       "3           MLPClassifier  1.399461   0.361582      0.816801       0.998914   \n",
       "\n",
       "    test_f1  train_f1  \n",
       "0  0.917427  0.970433  \n",
       "1  0.821295  0.998982  \n",
       "2  0.820642  0.998982  \n",
       "3  0.828194  0.998982  "
      ]
     },
     "execution_count": 111,
     "metadata": {},
     "output_type": "execute_result"
    }
   ],
   "source": [
    "tunned_classifer: RegressionModel = MLPClassifier(**best_parameters, max_iter=100)\n",
    "\n",
    "grid_scores: Dict[str, List[float]] = cross_validate(tunned_classifier, X_ready, y_data, cv=5, scoring=['accuracy', 'f1'], return_train_score=True)\n",
    "\n",
    "scores: List[Any] = ['MLPClassifier', grid_scores['fit_time'].mean(), grid_scores['score_time'].mean(), grid_scores['test_accuracy'].mean(),\n",
    "         grid_scores['train_accuracy'].mean(), grid_scores['test_f1'].mean(), grid_scores['train_f1'].mean()]\n",
    "\n",
    "for i in range(len(column_names)):\n",
    "    scores_df.loc[3, column_names[i]] = scores[i]\n",
    "\n",
    "scores_df.head()"
   ]
  },
  {
   "cell_type": "markdown",
   "id": "b31ec227",
   "metadata": {},
   "source": [
    "Vom exporta un fisier html cu rezultatele:"
   ]
  },
  {
   "cell_type": "code",
   "execution_count": 112,
   "id": "0144c5e8",
   "metadata": {
    "ExecuteTime": {
     "end_time": "2021-05-28T09:58:02.502672Z",
     "start_time": "2021-05-28T09:58:02.472741Z"
    }
   },
   "outputs": [],
   "source": [
    "html: str = scores_df.to_html()\n",
    "file = open(\"output/FarmAds_DataSet.html\", \"w\")\n",
    "file.write(html)\n",
    "file.close()"
   ]
  }
 ],
 "metadata": {
  "kernelspec": {
   "display_name": "Python 3",
   "language": "python",
   "name": "python3"
  },
  "language_info": {
   "codemirror_mode": {
    "name": "ipython",
    "version": 3
   },
   "file_extension": ".py",
   "mimetype": "text/x-python",
   "name": "python",
   "nbconvert_exporter": "python",
   "pygments_lexer": "ipython3",
   "version": "3.8.8"
  },
  "toc": {
   "base_numbering": 1,
   "nav_menu": {
    "height": "251px",
    "width": "358px"
   },
   "number_sections": true,
   "sideBar": true,
   "skip_h1_title": false,
   "title_cell": "Table of Contents",
   "title_sidebar": "Contents",
   "toc_cell": false,
   "toc_position": {},
   "toc_section_display": true,
   "toc_window_display": false
  }
 },
 "nbformat": 4,
 "nbformat_minor": 5
}
