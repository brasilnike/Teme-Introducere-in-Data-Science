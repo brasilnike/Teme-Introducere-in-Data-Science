{
 "cells": [
  {
   "cell_type": "markdown",
   "id": "67dd6de4",
   "metadata": {},
   "source": [
    "# Tema 6 IDS"
   ]
  },
  {
   "cell_type": "code",
   "execution_count": 1,
   "id": "72de68f7",
   "metadata": {
    "ExecuteTime": {
     "end_time": "2021-05-26T10:41:02.223135Z",
     "start_time": "2021-05-26T10:41:01.132962Z"
    }
   },
   "outputs": [
    {
     "name": "stdout",
     "output_type": "stream",
     "text": [
      "\tCurrent Numpy version: 1.20.2\n",
      "\tNumpy version at the creation of the project: 1.20.2\n",
      "\n",
      " \tCurrent Pandas version: 1.2.4\n",
      "\tPandas version at the creation of the project: 1.2.4\n",
      "\n",
      " \tCurrent Regular Expressions version: 2.2.1\n",
      "\tRegular Expressions version at the creation of the project: 2.2.1\n",
      "\n",
      " \tCurrent Seaborn version: 0.11.1\n",
      "\tSeaborn version at the creation of the project: 0.11.1\n"
     ]
    }
   ],
   "source": [
    "import numpy as np\n",
    "import pandas as pd\n",
    "import matplotlib.pyplot as plt\n",
    "import seaborn as sns\n",
    "\n",
    "import re\n",
    "import string\n",
    "import math\n",
    "\n",
    "print(f'\\tCurrent Numpy version: {np.__version__}')\n",
    "print('\\tNumpy version at the creation of the project: 1.20.2')\n",
    "\n",
    "print(f'\\n \\tCurrent Pandas version: {pd.__version__}')\n",
    "print('\\tPandas version at the creation of the project: 1.2.4')\n",
    "\n",
    "print(f'\\n \\tCurrent Regular Expressions version: {re.__version__}')\n",
    "print('\\tRegular Expressions version at the creation of the project: 2.2.1')\n",
    "\n",
    "print(f'\\n \\tCurrent Seaborn version: {sns.__version__}')\n",
    "print('\\tSeaborn version at the creation of the project: 0.11.1')"
   ]
  },
  {
   "cell_type": "code",
   "execution_count": 2,
   "id": "6b3fd62e",
   "metadata": {
    "ExecuteTime": {
     "end_time": "2021-05-26T10:41:04.506395Z",
     "start_time": "2021-05-26T10:41:02.224095Z"
    }
   },
   "outputs": [
    {
     "name": "stdout",
     "output_type": "stream",
     "text": [
      "Requirement already satisfied: nltk in c:\\users\\laur\\anaconda3\\envs\\introducereindatascience\\lib\\site-packages (3.6.1)\n",
      "Requirement already satisfied: click in c:\\users\\laur\\anaconda3\\envs\\introducereindatascience\\lib\\site-packages (from nltk) (7.1.2)\n",
      "Requirement already satisfied: joblib in c:\\users\\laur\\anaconda3\\envs\\introducereindatascience\\lib\\site-packages (from nltk) (1.0.1)\n",
      "Requirement already satisfied: regex in c:\\users\\laur\\anaconda3\\envs\\introducereindatascience\\lib\\site-packages (from nltk) (2021.4.4)\n",
      "Requirement already satisfied: tqdm in c:\\users\\laur\\anaconda3\\envs\\introducereindatascience\\lib\\site-packages (from nltk) (4.59.0)\n"
     ]
    }
   ],
   "source": [
    "!pip install nltk"
   ]
  },
  {
   "cell_type": "code",
   "execution_count": 3,
   "id": "654b1fae",
   "metadata": {
    "ExecuteTime": {
     "end_time": "2021-05-26T10:41:05.493491Z",
     "start_time": "2021-05-26T10:41:04.507393Z"
    }
   },
   "outputs": [
    {
     "name": "stderr",
     "output_type": "stream",
     "text": [
      "[nltk_data] Downloading package stopwords to\n",
      "[nltk_data]     C:\\Users\\Laur\\AppData\\Roaming\\nltk_data...\n",
      "[nltk_data]   Package stopwords is already up-to-date!\n"
     ]
    },
    {
     "data": {
      "text/plain": [
       "True"
      ]
     },
     "execution_count": 3,
     "metadata": {},
     "output_type": "execute_result"
    }
   ],
   "source": [
    "import nltk\n",
    "nltk.download('stopwords')"
   ]
  },
  {
   "cell_type": "code",
   "execution_count": 4,
   "id": "f15a63ee",
   "metadata": {
    "ExecuteTime": {
     "end_time": "2021-05-26T10:41:05.509352Z",
     "start_time": "2021-05-26T10:41:05.495517Z"
    }
   },
   "outputs": [],
   "source": [
    "from nltk.corpus import stopwords\n",
    "\n",
    "from sklearn.feature_extraction.text import CountVectorizer, TfidfVectorizer\n",
    "from sklearn.feature_extraction.text import TfidfTransformer\n",
    "from sklearn.model_selection import train_test_split\n",
    "from sklearn.pipeline import Pipeline\n",
    "from sklearn.model_selection import cross_validate"
   ]
  },
  {
   "cell_type": "markdown",
   "id": "8e580c06",
   "metadata": {},
   "source": [
    "## Setul de date `SMSSpamCollection`"
   ]
  },
  {
   "cell_type": "markdown",
   "id": "90f09cfb",
   "metadata": {},
   "source": [
    "### Descrierea setului de date"
   ]
  },
  {
   "cell_type": "markdown",
   "id": "dd7b6145",
   "metadata": {},
   "source": [
    "Setul de date `SMSSpamCollection` este un set de mesaje SMS care au fost colectate pentru a analiza SMS-urile de tip Spam. Acesta contine un set de 5574 mesaje text in limba engleza clasificate in 2 categorii: `ham`(mesaje legitime) sau `spam`.\n",
    "\n",
    "Aceste mesaje au fost colectate din resurse gratuite de pe Web:\n",
    "* O colectie de aproximativ 425 SMS-uri de tip spam extrase manual de pe site-ul [Grumbletext](http://www.grumbletext.co.uk). Acesta este un forum din UK in care utilizatorii telefoanelor mobile fac plangeri publice despre mesajele text de tip spam.\n",
    "* O lista de 450 de SMS-uri legitime colectate din [teza de doctorat a lui Caroline Tag](http://etheses.bham.ac.uk/253/1/Tagg09PhD.pdf).\n",
    "* Un subset de 3375 mesaje legitime luate de pe site-ul [NUS SMS Corpus (NSC)](http://www.comp.nus.edu.sg/~rpnlpir/downloads/corpora/smsCorpus/), un site care contine aproximativ 10000 de mesaje SMS legitime colectate pentru research de catre Department of Computer Science at the National University of Singapore. Mesajele provin in mare parte de la oamenii din Singapore si de la studentii de la universitate. Aceste mesaje au fost colectate de voluntari.\n",
    "* Un numar de 1002 SMS-uri legitime si 332 SMS-uri de tip spam extrase din [SMS Spam Corpus v.0.1 Big](http://www.esp.uem.es/jmgomez/smsspamcorpus/), colectie creata de José María Gómez Hidalgo.\n",
    "\n",
    "Setul de date contine un total de 4827 de SMS-uri de tip legitim (86.6%) si 747 de mesaje de tip spam (13.4%)."
   ]
  },
  {
   "cell_type": "markdown",
   "id": "f509610f",
   "metadata": {},
   "source": [
    "### Analiza exploratorie a setului de date"
   ]
  },
  {
   "cell_type": "code",
   "execution_count": 5,
   "id": "95675a0e",
   "metadata": {
    "ExecuteTime": {
     "end_time": "2021-05-26T10:41:05.541338Z",
     "start_time": "2021-05-26T10:41:05.510348Z"
    }
   },
   "outputs": [],
   "source": [
    "data = pd.read_csv(\"data/SMSSpamCollection\", delimiter=\"\\t\", header=None)\n",
    "data = data.rename(columns= {0: 'Class', 1:'Message'})"
   ]
  },
  {
   "cell_type": "code",
   "execution_count": 6,
   "id": "71d74d8b",
   "metadata": {
    "ExecuteTime": {
     "end_time": "2021-05-26T10:41:05.557295Z",
     "start_time": "2021-05-26T10:41:05.542335Z"
    }
   },
   "outputs": [
    {
     "data": {
      "text/html": [
       "<div>\n",
       "<style scoped>\n",
       "    .dataframe tbody tr th:only-of-type {\n",
       "        vertical-align: middle;\n",
       "    }\n",
       "\n",
       "    .dataframe tbody tr th {\n",
       "        vertical-align: top;\n",
       "    }\n",
       "\n",
       "    .dataframe thead th {\n",
       "        text-align: right;\n",
       "    }\n",
       "</style>\n",
       "<table border=\"1\" class=\"dataframe\">\n",
       "  <thead>\n",
       "    <tr style=\"text-align: right;\">\n",
       "      <th></th>\n",
       "      <th>Class</th>\n",
       "      <th>Message</th>\n",
       "    </tr>\n",
       "  </thead>\n",
       "  <tbody>\n",
       "    <tr>\n",
       "      <th>0</th>\n",
       "      <td>ham</td>\n",
       "      <td>Go until jurong point, crazy.. Available only ...</td>\n",
       "    </tr>\n",
       "    <tr>\n",
       "      <th>1</th>\n",
       "      <td>ham</td>\n",
       "      <td>Ok lar... Joking wif u oni...</td>\n",
       "    </tr>\n",
       "    <tr>\n",
       "      <th>2</th>\n",
       "      <td>spam</td>\n",
       "      <td>Free entry in 2 a wkly comp to win FA Cup fina...</td>\n",
       "    </tr>\n",
       "    <tr>\n",
       "      <th>3</th>\n",
       "      <td>ham</td>\n",
       "      <td>U dun say so early hor... U c already then say...</td>\n",
       "    </tr>\n",
       "    <tr>\n",
       "      <th>4</th>\n",
       "      <td>ham</td>\n",
       "      <td>Nah I don't think he goes to usf, he lives aro...</td>\n",
       "    </tr>\n",
       "  </tbody>\n",
       "</table>\n",
       "</div>"
      ],
      "text/plain": [
       "  Class                                            Message\n",
       "0   ham  Go until jurong point, crazy.. Available only ...\n",
       "1   ham                      Ok lar... Joking wif u oni...\n",
       "2  spam  Free entry in 2 a wkly comp to win FA Cup fina...\n",
       "3   ham  U dun say so early hor... U c already then say...\n",
       "4   ham  Nah I don't think he goes to usf, he lives aro..."
      ]
     },
     "execution_count": 6,
     "metadata": {},
     "output_type": "execute_result"
    }
   ],
   "source": [
    "data.head()"
   ]
  },
  {
   "cell_type": "markdown",
   "id": "2f957955",
   "metadata": {},
   "source": [
    "Vom exemplifica acum cum arata un `mesaj legitim`"
   ]
  },
  {
   "cell_type": "code",
   "execution_count": 7,
   "id": "07a9870d",
   "metadata": {
    "ExecuteTime": {
     "end_time": "2021-05-26T10:41:05.573285Z",
     "start_time": "2021-05-26T10:41:05.559291Z"
    }
   },
   "outputs": [
    {
     "data": {
      "text/plain": [
       "'Go until jurong point, crazy.. Available only in bugis n great world la e buffet... Cine there got amore wat...'"
      ]
     },
     "execution_count": 7,
     "metadata": {},
     "output_type": "execute_result"
    }
   ],
   "source": [
    "data[data['Class'] == 'ham'].iloc[0]['Message']"
   ]
  },
  {
   "cell_type": "markdown",
   "id": "ab0c943b",
   "metadata": {},
   "source": [
    "Vom da un exemplu si de mesaj de tip `spam`"
   ]
  },
  {
   "cell_type": "code",
   "execution_count": 8,
   "id": "51cce13d",
   "metadata": {
    "ExecuteTime": {
     "end_time": "2021-05-26T10:41:05.589210Z",
     "start_time": "2021-05-26T10:41:05.575248Z"
    }
   },
   "outputs": [
    {
     "data": {
      "text/plain": [
       "\"Free entry in 2 a wkly comp to win FA Cup final tkts 21st May 2005. Text FA to 87121 to receive entry question(std txt rate)T&C's apply 08452810075over18's\""
      ]
     },
     "execution_count": 8,
     "metadata": {},
     "output_type": "execute_result"
    }
   ],
   "source": [
    "data[data['Class'] == 'spam'].iloc[0]['Message']"
   ]
  },
  {
   "cell_type": "markdown",
   "id": "e9435a9d",
   "metadata": {},
   "source": [
    "Verificam daca exista vreo valoare NaN in setul nostru de date"
   ]
  },
  {
   "cell_type": "code",
   "execution_count": 9,
   "id": "4407f42b",
   "metadata": {
    "ExecuteTime": {
     "end_time": "2021-05-26T10:41:05.605168Z",
     "start_time": "2021-05-26T10:41:05.591205Z"
    }
   },
   "outputs": [
    {
     "data": {
      "text/plain": [
       "Class      0\n",
       "Message    0\n",
       "dtype: int64"
      ]
     },
     "execution_count": 9,
     "metadata": {},
     "output_type": "execute_result"
    }
   ],
   "source": [
    "data.isna().sum()"
   ]
  },
  {
   "cell_type": "markdown",
   "id": "fac542cb",
   "metadata": {},
   "source": [
    "Vom creea etichete numerice pentru clasificare"
   ]
  },
  {
   "cell_type": "code",
   "execution_count": 10,
   "id": "87c9d5b3",
   "metadata": {
    "ExecuteTime": {
     "end_time": "2021-05-26T10:41:05.667999Z",
     "start_time": "2021-05-26T10:41:05.607163Z"
    }
   },
   "outputs": [
    {
     "data": {
      "text/html": [
       "<div>\n",
       "<style scoped>\n",
       "    .dataframe tbody tr th:only-of-type {\n",
       "        vertical-align: middle;\n",
       "    }\n",
       "\n",
       "    .dataframe tbody tr th {\n",
       "        vertical-align: top;\n",
       "    }\n",
       "\n",
       "    .dataframe thead th {\n",
       "        text-align: right;\n",
       "    }\n",
       "</style>\n",
       "<table border=\"1\" class=\"dataframe\">\n",
       "  <thead>\n",
       "    <tr style=\"text-align: right;\">\n",
       "      <th></th>\n",
       "      <th>Class</th>\n",
       "      <th>Message</th>\n",
       "      <th>IsSpam</th>\n",
       "    </tr>\n",
       "  </thead>\n",
       "  <tbody>\n",
       "    <tr>\n",
       "      <th>0</th>\n",
       "      <td>ham</td>\n",
       "      <td>Go until jurong point, crazy.. Available only ...</td>\n",
       "      <td>0</td>\n",
       "    </tr>\n",
       "    <tr>\n",
       "      <th>1</th>\n",
       "      <td>ham</td>\n",
       "      <td>Ok lar... Joking wif u oni...</td>\n",
       "      <td>0</td>\n",
       "    </tr>\n",
       "    <tr>\n",
       "      <th>2</th>\n",
       "      <td>spam</td>\n",
       "      <td>Free entry in 2 a wkly comp to win FA Cup fina...</td>\n",
       "      <td>1</td>\n",
       "    </tr>\n",
       "    <tr>\n",
       "      <th>3</th>\n",
       "      <td>ham</td>\n",
       "      <td>U dun say so early hor... U c already then say...</td>\n",
       "      <td>0</td>\n",
       "    </tr>\n",
       "    <tr>\n",
       "      <th>4</th>\n",
       "      <td>ham</td>\n",
       "      <td>Nah I don't think he goes to usf, he lives aro...</td>\n",
       "      <td>0</td>\n",
       "    </tr>\n",
       "    <tr>\n",
       "      <th>...</th>\n",
       "      <td>...</td>\n",
       "      <td>...</td>\n",
       "      <td>...</td>\n",
       "    </tr>\n",
       "    <tr>\n",
       "      <th>5567</th>\n",
       "      <td>spam</td>\n",
       "      <td>This is the 2nd time we have tried 2 contact u...</td>\n",
       "      <td>1</td>\n",
       "    </tr>\n",
       "    <tr>\n",
       "      <th>5568</th>\n",
       "      <td>ham</td>\n",
       "      <td>Will ü b going to esplanade fr home?</td>\n",
       "      <td>0</td>\n",
       "    </tr>\n",
       "    <tr>\n",
       "      <th>5569</th>\n",
       "      <td>ham</td>\n",
       "      <td>Pity, * was in mood for that. So...any other s...</td>\n",
       "      <td>0</td>\n",
       "    </tr>\n",
       "    <tr>\n",
       "      <th>5570</th>\n",
       "      <td>ham</td>\n",
       "      <td>The guy did some bitching but I acted like i'd...</td>\n",
       "      <td>0</td>\n",
       "    </tr>\n",
       "    <tr>\n",
       "      <th>5571</th>\n",
       "      <td>ham</td>\n",
       "      <td>Rofl. Its true to its name</td>\n",
       "      <td>0</td>\n",
       "    </tr>\n",
       "  </tbody>\n",
       "</table>\n",
       "<p>5572 rows × 3 columns</p>\n",
       "</div>"
      ],
      "text/plain": [
       "     Class                                            Message  IsSpam\n",
       "0      ham  Go until jurong point, crazy.. Available only ...       0\n",
       "1      ham                      Ok lar... Joking wif u oni...       0\n",
       "2     spam  Free entry in 2 a wkly comp to win FA Cup fina...       1\n",
       "3      ham  U dun say so early hor... U c already then say...       0\n",
       "4      ham  Nah I don't think he goes to usf, he lives aro...       0\n",
       "...    ...                                                ...     ...\n",
       "5567  spam  This is the 2nd time we have tried 2 contact u...       1\n",
       "5568   ham               Will ü b going to esplanade fr home?       0\n",
       "5569   ham  Pity, * was in mood for that. So...any other s...       0\n",
       "5570   ham  The guy did some bitching but I acted like i'd...       0\n",
       "5571   ham                         Rofl. Its true to its name       0\n",
       "\n",
       "[5572 rows x 3 columns]"
      ]
     },
     "execution_count": 10,
     "metadata": {},
     "output_type": "execute_result"
    }
   ],
   "source": [
    "label = {'ham': 0, 'spam': 1}\n",
    "data['IsSpam'] = data['Class'].map(label)\n",
    "data"
   ]
  },
  {
   "cell_type": "markdown",
   "id": "caaa03bf",
   "metadata": {},
   "source": [
    "Pentru standardizarea tuturor mesajelor, vom face toate literele de tip lowercase"
   ]
  },
  {
   "cell_type": "code",
   "execution_count": 11,
   "id": "7eeca78e",
   "metadata": {
    "ExecuteTime": {
     "end_time": "2021-05-26T10:41:05.683956Z",
     "start_time": "2021-05-26T10:41:05.668997Z"
    }
   },
   "outputs": [
    {
     "data": {
      "text/plain": [
       "0       go until jurong point, crazy.. available only ...\n",
       "1                           ok lar... joking wif u oni...\n",
       "2       free entry in 2 a wkly comp to win fa cup fina...\n",
       "3       u dun say so early hor... u c already then say...\n",
       "4       nah i don't think he goes to usf, he lives aro...\n",
       "                              ...                        \n",
       "5567    this is the 2nd time we have tried 2 contact u...\n",
       "5568                 will ü b going to esplanade fr home?\n",
       "5569    pity, * was in mood for that. so...any other s...\n",
       "5570    the guy did some bitching but i acted like i'd...\n",
       "5571                           rofl. its true to its name\n",
       "Name: Message, Length: 5572, dtype: object"
      ]
     },
     "execution_count": 11,
     "metadata": {},
     "output_type": "execute_result"
    }
   ],
   "source": [
    "data['Message'] = data['Message'].str.lower()\n",
    "data['Message']"
   ]
  },
  {
   "cell_type": "markdown",
   "id": "ead4c24b",
   "metadata": {},
   "source": [
    "Calculam lungimea mesajelor si adaugam o coloana cu aceasta valoare in dataframe-ul nostru"
   ]
  },
  {
   "cell_type": "code",
   "execution_count": 12,
   "id": "258b89b3",
   "metadata": {
    "ExecuteTime": {
     "end_time": "2021-05-26T10:41:05.699915Z",
     "start_time": "2021-05-26T10:41:05.684954Z"
    }
   },
   "outputs": [
    {
     "data": {
      "text/html": [
       "<div>\n",
       "<style scoped>\n",
       "    .dataframe tbody tr th:only-of-type {\n",
       "        vertical-align: middle;\n",
       "    }\n",
       "\n",
       "    .dataframe tbody tr th {\n",
       "        vertical-align: top;\n",
       "    }\n",
       "\n",
       "    .dataframe thead th {\n",
       "        text-align: right;\n",
       "    }\n",
       "</style>\n",
       "<table border=\"1\" class=\"dataframe\">\n",
       "  <thead>\n",
       "    <tr style=\"text-align: right;\">\n",
       "      <th></th>\n",
       "      <th>Class</th>\n",
       "      <th>Message</th>\n",
       "      <th>IsSpam</th>\n",
       "      <th>Length</th>\n",
       "    </tr>\n",
       "  </thead>\n",
       "  <tbody>\n",
       "    <tr>\n",
       "      <th>0</th>\n",
       "      <td>ham</td>\n",
       "      <td>go until jurong point, crazy.. available only ...</td>\n",
       "      <td>0</td>\n",
       "      <td>111</td>\n",
       "    </tr>\n",
       "    <tr>\n",
       "      <th>1</th>\n",
       "      <td>ham</td>\n",
       "      <td>ok lar... joking wif u oni...</td>\n",
       "      <td>0</td>\n",
       "      <td>29</td>\n",
       "    </tr>\n",
       "    <tr>\n",
       "      <th>2</th>\n",
       "      <td>spam</td>\n",
       "      <td>free entry in 2 a wkly comp to win fa cup fina...</td>\n",
       "      <td>1</td>\n",
       "      <td>155</td>\n",
       "    </tr>\n",
       "    <tr>\n",
       "      <th>3</th>\n",
       "      <td>ham</td>\n",
       "      <td>u dun say so early hor... u c already then say...</td>\n",
       "      <td>0</td>\n",
       "      <td>49</td>\n",
       "    </tr>\n",
       "    <tr>\n",
       "      <th>4</th>\n",
       "      <td>ham</td>\n",
       "      <td>nah i don't think he goes to usf, he lives aro...</td>\n",
       "      <td>0</td>\n",
       "      <td>61</td>\n",
       "    </tr>\n",
       "    <tr>\n",
       "      <th>...</th>\n",
       "      <td>...</td>\n",
       "      <td>...</td>\n",
       "      <td>...</td>\n",
       "      <td>...</td>\n",
       "    </tr>\n",
       "    <tr>\n",
       "      <th>5567</th>\n",
       "      <td>spam</td>\n",
       "      <td>this is the 2nd time we have tried 2 contact u...</td>\n",
       "      <td>1</td>\n",
       "      <td>160</td>\n",
       "    </tr>\n",
       "    <tr>\n",
       "      <th>5568</th>\n",
       "      <td>ham</td>\n",
       "      <td>will ü b going to esplanade fr home?</td>\n",
       "      <td>0</td>\n",
       "      <td>36</td>\n",
       "    </tr>\n",
       "    <tr>\n",
       "      <th>5569</th>\n",
       "      <td>ham</td>\n",
       "      <td>pity, * was in mood for that. so...any other s...</td>\n",
       "      <td>0</td>\n",
       "      <td>57</td>\n",
       "    </tr>\n",
       "    <tr>\n",
       "      <th>5570</th>\n",
       "      <td>ham</td>\n",
       "      <td>the guy did some bitching but i acted like i'd...</td>\n",
       "      <td>0</td>\n",
       "      <td>125</td>\n",
       "    </tr>\n",
       "    <tr>\n",
       "      <th>5571</th>\n",
       "      <td>ham</td>\n",
       "      <td>rofl. its true to its name</td>\n",
       "      <td>0</td>\n",
       "      <td>26</td>\n",
       "    </tr>\n",
       "  </tbody>\n",
       "</table>\n",
       "<p>5572 rows × 4 columns</p>\n",
       "</div>"
      ],
      "text/plain": [
       "     Class                                            Message  IsSpam  Length\n",
       "0      ham  go until jurong point, crazy.. available only ...       0     111\n",
       "1      ham                      ok lar... joking wif u oni...       0      29\n",
       "2     spam  free entry in 2 a wkly comp to win fa cup fina...       1     155\n",
       "3      ham  u dun say so early hor... u c already then say...       0      49\n",
       "4      ham  nah i don't think he goes to usf, he lives aro...       0      61\n",
       "...    ...                                                ...     ...     ...\n",
       "5567  spam  this is the 2nd time we have tried 2 contact u...       1     160\n",
       "5568   ham               will ü b going to esplanade fr home?       0      36\n",
       "5569   ham  pity, * was in mood for that. so...any other s...       0      57\n",
       "5570   ham  the guy did some bitching but i acted like i'd...       0     125\n",
       "5571   ham                         rofl. its true to its name       0      26\n",
       "\n",
       "[5572 rows x 4 columns]"
      ]
     },
     "execution_count": 12,
     "metadata": {},
     "output_type": "execute_result"
    }
   ],
   "source": [
    "data['Length'] = data['Message'].apply(len)\n",
    "data"
   ]
  },
  {
   "cell_type": "code",
   "execution_count": 13,
   "id": "a032405a",
   "metadata": {
    "ExecuteTime": {
     "end_time": "2021-05-26T10:41:05.715871Z",
     "start_time": "2021-05-26T10:41:05.700912Z"
    }
   },
   "outputs": [],
   "source": [
    "import warnings\n",
    "warnings.simplefilter(action='ignore', category=FutureWarning)"
   ]
  },
  {
   "cell_type": "code",
   "execution_count": 14,
   "id": "db11ab3f",
   "metadata": {
    "ExecuteTime": {
     "end_time": "2021-05-26T10:41:06.003035Z",
     "start_time": "2021-05-26T10:41:05.716869Z"
    }
   },
   "outputs": [
    {
     "data": {
      "image/png": "[encoded data removed]",
      "text/plain": [
       "<Figure size 1080x576 with 1 Axes>"
      ]
     },
     "metadata": {
      "needs_background": "light"
     },
     "output_type": "display_data"
    }
   ],
   "source": [
    "plt.figure(figsize=(15, 8))\n",
    "hams_length = data[data['IsSpam'] == 0][['IsSpam', 'Length']]\n",
    "spam_length = data[data['IsSpam'] == 1][['IsSpam', 'Length']]\n",
    "ax = sns.distplot(hams_length, hist = False, label = 'Ham')\n",
    "ax = sns.distplot(spam_length, hist = False, label = 'Spam')\n",
    "plt.xlim(0, 300)\n",
    "plt.title('Distribution of SMS Message Character Count between Spam vs. Ham ')\n",
    "sns.set(font_scale=1.3)\n",
    "plt.legend()\n",
    "ax.set_ylabel('Distribution')\n",
    "ax.set_xlabel('Length of SMS');"
   ]
  },
  {
   "cell_type": "markdown",
   "id": "b9c0311e",
   "metadata": {},
   "source": [
    "Afisam date despre mesajele legitime."
   ]
  },
  {
   "cell_type": "code",
   "execution_count": 15,
   "id": "89e2a51d",
   "metadata": {
    "ExecuteTime": {
     "end_time": "2021-05-26T10:41:06.018963Z",
     "start_time": "2021-05-26T10:41:06.004001Z"
    }
   },
   "outputs": [
    {
     "data": {
      "text/html": [
       "<div>\n",
       "<style scoped>\n",
       "    .dataframe tbody tr th:only-of-type {\n",
       "        vertical-align: middle;\n",
       "    }\n",
       "\n",
       "    .dataframe tbody tr th {\n",
       "        vertical-align: top;\n",
       "    }\n",
       "\n",
       "    .dataframe thead th {\n",
       "        text-align: right;\n",
       "    }\n",
       "</style>\n",
       "<table border=\"1\" class=\"dataframe\">\n",
       "  <thead>\n",
       "    <tr style=\"text-align: right;\">\n",
       "      <th></th>\n",
       "      <th>IsSpam</th>\n",
       "      <th>Length</th>\n",
       "    </tr>\n",
       "  </thead>\n",
       "  <tbody>\n",
       "    <tr>\n",
       "      <th>count</th>\n",
       "      <td>4825.0</td>\n",
       "      <td>4825.000000</td>\n",
       "    </tr>\n",
       "    <tr>\n",
       "      <th>mean</th>\n",
       "      <td>0.0</td>\n",
       "      <td>71.482487</td>\n",
       "    </tr>\n",
       "    <tr>\n",
       "      <th>std</th>\n",
       "      <td>0.0</td>\n",
       "      <td>58.440652</td>\n",
       "    </tr>\n",
       "    <tr>\n",
       "      <th>min</th>\n",
       "      <td>0.0</td>\n",
       "      <td>2.000000</td>\n",
       "    </tr>\n",
       "    <tr>\n",
       "      <th>25%</th>\n",
       "      <td>0.0</td>\n",
       "      <td>33.000000</td>\n",
       "    </tr>\n",
       "    <tr>\n",
       "      <th>50%</th>\n",
       "      <td>0.0</td>\n",
       "      <td>52.000000</td>\n",
       "    </tr>\n",
       "    <tr>\n",
       "      <th>75%</th>\n",
       "      <td>0.0</td>\n",
       "      <td>93.000000</td>\n",
       "    </tr>\n",
       "    <tr>\n",
       "      <th>max</th>\n",
       "      <td>0.0</td>\n",
       "      <td>910.000000</td>\n",
       "    </tr>\n",
       "  </tbody>\n",
       "</table>\n",
       "</div>"
      ],
      "text/plain": [
       "       IsSpam       Length\n",
       "count  4825.0  4825.000000\n",
       "mean      0.0    71.482487\n",
       "std       0.0    58.440652\n",
       "min       0.0     2.000000\n",
       "25%       0.0    33.000000\n",
       "50%       0.0    52.000000\n",
       "75%       0.0    93.000000\n",
       "max       0.0   910.000000"
      ]
     },
     "execution_count": 15,
     "metadata": {},
     "output_type": "execute_result"
    }
   ],
   "source": [
    "data[data['IsSpam'] == 0].describe()"
   ]
  },
  {
   "cell_type": "markdown",
   "id": "276277eb",
   "metadata": {},
   "source": [
    "Afisam date despre mesajele de tip spam."
   ]
  },
  {
   "cell_type": "code",
   "execution_count": 16,
   "id": "2c1da871",
   "metadata": {
    "ExecuteTime": {
     "end_time": "2021-05-26T10:41:06.034949Z",
     "start_time": "2021-05-26T10:41:06.019959Z"
    }
   },
   "outputs": [
    {
     "data": {
      "text/html": [
       "<div>\n",
       "<style scoped>\n",
       "    .dataframe tbody tr th:only-of-type {\n",
       "        vertical-align: middle;\n",
       "    }\n",
       "\n",
       "    .dataframe tbody tr th {\n",
       "        vertical-align: top;\n",
       "    }\n",
       "\n",
       "    .dataframe thead th {\n",
       "        text-align: right;\n",
       "    }\n",
       "</style>\n",
       "<table border=\"1\" class=\"dataframe\">\n",
       "  <thead>\n",
       "    <tr style=\"text-align: right;\">\n",
       "      <th></th>\n",
       "      <th>IsSpam</th>\n",
       "      <th>Length</th>\n",
       "    </tr>\n",
       "  </thead>\n",
       "  <tbody>\n",
       "    <tr>\n",
       "      <th>count</th>\n",
       "      <td>747.0</td>\n",
       "      <td>747.000000</td>\n",
       "    </tr>\n",
       "    <tr>\n",
       "      <th>mean</th>\n",
       "      <td>1.0</td>\n",
       "      <td>138.670683</td>\n",
       "    </tr>\n",
       "    <tr>\n",
       "      <th>std</th>\n",
       "      <td>0.0</td>\n",
       "      <td>28.873603</td>\n",
       "    </tr>\n",
       "    <tr>\n",
       "      <th>min</th>\n",
       "      <td>1.0</td>\n",
       "      <td>13.000000</td>\n",
       "    </tr>\n",
       "    <tr>\n",
       "      <th>25%</th>\n",
       "      <td>1.0</td>\n",
       "      <td>133.000000</td>\n",
       "    </tr>\n",
       "    <tr>\n",
       "      <th>50%</th>\n",
       "      <td>1.0</td>\n",
       "      <td>149.000000</td>\n",
       "    </tr>\n",
       "    <tr>\n",
       "      <th>75%</th>\n",
       "      <td>1.0</td>\n",
       "      <td>157.000000</td>\n",
       "    </tr>\n",
       "    <tr>\n",
       "      <th>max</th>\n",
       "      <td>1.0</td>\n",
       "      <td>223.000000</td>\n",
       "    </tr>\n",
       "  </tbody>\n",
       "</table>\n",
       "</div>"
      ],
      "text/plain": [
       "       IsSpam      Length\n",
       "count   747.0  747.000000\n",
       "mean      1.0  138.670683\n",
       "std       0.0   28.873603\n",
       "min       1.0   13.000000\n",
       "25%       1.0  133.000000\n",
       "50%       1.0  149.000000\n",
       "75%       1.0  157.000000\n",
       "max       1.0  223.000000"
      ]
     },
     "execution_count": 16,
     "metadata": {},
     "output_type": "execute_result"
    }
   ],
   "source": [
    "data[data['IsSpam'] == 1].describe()"
   ]
  },
  {
   "cell_type": "markdown",
   "id": "340f7c4c",
   "metadata": {},
   "source": [
    "Tot ceea ce am reprezentat mai sus impreuna cu graficul afisat arata faptul ca mesajele de tip spam par a avea o lungime mai mare fata de mesajele legitime in ceea ce priveste numarul de caractere.\n",
    "\n",
    "Vom vedea acum daca este adevarat si pentru numarul de cuvinte din fiecare mesaj."
   ]
  },
  {
   "cell_type": "code",
   "execution_count": 17,
   "id": "d0762bc9",
   "metadata": {
    "ExecuteTime": {
     "end_time": "2021-05-26T10:41:06.065836Z",
     "start_time": "2021-05-26T10:41:06.035915Z"
    }
   },
   "outputs": [
    {
     "data": {
      "text/html": [
       "<div>\n",
       "<style scoped>\n",
       "    .dataframe tbody tr th:only-of-type {\n",
       "        vertical-align: middle;\n",
       "    }\n",
       "\n",
       "    .dataframe tbody tr th {\n",
       "        vertical-align: top;\n",
       "    }\n",
       "\n",
       "    .dataframe thead th {\n",
       "        text-align: right;\n",
       "    }\n",
       "</style>\n",
       "<table border=\"1\" class=\"dataframe\">\n",
       "  <thead>\n",
       "    <tr style=\"text-align: right;\">\n",
       "      <th></th>\n",
       "      <th>Class</th>\n",
       "      <th>Message</th>\n",
       "      <th>IsSpam</th>\n",
       "      <th>Length</th>\n",
       "      <th>Word_Count</th>\n",
       "    </tr>\n",
       "  </thead>\n",
       "  <tbody>\n",
       "    <tr>\n",
       "      <th>0</th>\n",
       "      <td>ham</td>\n",
       "      <td>go until jurong point, crazy.. available only ...</td>\n",
       "      <td>0</td>\n",
       "      <td>111</td>\n",
       "      <td>20</td>\n",
       "    </tr>\n",
       "    <tr>\n",
       "      <th>1</th>\n",
       "      <td>ham</td>\n",
       "      <td>ok lar... joking wif u oni...</td>\n",
       "      <td>0</td>\n",
       "      <td>29</td>\n",
       "      <td>6</td>\n",
       "    </tr>\n",
       "    <tr>\n",
       "      <th>2</th>\n",
       "      <td>spam</td>\n",
       "      <td>free entry in 2 a wkly comp to win fa cup fina...</td>\n",
       "      <td>1</td>\n",
       "      <td>155</td>\n",
       "      <td>28</td>\n",
       "    </tr>\n",
       "    <tr>\n",
       "      <th>3</th>\n",
       "      <td>ham</td>\n",
       "      <td>u dun say so early hor... u c already then say...</td>\n",
       "      <td>0</td>\n",
       "      <td>49</td>\n",
       "      <td>11</td>\n",
       "    </tr>\n",
       "    <tr>\n",
       "      <th>4</th>\n",
       "      <td>ham</td>\n",
       "      <td>nah i don't think he goes to usf, he lives aro...</td>\n",
       "      <td>0</td>\n",
       "      <td>61</td>\n",
       "      <td>13</td>\n",
       "    </tr>\n",
       "    <tr>\n",
       "      <th>...</th>\n",
       "      <td>...</td>\n",
       "      <td>...</td>\n",
       "      <td>...</td>\n",
       "      <td>...</td>\n",
       "      <td>...</td>\n",
       "    </tr>\n",
       "    <tr>\n",
       "      <th>5567</th>\n",
       "      <td>spam</td>\n",
       "      <td>this is the 2nd time we have tried 2 contact u...</td>\n",
       "      <td>1</td>\n",
       "      <td>160</td>\n",
       "      <td>30</td>\n",
       "    </tr>\n",
       "    <tr>\n",
       "      <th>5568</th>\n",
       "      <td>ham</td>\n",
       "      <td>will ü b going to esplanade fr home?</td>\n",
       "      <td>0</td>\n",
       "      <td>36</td>\n",
       "      <td>8</td>\n",
       "    </tr>\n",
       "    <tr>\n",
       "      <th>5569</th>\n",
       "      <td>ham</td>\n",
       "      <td>pity, * was in mood for that. so...any other s...</td>\n",
       "      <td>0</td>\n",
       "      <td>57</td>\n",
       "      <td>10</td>\n",
       "    </tr>\n",
       "    <tr>\n",
       "      <th>5570</th>\n",
       "      <td>ham</td>\n",
       "      <td>the guy did some bitching but i acted like i'd...</td>\n",
       "      <td>0</td>\n",
       "      <td>125</td>\n",
       "      <td>26</td>\n",
       "    </tr>\n",
       "    <tr>\n",
       "      <th>5571</th>\n",
       "      <td>ham</td>\n",
       "      <td>rofl. its true to its name</td>\n",
       "      <td>0</td>\n",
       "      <td>26</td>\n",
       "      <td>6</td>\n",
       "    </tr>\n",
       "  </tbody>\n",
       "</table>\n",
       "<p>5572 rows × 5 columns</p>\n",
       "</div>"
      ],
      "text/plain": [
       "     Class                                            Message  IsSpam  Length  \\\n",
       "0      ham  go until jurong point, crazy.. available only ...       0     111   \n",
       "1      ham                      ok lar... joking wif u oni...       0      29   \n",
       "2     spam  free entry in 2 a wkly comp to win fa cup fina...       1     155   \n",
       "3      ham  u dun say so early hor... u c already then say...       0      49   \n",
       "4      ham  nah i don't think he goes to usf, he lives aro...       0      61   \n",
       "...    ...                                                ...     ...     ...   \n",
       "5567  spam  this is the 2nd time we have tried 2 contact u...       1     160   \n",
       "5568   ham               will ü b going to esplanade fr home?       0      36   \n",
       "5569   ham  pity, * was in mood for that. so...any other s...       0      57   \n",
       "5570   ham  the guy did some bitching but i acted like i'd...       0     125   \n",
       "5571   ham                         rofl. its true to its name       0      26   \n",
       "\n",
       "      Word_Count  \n",
       "0             20  \n",
       "1              6  \n",
       "2             28  \n",
       "3             11  \n",
       "4             13  \n",
       "...          ...  \n",
       "5567          30  \n",
       "5568           8  \n",
       "5569          10  \n",
       "5570          26  \n",
       "5571           6  \n",
       "\n",
       "[5572 rows x 5 columns]"
      ]
     },
     "execution_count": 17,
     "metadata": {},
     "output_type": "execute_result"
    }
   ],
   "source": [
    "data['Word_Count'] = data['Message'].str.split().str.len()\n",
    "data"
   ]
  },
  {
   "cell_type": "code",
   "execution_count": 18,
   "id": "391cac2c",
   "metadata": {
    "ExecuteTime": {
     "end_time": "2021-05-26T10:41:06.350403Z",
     "start_time": "2021-05-26T10:41:06.066833Z"
    }
   },
   "outputs": [
    {
     "data": {
      "image/png": "[encoded data removed]",
      "text/plain": [
       "<Figure size 1080x576 with 1 Axes>"
      ]
     },
     "metadata": {},
     "output_type": "display_data"
    }
   ],
   "source": [
    "plt.figure(figsize=(15, 8))\n",
    "hams_length = data[data['IsSpam'] == 0][['IsSpam', 'Word_Count']]\n",
    "spam_length = data[data['IsSpam'] == 1][['IsSpam', 'Word_Count']]\n",
    "plt.title('Distribution of SMS Message word count between Spam vs. Ham ')\n",
    "ax = sns.distplot(hams_length, hist = False, label = 'Ham')\n",
    "ax = sns.distplot(spam_length, hist = False, label = 'Spam')\n",
    "plt.xlim(0, 100)\n",
    "plt.legend()\n",
    "sns.set(font_scale=1.3)\n",
    "ax.set_ylabel('Distribution')\n",
    "ax.set_xlabel('Length of SMS');"
   ]
  },
  {
   "cell_type": "markdown",
   "id": "b7fdcd0b",
   "metadata": {},
   "source": [
    "Observam ca graficul arata similar cu graficul prezentat mai sus."
   ]
  },
  {
   "cell_type": "code",
   "execution_count": 19,
   "id": "2ece5e69",
   "metadata": {
    "ExecuteTime": {
     "end_time": "2021-05-26T10:41:06.364780Z",
     "start_time": "2021-05-26T10:41:06.351072Z"
    }
   },
   "outputs": [
    {
     "data": {
      "text/plain": [
       "count    5572.000000\n",
       "mean       80.489950\n",
       "std        59.942907\n",
       "min         2.000000\n",
       "25%        36.000000\n",
       "50%        62.000000\n",
       "75%       122.000000\n",
       "max       910.000000\n",
       "Name: Length, dtype: float64"
      ]
     },
     "execution_count": 19,
     "metadata": {},
     "output_type": "execute_result"
    }
   ],
   "source": [
    "data.Length.describe()"
   ]
  },
  {
   "cell_type": "code",
   "execution_count": 20,
   "id": "b359cce3",
   "metadata": {
    "ExecuteTime": {
     "end_time": "2021-05-26T10:41:06.380736Z",
     "start_time": "2021-05-26T10:41:06.366775Z"
    }
   },
   "outputs": [
    {
     "data": {
      "text/plain": [
       "count    5572.000000\n",
       "mean       15.597452\n",
       "std        11.404053\n",
       "min         1.000000\n",
       "25%         7.000000\n",
       "50%        12.000000\n",
       "75%        23.000000\n",
       "max       171.000000\n",
       "Name: Word_Count, dtype: float64"
      ]
     },
     "execution_count": 20,
     "metadata": {},
     "output_type": "execute_result"
    }
   ],
   "source": [
    "data.Word_Count.describe()"
   ]
  },
  {
   "cell_type": "code",
   "execution_count": 21,
   "id": "b44621d6",
   "metadata": {
    "ExecuteTime": {
     "end_time": "2021-05-26T10:41:06.523386Z",
     "start_time": "2021-05-26T10:41:06.381733Z"
    }
   },
   "outputs": [
    {
     "data": {
      "image/png": "[encoded data removed]",
      "text/plain": [
       "<Figure size 432x288 with 1 Axes>"
      ]
     },
     "metadata": {},
     "output_type": "display_data"
    }
   ],
   "source": [
    "sns.scatterplot(x='Word_Count', y='Length', data=data);"
   ]
  },
  {
   "cell_type": "markdown",
   "id": "6afd1529",
   "metadata": {},
   "source": [
    "Observam ca numarul de caractere este similar cu numarul de cuvinte din mesaje cu o relatie aproape liniara.\n",
    "\n",
    "Pentru a evita probleme de coliniaritate, este mai bine daca folosim doar una din cele 2 trasaturi. In consecinta, vom sterge coloana 'Word_Count' din dataframe."
   ]
  },
  {
   "cell_type": "code",
   "execution_count": 22,
   "id": "af0419d2",
   "metadata": {
    "ExecuteTime": {
     "end_time": "2021-05-26T10:41:06.539312Z",
     "start_time": "2021-05-26T10:41:06.524352Z"
    }
   },
   "outputs": [
    {
     "data": {
      "text/html": [
       "<div>\n",
       "<style scoped>\n",
       "    .dataframe tbody tr th:only-of-type {\n",
       "        vertical-align: middle;\n",
       "    }\n",
       "\n",
       "    .dataframe tbody tr th {\n",
       "        vertical-align: top;\n",
       "    }\n",
       "\n",
       "    .dataframe thead th {\n",
       "        text-align: right;\n",
       "    }\n",
       "</style>\n",
       "<table border=\"1\" class=\"dataframe\">\n",
       "  <thead>\n",
       "    <tr style=\"text-align: right;\">\n",
       "      <th></th>\n",
       "      <th>Class</th>\n",
       "      <th>Message</th>\n",
       "      <th>IsSpam</th>\n",
       "      <th>Length</th>\n",
       "    </tr>\n",
       "  </thead>\n",
       "  <tbody>\n",
       "    <tr>\n",
       "      <th>0</th>\n",
       "      <td>ham</td>\n",
       "      <td>go until jurong point, crazy.. available only ...</td>\n",
       "      <td>0</td>\n",
       "      <td>111</td>\n",
       "    </tr>\n",
       "    <tr>\n",
       "      <th>1</th>\n",
       "      <td>ham</td>\n",
       "      <td>ok lar... joking wif u oni...</td>\n",
       "      <td>0</td>\n",
       "      <td>29</td>\n",
       "    </tr>\n",
       "    <tr>\n",
       "      <th>2</th>\n",
       "      <td>spam</td>\n",
       "      <td>free entry in 2 a wkly comp to win fa cup fina...</td>\n",
       "      <td>1</td>\n",
       "      <td>155</td>\n",
       "    </tr>\n",
       "    <tr>\n",
       "      <th>3</th>\n",
       "      <td>ham</td>\n",
       "      <td>u dun say so early hor... u c already then say...</td>\n",
       "      <td>0</td>\n",
       "      <td>49</td>\n",
       "    </tr>\n",
       "    <tr>\n",
       "      <th>4</th>\n",
       "      <td>ham</td>\n",
       "      <td>nah i don't think he goes to usf, he lives aro...</td>\n",
       "      <td>0</td>\n",
       "      <td>61</td>\n",
       "    </tr>\n",
       "    <tr>\n",
       "      <th>...</th>\n",
       "      <td>...</td>\n",
       "      <td>...</td>\n",
       "      <td>...</td>\n",
       "      <td>...</td>\n",
       "    </tr>\n",
       "    <tr>\n",
       "      <th>5567</th>\n",
       "      <td>spam</td>\n",
       "      <td>this is the 2nd time we have tried 2 contact u...</td>\n",
       "      <td>1</td>\n",
       "      <td>160</td>\n",
       "    </tr>\n",
       "    <tr>\n",
       "      <th>5568</th>\n",
       "      <td>ham</td>\n",
       "      <td>will ü b going to esplanade fr home?</td>\n",
       "      <td>0</td>\n",
       "      <td>36</td>\n",
       "    </tr>\n",
       "    <tr>\n",
       "      <th>5569</th>\n",
       "      <td>ham</td>\n",
       "      <td>pity, * was in mood for that. so...any other s...</td>\n",
       "      <td>0</td>\n",
       "      <td>57</td>\n",
       "    </tr>\n",
       "    <tr>\n",
       "      <th>5570</th>\n",
       "      <td>ham</td>\n",
       "      <td>the guy did some bitching but i acted like i'd...</td>\n",
       "      <td>0</td>\n",
       "      <td>125</td>\n",
       "    </tr>\n",
       "    <tr>\n",
       "      <th>5571</th>\n",
       "      <td>ham</td>\n",
       "      <td>rofl. its true to its name</td>\n",
       "      <td>0</td>\n",
       "      <td>26</td>\n",
       "    </tr>\n",
       "  </tbody>\n",
       "</table>\n",
       "<p>5572 rows × 4 columns</p>\n",
       "</div>"
      ],
      "text/plain": [
       "     Class                                            Message  IsSpam  Length\n",
       "0      ham  go until jurong point, crazy.. available only ...       0     111\n",
       "1      ham                      ok lar... joking wif u oni...       0      29\n",
       "2     spam  free entry in 2 a wkly comp to win fa cup fina...       1     155\n",
       "3      ham  u dun say so early hor... u c already then say...       0      49\n",
       "4      ham  nah i don't think he goes to usf, he lives aro...       0      61\n",
       "...    ...                                                ...     ...     ...\n",
       "5567  spam  this is the 2nd time we have tried 2 contact u...       1     160\n",
       "5568   ham               will ü b going to esplanade fr home?       0      36\n",
       "5569   ham  pity, * was in mood for that. so...any other s...       0      57\n",
       "5570   ham  the guy did some bitching but i acted like i'd...       0     125\n",
       "5571   ham                         rofl. its true to its name       0      26\n",
       "\n",
       "[5572 rows x 4 columns]"
      ]
     },
     "execution_count": 22,
     "metadata": {},
     "output_type": "execute_result"
    }
   ],
   "source": [
    "data = data.drop('Word_Count', axis = 1).reset_index(drop=True)\n",
    "data"
   ]
  },
  {
   "cell_type": "markdown",
   "id": "131be185",
   "metadata": {},
   "source": [
    "Vom vedea acum care sunt cuvintele care apar cel mai des in functie de tipul de mesaj."
   ]
  },
  {
   "cell_type": "code",
   "execution_count": 23,
   "id": "4f429548",
   "metadata": {
    "ExecuteTime": {
     "end_time": "2021-05-26T10:41:23.394922Z",
     "start_time": "2021-05-26T10:41:06.543325Z"
    }
   },
   "outputs": [],
   "source": [
    "spam_dictionary = {}\n",
    "ham_dictionary = {}\n",
    "\n",
    "def word_count(word, dictionary):\n",
    "    #cuvinte care vor fi sterse\n",
    "    remove_words = list(stopwords.words('english')) + ['u', 'ur', '2', '4', 'ü']\n",
    "    \n",
    "    #stergerea semnelor de punctuatie\n",
    "    no_punct = []\n",
    "    for char in word:\n",
    "        if char not in string.punctuation:\n",
    "            no_punct.append(char)\n",
    "    punctless = ''.join(no_punct)\n",
    "    \n",
    "    #stergerea stopword-urilor\n",
    "    if punctless not in remove_words and punctless != '':\n",
    "        if punctless in dictionary:\n",
    "            dictionary[punctless] += 1\n",
    "        else:\n",
    "            dictionary[punctless] = 1\n",
    "\n",
    "ham_list = ' '.join(data[data['IsSpam'] == 0]['Message'].tolist()).split()\n",
    "spam_list = ' '.join(data[data['IsSpam'] == 1]['Message'].tolist()).split()\n",
    "\n",
    "for text in ham_list:\n",
    "    word_count(text, ham_dictionary)\n",
    "\n",
    "for text in spam_list:\n",
    "    word_count(text, spam_dictionary)"
   ]
  },
  {
   "cell_type": "markdown",
   "id": "f1ea705b",
   "metadata": {},
   "source": [
    "Vom creea DataFrame-uri pentru numarul de cuvinte si vom selecta cele mai frecvente 10 cuvinte"
   ]
  },
  {
   "cell_type": "code",
   "execution_count": 24,
   "id": "dd3ef2a8",
   "metadata": {
    "ExecuteTime": {
     "end_time": "2021-05-26T10:41:23.411015Z",
     "start_time": "2021-05-26T10:41:23.396568Z"
    }
   },
   "outputs": [],
   "source": [
    "spam_count = pd.DataFrame(list(spam_dictionary.items()), columns = ['word', 'count']).sort_values(by = 'count', ascending = False).iloc[:10]\n",
    "ham_count = pd.DataFrame(list(ham_dictionary.items()), columns = ['word', 'count']).sort_values(by = 'count', ascending = False).iloc[:10]"
   ]
  },
  {
   "cell_type": "markdown",
   "id": "5e202b7f",
   "metadata": {},
   "source": [
    "Cele mai frecvente cuvinte din SMS-urile `legitime`:"
   ]
  },
  {
   "cell_type": "code",
   "execution_count": 25,
   "id": "fa4cc8a7",
   "metadata": {
    "ExecuteTime": {
     "end_time": "2021-05-26T10:41:23.426484Z",
     "start_time": "2021-05-26T10:41:23.412575Z"
    }
   },
   "outputs": [
    {
     "data": {
      "text/html": [
       "<div>\n",
       "<style scoped>\n",
       "    .dataframe tbody tr th:only-of-type {\n",
       "        vertical-align: middle;\n",
       "    }\n",
       "\n",
       "    .dataframe tbody tr th {\n",
       "        vertical-align: top;\n",
       "    }\n",
       "\n",
       "    .dataframe thead th {\n",
       "        text-align: right;\n",
       "    }\n",
       "</style>\n",
       "<table border=\"1\" class=\"dataframe\">\n",
       "  <thead>\n",
       "    <tr style=\"text-align: right;\">\n",
       "      <th></th>\n",
       "      <th>word</th>\n",
       "    </tr>\n",
       "  </thead>\n",
       "  <tbody>\n",
       "    <tr>\n",
       "      <th>0</th>\n",
       "      <td>im</td>\n",
       "    </tr>\n",
       "    <tr>\n",
       "      <th>1</th>\n",
       "      <td>get</td>\n",
       "    </tr>\n",
       "    <tr>\n",
       "      <th>2</th>\n",
       "      <td>ltgt</td>\n",
       "    </tr>\n",
       "    <tr>\n",
       "      <th>3</th>\n",
       "      <td>ok</td>\n",
       "    </tr>\n",
       "    <tr>\n",
       "      <th>4</th>\n",
       "      <td>dont</td>\n",
       "    </tr>\n",
       "    <tr>\n",
       "      <th>5</th>\n",
       "      <td>go</td>\n",
       "    </tr>\n",
       "    <tr>\n",
       "      <th>6</th>\n",
       "      <td>ill</td>\n",
       "    </tr>\n",
       "    <tr>\n",
       "      <th>7</th>\n",
       "      <td>got</td>\n",
       "    </tr>\n",
       "    <tr>\n",
       "      <th>8</th>\n",
       "      <td>know</td>\n",
       "    </tr>\n",
       "    <tr>\n",
       "      <th>9</th>\n",
       "      <td>call</td>\n",
       "    </tr>\n",
       "  </tbody>\n",
       "</table>\n",
       "</div>"
      ],
      "text/plain": [
       "   word\n",
       "0    im\n",
       "1   get\n",
       "2  ltgt\n",
       "3    ok\n",
       "4  dont\n",
       "5    go\n",
       "6   ill\n",
       "7   got\n",
       "8  know\n",
       "9  call"
      ]
     },
     "execution_count": 25,
     "metadata": {},
     "output_type": "execute_result"
    }
   ],
   "source": [
    "ham_count[['word']].reset_index(drop=True)"
   ]
  },
  {
   "cell_type": "markdown",
   "id": "e1137b8b",
   "metadata": {},
   "source": [
    "Cele mai frecvente cuvinte din SMS-urile de tip spam:"
   ]
  },
  {
   "cell_type": "code",
   "execution_count": 26,
   "id": "b93743b8",
   "metadata": {
    "ExecuteTime": {
     "end_time": "2021-05-26T10:41:23.441468Z",
     "start_time": "2021-05-26T10:41:23.428479Z"
    }
   },
   "outputs": [
    {
     "data": {
      "text/html": [
       "<div>\n",
       "<style scoped>\n",
       "    .dataframe tbody tr th:only-of-type {\n",
       "        vertical-align: middle;\n",
       "    }\n",
       "\n",
       "    .dataframe tbody tr th {\n",
       "        vertical-align: top;\n",
       "    }\n",
       "\n",
       "    .dataframe thead th {\n",
       "        text-align: right;\n",
       "    }\n",
       "</style>\n",
       "<table border=\"1\" class=\"dataframe\">\n",
       "  <thead>\n",
       "    <tr style=\"text-align: right;\">\n",
       "      <th></th>\n",
       "      <th>word</th>\n",
       "    </tr>\n",
       "  </thead>\n",
       "  <tbody>\n",
       "    <tr>\n",
       "      <th>0</th>\n",
       "      <td>call</td>\n",
       "    </tr>\n",
       "    <tr>\n",
       "      <th>1</th>\n",
       "      <td>free</td>\n",
       "    </tr>\n",
       "    <tr>\n",
       "      <th>2</th>\n",
       "      <td>txt</td>\n",
       "    </tr>\n",
       "    <tr>\n",
       "      <th>3</th>\n",
       "      <td>mobile</td>\n",
       "    </tr>\n",
       "    <tr>\n",
       "      <th>4</th>\n",
       "      <td>text</td>\n",
       "    </tr>\n",
       "    <tr>\n",
       "      <th>5</th>\n",
       "      <td>stop</td>\n",
       "    </tr>\n",
       "    <tr>\n",
       "      <th>6</th>\n",
       "      <td>claim</td>\n",
       "    </tr>\n",
       "    <tr>\n",
       "      <th>7</th>\n",
       "      <td>reply</td>\n",
       "    </tr>\n",
       "    <tr>\n",
       "      <th>8</th>\n",
       "      <td>prize</td>\n",
       "    </tr>\n",
       "    <tr>\n",
       "      <th>9</th>\n",
       "      <td>get</td>\n",
       "    </tr>\n",
       "  </tbody>\n",
       "</table>\n",
       "</div>"
      ],
      "text/plain": [
       "     word\n",
       "0    call\n",
       "1    free\n",
       "2     txt\n",
       "3  mobile\n",
       "4    text\n",
       "5    stop\n",
       "6   claim\n",
       "7   reply\n",
       "8   prize\n",
       "9     get"
      ]
     },
     "execution_count": 26,
     "metadata": {},
     "output_type": "execute_result"
    }
   ],
   "source": [
    "spam_count[['word']].reset_index(drop=True)"
   ]
  },
  {
   "cell_type": "markdown",
   "id": "c6aae0fd",
   "metadata": {},
   "source": [
    "**Observatie** Desi am calculat numarul de aparitii al fiecarui cuvant, acestea nu pot fi utilizate pentru comparatie, deoarece este o diferenta intre numarul de mesaje de tip spam si numarul de mesaje legitime din setul de date. Sunt mult mai multe mesaje legitime decat mesaje de tip spam."
   ]
  },
  {
   "cell_type": "markdown",
   "id": "1c146105",
   "metadata": {},
   "source": [
    "### Curatarea setului de date"
   ]
  },
  {
   "cell_type": "markdown",
   "id": "9697c5c5",
   "metadata": {},
   "source": [
    "Inainte de vectorizarea datelor, este bine sa facem anumite operatii pe aceste date."
   ]
  },
  {
   "cell_type": "code",
   "execution_count": 27,
   "id": "143413c9",
   "metadata": {
    "ExecuteTime": {
     "end_time": "2021-05-26T10:41:24.756194Z",
     "start_time": "2021-05-26T10:41:23.443438Z"
    }
   },
   "outputs": [],
   "source": [
    "def text_cleaning(word):\n",
    "    #cuvinte care vor fi sterse\n",
    "    remove_words = list(stopwords.words('english')) + ['u', 'ur', '2', '4', 'ü']\n",
    "    \n",
    "    #stergerea semnelor de punctuatie\n",
    "    no_punct = []\n",
    "    for char in word:\n",
    "        if char not in string.punctuation:\n",
    "            no_punct.append(char)\n",
    "    punctless = ''.join(no_punct)\n",
    "    \n",
    "    #returnam mesajul curat\n",
    "    return ' '.join([text for text in punctless.split() if text not in remove_words])\n",
    "\n",
    "data['Cleaned_Message'] = data['Message'].apply(text_cleaning)"
   ]
  },
  {
   "cell_type": "code",
   "execution_count": 28,
   "id": "95be886c",
   "metadata": {
    "ExecuteTime": {
     "end_time": "2021-05-26T10:41:24.771751Z",
     "start_time": "2021-05-26T10:41:24.757194Z"
    }
   },
   "outputs": [
    {
     "data": {
      "text/html": [
       "<div>\n",
       "<style scoped>\n",
       "    .dataframe tbody tr th:only-of-type {\n",
       "        vertical-align: middle;\n",
       "    }\n",
       "\n",
       "    .dataframe tbody tr th {\n",
       "        vertical-align: top;\n",
       "    }\n",
       "\n",
       "    .dataframe thead th {\n",
       "        text-align: right;\n",
       "    }\n",
       "</style>\n",
       "<table border=\"1\" class=\"dataframe\">\n",
       "  <thead>\n",
       "    <tr style=\"text-align: right;\">\n",
       "      <th></th>\n",
       "      <th>Class</th>\n",
       "      <th>Message</th>\n",
       "      <th>IsSpam</th>\n",
       "      <th>Length</th>\n",
       "      <th>Cleaned_Message</th>\n",
       "    </tr>\n",
       "  </thead>\n",
       "  <tbody>\n",
       "    <tr>\n",
       "      <th>0</th>\n",
       "      <td>ham</td>\n",
       "      <td>go until jurong point, crazy.. available only ...</td>\n",
       "      <td>0</td>\n",
       "      <td>111</td>\n",
       "      <td>go jurong point crazy available bugis n great ...</td>\n",
       "    </tr>\n",
       "    <tr>\n",
       "      <th>1</th>\n",
       "      <td>ham</td>\n",
       "      <td>ok lar... joking wif u oni...</td>\n",
       "      <td>0</td>\n",
       "      <td>29</td>\n",
       "      <td>ok lar joking wif oni</td>\n",
       "    </tr>\n",
       "    <tr>\n",
       "      <th>2</th>\n",
       "      <td>spam</td>\n",
       "      <td>free entry in 2 a wkly comp to win fa cup fina...</td>\n",
       "      <td>1</td>\n",
       "      <td>155</td>\n",
       "      <td>free entry wkly comp win fa cup final tkts 21s...</td>\n",
       "    </tr>\n",
       "    <tr>\n",
       "      <th>3</th>\n",
       "      <td>ham</td>\n",
       "      <td>u dun say so early hor... u c already then say...</td>\n",
       "      <td>0</td>\n",
       "      <td>49</td>\n",
       "      <td>dun say early hor c already say</td>\n",
       "    </tr>\n",
       "    <tr>\n",
       "      <th>4</th>\n",
       "      <td>ham</td>\n",
       "      <td>nah i don't think he goes to usf, he lives aro...</td>\n",
       "      <td>0</td>\n",
       "      <td>61</td>\n",
       "      <td>nah dont think goes usf lives around though</td>\n",
       "    </tr>\n",
       "  </tbody>\n",
       "</table>\n",
       "</div>"
      ],
      "text/plain": [
       "  Class                                            Message  IsSpam  Length  \\\n",
       "0   ham  go until jurong point, crazy.. available only ...       0     111   \n",
       "1   ham                      ok lar... joking wif u oni...       0      29   \n",
       "2  spam  free entry in 2 a wkly comp to win fa cup fina...       1     155   \n",
       "3   ham  u dun say so early hor... u c already then say...       0      49   \n",
       "4   ham  nah i don't think he goes to usf, he lives aro...       0      61   \n",
       "\n",
       "                                     Cleaned_Message  \n",
       "0  go jurong point crazy available bugis n great ...  \n",
       "1                              ok lar joking wif oni  \n",
       "2  free entry wkly comp win fa cup final tkts 21s...  \n",
       "3                    dun say early hor c already say  \n",
       "4        nah dont think goes usf lives around though  "
      ]
     },
     "execution_count": 28,
     "metadata": {},
     "output_type": "execute_result"
    }
   ],
   "source": [
    "data.head()"
   ]
  },
  {
   "cell_type": "markdown",
   "id": "ca94a1d5",
   "metadata": {},
   "source": [
    "Inlocuim mesajele initiale cu mesajele curatate"
   ]
  },
  {
   "cell_type": "code",
   "execution_count": 29,
   "id": "9a0c8401",
   "metadata": {
    "ExecuteTime": {
     "end_time": "2021-05-26T10:41:24.787625Z",
     "start_time": "2021-05-26T10:41:24.773663Z"
    }
   },
   "outputs": [
    {
     "data": {
      "text/html": [
       "<div>\n",
       "<style scoped>\n",
       "    .dataframe tbody tr th:only-of-type {\n",
       "        vertical-align: middle;\n",
       "    }\n",
       "\n",
       "    .dataframe tbody tr th {\n",
       "        vertical-align: top;\n",
       "    }\n",
       "\n",
       "    .dataframe thead th {\n",
       "        text-align: right;\n",
       "    }\n",
       "</style>\n",
       "<table border=\"1\" class=\"dataframe\">\n",
       "  <thead>\n",
       "    <tr style=\"text-align: right;\">\n",
       "      <th></th>\n",
       "      <th>Class</th>\n",
       "      <th>Message</th>\n",
       "      <th>IsSpam</th>\n",
       "      <th>Length</th>\n",
       "    </tr>\n",
       "  </thead>\n",
       "  <tbody>\n",
       "    <tr>\n",
       "      <th>0</th>\n",
       "      <td>ham</td>\n",
       "      <td>go jurong point crazy available bugis n great ...</td>\n",
       "      <td>0</td>\n",
       "      <td>111</td>\n",
       "    </tr>\n",
       "    <tr>\n",
       "      <th>1</th>\n",
       "      <td>ham</td>\n",
       "      <td>ok lar joking wif oni</td>\n",
       "      <td>0</td>\n",
       "      <td>29</td>\n",
       "    </tr>\n",
       "    <tr>\n",
       "      <th>2</th>\n",
       "      <td>spam</td>\n",
       "      <td>free entry wkly comp win fa cup final tkts 21s...</td>\n",
       "      <td>1</td>\n",
       "      <td>155</td>\n",
       "    </tr>\n",
       "    <tr>\n",
       "      <th>3</th>\n",
       "      <td>ham</td>\n",
       "      <td>dun say early hor c already say</td>\n",
       "      <td>0</td>\n",
       "      <td>49</td>\n",
       "    </tr>\n",
       "    <tr>\n",
       "      <th>4</th>\n",
       "      <td>ham</td>\n",
       "      <td>nah dont think goes usf lives around though</td>\n",
       "      <td>0</td>\n",
       "      <td>61</td>\n",
       "    </tr>\n",
       "  </tbody>\n",
       "</table>\n",
       "</div>"
      ],
      "text/plain": [
       "  Class                                            Message  IsSpam  Length\n",
       "0   ham  go jurong point crazy available bugis n great ...       0     111\n",
       "1   ham                              ok lar joking wif oni       0      29\n",
       "2  spam  free entry wkly comp win fa cup final tkts 21s...       1     155\n",
       "3   ham                    dun say early hor c already say       0      49\n",
       "4   ham        nah dont think goes usf lives around though       0      61"
      ]
     },
     "execution_count": 29,
     "metadata": {},
     "output_type": "execute_result"
    }
   ],
   "source": [
    "data['Message'] = data['Cleaned_Message']\n",
    "data = data.drop(columns = {'Cleaned_Message'})\n",
    "data.head()"
   ]
  },
  {
   "cell_type": "markdown",
   "id": "a7942d26",
   "metadata": {},
   "source": [
    "### Bag of Words"
   ]
  },
  {
   "cell_type": "markdown",
   "id": "a7df980e",
   "metadata": {},
   "source": [
    "Impartim setul de date in set de antrenare si de testare"
   ]
  },
  {
   "cell_type": "code",
   "execution_count": 30,
   "id": "4546ce63",
   "metadata": {
    "ExecuteTime": {
     "end_time": "2021-05-26T10:41:24.818575Z",
     "start_time": "2021-05-26T10:41:24.789620Z"
    }
   },
   "outputs": [
    {
     "data": {
      "text/html": [
       "<div>\n",
       "<style scoped>\n",
       "    .dataframe tbody tr th:only-of-type {\n",
       "        vertical-align: middle;\n",
       "    }\n",
       "\n",
       "    .dataframe tbody tr th {\n",
       "        vertical-align: top;\n",
       "    }\n",
       "\n",
       "    .dataframe thead th {\n",
       "        text-align: right;\n",
       "    }\n",
       "</style>\n",
       "<table border=\"1\" class=\"dataframe\">\n",
       "  <thead>\n",
       "    <tr style=\"text-align: right;\">\n",
       "      <th></th>\n",
       "      <th>Class</th>\n",
       "      <th>Message</th>\n",
       "      <th>Length</th>\n",
       "    </tr>\n",
       "  </thead>\n",
       "  <tbody>\n",
       "    <tr>\n",
       "      <th>0</th>\n",
       "      <td>spam</td>\n",
       "      <td>500 new mobiles 2004 must go txt nokia 89545 c...</td>\n",
       "      <td>142</td>\n",
       "    </tr>\n",
       "    <tr>\n",
       "      <th>1</th>\n",
       "      <td>ham</td>\n",
       "      <td>ok msg b4 leave house</td>\n",
       "      <td>31</td>\n",
       "    </tr>\n",
       "    <tr>\n",
       "      <th>2</th>\n",
       "      <td>ham</td>\n",
       "      <td>lets go bill millers</td>\n",
       "      <td>30</td>\n",
       "    </tr>\n",
       "    <tr>\n",
       "      <th>3</th>\n",
       "      <td>ham</td>\n",
       "      <td>dont want hear anything</td>\n",
       "      <td>28</td>\n",
       "    </tr>\n",
       "    <tr>\n",
       "      <th>4</th>\n",
       "      <td>ham</td>\n",
       "      <td>dont file bagi work called mei tell find anyth...</td>\n",
       "      <td>118</td>\n",
       "    </tr>\n",
       "    <tr>\n",
       "      <th>...</th>\n",
       "      <td>...</td>\n",
       "      <td>...</td>\n",
       "      <td>...</td>\n",
       "    </tr>\n",
       "    <tr>\n",
       "      <th>3728</th>\n",
       "      <td>ham</td>\n",
       "      <td>day class class</td>\n",
       "      <td>35</td>\n",
       "    </tr>\n",
       "    <tr>\n",
       "      <th>3729</th>\n",
       "      <td>ham</td>\n",
       "      <td>time thinkin goin</td>\n",
       "      <td>30</td>\n",
       "    </tr>\n",
       "    <tr>\n",
       "      <th>3730</th>\n",
       "      <td>ham</td>\n",
       "      <td>crazy ar hes married like gd looking guys fren...</td>\n",
       "      <td>159</td>\n",
       "    </tr>\n",
       "    <tr>\n",
       "      <th>3731</th>\n",
       "      <td>ham</td>\n",
       "      <td>finally came fix ceiling</td>\n",
       "      <td>37</td>\n",
       "    </tr>\n",
       "    <tr>\n",
       "      <th>3732</th>\n",
       "      <td>ham</td>\n",
       "      <td>happy new year</td>\n",
       "      <td>24</td>\n",
       "    </tr>\n",
       "  </tbody>\n",
       "</table>\n",
       "<p>3733 rows × 3 columns</p>\n",
       "</div>"
      ],
      "text/plain": [
       "     Class                                            Message  Length\n",
       "0     spam  500 new mobiles 2004 must go txt nokia 89545 c...     142\n",
       "1      ham                              ok msg b4 leave house      31\n",
       "2      ham                               lets go bill millers      30\n",
       "3      ham                            dont want hear anything      28\n",
       "4      ham  dont file bagi work called mei tell find anyth...     118\n",
       "...    ...                                                ...     ...\n",
       "3728   ham                                    day class class      35\n",
       "3729   ham                                  time thinkin goin      30\n",
       "3730   ham  crazy ar hes married like gd looking guys fren...     159\n",
       "3731   ham                           finally came fix ceiling      37\n",
       "3732   ham                                     happy new year      24\n",
       "\n",
       "[3733 rows x 3 columns]"
      ]
     },
     "execution_count": 30,
     "metadata": {},
     "output_type": "execute_result"
    }
   ],
   "source": [
    "X_data = data.drop(columns = ['IsSpam'])\n",
    "y_data = data['IsSpam']\n",
    "\n",
    "X_train, X_test, y_train, y_test = train_test_split(X_data, y_data, test_size=0.33, random_state=10)\n",
    "\n",
    "X_train.reset_index(drop=True, inplace=True)\n",
    "X_test.reset_index(drop=True, inplace=True)\n",
    "y_train.reset_index(drop=True, inplace=True)\n",
    "y_test.reset_index(drop=True, inplace=True)\n",
    "\n",
    "X_train"
   ]
  },
  {
   "cell_type": "code",
   "execution_count": 31,
   "id": "0cfaf8f6",
   "metadata": {
    "ExecuteTime": {
     "end_time": "2021-05-26T10:41:24.834535Z",
     "start_time": "2021-05-26T10:41:24.819540Z"
    }
   },
   "outputs": [],
   "source": [
    "vectorizer = CountVectorizer()"
   ]
  },
  {
   "cell_type": "markdown",
   "id": "8579f867",
   "metadata": {},
   "source": [
    "Vom crea un vocabular"
   ]
  },
  {
   "cell_type": "code",
   "execution_count": 32,
   "id": "01f98b87",
   "metadata": {
    "ExecuteTime": {
     "end_time": "2021-05-26T10:41:24.897355Z",
     "start_time": "2021-05-26T10:41:24.835497Z"
    }
   },
   "outputs": [
    {
     "data": {
      "text/plain": [
       "7483"
      ]
     },
     "execution_count": 32,
     "metadata": {},
     "output_type": "execute_result"
    }
   ],
   "source": [
    "document_matrix = vectorizer.fit(X_train['Message'])\n",
    "len(document_matrix.vocabulary_)"
   ]
  },
  {
   "cell_type": "markdown",
   "id": "3e2d1723",
   "metadata": {},
   "source": [
    "Testam CountVectorizer() pentru unul dintre SMS-uri"
   ]
  },
  {
   "cell_type": "code",
   "execution_count": 33,
   "id": "462d3eac",
   "metadata": {
    "ExecuteTime": {
     "end_time": "2021-05-26T10:41:24.912292Z",
     "start_time": "2021-05-26T10:41:24.898330Z"
    }
   },
   "outputs": [
    {
     "name": "stdout",
     "output_type": "stream",
     "text": [
      "  (0, 1462)\t1\n",
      "  (0, 1984)\t1\n",
      "  (0, 6228)\t1\n",
      "  (0, 6504)\t1\n",
      "  (0, 7106)\t1\n",
      "  (0, 7278)\t1\n"
     ]
    },
    {
     "data": {
      "text/plain": [
       "(1, 7483)"
      ]
     },
     "execution_count": 33,
     "metadata": {},
     "output_type": "execute_result"
    }
   ],
   "source": [
    "train_bow = vectorizer.transform([X_train['Message'][12]])\n",
    "print(train_bow)\n",
    "train_bow.shape"
   ]
  },
  {
   "cell_type": "markdown",
   "id": "6cdada98",
   "metadata": {},
   "source": [
    "Folosind `transform`, modelul nostru poate returna o matrice care numara aparitiile fiecarui cuvant. \n",
    "\n",
    "Se pare ca in mesajul nostru apar doar 6 cuvinte din totalul de 7483.\n",
    "\n",
    "Verificam ce cuvant corespunde numarului 6504:"
   ]
  },
  {
   "cell_type": "code",
   "execution_count": 34,
   "id": "2210be98",
   "metadata": {
    "ExecuteTime": {
     "end_time": "2021-05-26T10:41:24.927251Z",
     "start_time": "2021-05-26T10:41:24.913289Z"
    }
   },
   "outputs": [
    {
     "name": "stdout",
     "output_type": "stream",
     "text": [
      "text\n"
     ]
    }
   ],
   "source": [
    "print(vectorizer.get_feature_names()[6504])"
   ]
  },
  {
   "cell_type": "markdown",
   "id": "3fa8f13a",
   "metadata": {},
   "source": [
    "Verificam si daca mesajul contine cuvantul de mai sus:"
   ]
  },
  {
   "cell_type": "code",
   "execution_count": 35,
   "id": "6e230b9c",
   "metadata": {
    "ExecuteTime": {
     "end_time": "2021-05-26T10:41:24.942212Z",
     "start_time": "2021-05-26T10:41:24.928249Z"
    }
   },
   "outputs": [
    {
     "data": {
      "text/plain": [
       "'text way cup stop work bus'"
      ]
     },
     "execution_count": 35,
     "metadata": {},
     "output_type": "execute_result"
    }
   ],
   "source": [
    "X_train['Message'][12]"
   ]
  },
  {
   "cell_type": "markdown",
   "id": "b7bae0b7",
   "metadata": {},
   "source": [
    "Aplicam `CountVectorizer()` pe tot setul de date"
   ]
  },
  {
   "cell_type": "code",
   "execution_count": 36,
   "id": "042f3608",
   "metadata": {
    "ExecuteTime": {
     "end_time": "2021-05-26T10:41:24.989085Z",
     "start_time": "2021-05-26T10:41:24.943209Z"
    }
   },
   "outputs": [],
   "source": [
    "train_count = vectorizer.transform(X_train['Message'])"
   ]
  },
  {
   "cell_type": "code",
   "execution_count": 37,
   "id": "ac02b839",
   "metadata": {
    "ExecuteTime": {
     "end_time": "2021-05-26T10:41:25.004045Z",
     "start_time": "2021-05-26T10:41:24.990082Z"
    }
   },
   "outputs": [
    {
     "name": "stdout",
     "output_type": "stream",
     "text": [
      "Shape of matrix: (3733, 7483)\n",
      "Amount of Non-Zero occurences: 31638\n"
     ]
    }
   ],
   "source": [
    "print(f'Shape of matrix: {train_count.shape}')\n",
    "print(f'Amount of Non-Zero occurences: {train_count.nnz}')"
   ]
  },
  {
   "cell_type": "markdown",
   "id": "3487815e",
   "metadata": {},
   "source": [
    "Returnam matricea Hot-one-encoded"
   ]
  },
  {
   "cell_type": "code",
   "execution_count": 38,
   "id": "f35d4034",
   "metadata": {
    "ExecuteTime": {
     "end_time": "2021-05-26T10:41:25.065880Z",
     "start_time": "2021-05-26T10:41:25.005043Z"
    }
   },
   "outputs": [
    {
     "data": {
      "text/html": [
       "<div>\n",
       "<style scoped>\n",
       "    .dataframe tbody tr th:only-of-type {\n",
       "        vertical-align: middle;\n",
       "    }\n",
       "\n",
       "    .dataframe tbody tr th {\n",
       "        vertical-align: top;\n",
       "    }\n",
       "\n",
       "    .dataframe thead th {\n",
       "        text-align: right;\n",
       "    }\n",
       "</style>\n",
       "<table border=\"1\" class=\"dataframe\">\n",
       "  <thead>\n",
       "    <tr style=\"text-align: right;\">\n",
       "      <th></th>\n",
       "      <th>008704050406</th>\n",
       "      <th>0089my</th>\n",
       "      <th>0121</th>\n",
       "      <th>01223585334</th>\n",
       "      <th>020603</th>\n",
       "      <th>0207</th>\n",
       "      <th>02070836089</th>\n",
       "      <th>02085076972</th>\n",
       "      <th>020903</th>\n",
       "      <th>021</th>\n",
       "      <th>...</th>\n",
       "      <th>yupz</th>\n",
       "      <th>ywhere</th>\n",
       "      <th>zac</th>\n",
       "      <th>zahers</th>\n",
       "      <th>zealand</th>\n",
       "      <th>zed</th>\n",
       "      <th>zoe</th>\n",
       "      <th>zogtorius</th>\n",
       "      <th>üll</th>\n",
       "      <th>〨ud</th>\n",
       "    </tr>\n",
       "  </thead>\n",
       "  <tbody>\n",
       "    <tr>\n",
       "      <th>0</th>\n",
       "      <td>0</td>\n",
       "      <td>0</td>\n",
       "      <td>0</td>\n",
       "      <td>0</td>\n",
       "      <td>0</td>\n",
       "      <td>0</td>\n",
       "      <td>0</td>\n",
       "      <td>0</td>\n",
       "      <td>0</td>\n",
       "      <td>0</td>\n",
       "      <td>...</td>\n",
       "      <td>0</td>\n",
       "      <td>0</td>\n",
       "      <td>0</td>\n",
       "      <td>0</td>\n",
       "      <td>0</td>\n",
       "      <td>0</td>\n",
       "      <td>0</td>\n",
       "      <td>0</td>\n",
       "      <td>0</td>\n",
       "      <td>0</td>\n",
       "    </tr>\n",
       "    <tr>\n",
       "      <th>1</th>\n",
       "      <td>0</td>\n",
       "      <td>0</td>\n",
       "      <td>0</td>\n",
       "      <td>0</td>\n",
       "      <td>0</td>\n",
       "      <td>0</td>\n",
       "      <td>0</td>\n",
       "      <td>0</td>\n",
       "      <td>0</td>\n",
       "      <td>0</td>\n",
       "      <td>...</td>\n",
       "      <td>0</td>\n",
       "      <td>0</td>\n",
       "      <td>0</td>\n",
       "      <td>0</td>\n",
       "      <td>0</td>\n",
       "      <td>0</td>\n",
       "      <td>0</td>\n",
       "      <td>0</td>\n",
       "      <td>0</td>\n",
       "      <td>0</td>\n",
       "    </tr>\n",
       "    <tr>\n",
       "      <th>2</th>\n",
       "      <td>0</td>\n",
       "      <td>0</td>\n",
       "      <td>0</td>\n",
       "      <td>0</td>\n",
       "      <td>0</td>\n",
       "      <td>0</td>\n",
       "      <td>0</td>\n",
       "      <td>0</td>\n",
       "      <td>0</td>\n",
       "      <td>0</td>\n",
       "      <td>...</td>\n",
       "      <td>0</td>\n",
       "      <td>0</td>\n",
       "      <td>0</td>\n",
       "      <td>0</td>\n",
       "      <td>0</td>\n",
       "      <td>0</td>\n",
       "      <td>0</td>\n",
       "      <td>0</td>\n",
       "      <td>0</td>\n",
       "      <td>0</td>\n",
       "    </tr>\n",
       "    <tr>\n",
       "      <th>3</th>\n",
       "      <td>0</td>\n",
       "      <td>0</td>\n",
       "      <td>0</td>\n",
       "      <td>0</td>\n",
       "      <td>0</td>\n",
       "      <td>0</td>\n",
       "      <td>0</td>\n",
       "      <td>0</td>\n",
       "      <td>0</td>\n",
       "      <td>0</td>\n",
       "      <td>...</td>\n",
       "      <td>0</td>\n",
       "      <td>0</td>\n",
       "      <td>0</td>\n",
       "      <td>0</td>\n",
       "      <td>0</td>\n",
       "      <td>0</td>\n",
       "      <td>0</td>\n",
       "      <td>0</td>\n",
       "      <td>0</td>\n",
       "      <td>0</td>\n",
       "    </tr>\n",
       "    <tr>\n",
       "      <th>4</th>\n",
       "      <td>0</td>\n",
       "      <td>0</td>\n",
       "      <td>0</td>\n",
       "      <td>0</td>\n",
       "      <td>0</td>\n",
       "      <td>0</td>\n",
       "      <td>0</td>\n",
       "      <td>0</td>\n",
       "      <td>0</td>\n",
       "      <td>0</td>\n",
       "      <td>...</td>\n",
       "      <td>0</td>\n",
       "      <td>0</td>\n",
       "      <td>0</td>\n",
       "      <td>0</td>\n",
       "      <td>0</td>\n",
       "      <td>0</td>\n",
       "      <td>0</td>\n",
       "      <td>0</td>\n",
       "      <td>0</td>\n",
       "      <td>0</td>\n",
       "    </tr>\n",
       "    <tr>\n",
       "      <th>...</th>\n",
       "      <td>...</td>\n",
       "      <td>...</td>\n",
       "      <td>...</td>\n",
       "      <td>...</td>\n",
       "      <td>...</td>\n",
       "      <td>...</td>\n",
       "      <td>...</td>\n",
       "      <td>...</td>\n",
       "      <td>...</td>\n",
       "      <td>...</td>\n",
       "      <td>...</td>\n",
       "      <td>...</td>\n",
       "      <td>...</td>\n",
       "      <td>...</td>\n",
       "      <td>...</td>\n",
       "      <td>...</td>\n",
       "      <td>...</td>\n",
       "      <td>...</td>\n",
       "      <td>...</td>\n",
       "      <td>...</td>\n",
       "      <td>...</td>\n",
       "    </tr>\n",
       "    <tr>\n",
       "      <th>3728</th>\n",
       "      <td>0</td>\n",
       "      <td>0</td>\n",
       "      <td>0</td>\n",
       "      <td>0</td>\n",
       "      <td>0</td>\n",
       "      <td>0</td>\n",
       "      <td>0</td>\n",
       "      <td>0</td>\n",
       "      <td>0</td>\n",
       "      <td>0</td>\n",
       "      <td>...</td>\n",
       "      <td>0</td>\n",
       "      <td>0</td>\n",
       "      <td>0</td>\n",
       "      <td>0</td>\n",
       "      <td>0</td>\n",
       "      <td>0</td>\n",
       "      <td>0</td>\n",
       "      <td>0</td>\n",
       "      <td>0</td>\n",
       "      <td>0</td>\n",
       "    </tr>\n",
       "    <tr>\n",
       "      <th>3729</th>\n",
       "      <td>0</td>\n",
       "      <td>0</td>\n",
       "      <td>0</td>\n",
       "      <td>0</td>\n",
       "      <td>0</td>\n",
       "      <td>0</td>\n",
       "      <td>0</td>\n",
       "      <td>0</td>\n",
       "      <td>0</td>\n",
       "      <td>0</td>\n",
       "      <td>...</td>\n",
       "      <td>0</td>\n",
       "      <td>0</td>\n",
       "      <td>0</td>\n",
       "      <td>0</td>\n",
       "      <td>0</td>\n",
       "      <td>0</td>\n",
       "      <td>0</td>\n",
       "      <td>0</td>\n",
       "      <td>0</td>\n",
       "      <td>0</td>\n",
       "    </tr>\n",
       "    <tr>\n",
       "      <th>3730</th>\n",
       "      <td>0</td>\n",
       "      <td>0</td>\n",
       "      <td>0</td>\n",
       "      <td>0</td>\n",
       "      <td>0</td>\n",
       "      <td>0</td>\n",
       "      <td>0</td>\n",
       "      <td>0</td>\n",
       "      <td>0</td>\n",
       "      <td>0</td>\n",
       "      <td>...</td>\n",
       "      <td>0</td>\n",
       "      <td>0</td>\n",
       "      <td>0</td>\n",
       "      <td>0</td>\n",
       "      <td>0</td>\n",
       "      <td>0</td>\n",
       "      <td>0</td>\n",
       "      <td>0</td>\n",
       "      <td>0</td>\n",
       "      <td>0</td>\n",
       "    </tr>\n",
       "    <tr>\n",
       "      <th>3731</th>\n",
       "      <td>0</td>\n",
       "      <td>0</td>\n",
       "      <td>0</td>\n",
       "      <td>0</td>\n",
       "      <td>0</td>\n",
       "      <td>0</td>\n",
       "      <td>0</td>\n",
       "      <td>0</td>\n",
       "      <td>0</td>\n",
       "      <td>0</td>\n",
       "      <td>...</td>\n",
       "      <td>0</td>\n",
       "      <td>0</td>\n",
       "      <td>0</td>\n",
       "      <td>0</td>\n",
       "      <td>0</td>\n",
       "      <td>0</td>\n",
       "      <td>0</td>\n",
       "      <td>0</td>\n",
       "      <td>0</td>\n",
       "      <td>0</td>\n",
       "    </tr>\n",
       "    <tr>\n",
       "      <th>3732</th>\n",
       "      <td>0</td>\n",
       "      <td>0</td>\n",
       "      <td>0</td>\n",
       "      <td>0</td>\n",
       "      <td>0</td>\n",
       "      <td>0</td>\n",
       "      <td>0</td>\n",
       "      <td>0</td>\n",
       "      <td>0</td>\n",
       "      <td>0</td>\n",
       "      <td>...</td>\n",
       "      <td>0</td>\n",
       "      <td>0</td>\n",
       "      <td>0</td>\n",
       "      <td>0</td>\n",
       "      <td>0</td>\n",
       "      <td>0</td>\n",
       "      <td>0</td>\n",
       "      <td>0</td>\n",
       "      <td>0</td>\n",
       "      <td>0</td>\n",
       "    </tr>\n",
       "  </tbody>\n",
       "</table>\n",
       "<p>3733 rows × 7483 columns</p>\n",
       "</div>"
      ],
      "text/plain": [
       "      008704050406  0089my  0121  01223585334  020603  0207  02070836089  \\\n",
       "0                0       0     0            0       0     0            0   \n",
       "1                0       0     0            0       0     0            0   \n",
       "2                0       0     0            0       0     0            0   \n",
       "3                0       0     0            0       0     0            0   \n",
       "4                0       0     0            0       0     0            0   \n",
       "...            ...     ...   ...          ...     ...   ...          ...   \n",
       "3728             0       0     0            0       0     0            0   \n",
       "3729             0       0     0            0       0     0            0   \n",
       "3730             0       0     0            0       0     0            0   \n",
       "3731             0       0     0            0       0     0            0   \n",
       "3732             0       0     0            0       0     0            0   \n",
       "\n",
       "      02085076972  020903  021  ...  yupz  ywhere  zac  zahers  zealand  zed  \\\n",
       "0               0       0    0  ...     0       0    0       0        0    0   \n",
       "1               0       0    0  ...     0       0    0       0        0    0   \n",
       "2               0       0    0  ...     0       0    0       0        0    0   \n",
       "3               0       0    0  ...     0       0    0       0        0    0   \n",
       "4               0       0    0  ...     0       0    0       0        0    0   \n",
       "...           ...     ...  ...  ...   ...     ...  ...     ...      ...  ...   \n",
       "3728            0       0    0  ...     0       0    0       0        0    0   \n",
       "3729            0       0    0  ...     0       0    0       0        0    0   \n",
       "3730            0       0    0  ...     0       0    0       0        0    0   \n",
       "3731            0       0    0  ...     0       0    0       0        0    0   \n",
       "3732            0       0    0  ...     0       0    0       0        0    0   \n",
       "\n",
       "      zoe  zogtorius  üll  〨ud  \n",
       "0       0          0    0    0  \n",
       "1       0          0    0    0  \n",
       "2       0          0    0    0  \n",
       "3       0          0    0    0  \n",
       "4       0          0    0    0  \n",
       "...   ...        ...  ...  ...  \n",
       "3728    0          0    0    0  \n",
       "3729    0          0    0    0  \n",
       "3730    0          0    0    0  \n",
       "3731    0          0    0    0  \n",
       "3732    0          0    0    0  \n",
       "\n",
       "[3733 rows x 7483 columns]"
      ]
     },
     "execution_count": 38,
     "metadata": {},
     "output_type": "execute_result"
    }
   ],
   "source": [
    "bow_matrix = pd.DataFrame(train_count.toarray(), columns=vectorizer.get_feature_names())\n",
    "bow_matrix"
   ]
  },
  {
   "cell_type": "markdown",
   "id": "b84e7070",
   "metadata": {
    "ExecuteTime": {
     "end_time": "2021-05-25T15:25:54.101370Z",
     "start_time": "2021-05-25T15:25:54.043158Z"
    }
   },
   "source": [
    "### Term frequency-inverse document frequency (TFIDF)"
   ]
  },
  {
   "cell_type": "markdown",
   "id": "863e874b",
   "metadata": {},
   "source": [
    "Desi vectorizarea a venit cu mult mai multe date, o problema este sistemul de weighting. Acum, o celula are valoare 0 sau 1, valori care reprezinta daca acel cuvant apare sau nu. Desi aceasta diferentiere binara este de ajutor, este posibil sa calculam weight-urile acestor valori bazandu-ne pe frecventa de aparitie a cuvantului. Vom folosi pentru acest calcul `TF-IDF`."
   ]
  },
  {
   "cell_type": "code",
   "execution_count": 39,
   "id": "153744e3",
   "metadata": {
    "ExecuteTime": {
     "end_time": "2021-05-26T10:41:25.081838Z",
     "start_time": "2021-05-26T10:41:25.066878Z"
    }
   },
   "outputs": [],
   "source": [
    "tfTransformer = TfidfTransformer().fit(train_count)"
   ]
  },
  {
   "cell_type": "markdown",
   "id": "29908323",
   "metadata": {},
   "source": [
    "Vom testa pe un mesaj pentru a observa output-ul. (Este acelasi mesaj de la testul de CountVectorizer)"
   ]
  },
  {
   "cell_type": "code",
   "execution_count": 40,
   "id": "9aedc866",
   "metadata": {
    "ExecuteTime": {
     "end_time": "2021-05-26T10:41:25.097795Z",
     "start_time": "2021-05-26T10:41:25.082835Z"
    }
   },
   "outputs": [
    {
     "name": "stdout",
     "output_type": "stream",
     "text": [
      "  (0, 7278)\t0.364275244454683\n",
      "  (0, 7106)\t0.3674442878291312\n",
      "  (0, 6504)\t0.3391348218748505\n",
      "  (0, 6228)\t0.3452554297558748\n",
      "  (0, 1984)\t0.5343371949981742\n",
      "  (0, 1462)\t0.46104041523136147\n"
     ]
    }
   ],
   "source": [
    "tfidf_test = tfTransformer.transform(train_bow)\n",
    "print(tfidf_test)"
   ]
  },
  {
   "cell_type": "markdown",
   "id": "5a693bff",
   "metadata": {},
   "source": [
    "Putem observa ca in locul valorilor de 0 sau 1, avem acum valori variate in functie de importanta cuvantului.\n",
    "\n",
    "Aplicam acum `TfidfTransformer` asupra intregului set de date."
   ]
  },
  {
   "cell_type": "code",
   "execution_count": 41,
   "id": "ccf1172d",
   "metadata": {
    "ExecuteTime": {
     "end_time": "2021-05-26T10:41:25.113752Z",
     "start_time": "2021-05-26T10:41:25.098793Z"
    }
   },
   "outputs": [],
   "source": [
    "train_tfidf = tfTransformer.transform(train_count)"
   ]
  },
  {
   "cell_type": "code",
   "execution_count": 42,
   "id": "867aed6a",
   "metadata": {
    "ExecuteTime": {
     "end_time": "2021-05-26T10:41:25.177255Z",
     "start_time": "2021-05-26T10:41:25.114751Z"
    }
   },
   "outputs": [
    {
     "data": {
      "text/html": [
       "<div>\n",
       "<style scoped>\n",
       "    .dataframe tbody tr th:only-of-type {\n",
       "        vertical-align: middle;\n",
       "    }\n",
       "\n",
       "    .dataframe tbody tr th {\n",
       "        vertical-align: top;\n",
       "    }\n",
       "\n",
       "    .dataframe thead th {\n",
       "        text-align: right;\n",
       "    }\n",
       "</style>\n",
       "<table border=\"1\" class=\"dataframe\">\n",
       "  <thead>\n",
       "    <tr style=\"text-align: right;\">\n",
       "      <th></th>\n",
       "      <th>008704050406</th>\n",
       "      <th>0089my</th>\n",
       "      <th>0121</th>\n",
       "      <th>01223585334</th>\n",
       "      <th>020603</th>\n",
       "      <th>0207</th>\n",
       "      <th>02070836089</th>\n",
       "      <th>02085076972</th>\n",
       "      <th>020903</th>\n",
       "      <th>021</th>\n",
       "      <th>...</th>\n",
       "      <th>yupz</th>\n",
       "      <th>ywhere</th>\n",
       "      <th>zac</th>\n",
       "      <th>zahers</th>\n",
       "      <th>zealand</th>\n",
       "      <th>zed</th>\n",
       "      <th>zoe</th>\n",
       "      <th>zogtorius</th>\n",
       "      <th>üll</th>\n",
       "      <th>〨ud</th>\n",
       "    </tr>\n",
       "  </thead>\n",
       "  <tbody>\n",
       "    <tr>\n",
       "      <th>0</th>\n",
       "      <td>0.0</td>\n",
       "      <td>0.0</td>\n",
       "      <td>0.0</td>\n",
       "      <td>0.0</td>\n",
       "      <td>0.0</td>\n",
       "      <td>0.0</td>\n",
       "      <td>0.0</td>\n",
       "      <td>0.0</td>\n",
       "      <td>0.0</td>\n",
       "      <td>0.0</td>\n",
       "      <td>...</td>\n",
       "      <td>0.0</td>\n",
       "      <td>0.0</td>\n",
       "      <td>0.0</td>\n",
       "      <td>0.0</td>\n",
       "      <td>0.0</td>\n",
       "      <td>0.0</td>\n",
       "      <td>0.0</td>\n",
       "      <td>0.0</td>\n",
       "      <td>0.0</td>\n",
       "      <td>0.0</td>\n",
       "    </tr>\n",
       "    <tr>\n",
       "      <th>1</th>\n",
       "      <td>0.0</td>\n",
       "      <td>0.0</td>\n",
       "      <td>0.0</td>\n",
       "      <td>0.0</td>\n",
       "      <td>0.0</td>\n",
       "      <td>0.0</td>\n",
       "      <td>0.0</td>\n",
       "      <td>0.0</td>\n",
       "      <td>0.0</td>\n",
       "      <td>0.0</td>\n",
       "      <td>...</td>\n",
       "      <td>0.0</td>\n",
       "      <td>0.0</td>\n",
       "      <td>0.0</td>\n",
       "      <td>0.0</td>\n",
       "      <td>0.0</td>\n",
       "      <td>0.0</td>\n",
       "      <td>0.0</td>\n",
       "      <td>0.0</td>\n",
       "      <td>0.0</td>\n",
       "      <td>0.0</td>\n",
       "    </tr>\n",
       "    <tr>\n",
       "      <th>2</th>\n",
       "      <td>0.0</td>\n",
       "      <td>0.0</td>\n",
       "      <td>0.0</td>\n",
       "      <td>0.0</td>\n",
       "      <td>0.0</td>\n",
       "      <td>0.0</td>\n",
       "      <td>0.0</td>\n",
       "      <td>0.0</td>\n",
       "      <td>0.0</td>\n",
       "      <td>0.0</td>\n",
       "      <td>...</td>\n",
       "      <td>0.0</td>\n",
       "      <td>0.0</td>\n",
       "      <td>0.0</td>\n",
       "      <td>0.0</td>\n",
       "      <td>0.0</td>\n",
       "      <td>0.0</td>\n",
       "      <td>0.0</td>\n",
       "      <td>0.0</td>\n",
       "      <td>0.0</td>\n",
       "      <td>0.0</td>\n",
       "    </tr>\n",
       "    <tr>\n",
       "      <th>3</th>\n",
       "      <td>0.0</td>\n",
       "      <td>0.0</td>\n",
       "      <td>0.0</td>\n",
       "      <td>0.0</td>\n",
       "      <td>0.0</td>\n",
       "      <td>0.0</td>\n",
       "      <td>0.0</td>\n",
       "      <td>0.0</td>\n",
       "      <td>0.0</td>\n",
       "      <td>0.0</td>\n",
       "      <td>...</td>\n",
       "      <td>0.0</td>\n",
       "      <td>0.0</td>\n",
       "      <td>0.0</td>\n",
       "      <td>0.0</td>\n",
       "      <td>0.0</td>\n",
       "      <td>0.0</td>\n",
       "      <td>0.0</td>\n",
       "      <td>0.0</td>\n",
       "      <td>0.0</td>\n",
       "      <td>0.0</td>\n",
       "    </tr>\n",
       "    <tr>\n",
       "      <th>4</th>\n",
       "      <td>0.0</td>\n",
       "      <td>0.0</td>\n",
       "      <td>0.0</td>\n",
       "      <td>0.0</td>\n",
       "      <td>0.0</td>\n",
       "      <td>0.0</td>\n",
       "      <td>0.0</td>\n",
       "      <td>0.0</td>\n",
       "      <td>0.0</td>\n",
       "      <td>0.0</td>\n",
       "      <td>...</td>\n",
       "      <td>0.0</td>\n",
       "      <td>0.0</td>\n",
       "      <td>0.0</td>\n",
       "      <td>0.0</td>\n",
       "      <td>0.0</td>\n",
       "      <td>0.0</td>\n",
       "      <td>0.0</td>\n",
       "      <td>0.0</td>\n",
       "      <td>0.0</td>\n",
       "      <td>0.0</td>\n",
       "    </tr>\n",
       "  </tbody>\n",
       "</table>\n",
       "<p>5 rows × 7483 columns</p>\n",
       "</div>"
      ],
      "text/plain": [
       "   008704050406  0089my  0121  01223585334  020603  0207  02070836089  \\\n",
       "0           0.0     0.0   0.0          0.0     0.0   0.0          0.0   \n",
       "1           0.0     0.0   0.0          0.0     0.0   0.0          0.0   \n",
       "2           0.0     0.0   0.0          0.0     0.0   0.0          0.0   \n",
       "3           0.0     0.0   0.0          0.0     0.0   0.0          0.0   \n",
       "4           0.0     0.0   0.0          0.0     0.0   0.0          0.0   \n",
       "\n",
       "   02085076972  020903  021  ...  yupz  ywhere  zac  zahers  zealand  zed  \\\n",
       "0          0.0     0.0  0.0  ...   0.0     0.0  0.0     0.0      0.0  0.0   \n",
       "1          0.0     0.0  0.0  ...   0.0     0.0  0.0     0.0      0.0  0.0   \n",
       "2          0.0     0.0  0.0  ...   0.0     0.0  0.0     0.0      0.0  0.0   \n",
       "3          0.0     0.0  0.0  ...   0.0     0.0  0.0     0.0      0.0  0.0   \n",
       "4          0.0     0.0  0.0  ...   0.0     0.0  0.0     0.0      0.0  0.0   \n",
       "\n",
       "   zoe  zogtorius  üll  〨ud  \n",
       "0  0.0        0.0  0.0  0.0  \n",
       "1  0.0        0.0  0.0  0.0  \n",
       "2  0.0        0.0  0.0  0.0  \n",
       "3  0.0        0.0  0.0  0.0  \n",
       "4  0.0        0.0  0.0  0.0  \n",
       "\n",
       "[5 rows x 7483 columns]"
      ]
     },
     "execution_count": 42,
     "metadata": {},
     "output_type": "execute_result"
    }
   ],
   "source": [
    "train_tfidf = pd.DataFrame(train_tfidf.toarray(), columns=bow_matrix.columns)\n",
    "train_tfidf.head()"
   ]
  },
  {
   "cell_type": "markdown",
   "id": "e0860503",
   "metadata": {},
   "source": [
    "Vom uni acest dataframe cu cel initial, insa vom adauga un sufix pentru ca atat 'Class' cat si 'Message' sunt cuvinte care apar in mesajele noastre si trebuiesc diferentiate."
   ]
  },
  {
   "cell_type": "code",
   "execution_count": 43,
   "id": "50ab3050",
   "metadata": {
    "ExecuteTime": {
     "end_time": "2021-05-26T10:41:25.488795Z",
     "start_time": "2021-05-26T10:41:25.178222Z"
    }
   },
   "outputs": [
    {
     "data": {
      "text/html": [
       "<div>\n",
       "<style scoped>\n",
       "    .dataframe tbody tr th:only-of-type {\n",
       "        vertical-align: middle;\n",
       "    }\n",
       "\n",
       "    .dataframe tbody tr th {\n",
       "        vertical-align: top;\n",
       "    }\n",
       "\n",
       "    .dataframe thead th {\n",
       "        text-align: right;\n",
       "    }\n",
       "</style>\n",
       "<table border=\"1\" class=\"dataframe\">\n",
       "  <thead>\n",
       "    <tr style=\"text-align: right;\">\n",
       "      <th></th>\n",
       "      <th>Class</th>\n",
       "      <th>Message</th>\n",
       "      <th>Length</th>\n",
       "      <th>008704050406</th>\n",
       "      <th>0089my</th>\n",
       "      <th>0121</th>\n",
       "      <th>01223585334</th>\n",
       "      <th>020603</th>\n",
       "      <th>0207</th>\n",
       "      <th>02070836089</th>\n",
       "      <th>...</th>\n",
       "      <th>yupz</th>\n",
       "      <th>ywhere</th>\n",
       "      <th>zac</th>\n",
       "      <th>zahers</th>\n",
       "      <th>zealand</th>\n",
       "      <th>zed</th>\n",
       "      <th>zoe</th>\n",
       "      <th>zogtorius</th>\n",
       "      <th>üll</th>\n",
       "      <th>〨ud</th>\n",
       "    </tr>\n",
       "  </thead>\n",
       "  <tbody>\n",
       "    <tr>\n",
       "      <th>0</th>\n",
       "      <td>spam</td>\n",
       "      <td>500 new mobiles 2004 must go txt nokia 89545 c...</td>\n",
       "      <td>142</td>\n",
       "      <td>0.0</td>\n",
       "      <td>0.0</td>\n",
       "      <td>0.0</td>\n",
       "      <td>0.0</td>\n",
       "      <td>0.0</td>\n",
       "      <td>0.0</td>\n",
       "      <td>0.0</td>\n",
       "      <td>...</td>\n",
       "      <td>0.0</td>\n",
       "      <td>0.0</td>\n",
       "      <td>0.0</td>\n",
       "      <td>0.0</td>\n",
       "      <td>0.0</td>\n",
       "      <td>0.0</td>\n",
       "      <td>0.0</td>\n",
       "      <td>0.0</td>\n",
       "      <td>0.0</td>\n",
       "      <td>0.0</td>\n",
       "    </tr>\n",
       "    <tr>\n",
       "      <th>1</th>\n",
       "      <td>ham</td>\n",
       "      <td>ok msg b4 leave house</td>\n",
       "      <td>31</td>\n",
       "      <td>0.0</td>\n",
       "      <td>0.0</td>\n",
       "      <td>0.0</td>\n",
       "      <td>0.0</td>\n",
       "      <td>0.0</td>\n",
       "      <td>0.0</td>\n",
       "      <td>0.0</td>\n",
       "      <td>...</td>\n",
       "      <td>0.0</td>\n",
       "      <td>0.0</td>\n",
       "      <td>0.0</td>\n",
       "      <td>0.0</td>\n",
       "      <td>0.0</td>\n",
       "      <td>0.0</td>\n",
       "      <td>0.0</td>\n",
       "      <td>0.0</td>\n",
       "      <td>0.0</td>\n",
       "      <td>0.0</td>\n",
       "    </tr>\n",
       "    <tr>\n",
       "      <th>2</th>\n",
       "      <td>ham</td>\n",
       "      <td>lets go bill millers</td>\n",
       "      <td>30</td>\n",
       "      <td>0.0</td>\n",
       "      <td>0.0</td>\n",
       "      <td>0.0</td>\n",
       "      <td>0.0</td>\n",
       "      <td>0.0</td>\n",
       "      <td>0.0</td>\n",
       "      <td>0.0</td>\n",
       "      <td>...</td>\n",
       "      <td>0.0</td>\n",
       "      <td>0.0</td>\n",
       "      <td>0.0</td>\n",
       "      <td>0.0</td>\n",
       "      <td>0.0</td>\n",
       "      <td>0.0</td>\n",
       "      <td>0.0</td>\n",
       "      <td>0.0</td>\n",
       "      <td>0.0</td>\n",
       "      <td>0.0</td>\n",
       "    </tr>\n",
       "    <tr>\n",
       "      <th>3</th>\n",
       "      <td>ham</td>\n",
       "      <td>dont want hear anything</td>\n",
       "      <td>28</td>\n",
       "      <td>0.0</td>\n",
       "      <td>0.0</td>\n",
       "      <td>0.0</td>\n",
       "      <td>0.0</td>\n",
       "      <td>0.0</td>\n",
       "      <td>0.0</td>\n",
       "      <td>0.0</td>\n",
       "      <td>...</td>\n",
       "      <td>0.0</td>\n",
       "      <td>0.0</td>\n",
       "      <td>0.0</td>\n",
       "      <td>0.0</td>\n",
       "      <td>0.0</td>\n",
       "      <td>0.0</td>\n",
       "      <td>0.0</td>\n",
       "      <td>0.0</td>\n",
       "      <td>0.0</td>\n",
       "      <td>0.0</td>\n",
       "    </tr>\n",
       "    <tr>\n",
       "      <th>4</th>\n",
       "      <td>ham</td>\n",
       "      <td>dont file bagi work called mei tell find anyth...</td>\n",
       "      <td>118</td>\n",
       "      <td>0.0</td>\n",
       "      <td>0.0</td>\n",
       "      <td>0.0</td>\n",
       "      <td>0.0</td>\n",
       "      <td>0.0</td>\n",
       "      <td>0.0</td>\n",
       "      <td>0.0</td>\n",
       "      <td>...</td>\n",
       "      <td>0.0</td>\n",
       "      <td>0.0</td>\n",
       "      <td>0.0</td>\n",
       "      <td>0.0</td>\n",
       "      <td>0.0</td>\n",
       "      <td>0.0</td>\n",
       "      <td>0.0</td>\n",
       "      <td>0.0</td>\n",
       "      <td>0.0</td>\n",
       "      <td>0.0</td>\n",
       "    </tr>\n",
       "    <tr>\n",
       "      <th>...</th>\n",
       "      <td>...</td>\n",
       "      <td>...</td>\n",
       "      <td>...</td>\n",
       "      <td>...</td>\n",
       "      <td>...</td>\n",
       "      <td>...</td>\n",
       "      <td>...</td>\n",
       "      <td>...</td>\n",
       "      <td>...</td>\n",
       "      <td>...</td>\n",
       "      <td>...</td>\n",
       "      <td>...</td>\n",
       "      <td>...</td>\n",
       "      <td>...</td>\n",
       "      <td>...</td>\n",
       "      <td>...</td>\n",
       "      <td>...</td>\n",
       "      <td>...</td>\n",
       "      <td>...</td>\n",
       "      <td>...</td>\n",
       "      <td>...</td>\n",
       "    </tr>\n",
       "    <tr>\n",
       "      <th>3728</th>\n",
       "      <td>ham</td>\n",
       "      <td>day class class</td>\n",
       "      <td>35</td>\n",
       "      <td>0.0</td>\n",
       "      <td>0.0</td>\n",
       "      <td>0.0</td>\n",
       "      <td>0.0</td>\n",
       "      <td>0.0</td>\n",
       "      <td>0.0</td>\n",
       "      <td>0.0</td>\n",
       "      <td>...</td>\n",
       "      <td>0.0</td>\n",
       "      <td>0.0</td>\n",
       "      <td>0.0</td>\n",
       "      <td>0.0</td>\n",
       "      <td>0.0</td>\n",
       "      <td>0.0</td>\n",
       "      <td>0.0</td>\n",
       "      <td>0.0</td>\n",
       "      <td>0.0</td>\n",
       "      <td>0.0</td>\n",
       "    </tr>\n",
       "    <tr>\n",
       "      <th>3729</th>\n",
       "      <td>ham</td>\n",
       "      <td>time thinkin goin</td>\n",
       "      <td>30</td>\n",
       "      <td>0.0</td>\n",
       "      <td>0.0</td>\n",
       "      <td>0.0</td>\n",
       "      <td>0.0</td>\n",
       "      <td>0.0</td>\n",
       "      <td>0.0</td>\n",
       "      <td>0.0</td>\n",
       "      <td>...</td>\n",
       "      <td>0.0</td>\n",
       "      <td>0.0</td>\n",
       "      <td>0.0</td>\n",
       "      <td>0.0</td>\n",
       "      <td>0.0</td>\n",
       "      <td>0.0</td>\n",
       "      <td>0.0</td>\n",
       "      <td>0.0</td>\n",
       "      <td>0.0</td>\n",
       "      <td>0.0</td>\n",
       "    </tr>\n",
       "    <tr>\n",
       "      <th>3730</th>\n",
       "      <td>ham</td>\n",
       "      <td>crazy ar hes married like gd looking guys fren...</td>\n",
       "      <td>159</td>\n",
       "      <td>0.0</td>\n",
       "      <td>0.0</td>\n",
       "      <td>0.0</td>\n",
       "      <td>0.0</td>\n",
       "      <td>0.0</td>\n",
       "      <td>0.0</td>\n",
       "      <td>0.0</td>\n",
       "      <td>...</td>\n",
       "      <td>0.0</td>\n",
       "      <td>0.0</td>\n",
       "      <td>0.0</td>\n",
       "      <td>0.0</td>\n",
       "      <td>0.0</td>\n",
       "      <td>0.0</td>\n",
       "      <td>0.0</td>\n",
       "      <td>0.0</td>\n",
       "      <td>0.0</td>\n",
       "      <td>0.0</td>\n",
       "    </tr>\n",
       "    <tr>\n",
       "      <th>3731</th>\n",
       "      <td>ham</td>\n",
       "      <td>finally came fix ceiling</td>\n",
       "      <td>37</td>\n",
       "      <td>0.0</td>\n",
       "      <td>0.0</td>\n",
       "      <td>0.0</td>\n",
       "      <td>0.0</td>\n",
       "      <td>0.0</td>\n",
       "      <td>0.0</td>\n",
       "      <td>0.0</td>\n",
       "      <td>...</td>\n",
       "      <td>0.0</td>\n",
       "      <td>0.0</td>\n",
       "      <td>0.0</td>\n",
       "      <td>0.0</td>\n",
       "      <td>0.0</td>\n",
       "      <td>0.0</td>\n",
       "      <td>0.0</td>\n",
       "      <td>0.0</td>\n",
       "      <td>0.0</td>\n",
       "      <td>0.0</td>\n",
       "    </tr>\n",
       "    <tr>\n",
       "      <th>3732</th>\n",
       "      <td>ham</td>\n",
       "      <td>happy new year</td>\n",
       "      <td>24</td>\n",
       "      <td>0.0</td>\n",
       "      <td>0.0</td>\n",
       "      <td>0.0</td>\n",
       "      <td>0.0</td>\n",
       "      <td>0.0</td>\n",
       "      <td>0.0</td>\n",
       "      <td>0.0</td>\n",
       "      <td>...</td>\n",
       "      <td>0.0</td>\n",
       "      <td>0.0</td>\n",
       "      <td>0.0</td>\n",
       "      <td>0.0</td>\n",
       "      <td>0.0</td>\n",
       "      <td>0.0</td>\n",
       "      <td>0.0</td>\n",
       "      <td>0.0</td>\n",
       "      <td>0.0</td>\n",
       "      <td>0.0</td>\n",
       "    </tr>\n",
       "  </tbody>\n",
       "</table>\n",
       "<p>3733 rows × 7486 columns</p>\n",
       "</div>"
      ],
      "text/plain": [
       "     Class                                            Message  Length  \\\n",
       "0     spam  500 new mobiles 2004 must go txt nokia 89545 c...     142   \n",
       "1      ham                              ok msg b4 leave house      31   \n",
       "2      ham                               lets go bill millers      30   \n",
       "3      ham                            dont want hear anything      28   \n",
       "4      ham  dont file bagi work called mei tell find anyth...     118   \n",
       "...    ...                                                ...     ...   \n",
       "3728   ham                                    day class class      35   \n",
       "3729   ham                                  time thinkin goin      30   \n",
       "3730   ham  crazy ar hes married like gd looking guys fren...     159   \n",
       "3731   ham                           finally came fix ceiling      37   \n",
       "3732   ham                                     happy new year      24   \n",
       "\n",
       "      008704050406  0089my  0121  01223585334  020603  0207  02070836089  ...  \\\n",
       "0              0.0     0.0   0.0          0.0     0.0   0.0          0.0  ...   \n",
       "1              0.0     0.0   0.0          0.0     0.0   0.0          0.0  ...   \n",
       "2              0.0     0.0   0.0          0.0     0.0   0.0          0.0  ...   \n",
       "3              0.0     0.0   0.0          0.0     0.0   0.0          0.0  ...   \n",
       "4              0.0     0.0   0.0          0.0     0.0   0.0          0.0  ...   \n",
       "...            ...     ...   ...          ...     ...   ...          ...  ...   \n",
       "3728           0.0     0.0   0.0          0.0     0.0   0.0          0.0  ...   \n",
       "3729           0.0     0.0   0.0          0.0     0.0   0.0          0.0  ...   \n",
       "3730           0.0     0.0   0.0          0.0     0.0   0.0          0.0  ...   \n",
       "3731           0.0     0.0   0.0          0.0     0.0   0.0          0.0  ...   \n",
       "3732           0.0     0.0   0.0          0.0     0.0   0.0          0.0  ...   \n",
       "\n",
       "      yupz  ywhere  zac  zahers  zealand  zed  zoe  zogtorius  üll  〨ud  \n",
       "0      0.0     0.0  0.0     0.0      0.0  0.0  0.0        0.0  0.0  0.0  \n",
       "1      0.0     0.0  0.0     0.0      0.0  0.0  0.0        0.0  0.0  0.0  \n",
       "2      0.0     0.0  0.0     0.0      0.0  0.0  0.0        0.0  0.0  0.0  \n",
       "3      0.0     0.0  0.0     0.0      0.0  0.0  0.0        0.0  0.0  0.0  \n",
       "4      0.0     0.0  0.0     0.0      0.0  0.0  0.0        0.0  0.0  0.0  \n",
       "...    ...     ...  ...     ...      ...  ...  ...        ...  ...  ...  \n",
       "3728   0.0     0.0  0.0     0.0      0.0  0.0  0.0        0.0  0.0  0.0  \n",
       "3729   0.0     0.0  0.0     0.0      0.0  0.0  0.0        0.0  0.0  0.0  \n",
       "3730   0.0     0.0  0.0     0.0      0.0  0.0  0.0        0.0  0.0  0.0  \n",
       "3731   0.0     0.0  0.0     0.0      0.0  0.0  0.0        0.0  0.0  0.0  \n",
       "3732   0.0     0.0  0.0     0.0      0.0  0.0  0.0        0.0  0.0  0.0  \n",
       "\n",
       "[3733 rows x 7486 columns]"
      ]
     },
     "execution_count": 43,
     "metadata": {},
     "output_type": "execute_result"
    }
   ],
   "source": [
    "cleaned_train = X_train.join(train_tfidf, rsuffix='_word', how='left')\n",
    "cleaned_train"
   ]
  },
  {
   "cell_type": "markdown",
   "id": "e9546904",
   "metadata": {},
   "source": [
    "Vom face vectorizarea si tfidf si pentru seturile de testare"
   ]
  },
  {
   "cell_type": "code",
   "execution_count": 44,
   "id": "1051a07f",
   "metadata": {
    "ExecuteTime": {
     "end_time": "2021-05-26T10:41:25.675382Z",
     "start_time": "2021-05-26T10:41:25.489701Z"
    }
   },
   "outputs": [
    {
     "data": {
      "text/html": [
       "<div>\n",
       "<style scoped>\n",
       "    .dataframe tbody tr th:only-of-type {\n",
       "        vertical-align: middle;\n",
       "    }\n",
       "\n",
       "    .dataframe tbody tr th {\n",
       "        vertical-align: top;\n",
       "    }\n",
       "\n",
       "    .dataframe thead th {\n",
       "        text-align: right;\n",
       "    }\n",
       "</style>\n",
       "<table border=\"1\" class=\"dataframe\">\n",
       "  <thead>\n",
       "    <tr style=\"text-align: right;\">\n",
       "      <th></th>\n",
       "      <th>Class</th>\n",
       "      <th>Message</th>\n",
       "      <th>Length</th>\n",
       "      <th>008704050406</th>\n",
       "      <th>0089my</th>\n",
       "      <th>0121</th>\n",
       "      <th>01223585334</th>\n",
       "      <th>020603</th>\n",
       "      <th>0207</th>\n",
       "      <th>02070836089</th>\n",
       "      <th>...</th>\n",
       "      <th>yupz</th>\n",
       "      <th>ywhere</th>\n",
       "      <th>zac</th>\n",
       "      <th>zahers</th>\n",
       "      <th>zealand</th>\n",
       "      <th>zed</th>\n",
       "      <th>zoe</th>\n",
       "      <th>zogtorius</th>\n",
       "      <th>üll</th>\n",
       "      <th>〨ud</th>\n",
       "    </tr>\n",
       "  </thead>\n",
       "  <tbody>\n",
       "    <tr>\n",
       "      <th>0</th>\n",
       "      <td>ham</td>\n",
       "      <td>wont move morphine</td>\n",
       "      <td>43</td>\n",
       "      <td>0.0</td>\n",
       "      <td>0.0</td>\n",
       "      <td>0.0</td>\n",
       "      <td>0.0</td>\n",
       "      <td>0.0</td>\n",
       "      <td>0.0</td>\n",
       "      <td>0.0</td>\n",
       "      <td>...</td>\n",
       "      <td>0.0</td>\n",
       "      <td>0.0</td>\n",
       "      <td>0.0</td>\n",
       "      <td>0.0</td>\n",
       "      <td>0.0</td>\n",
       "      <td>0.0</td>\n",
       "      <td>0.0</td>\n",
       "      <td>0.0</td>\n",
       "      <td>0.0</td>\n",
       "      <td>0.0</td>\n",
       "    </tr>\n",
       "    <tr>\n",
       "      <th>1</th>\n",
       "      <td>ham</td>\n",
       "      <td>hmmbad newshype park plaza 700 studio takenonl...</td>\n",
       "      <td>78</td>\n",
       "      <td>0.0</td>\n",
       "      <td>0.0</td>\n",
       "      <td>0.0</td>\n",
       "      <td>0.0</td>\n",
       "      <td>0.0</td>\n",
       "      <td>0.0</td>\n",
       "      <td>0.0</td>\n",
       "      <td>...</td>\n",
       "      <td>0.0</td>\n",
       "      <td>0.0</td>\n",
       "      <td>0.0</td>\n",
       "      <td>0.0</td>\n",
       "      <td>0.0</td>\n",
       "      <td>0.0</td>\n",
       "      <td>0.0</td>\n",
       "      <td>0.0</td>\n",
       "      <td>0.0</td>\n",
       "      <td>0.0</td>\n",
       "    </tr>\n",
       "    <tr>\n",
       "      <th>2</th>\n",
       "      <td>ham</td>\n",
       "      <td>derek done class</td>\n",
       "      <td>35</td>\n",
       "      <td>0.0</td>\n",
       "      <td>0.0</td>\n",
       "      <td>0.0</td>\n",
       "      <td>0.0</td>\n",
       "      <td>0.0</td>\n",
       "      <td>0.0</td>\n",
       "      <td>0.0</td>\n",
       "      <td>...</td>\n",
       "      <td>0.0</td>\n",
       "      <td>0.0</td>\n",
       "      <td>0.0</td>\n",
       "      <td>0.0</td>\n",
       "      <td>0.0</td>\n",
       "      <td>0.0</td>\n",
       "      <td>0.0</td>\n",
       "      <td>0.0</td>\n",
       "      <td>0.0</td>\n",
       "      <td>0.0</td>\n",
       "    </tr>\n",
       "    <tr>\n",
       "      <th>3</th>\n",
       "      <td>ham</td>\n",
       "      <td>hey happy birthday</td>\n",
       "      <td>21</td>\n",
       "      <td>0.0</td>\n",
       "      <td>0.0</td>\n",
       "      <td>0.0</td>\n",
       "      <td>0.0</td>\n",
       "      <td>0.0</td>\n",
       "      <td>0.0</td>\n",
       "      <td>0.0</td>\n",
       "      <td>...</td>\n",
       "      <td>0.0</td>\n",
       "      <td>0.0</td>\n",
       "      <td>0.0</td>\n",
       "      <td>0.0</td>\n",
       "      <td>0.0</td>\n",
       "      <td>0.0</td>\n",
       "      <td>0.0</td>\n",
       "      <td>0.0</td>\n",
       "      <td>0.0</td>\n",
       "      <td>0.0</td>\n",
       "    </tr>\n",
       "    <tr>\n",
       "      <th>4</th>\n",
       "      <td>ham</td>\n",
       "      <td>ill hand phone chat wit</td>\n",
       "      <td>36</td>\n",
       "      <td>0.0</td>\n",
       "      <td>0.0</td>\n",
       "      <td>0.0</td>\n",
       "      <td>0.0</td>\n",
       "      <td>0.0</td>\n",
       "      <td>0.0</td>\n",
       "      <td>0.0</td>\n",
       "      <td>...</td>\n",
       "      <td>0.0</td>\n",
       "      <td>0.0</td>\n",
       "      <td>0.0</td>\n",
       "      <td>0.0</td>\n",
       "      <td>0.0</td>\n",
       "      <td>0.0</td>\n",
       "      <td>0.0</td>\n",
       "      <td>0.0</td>\n",
       "      <td>0.0</td>\n",
       "      <td>0.0</td>\n",
       "    </tr>\n",
       "    <tr>\n",
       "      <th>...</th>\n",
       "      <td>...</td>\n",
       "      <td>...</td>\n",
       "      <td>...</td>\n",
       "      <td>...</td>\n",
       "      <td>...</td>\n",
       "      <td>...</td>\n",
       "      <td>...</td>\n",
       "      <td>...</td>\n",
       "      <td>...</td>\n",
       "      <td>...</td>\n",
       "      <td>...</td>\n",
       "      <td>...</td>\n",
       "      <td>...</td>\n",
       "      <td>...</td>\n",
       "      <td>...</td>\n",
       "      <td>...</td>\n",
       "      <td>...</td>\n",
       "      <td>...</td>\n",
       "      <td>...</td>\n",
       "      <td>...</td>\n",
       "      <td>...</td>\n",
       "    </tr>\n",
       "    <tr>\n",
       "      <th>1834</th>\n",
       "      <td>ham</td>\n",
       "      <td>nothing getting msgs dis name wit different nos</td>\n",
       "      <td>58</td>\n",
       "      <td>0.0</td>\n",
       "      <td>0.0</td>\n",
       "      <td>0.0</td>\n",
       "      <td>0.0</td>\n",
       "      <td>0.0</td>\n",
       "      <td>0.0</td>\n",
       "      <td>0.0</td>\n",
       "      <td>...</td>\n",
       "      <td>0.0</td>\n",
       "      <td>0.0</td>\n",
       "      <td>0.0</td>\n",
       "      <td>0.0</td>\n",
       "      <td>0.0</td>\n",
       "      <td>0.0</td>\n",
       "      <td>0.0</td>\n",
       "      <td>0.0</td>\n",
       "      <td>0.0</td>\n",
       "      <td>0.0</td>\n",
       "    </tr>\n",
       "    <tr>\n",
       "      <th>1835</th>\n",
       "      <td>ham</td>\n",
       "      <td>dont worry easy ingredients</td>\n",
       "      <td>45</td>\n",
       "      <td>0.0</td>\n",
       "      <td>0.0</td>\n",
       "      <td>0.0</td>\n",
       "      <td>0.0</td>\n",
       "      <td>0.0</td>\n",
       "      <td>0.0</td>\n",
       "      <td>0.0</td>\n",
       "      <td>...</td>\n",
       "      <td>0.0</td>\n",
       "      <td>0.0</td>\n",
       "      <td>0.0</td>\n",
       "      <td>0.0</td>\n",
       "      <td>0.0</td>\n",
       "      <td>0.0</td>\n",
       "      <td>0.0</td>\n",
       "      <td>0.0</td>\n",
       "      <td>0.0</td>\n",
       "      <td>0.0</td>\n",
       "    </tr>\n",
       "    <tr>\n",
       "      <th>1836</th>\n",
       "      <td>ham</td>\n",
       "      <td>got back dislikes bed</td>\n",
       "      <td>49</td>\n",
       "      <td>0.0</td>\n",
       "      <td>0.0</td>\n",
       "      <td>0.0</td>\n",
       "      <td>0.0</td>\n",
       "      <td>0.0</td>\n",
       "      <td>0.0</td>\n",
       "      <td>0.0</td>\n",
       "      <td>...</td>\n",
       "      <td>0.0</td>\n",
       "      <td>0.0</td>\n",
       "      <td>0.0</td>\n",
       "      <td>0.0</td>\n",
       "      <td>0.0</td>\n",
       "      <td>0.0</td>\n",
       "      <td>0.0</td>\n",
       "      <td>0.0</td>\n",
       "      <td>0.0</td>\n",
       "      <td>0.0</td>\n",
       "    </tr>\n",
       "    <tr>\n",
       "      <th>1837</th>\n",
       "      <td>ham</td>\n",
       "      <td>say fantastic chance anything need bigger life...</td>\n",
       "      <td>167</td>\n",
       "      <td>0.0</td>\n",
       "      <td>0.0</td>\n",
       "      <td>0.0</td>\n",
       "      <td>0.0</td>\n",
       "      <td>0.0</td>\n",
       "      <td>0.0</td>\n",
       "      <td>0.0</td>\n",
       "      <td>...</td>\n",
       "      <td>0.0</td>\n",
       "      <td>0.0</td>\n",
       "      <td>0.0</td>\n",
       "      <td>0.0</td>\n",
       "      <td>0.0</td>\n",
       "      <td>0.0</td>\n",
       "      <td>0.0</td>\n",
       "      <td>0.0</td>\n",
       "      <td>0.0</td>\n",
       "      <td>0.0</td>\n",
       "    </tr>\n",
       "    <tr>\n",
       "      <th>1838</th>\n",
       "      <td>ham</td>\n",
       "      <td>yes glad made</td>\n",
       "      <td>38</td>\n",
       "      <td>0.0</td>\n",
       "      <td>0.0</td>\n",
       "      <td>0.0</td>\n",
       "      <td>0.0</td>\n",
       "      <td>0.0</td>\n",
       "      <td>0.0</td>\n",
       "      <td>0.0</td>\n",
       "      <td>...</td>\n",
       "      <td>0.0</td>\n",
       "      <td>0.0</td>\n",
       "      <td>0.0</td>\n",
       "      <td>0.0</td>\n",
       "      <td>0.0</td>\n",
       "      <td>0.0</td>\n",
       "      <td>0.0</td>\n",
       "      <td>0.0</td>\n",
       "      <td>0.0</td>\n",
       "      <td>0.0</td>\n",
       "    </tr>\n",
       "  </tbody>\n",
       "</table>\n",
       "<p>1839 rows × 7486 columns</p>\n",
       "</div>"
      ],
      "text/plain": [
       "     Class                                            Message  Length  \\\n",
       "0      ham                                 wont move morphine      43   \n",
       "1      ham  hmmbad newshype park plaza 700 studio takenonl...      78   \n",
       "2      ham                                   derek done class      35   \n",
       "3      ham                                 hey happy birthday      21   \n",
       "4      ham                            ill hand phone chat wit      36   \n",
       "...    ...                                                ...     ...   \n",
       "1834   ham    nothing getting msgs dis name wit different nos      58   \n",
       "1835   ham                        dont worry easy ingredients      45   \n",
       "1836   ham                              got back dislikes bed      49   \n",
       "1837   ham  say fantastic chance anything need bigger life...     167   \n",
       "1838   ham                                      yes glad made      38   \n",
       "\n",
       "      008704050406  0089my  0121  01223585334  020603  0207  02070836089  ...  \\\n",
       "0              0.0     0.0   0.0          0.0     0.0   0.0          0.0  ...   \n",
       "1              0.0     0.0   0.0          0.0     0.0   0.0          0.0  ...   \n",
       "2              0.0     0.0   0.0          0.0     0.0   0.0          0.0  ...   \n",
       "3              0.0     0.0   0.0          0.0     0.0   0.0          0.0  ...   \n",
       "4              0.0     0.0   0.0          0.0     0.0   0.0          0.0  ...   \n",
       "...            ...     ...   ...          ...     ...   ...          ...  ...   \n",
       "1834           0.0     0.0   0.0          0.0     0.0   0.0          0.0  ...   \n",
       "1835           0.0     0.0   0.0          0.0     0.0   0.0          0.0  ...   \n",
       "1836           0.0     0.0   0.0          0.0     0.0   0.0          0.0  ...   \n",
       "1837           0.0     0.0   0.0          0.0     0.0   0.0          0.0  ...   \n",
       "1838           0.0     0.0   0.0          0.0     0.0   0.0          0.0  ...   \n",
       "\n",
       "      yupz  ywhere  zac  zahers  zealand  zed  zoe  zogtorius  üll  〨ud  \n",
       "0      0.0     0.0  0.0     0.0      0.0  0.0  0.0        0.0  0.0  0.0  \n",
       "1      0.0     0.0  0.0     0.0      0.0  0.0  0.0        0.0  0.0  0.0  \n",
       "2      0.0     0.0  0.0     0.0      0.0  0.0  0.0        0.0  0.0  0.0  \n",
       "3      0.0     0.0  0.0     0.0      0.0  0.0  0.0        0.0  0.0  0.0  \n",
       "4      0.0     0.0  0.0     0.0      0.0  0.0  0.0        0.0  0.0  0.0  \n",
       "...    ...     ...  ...     ...      ...  ...  ...        ...  ...  ...  \n",
       "1834   0.0     0.0  0.0     0.0      0.0  0.0  0.0        0.0  0.0  0.0  \n",
       "1835   0.0     0.0  0.0     0.0      0.0  0.0  0.0        0.0  0.0  0.0  \n",
       "1836   0.0     0.0  0.0     0.0      0.0  0.0  0.0        0.0  0.0  0.0  \n",
       "1837   0.0     0.0  0.0     0.0      0.0  0.0  0.0        0.0  0.0  0.0  \n",
       "1838   0.0     0.0  0.0     0.0      0.0  0.0  0.0        0.0  0.0  0.0  \n",
       "\n",
       "[1839 rows x 7486 columns]"
      ]
     },
     "execution_count": 44,
     "metadata": {},
     "output_type": "execute_result"
    }
   ],
   "source": [
    "test_count = vectorizer.transform(X_test['Message'])\n",
    "test_tfidf = tfTransformer.transform(test_count)\n",
    "test_tfidf = pd.DataFrame(test_tfidf.toarray(), columns = bow_matrix.columns)\n",
    "\n",
    "cleaned_test = X_test.join(test_tfidf, rsuffix='_word', how='left')\n",
    "cleaned_test"
   ]
  },
  {
   "cell_type": "markdown",
   "id": "1102fcd3",
   "metadata": {},
   "source": [
    "### Modele de regresie si de clasificare"
   ]
  },
  {
   "cell_type": "markdown",
   "id": "d93760a5",
   "metadata": {},
   "source": [
    "Vom crea un dataframe pentru a memora scorurile calculate"
   ]
  },
  {
   "cell_type": "code",
   "execution_count": 45,
   "id": "fe19c237",
   "metadata": {
    "ExecuteTime": {
     "end_time": "2021-05-26T10:41:25.691332Z",
     "start_time": "2021-05-26T10:41:25.676347Z"
    }
   },
   "outputs": [
    {
     "data": {
      "text/html": [
       "<div>\n",
       "<style scoped>\n",
       "    .dataframe tbody tr th:only-of-type {\n",
       "        vertical-align: middle;\n",
       "    }\n",
       "\n",
       "    .dataframe tbody tr th {\n",
       "        vertical-align: top;\n",
       "    }\n",
       "\n",
       "    .dataframe thead th {\n",
       "        text-align: right;\n",
       "    }\n",
       "</style>\n",
       "<table border=\"1\" class=\"dataframe\">\n",
       "  <thead>\n",
       "    <tr style=\"text-align: right;\">\n",
       "      <th></th>\n",
       "      <th>model</th>\n",
       "      <th>fit_time</th>\n",
       "      <th>score_time</th>\n",
       "      <th>test_accuracy</th>\n",
       "      <th>train_accuracy</th>\n",
       "      <th>test_f1</th>\n",
       "      <th>train_f1</th>\n",
       "    </tr>\n",
       "  </thead>\n",
       "  <tbody>\n",
       "  </tbody>\n",
       "</table>\n",
       "</div>"
      ],
      "text/plain": [
       "Empty DataFrame\n",
       "Columns: [model, fit_time, score_time, test_accuracy, train_accuracy, test_f1, train_f1]\n",
       "Index: []"
      ]
     },
     "execution_count": 45,
     "metadata": {},
     "output_type": "execute_result"
    }
   ],
   "source": [
    "column_names = ['model', 'fit_time', 'score_time', 'test_accuracy', 'train_accuracy', 'test_f1', 'train_f1']\n",
    "scores_df = pd.DataFrame(columns = column_names)\n",
    "\n",
    "scores_df.head()"
   ]
  },
  {
   "cell_type": "markdown",
   "id": "35dcb8f8",
   "metadata": {
    "ExecuteTime": {
     "end_time": "2021-05-25T15:55:53.596992Z",
     "start_time": "2021-05-25T15:55:53.555448Z"
    }
   },
   "source": [
    "Vom renunta la coloanele de tip text"
   ]
  },
  {
   "cell_type": "code",
   "execution_count": 46,
   "id": "015ae7f4",
   "metadata": {
    "ExecuteTime": {
     "end_time": "2021-05-26T10:41:25.785090Z",
     "start_time": "2021-05-26T10:41:25.692304Z"
    }
   },
   "outputs": [
    {
     "data": {
      "text/html": [
       "<div>\n",
       "<style scoped>\n",
       "    .dataframe tbody tr th:only-of-type {\n",
       "        vertical-align: middle;\n",
       "    }\n",
       "\n",
       "    .dataframe tbody tr th {\n",
       "        vertical-align: top;\n",
       "    }\n",
       "\n",
       "    .dataframe thead th {\n",
       "        text-align: right;\n",
       "    }\n",
       "</style>\n",
       "<table border=\"1\" class=\"dataframe\">\n",
       "  <thead>\n",
       "    <tr style=\"text-align: right;\">\n",
       "      <th></th>\n",
       "      <th>Length</th>\n",
       "      <th>008704050406</th>\n",
       "      <th>0089my</th>\n",
       "      <th>0121</th>\n",
       "      <th>01223585334</th>\n",
       "      <th>020603</th>\n",
       "      <th>0207</th>\n",
       "      <th>02070836089</th>\n",
       "      <th>02085076972</th>\n",
       "      <th>020903</th>\n",
       "      <th>...</th>\n",
       "      <th>yupz</th>\n",
       "      <th>ywhere</th>\n",
       "      <th>zac</th>\n",
       "      <th>zahers</th>\n",
       "      <th>zealand</th>\n",
       "      <th>zed</th>\n",
       "      <th>zoe</th>\n",
       "      <th>zogtorius</th>\n",
       "      <th>üll</th>\n",
       "      <th>〨ud</th>\n",
       "    </tr>\n",
       "  </thead>\n",
       "  <tbody>\n",
       "    <tr>\n",
       "      <th>0</th>\n",
       "      <td>142</td>\n",
       "      <td>0.0</td>\n",
       "      <td>0.0</td>\n",
       "      <td>0.0</td>\n",
       "      <td>0.0</td>\n",
       "      <td>0.0</td>\n",
       "      <td>0.0</td>\n",
       "      <td>0.0</td>\n",
       "      <td>0.0</td>\n",
       "      <td>0.0</td>\n",
       "      <td>...</td>\n",
       "      <td>0.0</td>\n",
       "      <td>0.0</td>\n",
       "      <td>0.0</td>\n",
       "      <td>0.0</td>\n",
       "      <td>0.0</td>\n",
       "      <td>0.0</td>\n",
       "      <td>0.0</td>\n",
       "      <td>0.0</td>\n",
       "      <td>0.0</td>\n",
       "      <td>0.0</td>\n",
       "    </tr>\n",
       "    <tr>\n",
       "      <th>1</th>\n",
       "      <td>31</td>\n",
       "      <td>0.0</td>\n",
       "      <td>0.0</td>\n",
       "      <td>0.0</td>\n",
       "      <td>0.0</td>\n",
       "      <td>0.0</td>\n",
       "      <td>0.0</td>\n",
       "      <td>0.0</td>\n",
       "      <td>0.0</td>\n",
       "      <td>0.0</td>\n",
       "      <td>...</td>\n",
       "      <td>0.0</td>\n",
       "      <td>0.0</td>\n",
       "      <td>0.0</td>\n",
       "      <td>0.0</td>\n",
       "      <td>0.0</td>\n",
       "      <td>0.0</td>\n",
       "      <td>0.0</td>\n",
       "      <td>0.0</td>\n",
       "      <td>0.0</td>\n",
       "      <td>0.0</td>\n",
       "    </tr>\n",
       "    <tr>\n",
       "      <th>2</th>\n",
       "      <td>30</td>\n",
       "      <td>0.0</td>\n",
       "      <td>0.0</td>\n",
       "      <td>0.0</td>\n",
       "      <td>0.0</td>\n",
       "      <td>0.0</td>\n",
       "      <td>0.0</td>\n",
       "      <td>0.0</td>\n",
       "      <td>0.0</td>\n",
       "      <td>0.0</td>\n",
       "      <td>...</td>\n",
       "      <td>0.0</td>\n",
       "      <td>0.0</td>\n",
       "      <td>0.0</td>\n",
       "      <td>0.0</td>\n",
       "      <td>0.0</td>\n",
       "      <td>0.0</td>\n",
       "      <td>0.0</td>\n",
       "      <td>0.0</td>\n",
       "      <td>0.0</td>\n",
       "      <td>0.0</td>\n",
       "    </tr>\n",
       "    <tr>\n",
       "      <th>3</th>\n",
       "      <td>28</td>\n",
       "      <td>0.0</td>\n",
       "      <td>0.0</td>\n",
       "      <td>0.0</td>\n",
       "      <td>0.0</td>\n",
       "      <td>0.0</td>\n",
       "      <td>0.0</td>\n",
       "      <td>0.0</td>\n",
       "      <td>0.0</td>\n",
       "      <td>0.0</td>\n",
       "      <td>...</td>\n",
       "      <td>0.0</td>\n",
       "      <td>0.0</td>\n",
       "      <td>0.0</td>\n",
       "      <td>0.0</td>\n",
       "      <td>0.0</td>\n",
       "      <td>0.0</td>\n",
       "      <td>0.0</td>\n",
       "      <td>0.0</td>\n",
       "      <td>0.0</td>\n",
       "      <td>0.0</td>\n",
       "    </tr>\n",
       "    <tr>\n",
       "      <th>4</th>\n",
       "      <td>118</td>\n",
       "      <td>0.0</td>\n",
       "      <td>0.0</td>\n",
       "      <td>0.0</td>\n",
       "      <td>0.0</td>\n",
       "      <td>0.0</td>\n",
       "      <td>0.0</td>\n",
       "      <td>0.0</td>\n",
       "      <td>0.0</td>\n",
       "      <td>0.0</td>\n",
       "      <td>...</td>\n",
       "      <td>0.0</td>\n",
       "      <td>0.0</td>\n",
       "      <td>0.0</td>\n",
       "      <td>0.0</td>\n",
       "      <td>0.0</td>\n",
       "      <td>0.0</td>\n",
       "      <td>0.0</td>\n",
       "      <td>0.0</td>\n",
       "      <td>0.0</td>\n",
       "      <td>0.0</td>\n",
       "    </tr>\n",
       "    <tr>\n",
       "      <th>...</th>\n",
       "      <td>...</td>\n",
       "      <td>...</td>\n",
       "      <td>...</td>\n",
       "      <td>...</td>\n",
       "      <td>...</td>\n",
       "      <td>...</td>\n",
       "      <td>...</td>\n",
       "      <td>...</td>\n",
       "      <td>...</td>\n",
       "      <td>...</td>\n",
       "      <td>...</td>\n",
       "      <td>...</td>\n",
       "      <td>...</td>\n",
       "      <td>...</td>\n",
       "      <td>...</td>\n",
       "      <td>...</td>\n",
       "      <td>...</td>\n",
       "      <td>...</td>\n",
       "      <td>...</td>\n",
       "      <td>...</td>\n",
       "      <td>...</td>\n",
       "    </tr>\n",
       "    <tr>\n",
       "      <th>3728</th>\n",
       "      <td>35</td>\n",
       "      <td>0.0</td>\n",
       "      <td>0.0</td>\n",
       "      <td>0.0</td>\n",
       "      <td>0.0</td>\n",
       "      <td>0.0</td>\n",
       "      <td>0.0</td>\n",
       "      <td>0.0</td>\n",
       "      <td>0.0</td>\n",
       "      <td>0.0</td>\n",
       "      <td>...</td>\n",
       "      <td>0.0</td>\n",
       "      <td>0.0</td>\n",
       "      <td>0.0</td>\n",
       "      <td>0.0</td>\n",
       "      <td>0.0</td>\n",
       "      <td>0.0</td>\n",
       "      <td>0.0</td>\n",
       "      <td>0.0</td>\n",
       "      <td>0.0</td>\n",
       "      <td>0.0</td>\n",
       "    </tr>\n",
       "    <tr>\n",
       "      <th>3729</th>\n",
       "      <td>30</td>\n",
       "      <td>0.0</td>\n",
       "      <td>0.0</td>\n",
       "      <td>0.0</td>\n",
       "      <td>0.0</td>\n",
       "      <td>0.0</td>\n",
       "      <td>0.0</td>\n",
       "      <td>0.0</td>\n",
       "      <td>0.0</td>\n",
       "      <td>0.0</td>\n",
       "      <td>...</td>\n",
       "      <td>0.0</td>\n",
       "      <td>0.0</td>\n",
       "      <td>0.0</td>\n",
       "      <td>0.0</td>\n",
       "      <td>0.0</td>\n",
       "      <td>0.0</td>\n",
       "      <td>0.0</td>\n",
       "      <td>0.0</td>\n",
       "      <td>0.0</td>\n",
       "      <td>0.0</td>\n",
       "    </tr>\n",
       "    <tr>\n",
       "      <th>3730</th>\n",
       "      <td>159</td>\n",
       "      <td>0.0</td>\n",
       "      <td>0.0</td>\n",
       "      <td>0.0</td>\n",
       "      <td>0.0</td>\n",
       "      <td>0.0</td>\n",
       "      <td>0.0</td>\n",
       "      <td>0.0</td>\n",
       "      <td>0.0</td>\n",
       "      <td>0.0</td>\n",
       "      <td>...</td>\n",
       "      <td>0.0</td>\n",
       "      <td>0.0</td>\n",
       "      <td>0.0</td>\n",
       "      <td>0.0</td>\n",
       "      <td>0.0</td>\n",
       "      <td>0.0</td>\n",
       "      <td>0.0</td>\n",
       "      <td>0.0</td>\n",
       "      <td>0.0</td>\n",
       "      <td>0.0</td>\n",
       "    </tr>\n",
       "    <tr>\n",
       "      <th>3731</th>\n",
       "      <td>37</td>\n",
       "      <td>0.0</td>\n",
       "      <td>0.0</td>\n",
       "      <td>0.0</td>\n",
       "      <td>0.0</td>\n",
       "      <td>0.0</td>\n",
       "      <td>0.0</td>\n",
       "      <td>0.0</td>\n",
       "      <td>0.0</td>\n",
       "      <td>0.0</td>\n",
       "      <td>...</td>\n",
       "      <td>0.0</td>\n",
       "      <td>0.0</td>\n",
       "      <td>0.0</td>\n",
       "      <td>0.0</td>\n",
       "      <td>0.0</td>\n",
       "      <td>0.0</td>\n",
       "      <td>0.0</td>\n",
       "      <td>0.0</td>\n",
       "      <td>0.0</td>\n",
       "      <td>0.0</td>\n",
       "    </tr>\n",
       "    <tr>\n",
       "      <th>3732</th>\n",
       "      <td>24</td>\n",
       "      <td>0.0</td>\n",
       "      <td>0.0</td>\n",
       "      <td>0.0</td>\n",
       "      <td>0.0</td>\n",
       "      <td>0.0</td>\n",
       "      <td>0.0</td>\n",
       "      <td>0.0</td>\n",
       "      <td>0.0</td>\n",
       "      <td>0.0</td>\n",
       "      <td>...</td>\n",
       "      <td>0.0</td>\n",
       "      <td>0.0</td>\n",
       "      <td>0.0</td>\n",
       "      <td>0.0</td>\n",
       "      <td>0.0</td>\n",
       "      <td>0.0</td>\n",
       "      <td>0.0</td>\n",
       "      <td>0.0</td>\n",
       "      <td>0.0</td>\n",
       "      <td>0.0</td>\n",
       "    </tr>\n",
       "  </tbody>\n",
       "</table>\n",
       "<p>3733 rows × 7484 columns</p>\n",
       "</div>"
      ],
      "text/plain": [
       "      Length  008704050406  0089my  0121  01223585334  020603  0207  \\\n",
       "0        142           0.0     0.0   0.0          0.0     0.0   0.0   \n",
       "1         31           0.0     0.0   0.0          0.0     0.0   0.0   \n",
       "2         30           0.0     0.0   0.0          0.0     0.0   0.0   \n",
       "3         28           0.0     0.0   0.0          0.0     0.0   0.0   \n",
       "4        118           0.0     0.0   0.0          0.0     0.0   0.0   \n",
       "...      ...           ...     ...   ...          ...     ...   ...   \n",
       "3728      35           0.0     0.0   0.0          0.0     0.0   0.0   \n",
       "3729      30           0.0     0.0   0.0          0.0     0.0   0.0   \n",
       "3730     159           0.0     0.0   0.0          0.0     0.0   0.0   \n",
       "3731      37           0.0     0.0   0.0          0.0     0.0   0.0   \n",
       "3732      24           0.0     0.0   0.0          0.0     0.0   0.0   \n",
       "\n",
       "      02070836089  02085076972  020903  ...  yupz  ywhere  zac  zahers  \\\n",
       "0             0.0          0.0     0.0  ...   0.0     0.0  0.0     0.0   \n",
       "1             0.0          0.0     0.0  ...   0.0     0.0  0.0     0.0   \n",
       "2             0.0          0.0     0.0  ...   0.0     0.0  0.0     0.0   \n",
       "3             0.0          0.0     0.0  ...   0.0     0.0  0.0     0.0   \n",
       "4             0.0          0.0     0.0  ...   0.0     0.0  0.0     0.0   \n",
       "...           ...          ...     ...  ...   ...     ...  ...     ...   \n",
       "3728          0.0          0.0     0.0  ...   0.0     0.0  0.0     0.0   \n",
       "3729          0.0          0.0     0.0  ...   0.0     0.0  0.0     0.0   \n",
       "3730          0.0          0.0     0.0  ...   0.0     0.0  0.0     0.0   \n",
       "3731          0.0          0.0     0.0  ...   0.0     0.0  0.0     0.0   \n",
       "3732          0.0          0.0     0.0  ...   0.0     0.0  0.0     0.0   \n",
       "\n",
       "      zealand  zed  zoe  zogtorius  üll  〨ud  \n",
       "0         0.0  0.0  0.0        0.0  0.0  0.0  \n",
       "1         0.0  0.0  0.0        0.0  0.0  0.0  \n",
       "2         0.0  0.0  0.0        0.0  0.0  0.0  \n",
       "3         0.0  0.0  0.0        0.0  0.0  0.0  \n",
       "4         0.0  0.0  0.0        0.0  0.0  0.0  \n",
       "...       ...  ...  ...        ...  ...  ...  \n",
       "3728      0.0  0.0  0.0        0.0  0.0  0.0  \n",
       "3729      0.0  0.0  0.0        0.0  0.0  0.0  \n",
       "3730      0.0  0.0  0.0        0.0  0.0  0.0  \n",
       "3731      0.0  0.0  0.0        0.0  0.0  0.0  \n",
       "3732      0.0  0.0  0.0        0.0  0.0  0.0  \n",
       "\n",
       "[3733 rows x 7484 columns]"
      ]
     },
     "execution_count": 46,
     "metadata": {},
     "output_type": "execute_result"
    }
   ],
   "source": [
    "cleaned_train = cleaned_train.drop(columns = ['Class', 'Message'])\n",
    "cleaned_train"
   ]
  },
  {
   "cell_type": "markdown",
   "id": "1dff1ad5",
   "metadata": {
    "ExecuteTime": {
     "end_time": "2021-05-25T16:23:31.371914Z",
     "start_time": "2021-05-25T16:23:31.361836Z"
    }
   },
   "source": [
    "#### LogisticRegression"
   ]
  },
  {
   "cell_type": "code",
   "execution_count": 47,
   "id": "e8203558",
   "metadata": {
    "ExecuteTime": {
     "end_time": "2021-05-26T10:41:25.801039Z",
     "start_time": "2021-05-26T10:41:25.786055Z"
    }
   },
   "outputs": [],
   "source": [
    "from sklearn.linear_model import LogisticRegression\n",
    "from sklearn.model_selection import cross_validate, GridSearchCV, RandomizedSearchCV"
   ]
  },
  {
   "cell_type": "markdown",
   "id": "e44a9080",
   "metadata": {
    "ExecuteTime": {
     "end_time": "2021-05-25T16:24:17.925430Z",
     "start_time": "2021-05-25T16:24:17.907478Z"
    }
   },
   "source": [
    "Cautarea valorilor optime ale hiperparametrilor folosind RandomizedSearchCV"
   ]
  },
  {
   "cell_type": "code",
   "execution_count": 48,
   "id": "06309f31",
   "metadata": {
    "ExecuteTime": {
     "end_time": "2021-05-26T10:41:55.378889Z",
     "start_time": "2021-05-26T10:41:25.802012Z"
    }
   },
   "outputs": [
    {
     "name": "stdout",
     "output_type": "stream",
     "text": [
      "{'penalty': 'l2', 'C': 10000.0}\n"
     ]
    }
   ],
   "source": [
    "regression = LogisticRegression(solver='liblinear', max_iter=1000)\n",
    "parameter_grid = {'penalty': ['l1', 'l2'], 'C': np.logspace(-4, 4, 20)}\n",
    "random_search = RandomizedSearchCV(estimator=regression, param_distributions=parameter_grid, cv=5, scoring='neg_mean_squared_error')\n",
    "random_search.fit(cleaned_train, y_train)\n",
    "best_parameters = random_search.best_params_\n",
    "\n",
    "print(best_parameters)"
   ]
  },
  {
   "cell_type": "code",
   "execution_count": 49,
   "id": "5c46c12c",
   "metadata": {
    "ExecuteTime": {
     "end_time": "2021-05-26T10:41:58.488680Z",
     "start_time": "2021-05-26T10:41:55.379861Z"
    }
   },
   "outputs": [
    {
     "data": {
      "text/html": [
       "<div>\n",
       "<style scoped>\n",
       "    .dataframe tbody tr th:only-of-type {\n",
       "        vertical-align: middle;\n",
       "    }\n",
       "\n",
       "    .dataframe tbody tr th {\n",
       "        vertical-align: top;\n",
       "    }\n",
       "\n",
       "    .dataframe thead th {\n",
       "        text-align: right;\n",
       "    }\n",
       "</style>\n",
       "<table border=\"1\" class=\"dataframe\">\n",
       "  <thead>\n",
       "    <tr style=\"text-align: right;\">\n",
       "      <th></th>\n",
       "      <th>model</th>\n",
       "      <th>fit_time</th>\n",
       "      <th>score_time</th>\n",
       "      <th>test_accuracy</th>\n",
       "      <th>train_accuracy</th>\n",
       "      <th>test_f1</th>\n",
       "      <th>train_f1</th>\n",
       "    </tr>\n",
       "  </thead>\n",
       "  <tbody>\n",
       "    <tr>\n",
       "      <th>0</th>\n",
       "      <td>LogisticRegression</td>\n",
       "      <td>0.433379</td>\n",
       "      <td>0.056057</td>\n",
       "      <td>0.977766</td>\n",
       "      <td>1.0</td>\n",
       "      <td>0.912522</td>\n",
       "      <td>1.0</td>\n",
       "    </tr>\n",
       "  </tbody>\n",
       "</table>\n",
       "</div>"
      ],
      "text/plain": [
       "                model  fit_time score_time test_accuracy train_accuracy  \\\n",
       "0  LogisticRegression  0.433379   0.056057      0.977766            1.0   \n",
       "\n",
       "    test_f1 train_f1  \n",
       "0  0.912522      1.0  "
      ]
     },
     "execution_count": 49,
     "metadata": {},
     "output_type": "execute_result"
    }
   ],
   "source": [
    "tunned_regression = LogisticRegression(**best_parameters, solver='liblinear', max_iter=1000)\n",
    "\n",
    "grid_scores = cross_validate(tunned_regression, cleaned_train, y_train, cv=5, scoring=['accuracy', 'f1'], return_train_score=True)\n",
    "\n",
    "scores = ['LogisticRegression', grid_scores['fit_time'].mean(), grid_scores['score_time'].mean(), grid_scores['test_accuracy'].mean(),\n",
    "         grid_scores['train_accuracy'].mean(), grid_scores['test_f1'].mean(), grid_scores['train_f1'].mean()]\n",
    "\n",
    "for i in range(len(column_names)):\n",
    "    scores_df.loc[0, column_names[i]] = scores[i]\n",
    "\n",
    "scores_df.head()"
   ]
  },
  {
   "cell_type": "markdown",
   "id": "59a733a2",
   "metadata": {
    "ExecuteTime": {
     "end_time": "2021-05-25T16:22:08.830708Z",
     "start_time": "2021-05-25T16:22:08.809641Z"
    }
   },
   "source": [
    "#### DecisionTreeClassifier"
   ]
  },
  {
   "cell_type": "code",
   "execution_count": 50,
   "id": "fca03133",
   "metadata": {
    "ExecuteTime": {
     "end_time": "2021-05-26T10:41:58.536365Z",
     "start_time": "2021-05-26T10:41:58.489677Z"
    }
   },
   "outputs": [],
   "source": [
    "from sklearn.tree import DecisionTreeClassifier"
   ]
  },
  {
   "cell_type": "markdown",
   "id": "c8403cf7",
   "metadata": {},
   "source": [
    "Cautarea valorilor optime ale hiperparametrilor folosind RandomizedSearchCV"
   ]
  },
  {
   "cell_type": "code",
   "execution_count": 51,
   "id": "e1c46bc3",
   "metadata": {
    "ExecuteTime": {
     "end_time": "2021-05-26T10:42:12.222860Z",
     "start_time": "2021-05-26T10:41:58.537411Z"
    }
   },
   "outputs": [
    {
     "name": "stdout",
     "output_type": "stream",
     "text": [
      "{'min_samples_leaf': 1, 'max_features': 7, 'max_depth': 3, 'criterion': 'entropy'}\n"
     ]
    }
   ],
   "source": [
    "classifier = DecisionTreeClassifier()\n",
    "parameter_grid = {'max_depth':[3, None], 'max_features':[1, 2, 4, 5, 7], 'min_samples_leaf':[1, 2, 3, 4, 5, 6], 'criterion':['gini', 'entropy']}\n",
    "    \n",
    "random_search = RandomizedSearchCV(estimator=classifier, param_distributions=parameter_grid, cv=5, scoring='accuracy')\n",
    "random_search.fit(cleaned_train, y_train)\n",
    "best_parameters = random_search.best_params_\n",
    "\n",
    "print(best_parameters)"
   ]
  },
  {
   "cell_type": "code",
   "execution_count": 52,
   "id": "fb7a311c",
   "metadata": {
    "ExecuteTime": {
     "end_time": "2021-05-26T10:42:14.223744Z",
     "start_time": "2021-05-26T10:42:12.224765Z"
    }
   },
   "outputs": [
    {
     "data": {
      "text/html": [
       "<div>\n",
       "<style scoped>\n",
       "    .dataframe tbody tr th:only-of-type {\n",
       "        vertical-align: middle;\n",
       "    }\n",
       "\n",
       "    .dataframe tbody tr th {\n",
       "        vertical-align: top;\n",
       "    }\n",
       "\n",
       "    .dataframe thead th {\n",
       "        text-align: right;\n",
       "    }\n",
       "</style>\n",
       "<table border=\"1\" class=\"dataframe\">\n",
       "  <thead>\n",
       "    <tr style=\"text-align: right;\">\n",
       "      <th></th>\n",
       "      <th>model</th>\n",
       "      <th>fit_time</th>\n",
       "      <th>score_time</th>\n",
       "      <th>test_accuracy</th>\n",
       "      <th>train_accuracy</th>\n",
       "      <th>test_f1</th>\n",
       "      <th>train_f1</th>\n",
       "    </tr>\n",
       "  </thead>\n",
       "  <tbody>\n",
       "    <tr>\n",
       "      <th>0</th>\n",
       "      <td>LogisticRegression</td>\n",
       "      <td>0.433379</td>\n",
       "      <td>0.056057</td>\n",
       "      <td>0.977766</td>\n",
       "      <td>1.0</td>\n",
       "      <td>0.912522</td>\n",
       "      <td>1.0</td>\n",
       "    </tr>\n",
       "    <tr>\n",
       "      <th>1</th>\n",
       "      <td>DecisionTreeClassifier</td>\n",
       "      <td>0.199396</td>\n",
       "      <td>0.058844</td>\n",
       "      <td>0.867398</td>\n",
       "      <td>0.8676</td>\n",
       "      <td>0.027042</td>\n",
       "      <td>0.033201</td>\n",
       "    </tr>\n",
       "  </tbody>\n",
       "</table>\n",
       "</div>"
      ],
      "text/plain": [
       "                    model  fit_time score_time test_accuracy train_accuracy  \\\n",
       "0      LogisticRegression  0.433379   0.056057      0.977766            1.0   \n",
       "1  DecisionTreeClassifier  0.199396   0.058844      0.867398         0.8676   \n",
       "\n",
       "    test_f1  train_f1  \n",
       "0  0.912522       1.0  \n",
       "1  0.027042  0.033201  "
      ]
     },
     "execution_count": 52,
     "metadata": {},
     "output_type": "execute_result"
    }
   ],
   "source": [
    "tunned_classifier = DecisionTreeClassifier(**best_parameters)\n",
    "\n",
    "grid_scores = cross_validate(tunned_classifier, cleaned_train, y_train, cv=5, scoring=['accuracy', 'f1'], return_train_score=True)\n",
    "\n",
    "scores = ['DecisionTreeClassifier', grid_scores['fit_time'].mean(), grid_scores['score_time'].mean(), grid_scores['test_accuracy'].mean(),\n",
    "         grid_scores['train_accuracy'].mean(), grid_scores['test_f1'].mean(), grid_scores['train_f1'].mean()]\n",
    "\n",
    "for i in range(len(column_names)):\n",
    "    scores_df.loc[1, column_names[i]] = scores[i]\n",
    "\n",
    "scores_df.head()"
   ]
  },
  {
   "cell_type": "markdown",
   "id": "ae2c6b62",
   "metadata": {},
   "source": [
    "#### KNeighborsClassifier"
   ]
  },
  {
   "cell_type": "code",
   "execution_count": 53,
   "id": "4d4387e2",
   "metadata": {
    "ExecuteTime": {
     "end_time": "2021-05-26T10:42:14.238987Z",
     "start_time": "2021-05-26T10:42:14.224741Z"
    }
   },
   "outputs": [],
   "source": [
    "from sklearn.neighbors import KNeighborsClassifier"
   ]
  },
  {
   "cell_type": "code",
   "execution_count": 54,
   "id": "05ecb56a",
   "metadata": {
    "ExecuteTime": {
     "end_time": "2021-05-26T10:44:36.864995Z",
     "start_time": "2021-05-26T10:42:14.240019Z"
    }
   },
   "outputs": [
    {
     "name": "stdout",
     "output_type": "stream",
     "text": [
      "{'p': 2, 'n_neighbors': 3}\n"
     ]
    }
   ],
   "source": [
    "classifier = KNeighborsClassifier()\n",
    "parameter_grid = {'n_neighbors': list(range(1,10)), 'p': [1, 2]}\n",
    "\n",
    "random_search = RandomizedSearchCV(estimator=classifier, param_distributions=parameter_grid, cv=5, scoring='accuracy', n_jobs=-1)\n",
    "random_search.fit(cleaned_train, y_train)\n",
    "best_parameters = random_search.best_params_\n",
    "\n",
    "print(best_parameters)"
   ]
  },
  {
   "cell_type": "code",
   "execution_count": 55,
   "id": "39ca651e",
   "metadata": {
    "ExecuteTime": {
     "end_time": "2021-05-26T10:44:39.005452Z",
     "start_time": "2021-05-26T10:44:36.865964Z"
    }
   },
   "outputs": [
    {
     "data": {
      "text/html": [
       "<div>\n",
       "<style scoped>\n",
       "    .dataframe tbody tr th:only-of-type {\n",
       "        vertical-align: middle;\n",
       "    }\n",
       "\n",
       "    .dataframe tbody tr th {\n",
       "        vertical-align: top;\n",
       "    }\n",
       "\n",
       "    .dataframe thead th {\n",
       "        text-align: right;\n",
       "    }\n",
       "</style>\n",
       "<table border=\"1\" class=\"dataframe\">\n",
       "  <thead>\n",
       "    <tr style=\"text-align: right;\">\n",
       "      <th></th>\n",
       "      <th>model</th>\n",
       "      <th>fit_time</th>\n",
       "      <th>score_time</th>\n",
       "      <th>test_accuracy</th>\n",
       "      <th>train_accuracy</th>\n",
       "      <th>test_f1</th>\n",
       "      <th>train_f1</th>\n",
       "    </tr>\n",
       "  </thead>\n",
       "  <tbody>\n",
       "    <tr>\n",
       "      <th>0</th>\n",
       "      <td>LogisticRegression</td>\n",
       "      <td>0.433379</td>\n",
       "      <td>0.056057</td>\n",
       "      <td>0.977766</td>\n",
       "      <td>1.0</td>\n",
       "      <td>0.912522</td>\n",
       "      <td>1.0</td>\n",
       "    </tr>\n",
       "    <tr>\n",
       "      <th>1</th>\n",
       "      <td>DecisionTreeClassifier</td>\n",
       "      <td>0.199396</td>\n",
       "      <td>0.058844</td>\n",
       "      <td>0.867398</td>\n",
       "      <td>0.8676</td>\n",
       "      <td>0.027042</td>\n",
       "      <td>0.033201</td>\n",
       "    </tr>\n",
       "    <tr>\n",
       "      <th>2</th>\n",
       "      <td>KNeighborsClassifier</td>\n",
       "      <td>0.221749</td>\n",
       "      <td>0.06244</td>\n",
       "      <td>0.869813</td>\n",
       "      <td>0.868671</td>\n",
       "      <td>0.058661</td>\n",
       "      <td>0.046788</td>\n",
       "    </tr>\n",
       "  </tbody>\n",
       "</table>\n",
       "</div>"
      ],
      "text/plain": [
       "                    model  fit_time score_time test_accuracy train_accuracy  \\\n",
       "0      LogisticRegression  0.433379   0.056057      0.977766            1.0   \n",
       "1  DecisionTreeClassifier  0.199396   0.058844      0.867398         0.8676   \n",
       "2    KNeighborsClassifier  0.221749    0.06244      0.869813       0.868671   \n",
       "\n",
       "    test_f1  train_f1  \n",
       "0  0.912522       1.0  \n",
       "1  0.027042  0.033201  \n",
       "2  0.058661  0.046788  "
      ]
     },
     "execution_count": 55,
     "metadata": {},
     "output_type": "execute_result"
    }
   ],
   "source": [
    "tunned_classifer = KNeighborsClassifier(**best_parameters)\n",
    "\n",
    "grid_scores = cross_validate(tunned_classifier, cleaned_train, y_train, cv=5, scoring=['accuracy', 'f1'], return_train_score=True)\n",
    "\n",
    "scores = ['KNeighborsClassifier', grid_scores['fit_time'].mean(), grid_scores['score_time'].mean(), grid_scores['test_accuracy'].mean(),\n",
    "         grid_scores['train_accuracy'].mean(), grid_scores['test_f1'].mean(), grid_scores['train_f1'].mean()]\n",
    "\n",
    "for i in range(len(column_names)):\n",
    "    scores_df.loc[2, column_names[i]] = scores[i]\n",
    "\n",
    "scores_df.head()"
   ]
  },
  {
   "cell_type": "markdown",
   "id": "a8367f89",
   "metadata": {},
   "source": [
    "#### MLP Classifier"
   ]
  },
  {
   "cell_type": "code",
   "execution_count": 56,
   "id": "f359b5f9",
   "metadata": {
    "ExecuteTime": {
     "end_time": "2021-05-26T10:44:39.020409Z",
     "start_time": "2021-05-26T10:44:39.006413Z"
    }
   },
   "outputs": [],
   "source": [
    "from sklearn.neural_network import MLPClassifier"
   ]
  },
  {
   "cell_type": "code",
   "execution_count": 57,
   "id": "51686c39",
   "metadata": {
    "ExecuteTime": {
     "end_time": "2021-05-26T11:02:09.425471Z",
     "start_time": "2021-05-26T10:44:39.021373Z"
    }
   },
   "outputs": [
    {
     "name": "stdout",
     "output_type": "stream",
     "text": [
      "{'solver': 'adam', 'learning_rate': 'constant', 'hidden_layer_sizes': (50, 100, 50), 'alpha': 0.0001, 'activation': 'relu'}\n"
     ]
    }
   ],
   "source": [
    "classifier = MLPClassifier(max_iter=100)\n",
    "parameter_grid = {'hidden_layer_sizes': [(50,50,50), (50, 100, 50), (100,)], 'activation': ['tanh', 'relu'], 'solver': ['sgd', 'adam'],\n",
    "                 'alpha': [0.0001, 0.05], 'learning_rate': ['constant', 'adaptive']}\n",
    "\n",
    "random_search = RandomizedSearchCV(estimator=classifier, param_distributions=parameter_grid, cv=5, scoring='accuracy', n_jobs=-1)\n",
    "random_search.fit(cleaned_train, y_train)\n",
    "best_parameters = random_search.best_params_\n",
    "\n",
    "print(best_parameters)"
   ]
  },
  {
   "cell_type": "code",
   "execution_count": 58,
   "id": "e4e5164b",
   "metadata": {
    "ExecuteTime": {
     "end_time": "2021-05-26T11:02:11.783169Z",
     "start_time": "2021-05-26T11:02:09.426438Z"
    }
   },
   "outputs": [
    {
     "data": {
      "text/html": [
       "<div>\n",
       "<style scoped>\n",
       "    .dataframe tbody tr th:only-of-type {\n",
       "        vertical-align: middle;\n",
       "    }\n",
       "\n",
       "    .dataframe tbody tr th {\n",
       "        vertical-align: top;\n",
       "    }\n",
       "\n",
       "    .dataframe thead th {\n",
       "        text-align: right;\n",
       "    }\n",
       "</style>\n",
       "<table border=\"1\" class=\"dataframe\">\n",
       "  <thead>\n",
       "    <tr style=\"text-align: right;\">\n",
       "      <th></th>\n",
       "      <th>model</th>\n",
       "      <th>fit_time</th>\n",
       "      <th>score_time</th>\n",
       "      <th>test_accuracy</th>\n",
       "      <th>train_accuracy</th>\n",
       "      <th>test_f1</th>\n",
       "      <th>train_f1</th>\n",
       "    </tr>\n",
       "  </thead>\n",
       "  <tbody>\n",
       "    <tr>\n",
       "      <th>0</th>\n",
       "      <td>LogisticRegression</td>\n",
       "      <td>0.433379</td>\n",
       "      <td>0.056057</td>\n",
       "      <td>0.977766</td>\n",
       "      <td>1.0</td>\n",
       "      <td>0.912522</td>\n",
       "      <td>1.0</td>\n",
       "    </tr>\n",
       "    <tr>\n",
       "      <th>1</th>\n",
       "      <td>DecisionTreeClassifier</td>\n",
       "      <td>0.199396</td>\n",
       "      <td>0.058844</td>\n",
       "      <td>0.867398</td>\n",
       "      <td>0.8676</td>\n",
       "      <td>0.027042</td>\n",
       "      <td>0.033201</td>\n",
       "    </tr>\n",
       "    <tr>\n",
       "      <th>2</th>\n",
       "      <td>KNeighborsClassifier</td>\n",
       "      <td>0.221749</td>\n",
       "      <td>0.06244</td>\n",
       "      <td>0.869813</td>\n",
       "      <td>0.868671</td>\n",
       "      <td>0.058661</td>\n",
       "      <td>0.046788</td>\n",
       "    </tr>\n",
       "    <tr>\n",
       "      <th>3</th>\n",
       "      <td>MLPClassifier</td>\n",
       "      <td>0.242948</td>\n",
       "      <td>0.067025</td>\n",
       "      <td>0.869545</td>\n",
       "      <td>0.868537</td>\n",
       "      <td>0.055997</td>\n",
       "      <td>0.043364</td>\n",
       "    </tr>\n",
       "  </tbody>\n",
       "</table>\n",
       "</div>"
      ],
      "text/plain": [
       "                    model  fit_time score_time test_accuracy train_accuracy  \\\n",
       "0      LogisticRegression  0.433379   0.056057      0.977766            1.0   \n",
       "1  DecisionTreeClassifier  0.199396   0.058844      0.867398         0.8676   \n",
       "2    KNeighborsClassifier  0.221749    0.06244      0.869813       0.868671   \n",
       "3           MLPClassifier  0.242948   0.067025      0.869545       0.868537   \n",
       "\n",
       "    test_f1  train_f1  \n",
       "0  0.912522       1.0  \n",
       "1  0.027042  0.033201  \n",
       "2  0.058661  0.046788  \n",
       "3  0.055997  0.043364  "
      ]
     },
     "execution_count": 58,
     "metadata": {},
     "output_type": "execute_result"
    }
   ],
   "source": [
    "tunned_classifer = MLPClassifier(**best_parameters, max_iter=100)\n",
    "\n",
    "grid_scores = cross_validate(tunned_classifier, cleaned_train, y_train, cv=5, scoring=['accuracy', 'f1'], return_train_score=True)\n",
    "\n",
    "scores = ['MLPClassifier', grid_scores['fit_time'].mean(), grid_scores['score_time'].mean(), grid_scores['test_accuracy'].mean(),\n",
    "         grid_scores['train_accuracy'].mean(), grid_scores['test_f1'].mean(), grid_scores['train_f1'].mean()]\n",
    "\n",
    "for i in range(len(column_names)):\n",
    "    scores_df.loc[3, column_names[i]] = scores[i]\n",
    "\n",
    "scores_df.head()"
   ]
  },
  {
   "cell_type": "markdown",
   "id": "ef45d277",
   "metadata": {},
   "source": [
    "Vom exporta un fisier html cu rezultatele:"
   ]
  },
  {
   "cell_type": "code",
   "execution_count": 59,
   "id": "f14da804",
   "metadata": {
    "ExecuteTime": {
     "end_time": "2021-05-26T11:02:11.799091Z",
     "start_time": "2021-05-26T11:02:11.785161Z"
    }
   },
   "outputs": [],
   "source": [
    "html = scores_df.to_html()\n",
    "file = open(\"output/SMSSpamCollection_DataSet.html\", \"w\")\n",
    "file.write(html)\n",
    "file.close()"
   ]
  },
  {
   "cell_type": "markdown",
   "id": "0def4339",
   "metadata": {},
   "source": [
    "## Setul de date `FarmAds`"
   ]
  },
  {
   "cell_type": "markdown",
   "id": "711b1d3a",
   "metadata": {},
   "source": [
    "### Descrierea setului de date"
   ]
  },
  {
   "cell_type": "markdown",
   "id": "fd7a4d31",
   "metadata": {},
   "source": [
    "Aceste date au fost colectate din reclame de tip text gasite pe 12 website-uri care au diferite teme legate de animalele de la ferma. Au fost incluse informatii despre creatorii reclamei si despre pagina unde reclama se afla. Etichetele sunt bazate pe acceptul sau refuzul proprietarului asupra reclamei astfel: 1 este eticheta pentru reclamele acceptate si -1 este eticheta pentru reclamele respinse.\n",
    "\n",
    "Pentru fiecare reclama, includem cuvintele de la crearea reclamei si cuvintele de pe pagina destinatie. Fiecarui cuvant din partea de creatie ii este atribuit un prefix 'ad-'. Fiecare reclama este pe o linie in fisierul de intrare. Primul cuvant de pe linie este reprezentat de eticheta reclamei.\n",
    "\n",
    "Setul de date este deja standardizat, fiind efectuate deja stop word removal si stemming. \n",
    "\n",
    "De asemenea, exista si o reprezentare bag-of-words in fisierele de intrare. Prima valoare este eticheta, urmata de fiecare atribut nonzero. Toate aceste atribute sunt codate dupa tipul (index:valoare). Totusi, noi vom porni de la fisierul initial si vom incerca sa facem noi toti pasii necesari pentru clasificare."
   ]
  },
  {
   "cell_type": "markdown",
   "id": "23dcad7a",
   "metadata": {},
   "source": [
    "### Analiza exploratorie a setului de date"
   ]
  },
  {
   "cell_type": "code",
   "execution_count": 60,
   "id": "9e47bc81",
   "metadata": {
    "ExecuteTime": {
     "end_time": "2021-05-26T11:02:11.815073Z",
     "start_time": "2021-05-26T11:02:11.800090Z"
    }
   },
   "outputs": [],
   "source": [
    "def read_file(path):\n",
    "    file = open(path, \"r\")\n",
    "    lines = file.read().splitlines()\n",
    "    \n",
    "    words = [lines[i].split() for i in range(len(lines))]\n",
    "    \n",
    "    clase = [int(words[i][0]) for i in range(len(words))]\n",
    "    ads = [' '.join(words[i][1:]) for i in range(len(words))]\n",
    "    \n",
    "    data = pd.DataFrame(columns = ['Label', 'Ad'])\n",
    "    data['Label'] = clase\n",
    "    data['Ad'] = ads\n",
    "    \n",
    "    return data"
   ]
  },
  {
   "cell_type": "code",
   "execution_count": 61,
   "id": "85828839",
   "metadata": {
    "ExecuteTime": {
     "end_time": "2021-05-26T11:02:12.145165Z",
     "start_time": "2021-05-26T11:02:11.816045Z"
    }
   },
   "outputs": [
    {
     "data": {
      "text/html": [
       "<div>\n",
       "<style scoped>\n",
       "    .dataframe tbody tr th:only-of-type {\n",
       "        vertical-align: middle;\n",
       "    }\n",
       "\n",
       "    .dataframe tbody tr th {\n",
       "        vertical-align: top;\n",
       "    }\n",
       "\n",
       "    .dataframe thead th {\n",
       "        text-align: right;\n",
       "    }\n",
       "</style>\n",
       "<table border=\"1\" class=\"dataframe\">\n",
       "  <thead>\n",
       "    <tr style=\"text-align: right;\">\n",
       "      <th></th>\n",
       "      <th>Label</th>\n",
       "      <th>Ad</th>\n",
       "    </tr>\n",
       "  </thead>\n",
       "  <tbody>\n",
       "    <tr>\n",
       "      <th>0</th>\n",
       "      <td>1</td>\n",
       "      <td>ad-jerry ad-bruckheimer ad-chase ad-premier ad...</td>\n",
       "    </tr>\n",
       "    <tr>\n",
       "      <th>1</th>\n",
       "      <td>-1</td>\n",
       "      <td>ad-rheumatoid ad-arthritis ad-expert ad-tip ad...</td>\n",
       "    </tr>\n",
       "    <tr>\n",
       "      <th>2</th>\n",
       "      <td>-1</td>\n",
       "      <td>ad-rheumatologist ad-anju ad-varghese ad-yonke...</td>\n",
       "    </tr>\n",
       "    <tr>\n",
       "      <th>3</th>\n",
       "      <td>-1</td>\n",
       "      <td>ad-siemen ad-water ad-remediation ad-water ad-...</td>\n",
       "    </tr>\n",
       "    <tr>\n",
       "      <th>4</th>\n",
       "      <td>-1</td>\n",
       "      <td>ad-symptom ad-muscle ad-weakness ad-genetic ad...</td>\n",
       "    </tr>\n",
       "    <tr>\n",
       "      <th>5</th>\n",
       "      <td>1</td>\n",
       "      <td>ad-animal ad-animal ad-wild ad-sa ad-official ...</td>\n",
       "    </tr>\n",
       "    <tr>\n",
       "      <th>6</th>\n",
       "      <td>-1</td>\n",
       "      <td>ad-dr ad-enrico ad-fazzini ad-parkinson ad-dis...</td>\n",
       "    </tr>\n",
       "    <tr>\n",
       "      <th>7</th>\n",
       "      <td>-1</td>\n",
       "      <td>ad-ulcerative ad-colitis ad-uc ad-quiz ad-ulce...</td>\n",
       "    </tr>\n",
       "    <tr>\n",
       "      <th>8</th>\n",
       "      <td>-1</td>\n",
       "      <td>ad-wellcentive ad-registry ad-web ad-base ad-p...</td>\n",
       "    </tr>\n",
       "    <tr>\n",
       "      <th>9</th>\n",
       "      <td>1</td>\n",
       "      <td>ad-free ad-raw ad-food ad-video ad-feature ad-...</td>\n",
       "    </tr>\n",
       "  </tbody>\n",
       "</table>\n",
       "</div>"
      ],
      "text/plain": [
       "   Label                                                 Ad\n",
       "0      1  ad-jerry ad-bruckheimer ad-chase ad-premier ad...\n",
       "1     -1  ad-rheumatoid ad-arthritis ad-expert ad-tip ad...\n",
       "2     -1  ad-rheumatologist ad-anju ad-varghese ad-yonke...\n",
       "3     -1  ad-siemen ad-water ad-remediation ad-water ad-...\n",
       "4     -1  ad-symptom ad-muscle ad-weakness ad-genetic ad...\n",
       "5      1  ad-animal ad-animal ad-wild ad-sa ad-official ...\n",
       "6     -1  ad-dr ad-enrico ad-fazzini ad-parkinson ad-dis...\n",
       "7     -1  ad-ulcerative ad-colitis ad-uc ad-quiz ad-ulce...\n",
       "8     -1  ad-wellcentive ad-registry ad-web ad-base ad-p...\n",
       "9      1  ad-free ad-raw ad-food ad-video ad-feature ad-..."
      ]
     },
     "execution_count": 61,
     "metadata": {},
     "output_type": "execute_result"
    }
   ],
   "source": [
    "data = read_file(\"data/farm-ads\")\n",
    "data.head(10)"
   ]
  },
  {
   "cell_type": "markdown",
   "id": "082cabae",
   "metadata": {},
   "source": [
    "Exemplificam cum arata o `reclama acceptata`:"
   ]
  },
  {
   "cell_type": "code",
   "execution_count": 62,
   "id": "7e15e102",
   "metadata": {
    "ExecuteTime": {
     "end_time": "2021-05-26T11:02:12.161158Z",
     "start_time": "2021-05-26T11:02:12.146163Z"
    }
   },
   "outputs": [
    {
     "data": {
      "text/plain": [
       "'ad-jerry ad-bruckheimer ad-chase ad-premier ad-sept ad-th ad-clip ad-bruckheimer ad-chase page found'"
      ]
     },
     "execution_count": 62,
     "metadata": {},
     "output_type": "execute_result"
    }
   ],
   "source": [
    "data[data['Label'] == 1].iloc[0]['Ad']"
   ]
  },
  {
   "cell_type": "markdown",
   "id": "a9252a6d",
   "metadata": {},
   "source": [
    "Exemplificam, de asemenea cum arata o `reclama refuzata`:"
   ]
  },
  {
   "cell_type": "code",
   "execution_count": 63,
   "id": "9c7df3eb",
   "metadata": {
    "ExecuteTime": {
     "end_time": "2021-05-26T11:02:12.177079Z",
     "start_time": "2021-05-26T11:02:12.162121Z"
    }
   },
   "outputs": [
    {
     "data": {
      "text/plain": [
       "'ad-rheumatoid ad-arthritis ad-expert ad-tip ad-info ad-article ad-treatment ad-option ad-support title-understand title-rheumatoid title-arthritis title-everyday title-health header-understand header-rheumatoid header-arthritis understand rheumatoid arthritis everyday health root root act consumer root content everyday solution understand rheumatoid arthritis future ra treatment advance rheumatoid arthritis treatment expect future lead researcher ra treatment research exercise ra check tip slideshow help create workout program ra fitness tip question doctor print list rheumatoid arthritis question doctor visit list ra question understand rheumatoid arthritis tip manage rheumatoid arthritis pain mak key change help manage rheumatoid arthritis pain ease joint pain strive eat balance diet help healthy weight sufficient vitamin mineral counter chronic inflammation tip ease rheumatoid arthritis pain cause rheumatoid arthritis inflammation rheumatoid arthritis ra symptom cause inflammation learn inflammation lead ra symptom joint pain stiffness plus discover cause rheumatoid arthritis rheumatoid arthritis inflammation rheumatoid arthritis management research rheumatoid arthritis research lifestyle choice day impact ra symptom example people ra experience depression treate depression help people manage ra control ra rheumatoid arthritis expert yoga ra yoga safe exercise option person rheumatoid arthritis read dr susan lee answer root act consumer rheumatoid arthritis poll lifestyle change help manage ra pain please select option eat healthy balance diet muscle strengthen aerobic exercise sleep night try reduce manage stress technique haven lifestyle change toolkit healthy recipe shop list meal planner recipe box tool root act consumer enter search term register sign newsletter home health common condition add adhd addiction allergy alternative health alzheimer disease anxiety disorder arthritis asthma autism autoimmune disorder bipolar disorder pain breast cancer cancer cardiovascular health cold flu dental health depression diabete diet nutrition digestive health dvt emotional health epilepsy erectile dysfunction family health fibromyalgia fitness gerd headache migraine healthy home healthy live heart health cholesterol hiv aid hypertension ib incontinence kid health health menopause multiple sclerosis osteoporosis pain management pet health psoriasis rheumatoid arthritis schizophrenia senior health sexual health skin beauty sleep stop smok stroke swine flu weight women health yeast infection condition drug symptom checker flu checkup abdominal pain arm pain pain body ach breast pain breathing difficulty chest pain congestion cough diarrhea ear pain excessive sweate faintness fatigue fever ga headache irregular period joint pain leg pain mouth lesion nausea neck pain rash rectal bleed skin lump sore throat vaginal itch vomite food fitness calorie counter healthy recipe search recipe diet nutrition weight fitness community profile blog discussion photo albums everyday health health tool bmi calculator bmr calculator body fat calculator brain game conversion calculator glossary glucose tracker meal planner calorie counter photo gallery recipe box symptom checker video weight tracker everyday health edit profile inbox discussion blog friend tool copyright everyday health inc everydayhealth com everyday health inc help ad policy advertise link feedback advertise notice site third party advertisement site collect information visit site website provide advertisement service obtain information advertise practice choice online behavioral advertise please click material web site provide educational purpose medical advice diagnosis treatment additional information site subject term privacy policy site comply honcode standard trustworthy health information verify'"
      ]
     },
     "execution_count": 63,
     "metadata": {},
     "output_type": "execute_result"
    }
   ],
   "source": [
    "data[data['Label'] == -1].iloc[0]['Ad']"
   ]
  },
  {
   "cell_type": "markdown",
   "id": "aca7ba01",
   "metadata": {},
   "source": [
    "Calculam lungimea mesajelor in numar de caractere si adaugam o coloana cu aceasta valoare in dataframe-ul nostru."
   ]
  },
  {
   "cell_type": "code",
   "execution_count": 64,
   "id": "36d7aca6",
   "metadata": {
    "ExecuteTime": {
     "end_time": "2021-05-26T11:02:12.192042Z",
     "start_time": "2021-05-26T11:02:12.178080Z"
    }
   },
   "outputs": [
    {
     "data": {
      "text/html": [
       "<div>\n",
       "<style scoped>\n",
       "    .dataframe tbody tr th:only-of-type {\n",
       "        vertical-align: middle;\n",
       "    }\n",
       "\n",
       "    .dataframe tbody tr th {\n",
       "        vertical-align: top;\n",
       "    }\n",
       "\n",
       "    .dataframe thead th {\n",
       "        text-align: right;\n",
       "    }\n",
       "</style>\n",
       "<table border=\"1\" class=\"dataframe\">\n",
       "  <thead>\n",
       "    <tr style=\"text-align: right;\">\n",
       "      <th></th>\n",
       "      <th>Label</th>\n",
       "      <th>Ad</th>\n",
       "      <th>Char_Length</th>\n",
       "    </tr>\n",
       "  </thead>\n",
       "  <tbody>\n",
       "    <tr>\n",
       "      <th>0</th>\n",
       "      <td>1</td>\n",
       "      <td>ad-jerry ad-bruckheimer ad-chase ad-premier ad...</td>\n",
       "      <td>100</td>\n",
       "    </tr>\n",
       "    <tr>\n",
       "      <th>1</th>\n",
       "      <td>-1</td>\n",
       "      <td>ad-rheumatoid ad-arthritis ad-expert ad-tip ad...</td>\n",
       "      <td>3816</td>\n",
       "    </tr>\n",
       "    <tr>\n",
       "      <th>2</th>\n",
       "      <td>-1</td>\n",
       "      <td>ad-rheumatologist ad-anju ad-varghese ad-yonke...</td>\n",
       "      <td>656</td>\n",
       "    </tr>\n",
       "    <tr>\n",
       "      <th>3</th>\n",
       "      <td>-1</td>\n",
       "      <td>ad-siemen ad-water ad-remediation ad-water ad-...</td>\n",
       "      <td>1316</td>\n",
       "    </tr>\n",
       "    <tr>\n",
       "      <th>4</th>\n",
       "      <td>-1</td>\n",
       "      <td>ad-symptom ad-muscle ad-weakness ad-genetic ad...</td>\n",
       "      <td>106</td>\n",
       "    </tr>\n",
       "    <tr>\n",
       "      <th>...</th>\n",
       "      <td>...</td>\n",
       "      <td>...</td>\n",
       "      <td>...</td>\n",
       "    </tr>\n",
       "    <tr>\n",
       "      <th>4138</th>\n",
       "      <td>-1</td>\n",
       "      <td>ad-affordable ad-ivf ad-cost ad-efficient ad-i...</td>\n",
       "      <td>1617</td>\n",
       "    </tr>\n",
       "    <tr>\n",
       "      <th>4139</th>\n",
       "      <td>1</td>\n",
       "      <td>ad-mozypro ad-business ad-backup ad-affordable...</td>\n",
       "      <td>1524</td>\n",
       "    </tr>\n",
       "    <tr>\n",
       "      <th>4140</th>\n",
       "      <td>1</td>\n",
       "      <td>ad-oster ad-line ad-clipper ad-oster ad-factor...</td>\n",
       "      <td>7462</td>\n",
       "    </tr>\n",
       "    <tr>\n",
       "      <th>4141</th>\n",
       "      <td>-1</td>\n",
       "      <td>ad-synrevoice ad-schoolconnect ad-trust ad-aut...</td>\n",
       "      <td>1374</td>\n",
       "    </tr>\n",
       "    <tr>\n",
       "      <th>4142</th>\n",
       "      <td>1</td>\n",
       "      <td>ad-vet ad-online ad-veterinarian ad-online ad-...</td>\n",
       "      <td>6885</td>\n",
       "    </tr>\n",
       "  </tbody>\n",
       "</table>\n",
       "<p>4143 rows × 3 columns</p>\n",
       "</div>"
      ],
      "text/plain": [
       "      Label                                                 Ad  Char_Length\n",
       "0         1  ad-jerry ad-bruckheimer ad-chase ad-premier ad...          100\n",
       "1        -1  ad-rheumatoid ad-arthritis ad-expert ad-tip ad...         3816\n",
       "2        -1  ad-rheumatologist ad-anju ad-varghese ad-yonke...          656\n",
       "3        -1  ad-siemen ad-water ad-remediation ad-water ad-...         1316\n",
       "4        -1  ad-symptom ad-muscle ad-weakness ad-genetic ad...          106\n",
       "...     ...                                                ...          ...\n",
       "4138     -1  ad-affordable ad-ivf ad-cost ad-efficient ad-i...         1617\n",
       "4139      1  ad-mozypro ad-business ad-backup ad-affordable...         1524\n",
       "4140      1  ad-oster ad-line ad-clipper ad-oster ad-factor...         7462\n",
       "4141     -1  ad-synrevoice ad-schoolconnect ad-trust ad-aut...         1374\n",
       "4142      1  ad-vet ad-online ad-veterinarian ad-online ad-...         6885\n",
       "\n",
       "[4143 rows x 3 columns]"
      ]
     },
     "execution_count": 64,
     "metadata": {},
     "output_type": "execute_result"
    }
   ],
   "source": [
    "data['Char_Length'] = data['Ad'].apply(len)\n",
    "data"
   ]
  },
  {
   "cell_type": "code",
   "execution_count": 65,
   "id": "f2208f5f",
   "metadata": {
    "ExecuteTime": {
     "end_time": "2021-05-26T11:02:12.519197Z",
     "start_time": "2021-05-26T11:02:12.193073Z"
    }
   },
   "outputs": [
    {
     "data": {
      "image/png": "[encoded data removed]",
      "text/plain": [
       "<Figure size 1080x576 with 1 Axes>"
      ]
     },
     "metadata": {},
     "output_type": "display_data"
    }
   ],
   "source": [
    "plt.figure(figsize=(15, 8))\n",
    "good_length = data[data['Label'] == 1][['Label', 'Char_Length']]\n",
    "bad_length = data[data['Label'] == -1][['Label', 'Char_Length']]\n",
    "ax = sns.distplot(good_length, hist=False, label = 'Accepted')\n",
    "ax = sns.distplot(bad_length, hist=False, label = 'Rejected')\n",
    "plt.xlim(0,15000)\n",
    "plt.title('Distribution of Ad Character Count between Accepted vs. Rejected')\n",
    "sns.set(font_scale=1.3)\n",
    "plt.legend()\n",
    "ax.set_ylabel('Distribution')\n",
    "ax.set_xlabel('Char Lenght of Ad');"
   ]
  },
  {
   "cell_type": "markdown",
   "id": "1a3e8ccb",
   "metadata": {},
   "source": [
    "Afisam date despre reclamele acceptate:"
   ]
  },
  {
   "cell_type": "code",
   "execution_count": 66,
   "id": "14e8247d",
   "metadata": {
    "ExecuteTime": {
     "end_time": "2021-05-26T11:02:12.549084Z",
     "start_time": "2021-05-26T11:02:12.520163Z"
    }
   },
   "outputs": [
    {
     "data": {
      "text/html": [
       "<div>\n",
       "<style scoped>\n",
       "    .dataframe tbody tr th:only-of-type {\n",
       "        vertical-align: middle;\n",
       "    }\n",
       "\n",
       "    .dataframe tbody tr th {\n",
       "        vertical-align: top;\n",
       "    }\n",
       "\n",
       "    .dataframe thead th {\n",
       "        text-align: right;\n",
       "    }\n",
       "</style>\n",
       "<table border=\"1\" class=\"dataframe\">\n",
       "  <thead>\n",
       "    <tr style=\"text-align: right;\">\n",
       "      <th></th>\n",
       "      <th>Label</th>\n",
       "      <th>Char_Length</th>\n",
       "    </tr>\n",
       "  </thead>\n",
       "  <tbody>\n",
       "    <tr>\n",
       "      <th>count</th>\n",
       "      <td>2210.0</td>\n",
       "      <td>2210.000000</td>\n",
       "    </tr>\n",
       "    <tr>\n",
       "      <th>mean</th>\n",
       "      <td>1.0</td>\n",
       "      <td>3483.166968</td>\n",
       "    </tr>\n",
       "    <tr>\n",
       "      <th>std</th>\n",
       "      <td>0.0</td>\n",
       "      <td>5608.191154</td>\n",
       "    </tr>\n",
       "    <tr>\n",
       "      <th>min</th>\n",
       "      <td>1.0</td>\n",
       "      <td>31.000000</td>\n",
       "    </tr>\n",
       "    <tr>\n",
       "      <th>25%</th>\n",
       "      <td>1.0</td>\n",
       "      <td>833.250000</td>\n",
       "    </tr>\n",
       "    <tr>\n",
       "      <th>50%</th>\n",
       "      <td>1.0</td>\n",
       "      <td>2049.000000</td>\n",
       "    </tr>\n",
       "    <tr>\n",
       "      <th>75%</th>\n",
       "      <td>1.0</td>\n",
       "      <td>4110.000000</td>\n",
       "    </tr>\n",
       "    <tr>\n",
       "      <th>max</th>\n",
       "      <td>1.0</td>\n",
       "      <td>54314.000000</td>\n",
       "    </tr>\n",
       "  </tbody>\n",
       "</table>\n",
       "</div>"
      ],
      "text/plain": [
       "        Label   Char_Length\n",
       "count  2210.0   2210.000000\n",
       "mean      1.0   3483.166968\n",
       "std       0.0   5608.191154\n",
       "min       1.0     31.000000\n",
       "25%       1.0    833.250000\n",
       "50%       1.0   2049.000000\n",
       "75%       1.0   4110.000000\n",
       "max       1.0  54314.000000"
      ]
     },
     "execution_count": 66,
     "metadata": {},
     "output_type": "execute_result"
    }
   ],
   "source": [
    "data[data['Label'] == 1].describe()"
   ]
  },
  {
   "cell_type": "markdown",
   "id": "f16fcf57",
   "metadata": {},
   "source": [
    "Afisam, de asemenea, date despre reclamele refuzate:"
   ]
  },
  {
   "cell_type": "code",
   "execution_count": 67,
   "id": "f6a08413",
   "metadata": {
    "ExecuteTime": {
     "end_time": "2021-05-26T11:02:12.564044Z",
     "start_time": "2021-05-26T11:02:12.550082Z"
    }
   },
   "outputs": [
    {
     "data": {
      "text/html": [
       "<div>\n",
       "<style scoped>\n",
       "    .dataframe tbody tr th:only-of-type {\n",
       "        vertical-align: middle;\n",
       "    }\n",
       "\n",
       "    .dataframe tbody tr th {\n",
       "        vertical-align: top;\n",
       "    }\n",
       "\n",
       "    .dataframe thead th {\n",
       "        text-align: right;\n",
       "    }\n",
       "</style>\n",
       "<table border=\"1\" class=\"dataframe\">\n",
       "  <thead>\n",
       "    <tr style=\"text-align: right;\">\n",
       "      <th></th>\n",
       "      <th>Label</th>\n",
       "      <th>Char_Length</th>\n",
       "    </tr>\n",
       "  </thead>\n",
       "  <tbody>\n",
       "    <tr>\n",
       "      <th>count</th>\n",
       "      <td>1933.0</td>\n",
       "      <td>1933.000000</td>\n",
       "    </tr>\n",
       "    <tr>\n",
       "      <th>mean</th>\n",
       "      <td>-1.0</td>\n",
       "      <td>2918.441800</td>\n",
       "    </tr>\n",
       "    <tr>\n",
       "      <th>std</th>\n",
       "      <td>0.0</td>\n",
       "      <td>3756.327081</td>\n",
       "    </tr>\n",
       "    <tr>\n",
       "      <th>min</th>\n",
       "      <td>-1.0</td>\n",
       "      <td>34.000000</td>\n",
       "    </tr>\n",
       "    <tr>\n",
       "      <th>25%</th>\n",
       "      <td>-1.0</td>\n",
       "      <td>1128.000000</td>\n",
       "    </tr>\n",
       "    <tr>\n",
       "      <th>50%</th>\n",
       "      <td>-1.0</td>\n",
       "      <td>2129.000000</td>\n",
       "    </tr>\n",
       "    <tr>\n",
       "      <th>75%</th>\n",
       "      <td>-1.0</td>\n",
       "      <td>3538.000000</td>\n",
       "    </tr>\n",
       "    <tr>\n",
       "      <th>max</th>\n",
       "      <td>-1.0</td>\n",
       "      <td>63195.000000</td>\n",
       "    </tr>\n",
       "  </tbody>\n",
       "</table>\n",
       "</div>"
      ],
      "text/plain": [
       "        Label   Char_Length\n",
       "count  1933.0   1933.000000\n",
       "mean     -1.0   2918.441800\n",
       "std       0.0   3756.327081\n",
       "min      -1.0     34.000000\n",
       "25%      -1.0   1128.000000\n",
       "50%      -1.0   2129.000000\n",
       "75%      -1.0   3538.000000\n",
       "max      -1.0  63195.000000"
      ]
     },
     "execution_count": 67,
     "metadata": {},
     "output_type": "execute_result"
    }
   ],
   "source": [
    "data[data['Label'] == -1].describe()"
   ]
  },
  {
   "cell_type": "markdown",
   "id": "156a7bb0",
   "metadata": {},
   "source": [
    "Observam ca numarul de caractere este destul de asemanator pentru ambele tipuri de reclame. Vom vedea acum si numarul de cuvinte in functie de tipul reclamei."
   ]
  },
  {
   "cell_type": "code",
   "execution_count": 68,
   "id": "f57cc2a7",
   "metadata": {
    "ExecuteTime": {
     "end_time": "2021-05-26T11:02:12.770523Z",
     "start_time": "2021-05-26T11:02:12.570028Z"
    }
   },
   "outputs": [
    {
     "data": {
      "text/html": [
       "<div>\n",
       "<style scoped>\n",
       "    .dataframe tbody tr th:only-of-type {\n",
       "        vertical-align: middle;\n",
       "    }\n",
       "\n",
       "    .dataframe tbody tr th {\n",
       "        vertical-align: top;\n",
       "    }\n",
       "\n",
       "    .dataframe thead th {\n",
       "        text-align: right;\n",
       "    }\n",
       "</style>\n",
       "<table border=\"1\" class=\"dataframe\">\n",
       "  <thead>\n",
       "    <tr style=\"text-align: right;\">\n",
       "      <th></th>\n",
       "      <th>Label</th>\n",
       "      <th>Ad</th>\n",
       "      <th>Char_Length</th>\n",
       "      <th>Word_Count</th>\n",
       "    </tr>\n",
       "  </thead>\n",
       "  <tbody>\n",
       "    <tr>\n",
       "      <th>0</th>\n",
       "      <td>1</td>\n",
       "      <td>ad-jerry ad-bruckheimer ad-chase ad-premier ad...</td>\n",
       "      <td>100</td>\n",
       "      <td>11</td>\n",
       "    </tr>\n",
       "    <tr>\n",
       "      <th>1</th>\n",
       "      <td>-1</td>\n",
       "      <td>ad-rheumatoid ad-arthritis ad-expert ad-tip ad...</td>\n",
       "      <td>3816</td>\n",
       "      <td>498</td>\n",
       "    </tr>\n",
       "    <tr>\n",
       "      <th>2</th>\n",
       "      <td>-1</td>\n",
       "      <td>ad-rheumatologist ad-anju ad-varghese ad-yonke...</td>\n",
       "      <td>656</td>\n",
       "      <td>82</td>\n",
       "    </tr>\n",
       "    <tr>\n",
       "      <th>3</th>\n",
       "      <td>-1</td>\n",
       "      <td>ad-siemen ad-water ad-remediation ad-water ad-...</td>\n",
       "      <td>1316</td>\n",
       "      <td>159</td>\n",
       "    </tr>\n",
       "    <tr>\n",
       "      <th>4</th>\n",
       "      <td>-1</td>\n",
       "      <td>ad-symptom ad-muscle ad-weakness ad-genetic ad...</td>\n",
       "      <td>106</td>\n",
       "      <td>11</td>\n",
       "    </tr>\n",
       "    <tr>\n",
       "      <th>...</th>\n",
       "      <td>...</td>\n",
       "      <td>...</td>\n",
       "      <td>...</td>\n",
       "      <td>...</td>\n",
       "    </tr>\n",
       "    <tr>\n",
       "      <th>4138</th>\n",
       "      <td>-1</td>\n",
       "      <td>ad-affordable ad-ivf ad-cost ad-efficient ad-i...</td>\n",
       "      <td>1617</td>\n",
       "      <td>191</td>\n",
       "    </tr>\n",
       "    <tr>\n",
       "      <th>4139</th>\n",
       "      <td>1</td>\n",
       "      <td>ad-mozypro ad-business ad-backup ad-affordable...</td>\n",
       "      <td>1524</td>\n",
       "      <td>204</td>\n",
       "    </tr>\n",
       "    <tr>\n",
       "      <th>4140</th>\n",
       "      <td>1</td>\n",
       "      <td>ad-oster ad-line ad-clipper ad-oster ad-factor...</td>\n",
       "      <td>7462</td>\n",
       "      <td>1139</td>\n",
       "    </tr>\n",
       "    <tr>\n",
       "      <th>4141</th>\n",
       "      <td>-1</td>\n",
       "      <td>ad-synrevoice ad-schoolconnect ad-trust ad-aut...</td>\n",
       "      <td>1374</td>\n",
       "      <td>145</td>\n",
       "    </tr>\n",
       "    <tr>\n",
       "      <th>4142</th>\n",
       "      <td>1</td>\n",
       "      <td>ad-vet ad-online ad-veterinarian ad-online ad-...</td>\n",
       "      <td>6885</td>\n",
       "      <td>970</td>\n",
       "    </tr>\n",
       "  </tbody>\n",
       "</table>\n",
       "<p>4143 rows × 4 columns</p>\n",
       "</div>"
      ],
      "text/plain": [
       "      Label                                                 Ad  Char_Length  \\\n",
       "0         1  ad-jerry ad-bruckheimer ad-chase ad-premier ad...          100   \n",
       "1        -1  ad-rheumatoid ad-arthritis ad-expert ad-tip ad...         3816   \n",
       "2        -1  ad-rheumatologist ad-anju ad-varghese ad-yonke...          656   \n",
       "3        -1  ad-siemen ad-water ad-remediation ad-water ad-...         1316   \n",
       "4        -1  ad-symptom ad-muscle ad-weakness ad-genetic ad...          106   \n",
       "...     ...                                                ...          ...   \n",
       "4138     -1  ad-affordable ad-ivf ad-cost ad-efficient ad-i...         1617   \n",
       "4139      1  ad-mozypro ad-business ad-backup ad-affordable...         1524   \n",
       "4140      1  ad-oster ad-line ad-clipper ad-oster ad-factor...         7462   \n",
       "4141     -1  ad-synrevoice ad-schoolconnect ad-trust ad-aut...         1374   \n",
       "4142      1  ad-vet ad-online ad-veterinarian ad-online ad-...         6885   \n",
       "\n",
       "      Word_Count  \n",
       "0             11  \n",
       "1            498  \n",
       "2             82  \n",
       "3            159  \n",
       "4             11  \n",
       "...          ...  \n",
       "4138         191  \n",
       "4139         204  \n",
       "4140        1139  \n",
       "4141         145  \n",
       "4142         970  \n",
       "\n",
       "[4143 rows x 4 columns]"
      ]
     },
     "execution_count": 68,
     "metadata": {},
     "output_type": "execute_result"
    }
   ],
   "source": [
    "data['Word_Count'] = data['Ad'].str.split().str.len()\n",
    "data"
   ]
  },
  {
   "cell_type": "code",
   "execution_count": 69,
   "id": "136d60ca",
   "metadata": {
    "ExecuteTime": {
     "end_time": "2021-05-26T11:02:13.083654Z",
     "start_time": "2021-05-26T11:02:12.771491Z"
    }
   },
   "outputs": [
    {
     "data": {
      "image/png": "[encoded data removed]",
      "text/plain": [
       "<Figure size 1080x576 with 1 Axes>"
      ]
     },
     "metadata": {},
     "output_type": "display_data"
    }
   ],
   "source": [
    "plt.figure(figsize=(15, 8))\n",
    "good_length = data[data['Label'] == 1][['Label', 'Word_Count']]\n",
    "bad_length = data[data['Label'] == -1][['Label', 'Word_Count']]\n",
    "ax = sns.distplot(good_length, hist=False, label = 'Accepted')\n",
    "ax = sns.distplot(bad_length, hist=False, label = 'Rejected')\n",
    "plt.xlim(0, 5000)\n",
    "plt.title('Distribution of Ad Word Count between Accepted vs. Rejected')\n",
    "sns.set(font_scale=1.3)\n",
    "plt.legend()\n",
    "ax.set_ylabel('Distribution')\n",
    "ax.set_xlabel('Word Count');"
   ]
  },
  {
   "cell_type": "code",
   "execution_count": 72,
   "id": "98794bb8",
   "metadata": {
    "ExecuteTime": {
     "end_time": "2021-05-26T11:06:50.018619Z",
     "start_time": "2021-05-26T11:06:49.859965Z"
    }
   },
   "outputs": [
    {
     "data": {
      "image/png": "[encoded data removed]",
      "text/plain": [
       "<Figure size 432x288 with 1 Axes>"
      ]
     },
     "metadata": {},
     "output_type": "display_data"
    }
   ],
   "source": [
    "sns.scatterplot(x='Word_Count', y='Char_Length', data=data);"
   ]
  },
  {
   "cell_type": "markdown",
   "id": "9e900f7d",
   "metadata": {},
   "source": [
    "Se poate observa ca numarul de caractere este similar cu numarul de cuvinte, aflandu-se intr-o relatie aproape liniara.\n",
    "\n",
    "Pentru a evita problemele, este mai bine sa alegem doar una dintre trasaturi. In consecinta, vom sterge din dataframe coloana 'Char_Length'."
   ]
  },
  {
   "cell_type": "code",
   "execution_count": 73,
   "id": "cb6e3d60",
   "metadata": {
    "ExecuteTime": {
     "end_time": "2021-05-26T11:07:45.317042Z",
     "start_time": "2021-05-26T11:07:45.295956Z"
    }
   },
   "outputs": [
    {
     "data": {
      "text/html": [
       "<div>\n",
       "<style scoped>\n",
       "    .dataframe tbody tr th:only-of-type {\n",
       "        vertical-align: middle;\n",
       "    }\n",
       "\n",
       "    .dataframe tbody tr th {\n",
       "        vertical-align: top;\n",
       "    }\n",
       "\n",
       "    .dataframe thead th {\n",
       "        text-align: right;\n",
       "    }\n",
       "</style>\n",
       "<table border=\"1\" class=\"dataframe\">\n",
       "  <thead>\n",
       "    <tr style=\"text-align: right;\">\n",
       "      <th></th>\n",
       "      <th>Label</th>\n",
       "      <th>Ad</th>\n",
       "      <th>Word_Count</th>\n",
       "    </tr>\n",
       "  </thead>\n",
       "  <tbody>\n",
       "    <tr>\n",
       "      <th>0</th>\n",
       "      <td>1</td>\n",
       "      <td>ad-jerry ad-bruckheimer ad-chase ad-premier ad...</td>\n",
       "      <td>11</td>\n",
       "    </tr>\n",
       "    <tr>\n",
       "      <th>1</th>\n",
       "      <td>-1</td>\n",
       "      <td>ad-rheumatoid ad-arthritis ad-expert ad-tip ad...</td>\n",
       "      <td>498</td>\n",
       "    </tr>\n",
       "    <tr>\n",
       "      <th>2</th>\n",
       "      <td>-1</td>\n",
       "      <td>ad-rheumatologist ad-anju ad-varghese ad-yonke...</td>\n",
       "      <td>82</td>\n",
       "    </tr>\n",
       "    <tr>\n",
       "      <th>3</th>\n",
       "      <td>-1</td>\n",
       "      <td>ad-siemen ad-water ad-remediation ad-water ad-...</td>\n",
       "      <td>159</td>\n",
       "    </tr>\n",
       "    <tr>\n",
       "      <th>4</th>\n",
       "      <td>-1</td>\n",
       "      <td>ad-symptom ad-muscle ad-weakness ad-genetic ad...</td>\n",
       "      <td>11</td>\n",
       "    </tr>\n",
       "    <tr>\n",
       "      <th>...</th>\n",
       "      <td>...</td>\n",
       "      <td>...</td>\n",
       "      <td>...</td>\n",
       "    </tr>\n",
       "    <tr>\n",
       "      <th>4138</th>\n",
       "      <td>-1</td>\n",
       "      <td>ad-affordable ad-ivf ad-cost ad-efficient ad-i...</td>\n",
       "      <td>191</td>\n",
       "    </tr>\n",
       "    <tr>\n",
       "      <th>4139</th>\n",
       "      <td>1</td>\n",
       "      <td>ad-mozypro ad-business ad-backup ad-affordable...</td>\n",
       "      <td>204</td>\n",
       "    </tr>\n",
       "    <tr>\n",
       "      <th>4140</th>\n",
       "      <td>1</td>\n",
       "      <td>ad-oster ad-line ad-clipper ad-oster ad-factor...</td>\n",
       "      <td>1139</td>\n",
       "    </tr>\n",
       "    <tr>\n",
       "      <th>4141</th>\n",
       "      <td>-1</td>\n",
       "      <td>ad-synrevoice ad-schoolconnect ad-trust ad-aut...</td>\n",
       "      <td>145</td>\n",
       "    </tr>\n",
       "    <tr>\n",
       "      <th>4142</th>\n",
       "      <td>1</td>\n",
       "      <td>ad-vet ad-online ad-veterinarian ad-online ad-...</td>\n",
       "      <td>970</td>\n",
       "    </tr>\n",
       "  </tbody>\n",
       "</table>\n",
       "<p>4143 rows × 3 columns</p>\n",
       "</div>"
      ],
      "text/plain": [
       "      Label                                                 Ad  Word_Count\n",
       "0         1  ad-jerry ad-bruckheimer ad-chase ad-premier ad...          11\n",
       "1        -1  ad-rheumatoid ad-arthritis ad-expert ad-tip ad...         498\n",
       "2        -1  ad-rheumatologist ad-anju ad-varghese ad-yonke...          82\n",
       "3        -1  ad-siemen ad-water ad-remediation ad-water ad-...         159\n",
       "4        -1  ad-symptom ad-muscle ad-weakness ad-genetic ad...          11\n",
       "...     ...                                                ...         ...\n",
       "4138     -1  ad-affordable ad-ivf ad-cost ad-efficient ad-i...         191\n",
       "4139      1  ad-mozypro ad-business ad-backup ad-affordable...         204\n",
       "4140      1  ad-oster ad-line ad-clipper ad-oster ad-factor...        1139\n",
       "4141     -1  ad-synrevoice ad-schoolconnect ad-trust ad-aut...         145\n",
       "4142      1  ad-vet ad-online ad-veterinarian ad-online ad-...         970\n",
       "\n",
       "[4143 rows x 3 columns]"
      ]
     },
     "execution_count": 73,
     "metadata": {},
     "output_type": "execute_result"
    }
   ],
   "source": [
    "data = data.drop('Char_Length', axis=1).reset_index(drop=True)\n",
    "data"
   ]
  },
  {
   "cell_type": "markdown",
   "id": "ce97e57b",
   "metadata": {},
   "source": [
    "Vom verifica acum care sunt cuvintele care apar cel mai des in functie de tipul reclamei:"
   ]
  },
  {
   "cell_type": "code",
   "execution_count": 75,
   "id": "b5a0df5c",
   "metadata": {
    "ExecuteTime": {
     "end_time": "2021-05-26T11:11:08.644020Z",
     "start_time": "2021-05-26T11:11:07.864528Z"
    }
   },
   "outputs": [],
   "source": [
    "good_dictionary = {}\n",
    "bad_dictionary = {}\n",
    "\n",
    "def word_count(word, dictionary):\n",
    "    if word in dictionary:\n",
    "        dictionary[word] +=1\n",
    "    else:\n",
    "        dictionary[word] = 1\n",
    "\n",
    "good_list = ' '.join(data[data['Label'] == 1]['Ad'].tolist()).split()\n",
    "bad_list = ' '.join(data[data['Label'] == -1]['Ad'].tolist()).split()\n",
    "\n",
    "for word in good_list:\n",
    "    word_count(word, good_dictionary)\n",
    "\n",
    "for word in bad_list:\n",
    "    word_count(word, bad_dictionary)"
   ]
  },
  {
   "cell_type": "markdown",
   "id": "46044677",
   "metadata": {
    "ExecuteTime": {
     "end_time": "2021-05-26T11:11:22.325697Z",
     "start_time": "2021-05-26T11:11:22.291744Z"
    }
   },
   "source": [
    "Vom genera DataFrame-uri pentru numarul de cuvinte si vom selecta cele mai frecvente 10 cuvinte"
   ]
  },
  {
   "cell_type": "code",
   "execution_count": 78,
   "id": "19f7f134",
   "metadata": {
    "ExecuteTime": {
     "end_time": "2021-05-26T11:13:22.535265Z",
     "start_time": "2021-05-26T11:13:22.446322Z"
    }
   },
   "outputs": [],
   "source": [
    "good_count = pd.DataFrame(list(good_dictionary.items()), columns = ['word', 'count']).sort_values(by = 'count', ascending = False).iloc[:10]\n",
    "bad_count = pd.DataFrame(list(bad_dictionary.items()), columns = ['word', 'count']).sort_values(by = 'count', ascending = False).iloc[:10]"
   ]
  },
  {
   "cell_type": "markdown",
   "id": "cfda927f",
   "metadata": {},
   "source": [
    "Cuvintele care apar cel mai des in reclamele acceptate sunt:"
   ]
  },
  {
   "cell_type": "code",
   "execution_count": 81,
   "id": "c381499f",
   "metadata": {
    "ExecuteTime": {
     "end_time": "2021-05-26T11:14:18.279249Z",
     "start_time": "2021-05-26T11:14:18.263292Z"
    }
   },
   "outputs": [
    {
     "data": {
      "text/html": [
       "<div>\n",
       "<style scoped>\n",
       "    .dataframe tbody tr th:only-of-type {\n",
       "        vertical-align: middle;\n",
       "    }\n",
       "\n",
       "    .dataframe tbody tr th {\n",
       "        vertical-align: top;\n",
       "    }\n",
       "\n",
       "    .dataframe thead th {\n",
       "        text-align: right;\n",
       "    }\n",
       "</style>\n",
       "<table border=\"1\" class=\"dataframe\">\n",
       "  <thead>\n",
       "    <tr style=\"text-align: right;\">\n",
       "      <th></th>\n",
       "      <th>word</th>\n",
       "      <th>count</th>\n",
       "    </tr>\n",
       "  </thead>\n",
       "  <tbody>\n",
       "    <tr>\n",
       "      <th>0</th>\n",
       "      <td>list</td>\n",
       "      <td>19179</td>\n",
       "    </tr>\n",
       "    <tr>\n",
       "      <th>1</th>\n",
       "      <td>product</td>\n",
       "      <td>14459</td>\n",
       "    </tr>\n",
       "    <tr>\n",
       "      <th>2</th>\n",
       "      <td>com</td>\n",
       "      <td>8444</td>\n",
       "    </tr>\n",
       "    <tr>\n",
       "      <th>3</th>\n",
       "      <td>save</td>\n",
       "      <td>7153</td>\n",
       "    </tr>\n",
       "    <tr>\n",
       "      <th>4</th>\n",
       "      <td>pet</td>\n",
       "      <td>7015</td>\n",
       "    </tr>\n",
       "    <tr>\n",
       "      <th>5</th>\n",
       "      <td>ad</td>\n",
       "      <td>6838</td>\n",
       "    </tr>\n",
       "    <tr>\n",
       "      <th>6</th>\n",
       "      <td>name</td>\n",
       "      <td>6601</td>\n",
       "    </tr>\n",
       "    <tr>\n",
       "      <th>7</th>\n",
       "      <td>create</td>\n",
       "      <td>6528</td>\n",
       "    </tr>\n",
       "    <tr>\n",
       "      <th>8</th>\n",
       "      <td>law</td>\n",
       "      <td>5975</td>\n",
       "    </tr>\n",
       "    <tr>\n",
       "      <th>9</th>\n",
       "      <td>please</td>\n",
       "      <td>5959</td>\n",
       "    </tr>\n",
       "  </tbody>\n",
       "</table>\n",
       "</div>"
      ],
      "text/plain": [
       "      word  count\n",
       "0     list  19179\n",
       "1  product  14459\n",
       "2      com   8444\n",
       "3     save   7153\n",
       "4      pet   7015\n",
       "5       ad   6838\n",
       "6     name   6601\n",
       "7   create   6528\n",
       "8      law   5975\n",
       "9   please   5959"
      ]
     },
     "execution_count": 81,
     "metadata": {},
     "output_type": "execute_result"
    }
   ],
   "source": [
    "good_count.head(10).reset_index(drop=True)"
   ]
  },
  {
   "cell_type": "markdown",
   "id": "3f8ba83f",
   "metadata": {},
   "source": [
    "Cuvintele care apar cel mai des in reclamele refuzate sunt:"
   ]
  },
  {
   "cell_type": "code",
   "execution_count": 82,
   "id": "b35d5e04",
   "metadata": {
    "ExecuteTime": {
     "end_time": "2021-05-26T11:14:49.957693Z",
     "start_time": "2021-05-26T11:14:49.940638Z"
    }
   },
   "outputs": [
    {
     "data": {
      "text/html": [
       "<div>\n",
       "<style scoped>\n",
       "    .dataframe tbody tr th:only-of-type {\n",
       "        vertical-align: middle;\n",
       "    }\n",
       "\n",
       "    .dataframe tbody tr th {\n",
       "        vertical-align: top;\n",
       "    }\n",
       "\n",
       "    .dataframe thead th {\n",
       "        text-align: right;\n",
       "    }\n",
       "</style>\n",
       "<table border=\"1\" class=\"dataframe\">\n",
       "  <thead>\n",
       "    <tr style=\"text-align: right;\">\n",
       "      <th></th>\n",
       "      <th>word</th>\n",
       "      <th>count</th>\n",
       "    </tr>\n",
       "  </thead>\n",
       "  <tbody>\n",
       "    <tr>\n",
       "      <th>0</th>\n",
       "      <td>disease</td>\n",
       "      <td>6502</td>\n",
       "    </tr>\n",
       "    <tr>\n",
       "      <th>1</th>\n",
       "      <td>treatment</td>\n",
       "      <td>5398</td>\n",
       "    </tr>\n",
       "    <tr>\n",
       "      <th>2</th>\n",
       "      <td>health</td>\n",
       "      <td>4115</td>\n",
       "    </tr>\n",
       "    <tr>\n",
       "      <th>3</th>\n",
       "      <td>home</td>\n",
       "      <td>3625</td>\n",
       "    </tr>\n",
       "    <tr>\n",
       "      <th>4</th>\n",
       "      <td>pain</td>\n",
       "      <td>3348</td>\n",
       "    </tr>\n",
       "    <tr>\n",
       "      <th>5</th>\n",
       "      <td>com</td>\n",
       "      <td>3323</td>\n",
       "    </tr>\n",
       "    <tr>\n",
       "      <th>6</th>\n",
       "      <td>product</td>\n",
       "      <td>3146</td>\n",
       "    </tr>\n",
       "    <tr>\n",
       "      <th>7</th>\n",
       "      <td>symptom</td>\n",
       "      <td>3040</td>\n",
       "    </tr>\n",
       "    <tr>\n",
       "      <th>8</th>\n",
       "      <td>help</td>\n",
       "      <td>2971</td>\n",
       "    </tr>\n",
       "    <tr>\n",
       "      <th>9</th>\n",
       "      <td>information</td>\n",
       "      <td>2832</td>\n",
       "    </tr>\n",
       "  </tbody>\n",
       "</table>\n",
       "</div>"
      ],
      "text/plain": [
       "          word  count\n",
       "0      disease   6502\n",
       "1    treatment   5398\n",
       "2       health   4115\n",
       "3         home   3625\n",
       "4         pain   3348\n",
       "5          com   3323\n",
       "6      product   3146\n",
       "7      symptom   3040\n",
       "8         help   2971\n",
       "9  information   2832"
      ]
     },
     "execution_count": 82,
     "metadata": {},
     "output_type": "execute_result"
    }
   ],
   "source": [
    "bad_count.head(10).reset_index(drop=True)"
   ]
  },
  {
   "cell_type": "markdown",
   "id": "c55bf977",
   "metadata": {},
   "source": [
    "### Bag of Words"
   ]
  },
  {
   "cell_type": "code",
   "execution_count": 83,
   "id": "79fb1722",
   "metadata": {
    "ExecuteTime": {
     "end_time": "2021-05-26T11:15:52.404185Z",
     "start_time": "2021-05-26T11:15:52.390360Z"
    }
   },
   "outputs": [],
   "source": [
    "X_data = data.drop(columns = ['Label'])\n",
    "y_data = data['Label']"
   ]
  },
  {
   "cell_type": "code",
   "execution_count": 85,
   "id": "6b36c9f9",
   "metadata": {
    "ExecuteTime": {
     "end_time": "2021-05-26T11:16:25.347281Z",
     "start_time": "2021-05-26T11:16:25.345181Z"
    }
   },
   "outputs": [],
   "source": [
    "vectorizer = CountVectorizer()"
   ]
  },
  {
   "cell_type": "code",
   "execution_count": 86,
   "id": "add67c06",
   "metadata": {
    "ExecuteTime": {
     "end_time": "2021-05-26T11:16:55.207580Z",
     "start_time": "2021-05-26T11:16:54.023331Z"
    }
   },
   "outputs": [
    {
     "data": {
      "text/plain": [
       "43602"
      ]
     },
     "execution_count": 86,
     "metadata": {},
     "output_type": "execute_result"
    }
   ],
   "source": [
    "document_matrix = vectorizer.fit(X_data['Ad'])\n",
    "len(document_matrix.vocabulary_)"
   ]
  },
  {
   "cell_type": "markdown",
   "id": "1f6c2465",
   "metadata": {},
   "source": [
    "Testam CountVectorizer() pe una dintre reclame."
   ]
  },
  {
   "cell_type": "code",
   "execution_count": 92,
   "id": "b7a92160",
   "metadata": {
    "ExecuteTime": {
     "end_time": "2021-05-26T11:18:55.063976Z",
     "start_time": "2021-05-26T11:18:55.047888Z"
    }
   },
   "outputs": [
    {
     "name": "stdout",
     "output_type": "stream",
     "text": [
      "  (0, 234)\t1\n",
      "  (0, 423)\t8\n",
      "  (0, 463)\t1\n",
      "  (0, 620)\t1\n",
      "  (0, 1122)\t5\n",
      "  (0, 1279)\t1\n",
      "  (0, 2493)\t5\n",
      "  (0, 3123)\t1\n",
      "  (0, 3928)\t1\n",
      "  (0, 4441)\t5\n",
      "  (0, 4472)\t1\n",
      "  (0, 5366)\t1\n",
      "  (0, 5838)\t1\n",
      "  (0, 5968)\t2\n",
      "  (0, 6058)\t2\n",
      "  (0, 6065)\t2\n",
      "  (0, 6088)\t1\n",
      "  (0, 6893)\t2\n",
      "  (0, 7088)\t1\n",
      "  (0, 7132)\t1\n",
      "  (0, 8160)\t2\n",
      "  (0, 8339)\t1\n",
      "  (0, 9930)\t3\n",
      "  (0, 10411)\t4\n",
      "  (0, 10873)\t2\n",
      "  :\t:\n",
      "  (0, 28183)\t3\n",
      "  (0, 28462)\t1\n",
      "  (0, 28489)\t1\n",
      "  (0, 28903)\t9\n",
      "  (0, 29648)\t12\n",
      "  (0, 29649)\t2\n",
      "  (0, 29774)\t1\n",
      "  (0, 30144)\t1\n",
      "  (0, 30692)\t6\n",
      "  (0, 31027)\t1\n",
      "  (0, 32535)\t4\n",
      "  (0, 32557)\t2\n",
      "  (0, 35416)\t5\n",
      "  (0, 36299)\t1\n",
      "  (0, 36305)\t1\n",
      "  (0, 37376)\t1\n",
      "  (0, 37385)\t17\n",
      "  (0, 38846)\t2\n",
      "  (0, 38951)\t1\n",
      "  (0, 39100)\t3\n",
      "  (0, 41072)\t1\n",
      "  (0, 41185)\t2\n",
      "  (0, 41338)\t1\n",
      "  (0, 41982)\t7\n",
      "  (0, 42027)\t1\n"
     ]
    },
    {
     "data": {
      "text/plain": [
       "(1, 43602)"
      ]
     },
     "execution_count": 92,
     "metadata": {},
     "output_type": "execute_result"
    }
   ],
   "source": [
    "train_bow = vectorizer.transform([X_data['Ad'][25]])\n",
    "print(train_bow)\n",
    "train_bow.shape"
   ]
  },
  {
   "cell_type": "markdown",
   "id": "651ed145",
   "metadata": {},
   "source": [
    "Folosind `transform`, modelul nostru poate returna o matrice care contine numarul de aparitii ale fiecarui cuvant.\n",
    "\n",
    "Verificam ce cuvant corespunde numarului 39100."
   ]
  },
  {
   "cell_type": "code",
   "execution_count": 93,
   "id": "f2e1b1f3",
   "metadata": {
    "ExecuteTime": {
     "end_time": "2021-05-26T11:20:07.376096Z",
     "start_time": "2021-05-26T11:20:07.336250Z"
    }
   },
   "outputs": [
    {
     "name": "stdout",
     "output_type": "stream",
     "text": [
      "total\n"
     ]
    }
   ],
   "source": [
    "print(vectorizer.get_feature_names()[39100])"
   ]
  },
  {
   "cell_type": "markdown",
   "id": "479a8e5f",
   "metadata": {},
   "source": [
    "Verificam daca reclama contine acest cuvant."
   ]
  },
  {
   "cell_type": "code",
   "execution_count": 94,
   "id": "9d598e70",
   "metadata": {
    "ExecuteTime": {
     "end_time": "2021-05-26T11:20:41.487129Z",
     "start_time": "2021-05-26T11:20:41.473046Z"
    }
   },
   "outputs": [
    {
     "data": {
      "text/plain": [
       "'ad-horse ad-vet ad-buy ad-nutritional ad-supplement ad-horse ad-wellness ad-performance title-equine title-platinumperformance header-equine equine platinumperformance horse dog cat product platinum performance platinum performance cj ortho chon ortho chon ii hemo flo bio sponge skin allergy formula platinum potency category total horse health athletic performance bone density hoof support immune support digestive health joint support metabolic support reproduction fertility skin allergy weight management product platinum pak guide pak pak meet platinum horse platinum platinum platinum advisor platinum partner sponsorship contact log view cart foundation platinum bar athletic performance bone density cardio circulatory support immune support joint support vitamin mineral weight loss product horse total horse health athletic performance bone health hoof support immune health digestive health joint support metabolic support reproduction fertility skin allergy weight management product dog cat foundation athletic performance bone density digestive health immune support joint support reproduction fertility skin allergy weight gain weight loss product view cart account info request catalog address book platinum pass home equine equine total horse health athletic performance bone health digestive health hoof support immune support joint support metabolic support reproduction fertility skin allergy support weight gain weight loss product home contact request catalog toll free am pm pst monday friday copyright platinum performance inc'"
      ]
     },
     "execution_count": 94,
     "metadata": {},
     "output_type": "execute_result"
    }
   ],
   "source": [
    "X_data['Ad'][25]"
   ]
  },
  {
   "cell_type": "markdown",
   "id": "7fd98aa7",
   "metadata": {},
   "source": [
    "Aplicam `CountVectorizer()` pe tot setul de date."
   ]
  },
  {
   "cell_type": "code",
   "execution_count": 96,
   "id": "a2f631f8",
   "metadata": {
    "ExecuteTime": {
     "end_time": "2021-05-26T11:22:22.599220Z",
     "start_time": "2021-05-26T11:22:21.464855Z"
    }
   },
   "outputs": [
    {
     "name": "stdout",
     "output_type": "stream",
     "text": [
      "Shape of matrix: (4143, 43602)\n",
      "Ammount of Non-Zero occurences: 770770\n"
     ]
    }
   ],
   "source": [
    "data_count = vectorizer.transform(X_data['Ad'])\n",
    "\n",
    "print(f'Shape of matrix: {data_count.shape}')\n",
    "print(f'Ammount of Non-Zero occurences: {data_count.nnz}')"
   ]
  },
  {
   "cell_type": "code",
   "execution_count": 97,
   "id": "e50e8703",
   "metadata": {
    "ExecuteTime": {
     "end_time": "2021-05-26T11:22:58.112452Z",
     "start_time": "2021-05-26T11:22:57.796293Z"
    }
   },
   "outputs": [
    {
     "data": {
      "text/html": [
       "<div>\n",
       "<style scoped>\n",
       "    .dataframe tbody tr th:only-of-type {\n",
       "        vertical-align: middle;\n",
       "    }\n",
       "\n",
       "    .dataframe tbody tr th {\n",
       "        vertical-align: top;\n",
       "    }\n",
       "\n",
       "    .dataframe thead th {\n",
       "        text-align: right;\n",
       "    }\n",
       "</style>\n",
       "<table border=\"1\" class=\"dataframe\">\n",
       "  <thead>\n",
       "    <tr style=\"text-align: right;\">\n",
       "      <th></th>\n",
       "      <th>aa</th>\n",
       "      <th>aaa</th>\n",
       "      <th>aaaa</th>\n",
       "      <th>aaaaa</th>\n",
       "      <th>aaaaaaaaadc</th>\n",
       "      <th>aaaaaaaaaew</th>\n",
       "      <th>aaaaaaaaato</th>\n",
       "      <th>aaaaaaaabhc</th>\n",
       "      <th>aaaaaaaagy</th>\n",
       "      <th>aaahc</th>\n",
       "      <th>...</th>\n",
       "      <th>zymine</th>\n",
       "      <th>zymosine</th>\n",
       "      <th>zyprexa</th>\n",
       "      <th>zyrpxqeb</th>\n",
       "      <th>zyrtec</th>\n",
       "      <th>zyvox</th>\n",
       "      <th>zz</th>\n",
       "      <th>zzakhrqaww</th>\n",
       "      <th>zzay</th>\n",
       "      <th>zzz</th>\n",
       "    </tr>\n",
       "  </thead>\n",
       "  <tbody>\n",
       "    <tr>\n",
       "      <th>0</th>\n",
       "      <td>0</td>\n",
       "      <td>0</td>\n",
       "      <td>0</td>\n",
       "      <td>0</td>\n",
       "      <td>0</td>\n",
       "      <td>0</td>\n",
       "      <td>0</td>\n",
       "      <td>0</td>\n",
       "      <td>0</td>\n",
       "      <td>0</td>\n",
       "      <td>...</td>\n",
       "      <td>0</td>\n",
       "      <td>0</td>\n",
       "      <td>0</td>\n",
       "      <td>0</td>\n",
       "      <td>0</td>\n",
       "      <td>0</td>\n",
       "      <td>0</td>\n",
       "      <td>0</td>\n",
       "      <td>0</td>\n",
       "      <td>0</td>\n",
       "    </tr>\n",
       "    <tr>\n",
       "      <th>1</th>\n",
       "      <td>0</td>\n",
       "      <td>0</td>\n",
       "      <td>0</td>\n",
       "      <td>0</td>\n",
       "      <td>0</td>\n",
       "      <td>0</td>\n",
       "      <td>0</td>\n",
       "      <td>0</td>\n",
       "      <td>0</td>\n",
       "      <td>0</td>\n",
       "      <td>...</td>\n",
       "      <td>0</td>\n",
       "      <td>0</td>\n",
       "      <td>0</td>\n",
       "      <td>0</td>\n",
       "      <td>0</td>\n",
       "      <td>0</td>\n",
       "      <td>0</td>\n",
       "      <td>0</td>\n",
       "      <td>0</td>\n",
       "      <td>0</td>\n",
       "    </tr>\n",
       "    <tr>\n",
       "      <th>2</th>\n",
       "      <td>0</td>\n",
       "      <td>0</td>\n",
       "      <td>0</td>\n",
       "      <td>0</td>\n",
       "      <td>0</td>\n",
       "      <td>0</td>\n",
       "      <td>0</td>\n",
       "      <td>0</td>\n",
       "      <td>0</td>\n",
       "      <td>0</td>\n",
       "      <td>...</td>\n",
       "      <td>0</td>\n",
       "      <td>0</td>\n",
       "      <td>0</td>\n",
       "      <td>0</td>\n",
       "      <td>0</td>\n",
       "      <td>0</td>\n",
       "      <td>0</td>\n",
       "      <td>0</td>\n",
       "      <td>0</td>\n",
       "      <td>0</td>\n",
       "    </tr>\n",
       "    <tr>\n",
       "      <th>3</th>\n",
       "      <td>0</td>\n",
       "      <td>0</td>\n",
       "      <td>0</td>\n",
       "      <td>0</td>\n",
       "      <td>0</td>\n",
       "      <td>0</td>\n",
       "      <td>0</td>\n",
       "      <td>0</td>\n",
       "      <td>0</td>\n",
       "      <td>0</td>\n",
       "      <td>...</td>\n",
       "      <td>0</td>\n",
       "      <td>0</td>\n",
       "      <td>0</td>\n",
       "      <td>0</td>\n",
       "      <td>0</td>\n",
       "      <td>0</td>\n",
       "      <td>0</td>\n",
       "      <td>0</td>\n",
       "      <td>0</td>\n",
       "      <td>0</td>\n",
       "    </tr>\n",
       "    <tr>\n",
       "      <th>4</th>\n",
       "      <td>0</td>\n",
       "      <td>0</td>\n",
       "      <td>0</td>\n",
       "      <td>0</td>\n",
       "      <td>0</td>\n",
       "      <td>0</td>\n",
       "      <td>0</td>\n",
       "      <td>0</td>\n",
       "      <td>0</td>\n",
       "      <td>0</td>\n",
       "      <td>...</td>\n",
       "      <td>0</td>\n",
       "      <td>0</td>\n",
       "      <td>0</td>\n",
       "      <td>0</td>\n",
       "      <td>0</td>\n",
       "      <td>0</td>\n",
       "      <td>0</td>\n",
       "      <td>0</td>\n",
       "      <td>0</td>\n",
       "      <td>0</td>\n",
       "    </tr>\n",
       "    <tr>\n",
       "      <th>...</th>\n",
       "      <td>...</td>\n",
       "      <td>...</td>\n",
       "      <td>...</td>\n",
       "      <td>...</td>\n",
       "      <td>...</td>\n",
       "      <td>...</td>\n",
       "      <td>...</td>\n",
       "      <td>...</td>\n",
       "      <td>...</td>\n",
       "      <td>...</td>\n",
       "      <td>...</td>\n",
       "      <td>...</td>\n",
       "      <td>...</td>\n",
       "      <td>...</td>\n",
       "      <td>...</td>\n",
       "      <td>...</td>\n",
       "      <td>...</td>\n",
       "      <td>...</td>\n",
       "      <td>...</td>\n",
       "      <td>...</td>\n",
       "      <td>...</td>\n",
       "    </tr>\n",
       "    <tr>\n",
       "      <th>4138</th>\n",
       "      <td>0</td>\n",
       "      <td>0</td>\n",
       "      <td>0</td>\n",
       "      <td>0</td>\n",
       "      <td>0</td>\n",
       "      <td>0</td>\n",
       "      <td>0</td>\n",
       "      <td>0</td>\n",
       "      <td>0</td>\n",
       "      <td>0</td>\n",
       "      <td>...</td>\n",
       "      <td>0</td>\n",
       "      <td>0</td>\n",
       "      <td>0</td>\n",
       "      <td>0</td>\n",
       "      <td>0</td>\n",
       "      <td>0</td>\n",
       "      <td>0</td>\n",
       "      <td>0</td>\n",
       "      <td>0</td>\n",
       "      <td>0</td>\n",
       "    </tr>\n",
       "    <tr>\n",
       "      <th>4139</th>\n",
       "      <td>0</td>\n",
       "      <td>0</td>\n",
       "      <td>0</td>\n",
       "      <td>0</td>\n",
       "      <td>0</td>\n",
       "      <td>0</td>\n",
       "      <td>0</td>\n",
       "      <td>0</td>\n",
       "      <td>0</td>\n",
       "      <td>0</td>\n",
       "      <td>...</td>\n",
       "      <td>0</td>\n",
       "      <td>0</td>\n",
       "      <td>0</td>\n",
       "      <td>0</td>\n",
       "      <td>0</td>\n",
       "      <td>0</td>\n",
       "      <td>0</td>\n",
       "      <td>0</td>\n",
       "      <td>0</td>\n",
       "      <td>0</td>\n",
       "    </tr>\n",
       "    <tr>\n",
       "      <th>4140</th>\n",
       "      <td>0</td>\n",
       "      <td>0</td>\n",
       "      <td>0</td>\n",
       "      <td>0</td>\n",
       "      <td>0</td>\n",
       "      <td>0</td>\n",
       "      <td>0</td>\n",
       "      <td>0</td>\n",
       "      <td>0</td>\n",
       "      <td>0</td>\n",
       "      <td>...</td>\n",
       "      <td>0</td>\n",
       "      <td>0</td>\n",
       "      <td>0</td>\n",
       "      <td>0</td>\n",
       "      <td>0</td>\n",
       "      <td>0</td>\n",
       "      <td>0</td>\n",
       "      <td>0</td>\n",
       "      <td>0</td>\n",
       "      <td>0</td>\n",
       "    </tr>\n",
       "    <tr>\n",
       "      <th>4141</th>\n",
       "      <td>0</td>\n",
       "      <td>0</td>\n",
       "      <td>0</td>\n",
       "      <td>0</td>\n",
       "      <td>0</td>\n",
       "      <td>0</td>\n",
       "      <td>0</td>\n",
       "      <td>0</td>\n",
       "      <td>0</td>\n",
       "      <td>0</td>\n",
       "      <td>...</td>\n",
       "      <td>0</td>\n",
       "      <td>0</td>\n",
       "      <td>0</td>\n",
       "      <td>0</td>\n",
       "      <td>0</td>\n",
       "      <td>0</td>\n",
       "      <td>0</td>\n",
       "      <td>0</td>\n",
       "      <td>0</td>\n",
       "      <td>0</td>\n",
       "    </tr>\n",
       "    <tr>\n",
       "      <th>4142</th>\n",
       "      <td>0</td>\n",
       "      <td>0</td>\n",
       "      <td>0</td>\n",
       "      <td>0</td>\n",
       "      <td>0</td>\n",
       "      <td>0</td>\n",
       "      <td>0</td>\n",
       "      <td>0</td>\n",
       "      <td>0</td>\n",
       "      <td>0</td>\n",
       "      <td>...</td>\n",
       "      <td>0</td>\n",
       "      <td>0</td>\n",
       "      <td>0</td>\n",
       "      <td>0</td>\n",
       "      <td>0</td>\n",
       "      <td>0</td>\n",
       "      <td>0</td>\n",
       "      <td>0</td>\n",
       "      <td>0</td>\n",
       "      <td>0</td>\n",
       "    </tr>\n",
       "  </tbody>\n",
       "</table>\n",
       "<p>4143 rows × 43602 columns</p>\n",
       "</div>"
      ],
      "text/plain": [
       "      aa  aaa  aaaa  aaaaa  aaaaaaaaadc  aaaaaaaaaew  aaaaaaaaato  \\\n",
       "0      0    0     0      0            0            0            0   \n",
       "1      0    0     0      0            0            0            0   \n",
       "2      0    0     0      0            0            0            0   \n",
       "3      0    0     0      0            0            0            0   \n",
       "4      0    0     0      0            0            0            0   \n",
       "...   ..  ...   ...    ...          ...          ...          ...   \n",
       "4138   0    0     0      0            0            0            0   \n",
       "4139   0    0     0      0            0            0            0   \n",
       "4140   0    0     0      0            0            0            0   \n",
       "4141   0    0     0      0            0            0            0   \n",
       "4142   0    0     0      0            0            0            0   \n",
       "\n",
       "      aaaaaaaabhc  aaaaaaaagy  aaahc  ...  zymine  zymosine  zyprexa  \\\n",
       "0               0           0      0  ...       0         0        0   \n",
       "1               0           0      0  ...       0         0        0   \n",
       "2               0           0      0  ...       0         0        0   \n",
       "3               0           0      0  ...       0         0        0   \n",
       "4               0           0      0  ...       0         0        0   \n",
       "...           ...         ...    ...  ...     ...       ...      ...   \n",
       "4138            0           0      0  ...       0         0        0   \n",
       "4139            0           0      0  ...       0         0        0   \n",
       "4140            0           0      0  ...       0         0        0   \n",
       "4141            0           0      0  ...       0         0        0   \n",
       "4142            0           0      0  ...       0         0        0   \n",
       "\n",
       "      zyrpxqeb  zyrtec  zyvox  zz  zzakhrqaww  zzay  zzz  \n",
       "0            0       0      0   0           0     0    0  \n",
       "1            0       0      0   0           0     0    0  \n",
       "2            0       0      0   0           0     0    0  \n",
       "3            0       0      0   0           0     0    0  \n",
       "4            0       0      0   0           0     0    0  \n",
       "...        ...     ...    ...  ..         ...   ...  ...  \n",
       "4138         0       0      0   0           0     0    0  \n",
       "4139         0       0      0   0           0     0    0  \n",
       "4140         0       0      0   0           0     0    0  \n",
       "4141         0       0      0   0           0     0    0  \n",
       "4142         0       0      0   0           0     0    0  \n",
       "\n",
       "[4143 rows x 43602 columns]"
      ]
     },
     "execution_count": 97,
     "metadata": {},
     "output_type": "execute_result"
    }
   ],
   "source": [
    "bow_matrix = pd.DataFrame(data_count.toarray(), columns=vectorizer.get_feature_names())\n",
    "bow_matrix"
   ]
  },
  {
   "cell_type": "markdown",
   "id": "faa4fc5a",
   "metadata": {},
   "source": [
    "### Term frequency-inverse document frequency (TF-IDF)\n",
    "\n",
    "Desi vectorizarea a venit cu mult mai multe date, o problema este sistemul de weighting. Acum, o celula are valoare 0 sau 1, valori care reprezinta daca acel cuvant apare sau nu. Desi aceasta diferentiere binara este de ajutor, este posibil sa calculam weight-urile acestor valori bazandu-ne pe frecventa de aparitie a cuvantului. Vom folosi pentru acest calcul `TF-IDF`."
   ]
  },
  {
   "cell_type": "code",
   "execution_count": 98,
   "id": "a579f96c",
   "metadata": {
    "ExecuteTime": {
     "end_time": "2021-05-26T11:24:15.433426Z",
     "start_time": "2021-05-26T11:24:15.424941Z"
    }
   },
   "outputs": [],
   "source": [
    "tfTransformer = TfidfTransformer().fit(data_count)"
   ]
  },
  {
   "cell_type": "markdown",
   "id": "671e3509",
   "metadata": {},
   "source": [
    "Vom testa pe un mesaj pentru a observa outputul. (Este acelasi mesaj de la testul de CountVectorizer)"
   ]
  },
  {
   "cell_type": "code",
   "execution_count": 99,
   "id": "f792958c",
   "metadata": {
    "ExecuteTime": {
     "end_time": "2021-05-26T11:24:57.364890Z",
     "start_time": "2021-05-26T11:24:57.348908Z"
    }
   },
   "outputs": [
    {
     "name": "stdout",
     "output_type": "stream",
     "text": [
      "  (0, 42027)\t0.03490600810662302\n",
      "  (0, 41982)\t0.16724171030698215\n",
      "  (0, 41338)\t0.02829699079247972\n",
      "  (0, 41185)\t0.03979917186349144\n",
      "  (0, 41072)\t0.029188487045930453\n",
      "  (0, 39100)\t0.08572974071041288\n",
      "  (0, 38951)\t0.029822621523385575\n",
      "  (0, 38846)\t0.01935988822658524\n",
      "  (0, 37385)\t0.35129228612747526\n",
      "  (0, 37376)\t0.027077326853890485\n",
      "  (0, 36305)\t0.044272534080580725\n",
      "  (0, 36299)\t0.043350917548524624\n",
      "  (0, 35416)\t0.12362102386380905\n",
      "  (0, 32557)\t0.048372461636668876\n",
      "  (0, 32535)\t0.1580203147599707\n",
      "  (0, 31027)\t0.04386523843785264\n",
      "  (0, 30692)\t0.09824215687698772\n",
      "  (0, 30144)\t0.04087917730366812\n",
      "  (0, 29774)\t0.025978913027669897\n",
      "  (0, 29649)\t0.09191904881288819\n",
      "  (0, 29648)\t0.5202110105822955\n",
      "  (0, 28903)\t0.2778539199758509\n",
      "  (0, 28489)\t0.035934109585539505\n",
      "  (0, 28462)\t0.028382041093338254\n",
      "  (0, 28183)\t0.13323829098295656\n",
      "  :\t:\n",
      "  (0, 10873)\t0.048608670457210686\n",
      "  (0, 10411)\t0.12337617977492636\n",
      "  (0, 9930)\t0.1256003021796037\n",
      "  (0, 8339)\t0.017404118430793303\n",
      "  (0, 8160)\t0.026136171314483442\n",
      "  (0, 7132)\t0.04562678778121363\n",
      "  (0, 7088)\t0.044555350151103276\n",
      "  (0, 6893)\t0.09191904881288819\n",
      "  (0, 6088)\t0.023414453865858085\n",
      "  (0, 6065)\t0.06670313266341207\n",
      "  (0, 6058)\t0.05312385638152445\n",
      "  (0, 5968)\t0.056217377872441625\n",
      "  (0, 5838)\t0.04298465794701869\n",
      "  (0, 5366)\t0.021706617869788194\n",
      "  (0, 4472)\t0.0259147637885082\n",
      "  (0, 4441)\t0.1466533761554497\n",
      "  (0, 3928)\t0.037984788157762836\n",
      "  (0, 3123)\t0.033161766548504695\n",
      "  (0, 2493)\t0.21738302119657163\n",
      "  (0, 1279)\t0.025995026416098528\n",
      "  (0, 1122)\t0.1648806013430079\n",
      "  (0, 620)\t0.03867489987101349\n",
      "  (0, 463)\t0.02297394444830849\n",
      "  (0, 423)\t0.06786957165823727\n",
      "  (0, 234)\t0.02394217124329578\n"
     ]
    }
   ],
   "source": [
    "tfidf_test = tfTransformer.transform(train_bow)\n",
    "print(tfidf_test)"
   ]
  },
  {
   "cell_type": "markdown",
   "id": "7d459a28",
   "metadata": {},
   "source": [
    "Putem observa ca avem in locul valorilor de 0 sau 1 valori variate in functie de importanta cuvantului.\n",
    "\n",
    "Aplicam acum `TfidfTransformer` asupra intregului set de date."
   ]
  },
  {
   "cell_type": "code",
   "execution_count": 100,
   "id": "f5ef769e",
   "metadata": {
    "ExecuteTime": {
     "end_time": "2021-05-26T11:26:31.800710Z",
     "start_time": "2021-05-26T11:26:31.770760Z"
    }
   },
   "outputs": [],
   "source": [
    "data_tfidf = tfTransformer.transform(data_count)"
   ]
  },
  {
   "cell_type": "code",
   "execution_count": 102,
   "id": "bf34278f",
   "metadata": {
    "ExecuteTime": {
     "end_time": "2021-05-26T11:27:41.720898Z",
     "start_time": "2021-05-26T11:27:41.380241Z"
    }
   },
   "outputs": [
    {
     "data": {
      "text/html": [
       "<div>\n",
       "<style scoped>\n",
       "    .dataframe tbody tr th:only-of-type {\n",
       "        vertical-align: middle;\n",
       "    }\n",
       "\n",
       "    .dataframe tbody tr th {\n",
       "        vertical-align: top;\n",
       "    }\n",
       "\n",
       "    .dataframe thead th {\n",
       "        text-align: right;\n",
       "    }\n",
       "</style>\n",
       "<table border=\"1\" class=\"dataframe\">\n",
       "  <thead>\n",
       "    <tr style=\"text-align: right;\">\n",
       "      <th></th>\n",
       "      <th>aa</th>\n",
       "      <th>aaa</th>\n",
       "      <th>aaaa</th>\n",
       "      <th>aaaaa</th>\n",
       "      <th>aaaaaaaaadc</th>\n",
       "      <th>aaaaaaaaaew</th>\n",
       "      <th>aaaaaaaaato</th>\n",
       "      <th>aaaaaaaabhc</th>\n",
       "      <th>aaaaaaaagy</th>\n",
       "      <th>aaahc</th>\n",
       "      <th>...</th>\n",
       "      <th>zymine</th>\n",
       "      <th>zymosine</th>\n",
       "      <th>zyprexa</th>\n",
       "      <th>zyrpxqeb</th>\n",
       "      <th>zyrtec</th>\n",
       "      <th>zyvox</th>\n",
       "      <th>zz</th>\n",
       "      <th>zzakhrqaww</th>\n",
       "      <th>zzay</th>\n",
       "      <th>zzz</th>\n",
       "    </tr>\n",
       "  </thead>\n",
       "  <tbody>\n",
       "    <tr>\n",
       "      <th>0</th>\n",
       "      <td>0.0</td>\n",
       "      <td>0.0</td>\n",
       "      <td>0.0</td>\n",
       "      <td>0.0</td>\n",
       "      <td>0.0</td>\n",
       "      <td>0.0</td>\n",
       "      <td>0.0</td>\n",
       "      <td>0.0</td>\n",
       "      <td>0.0</td>\n",
       "      <td>0.0</td>\n",
       "      <td>...</td>\n",
       "      <td>0.0</td>\n",
       "      <td>0.0</td>\n",
       "      <td>0.0</td>\n",
       "      <td>0.0</td>\n",
       "      <td>0.0</td>\n",
       "      <td>0.0</td>\n",
       "      <td>0.0</td>\n",
       "      <td>0.0</td>\n",
       "      <td>0.0</td>\n",
       "      <td>0.0</td>\n",
       "    </tr>\n",
       "    <tr>\n",
       "      <th>1</th>\n",
       "      <td>0.0</td>\n",
       "      <td>0.0</td>\n",
       "      <td>0.0</td>\n",
       "      <td>0.0</td>\n",
       "      <td>0.0</td>\n",
       "      <td>0.0</td>\n",
       "      <td>0.0</td>\n",
       "      <td>0.0</td>\n",
       "      <td>0.0</td>\n",
       "      <td>0.0</td>\n",
       "      <td>...</td>\n",
       "      <td>0.0</td>\n",
       "      <td>0.0</td>\n",
       "      <td>0.0</td>\n",
       "      <td>0.0</td>\n",
       "      <td>0.0</td>\n",
       "      <td>0.0</td>\n",
       "      <td>0.0</td>\n",
       "      <td>0.0</td>\n",
       "      <td>0.0</td>\n",
       "      <td>0.0</td>\n",
       "    </tr>\n",
       "    <tr>\n",
       "      <th>2</th>\n",
       "      <td>0.0</td>\n",
       "      <td>0.0</td>\n",
       "      <td>0.0</td>\n",
       "      <td>0.0</td>\n",
       "      <td>0.0</td>\n",
       "      <td>0.0</td>\n",
       "      <td>0.0</td>\n",
       "      <td>0.0</td>\n",
       "      <td>0.0</td>\n",
       "      <td>0.0</td>\n",
       "      <td>...</td>\n",
       "      <td>0.0</td>\n",
       "      <td>0.0</td>\n",
       "      <td>0.0</td>\n",
       "      <td>0.0</td>\n",
       "      <td>0.0</td>\n",
       "      <td>0.0</td>\n",
       "      <td>0.0</td>\n",
       "      <td>0.0</td>\n",
       "      <td>0.0</td>\n",
       "      <td>0.0</td>\n",
       "    </tr>\n",
       "    <tr>\n",
       "      <th>3</th>\n",
       "      <td>0.0</td>\n",
       "      <td>0.0</td>\n",
       "      <td>0.0</td>\n",
       "      <td>0.0</td>\n",
       "      <td>0.0</td>\n",
       "      <td>0.0</td>\n",
       "      <td>0.0</td>\n",
       "      <td>0.0</td>\n",
       "      <td>0.0</td>\n",
       "      <td>0.0</td>\n",
       "      <td>...</td>\n",
       "      <td>0.0</td>\n",
       "      <td>0.0</td>\n",
       "      <td>0.0</td>\n",
       "      <td>0.0</td>\n",
       "      <td>0.0</td>\n",
       "      <td>0.0</td>\n",
       "      <td>0.0</td>\n",
       "      <td>0.0</td>\n",
       "      <td>0.0</td>\n",
       "      <td>0.0</td>\n",
       "    </tr>\n",
       "    <tr>\n",
       "      <th>4</th>\n",
       "      <td>0.0</td>\n",
       "      <td>0.0</td>\n",
       "      <td>0.0</td>\n",
       "      <td>0.0</td>\n",
       "      <td>0.0</td>\n",
       "      <td>0.0</td>\n",
       "      <td>0.0</td>\n",
       "      <td>0.0</td>\n",
       "      <td>0.0</td>\n",
       "      <td>0.0</td>\n",
       "      <td>...</td>\n",
       "      <td>0.0</td>\n",
       "      <td>0.0</td>\n",
       "      <td>0.0</td>\n",
       "      <td>0.0</td>\n",
       "      <td>0.0</td>\n",
       "      <td>0.0</td>\n",
       "      <td>0.0</td>\n",
       "      <td>0.0</td>\n",
       "      <td>0.0</td>\n",
       "      <td>0.0</td>\n",
       "    </tr>\n",
       "  </tbody>\n",
       "</table>\n",
       "<p>5 rows × 43602 columns</p>\n",
       "</div>"
      ],
      "text/plain": [
       "    aa  aaa  aaaa  aaaaa  aaaaaaaaadc  aaaaaaaaaew  aaaaaaaaato  aaaaaaaabhc  \\\n",
       "0  0.0  0.0   0.0    0.0          0.0          0.0          0.0          0.0   \n",
       "1  0.0  0.0   0.0    0.0          0.0          0.0          0.0          0.0   \n",
       "2  0.0  0.0   0.0    0.0          0.0          0.0          0.0          0.0   \n",
       "3  0.0  0.0   0.0    0.0          0.0          0.0          0.0          0.0   \n",
       "4  0.0  0.0   0.0    0.0          0.0          0.0          0.0          0.0   \n",
       "\n",
       "   aaaaaaaagy  aaahc  ...  zymine  zymosine  zyprexa  zyrpxqeb  zyrtec  zyvox  \\\n",
       "0         0.0    0.0  ...     0.0       0.0      0.0       0.0     0.0    0.0   \n",
       "1         0.0    0.0  ...     0.0       0.0      0.0       0.0     0.0    0.0   \n",
       "2         0.0    0.0  ...     0.0       0.0      0.0       0.0     0.0    0.0   \n",
       "3         0.0    0.0  ...     0.0       0.0      0.0       0.0     0.0    0.0   \n",
       "4         0.0    0.0  ...     0.0       0.0      0.0       0.0     0.0    0.0   \n",
       "\n",
       "    zz  zzakhrqaww  zzay  zzz  \n",
       "0  0.0         0.0   0.0  0.0  \n",
       "1  0.0         0.0   0.0  0.0  \n",
       "2  0.0         0.0   0.0  0.0  \n",
       "3  0.0         0.0   0.0  0.0  \n",
       "4  0.0         0.0   0.0  0.0  \n",
       "\n",
       "[5 rows x 43602 columns]"
      ]
     },
     "execution_count": 102,
     "metadata": {},
     "output_type": "execute_result"
    }
   ],
   "source": [
    "data_tfidf = pd.DataFrame(data_tfidf.toarray(), columns=bow_matrix.columns)\n",
    "data_tfidf.head()"
   ]
  },
  {
   "cell_type": "markdown",
   "id": "d98cade9",
   "metadata": {},
   "source": [
    "Vom uni acest dataframe cu cel initial."
   ]
  },
  {
   "cell_type": "code",
   "execution_count": 103,
   "id": "03df7a5d",
   "metadata": {
    "ExecuteTime": {
     "end_time": "2021-05-26T11:28:53.690053Z",
     "start_time": "2021-05-26T11:28:51.592651Z"
    }
   },
   "outputs": [
    {
     "data": {
      "text/html": [
       "<div>\n",
       "<style scoped>\n",
       "    .dataframe tbody tr th:only-of-type {\n",
       "        vertical-align: middle;\n",
       "    }\n",
       "\n",
       "    .dataframe tbody tr th {\n",
       "        vertical-align: top;\n",
       "    }\n",
       "\n",
       "    .dataframe thead th {\n",
       "        text-align: right;\n",
       "    }\n",
       "</style>\n",
       "<table border=\"1\" class=\"dataframe\">\n",
       "  <thead>\n",
       "    <tr style=\"text-align: right;\">\n",
       "      <th></th>\n",
       "      <th>Ad</th>\n",
       "      <th>Word_Count</th>\n",
       "      <th>aa</th>\n",
       "      <th>aaa</th>\n",
       "      <th>aaaa</th>\n",
       "      <th>aaaaa</th>\n",
       "      <th>aaaaaaaaadc</th>\n",
       "      <th>aaaaaaaaaew</th>\n",
       "      <th>aaaaaaaaato</th>\n",
       "      <th>aaaaaaaabhc</th>\n",
       "      <th>...</th>\n",
       "      <th>zymine</th>\n",
       "      <th>zymosine</th>\n",
       "      <th>zyprexa</th>\n",
       "      <th>zyrpxqeb</th>\n",
       "      <th>zyrtec</th>\n",
       "      <th>zyvox</th>\n",
       "      <th>zz</th>\n",
       "      <th>zzakhrqaww</th>\n",
       "      <th>zzay</th>\n",
       "      <th>zzz</th>\n",
       "    </tr>\n",
       "  </thead>\n",
       "  <tbody>\n",
       "    <tr>\n",
       "      <th>0</th>\n",
       "      <td>ad-jerry ad-bruckheimer ad-chase ad-premier ad...</td>\n",
       "      <td>11</td>\n",
       "      <td>0.0</td>\n",
       "      <td>0.0</td>\n",
       "      <td>0.0</td>\n",
       "      <td>0.0</td>\n",
       "      <td>0.0</td>\n",
       "      <td>0.0</td>\n",
       "      <td>0.0</td>\n",
       "      <td>0.0</td>\n",
       "      <td>...</td>\n",
       "      <td>0.0</td>\n",
       "      <td>0.0</td>\n",
       "      <td>0.0</td>\n",
       "      <td>0.0</td>\n",
       "      <td>0.0</td>\n",
       "      <td>0.0</td>\n",
       "      <td>0.0</td>\n",
       "      <td>0.0</td>\n",
       "      <td>0.0</td>\n",
       "      <td>0.0</td>\n",
       "    </tr>\n",
       "    <tr>\n",
       "      <th>1</th>\n",
       "      <td>ad-rheumatoid ad-arthritis ad-expert ad-tip ad...</td>\n",
       "      <td>498</td>\n",
       "      <td>0.0</td>\n",
       "      <td>0.0</td>\n",
       "      <td>0.0</td>\n",
       "      <td>0.0</td>\n",
       "      <td>0.0</td>\n",
       "      <td>0.0</td>\n",
       "      <td>0.0</td>\n",
       "      <td>0.0</td>\n",
       "      <td>...</td>\n",
       "      <td>0.0</td>\n",
       "      <td>0.0</td>\n",
       "      <td>0.0</td>\n",
       "      <td>0.0</td>\n",
       "      <td>0.0</td>\n",
       "      <td>0.0</td>\n",
       "      <td>0.0</td>\n",
       "      <td>0.0</td>\n",
       "      <td>0.0</td>\n",
       "      <td>0.0</td>\n",
       "    </tr>\n",
       "    <tr>\n",
       "      <th>2</th>\n",
       "      <td>ad-rheumatologist ad-anju ad-varghese ad-yonke...</td>\n",
       "      <td>82</td>\n",
       "      <td>0.0</td>\n",
       "      <td>0.0</td>\n",
       "      <td>0.0</td>\n",
       "      <td>0.0</td>\n",
       "      <td>0.0</td>\n",
       "      <td>0.0</td>\n",
       "      <td>0.0</td>\n",
       "      <td>0.0</td>\n",
       "      <td>...</td>\n",
       "      <td>0.0</td>\n",
       "      <td>0.0</td>\n",
       "      <td>0.0</td>\n",
       "      <td>0.0</td>\n",
       "      <td>0.0</td>\n",
       "      <td>0.0</td>\n",
       "      <td>0.0</td>\n",
       "      <td>0.0</td>\n",
       "      <td>0.0</td>\n",
       "      <td>0.0</td>\n",
       "    </tr>\n",
       "    <tr>\n",
       "      <th>3</th>\n",
       "      <td>ad-siemen ad-water ad-remediation ad-water ad-...</td>\n",
       "      <td>159</td>\n",
       "      <td>0.0</td>\n",
       "      <td>0.0</td>\n",
       "      <td>0.0</td>\n",
       "      <td>0.0</td>\n",
       "      <td>0.0</td>\n",
       "      <td>0.0</td>\n",
       "      <td>0.0</td>\n",
       "      <td>0.0</td>\n",
       "      <td>...</td>\n",
       "      <td>0.0</td>\n",
       "      <td>0.0</td>\n",
       "      <td>0.0</td>\n",
       "      <td>0.0</td>\n",
       "      <td>0.0</td>\n",
       "      <td>0.0</td>\n",
       "      <td>0.0</td>\n",
       "      <td>0.0</td>\n",
       "      <td>0.0</td>\n",
       "      <td>0.0</td>\n",
       "    </tr>\n",
       "    <tr>\n",
       "      <th>4</th>\n",
       "      <td>ad-symptom ad-muscle ad-weakness ad-genetic ad...</td>\n",
       "      <td>11</td>\n",
       "      <td>0.0</td>\n",
       "      <td>0.0</td>\n",
       "      <td>0.0</td>\n",
       "      <td>0.0</td>\n",
       "      <td>0.0</td>\n",
       "      <td>0.0</td>\n",
       "      <td>0.0</td>\n",
       "      <td>0.0</td>\n",
       "      <td>...</td>\n",
       "      <td>0.0</td>\n",
       "      <td>0.0</td>\n",
       "      <td>0.0</td>\n",
       "      <td>0.0</td>\n",
       "      <td>0.0</td>\n",
       "      <td>0.0</td>\n",
       "      <td>0.0</td>\n",
       "      <td>0.0</td>\n",
       "      <td>0.0</td>\n",
       "      <td>0.0</td>\n",
       "    </tr>\n",
       "    <tr>\n",
       "      <th>...</th>\n",
       "      <td>...</td>\n",
       "      <td>...</td>\n",
       "      <td>...</td>\n",
       "      <td>...</td>\n",
       "      <td>...</td>\n",
       "      <td>...</td>\n",
       "      <td>...</td>\n",
       "      <td>...</td>\n",
       "      <td>...</td>\n",
       "      <td>...</td>\n",
       "      <td>...</td>\n",
       "      <td>...</td>\n",
       "      <td>...</td>\n",
       "      <td>...</td>\n",
       "      <td>...</td>\n",
       "      <td>...</td>\n",
       "      <td>...</td>\n",
       "      <td>...</td>\n",
       "      <td>...</td>\n",
       "      <td>...</td>\n",
       "      <td>...</td>\n",
       "    </tr>\n",
       "    <tr>\n",
       "      <th>4138</th>\n",
       "      <td>ad-affordable ad-ivf ad-cost ad-efficient ad-i...</td>\n",
       "      <td>191</td>\n",
       "      <td>0.0</td>\n",
       "      <td>0.0</td>\n",
       "      <td>0.0</td>\n",
       "      <td>0.0</td>\n",
       "      <td>0.0</td>\n",
       "      <td>0.0</td>\n",
       "      <td>0.0</td>\n",
       "      <td>0.0</td>\n",
       "      <td>...</td>\n",
       "      <td>0.0</td>\n",
       "      <td>0.0</td>\n",
       "      <td>0.0</td>\n",
       "      <td>0.0</td>\n",
       "      <td>0.0</td>\n",
       "      <td>0.0</td>\n",
       "      <td>0.0</td>\n",
       "      <td>0.0</td>\n",
       "      <td>0.0</td>\n",
       "      <td>0.0</td>\n",
       "    </tr>\n",
       "    <tr>\n",
       "      <th>4139</th>\n",
       "      <td>ad-mozypro ad-business ad-backup ad-affordable...</td>\n",
       "      <td>204</td>\n",
       "      <td>0.0</td>\n",
       "      <td>0.0</td>\n",
       "      <td>0.0</td>\n",
       "      <td>0.0</td>\n",
       "      <td>0.0</td>\n",
       "      <td>0.0</td>\n",
       "      <td>0.0</td>\n",
       "      <td>0.0</td>\n",
       "      <td>...</td>\n",
       "      <td>0.0</td>\n",
       "      <td>0.0</td>\n",
       "      <td>0.0</td>\n",
       "      <td>0.0</td>\n",
       "      <td>0.0</td>\n",
       "      <td>0.0</td>\n",
       "      <td>0.0</td>\n",
       "      <td>0.0</td>\n",
       "      <td>0.0</td>\n",
       "      <td>0.0</td>\n",
       "    </tr>\n",
       "    <tr>\n",
       "      <th>4140</th>\n",
       "      <td>ad-oster ad-line ad-clipper ad-oster ad-factor...</td>\n",
       "      <td>1139</td>\n",
       "      <td>0.0</td>\n",
       "      <td>0.0</td>\n",
       "      <td>0.0</td>\n",
       "      <td>0.0</td>\n",
       "      <td>0.0</td>\n",
       "      <td>0.0</td>\n",
       "      <td>0.0</td>\n",
       "      <td>0.0</td>\n",
       "      <td>...</td>\n",
       "      <td>0.0</td>\n",
       "      <td>0.0</td>\n",
       "      <td>0.0</td>\n",
       "      <td>0.0</td>\n",
       "      <td>0.0</td>\n",
       "      <td>0.0</td>\n",
       "      <td>0.0</td>\n",
       "      <td>0.0</td>\n",
       "      <td>0.0</td>\n",
       "      <td>0.0</td>\n",
       "    </tr>\n",
       "    <tr>\n",
       "      <th>4141</th>\n",
       "      <td>ad-synrevoice ad-schoolconnect ad-trust ad-aut...</td>\n",
       "      <td>145</td>\n",
       "      <td>0.0</td>\n",
       "      <td>0.0</td>\n",
       "      <td>0.0</td>\n",
       "      <td>0.0</td>\n",
       "      <td>0.0</td>\n",
       "      <td>0.0</td>\n",
       "      <td>0.0</td>\n",
       "      <td>0.0</td>\n",
       "      <td>...</td>\n",
       "      <td>0.0</td>\n",
       "      <td>0.0</td>\n",
       "      <td>0.0</td>\n",
       "      <td>0.0</td>\n",
       "      <td>0.0</td>\n",
       "      <td>0.0</td>\n",
       "      <td>0.0</td>\n",
       "      <td>0.0</td>\n",
       "      <td>0.0</td>\n",
       "      <td>0.0</td>\n",
       "    </tr>\n",
       "    <tr>\n",
       "      <th>4142</th>\n",
       "      <td>ad-vet ad-online ad-veterinarian ad-online ad-...</td>\n",
       "      <td>970</td>\n",
       "      <td>0.0</td>\n",
       "      <td>0.0</td>\n",
       "      <td>0.0</td>\n",
       "      <td>0.0</td>\n",
       "      <td>0.0</td>\n",
       "      <td>0.0</td>\n",
       "      <td>0.0</td>\n",
       "      <td>0.0</td>\n",
       "      <td>...</td>\n",
       "      <td>0.0</td>\n",
       "      <td>0.0</td>\n",
       "      <td>0.0</td>\n",
       "      <td>0.0</td>\n",
       "      <td>0.0</td>\n",
       "      <td>0.0</td>\n",
       "      <td>0.0</td>\n",
       "      <td>0.0</td>\n",
       "      <td>0.0</td>\n",
       "      <td>0.0</td>\n",
       "    </tr>\n",
       "  </tbody>\n",
       "</table>\n",
       "<p>4143 rows × 43604 columns</p>\n",
       "</div>"
      ],
      "text/plain": [
       "                                                     Ad  Word_Count   aa  aaa  \\\n",
       "0     ad-jerry ad-bruckheimer ad-chase ad-premier ad...          11  0.0  0.0   \n",
       "1     ad-rheumatoid ad-arthritis ad-expert ad-tip ad...         498  0.0  0.0   \n",
       "2     ad-rheumatologist ad-anju ad-varghese ad-yonke...          82  0.0  0.0   \n",
       "3     ad-siemen ad-water ad-remediation ad-water ad-...         159  0.0  0.0   \n",
       "4     ad-symptom ad-muscle ad-weakness ad-genetic ad...          11  0.0  0.0   \n",
       "...                                                 ...         ...  ...  ...   \n",
       "4138  ad-affordable ad-ivf ad-cost ad-efficient ad-i...         191  0.0  0.0   \n",
       "4139  ad-mozypro ad-business ad-backup ad-affordable...         204  0.0  0.0   \n",
       "4140  ad-oster ad-line ad-clipper ad-oster ad-factor...        1139  0.0  0.0   \n",
       "4141  ad-synrevoice ad-schoolconnect ad-trust ad-aut...         145  0.0  0.0   \n",
       "4142  ad-vet ad-online ad-veterinarian ad-online ad-...         970  0.0  0.0   \n",
       "\n",
       "      aaaa  aaaaa  aaaaaaaaadc  aaaaaaaaaew  aaaaaaaaato  aaaaaaaabhc  ...  \\\n",
       "0      0.0    0.0          0.0          0.0          0.0          0.0  ...   \n",
       "1      0.0    0.0          0.0          0.0          0.0          0.0  ...   \n",
       "2      0.0    0.0          0.0          0.0          0.0          0.0  ...   \n",
       "3      0.0    0.0          0.0          0.0          0.0          0.0  ...   \n",
       "4      0.0    0.0          0.0          0.0          0.0          0.0  ...   \n",
       "...    ...    ...          ...          ...          ...          ...  ...   \n",
       "4138   0.0    0.0          0.0          0.0          0.0          0.0  ...   \n",
       "4139   0.0    0.0          0.0          0.0          0.0          0.0  ...   \n",
       "4140   0.0    0.0          0.0          0.0          0.0          0.0  ...   \n",
       "4141   0.0    0.0          0.0          0.0          0.0          0.0  ...   \n",
       "4142   0.0    0.0          0.0          0.0          0.0          0.0  ...   \n",
       "\n",
       "      zymine  zymosine  zyprexa  zyrpxqeb  zyrtec  zyvox   zz  zzakhrqaww  \\\n",
       "0        0.0       0.0      0.0       0.0     0.0    0.0  0.0         0.0   \n",
       "1        0.0       0.0      0.0       0.0     0.0    0.0  0.0         0.0   \n",
       "2        0.0       0.0      0.0       0.0     0.0    0.0  0.0         0.0   \n",
       "3        0.0       0.0      0.0       0.0     0.0    0.0  0.0         0.0   \n",
       "4        0.0       0.0      0.0       0.0     0.0    0.0  0.0         0.0   \n",
       "...      ...       ...      ...       ...     ...    ...  ...         ...   \n",
       "4138     0.0       0.0      0.0       0.0     0.0    0.0  0.0         0.0   \n",
       "4139     0.0       0.0      0.0       0.0     0.0    0.0  0.0         0.0   \n",
       "4140     0.0       0.0      0.0       0.0     0.0    0.0  0.0         0.0   \n",
       "4141     0.0       0.0      0.0       0.0     0.0    0.0  0.0         0.0   \n",
       "4142     0.0       0.0      0.0       0.0     0.0    0.0  0.0         0.0   \n",
       "\n",
       "      zzay  zzz  \n",
       "0      0.0  0.0  \n",
       "1      0.0  0.0  \n",
       "2      0.0  0.0  \n",
       "3      0.0  0.0  \n",
       "4      0.0  0.0  \n",
       "...    ...  ...  \n",
       "4138   0.0  0.0  \n",
       "4139   0.0  0.0  \n",
       "4140   0.0  0.0  \n",
       "4141   0.0  0.0  \n",
       "4142   0.0  0.0  \n",
       "\n",
       "[4143 rows x 43604 columns]"
      ]
     },
     "execution_count": 103,
     "metadata": {},
     "output_type": "execute_result"
    }
   ],
   "source": [
    "X_ready = X_data.join(data_tfidf, rsuffix='_word', how='left')\n",
    "X_ready"
   ]
  },
  {
   "cell_type": "markdown",
   "id": "04a1d6f0",
   "metadata": {},
   "source": [
    "### Modele de regresie si de clasificare\n",
    "\n",
    "Vom crea un dataframe pentru a memora scorurile calculate."
   ]
  },
  {
   "cell_type": "code",
   "execution_count": 104,
   "id": "691f6785",
   "metadata": {
    "ExecuteTime": {
     "end_time": "2021-05-26T11:30:00.203217Z",
     "start_time": "2021-05-26T11:30:00.182321Z"
    }
   },
   "outputs": [
    {
     "data": {
      "text/html": [
       "<div>\n",
       "<style scoped>\n",
       "    .dataframe tbody tr th:only-of-type {\n",
       "        vertical-align: middle;\n",
       "    }\n",
       "\n",
       "    .dataframe tbody tr th {\n",
       "        vertical-align: top;\n",
       "    }\n",
       "\n",
       "    .dataframe thead th {\n",
       "        text-align: right;\n",
       "    }\n",
       "</style>\n",
       "<table border=\"1\" class=\"dataframe\">\n",
       "  <thead>\n",
       "    <tr style=\"text-align: right;\">\n",
       "      <th></th>\n",
       "      <th>model</th>\n",
       "      <th>fit_time</th>\n",
       "      <th>score_time</th>\n",
       "      <th>test_accuracy</th>\n",
       "      <th>train_accuracy</th>\n",
       "      <th>test_f1</th>\n",
       "      <th>train_f1</th>\n",
       "    </tr>\n",
       "  </thead>\n",
       "  <tbody>\n",
       "  </tbody>\n",
       "</table>\n",
       "</div>"
      ],
      "text/plain": [
       "Empty DataFrame\n",
       "Columns: [model, fit_time, score_time, test_accuracy, train_accuracy, test_f1, train_f1]\n",
       "Index: []"
      ]
     },
     "execution_count": 104,
     "metadata": {},
     "output_type": "execute_result"
    }
   ],
   "source": [
    "column_names = ['model', 'fit_time', 'score_time', 'test_accuracy', 'train_accuracy', 'test_f1', 'train_f1']\n",
    "scores_df = pd.DataFrame(columns = column_names)\n",
    "\n",
    "scores_df.head()"
   ]
  },
  {
   "cell_type": "code",
   "execution_count": 105,
   "id": "56d0661d",
   "metadata": {
    "ExecuteTime": {
     "end_time": "2021-05-26T11:30:33.778077Z",
     "start_time": "2021-05-26T11:30:33.449631Z"
    }
   },
   "outputs": [
    {
     "data": {
      "text/html": [
       "<div>\n",
       "<style scoped>\n",
       "    .dataframe tbody tr th:only-of-type {\n",
       "        vertical-align: middle;\n",
       "    }\n",
       "\n",
       "    .dataframe tbody tr th {\n",
       "        vertical-align: top;\n",
       "    }\n",
       "\n",
       "    .dataframe thead th {\n",
       "        text-align: right;\n",
       "    }\n",
       "</style>\n",
       "<table border=\"1\" class=\"dataframe\">\n",
       "  <thead>\n",
       "    <tr style=\"text-align: right;\">\n",
       "      <th></th>\n",
       "      <th>Word_Count</th>\n",
       "      <th>aa</th>\n",
       "      <th>aaa</th>\n",
       "      <th>aaaa</th>\n",
       "      <th>aaaaa</th>\n",
       "      <th>aaaaaaaaadc</th>\n",
       "      <th>aaaaaaaaaew</th>\n",
       "      <th>aaaaaaaaato</th>\n",
       "      <th>aaaaaaaabhc</th>\n",
       "      <th>aaaaaaaagy</th>\n",
       "      <th>...</th>\n",
       "      <th>zymine</th>\n",
       "      <th>zymosine</th>\n",
       "      <th>zyprexa</th>\n",
       "      <th>zyrpxqeb</th>\n",
       "      <th>zyrtec</th>\n",
       "      <th>zyvox</th>\n",
       "      <th>zz</th>\n",
       "      <th>zzakhrqaww</th>\n",
       "      <th>zzay</th>\n",
       "      <th>zzz</th>\n",
       "    </tr>\n",
       "  </thead>\n",
       "  <tbody>\n",
       "    <tr>\n",
       "      <th>0</th>\n",
       "      <td>11</td>\n",
       "      <td>0.0</td>\n",
       "      <td>0.0</td>\n",
       "      <td>0.0</td>\n",
       "      <td>0.0</td>\n",
       "      <td>0.0</td>\n",
       "      <td>0.0</td>\n",
       "      <td>0.0</td>\n",
       "      <td>0.0</td>\n",
       "      <td>0.0</td>\n",
       "      <td>...</td>\n",
       "      <td>0.0</td>\n",
       "      <td>0.0</td>\n",
       "      <td>0.0</td>\n",
       "      <td>0.0</td>\n",
       "      <td>0.0</td>\n",
       "      <td>0.0</td>\n",
       "      <td>0.0</td>\n",
       "      <td>0.0</td>\n",
       "      <td>0.0</td>\n",
       "      <td>0.0</td>\n",
       "    </tr>\n",
       "    <tr>\n",
       "      <th>1</th>\n",
       "      <td>498</td>\n",
       "      <td>0.0</td>\n",
       "      <td>0.0</td>\n",
       "      <td>0.0</td>\n",
       "      <td>0.0</td>\n",
       "      <td>0.0</td>\n",
       "      <td>0.0</td>\n",
       "      <td>0.0</td>\n",
       "      <td>0.0</td>\n",
       "      <td>0.0</td>\n",
       "      <td>...</td>\n",
       "      <td>0.0</td>\n",
       "      <td>0.0</td>\n",
       "      <td>0.0</td>\n",
       "      <td>0.0</td>\n",
       "      <td>0.0</td>\n",
       "      <td>0.0</td>\n",
       "      <td>0.0</td>\n",
       "      <td>0.0</td>\n",
       "      <td>0.0</td>\n",
       "      <td>0.0</td>\n",
       "    </tr>\n",
       "    <tr>\n",
       "      <th>2</th>\n",
       "      <td>82</td>\n",
       "      <td>0.0</td>\n",
       "      <td>0.0</td>\n",
       "      <td>0.0</td>\n",
       "      <td>0.0</td>\n",
       "      <td>0.0</td>\n",
       "      <td>0.0</td>\n",
       "      <td>0.0</td>\n",
       "      <td>0.0</td>\n",
       "      <td>0.0</td>\n",
       "      <td>...</td>\n",
       "      <td>0.0</td>\n",
       "      <td>0.0</td>\n",
       "      <td>0.0</td>\n",
       "      <td>0.0</td>\n",
       "      <td>0.0</td>\n",
       "      <td>0.0</td>\n",
       "      <td>0.0</td>\n",
       "      <td>0.0</td>\n",
       "      <td>0.0</td>\n",
       "      <td>0.0</td>\n",
       "    </tr>\n",
       "    <tr>\n",
       "      <th>3</th>\n",
       "      <td>159</td>\n",
       "      <td>0.0</td>\n",
       "      <td>0.0</td>\n",
       "      <td>0.0</td>\n",
       "      <td>0.0</td>\n",
       "      <td>0.0</td>\n",
       "      <td>0.0</td>\n",
       "      <td>0.0</td>\n",
       "      <td>0.0</td>\n",
       "      <td>0.0</td>\n",
       "      <td>...</td>\n",
       "      <td>0.0</td>\n",
       "      <td>0.0</td>\n",
       "      <td>0.0</td>\n",
       "      <td>0.0</td>\n",
       "      <td>0.0</td>\n",
       "      <td>0.0</td>\n",
       "      <td>0.0</td>\n",
       "      <td>0.0</td>\n",
       "      <td>0.0</td>\n",
       "      <td>0.0</td>\n",
       "    </tr>\n",
       "    <tr>\n",
       "      <th>4</th>\n",
       "      <td>11</td>\n",
       "      <td>0.0</td>\n",
       "      <td>0.0</td>\n",
       "      <td>0.0</td>\n",
       "      <td>0.0</td>\n",
       "      <td>0.0</td>\n",
       "      <td>0.0</td>\n",
       "      <td>0.0</td>\n",
       "      <td>0.0</td>\n",
       "      <td>0.0</td>\n",
       "      <td>...</td>\n",
       "      <td>0.0</td>\n",
       "      <td>0.0</td>\n",
       "      <td>0.0</td>\n",
       "      <td>0.0</td>\n",
       "      <td>0.0</td>\n",
       "      <td>0.0</td>\n",
       "      <td>0.0</td>\n",
       "      <td>0.0</td>\n",
       "      <td>0.0</td>\n",
       "      <td>0.0</td>\n",
       "    </tr>\n",
       "    <tr>\n",
       "      <th>...</th>\n",
       "      <td>...</td>\n",
       "      <td>...</td>\n",
       "      <td>...</td>\n",
       "      <td>...</td>\n",
       "      <td>...</td>\n",
       "      <td>...</td>\n",
       "      <td>...</td>\n",
       "      <td>...</td>\n",
       "      <td>...</td>\n",
       "      <td>...</td>\n",
       "      <td>...</td>\n",
       "      <td>...</td>\n",
       "      <td>...</td>\n",
       "      <td>...</td>\n",
       "      <td>...</td>\n",
       "      <td>...</td>\n",
       "      <td>...</td>\n",
       "      <td>...</td>\n",
       "      <td>...</td>\n",
       "      <td>...</td>\n",
       "      <td>...</td>\n",
       "    </tr>\n",
       "    <tr>\n",
       "      <th>4138</th>\n",
       "      <td>191</td>\n",
       "      <td>0.0</td>\n",
       "      <td>0.0</td>\n",
       "      <td>0.0</td>\n",
       "      <td>0.0</td>\n",
       "      <td>0.0</td>\n",
       "      <td>0.0</td>\n",
       "      <td>0.0</td>\n",
       "      <td>0.0</td>\n",
       "      <td>0.0</td>\n",
       "      <td>...</td>\n",
       "      <td>0.0</td>\n",
       "      <td>0.0</td>\n",
       "      <td>0.0</td>\n",
       "      <td>0.0</td>\n",
       "      <td>0.0</td>\n",
       "      <td>0.0</td>\n",
       "      <td>0.0</td>\n",
       "      <td>0.0</td>\n",
       "      <td>0.0</td>\n",
       "      <td>0.0</td>\n",
       "    </tr>\n",
       "    <tr>\n",
       "      <th>4139</th>\n",
       "      <td>204</td>\n",
       "      <td>0.0</td>\n",
       "      <td>0.0</td>\n",
       "      <td>0.0</td>\n",
       "      <td>0.0</td>\n",
       "      <td>0.0</td>\n",
       "      <td>0.0</td>\n",
       "      <td>0.0</td>\n",
       "      <td>0.0</td>\n",
       "      <td>0.0</td>\n",
       "      <td>...</td>\n",
       "      <td>0.0</td>\n",
       "      <td>0.0</td>\n",
       "      <td>0.0</td>\n",
       "      <td>0.0</td>\n",
       "      <td>0.0</td>\n",
       "      <td>0.0</td>\n",
       "      <td>0.0</td>\n",
       "      <td>0.0</td>\n",
       "      <td>0.0</td>\n",
       "      <td>0.0</td>\n",
       "    </tr>\n",
       "    <tr>\n",
       "      <th>4140</th>\n",
       "      <td>1139</td>\n",
       "      <td>0.0</td>\n",
       "      <td>0.0</td>\n",
       "      <td>0.0</td>\n",
       "      <td>0.0</td>\n",
       "      <td>0.0</td>\n",
       "      <td>0.0</td>\n",
       "      <td>0.0</td>\n",
       "      <td>0.0</td>\n",
       "      <td>0.0</td>\n",
       "      <td>...</td>\n",
       "      <td>0.0</td>\n",
       "      <td>0.0</td>\n",
       "      <td>0.0</td>\n",
       "      <td>0.0</td>\n",
       "      <td>0.0</td>\n",
       "      <td>0.0</td>\n",
       "      <td>0.0</td>\n",
       "      <td>0.0</td>\n",
       "      <td>0.0</td>\n",
       "      <td>0.0</td>\n",
       "    </tr>\n",
       "    <tr>\n",
       "      <th>4141</th>\n",
       "      <td>145</td>\n",
       "      <td>0.0</td>\n",
       "      <td>0.0</td>\n",
       "      <td>0.0</td>\n",
       "      <td>0.0</td>\n",
       "      <td>0.0</td>\n",
       "      <td>0.0</td>\n",
       "      <td>0.0</td>\n",
       "      <td>0.0</td>\n",
       "      <td>0.0</td>\n",
       "      <td>...</td>\n",
       "      <td>0.0</td>\n",
       "      <td>0.0</td>\n",
       "      <td>0.0</td>\n",
       "      <td>0.0</td>\n",
       "      <td>0.0</td>\n",
       "      <td>0.0</td>\n",
       "      <td>0.0</td>\n",
       "      <td>0.0</td>\n",
       "      <td>0.0</td>\n",
       "      <td>0.0</td>\n",
       "    </tr>\n",
       "    <tr>\n",
       "      <th>4142</th>\n",
       "      <td>970</td>\n",
       "      <td>0.0</td>\n",
       "      <td>0.0</td>\n",
       "      <td>0.0</td>\n",
       "      <td>0.0</td>\n",
       "      <td>0.0</td>\n",
       "      <td>0.0</td>\n",
       "      <td>0.0</td>\n",
       "      <td>0.0</td>\n",
       "      <td>0.0</td>\n",
       "      <td>...</td>\n",
       "      <td>0.0</td>\n",
       "      <td>0.0</td>\n",
       "      <td>0.0</td>\n",
       "      <td>0.0</td>\n",
       "      <td>0.0</td>\n",
       "      <td>0.0</td>\n",
       "      <td>0.0</td>\n",
       "      <td>0.0</td>\n",
       "      <td>0.0</td>\n",
       "      <td>0.0</td>\n",
       "    </tr>\n",
       "  </tbody>\n",
       "</table>\n",
       "<p>4143 rows × 43603 columns</p>\n",
       "</div>"
      ],
      "text/plain": [
       "      Word_Count   aa  aaa  aaaa  aaaaa  aaaaaaaaadc  aaaaaaaaaew  \\\n",
       "0             11  0.0  0.0   0.0    0.0          0.0          0.0   \n",
       "1            498  0.0  0.0   0.0    0.0          0.0          0.0   \n",
       "2             82  0.0  0.0   0.0    0.0          0.0          0.0   \n",
       "3            159  0.0  0.0   0.0    0.0          0.0          0.0   \n",
       "4             11  0.0  0.0   0.0    0.0          0.0          0.0   \n",
       "...          ...  ...  ...   ...    ...          ...          ...   \n",
       "4138         191  0.0  0.0   0.0    0.0          0.0          0.0   \n",
       "4139         204  0.0  0.0   0.0    0.0          0.0          0.0   \n",
       "4140        1139  0.0  0.0   0.0    0.0          0.0          0.0   \n",
       "4141         145  0.0  0.0   0.0    0.0          0.0          0.0   \n",
       "4142         970  0.0  0.0   0.0    0.0          0.0          0.0   \n",
       "\n",
       "      aaaaaaaaato  aaaaaaaabhc  aaaaaaaagy  ...  zymine  zymosine  zyprexa  \\\n",
       "0             0.0          0.0         0.0  ...     0.0       0.0      0.0   \n",
       "1             0.0          0.0         0.0  ...     0.0       0.0      0.0   \n",
       "2             0.0          0.0         0.0  ...     0.0       0.0      0.0   \n",
       "3             0.0          0.0         0.0  ...     0.0       0.0      0.0   \n",
       "4             0.0          0.0         0.0  ...     0.0       0.0      0.0   \n",
       "...           ...          ...         ...  ...     ...       ...      ...   \n",
       "4138          0.0          0.0         0.0  ...     0.0       0.0      0.0   \n",
       "4139          0.0          0.0         0.0  ...     0.0       0.0      0.0   \n",
       "4140          0.0          0.0         0.0  ...     0.0       0.0      0.0   \n",
       "4141          0.0          0.0         0.0  ...     0.0       0.0      0.0   \n",
       "4142          0.0          0.0         0.0  ...     0.0       0.0      0.0   \n",
       "\n",
       "      zyrpxqeb  zyrtec  zyvox   zz  zzakhrqaww  zzay  zzz  \n",
       "0          0.0     0.0    0.0  0.0         0.0   0.0  0.0  \n",
       "1          0.0     0.0    0.0  0.0         0.0   0.0  0.0  \n",
       "2          0.0     0.0    0.0  0.0         0.0   0.0  0.0  \n",
       "3          0.0     0.0    0.0  0.0         0.0   0.0  0.0  \n",
       "4          0.0     0.0    0.0  0.0         0.0   0.0  0.0  \n",
       "...        ...     ...    ...  ...         ...   ...  ...  \n",
       "4138       0.0     0.0    0.0  0.0         0.0   0.0  0.0  \n",
       "4139       0.0     0.0    0.0  0.0         0.0   0.0  0.0  \n",
       "4140       0.0     0.0    0.0  0.0         0.0   0.0  0.0  \n",
       "4141       0.0     0.0    0.0  0.0         0.0   0.0  0.0  \n",
       "4142       0.0     0.0    0.0  0.0         0.0   0.0  0.0  \n",
       "\n",
       "[4143 rows x 43603 columns]"
      ]
     },
     "execution_count": 105,
     "metadata": {},
     "output_type": "execute_result"
    }
   ],
   "source": [
    "X_ready = X_ready.drop(columns = ['Ad'])\n",
    "X_ready"
   ]
  },
  {
   "cell_type": "markdown",
   "id": "2f5b01ed",
   "metadata": {},
   "source": [
    "#### LogisticRegression"
   ]
  },
  {
   "cell_type": "markdown",
   "id": "29d784c9",
   "metadata": {},
   "source": [
    "Cautarea valorilor optime ale hiperparametrilor folosind RandomizedSearchCV"
   ]
  },
  {
   "cell_type": "code",
   "execution_count": 107,
   "id": "be11bb53",
   "metadata": {
    "ExecuteTime": {
     "end_time": "2021-05-26T11:37:51.939310Z",
     "start_time": "2021-05-26T11:36:02.136043Z"
    }
   },
   "outputs": [
    {
     "name": "stdout",
     "output_type": "stream",
     "text": [
      "{'penalty': 'l2', 'C': 11.288378916846883}\n"
     ]
    }
   ],
   "source": [
    "regression = LogisticRegression(solver='liblinear', max_iter=1000)\n",
    "parameter_grid = {'penalty': ['l1', 'l2'], 'C': np.logspace(-4, 4, 20)}\n",
    "random_search = RandomizedSearchCV(estimator=regression, param_distributions=parameter_grid, cv=5, scoring='neg_mean_squared_error', n_jobs=-1)\n",
    "random_search.fit(X_ready, y_data)\n",
    "best_parameters = random_search.best_params_\n",
    "\n",
    "print(best_parameters)"
   ]
  },
  {
   "cell_type": "code",
   "execution_count": 108,
   "id": "a06c14cc",
   "metadata": {
    "ExecuteTime": {
     "end_time": "2021-05-26T11:38:31.909574Z",
     "start_time": "2021-05-26T11:38:03.773842Z"
    }
   },
   "outputs": [
    {
     "data": {
      "text/html": [
       "<div>\n",
       "<style scoped>\n",
       "    .dataframe tbody tr th:only-of-type {\n",
       "        vertical-align: middle;\n",
       "    }\n",
       "\n",
       "    .dataframe tbody tr th {\n",
       "        vertical-align: top;\n",
       "    }\n",
       "\n",
       "    .dataframe thead th {\n",
       "        text-align: right;\n",
       "    }\n",
       "</style>\n",
       "<table border=\"1\" class=\"dataframe\">\n",
       "  <thead>\n",
       "    <tr style=\"text-align: right;\">\n",
       "      <th></th>\n",
       "      <th>model</th>\n",
       "      <th>fit_time</th>\n",
       "      <th>score_time</th>\n",
       "      <th>test_accuracy</th>\n",
       "      <th>train_accuracy</th>\n",
       "      <th>test_f1</th>\n",
       "      <th>train_f1</th>\n",
       "    </tr>\n",
       "  </thead>\n",
       "  <tbody>\n",
       "    <tr>\n",
       "      <th>0</th>\n",
       "      <td>LogisticRegression</td>\n",
       "      <td>4.458153</td>\n",
       "      <td>0.354482</td>\n",
       "      <td>0.911905</td>\n",
       "      <td>0.986845</td>\n",
       "      <td>0.919107</td>\n",
       "      <td>0.987755</td>\n",
       "    </tr>\n",
       "  </tbody>\n",
       "</table>\n",
       "</div>"
      ],
      "text/plain": [
       "                model  fit_time score_time test_accuracy train_accuracy  \\\n",
       "0  LogisticRegression  4.458153   0.354482      0.911905       0.986845   \n",
       "\n",
       "    test_f1  train_f1  \n",
       "0  0.919107  0.987755  "
      ]
     },
     "execution_count": 108,
     "metadata": {},
     "output_type": "execute_result"
    }
   ],
   "source": [
    "tunned_regression = LogisticRegression(**best_parameters, solver='liblinear', max_iter=1000)\n",
    "\n",
    "grid_scores = cross_validate(tunned_regression, X_ready, y_data, cv=5, scoring=['accuracy', 'f1'], return_train_score=True)\n",
    "\n",
    "scores = ['LogisticRegression', grid_scores['fit_time'].mean(), grid_scores['score_time'].mean(), grid_scores['test_accuracy'].mean(),\n",
    "         grid_scores['train_accuracy'].mean(), grid_scores['test_f1'].mean(), grid_scores['train_f1'].mean()]\n",
    "\n",
    "for i in range(len(column_names)):\n",
    "    scores_df.loc[0, column_names[i]] = scores[i]\n",
    "\n",
    "scores_df.head()"
   ]
  },
  {
   "cell_type": "markdown",
   "id": "95c4f5b2",
   "metadata": {},
   "source": [
    "#### DecisionTreeClassifier"
   ]
  },
  {
   "cell_type": "code",
   "execution_count": 110,
   "id": "43a4435a",
   "metadata": {
    "ExecuteTime": {
     "end_time": "2021-05-26T11:42:18.738276Z",
     "start_time": "2021-05-26T11:41:36.812267Z"
    }
   },
   "outputs": [
    {
     "name": "stdout",
     "output_type": "stream",
     "text": [
      "{'min_samples_leaf': 1, 'max_features': 4, 'max_depth': None, 'criterion': 'entropy'}\n"
     ]
    }
   ],
   "source": [
    "classifier = DecisionTreeClassifier()\n",
    "parameter_grid = {'max_depth':[3, None], 'max_features':[1, 2, 4, 5, 7], 'min_samples_leaf':[1, 2, 3, 4, 5, 6], 'criterion':['gini', 'entropy']}\n",
    "    \n",
    "random_search = RandomizedSearchCV(estimator=classifier, param_distributions=parameter_grid, cv=5, scoring='accuracy', n_jobs=-1)\n",
    "random_search.fit(X_ready, y_data)\n",
    "best_parameters = random_search.best_params_\n",
    "\n",
    "print(best_parameters)"
   ]
  },
  {
   "cell_type": "code",
   "execution_count": 111,
   "id": "9fd17c05",
   "metadata": {
    "ExecuteTime": {
     "end_time": "2021-05-26T11:42:41.282873Z",
     "start_time": "2021-05-26T11:42:28.691866Z"
    }
   },
   "outputs": [
    {
     "data": {
      "text/html": [
       "<div>\n",
       "<style scoped>\n",
       "    .dataframe tbody tr th:only-of-type {\n",
       "        vertical-align: middle;\n",
       "    }\n",
       "\n",
       "    .dataframe tbody tr th {\n",
       "        vertical-align: top;\n",
       "    }\n",
       "\n",
       "    .dataframe thead th {\n",
       "        text-align: right;\n",
       "    }\n",
       "</style>\n",
       "<table border=\"1\" class=\"dataframe\">\n",
       "  <thead>\n",
       "    <tr style=\"text-align: right;\">\n",
       "      <th></th>\n",
       "      <th>model</th>\n",
       "      <th>fit_time</th>\n",
       "      <th>score_time</th>\n",
       "      <th>test_accuracy</th>\n",
       "      <th>train_accuracy</th>\n",
       "      <th>test_f1</th>\n",
       "      <th>train_f1</th>\n",
       "    </tr>\n",
       "  </thead>\n",
       "  <tbody>\n",
       "    <tr>\n",
       "      <th>0</th>\n",
       "      <td>LogisticRegression</td>\n",
       "      <td>4.458153</td>\n",
       "      <td>0.354482</td>\n",
       "      <td>0.911905</td>\n",
       "      <td>0.986845</td>\n",
       "      <td>0.919107</td>\n",
       "      <td>0.987755</td>\n",
       "    </tr>\n",
       "    <tr>\n",
       "      <th>1</th>\n",
       "      <td>DecisionTreeClassifier</td>\n",
       "      <td>1.303698</td>\n",
       "      <td>0.366262</td>\n",
       "      <td>0.808355</td>\n",
       "      <td>0.998914</td>\n",
       "      <td>0.821981</td>\n",
       "      <td>0.998982</td>\n",
       "    </tr>\n",
       "  </tbody>\n",
       "</table>\n",
       "</div>"
      ],
      "text/plain": [
       "                    model  fit_time score_time test_accuracy train_accuracy  \\\n",
       "0      LogisticRegression  4.458153   0.354482      0.911905       0.986845   \n",
       "1  DecisionTreeClassifier  1.303698   0.366262      0.808355       0.998914   \n",
       "\n",
       "    test_f1  train_f1  \n",
       "0  0.919107  0.987755  \n",
       "1  0.821981  0.998982  "
      ]
     },
     "execution_count": 111,
     "metadata": {},
     "output_type": "execute_result"
    }
   ],
   "source": [
    "tunned_classifier = DecisionTreeClassifier(**best_parameters)\n",
    "\n",
    "grid_scores = cross_validate(tunned_classifier, X_ready, y_data, cv=5, scoring=['accuracy', 'f1'], return_train_score=True)\n",
    "\n",
    "scores = ['DecisionTreeClassifier', grid_scores['fit_time'].mean(), grid_scores['score_time'].mean(), grid_scores['test_accuracy'].mean(),\n",
    "         grid_scores['train_accuracy'].mean(), grid_scores['test_f1'].mean(), grid_scores['train_f1'].mean()]\n",
    "\n",
    "for i in range(len(column_names)):\n",
    "    scores_df.loc[1, column_names[i]] = scores[i]\n",
    "\n",
    "scores_df.head()"
   ]
  },
  {
   "cell_type": "markdown",
   "id": "16c99b70",
   "metadata": {},
   "source": [
    "#### KNeighborsClassifier"
   ]
  },
  {
   "cell_type": "code",
   "execution_count": 112,
   "id": "979e08ea",
   "metadata": {
    "ExecuteTime": {
     "end_time": "2021-05-26T11:57:08.960146Z",
     "start_time": "2021-05-26T11:43:04.917521Z"
    }
   },
   "outputs": [
    {
     "name": "stdout",
     "output_type": "stream",
     "text": [
      "{'p': 1, 'n_neighbors': 1}\n"
     ]
    }
   ],
   "source": [
    "classifier = KNeighborsClassifier()\n",
    "parameter_grid = {'n_neighbors': list(range(1,10)), 'p': [1, 2]}\n",
    "\n",
    "random_search = RandomizedSearchCV(estimator=classifier, param_distributions=parameter_grid, cv=5, scoring='accuracy', n_jobs=-1)\n",
    "random_search.fit(X_ready, y_data)\n",
    "best_parameters = random_search.best_params_\n",
    "\n",
    "print(best_parameters)"
   ]
  },
  {
   "cell_type": "code",
   "execution_count": 113,
   "id": "65a30b62",
   "metadata": {
    "ExecuteTime": {
     "end_time": "2021-05-26T11:59:07.627425Z",
     "start_time": "2021-05-26T11:58:55.136078Z"
    }
   },
   "outputs": [
    {
     "data": {
      "text/html": [
       "<div>\n",
       "<style scoped>\n",
       "    .dataframe tbody tr th:only-of-type {\n",
       "        vertical-align: middle;\n",
       "    }\n",
       "\n",
       "    .dataframe tbody tr th {\n",
       "        vertical-align: top;\n",
       "    }\n",
       "\n",
       "    .dataframe thead th {\n",
       "        text-align: right;\n",
       "    }\n",
       "</style>\n",
       "<table border=\"1\" class=\"dataframe\">\n",
       "  <thead>\n",
       "    <tr style=\"text-align: right;\">\n",
       "      <th></th>\n",
       "      <th>model</th>\n",
       "      <th>fit_time</th>\n",
       "      <th>score_time</th>\n",
       "      <th>test_accuracy</th>\n",
       "      <th>train_accuracy</th>\n",
       "      <th>test_f1</th>\n",
       "      <th>train_f1</th>\n",
       "    </tr>\n",
       "  </thead>\n",
       "  <tbody>\n",
       "    <tr>\n",
       "      <th>0</th>\n",
       "      <td>LogisticRegression</td>\n",
       "      <td>4.458153</td>\n",
       "      <td>0.354482</td>\n",
       "      <td>0.911905</td>\n",
       "      <td>0.986845</td>\n",
       "      <td>0.919107</td>\n",
       "      <td>0.987755</td>\n",
       "    </tr>\n",
       "    <tr>\n",
       "      <th>1</th>\n",
       "      <td>DecisionTreeClassifier</td>\n",
       "      <td>1.303698</td>\n",
       "      <td>0.366262</td>\n",
       "      <td>0.808355</td>\n",
       "      <td>0.998914</td>\n",
       "      <td>0.821981</td>\n",
       "      <td>0.998982</td>\n",
       "    </tr>\n",
       "    <tr>\n",
       "      <th>2</th>\n",
       "      <td>KNeighborsClassifier</td>\n",
       "      <td>1.296285</td>\n",
       "      <td>0.355544</td>\n",
       "      <td>0.808837</td>\n",
       "      <td>0.998914</td>\n",
       "      <td>0.823009</td>\n",
       "      <td>0.998982</td>\n",
       "    </tr>\n",
       "  </tbody>\n",
       "</table>\n",
       "</div>"
      ],
      "text/plain": [
       "                    model  fit_time score_time test_accuracy train_accuracy  \\\n",
       "0      LogisticRegression  4.458153   0.354482      0.911905       0.986845   \n",
       "1  DecisionTreeClassifier  1.303698   0.366262      0.808355       0.998914   \n",
       "2    KNeighborsClassifier  1.296285   0.355544      0.808837       0.998914   \n",
       "\n",
       "    test_f1  train_f1  \n",
       "0  0.919107  0.987755  \n",
       "1  0.821981  0.998982  \n",
       "2  0.823009  0.998982  "
      ]
     },
     "execution_count": 113,
     "metadata": {},
     "output_type": "execute_result"
    }
   ],
   "source": [
    "tunned_classifer = KNeighborsClassifier(**best_parameters)\n",
    "\n",
    "grid_scores = cross_validate(tunned_classifier, X_ready, y_data, cv=5, scoring=['accuracy', 'f1'], return_train_score=True)\n",
    "\n",
    "scores = ['KNeighborsClassifier', grid_scores['fit_time'].mean(), grid_scores['score_time'].mean(), grid_scores['test_accuracy'].mean(),\n",
    "         grid_scores['train_accuracy'].mean(), grid_scores['test_f1'].mean(), grid_scores['train_f1'].mean()]\n",
    "\n",
    "for i in range(len(column_names)):\n",
    "    scores_df.loc[2, column_names[i]] = scores[i]\n",
    "\n",
    "scores_df.head()"
   ]
  },
  {
   "cell_type": "markdown",
   "id": "8680f79c",
   "metadata": {},
   "source": [
    "#### MLP Classifier"
   ]
  },
  {
   "cell_type": "code",
   "execution_count": 114,
   "id": "65793271",
   "metadata": {
    "ExecuteTime": {
     "end_time": "2021-05-26T14:03:10.078715Z",
     "start_time": "2021-05-26T11:59:48.713396Z"
    }
   },
   "outputs": [
    {
     "name": "stdout",
     "output_type": "stream",
     "text": [
      "{'solver': 'adam', 'learning_rate': 'constant', 'hidden_layer_sizes': (50, 50, 50), 'alpha': 0.0001, 'activation': 'relu'}\n"
     ]
    }
   ],
   "source": [
    "classifier = MLPClassifier(max_iter=100)\n",
    "parameter_grid = {'hidden_layer_sizes': [(50,50,50), (50, 100, 50), (100,)], 'activation': ['tanh', 'relu'], 'solver': ['sgd', 'adam'],\n",
    "                 'alpha': [0.0001, 0.05], 'learning_rate': ['constant', 'adaptive']}\n",
    "\n",
    "random_search = RandomizedSearchCV(estimator=classifier, param_distributions=parameter_grid, cv=5, scoring='accuracy', n_jobs=-1)\n",
    "random_search.fit(X_ready, y_data)\n",
    "best_parameters = random_search.best_params_\n",
    "\n",
    "print(best_parameters)"
   ]
  },
  {
   "cell_type": "markdown",
   "id": "665a3c1f",
   "metadata": {},
   "source": [
    "**Rularea celulei de mai sus dureaza aproximativ 120 de minute !!!!**"
   ]
  },
  {
   "cell_type": "code",
   "execution_count": 115,
   "id": "c298c3ff",
   "metadata": {
    "ExecuteTime": {
     "end_time": "2021-05-26T14:04:09.787460Z",
     "start_time": "2021-05-26T14:03:35.899805Z"
    }
   },
   "outputs": [
    {
     "data": {
      "text/html": [
       "<div>\n",
       "<style scoped>\n",
       "    .dataframe tbody tr th:only-of-type {\n",
       "        vertical-align: middle;\n",
       "    }\n",
       "\n",
       "    .dataframe tbody tr th {\n",
       "        vertical-align: top;\n",
       "    }\n",
       "\n",
       "    .dataframe thead th {\n",
       "        text-align: right;\n",
       "    }\n",
       "</style>\n",
       "<table border=\"1\" class=\"dataframe\">\n",
       "  <thead>\n",
       "    <tr style=\"text-align: right;\">\n",
       "      <th></th>\n",
       "      <th>model</th>\n",
       "      <th>fit_time</th>\n",
       "      <th>score_time</th>\n",
       "      <th>test_accuracy</th>\n",
       "      <th>train_accuracy</th>\n",
       "      <th>test_f1</th>\n",
       "      <th>train_f1</th>\n",
       "    </tr>\n",
       "  </thead>\n",
       "  <tbody>\n",
       "    <tr>\n",
       "      <th>0</th>\n",
       "      <td>LogisticRegression</td>\n",
       "      <td>4.458153</td>\n",
       "      <td>0.354482</td>\n",
       "      <td>0.911905</td>\n",
       "      <td>0.986845</td>\n",
       "      <td>0.919107</td>\n",
       "      <td>0.987755</td>\n",
       "    </tr>\n",
       "    <tr>\n",
       "      <th>1</th>\n",
       "      <td>DecisionTreeClassifier</td>\n",
       "      <td>1.303698</td>\n",
       "      <td>0.366262</td>\n",
       "      <td>0.808355</td>\n",
       "      <td>0.998914</td>\n",
       "      <td>0.821981</td>\n",
       "      <td>0.998982</td>\n",
       "    </tr>\n",
       "    <tr>\n",
       "      <th>2</th>\n",
       "      <td>KNeighborsClassifier</td>\n",
       "      <td>1.296285</td>\n",
       "      <td>0.355544</td>\n",
       "      <td>0.808837</td>\n",
       "      <td>0.998914</td>\n",
       "      <td>0.823009</td>\n",
       "      <td>0.998982</td>\n",
       "    </tr>\n",
       "    <tr>\n",
       "      <th>3</th>\n",
       "      <td>MLPClassifier</td>\n",
       "      <td>3.523617</td>\n",
       "      <td>0.968865</td>\n",
       "      <td>0.808347</td>\n",
       "      <td>0.998914</td>\n",
       "      <td>0.82006</td>\n",
       "      <td>0.998982</td>\n",
       "    </tr>\n",
       "  </tbody>\n",
       "</table>\n",
       "</div>"
      ],
      "text/plain": [
       "                    model  fit_time score_time test_accuracy train_accuracy  \\\n",
       "0      LogisticRegression  4.458153   0.354482      0.911905       0.986845   \n",
       "1  DecisionTreeClassifier  1.303698   0.366262      0.808355       0.998914   \n",
       "2    KNeighborsClassifier  1.296285   0.355544      0.808837       0.998914   \n",
       "3           MLPClassifier  3.523617   0.968865      0.808347       0.998914   \n",
       "\n",
       "    test_f1  train_f1  \n",
       "0  0.919107  0.987755  \n",
       "1  0.821981  0.998982  \n",
       "2  0.823009  0.998982  \n",
       "3   0.82006  0.998982  "
      ]
     },
     "execution_count": 115,
     "metadata": {},
     "output_type": "execute_result"
    }
   ],
   "source": [
    "tunned_classifer = MLPClassifier(**best_parameters, max_iter=100)\n",
    "\n",
    "grid_scores = cross_validate(tunned_classifier, X_ready, y_data, cv=5, scoring=['accuracy', 'f1'], return_train_score=True)\n",
    "\n",
    "scores = ['MLPClassifier', grid_scores['fit_time'].mean(), grid_scores['score_time'].mean(), grid_scores['test_accuracy'].mean(),\n",
    "         grid_scores['train_accuracy'].mean(), grid_scores['test_f1'].mean(), grid_scores['train_f1'].mean()]\n",
    "\n",
    "for i in range(len(column_names)):\n",
    "    scores_df.loc[3, column_names[i]] = scores[i]\n",
    "\n",
    "scores_df.head()"
   ]
  },
  {
   "cell_type": "markdown",
   "id": "4227ab3e",
   "metadata": {},
   "source": [
    "Vom exporta un fisier html cu rezultatele:"
   ]
  },
  {
   "cell_type": "code",
   "execution_count": 116,
   "id": "e3e105a7",
   "metadata": {
    "ExecuteTime": {
     "end_time": "2021-05-26T14:04:22.787220Z",
     "start_time": "2021-05-26T14:04:22.758172Z"
    }
   },
   "outputs": [],
   "source": [
    "html = scores_df.to_html()\n",
    "file = open(\"output/FarmAds_DataSet.html\", \"w\")\n",
    "file.write(html)\n",
    "file.close()"
   ]
  }
 ],
 "metadata": {
  "kernelspec": {
   "display_name": "Python 3",
   "language": "python",
   "name": "python3"
  },
  "language_info": {
   "codemirror_mode": {
    "name": "ipython",
    "version": 3
   },
   "file_extension": ".py",
   "mimetype": "text/x-python",
   "name": "python",
   "nbconvert_exporter": "python",
   "pygments_lexer": "ipython3",
   "version": "3.8.8"
  },
  "toc": {
   "base_numbering": 1,
   "nav_menu": {
    "height": "251px",
    "width": "358px"
   },
   "number_sections": true,
   "sideBar": true,
   "skip_h1_title": false,
   "title_cell": "Table of Contents",
   "title_sidebar": "Contents",
   "toc_cell": false,
   "toc_position": {},
   "toc_section_display": true,
   "toc_window_display": false
  }
 },
 "nbformat": 4,
 "nbformat_minor": 5
}
