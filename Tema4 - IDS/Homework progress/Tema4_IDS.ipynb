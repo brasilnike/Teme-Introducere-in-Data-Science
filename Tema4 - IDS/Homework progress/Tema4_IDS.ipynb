{
 "cells": [
  {
   "cell_type": "markdown",
   "metadata": {},
   "source": [
    "# Tema 4 - Metode de clasificare"
   ]
  },
  {
   "cell_type": "markdown",
   "metadata": {},
   "source": [
    "Folositi 4 seturi de date pentru probleme de clasificare, plecand de la repository-urile specificate in Cursul 6. Cel putin un set de date sa fie cu valori lipsa; pentru un alt set de date care are initial toate valorile, introduceti dvs. in mod artificial valori lipsa, suprascriind un anumit procent din valorile initiale (ex. `p=5%`, `p` parametru) cu `numpy.nan`. "
   ]
  },
  {
   "cell_type": "code",
   "execution_count": 1,
   "metadata": {},
   "outputs": [
    {
     "name": "stdout",
     "output_type": "stream",
     "text": [
      "At the moment the program was made:\n",
      "\tNumPy Version = 1.20.2\n",
      "\tScykit_learn Version = 0.24.1\n",
      "\tPandas Version = 1.2.3\n",
      "\n",
      "Current NumPy Version = 1.20.1\n",
      "Current Sklearn Version = 0.24.1\n",
      "Current Pandas Version = 1.2.4\n"
     ]
    }
   ],
   "source": [
    "import numpy as np\n",
    "import pandas as pd\n",
    "import sklearn\n",
    "\n",
    "print('At the moment the program was made:')\n",
    "print('\\tNumPy Version = 1.20.2')\n",
    "print('\\tScykit_learn Version = 0.24.1')\n",
    "print('\\tPandas Version = 1.2.3\\n')\n",
    "\n",
    "print(f'Current NumPy Version = {np.__version__}')\n",
    "print(f'Current Sklearn Version = {sklearn.__version__}')\n",
    "print(f'Current Pandas Version = {pd.__version__}')"
   ]
  },
  {
   "cell_type": "markdown",
   "metadata": {},
   "source": [
    "1. Aplicati o metoda de missing value imputation, unde este cazul; documentati metoda folosita.\n",
    "*Resurse*: Pentru missing value imputation, puteti urmari [Imputation of missing values](https://scikit-learn.org/stable/modules/impute.html), [How to Handle Missing Data with Python](https://machinelearningmastery.com/handle-missing-data-python/), [fancyimpute](https://github.com/iskandr/fancyimpute), [missingpy](https://github.com/epsilon-machine/missingpy)."
   ]
  },
  {
   "cell_type": "markdown",
   "metadata": {},
   "source": [
    "* Setul de date Planning Relax"
   ]
  },
  {
   "cell_type": "code",
   "execution_count": 2,
   "metadata": {},
   "outputs": [
    {
     "data": {
      "text/html": [
       "<div>\n",
       "<style scoped>\n",
       "    .dataframe tbody tr th:only-of-type {\n",
       "        vertical-align: middle;\n",
       "    }\n",
       "\n",
       "    .dataframe tbody tr th {\n",
       "        vertical-align: top;\n",
       "    }\n",
       "\n",
       "    .dataframe thead th {\n",
       "        text-align: right;\n",
       "    }\n",
       "</style>\n",
       "<table border=\"1\" class=\"dataframe\">\n",
       "  <thead>\n",
       "    <tr style=\"text-align: right;\">\n",
       "      <th></th>\n",
       "      <th>0</th>\n",
       "      <th>1</th>\n",
       "      <th>2</th>\n",
       "      <th>3</th>\n",
       "      <th>4</th>\n",
       "      <th>5</th>\n",
       "      <th>6</th>\n",
       "      <th>7</th>\n",
       "      <th>8</th>\n",
       "      <th>9</th>\n",
       "      <th>10</th>\n",
       "      <th>11</th>\n",
       "      <th>12</th>\n",
       "    </tr>\n",
       "  </thead>\n",
       "  <tbody>\n",
       "    <tr>\n",
       "      <th>0</th>\n",
       "      <td>-0.17936</td>\n",
       "      <td>-0.20700</td>\n",
       "      <td>-0.209710</td>\n",
       "      <td>-0.097260</td>\n",
       "      <td>-0.119210</td>\n",
       "      <td>-0.17322</td>\n",
       "      <td>-0.280760</td>\n",
       "      <td>0.223170</td>\n",
       "      <td>0.418660</td>\n",
       "      <td>-0.032886</td>\n",
       "      <td>0.003383</td>\n",
       "      <td>-0.334250</td>\n",
       "      <td>1.0</td>\n",
       "    </tr>\n",
       "    <tr>\n",
       "      <th>1</th>\n",
       "      <td>-0.14659</td>\n",
       "      <td>-0.16494</td>\n",
       "      <td>0.249870</td>\n",
       "      <td>-0.073985</td>\n",
       "      <td>0.494940</td>\n",
       "      <td>-0.15633</td>\n",
       "      <td>-0.288910</td>\n",
       "      <td>0.500800</td>\n",
       "      <td>-0.045553</td>\n",
       "      <td>0.050759</td>\n",
       "      <td>-0.017511</td>\n",
       "      <td>0.066959</td>\n",
       "      <td>1.0</td>\n",
       "    </tr>\n",
       "    <tr>\n",
       "      <th>2</th>\n",
       "      <td>-0.13131</td>\n",
       "      <td>0.51816</td>\n",
       "      <td>0.432810</td>\n",
       "      <td>0.397890</td>\n",
       "      <td>0.043127</td>\n",
       "      <td>0.56320</td>\n",
       "      <td>-0.013246</td>\n",
       "      <td>-0.062833</td>\n",
       "      <td>-0.883390</td>\n",
       "      <td>-0.040303</td>\n",
       "      <td>0.088057</td>\n",
       "      <td>0.631200</td>\n",
       "      <td>2.0</td>\n",
       "    </tr>\n",
       "    <tr>\n",
       "      <th>3</th>\n",
       "      <td>0.64940</td>\n",
       "      <td>0.41878</td>\n",
       "      <td>0.148350</td>\n",
       "      <td>0.333490</td>\n",
       "      <td>-0.219740</td>\n",
       "      <td>0.39891</td>\n",
       "      <td>0.590650</td>\n",
       "      <td>0.077100</td>\n",
       "      <td>-1.107200</td>\n",
       "      <td>-0.367230</td>\n",
       "      <td>0.364680</td>\n",
       "      <td>0.571720</td>\n",
       "      <td>1.0</td>\n",
       "    </tr>\n",
       "    <tr>\n",
       "      <th>4</th>\n",
       "      <td>-0.40628</td>\n",
       "      <td>0.11503</td>\n",
       "      <td>0.073336</td>\n",
       "      <td>0.070066</td>\n",
       "      <td>-0.030920</td>\n",
       "      <td>0.15205</td>\n",
       "      <td>-0.191420</td>\n",
       "      <td>-0.580430</td>\n",
       "      <td>-0.102250</td>\n",
       "      <td>0.153750</td>\n",
       "      <td>-0.126950</td>\n",
       "      <td>0.184570</td>\n",
       "      <td>1.0</td>\n",
       "    </tr>\n",
       "  </tbody>\n",
       "</table>\n",
       "</div>"
      ],
      "text/plain": [
       "        0        1         2         3         4        5         6   \\\n",
       "0 -0.17936 -0.20700 -0.209710 -0.097260 -0.119210 -0.17322 -0.280760   \n",
       "1 -0.14659 -0.16494  0.249870 -0.073985  0.494940 -0.15633 -0.288910   \n",
       "2 -0.13131  0.51816  0.432810  0.397890  0.043127  0.56320 -0.013246   \n",
       "3  0.64940  0.41878  0.148350  0.333490 -0.219740  0.39891  0.590650   \n",
       "4 -0.40628  0.11503  0.073336  0.070066 -0.030920  0.15205 -0.191420   \n",
       "\n",
       "         7         8         9         10        11   12  \n",
       "0  0.223170  0.418660 -0.032886  0.003383 -0.334250  1.0  \n",
       "1  0.500800 -0.045553  0.050759 -0.017511  0.066959  1.0  \n",
       "2 -0.062833 -0.883390 -0.040303  0.088057  0.631200  2.0  \n",
       "3  0.077100 -1.107200 -0.367230  0.364680  0.571720  1.0  \n",
       "4 -0.580430 -0.102250  0.153750 -0.126950  0.184570  1.0  "
      ]
     },
     "execution_count": 2,
     "metadata": {},
     "output_type": "execute_result"
    }
   ],
   "source": [
    "pd_data = pd.read_csv(\"data/planning_relax_data_set.txt\", delimiter=\"\\t\", header=None)\n",
    "pd_data = pd_data.drop(13, axis=1)\n",
    "pd_data.head()"
   ]
  },
  {
   "cell_type": "code",
   "execution_count": 3,
   "metadata": {},
   "outputs": [
    {
     "name": "stdout",
     "output_type": "stream",
     "text": [
      "<class 'pandas.core.frame.DataFrame'>\n",
      "RangeIndex: 182 entries, 0 to 181\n",
      "Data columns (total 13 columns):\n",
      " #   Column  Non-Null Count  Dtype  \n",
      "---  ------  --------------  -----  \n",
      " 0   0       182 non-null    float64\n",
      " 1   1       182 non-null    float64\n",
      " 2   2       182 non-null    float64\n",
      " 3   3       182 non-null    float64\n",
      " 4   4       182 non-null    float64\n",
      " 5   5       182 non-null    float64\n",
      " 6   6       182 non-null    float64\n",
      " 7   7       182 non-null    float64\n",
      " 8   8       182 non-null    float64\n",
      " 9   9       182 non-null    float64\n",
      " 10  10      182 non-null    float64\n",
      " 11  11      182 non-null    float64\n",
      " 12  12      182 non-null    float64\n",
      "dtypes: float64(13)\n",
      "memory usage: 18.6 KB\n"
     ]
    }
   ],
   "source": [
    "pd_data.info()"
   ]
  },
  {
   "cell_type": "code",
   "execution_count": 4,
   "metadata": {},
   "outputs": [],
   "source": [
    "pd_data = pd_data.values\n",
    "pd_data_original = pd_data.copy()\n",
    "assert not np.isnan(pd_data_original.sum()) # verificam ca nu e niciun nan "
   ]
  },
  {
   "cell_type": "markdown",
   "metadata": {},
   "source": [
    "Setul initial de date nu are valori lipsa, dar am implementat o functie care sa suprascrie un anumit procent din valorile initiale (dat ca parametru) folosind `numpy.nan`"
   ]
  },
  {
   "cell_type": "code",
   "execution_count": 5,
   "metadata": {},
   "outputs": [
    {
     "name": "stdout",
     "output_type": "stream",
     "text": [
      "DataSet after adding Nan: \n",
      " [[-0.17936   -0.207     -0.20971   ...  0.0033827 -0.33425    1.       ]\n",
      " [-0.14659   -0.16494    0.24987   ... -0.017511   0.066959   1.       ]\n",
      " [-0.13131    0.51816    0.43281   ...  0.088057   0.6312     2.       ]\n",
      " ...\n",
      " [       nan        nan        nan ...  0.24683   -0.38916    2.       ]\n",
      " [-0.37812   -0.52287    0.21541   ...  0.007591   0.47603          nan]\n",
      " [       nan        nan -0.12336   ...        nan  0.49063    2.       ]]\n"
     ]
    }
   ],
   "source": [
    "def insert_nan(data, percentage=15):\n",
    "    numbers_to_be_modified = int(percentage / 100 * data.shape[0] * data.shape[1])\n",
    "    random_lines = np.random.choice(data.shape[0], numbers_to_be_modified)\n",
    "    random_cols = np.random.choice(data.shape[1], numbers_to_be_modified)\n",
    "    data[random_lines, random_cols] = np.nan\n",
    "    return data\n",
    "\n",
    "pd_data = insert_nan(pd_data)\n",
    "print(f'DataSet after adding Nan: \\n {pd_data}')\n",
    "assert np.isnan(pd_data.sum()) # verificam ca e cel putin un nan"
   ]
  },
  {
   "cell_type": "code",
   "execution_count": 6,
   "metadata": {},
   "outputs": [
    {
     "name": "stdout",
     "output_type": "stream",
     "text": [
      "DataSet after missing values imputation: \n",
      " [[-0.17936    -0.207      -0.20971    ...  0.0033827  -0.33425\n",
      "   1.        ]\n",
      " [-0.14659    -0.16494     0.24987    ... -0.017511    0.066959\n",
      "   1.        ]\n",
      " [-0.13131     0.51816     0.43281    ...  0.088057    0.6312\n",
      "   2.        ]\n",
      " ...\n",
      " [ 0.29739446 -0.59779904 -0.20420095 ...  0.24683    -0.38916\n",
      "   2.        ]\n",
      " [-0.37812    -0.52287     0.21541    ...  0.007591    0.47603\n",
      "   1.29354805]\n",
      " [ 0.08498232 -0.02294213 -0.12336    ...  0.23405947  0.49063\n",
      "   2.        ]]\n"
     ]
    }
   ],
   "source": [
    "from sklearn.experimental import enable_iterative_imputer\n",
    "from sklearn.impute import IterativeImputer \n",
    "# from sklearn.ensemble import ExtraTreesRegressor\n",
    "imputer = IterativeImputer(max_iter=1000, random_state=0)\n",
    "pd_data_sklearn = imputer.fit_transform(pd_data)\n",
    "print(f'DataSet after missing values imputation: \\n {pd_data_sklearn}')"
   ]
  },
  {
   "cell_type": "code",
   "execution_count": 7,
   "metadata": {},
   "outputs": [
    {
     "data": {
      "text/plain": [
       "3.576797016996601"
      ]
     },
     "execution_count": 7,
     "metadata": {},
     "output_type": "execute_result"
    }
   ],
   "source": [
    "np.linalg.norm(pd_data_sklearn - pd_data_original)"
   ]
  },
  {
   "cell_type": "markdown",
   "metadata": {},
   "source": [
    "* Setul de date Conventional Social Media Movies"
   ]
  },
  {
   "cell_type": "code",
   "execution_count": 8,
   "metadata": {},
   "outputs": [],
   "source": [
    "data = pd.read_excel('data/2014 and 2015 CSM dataset.xlsx', index_col=None, header=None)\n",
    "data = data.drop(0, axis=0)\n",
    "data = data.drop(0, axis=1)"
   ]
  },
  {
   "cell_type": "code",
   "execution_count": 9,
   "metadata": {},
   "outputs": [
    {
     "data": {
      "text/html": [
       "<div>\n",
       "<style scoped>\n",
       "    .dataframe tbody tr th:only-of-type {\n",
       "        vertical-align: middle;\n",
       "    }\n",
       "\n",
       "    .dataframe tbody tr th {\n",
       "        vertical-align: top;\n",
       "    }\n",
       "\n",
       "    .dataframe thead th {\n",
       "        text-align: right;\n",
       "    }\n",
       "</style>\n",
       "<table border=\"1\" class=\"dataframe\">\n",
       "  <thead>\n",
       "    <tr style=\"text-align: right;\">\n",
       "      <th></th>\n",
       "      <th>1</th>\n",
       "      <th>2</th>\n",
       "      <th>3</th>\n",
       "      <th>4</th>\n",
       "      <th>5</th>\n",
       "      <th>6</th>\n",
       "      <th>7</th>\n",
       "      <th>8</th>\n",
       "      <th>9</th>\n",
       "      <th>10</th>\n",
       "      <th>11</th>\n",
       "      <th>12</th>\n",
       "      <th>13</th>\n",
       "    </tr>\n",
       "  </thead>\n",
       "  <tbody>\n",
       "    <tr>\n",
       "      <th>1</th>\n",
       "      <td>2014</td>\n",
       "      <td>6.3</td>\n",
       "      <td>8</td>\n",
       "      <td>9130</td>\n",
       "      <td>4000000</td>\n",
       "      <td>45</td>\n",
       "      <td>1</td>\n",
       "      <td>0</td>\n",
       "      <td>3280543</td>\n",
       "      <td>4632</td>\n",
       "      <td>425</td>\n",
       "      <td>636</td>\n",
       "      <td>1120000</td>\n",
       "    </tr>\n",
       "    <tr>\n",
       "      <th>2</th>\n",
       "      <td>2014</td>\n",
       "      <td>7.1</td>\n",
       "      <td>1</td>\n",
       "      <td>192000000</td>\n",
       "      <td>50000000</td>\n",
       "      <td>3306</td>\n",
       "      <td>2</td>\n",
       "      <td>2</td>\n",
       "      <td>583289</td>\n",
       "      <td>3465</td>\n",
       "      <td>61</td>\n",
       "      <td>186</td>\n",
       "      <td>12350000</td>\n",
       "    </tr>\n",
       "    <tr>\n",
       "      <th>3</th>\n",
       "      <td>2014</td>\n",
       "      <td>6.2</td>\n",
       "      <td>1</td>\n",
       "      <td>30700000</td>\n",
       "      <td>28000000</td>\n",
       "      <td>2872</td>\n",
       "      <td>1</td>\n",
       "      <td>0</td>\n",
       "      <td>304861</td>\n",
       "      <td>328</td>\n",
       "      <td>34</td>\n",
       "      <td>47</td>\n",
       "      <td>483000</td>\n",
       "    </tr>\n",
       "    <tr>\n",
       "      <th>4</th>\n",
       "      <td>2014</td>\n",
       "      <td>6.3</td>\n",
       "      <td>1</td>\n",
       "      <td>106000000</td>\n",
       "      <td>110000000</td>\n",
       "      <td>3470</td>\n",
       "      <td>2</td>\n",
       "      <td>0</td>\n",
       "      <td>452917</td>\n",
       "      <td>2429</td>\n",
       "      <td>132</td>\n",
       "      <td>590</td>\n",
       "      <td>568000</td>\n",
       "    </tr>\n",
       "    <tr>\n",
       "      <th>5</th>\n",
       "      <td>2014</td>\n",
       "      <td>4.7</td>\n",
       "      <td>8</td>\n",
       "      <td>17300000</td>\n",
       "      <td>3500000</td>\n",
       "      <td>2310</td>\n",
       "      <td>2</td>\n",
       "      <td>0</td>\n",
       "      <td>3145573</td>\n",
       "      <td>12163</td>\n",
       "      <td>610</td>\n",
       "      <td>1082</td>\n",
       "      <td>1923800</td>\n",
       "    </tr>\n",
       "  </tbody>\n",
       "</table>\n",
       "</div>"
      ],
      "text/plain": [
       "     1    2  3          4          5     6  7  8        9      10   11    12  \\\n",
       "1  2014  6.3  8       9130    4000000    45  1  0  3280543   4632  425   636   \n",
       "2  2014  7.1  1  192000000   50000000  3306  2  2   583289   3465   61   186   \n",
       "3  2014  6.2  1   30700000   28000000  2872  1  0   304861    328   34    47   \n",
       "4  2014  6.3  1  106000000  110000000  3470  2  0   452917   2429  132   590   \n",
       "5  2014  4.7  8   17300000    3500000  2310  2  0  3145573  12163  610  1082   \n",
       "\n",
       "         13  \n",
       "1   1120000  \n",
       "2  12350000  \n",
       "3    483000  \n",
       "4    568000  \n",
       "5   1923800  "
      ]
     },
     "execution_count": 9,
     "metadata": {},
     "output_type": "execute_result"
    }
   ],
   "source": [
    "data.head()"
   ]
  },
  {
   "cell_type": "code",
   "execution_count": 10,
   "metadata": {},
   "outputs": [
    {
     "name": "stdout",
     "output_type": "stream",
     "text": [
      "[[2014 6.3 8 ... 425 636 1120000]\n",
      " [2014 7.1 1 ... 61 186 12350000]\n",
      " [2014 6.2 1 ... 34 47 483000]\n",
      " ...\n",
      " [2015 5.4 8 ... 325 409 nan]\n",
      " [2015 5.4 1 ... 67 201 nan]\n",
      " [2015 4.4 15 ... 431 606 nan]]\n"
     ]
    }
   ],
   "source": [
    "data = data.values\n",
    "print(data)\n",
    "data_original = data.copy()\n",
    "assert np.isnan(data.sum()) # verificam ca e cel putin un nan"
   ]
  },
  {
   "cell_type": "code",
   "execution_count": 11,
   "metadata": {},
   "outputs": [
    {
     "name": "stdout",
     "output_type": "stream",
     "text": [
      "Requirement already satisfied: missingpy in d:\\programe\\anacondanavigator\\envs\\ids\\lib\\site-packages (0.2.0)\n"
     ]
    }
   ],
   "source": [
    "!pip install missingpy"
   ]
  },
  {
   "cell_type": "code",
   "execution_count": 12,
   "metadata": {},
   "outputs": [],
   "source": [
    "import sys\n",
    "import sklearn.neighbors._base\n",
    "sys.modules['sklearn.neighbors.base'] = sklearn.neighbors._base"
   ]
  },
  {
   "cell_type": "code",
   "execution_count": 13,
   "metadata": {},
   "outputs": [
    {
     "name": "stdout",
     "output_type": "stream",
     "text": [
      "Iteration: 0\n",
      "Iteration: 1\n",
      "Iteration: 2\n",
      "Iteration: 3\n"
     ]
    }
   ],
   "source": [
    "from missingpy import MissForest\n",
    "\n",
    "imputer = MissForest()\n",
    "data = imputer.fit_transform(data)\n",
    "assert not np.isnan(data.sum()) # verificam ca nu exista niciun nan"
   ]
  },
  {
   "cell_type": "code",
   "execution_count": 14,
   "metadata": {},
   "outputs": [
    {
     "name": "stdout",
     "output_type": "stream",
     "text": [
      "Data original:\n",
      " [[2014 6.3 8 ... 425 636 1120000]\n",
      " [2014 7.1 1 ... 61 186 12350000]\n",
      " [2014 6.2 1 ... 34 47 483000]\n",
      " ...\n",
      " [2015 5.4 8 ... 325 409 nan]\n",
      " [2015 5.4 1 ... 67 201 nan]\n",
      " [2015 4.4 15 ... 431 606 nan]]\n",
      "\n",
      "Data filled:\n",
      " [[2.01400000e+03 6.30000000e+00 8.00000000e+00 ... 4.25000000e+02\n",
      "  6.36000000e+02 1.12000000e+06]\n",
      " [2.01400000e+03 7.10000000e+00 1.00000000e+00 ... 6.10000000e+01\n",
      "  1.86000000e+02 1.23500000e+07]\n",
      " [2.01400000e+03 6.20000000e+00 1.00000000e+00 ... 3.40000000e+01\n",
      "  4.70000000e+01 4.83000000e+05]\n",
      " ...\n",
      " [2.01500000e+03 5.40000000e+00 8.00000000e+00 ... 3.25000000e+02\n",
      "  4.09000000e+02 2.20251582e+06]\n",
      " [2.01500000e+03 5.40000000e+00 1.00000000e+00 ... 6.70000000e+01\n",
      "  2.01000000e+02 8.87477160e+05]\n",
      " [2.01500000e+03 4.40000000e+00 1.50000000e+01 ... 4.31000000e+02\n",
      "  6.06000000e+02 1.49021821e+06]]\n"
     ]
    }
   ],
   "source": [
    "print(f'Data original:\\n {data_original}')\n",
    "print(f'\\nData filled:\\n {data}')"
   ]
  },
  {
   "cell_type": "markdown",
   "metadata": {},
   "source": [
    "2. Pentru fiecare set de date aplicati 5 modele de clasificare din scikit learn. Pentru fiecare raportati: acuratete, precision, recall, scorul F1 - a se vedea [sklearn.metrics](http://scikit-learn.org/stable/modules/classes.html#module-sklearn.metrics), [Precision and recall](https://en.wikipedia.org/wiki/Precision_and_recall) - folosind 5 fold cross validation. Raportati mediile rezultatelor atat pentru fold-urile de antrenare, cat si pentru cele de testare. Rularile se vor face cu valori fixate ale hiperparametrilor. "
   ]
  },
  {
   "cell_type": "markdown",
   "metadata": {},
   "source": [
    "* Setul de date Planning Relax"
   ]
  },
  {
   "cell_type": "code",
   "execution_count": 26,
   "metadata": {},
   "outputs": [
    {
     "data": {
      "text/html": [
       "<div>\n",
       "<style scoped>\n",
       "    .dataframe tbody tr th:only-of-type {\n",
       "        vertical-align: middle;\n",
       "    }\n",
       "\n",
       "    .dataframe tbody tr th {\n",
       "        vertical-align: top;\n",
       "    }\n",
       "\n",
       "    .dataframe thead th {\n",
       "        text-align: right;\n",
       "    }\n",
       "</style>\n",
       "<table border=\"1\" class=\"dataframe\">\n",
       "  <thead>\n",
       "    <tr style=\"text-align: right;\">\n",
       "      <th></th>\n",
       "      <th>0</th>\n",
       "      <th>1</th>\n",
       "      <th>2</th>\n",
       "      <th>3</th>\n",
       "      <th>4</th>\n",
       "      <th>5</th>\n",
       "      <th>6</th>\n",
       "      <th>7</th>\n",
       "      <th>8</th>\n",
       "      <th>9</th>\n",
       "      <th>10</th>\n",
       "      <th>11</th>\n",
       "      <th>12</th>\n",
       "    </tr>\n",
       "  </thead>\n",
       "  <tbody>\n",
       "    <tr>\n",
       "      <th>0</th>\n",
       "      <td>-0.17936</td>\n",
       "      <td>-0.20700</td>\n",
       "      <td>-0.209710</td>\n",
       "      <td>-0.097260</td>\n",
       "      <td>-0.119210</td>\n",
       "      <td>-0.17322</td>\n",
       "      <td>-0.280760</td>\n",
       "      <td>0.223170</td>\n",
       "      <td>0.418660</td>\n",
       "      <td>-0.032886</td>\n",
       "      <td>0.003383</td>\n",
       "      <td>-0.334250</td>\n",
       "      <td>1.0</td>\n",
       "    </tr>\n",
       "    <tr>\n",
       "      <th>1</th>\n",
       "      <td>-0.14659</td>\n",
       "      <td>-0.16494</td>\n",
       "      <td>0.249870</td>\n",
       "      <td>-0.073985</td>\n",
       "      <td>0.494940</td>\n",
       "      <td>-0.15633</td>\n",
       "      <td>-0.288910</td>\n",
       "      <td>0.500800</td>\n",
       "      <td>-0.045553</td>\n",
       "      <td>0.050759</td>\n",
       "      <td>-0.017511</td>\n",
       "      <td>0.066959</td>\n",
       "      <td>1.0</td>\n",
       "    </tr>\n",
       "    <tr>\n",
       "      <th>2</th>\n",
       "      <td>-0.13131</td>\n",
       "      <td>0.51816</td>\n",
       "      <td>0.432810</td>\n",
       "      <td>0.397890</td>\n",
       "      <td>0.043127</td>\n",
       "      <td>0.56320</td>\n",
       "      <td>-0.013246</td>\n",
       "      <td>-0.062833</td>\n",
       "      <td>-0.883390</td>\n",
       "      <td>-0.040303</td>\n",
       "      <td>0.088057</td>\n",
       "      <td>0.631200</td>\n",
       "      <td>2.0</td>\n",
       "    </tr>\n",
       "    <tr>\n",
       "      <th>3</th>\n",
       "      <td>0.64940</td>\n",
       "      <td>0.41878</td>\n",
       "      <td>0.148350</td>\n",
       "      <td>0.333490</td>\n",
       "      <td>-0.219740</td>\n",
       "      <td>0.39891</td>\n",
       "      <td>0.590650</td>\n",
       "      <td>0.077100</td>\n",
       "      <td>-1.107200</td>\n",
       "      <td>-0.367230</td>\n",
       "      <td>0.364680</td>\n",
       "      <td>0.571720</td>\n",
       "      <td>1.0</td>\n",
       "    </tr>\n",
       "    <tr>\n",
       "      <th>4</th>\n",
       "      <td>-0.40628</td>\n",
       "      <td>0.11503</td>\n",
       "      <td>0.073336</td>\n",
       "      <td>0.070066</td>\n",
       "      <td>-0.030920</td>\n",
       "      <td>0.15205</td>\n",
       "      <td>-0.191420</td>\n",
       "      <td>-0.580430</td>\n",
       "      <td>-0.102250</td>\n",
       "      <td>0.153750</td>\n",
       "      <td>-0.126950</td>\n",
       "      <td>0.184570</td>\n",
       "      <td>1.0</td>\n",
       "    </tr>\n",
       "  </tbody>\n",
       "</table>\n",
       "</div>"
      ],
      "text/plain": [
       "        0        1         2         3         4        5         6   \\\n",
       "0 -0.17936 -0.20700 -0.209710 -0.097260 -0.119210 -0.17322 -0.280760   \n",
       "1 -0.14659 -0.16494  0.249870 -0.073985  0.494940 -0.15633 -0.288910   \n",
       "2 -0.13131  0.51816  0.432810  0.397890  0.043127  0.56320 -0.013246   \n",
       "3  0.64940  0.41878  0.148350  0.333490 -0.219740  0.39891  0.590650   \n",
       "4 -0.40628  0.11503  0.073336  0.070066 -0.030920  0.15205 -0.191420   \n",
       "\n",
       "         7         8         9         10        11   12  \n",
       "0  0.223170  0.418660 -0.032886  0.003383 -0.334250  1.0  \n",
       "1  0.500800 -0.045553  0.050759 -0.017511  0.066959  1.0  \n",
       "2 -0.062833 -0.883390 -0.040303  0.088057  0.631200  2.0  \n",
       "3  0.077100 -1.107200 -0.367230  0.364680  0.571720  1.0  \n",
       "4 -0.580430 -0.102250  0.153750 -0.126950  0.184570  1.0  "
      ]
     },
     "execution_count": 26,
     "metadata": {},
     "output_type": "execute_result"
    }
   ],
   "source": [
    "pr_data = pd.read_csv(\"data/planning_relax_data_set.txt\", delimiter=\"\\t\", header=None)\n",
    "pr_data = pr_data.drop(13, axis=1)\n",
    "pr_data.head()"
   ]
  },
  {
   "cell_type": "code",
   "execution_count": 16,
   "metadata": {},
   "outputs": [],
   "source": [
    "pr_X = pr_data.iloc[:, :-1].values\n",
    "pr_y = pr_data.iloc[:, -1].values"
   ]
  },
  {
   "cell_type": "code",
   "execution_count": 17,
   "metadata": {},
   "outputs": [
    {
     "name": "stdout",
     "output_type": "stream",
     "text": [
      "[[-0.17936   -0.207     -0.20971   ... -0.032886   0.0033827 -0.33425  ]\n",
      " [-0.14659   -0.16494    0.24987   ...  0.050759  -0.017511   0.066959 ]\n",
      " [-0.13131    0.51816    0.43281   ... -0.040303   0.088057   0.6312   ]\n",
      " ...\n",
      " [ 0.29877   -0.17962    0.032859  ... -0.41113    0.24683   -0.38916  ]\n",
      " [-0.37812   -0.52287    0.21541   ... -0.039117   0.007591   0.47603  ]\n",
      " [ 0.37913   -0.046562  -0.12336   ... -0.24229    0.17369    0.49063  ]]\n",
      "[1. 1. 2. 1. 1. 1. 2. 1. 1. 1. 2. 1. 1. 1. 2. 1. 1. 1. 2. 1. 1. 1. 2. 1.\n",
      " 1. 1. 2. 1. 1. 1. 2. 1. 1. 1. 2. 1. 1. 1. 2. 1. 1. 1. 2. 1. 1. 1. 2. 1.\n",
      " 1. 1. 2. 1. 1. 1. 2. 1. 1. 1. 2. 1. 1. 1. 2. 1. 1. 1. 2. 1. 1. 1. 2. 1.\n",
      " 1. 1. 2. 1. 1. 1. 2. 1. 1. 1. 2. 1. 1. 1. 2. 1. 1. 1. 2. 1. 1. 1. 2. 1.\n",
      " 1. 1. 2. 1. 1. 1. 2. 1. 1. 1. 2. 1. 1. 1. 2. 1. 1. 1. 2. 1. 1. 1. 2. 1.\n",
      " 1. 1. 2. 1. 1. 1. 2. 1. 1. 1. 2. 1. 1. 1. 2. 1. 1. 1. 2. 1. 1. 1. 2. 1.\n",
      " 1. 1. 2. 1. 1. 1. 2. 1. 1. 1. 2. 1. 1. 2. 1. 2. 1. 2. 1. 2. 1. 2. 1. 2.\n",
      " 1. 2. 1. 2. 1. 2. 1. 2. 1. 2. 1. 2. 1. 2.]\n"
     ]
    }
   ],
   "source": [
    "print(pr_X)\n",
    "print(pr_y)"
   ]
  },
  {
   "cell_type": "code",
   "execution_count": 188,
   "metadata": {},
   "outputs": [],
   "source": [
    "from sklearn.model_selection import train_test_split, cross_val_score\n",
    "from sklearn import metrics\n",
    "\n",
    "def our_function(model, X, y):\n",
    "    scores = cross_val_score(model, X, y, cv=10, scoring='accuracy')\n",
    "    print(f'Accuracy: {scores.mean()}')\n",
    "    \n",
    "    scores = cross_val_score(model, X, y, cv=10, scoring='precision')\n",
    "    print(f'Precision: {scores.mean()}')\n",
    "\n",
    "    scores = cross_val_score(model, X, y, cv=10, scoring='recall')\n",
    "    print(f'Recall: {scores.mean()}')\n",
    "\n",
    "    scores = cross_val_score(model, X, y, cv=10, scoring='f1')\n",
    "    print(f'F!_Score: {scores.mean()}')"
   ]
  },
  {
   "cell_type": "markdown",
   "metadata": {},
   "source": [
    "* Folosind KNeighborsClassifier"
   ]
  },
  {
   "cell_type": "code",
   "execution_count": 19,
   "metadata": {},
   "outputs": [
    {
     "name": "stdout",
     "output_type": "stream",
     "text": [
      "Accuracy: 0.6213450292397661\n",
      "Precision: 0.7025580267685532\n",
      "Recall: 0.8076923076923077\n",
      "F!_Score: 0.7477115253324931\n"
     ]
    }
   ],
   "source": [
    "from sklearn.neighbors import KNeighborsClassifier\n",
    "\n",
    "model = KNeighborsClassifier(n_neighbors=3)\n",
    "our_function(model=model, X=pr_X, y=pr_y)"
   ]
  },
  {
   "cell_type": "markdown",
   "metadata": {},
   "source": [
    "* Folosind DecisionTreeClassifier"
   ]
  },
  {
   "cell_type": "code",
   "execution_count": 20,
   "metadata": {},
   "outputs": [
    {
     "name": "stdout",
     "output_type": "stream",
     "text": [
      "Accuracy: 0.571345029239766\n",
      "Precision: 0.6858658008658007\n",
      "Recall: 0.6384615384615385\n",
      "F!_Score: 0.6521045283219197\n"
     ]
    }
   ],
   "source": [
    "from sklearn.tree import DecisionTreeClassifier\n",
    "\n",
    "classifier = DecisionTreeClassifier()\n",
    "our_function(model=classifier, X=pr_X, y=pr_y)"
   ]
  },
  {
   "cell_type": "markdown",
   "metadata": {},
   "source": [
    "* Folosind SupportVectorMachines"
   ]
  },
  {
   "cell_type": "code",
   "execution_count": 21,
   "metadata": {},
   "outputs": [
    {
     "name": "stdout",
     "output_type": "stream",
     "text": [
      "Accuracy: 0.7146198830409357\n",
      "Precision: 0.7146198830409357\n",
      "Recall: 1.0\n",
      "F!_Score: 0.8334677419354838\n"
     ]
    }
   ],
   "source": [
    "from sklearn.svm import SVC\n",
    "\n",
    "classifier = SVC(kernel='linear')\n",
    "our_function(model=classifier, X=pr_X, y=pr_y)"
   ]
  },
  {
   "cell_type": "markdown",
   "metadata": {},
   "source": [
    "* Folosind SochasticGradientDescent"
   ]
  },
  {
   "cell_type": "code",
   "execution_count": 22,
   "metadata": {},
   "outputs": [
    {
     "name": "stdout",
     "output_type": "stream",
     "text": [
      "Accuracy: 0.5932748538011696\n",
      "Precision: 0.704730620686503\n",
      "Recall: 0.9153846153846155\n",
      "F!_Score: 0.7661094018252461\n"
     ]
    }
   ],
   "source": [
    "from sklearn.linear_model import SGDClassifier\n",
    "\n",
    "classifier=SGDClassifier(loss='hinge', penalty='l2')\n",
    "our_function(model=classifier, X=pr_X, y=pr_y)"
   ]
  },
  {
   "cell_type": "markdown",
   "metadata": {},
   "source": [
    "* Folosind RBF"
   ]
  },
  {
   "cell_type": "code",
   "execution_count": 23,
   "metadata": {},
   "outputs": [
    {
     "name": "stdout",
     "output_type": "stream",
     "text": [
      "Accuracy: 0.7146198830409357\n",
      "Precision: 0.7146198830409357\n",
      "Recall: 1.0\n",
      "F!_Score: 0.8334677419354838\n"
     ]
    }
   ],
   "source": [
    "from sklearn.gaussian_process import GaussianProcessClassifier\n",
    "from sklearn.gaussian_process.kernels import RBF\n",
    "\n",
    "kernel = 1.0 * RBF(1.0)\n",
    "gpc = GaussianProcessClassifier(kernel=kernel)\n",
    "our_function(model=gpc, X=pr_X, y=pr_y)"
   ]
  },
  {
   "cell_type": "markdown",
   "metadata": {},
   "source": [
    "* Setul de date Divorce\n"
   ]
  },
  {
   "cell_type": "code",
   "execution_count": 74,
   "metadata": {},
   "outputs": [],
   "source": [
    "divorce_data = pd.read_excel('data/divorce.xlsx', index_col=None, header=None)\n",
    "divorce_data = divorce_data.drop(0, axis=0)"
   ]
  },
  {
   "cell_type": "code",
   "execution_count": 112,
   "metadata": {},
   "outputs": [
    {
     "name": "stdout",
     "output_type": "stream",
     "text": [
      "    0  1  2  3  4  5  6  7  8  9   ... 45 46 47 48 49 50 51 52 53 54\n",
      "1    2  2  4  1  0  0  0  0  0  0  ...  2  1  3  3  3  2  3  2  1  1\n",
      "2    4  4  4  4  4  0  0  4  4  4  ...  2  2  3  4  4  4  4  2  2  1\n",
      "3    2  2  2  2  1  3  2  1  1  2  ...  3  2  3  1  1  1  2  2  2  1\n",
      "4    3  2  3  2  3  3  3  3  3  3  ...  2  2  3  3  3  3  2  2  2  1\n",
      "5    2  2  1  1  1  1  0  0  0  0  ...  2  1  2  3  2  2  2  1  0  1\n",
      "..  .. .. .. .. .. .. .. .. .. ..  ... .. .. .. .. .. .. .. .. .. ..\n",
      "166  0  0  0  0  0  0  0  0  0  0  ...  1  0  4  1  1  4  2  2  2  0\n",
      "167  0  0  0  0  0  0  0  0  0  0  ...  4  1  2  2  2  2  3  2  2  0\n",
      "168  1  1  0  0  0  0  0  0  0  1  ...  3  0  2  0  1  1  3  0  0  0\n",
      "169  0  0  0  0  0  0  0  0  0  0  ...  3  3  2  2  3  2  4  3  1  0\n",
      "170  0  0  0  0  0  0  0  1  0  0  ...  3  4  4  0  1  3  3  3  1  0\n",
      "\n",
      "[170 rows x 55 columns]\n"
     ]
    }
   ],
   "source": [
    "#divorce_data.head()\n",
    "print(divorce_data)"
   ]
  },
  {
   "cell_type": "code",
   "execution_count": 87,
   "metadata": {},
   "outputs": [],
   "source": [
    "divorce_X = divorce_data.iloc[:, :-1].values\n",
    "divorce_y = divorce_data.iloc[:, -1].values\n",
    "divorce_y = divorce_y.astype('int')"
   ]
  },
  {
   "cell_type": "code",
   "execution_count": 88,
   "metadata": {},
   "outputs": [
    {
     "name": "stdout",
     "output_type": "stream",
     "text": [
      "(170, 54)\n",
      "(170,)\n"
     ]
    }
   ],
   "source": [
    "print(divorce_X.shape)\n",
    "print(divorce_y.shape)"
   ]
  },
  {
   "cell_type": "markdown",
   "metadata": {},
   "source": [
    "* Folosind KNeighborsClassifier"
   ]
  },
  {
   "cell_type": "code",
   "execution_count": 89,
   "metadata": {},
   "outputs": [
    {
     "name": "stdout",
     "output_type": "stream",
     "text": [
      "Accuracy: 0.9764705882352942\n",
      "Precision: 1.0\n",
      "Recall: 0.9555555555555555\n",
      "F!_Score: 0.9741176470588236\n"
     ]
    }
   ],
   "source": [
    "#from sklearn.neighbors import KNeighborsClassifier\n",
    "\n",
    "model = KNeighborsClassifier(n_neighbors=3)\n",
    "our_function(model=model, X=divorce_X, y=divorce_y)"
   ]
  },
  {
   "cell_type": "markdown",
   "metadata": {},
   "source": [
    "* Folosind DecisionTreeClassifier"
   ]
  },
  {
   "cell_type": "code",
   "execution_count": 91,
   "metadata": {},
   "outputs": [
    {
     "name": "stdout",
     "output_type": "stream",
     "text": [
      "Accuracy: 0.9764705882352942\n",
      "Precision: 0.9777777777777779\n",
      "Recall: 0.9666666666666666\n",
      "F!_Score: 0.9741176470588236\n"
     ]
    }
   ],
   "source": [
    "classifier = DecisionTreeClassifier()\n",
    "our_function(model=classifier, X=divorce_X, y=divorce_y)"
   ]
  },
  {
   "cell_type": "markdown",
   "metadata": {},
   "source": [
    "* Folosind SupportVectorMachines"
   ]
  },
  {
   "cell_type": "code",
   "execution_count": 92,
   "metadata": {},
   "outputs": [
    {
     "name": "stdout",
     "output_type": "stream",
     "text": [
      "Accuracy: 0.9823529411764707\n",
      "Precision: 1.0\n",
      "Recall: 0.9666666666666666\n",
      "F!_Score: 0.9800000000000001\n"
     ]
    }
   ],
   "source": [
    "classifier = SVC(kernel='linear')\n",
    "our_function(model=classifier, X=divorce_X, y=divorce_y)"
   ]
  },
  {
   "cell_type": "markdown",
   "metadata": {},
   "source": [
    "* Folosind SochasticGradientDescent"
   ]
  },
  {
   "cell_type": "code",
   "execution_count": 93,
   "metadata": {},
   "outputs": [
    {
     "name": "stdout",
     "output_type": "stream",
     "text": [
      "Accuracy: 0.9705882352941178\n",
      "Precision: 0.957777777777778\n",
      "Recall: 0.9555555555555555\n",
      "F!_Score: 0.9639705882352942\n"
     ]
    }
   ],
   "source": [
    "classifier=SGDClassifier(loss='hinge', penalty='l2')\n",
    "our_function(model=classifier, X=divorce_X, y=divorce_y)"
   ]
  },
  {
   "cell_type": "markdown",
   "metadata": {},
   "source": [
    "* Folosind RBF"
   ]
  },
  {
   "cell_type": "code",
   "execution_count": 94,
   "metadata": {},
   "outputs": [
    {
     "name": "stdout",
     "output_type": "stream",
     "text": [
      "Accuracy: 0.9823529411764707\n",
      "Precision: 1.0\n",
      "Recall: 0.9666666666666666\n",
      "F!_Score: 0.9800000000000001\n"
     ]
    }
   ],
   "source": [
    "kernel = 1.0 * RBF(1.0)\n",
    "gpc = GaussianProcessClassifier(kernel=kernel)\n",
    "our_function(model=gpc, X=divorce_X, y=divorce_y)"
   ]
  },
  {
   "cell_type": "markdown",
   "metadata": {},
   "source": [
    "* Setul de date HCV"
   ]
  },
  {
   "cell_type": "code",
   "execution_count": 170,
   "metadata": {},
   "outputs": [
    {
     "name": "stdout",
     "output_type": "stream",
     "text": [
      "<class 'pandas.core.frame.DataFrame'>\n",
      "RangeIndex: 615 entries, 0 to 614\n",
      "Data columns (total 13 columns):\n",
      " #   Column    Non-Null Count  Dtype  \n",
      "---  ------    --------------  -----  \n",
      " 0   Category  615 non-null    object \n",
      " 1   Age       615 non-null    int64  \n",
      " 2   Sex       615 non-null    object \n",
      " 3   ALB       614 non-null    float64\n",
      " 4   ALP       597 non-null    float64\n",
      " 5   ALT       614 non-null    float64\n",
      " 6   AST       615 non-null    float64\n",
      " 7   BIL       615 non-null    float64\n",
      " 8   CHE       615 non-null    float64\n",
      " 9   CHOL      605 non-null    float64\n",
      " 10  CREA      615 non-null    float64\n",
      " 11  GGT       615 non-null    float64\n",
      " 12  PROT      614 non-null    float64\n",
      "dtypes: float64(10), int64(1), object(2)\n",
      "memory usage: 62.6+ KB\n"
     ]
    }
   ],
   "source": [
    "data_HCV = pd.read_csv('data/hcv_data.csv')\n",
    "data_HCV = data_HCV.drop('Unnamed: 0', axis=1)\n",
    "data_HCV.info()"
   ]
  },
  {
   "cell_type": "code",
   "execution_count": null,
   "metadata": {},
   "outputs": [],
   "source": []
  },
  {
   "cell_type": "code",
   "execution_count": 171,
   "metadata": {},
   "outputs": [
    {
     "name": "stdout",
     "output_type": "stream",
     "text": [
      "<class 'pandas.core.frame.DataFrame'>\n",
      "RangeIndex: 615 entries, 0 to 614\n",
      "Data columns (total 13 columns):\n",
      " #   Column    Non-Null Count  Dtype  \n",
      "---  ------    --------------  -----  \n",
      " 0   Category  615 non-null    int8   \n",
      " 1   Age       615 non-null    int64  \n",
      " 2   Sex       615 non-null    int8   \n",
      " 3   ALB       614 non-null    float64\n",
      " 4   ALP       597 non-null    float64\n",
      " 5   ALT       614 non-null    float64\n",
      " 6   AST       615 non-null    float64\n",
      " 7   BIL       615 non-null    float64\n",
      " 8   CHE       615 non-null    float64\n",
      " 9   CHOL      605 non-null    float64\n",
      " 10  CREA      615 non-null    float64\n",
      " 11  GGT       615 non-null    float64\n",
      " 12  PROT      614 non-null    float64\n",
      "dtypes: float64(10), int64(1), int8(2)\n",
      "memory usage: 54.2 KB\n"
     ]
    }
   ],
   "source": [
    "from sklearn.preprocessing import LabelEncoder\n",
    "\n",
    "labelencoder = LabelEncoder()\n",
    "\n",
    "data_HCV.Category = data_HCV.Category.astype('category')\n",
    "data_HCV.Category = data_HCV.Category.cat.codes\n",
    "data_HCV.Sex = data_HCV.Sex.astype('category')\n",
    "data_HCV.Sex = data_HCV.Sex.cat.codes\n",
    "data_HCV.info()\n"
   ]
  },
  {
   "cell_type": "code",
   "execution_count": 178,
   "metadata": {},
   "outputs": [],
   "source": [
    "data_HCV = data_HCV.fillna(data_HCV.mean())"
   ]
  },
  {
   "cell_type": "code",
   "execution_count": 179,
   "metadata": {},
   "outputs": [],
   "source": [
    "HCV_X = data_HCV.iloc[:, 1:].values\n",
    "HCV_y = data_HCV.iloc[:, 0].values"
   ]
  },
  {
   "cell_type": "code",
   "execution_count": 180,
   "metadata": {},
   "outputs": [
    {
     "name": "stdout",
     "output_type": "stream",
     "text": [
      "[[ 32.    1.   38.5 ... 106.   12.1  69. ]\n",
      " [ 32.    1.   38.5 ...  74.   15.6  76.5]\n",
      " [ 32.    1.   46.9 ...  86.   33.2  79.3]\n",
      " ...\n",
      " [ 64.    0.   29.  ...  66.7  64.2  82. ]\n",
      " [ 46.    0.   33.  ...  52.   50.   71. ]\n",
      " [ 59.    0.   36.  ...  67.   34.   68. ]]\n",
      "[0 0 0 0 0 0 0 0 0 0 0 0 0 0 0 0 0 0 0 0 0 0 0 0 0 0 0 0 0 0 0 0 0 0 0 0 0\n",
      " 0 0 0 0 0 0 0 0 0 0 0 0 0 0 0 0 0 0 0 0 0 0 0 0 0 0 0 0 0 0 0 0 0 0 0 0 0\n",
      " 0 0 0 0 0 0 0 0 0 0 0 0 0 0 0 0 0 0 0 0 0 0 0 0 0 0 0 0 0 0 0 0 0 0 0 0 0\n",
      " 0 0 0 0 0 0 0 0 0 0 0 0 0 0 0 0 0 0 0 0 0 0 0 0 0 0 0 0 0 0 0 0 0 0 0 0 0\n",
      " 0 0 0 0 0 0 0 0 0 0 0 0 0 0 0 0 0 0 0 0 0 0 0 0 0 0 0 0 0 0 0 0 0 0 0 0 0\n",
      " 0 0 0 0 0 0 0 0 0 0 0 0 0 0 0 0 0 0 0 0 0 0 0 0 0 0 0 0 0 0 0 0 0 0 0 0 0\n",
      " 0 0 0 0 0 0 0 0 0 0 0 0 0 0 0 0 0 0 0 0 0 0 0 0 0 0 0 0 0 0 0 0 0 0 0 0 0\n",
      " 0 0 0 0 0 0 0 0 0 0 0 0 0 0 0 0 0 0 0 0 0 0 0 0 0 0 0 0 0 0 0 0 0 0 0 0 0\n",
      " 0 0 0 0 0 0 0 0 0 0 0 0 0 0 0 0 0 0 0 0 0 0 0 0 0 0 0 0 0 0 0 0 0 0 0 0 0\n",
      " 0 0 0 0 0 0 0 0 0 0 0 0 0 0 0 0 0 0 0 0 0 0 0 0 0 0 0 0 0 0 0 0 0 0 0 0 0\n",
      " 0 0 0 0 0 0 0 0 0 0 0 0 0 0 0 0 0 0 0 0 0 0 0 0 0 0 0 0 0 0 0 0 0 0 0 0 0\n",
      " 0 0 0 0 0 0 0 0 0 0 0 0 0 0 0 0 0 0 0 0 0 0 0 0 0 0 0 0 0 0 0 0 0 0 0 0 0\n",
      " 0 0 0 0 0 0 0 0 0 0 0 0 0 0 0 0 0 0 0 0 0 0 0 0 0 0 0 0 0 0 0 0 0 0 0 0 0\n",
      " 0 0 0 0 0 0 0 0 0 0 0 0 0 0 0 0 0 0 0 0 0 0 0 0 0 0 0 0 0 0 0 0 0 0 0 0 0\n",
      " 0 0 0 0 0 0 0 0 0 0 0 0 0 0 0 1 1 1 1 1 1 1 2 2 2 2 2 2 2 2 2 2 2 2 2 2 2\n",
      " 2 2 2 2 2 2 2 2 2 3 3 3 3 3 3 3 3 3 3 3 3 3 3 3 3 3 3 3 3 3 4 4 4 4 4 4 4\n",
      " 4 4 4 4 4 4 4 4 4 4 4 4 4 4 4 4 4 4 4 4 4 4 4]\n"
     ]
    }
   ],
   "source": [
    "print(HCV_X)\n",
    "print(HCV_y)"
   ]
  },
  {
   "cell_type": "code",
   "execution_count": 181,
   "metadata": {},
   "outputs": [
    {
     "data": {
      "text/plain": [
       "False"
      ]
     },
     "execution_count": 181,
     "metadata": {},
     "output_type": "execute_result"
    }
   ],
   "source": [
    "np.any(np.isnan(data_HCV))"
   ]
  },
  {
   "cell_type": "markdown",
   "metadata": {},
   "source": [
    "* Folosind KNeighborsClassifier"
   ]
  },
  {
   "cell_type": "code",
   "execution_count": 186,
   "metadata": {},
   "outputs": [
    {
     "ename": "TypeError",
     "evalue": "cross_val_score() got an unexpected keyword argument 'average'",
     "output_type": "error",
     "traceback": [
      "\u001b[1;31m---------------------------------------------------------------------------\u001b[0m",
      "\u001b[1;31mTypeError\u001b[0m                                 Traceback (most recent call last)",
      "\u001b[1;32m<ipython-input-186-018aff6cdce0>\u001b[0m in \u001b[0;36m<module>\u001b[1;34m\u001b[0m\n\u001b[0;32m      1\u001b[0m \u001b[0mmodel\u001b[0m \u001b[1;33m=\u001b[0m \u001b[0mKNeighborsClassifier\u001b[0m\u001b[1;33m(\u001b[0m\u001b[0mn_neighbors\u001b[0m\u001b[1;33m=\u001b[0m\u001b[1;36m3\u001b[0m\u001b[1;33m)\u001b[0m\u001b[1;33m\u001b[0m\u001b[1;33m\u001b[0m\u001b[0m\n\u001b[1;32m----> 2\u001b[1;33m \u001b[0mour_function\u001b[0m\u001b[1;33m(\u001b[0m\u001b[0mmodel\u001b[0m\u001b[1;33m=\u001b[0m\u001b[0mmodel\u001b[0m\u001b[1;33m,\u001b[0m \u001b[0mX\u001b[0m\u001b[1;33m=\u001b[0m\u001b[0mHCV_X\u001b[0m\u001b[1;33m,\u001b[0m \u001b[0my\u001b[0m\u001b[1;33m=\u001b[0m\u001b[0mHCV_y\u001b[0m\u001b[1;33m)\u001b[0m\u001b[1;33m\u001b[0m\u001b[1;33m\u001b[0m\u001b[0m\n\u001b[0m",
      "\u001b[1;32m<ipython-input-185-330cf468edc5>\u001b[0m in \u001b[0;36mour_function\u001b[1;34m(model, X, y)\u001b[0m\n\u001b[0;32m      3\u001b[0m \u001b[1;33m\u001b[0m\u001b[0m\n\u001b[0;32m      4\u001b[0m \u001b[1;32mdef\u001b[0m \u001b[0mour_function\u001b[0m\u001b[1;33m(\u001b[0m\u001b[0mmodel\u001b[0m\u001b[1;33m,\u001b[0m \u001b[0mX\u001b[0m\u001b[1;33m,\u001b[0m \u001b[0my\u001b[0m\u001b[1;33m)\u001b[0m\u001b[1;33m:\u001b[0m\u001b[1;33m\u001b[0m\u001b[1;33m\u001b[0m\u001b[0m\n\u001b[1;32m----> 5\u001b[1;33m     \u001b[0mscores\u001b[0m \u001b[1;33m=\u001b[0m \u001b[0mcross_val_score\u001b[0m\u001b[1;33m(\u001b[0m\u001b[0mmodel\u001b[0m\u001b[1;33m,\u001b[0m \u001b[0mX\u001b[0m\u001b[1;33m,\u001b[0m \u001b[0my\u001b[0m\u001b[1;33m,\u001b[0m \u001b[0mcv\u001b[0m\u001b[1;33m=\u001b[0m\u001b[1;36m10\u001b[0m\u001b[1;33m,\u001b[0m \u001b[0mscoring\u001b[0m\u001b[1;33m=\u001b[0m\u001b[1;34m'accuracy'\u001b[0m\u001b[1;33m,\u001b[0m \u001b[0maverage\u001b[0m\u001b[1;33m=\u001b[0m\u001b[1;34m'micro'\u001b[0m\u001b[1;33m)\u001b[0m\u001b[1;33m\u001b[0m\u001b[1;33m\u001b[0m\u001b[0m\n\u001b[0m\u001b[0;32m      6\u001b[0m     \u001b[0mprint\u001b[0m\u001b[1;33m(\u001b[0m\u001b[1;34mf'Accuracy: {scores.mean()}'\u001b[0m\u001b[1;33m)\u001b[0m\u001b[1;33m\u001b[0m\u001b[1;33m\u001b[0m\u001b[0m\n\u001b[0;32m      7\u001b[0m \u001b[1;33m\u001b[0m\u001b[0m\n",
      "\u001b[1;32mD:\\Programe\\AnacondaNavigator\\envs\\IDS\\lib\\site-packages\\sklearn\\utils\\validation.py\u001b[0m in \u001b[0;36minner_f\u001b[1;34m(*args, **kwargs)\u001b[0m\n\u001b[0;32m     61\u001b[0m             \u001b[0mextra_args\u001b[0m \u001b[1;33m=\u001b[0m \u001b[0mlen\u001b[0m\u001b[1;33m(\u001b[0m\u001b[0margs\u001b[0m\u001b[1;33m)\u001b[0m \u001b[1;33m-\u001b[0m \u001b[0mlen\u001b[0m\u001b[1;33m(\u001b[0m\u001b[0mall_args\u001b[0m\u001b[1;33m)\u001b[0m\u001b[1;33m\u001b[0m\u001b[1;33m\u001b[0m\u001b[0m\n\u001b[0;32m     62\u001b[0m             \u001b[1;32mif\u001b[0m \u001b[0mextra_args\u001b[0m \u001b[1;33m<=\u001b[0m \u001b[1;36m0\u001b[0m\u001b[1;33m:\u001b[0m\u001b[1;33m\u001b[0m\u001b[1;33m\u001b[0m\u001b[0m\n\u001b[1;32m---> 63\u001b[1;33m                 \u001b[1;32mreturn\u001b[0m \u001b[0mf\u001b[0m\u001b[1;33m(\u001b[0m\u001b[1;33m*\u001b[0m\u001b[0margs\u001b[0m\u001b[1;33m,\u001b[0m \u001b[1;33m**\u001b[0m\u001b[0mkwargs\u001b[0m\u001b[1;33m)\u001b[0m\u001b[1;33m\u001b[0m\u001b[1;33m\u001b[0m\u001b[0m\n\u001b[0m\u001b[0;32m     64\u001b[0m \u001b[1;33m\u001b[0m\u001b[0m\n\u001b[0;32m     65\u001b[0m             \u001b[1;31m# extra_args > 0\u001b[0m\u001b[1;33m\u001b[0m\u001b[1;33m\u001b[0m\u001b[1;33m\u001b[0m\u001b[0m\n",
      "\u001b[1;31mTypeError\u001b[0m: cross_val_score() got an unexpected keyword argument 'average'"
     ]
    }
   ],
   "source": [
    "model = KNeighborsClassifier(n_neighbors=3)\n",
    "our_function(model=model, X=HCV_X, y=HCV_y)"
   ]
  },
  {
   "cell_type": "code",
   "execution_count": null,
   "metadata": {},
   "outputs": [],
   "source": []
  },
  {
   "cell_type": "code",
   "execution_count": null,
   "metadata": {},
   "outputs": [],
   "source": []
  },
  {
   "cell_type": "code",
   "execution_count": null,
   "metadata": {},
   "outputs": [],
   "source": []
  },
  {
   "cell_type": "markdown",
   "metadata": {},
   "source": [
    "3. Raportati performanta fiecarui model, folosind 5 fold cross validation. Pentru fiecare din cele 5 rulari, cautati hiperparametrii optimi folosind 4-fold cross validation. Performanta modelului va fi raportata ca medie a celor  5 rulari. \n",
    "    \n",
    "    *Observatie:* la fiecare din cele 5 rulari, hiperparametrii optimi pot diferi, din cauza datelor utilizate pentru antrenare/validare. "
   ]
  },
  {
   "cell_type": "markdown",
   "metadata": {},
   "source": [
    "* Setul de date Planning Relax"
   ]
  },
  {
   "cell_type": "markdown",
   "metadata": {},
   "source": [
    "* Folosind KNeighborsClassifier"
   ]
  },
  {
   "cell_type": "code",
   "execution_count": 55,
   "metadata": {},
   "outputs": [],
   "source": [
    "pr_data = pd.read_csv(\"data/planning_relax_data_set.txt\", delimiter=\"\\t\", header=None)\n",
    "pr_data = pr_data.drop(13, axis=1)\n",
    "pr_X = pr_data.iloc[:, :-1].values\n",
    "pr_y = pr_data.iloc[:, -1].values"
   ]
  },
  {
   "cell_type": "code",
   "execution_count": 56,
   "metadata": {},
   "outputs": [
    {
     "name": "stdout",
     "output_type": "stream",
     "text": [
      "\n",
      "Iteration  0\n",
      "\tBest score: 0.725438596491228\n",
      "\tBest params: {'n_neighbors': 2, 'p': 3}\n",
      "\tAccuracy on whole set: 0.8021978021978022\n",
      "\n",
      "Iteration  1\n",
      "\tBest score: 0.725438596491228\n",
      "\tBest params: {'n_neighbors': 2, 'p': 3}\n",
      "\tAccuracy on whole set: 0.8021978021978022\n",
      "\n",
      "Iteration  2\n",
      "\tBest score: 0.725438596491228\n",
      "\tBest params: {'n_neighbors': 2, 'p': 3}\n",
      "\tAccuracy on whole set: 0.8021978021978022\n",
      "\n",
      "Iteration  3\n",
      "\tBest score: 0.725438596491228\n",
      "\tBest params: {'n_neighbors': 2, 'p': 3}\n",
      "\tAccuracy on whole set: 0.8021978021978022\n",
      "\n",
      "Iteration  4\n",
      "\tBest score: 0.725438596491228\n",
      "\tBest params: {'n_neighbors': 2, 'p': 3}\n",
      "\tAccuracy on whole set: 0.8021978021978022\n",
      "Media acuratetei dupa 5 iteratii este: 0.8021978021978022\n"
     ]
    }
   ],
   "source": [
    "from sklearn.model_selection import cross_validate, cross_val_score\n",
    "from sklearn.metrics import accuracy_score\n",
    "\n",
    "medii = []\n",
    "\n",
    "for _ in range(5):\n",
    "    best_score = 0\n",
    "    for k in range(1, 31):\n",
    "        for p in [1, 2, 3, 10]:\n",
    "            model = KNeighborsClassifier(n_neighbors=k, p=p)\n",
    "            score = np.mean(cross_val_score(model, pr_X, pr_y, cv=10))\n",
    "            if score >= best_score:\n",
    "                best_score = score\n",
    "                best_params = {'n_neighbors':k, 'p':p}\n",
    "\n",
    "    print('\\nIteration ', _)\n",
    "    print('\\tBest score:', best_score)\n",
    "    print('\\tBest params:', best_params)  \n",
    "\n",
    "    model = KNeighborsClassifier(**best_params)\n",
    "    model.fit(pr_X, pr_y)\n",
    "    y_predicted = model.predict(pr_X)\n",
    "    print('\\tAccuracy on whole set:', accuracy_score(pr_y, y_predicted))\n",
    "    medii += [accuracy_score(pr_y, y_predicted)]\n",
    "\n",
    "print(f'Media acuratetei dupa 5 iteratii este: {np.mean(medii)}')"
   ]
  },
  {
   "cell_type": "code",
   "execution_count": null,
   "metadata": {},
   "outputs": [],
   "source": []
  }
 ],
 "metadata": {
  "kernelspec": {
   "display_name": "Python 3",
   "language": "python",
   "name": "python3"
  },
  "language_info": {
   "codemirror_mode": {
    "name": "ipython",
    "version": 3
   },
   "file_extension": ".py",
   "mimetype": "text/x-python",
   "name": "python",
   "nbconvert_exporter": "python",
   "pygments_lexer": "ipython3",
   "version": "3.8.5"
  }
 },
 "nbformat": 4,
 "nbformat_minor": 5
}
