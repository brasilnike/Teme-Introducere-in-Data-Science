{
 "cells": [
  {
   "cell_type": "markdown",
   "id": "66d21823",
   "metadata": {},
   "source": [
    "# Tema 4 - Metode de clasificare"
   ]
  },
  {
   "cell_type": "markdown",
   "id": "09925e33",
   "metadata": {},
   "source": [
    "Folositi 4 seturi de date pentru probleme de clasificare, plecand de la repository-urile specificate in Cursul 6. Cel putin un set de date sa fie cu valori lipsa; pentru un alt set de date care are initial toate valorile, introduceti dvs. in mod artificial valori lipsa, suprascriind un anumit procent din valorile initiale (ex. `p=5%`, `p` parametru) cu `numpy.nan`. "
   ]
  },
  {
   "cell_type": "code",
   "execution_count": 111,
   "id": "8e404a5e",
   "metadata": {},
   "outputs": [
    {
     "name": "stdout",
     "output_type": "stream",
     "text": [
      "At the moment the program was made:\n",
      "\tNumPy Version = 1.20.2\n",
      "\tScykit_learn Version = 0.24.1\n",
      "\tPandas Version = 1.2.3\n",
      "\n",
      "Current NumPy Version = 1.20.2\n",
      "Current Sklearn Version = 0.24.1\n",
      "Current Pandas Version = 1.2.4\n"
     ]
    }
   ],
   "source": [
    "import numpy as np\n",
    "import pandas as pd\n",
    "import sklearn\n",
    "\n",
    "print('At the moment the program was made:')\n",
    "print('\\tNumPy Version = 1.20.2')\n",
    "print('\\tScykit_learn Version = 0.24.1')\n",
    "print('\\tPandas Version = 1.2.3\\n')\n",
    "\n",
    "print(f'Current NumPy Version = {np.__version__}')\n",
    "print(f'Current Sklearn Version = {sklearn.__version__}')\n",
    "print(f'Current Pandas Version = {pd.__version__}')"
   ]
  },
  {
   "cell_type": "markdown",
   "id": "1cafda2c",
   "metadata": {},
   "source": [
    "1. Aplicati o metoda de missing value imputation, unde este cazul; documentati metoda folosita.\n",
    "*Resurse*: Pentru missing value imputation, puteti urmari [Imputation of missing values](https://scikit-learn.org/stable/modules/impute.html), [How to Handle Missing Data with Python](https://machinelearningmastery.com/handle-missing-data-python/), [fancyimpute](https://github.com/iskandr/fancyimpute), [missingpy](https://github.com/epsilon-machine/missingpy)."
   ]
  },
  {
   "cell_type": "markdown",
   "id": "2ab0af7b",
   "metadata": {},
   "source": [
    "* Setul de date `Planning Relax`"
   ]
  },
  {
   "cell_type": "code",
   "execution_count": 112,
   "id": "ceb99be6",
   "metadata": {},
   "outputs": [
    {
     "data": {
      "text/html": [
       "<div>\n",
       "<style scoped>\n",
       "    .dataframe tbody tr th:only-of-type {\n",
       "        vertical-align: middle;\n",
       "    }\n",
       "\n",
       "    .dataframe tbody tr th {\n",
       "        vertical-align: top;\n",
       "    }\n",
       "\n",
       "    .dataframe thead th {\n",
       "        text-align: right;\n",
       "    }\n",
       "</style>\n",
       "<table border=\"1\" class=\"dataframe\">\n",
       "  <thead>\n",
       "    <tr style=\"text-align: right;\">\n",
       "      <th></th>\n",
       "      <th>0</th>\n",
       "      <th>1</th>\n",
       "      <th>2</th>\n",
       "      <th>3</th>\n",
       "      <th>4</th>\n",
       "      <th>5</th>\n",
       "      <th>6</th>\n",
       "      <th>7</th>\n",
       "      <th>8</th>\n",
       "      <th>9</th>\n",
       "      <th>10</th>\n",
       "      <th>11</th>\n",
       "      <th>12</th>\n",
       "    </tr>\n",
       "  </thead>\n",
       "  <tbody>\n",
       "    <tr>\n",
       "      <th>0</th>\n",
       "      <td>-0.17936</td>\n",
       "      <td>-0.20700</td>\n",
       "      <td>-0.209710</td>\n",
       "      <td>-0.097260</td>\n",
       "      <td>-0.119210</td>\n",
       "      <td>-0.17322</td>\n",
       "      <td>-0.280760</td>\n",
       "      <td>0.223170</td>\n",
       "      <td>0.418660</td>\n",
       "      <td>-0.032886</td>\n",
       "      <td>0.003383</td>\n",
       "      <td>-0.334250</td>\n",
       "      <td>1.0</td>\n",
       "    </tr>\n",
       "    <tr>\n",
       "      <th>1</th>\n",
       "      <td>-0.14659</td>\n",
       "      <td>-0.16494</td>\n",
       "      <td>0.249870</td>\n",
       "      <td>-0.073985</td>\n",
       "      <td>0.494940</td>\n",
       "      <td>-0.15633</td>\n",
       "      <td>-0.288910</td>\n",
       "      <td>0.500800</td>\n",
       "      <td>-0.045553</td>\n",
       "      <td>0.050759</td>\n",
       "      <td>-0.017511</td>\n",
       "      <td>0.066959</td>\n",
       "      <td>1.0</td>\n",
       "    </tr>\n",
       "    <tr>\n",
       "      <th>2</th>\n",
       "      <td>-0.13131</td>\n",
       "      <td>0.51816</td>\n",
       "      <td>0.432810</td>\n",
       "      <td>0.397890</td>\n",
       "      <td>0.043127</td>\n",
       "      <td>0.56320</td>\n",
       "      <td>-0.013246</td>\n",
       "      <td>-0.062833</td>\n",
       "      <td>-0.883390</td>\n",
       "      <td>-0.040303</td>\n",
       "      <td>0.088057</td>\n",
       "      <td>0.631200</td>\n",
       "      <td>2.0</td>\n",
       "    </tr>\n",
       "    <tr>\n",
       "      <th>3</th>\n",
       "      <td>0.64940</td>\n",
       "      <td>0.41878</td>\n",
       "      <td>0.148350</td>\n",
       "      <td>0.333490</td>\n",
       "      <td>-0.219740</td>\n",
       "      <td>0.39891</td>\n",
       "      <td>0.590650</td>\n",
       "      <td>0.077100</td>\n",
       "      <td>-1.107200</td>\n",
       "      <td>-0.367230</td>\n",
       "      <td>0.364680</td>\n",
       "      <td>0.571720</td>\n",
       "      <td>1.0</td>\n",
       "    </tr>\n",
       "    <tr>\n",
       "      <th>4</th>\n",
       "      <td>-0.40628</td>\n",
       "      <td>0.11503</td>\n",
       "      <td>0.073336</td>\n",
       "      <td>0.070066</td>\n",
       "      <td>-0.030920</td>\n",
       "      <td>0.15205</td>\n",
       "      <td>-0.191420</td>\n",
       "      <td>-0.580430</td>\n",
       "      <td>-0.102250</td>\n",
       "      <td>0.153750</td>\n",
       "      <td>-0.126950</td>\n",
       "      <td>0.184570</td>\n",
       "      <td>1.0</td>\n",
       "    </tr>\n",
       "  </tbody>\n",
       "</table>\n",
       "</div>"
      ],
      "text/plain": [
       "        0        1         2         3         4        5         6   \\\n",
       "0 -0.17936 -0.20700 -0.209710 -0.097260 -0.119210 -0.17322 -0.280760   \n",
       "1 -0.14659 -0.16494  0.249870 -0.073985  0.494940 -0.15633 -0.288910   \n",
       "2 -0.13131  0.51816  0.432810  0.397890  0.043127  0.56320 -0.013246   \n",
       "3  0.64940  0.41878  0.148350  0.333490 -0.219740  0.39891  0.590650   \n",
       "4 -0.40628  0.11503  0.073336  0.070066 -0.030920  0.15205 -0.191420   \n",
       "\n",
       "         7         8         9         10        11   12  \n",
       "0  0.223170  0.418660 -0.032886  0.003383 -0.334250  1.0  \n",
       "1  0.500800 -0.045553  0.050759 -0.017511  0.066959  1.0  \n",
       "2 -0.062833 -0.883390 -0.040303  0.088057  0.631200  2.0  \n",
       "3  0.077100 -1.107200 -0.367230  0.364680  0.571720  1.0  \n",
       "4 -0.580430 -0.102250  0.153750 -0.126950  0.184570  1.0  "
      ]
     },
     "execution_count": 112,
     "metadata": {},
     "output_type": "execute_result"
    }
   ],
   "source": [
    "pd_data = pd.read_csv(\"data/planning_relax_data_set.txt\", delimiter=\"\\t\", header=None)\n",
    "pd_data = pd_data.drop(13, axis=1)\n",
    "pd_data.head()"
   ]
  },
  {
   "cell_type": "code",
   "execution_count": 113,
   "id": "e7bcf83b",
   "metadata": {},
   "outputs": [
    {
     "name": "stdout",
     "output_type": "stream",
     "text": [
      "<class 'pandas.core.frame.DataFrame'>\n",
      "RangeIndex: 182 entries, 0 to 181\n",
      "Data columns (total 13 columns):\n",
      " #   Column  Non-Null Count  Dtype  \n",
      "---  ------  --------------  -----  \n",
      " 0   0       182 non-null    float64\n",
      " 1   1       182 non-null    float64\n",
      " 2   2       182 non-null    float64\n",
      " 3   3       182 non-null    float64\n",
      " 4   4       182 non-null    float64\n",
      " 5   5       182 non-null    float64\n",
      " 6   6       182 non-null    float64\n",
      " 7   7       182 non-null    float64\n",
      " 8   8       182 non-null    float64\n",
      " 9   9       182 non-null    float64\n",
      " 10  10      182 non-null    float64\n",
      " 11  11      182 non-null    float64\n",
      " 12  12      182 non-null    float64\n",
      "dtypes: float64(13)\n",
      "memory usage: 18.6 KB\n"
     ]
    }
   ],
   "source": [
    "pd_data.info()"
   ]
  },
  {
   "cell_type": "code",
   "execution_count": 114,
   "id": "4b2a6ec2",
   "metadata": {},
   "outputs": [],
   "source": [
    "pd_data = pd_data.values\n",
    "pd_data_original = pd_data.copy()\n",
    "assert not np.isnan(pd_data_original.sum()) # verificam ca nu e niciun nan "
   ]
  },
  {
   "cell_type": "markdown",
   "id": "056b064b",
   "metadata": {},
   "source": [
    "Setul initial de date nu are valori lipsa, dar am implementat o functie care sa suprascrie un anumit procent din valorile initiale (dat ca parametru) folosind `numpy.nan`"
   ]
  },
  {
   "cell_type": "code",
   "execution_count": 115,
   "id": "feb131af",
   "metadata": {},
   "outputs": [
    {
     "name": "stdout",
     "output_type": "stream",
     "text": [
      "DataSet after adding Nan: \n",
      " [[-0.17936          nan -0.20971   ...  0.0033827 -0.33425    1.       ]\n",
      " [-0.14659          nan        nan ... -0.017511   0.066959   1.       ]\n",
      " [       nan  0.51816    0.43281   ...  0.088057   0.6312     2.       ]\n",
      " ...\n",
      " [ 0.29877   -0.17962    0.032859  ...  0.24683          nan  2.       ]\n",
      " [-0.37812   -0.52287          nan ...  0.007591   0.47603          nan]\n",
      " [ 0.37913   -0.046562         nan ...  0.17369          nan  2.       ]]\n"
     ]
    }
   ],
   "source": [
    "def insert_nan(data, percentage=15):\n",
    "    numbers_to_be_modified = int(percentage / 100 * data.shape[0] * data.shape[1])\n",
    "    random_lines = np.random.choice(data.shape[0], numbers_to_be_modified)\n",
    "    random_cols = np.random.choice(data.shape[1], numbers_to_be_modified)\n",
    "    data[random_lines, random_cols] = np.nan\n",
    "    return data\n",
    "\n",
    "pd_data = insert_nan(pd_data)\n",
    "print(f'DataSet after adding Nan: \\n {pd_data}')\n",
    "assert np.isnan(pd_data.sum()) # verificam ca e cel putin un nan"
   ]
  },
  {
   "cell_type": "code",
   "execution_count": 116,
   "id": "d4abd809",
   "metadata": {},
   "outputs": [
    {
     "name": "stdout",
     "output_type": "stream",
     "text": [
      "DataSet after missing values imputation: \n",
      " [[-0.17936    -0.10036008 -0.20971    ...  0.0033827  -0.33425\n",
      "   1.        ]\n",
      " [-0.14659    -0.18227824  0.2776674  ... -0.017511    0.066959\n",
      "   1.        ]\n",
      " [-0.18978401  0.51816     0.43281    ...  0.088057    0.6312\n",
      "   2.        ]\n",
      " ...\n",
      " [ 0.29877    -0.17962     0.032859   ...  0.24683    -0.37394219\n",
      "   2.        ]\n",
      " [-0.37812    -0.52287     0.22249187 ...  0.007591    0.47603\n",
      "   1.29663838]\n",
      " [ 0.37913    -0.046562   -0.11213411 ...  0.17369     0.2892582\n",
      "   2.        ]]\n"
     ]
    }
   ],
   "source": [
    "from sklearn.experimental import enable_iterative_imputer\n",
    "from sklearn.impute import IterativeImputer \n",
    "# from sklearn.ensemble import ExtraTreesRegressor\n",
    "imputer = IterativeImputer(max_iter=1000, random_state=0)\n",
    "pd_data_sklearn = imputer.fit_transform(pd_data)\n",
    "print(f'DataSet after missing values imputation: \\n {pd_data_sklearn}')"
   ]
  },
  {
   "cell_type": "code",
   "execution_count": 117,
   "id": "71613aa0",
   "metadata": {},
   "outputs": [
    {
     "data": {
      "text/plain": [
       "2.7537477942095876"
      ]
     },
     "execution_count": 117,
     "metadata": {},
     "output_type": "execute_result"
    }
   ],
   "source": [
    "np.linalg.norm(pd_data_sklearn - pd_data_original)"
   ]
  },
  {
   "cell_type": "markdown",
   "id": "87732f28",
   "metadata": {},
   "source": [
    "* Setul de date `Conventional Social Media Movies`"
   ]
  },
  {
   "cell_type": "code",
   "execution_count": 118,
   "id": "824a6170",
   "metadata": {},
   "outputs": [],
   "source": [
    "data = pd.read_excel('data/2014 and 2015 CSM dataset.xlsx', index_col=None, header=None)\n",
    "data = data.drop(0, axis=0)\n",
    "data = data.drop(0, axis=1)"
   ]
  },
  {
   "cell_type": "code",
   "execution_count": 119,
   "id": "35d63e97",
   "metadata": {},
   "outputs": [
    {
     "data": {
      "text/html": [
       "<div>\n",
       "<style scoped>\n",
       "    .dataframe tbody tr th:only-of-type {\n",
       "        vertical-align: middle;\n",
       "    }\n",
       "\n",
       "    .dataframe tbody tr th {\n",
       "        vertical-align: top;\n",
       "    }\n",
       "\n",
       "    .dataframe thead th {\n",
       "        text-align: right;\n",
       "    }\n",
       "</style>\n",
       "<table border=\"1\" class=\"dataframe\">\n",
       "  <thead>\n",
       "    <tr style=\"text-align: right;\">\n",
       "      <th></th>\n",
       "      <th>1</th>\n",
       "      <th>2</th>\n",
       "      <th>3</th>\n",
       "      <th>4</th>\n",
       "      <th>5</th>\n",
       "      <th>6</th>\n",
       "      <th>7</th>\n",
       "      <th>8</th>\n",
       "      <th>9</th>\n",
       "      <th>10</th>\n",
       "      <th>11</th>\n",
       "      <th>12</th>\n",
       "      <th>13</th>\n",
       "    </tr>\n",
       "  </thead>\n",
       "  <tbody>\n",
       "    <tr>\n",
       "      <th>1</th>\n",
       "      <td>2014</td>\n",
       "      <td>6.3</td>\n",
       "      <td>8</td>\n",
       "      <td>9130</td>\n",
       "      <td>4000000</td>\n",
       "      <td>45</td>\n",
       "      <td>1</td>\n",
       "      <td>0</td>\n",
       "      <td>3280543</td>\n",
       "      <td>4632</td>\n",
       "      <td>425</td>\n",
       "      <td>636</td>\n",
       "      <td>1120000</td>\n",
       "    </tr>\n",
       "    <tr>\n",
       "      <th>2</th>\n",
       "      <td>2014</td>\n",
       "      <td>7.1</td>\n",
       "      <td>1</td>\n",
       "      <td>192000000</td>\n",
       "      <td>50000000</td>\n",
       "      <td>3306</td>\n",
       "      <td>2</td>\n",
       "      <td>2</td>\n",
       "      <td>583289</td>\n",
       "      <td>3465</td>\n",
       "      <td>61</td>\n",
       "      <td>186</td>\n",
       "      <td>12350000</td>\n",
       "    </tr>\n",
       "    <tr>\n",
       "      <th>3</th>\n",
       "      <td>2014</td>\n",
       "      <td>6.2</td>\n",
       "      <td>1</td>\n",
       "      <td>30700000</td>\n",
       "      <td>28000000</td>\n",
       "      <td>2872</td>\n",
       "      <td>1</td>\n",
       "      <td>0</td>\n",
       "      <td>304861</td>\n",
       "      <td>328</td>\n",
       "      <td>34</td>\n",
       "      <td>47</td>\n",
       "      <td>483000</td>\n",
       "    </tr>\n",
       "    <tr>\n",
       "      <th>4</th>\n",
       "      <td>2014</td>\n",
       "      <td>6.3</td>\n",
       "      <td>1</td>\n",
       "      <td>106000000</td>\n",
       "      <td>110000000</td>\n",
       "      <td>3470</td>\n",
       "      <td>2</td>\n",
       "      <td>0</td>\n",
       "      <td>452917</td>\n",
       "      <td>2429</td>\n",
       "      <td>132</td>\n",
       "      <td>590</td>\n",
       "      <td>568000</td>\n",
       "    </tr>\n",
       "    <tr>\n",
       "      <th>5</th>\n",
       "      <td>2014</td>\n",
       "      <td>4.7</td>\n",
       "      <td>8</td>\n",
       "      <td>17300000</td>\n",
       "      <td>3500000</td>\n",
       "      <td>2310</td>\n",
       "      <td>2</td>\n",
       "      <td>0</td>\n",
       "      <td>3145573</td>\n",
       "      <td>12163</td>\n",
       "      <td>610</td>\n",
       "      <td>1082</td>\n",
       "      <td>1923800</td>\n",
       "    </tr>\n",
       "  </tbody>\n",
       "</table>\n",
       "</div>"
      ],
      "text/plain": [
       "     1    2  3          4          5     6  7  8        9      10   11    12  \\\n",
       "1  2014  6.3  8       9130    4000000    45  1  0  3280543   4632  425   636   \n",
       "2  2014  7.1  1  192000000   50000000  3306  2  2   583289   3465   61   186   \n",
       "3  2014  6.2  1   30700000   28000000  2872  1  0   304861    328   34    47   \n",
       "4  2014  6.3  1  106000000  110000000  3470  2  0   452917   2429  132   590   \n",
       "5  2014  4.7  8   17300000    3500000  2310  2  0  3145573  12163  610  1082   \n",
       "\n",
       "         13  \n",
       "1   1120000  \n",
       "2  12350000  \n",
       "3    483000  \n",
       "4    568000  \n",
       "5   1923800  "
      ]
     },
     "execution_count": 119,
     "metadata": {},
     "output_type": "execute_result"
    }
   ],
   "source": [
    "data.head()"
   ]
  },
  {
   "cell_type": "code",
   "execution_count": 120,
   "id": "e18d23a5",
   "metadata": {},
   "outputs": [
    {
     "name": "stdout",
     "output_type": "stream",
     "text": [
      "[[2014 6.3 8 ... 425 636 1120000]\n",
      " [2014 7.1 1 ... 61 186 12350000]\n",
      " [2014 6.2 1 ... 34 47 483000]\n",
      " ...\n",
      " [2015 5.4 8 ... 325 409 nan]\n",
      " [2015 5.4 1 ... 67 201 nan]\n",
      " [2015 4.4 15 ... 431 606 nan]]\n"
     ]
    }
   ],
   "source": [
    "data = data.values\n",
    "print(data)\n",
    "data_original = data.copy()\n",
    "assert np.isnan(data.sum()) # verificam ca e cel putin un nan"
   ]
  },
  {
   "cell_type": "code",
   "execution_count": 121,
   "id": "5af6a469",
   "metadata": {},
   "outputs": [
    {
     "name": "stdout",
     "output_type": "stream",
     "text": [
      "Requirement already satisfied: missingpy in c:\\users\\laur\\anaconda3\\envs\\introducereindatascience\\lib\\site-packages (0.2.0)\n"
     ]
    }
   ],
   "source": [
    "!pip install missingpy"
   ]
  },
  {
   "cell_type": "code",
   "execution_count": 122,
   "id": "541d517a",
   "metadata": {},
   "outputs": [],
   "source": [
    "import sys\n",
    "import sklearn.neighbors._base\n",
    "sys.modules['sklearn.neighbors.base'] = sklearn.neighbors._base"
   ]
  },
  {
   "cell_type": "code",
   "execution_count": 123,
   "id": "dec00eb5",
   "metadata": {},
   "outputs": [
    {
     "name": "stdout",
     "output_type": "stream",
     "text": [
      "Iteration: 0\n",
      "Iteration: 1\n",
      "Iteration: 2\n",
      "Iteration: 3\n",
      "Iteration: 4\n"
     ]
    }
   ],
   "source": [
    "from missingpy import MissForest\n",
    "\n",
    "imputer = MissForest()\n",
    "data = imputer.fit_transform(data)\n",
    "assert not np.isnan(data.sum()) # verificam ca nu exista niciun nan"
   ]
  },
  {
   "cell_type": "code",
   "execution_count": 124,
   "id": "6ace509a",
   "metadata": {},
   "outputs": [
    {
     "name": "stdout",
     "output_type": "stream",
     "text": [
      "Data original:\n",
      " [[2014 6.3 8 ... 425 636 1120000]\n",
      " [2014 7.1 1 ... 61 186 12350000]\n",
      " [2014 6.2 1 ... 34 47 483000]\n",
      " ...\n",
      " [2015 5.4 8 ... 325 409 nan]\n",
      " [2015 5.4 1 ... 67 201 nan]\n",
      " [2015 4.4 15 ... 431 606 nan]]\n",
      "\n",
      "Data filled:\n",
      " [[2.01400000e+03 6.30000000e+00 8.00000000e+00 ... 4.25000000e+02\n",
      "  6.36000000e+02 1.12000000e+06]\n",
      " [2.01400000e+03 7.10000000e+00 1.00000000e+00 ... 6.10000000e+01\n",
      "  1.86000000e+02 1.23500000e+07]\n",
      " [2.01400000e+03 6.20000000e+00 1.00000000e+00 ... 3.40000000e+01\n",
      "  4.70000000e+01 4.83000000e+05]\n",
      " ...\n",
      " [2.01500000e+03 5.40000000e+00 8.00000000e+00 ... 3.25000000e+02\n",
      "  4.09000000e+02 2.19932847e+06]\n",
      " [2.01500000e+03 5.40000000e+00 1.00000000e+00 ... 6.70000000e+01\n",
      "  2.01000000e+02 7.79592690e+05]\n",
      " [2.01500000e+03 4.40000000e+00 1.50000000e+01 ... 4.31000000e+02\n",
      "  6.06000000e+02 1.71773896e+06]]\n"
     ]
    }
   ],
   "source": [
    "print(f'Data original:\\n {data_original}')\n",
    "print(f'\\nData filled:\\n {data}')"
   ]
  },
  {
   "cell_type": "markdown",
   "id": "06368028",
   "metadata": {},
   "source": [
    "2. Pentru fiecare set de date aplicati 5 modele de clasificare din scikit learn. Pentru fiecare raportati: acuratete, precision, recall, scorul F1 - a se vedea [sklearn.metrics](http://scikit-learn.org/stable/modules/classes.html#module-sklearn.metrics), [Precision and recall](https://en.wikipedia.org/wiki/Precision_and_recall) - folosind 5 fold cross validation. Raportati mediile rezultatelor atat pentru fold-urile de antrenare, cat si pentru cele de testare. Rularile se vor face cu valori fixate ale hiperparametrilor. "
   ]
  },
  {
   "cell_type": "markdown",
   "id": "4ff260ce",
   "metadata": {},
   "source": [
    "* Setul de date `Planning Relax`"
   ]
  },
  {
   "cell_type": "code",
   "execution_count": 125,
   "id": "566f69ab",
   "metadata": {},
   "outputs": [
    {
     "data": {
      "text/html": [
       "<div>\n",
       "<style scoped>\n",
       "    .dataframe tbody tr th:only-of-type {\n",
       "        vertical-align: middle;\n",
       "    }\n",
       "\n",
       "    .dataframe tbody tr th {\n",
       "        vertical-align: top;\n",
       "    }\n",
       "\n",
       "    .dataframe thead th {\n",
       "        text-align: right;\n",
       "    }\n",
       "</style>\n",
       "<table border=\"1\" class=\"dataframe\">\n",
       "  <thead>\n",
       "    <tr style=\"text-align: right;\">\n",
       "      <th></th>\n",
       "      <th>0</th>\n",
       "      <th>1</th>\n",
       "      <th>2</th>\n",
       "      <th>3</th>\n",
       "      <th>4</th>\n",
       "      <th>5</th>\n",
       "      <th>6</th>\n",
       "      <th>7</th>\n",
       "      <th>8</th>\n",
       "      <th>9</th>\n",
       "      <th>10</th>\n",
       "      <th>11</th>\n",
       "      <th>12</th>\n",
       "    </tr>\n",
       "  </thead>\n",
       "  <tbody>\n",
       "    <tr>\n",
       "      <th>0</th>\n",
       "      <td>-0.17936</td>\n",
       "      <td>-0.20700</td>\n",
       "      <td>-0.209710</td>\n",
       "      <td>-0.097260</td>\n",
       "      <td>-0.119210</td>\n",
       "      <td>-0.17322</td>\n",
       "      <td>-0.280760</td>\n",
       "      <td>0.223170</td>\n",
       "      <td>0.418660</td>\n",
       "      <td>-0.032886</td>\n",
       "      <td>0.003383</td>\n",
       "      <td>-0.334250</td>\n",
       "      <td>1.0</td>\n",
       "    </tr>\n",
       "    <tr>\n",
       "      <th>1</th>\n",
       "      <td>-0.14659</td>\n",
       "      <td>-0.16494</td>\n",
       "      <td>0.249870</td>\n",
       "      <td>-0.073985</td>\n",
       "      <td>0.494940</td>\n",
       "      <td>-0.15633</td>\n",
       "      <td>-0.288910</td>\n",
       "      <td>0.500800</td>\n",
       "      <td>-0.045553</td>\n",
       "      <td>0.050759</td>\n",
       "      <td>-0.017511</td>\n",
       "      <td>0.066959</td>\n",
       "      <td>1.0</td>\n",
       "    </tr>\n",
       "    <tr>\n",
       "      <th>2</th>\n",
       "      <td>-0.13131</td>\n",
       "      <td>0.51816</td>\n",
       "      <td>0.432810</td>\n",
       "      <td>0.397890</td>\n",
       "      <td>0.043127</td>\n",
       "      <td>0.56320</td>\n",
       "      <td>-0.013246</td>\n",
       "      <td>-0.062833</td>\n",
       "      <td>-0.883390</td>\n",
       "      <td>-0.040303</td>\n",
       "      <td>0.088057</td>\n",
       "      <td>0.631200</td>\n",
       "      <td>2.0</td>\n",
       "    </tr>\n",
       "    <tr>\n",
       "      <th>3</th>\n",
       "      <td>0.64940</td>\n",
       "      <td>0.41878</td>\n",
       "      <td>0.148350</td>\n",
       "      <td>0.333490</td>\n",
       "      <td>-0.219740</td>\n",
       "      <td>0.39891</td>\n",
       "      <td>0.590650</td>\n",
       "      <td>0.077100</td>\n",
       "      <td>-1.107200</td>\n",
       "      <td>-0.367230</td>\n",
       "      <td>0.364680</td>\n",
       "      <td>0.571720</td>\n",
       "      <td>1.0</td>\n",
       "    </tr>\n",
       "    <tr>\n",
       "      <th>4</th>\n",
       "      <td>-0.40628</td>\n",
       "      <td>0.11503</td>\n",
       "      <td>0.073336</td>\n",
       "      <td>0.070066</td>\n",
       "      <td>-0.030920</td>\n",
       "      <td>0.15205</td>\n",
       "      <td>-0.191420</td>\n",
       "      <td>-0.580430</td>\n",
       "      <td>-0.102250</td>\n",
       "      <td>0.153750</td>\n",
       "      <td>-0.126950</td>\n",
       "      <td>0.184570</td>\n",
       "      <td>1.0</td>\n",
       "    </tr>\n",
       "  </tbody>\n",
       "</table>\n",
       "</div>"
      ],
      "text/plain": [
       "        0        1         2         3         4        5         6   \\\n",
       "0 -0.17936 -0.20700 -0.209710 -0.097260 -0.119210 -0.17322 -0.280760   \n",
       "1 -0.14659 -0.16494  0.249870 -0.073985  0.494940 -0.15633 -0.288910   \n",
       "2 -0.13131  0.51816  0.432810  0.397890  0.043127  0.56320 -0.013246   \n",
       "3  0.64940  0.41878  0.148350  0.333490 -0.219740  0.39891  0.590650   \n",
       "4 -0.40628  0.11503  0.073336  0.070066 -0.030920  0.15205 -0.191420   \n",
       "\n",
       "         7         8         9         10        11   12  \n",
       "0  0.223170  0.418660 -0.032886  0.003383 -0.334250  1.0  \n",
       "1  0.500800 -0.045553  0.050759 -0.017511  0.066959  1.0  \n",
       "2 -0.062833 -0.883390 -0.040303  0.088057  0.631200  2.0  \n",
       "3  0.077100 -1.107200 -0.367230  0.364680  0.571720  1.0  \n",
       "4 -0.580430 -0.102250  0.153750 -0.126950  0.184570  1.0  "
      ]
     },
     "execution_count": 125,
     "metadata": {},
     "output_type": "execute_result"
    }
   ],
   "source": [
    "pr_data = pd.read_csv(\"data/planning_relax_data_set.txt\", delimiter=\"\\t\", header=None)\n",
    "pr_data = pr_data.drop(13, axis=1)\n",
    "pr_data.head()"
   ]
  },
  {
   "cell_type": "code",
   "execution_count": 126,
   "id": "48cc780d",
   "metadata": {},
   "outputs": [],
   "source": [
    "pr_X = pr_data.iloc[:, :-1].values\n",
    "pr_y = pr_data.iloc[:, -1].values"
   ]
  },
  {
   "cell_type": "code",
   "execution_count": 127,
   "id": "f1a119fb",
   "metadata": {},
   "outputs": [
    {
     "name": "stdout",
     "output_type": "stream",
     "text": [
      "[[-0.17936   -0.207     -0.20971   ... -0.032886   0.0033827 -0.33425  ]\n",
      " [-0.14659   -0.16494    0.24987   ...  0.050759  -0.017511   0.066959 ]\n",
      " [-0.13131    0.51816    0.43281   ... -0.040303   0.088057   0.6312   ]\n",
      " ...\n",
      " [ 0.29877   -0.17962    0.032859  ... -0.41113    0.24683   -0.38916  ]\n",
      " [-0.37812   -0.52287    0.21541   ... -0.039117   0.007591   0.47603  ]\n",
      " [ 0.37913   -0.046562  -0.12336   ... -0.24229    0.17369    0.49063  ]]\n",
      "[1. 1. 2. 1. 1. 1. 2. 1. 1. 1. 2. 1. 1. 1. 2. 1. 1. 1. 2. 1. 1. 1. 2. 1.\n",
      " 1. 1. 2. 1. 1. 1. 2. 1. 1. 1. 2. 1. 1. 1. 2. 1. 1. 1. 2. 1. 1. 1. 2. 1.\n",
      " 1. 1. 2. 1. 1. 1. 2. 1. 1. 1. 2. 1. 1. 1. 2. 1. 1. 1. 2. 1. 1. 1. 2. 1.\n",
      " 1. 1. 2. 1. 1. 1. 2. 1. 1. 1. 2. 1. 1. 1. 2. 1. 1. 1. 2. 1. 1. 1. 2. 1.\n",
      " 1. 1. 2. 1. 1. 1. 2. 1. 1. 1. 2. 1. 1. 1. 2. 1. 1. 1. 2. 1. 1. 1. 2. 1.\n",
      " 1. 1. 2. 1. 1. 1. 2. 1. 1. 1. 2. 1. 1. 1. 2. 1. 1. 1. 2. 1. 1. 1. 2. 1.\n",
      " 1. 1. 2. 1. 1. 1. 2. 1. 1. 1. 2. 1. 1. 2. 1. 2. 1. 2. 1. 2. 1. 2. 1. 2.\n",
      " 1. 2. 1. 2. 1. 2. 1. 2. 1. 2. 1. 2. 1. 2.]\n"
     ]
    }
   ],
   "source": [
    "print(pr_X)\n",
    "print(pr_y)"
   ]
  },
  {
   "cell_type": "code",
   "execution_count": 128,
   "id": "437f5110",
   "metadata": {},
   "outputs": [],
   "source": [
    "from sklearn.model_selection import train_test_split, cross_val_score\n",
    "from sklearn import metrics\n",
    "\n",
    "def our_function_micro(model, X, y):\n",
    "    scores = cross_val_score(model, X, y, cv=10, scoring='accuracy')\n",
    "    print(f'Accuracy: {scores.mean()}')\n",
    "    \n",
    "    scores = cross_val_score(model, X, y, cv=10, scoring='precision')\n",
    "    print(f'Precision: {scores.mean()}')\n",
    "\n",
    "    scores = cross_val_score(model, X, y, cv=10, scoring='recall')\n",
    "    print(f'Recall: {scores.mean()}')\n",
    "\n",
    "    scores = cross_val_score(model, X, y, cv=10, scoring='f1')\n",
    "    print(f'F!_Score: {scores.mean()}')"
   ]
  },
  {
   "cell_type": "markdown",
   "id": "85014e28",
   "metadata": {},
   "source": [
    "* Folosind KNeighborsClassifier"
   ]
  },
  {
   "cell_type": "code",
   "execution_count": 129,
   "id": "89f3233e",
   "metadata": {},
   "outputs": [
    {
     "name": "stdout",
     "output_type": "stream",
     "text": [
      "Accuracy: 0.6213450292397661\n",
      "Precision: 0.7025580267685532\n",
      "Recall: 0.8076923076923077\n",
      "F!_Score: 0.7477115253324931\n"
     ]
    }
   ],
   "source": [
    "from sklearn.neighbors import KNeighborsClassifier\n",
    "\n",
    "model = KNeighborsClassifier(n_neighbors=3)\n",
    "our_function_micro(model=model, X=pr_X, y=pr_y)"
   ]
  },
  {
   "cell_type": "markdown",
   "id": "209956fc",
   "metadata": {},
   "source": [
    "* Folosind DecisionTreeClassifier"
   ]
  },
  {
   "cell_type": "code",
   "execution_count": 130,
   "id": "b60f31d1",
   "metadata": {},
   "outputs": [
    {
     "name": "stdout",
     "output_type": "stream",
     "text": [
      "Accuracy: 0.5599415204678364\n",
      "Precision: 0.683118548118548\n",
      "Recall: 0.6846153846153846\n",
      "F!_Score: 0.6921474299480296\n"
     ]
    }
   ],
   "source": [
    "from sklearn.tree import DecisionTreeClassifier\n",
    "\n",
    "classifier = DecisionTreeClassifier()\n",
    "our_function_micro(model=classifier, X=pr_X, y=pr_y)"
   ]
  },
  {
   "cell_type": "markdown",
   "id": "338388c2",
   "metadata": {},
   "source": [
    "* Folosind SupportVectorMachines"
   ]
  },
  {
   "cell_type": "code",
   "execution_count": 131,
   "id": "c32d7007",
   "metadata": {},
   "outputs": [
    {
     "name": "stdout",
     "output_type": "stream",
     "text": [
      "Accuracy: 0.7146198830409357\n",
      "Precision: 0.7146198830409357\n",
      "Recall: 1.0\n",
      "F!_Score: 0.8334677419354838\n"
     ]
    }
   ],
   "source": [
    "from sklearn.svm import SVC\n",
    "\n",
    "classifier = SVC(kernel='linear')\n",
    "our_function_micro(model=classifier, X=pr_X, y=pr_y)"
   ]
  },
  {
   "cell_type": "markdown",
   "id": "f26d7c0f",
   "metadata": {},
   "source": [
    "* Folosind SochasticGradientDescent"
   ]
  },
  {
   "cell_type": "code",
   "execution_count": 132,
   "id": "0cb58f8d",
   "metadata": {},
   "outputs": [
    {
     "name": "stdout",
     "output_type": "stream",
     "text": [
      "Accuracy: 0.5830409356725147\n",
      "Precision: 0.7286138139466314\n",
      "Recall: 0.6615384615384616\n",
      "F!_Score: 0.7360069918957571\n"
     ]
    }
   ],
   "source": [
    "from sklearn.linear_model import SGDClassifier\n",
    "\n",
    "classifier=SGDClassifier(loss='hinge', penalty='l2')\n",
    "our_function_micro(model=classifier, X=pr_X, y=pr_y)"
   ]
  },
  {
   "cell_type": "markdown",
   "id": "60fc0ea9",
   "metadata": {},
   "source": [
    "* Folosind RBF"
   ]
  },
  {
   "cell_type": "code",
   "execution_count": 133,
   "id": "76e4a3dd",
   "metadata": {},
   "outputs": [
    {
     "name": "stdout",
     "output_type": "stream",
     "text": [
      "Accuracy: 0.7146198830409357\n",
      "Precision: 0.7146198830409357\n",
      "Recall: 1.0\n",
      "F!_Score: 0.8334677419354838\n"
     ]
    }
   ],
   "source": [
    "from sklearn.gaussian_process import GaussianProcessClassifier\n",
    "from sklearn.gaussian_process.kernels import RBF\n",
    "\n",
    "kernel = 1.0 * RBF(1.0)\n",
    "gpc = GaussianProcessClassifier(kernel=kernel)\n",
    "our_function_micro(model=gpc, X=pr_X, y=pr_y)"
   ]
  },
  {
   "cell_type": "markdown",
   "id": "4921b65b",
   "metadata": {},
   "source": [
    "* Setul de date `Divorce`\n"
   ]
  },
  {
   "cell_type": "code",
   "execution_count": 134,
   "id": "0bd36f31",
   "metadata": {},
   "outputs": [],
   "source": [
    "divorce_data = pd.read_excel('data/divorce.xlsx', index_col=None, header=None)\n",
    "divorce_data = divorce_data.drop(0, axis=0)"
   ]
  },
  {
   "cell_type": "code",
   "execution_count": 135,
   "id": "e33b4302",
   "metadata": {},
   "outputs": [
    {
     "name": "stdout",
     "output_type": "stream",
     "text": [
      "    0  1  2  3  4  5  6  7  8  9   ... 45 46 47 48 49 50 51 52 53 54\n",
      "1    2  2  4  1  0  0  0  0  0  0  ...  2  1  3  3  3  2  3  2  1  1\n",
      "2    4  4  4  4  4  0  0  4  4  4  ...  2  2  3  4  4  4  4  2  2  1\n",
      "3    2  2  2  2  1  3  2  1  1  2  ...  3  2  3  1  1  1  2  2  2  1\n",
      "4    3  2  3  2  3  3  3  3  3  3  ...  2  2  3  3  3  3  2  2  2  1\n",
      "5    2  2  1  1  1  1  0  0  0  0  ...  2  1  2  3  2  2  2  1  0  1\n",
      "..  .. .. .. .. .. .. .. .. .. ..  ... .. .. .. .. .. .. .. .. .. ..\n",
      "166  0  0  0  0  0  0  0  0  0  0  ...  1  0  4  1  1  4  2  2  2  0\n",
      "167  0  0  0  0  0  0  0  0  0  0  ...  4  1  2  2  2  2  3  2  2  0\n",
      "168  1  1  0  0  0  0  0  0  0  1  ...  3  0  2  0  1  1  3  0  0  0\n",
      "169  0  0  0  0  0  0  0  0  0  0  ...  3  3  2  2  3  2  4  3  1  0\n",
      "170  0  0  0  0  0  0  0  1  0  0  ...  3  4  4  0  1  3  3  3  1  0\n",
      "\n",
      "[170 rows x 55 columns]\n"
     ]
    }
   ],
   "source": [
    "# divorce_data.head()\n",
    "print(divorce_data)"
   ]
  },
  {
   "cell_type": "code",
   "execution_count": 136,
   "id": "3a41c879",
   "metadata": {},
   "outputs": [],
   "source": [
    "divorce_X = divorce_data.iloc[:, :-1].values\n",
    "divorce_y = divorce_data.iloc[:, -1].values\n",
    "divorce_y = divorce_y.astype('int')"
   ]
  },
  {
   "cell_type": "markdown",
   "id": "424735e6",
   "metadata": {},
   "source": [
    "* Folosind KNeighborsClassifier"
   ]
  },
  {
   "cell_type": "code",
   "execution_count": 138,
   "id": "949af87d",
   "metadata": {},
   "outputs": [
    {
     "name": "stdout",
     "output_type": "stream",
     "text": [
      "Accuracy: 0.9764705882352942\n",
      "Precision: 1.0\n",
      "Recall: 0.9555555555555555\n",
      "F!_Score: 0.9741176470588236\n"
     ]
    }
   ],
   "source": [
    "#from sklearn.neighbors import KNeighborsClassifier\n",
    "\n",
    "model = KNeighborsClassifier(n_neighbors=3)\n",
    "our_function_micro(model=model, X=divorce_X, y=divorce_y)"
   ]
  },
  {
   "cell_type": "markdown",
   "id": "d28a188f",
   "metadata": {},
   "source": [
    "* Folosind DecisionTreeClassifier"
   ]
  },
  {
   "cell_type": "code",
   "execution_count": 139,
   "id": "2c73b4ed",
   "metadata": {},
   "outputs": [
    {
     "name": "stdout",
     "output_type": "stream",
     "text": [
      "Accuracy: 0.9588235294117649\n",
      "Precision: 0.968888888888889\n",
      "Recall: 0.9666666666666666\n",
      "F!_Score: 0.968888888888889\n"
     ]
    }
   ],
   "source": [
    "classifier = DecisionTreeClassifier()\n",
    "our_function_micro(model=classifier, X=divorce_X, y=divorce_y)"
   ]
  },
  {
   "cell_type": "markdown",
   "id": "9466dfc3",
   "metadata": {},
   "source": [
    "* Folosind SupportVectorMachines"
   ]
  },
  {
   "cell_type": "code",
   "execution_count": 140,
   "id": "993ed94f",
   "metadata": {},
   "outputs": [
    {
     "name": "stdout",
     "output_type": "stream",
     "text": [
      "Accuracy: 0.9823529411764707\n",
      "Precision: 1.0\n",
      "Recall: 0.9666666666666666\n",
      "F!_Score: 0.9800000000000001\n"
     ]
    }
   ],
   "source": [
    "classifier = SVC(kernel='linear')\n",
    "our_function_micro(model=classifier, X=divorce_X, y=divorce_y)"
   ]
  },
  {
   "cell_type": "markdown",
   "id": "63a2477b",
   "metadata": {},
   "source": [
    "* Folosind SochasticGradientDescent"
   ]
  },
  {
   "cell_type": "code",
   "execution_count": 141,
   "id": "8f399bdb",
   "metadata": {},
   "outputs": [
    {
     "name": "stdout",
     "output_type": "stream",
     "text": [
      "Accuracy: 0.9705882352941178\n",
      "Precision: 0.9777777777777779\n",
      "Recall: 0.9555555555555555\n",
      "F!_Score: 0.9571241830065359\n"
     ]
    }
   ],
   "source": [
    "classifier=SGDClassifier(loss='hinge', penalty='l2')\n",
    "our_function_micro(model=classifier, X=divorce_X, y=divorce_y)"
   ]
  },
  {
   "cell_type": "markdown",
   "id": "2d9c594c",
   "metadata": {},
   "source": [
    "* Folosind RBF"
   ]
  },
  {
   "cell_type": "code",
   "execution_count": 142,
   "id": "5627215c",
   "metadata": {},
   "outputs": [
    {
     "name": "stdout",
     "output_type": "stream",
     "text": [
      "Accuracy: 0.9823529411764707\n",
      "Precision: 1.0\n",
      "Recall: 0.9666666666666666\n",
      "F!_Score: 0.9800000000000001\n"
     ]
    }
   ],
   "source": [
    "kernel = 1.0 * RBF(1.0)\n",
    "gpc = GaussianProcessClassifier(kernel=kernel)\n",
    "our_function_micro(model=gpc, X=divorce_X, y=divorce_y)"
   ]
  },
  {
   "cell_type": "markdown",
   "id": "2c0797cc",
   "metadata": {},
   "source": [
    "* Setul de date `HCV`"
   ]
  },
  {
   "cell_type": "code",
   "execution_count": 143,
   "id": "48d65b42",
   "metadata": {},
   "outputs": [
    {
     "name": "stdout",
     "output_type": "stream",
     "text": [
      "<class 'pandas.core.frame.DataFrame'>\n",
      "RangeIndex: 615 entries, 0 to 614\n",
      "Data columns (total 13 columns):\n",
      " #   Column    Non-Null Count  Dtype  \n",
      "---  ------    --------------  -----  \n",
      " 0   Category  615 non-null    object \n",
      " 1   Age       615 non-null    int64  \n",
      " 2   Sex       615 non-null    object \n",
      " 3   ALB       614 non-null    float64\n",
      " 4   ALP       597 non-null    float64\n",
      " 5   ALT       614 non-null    float64\n",
      " 6   AST       615 non-null    float64\n",
      " 7   BIL       615 non-null    float64\n",
      " 8   CHE       615 non-null    float64\n",
      " 9   CHOL      605 non-null    float64\n",
      " 10  CREA      615 non-null    float64\n",
      " 11  GGT       615 non-null    float64\n",
      " 12  PROT      614 non-null    float64\n",
      "dtypes: float64(10), int64(1), object(2)\n",
      "memory usage: 62.6+ KB\n"
     ]
    }
   ],
   "source": [
    "data_HCV = pd.read_csv('data/hcv_data.csv')\n",
    "data_HCV = data_HCV.drop('Unnamed: 0', axis=1)\n",
    "data_HCV.info()"
   ]
  },
  {
   "cell_type": "code",
   "execution_count": 144,
   "id": "032bb239",
   "metadata": {},
   "outputs": [
    {
     "name": "stdout",
     "output_type": "stream",
     "text": [
      "<class 'pandas.core.frame.DataFrame'>\n",
      "RangeIndex: 615 entries, 0 to 614\n",
      "Data columns (total 13 columns):\n",
      " #   Column    Non-Null Count  Dtype  \n",
      "---  ------    --------------  -----  \n",
      " 0   Category  615 non-null    int8   \n",
      " 1   Age       615 non-null    int64  \n",
      " 2   Sex       615 non-null    int8   \n",
      " 3   ALB       614 non-null    float64\n",
      " 4   ALP       597 non-null    float64\n",
      " 5   ALT       614 non-null    float64\n",
      " 6   AST       615 non-null    float64\n",
      " 7   BIL       615 non-null    float64\n",
      " 8   CHE       615 non-null    float64\n",
      " 9   CHOL      605 non-null    float64\n",
      " 10  CREA      615 non-null    float64\n",
      " 11  GGT       615 non-null    float64\n",
      " 12  PROT      614 non-null    float64\n",
      "dtypes: float64(10), int64(1), int8(2)\n",
      "memory usage: 54.2 KB\n"
     ]
    }
   ],
   "source": [
    "from sklearn.preprocessing import LabelEncoder\n",
    "\n",
    "labelencoder = LabelEncoder()\n",
    "\n",
    "data_HCV.Category = data_HCV.Category.astype('category')\n",
    "data_HCV.Category = data_HCV.Category.cat.codes\n",
    "data_HCV.Sex = data_HCV.Sex.astype('category')\n",
    "data_HCV.Sex = data_HCV.Sex.cat.codes\n",
    "data_HCV.info()"
   ]
  },
  {
   "cell_type": "code",
   "execution_count": 145,
   "id": "d50c5fef",
   "metadata": {},
   "outputs": [
    {
     "name": "stdout",
     "output_type": "stream",
     "text": [
      "<class 'pandas.core.frame.DataFrame'>\n",
      "RangeIndex: 615 entries, 0 to 614\n",
      "Data columns (total 13 columns):\n",
      " #   Column    Non-Null Count  Dtype  \n",
      "---  ------    --------------  -----  \n",
      " 0   Category  615 non-null    int8   \n",
      " 1   Age       615 non-null    int64  \n",
      " 2   Sex       615 non-null    int8   \n",
      " 3   ALB       615 non-null    float64\n",
      " 4   ALP       615 non-null    float64\n",
      " 5   ALT       615 non-null    float64\n",
      " 6   AST       615 non-null    float64\n",
      " 7   BIL       615 non-null    float64\n",
      " 8   CHE       615 non-null    float64\n",
      " 9   CHOL      615 non-null    float64\n",
      " 10  CREA      615 non-null    float64\n",
      " 11  GGT       615 non-null    float64\n",
      " 12  PROT      615 non-null    float64\n",
      "dtypes: float64(10), int64(1), int8(2)\n",
      "memory usage: 54.2 KB\n"
     ]
    }
   ],
   "source": [
    "data_HCV = data_HCV.fillna(data_HCV.mean())\n",
    "data_HCV.info()"
   ]
  },
  {
   "cell_type": "code",
   "execution_count": 146,
   "id": "30db1fb8",
   "metadata": {},
   "outputs": [],
   "source": [
    "HCV_X = data_HCV.iloc[:, 1:].values\n",
    "HCV_y = data_HCV.iloc[:, 0].values"
   ]
  },
  {
   "cell_type": "code",
   "execution_count": 148,
   "id": "7299ad0e",
   "metadata": {},
   "outputs": [
    {
     "data": {
      "text/plain": [
       "False"
      ]
     },
     "execution_count": 148,
     "metadata": {},
     "output_type": "execute_result"
    }
   ],
   "source": [
    "np.any(np.isnan(data_HCV))"
   ]
  },
  {
   "cell_type": "code",
   "execution_count": 149,
   "id": "8f97743b",
   "metadata": {},
   "outputs": [],
   "source": [
    "import warnings\n",
    "import sklearn.exceptions\n",
    "warnings.filterwarnings(\"ignore\", category=sklearn.exceptions.UndefinedMetricWarning)"
   ]
  },
  {
   "cell_type": "code",
   "execution_count": 150,
   "id": "3a25133a",
   "metadata": {},
   "outputs": [],
   "source": [
    "def our_function_macro(model, X, y):\n",
    "    scores = cross_val_score(model, X, y, cv=7, scoring='accuracy')\n",
    "    print(f'Accuracy: {scores.mean()}')\n",
    "    \n",
    "    scores = cross_val_score(model, X, y, cv=7, scoring='precision_macro')\n",
    "    print(f'Precision: {scores.mean()}')\n",
    "\n",
    "    scores = cross_val_score(model, X, y, cv=7, scoring='recall_macro')\n",
    "    print(f'Recall: {scores.mean()}')\n",
    "\n",
    "    scores = cross_val_score(model, X, y, cv=7, scoring='f1_macro')\n",
    "    print(f'F1_Score: {scores.mean()}')"
   ]
  },
  {
   "cell_type": "markdown",
   "id": "7eefa989",
   "metadata": {},
   "source": [
    "* Folosind KNeighborsClassifier"
   ]
  },
  {
   "cell_type": "code",
   "execution_count": 151,
   "id": "c28dcd7f",
   "metadata": {},
   "outputs": [
    {
     "name": "stdout",
     "output_type": "stream",
     "text": [
      "Accuracy: 0.908922973578146\n",
      "Precision: 0.5280122107497461\n",
      "Recall: 0.4322055137844611\n",
      "F1_Score: 0.4570349274056598\n"
     ]
    }
   ],
   "source": [
    "model = KNeighborsClassifier(n_neighbors=3)\n",
    "our_function_macro(model=model, X=HCV_X, y=HCV_y)"
   ]
  },
  {
   "cell_type": "markdown",
   "id": "2e2c3e8f",
   "metadata": {},
   "source": [
    "* Folosind DecisionTreeClassifier"
   ]
  },
  {
   "cell_type": "code",
   "execution_count": 152,
   "id": "51654288",
   "metadata": {},
   "outputs": [
    {
     "name": "stdout",
     "output_type": "stream",
     "text": [
      "Accuracy: 0.8991640543364682\n",
      "Precision: 0.5852963257873434\n",
      "Recall: 0.5328467272076295\n",
      "F1_Score: 0.4595072183424836\n"
     ]
    }
   ],
   "source": [
    "classifier = DecisionTreeClassifier()\n",
    "our_function_macro(model=classifier, X=HCV_X, y=HCV_y)"
   ]
  },
  {
   "cell_type": "markdown",
   "id": "61e298b5",
   "metadata": {},
   "source": [
    "* Folosind SupportVectorMachines"
   ]
  },
  {
   "cell_type": "code",
   "execution_count": 153,
   "id": "661821e0",
   "metadata": {},
   "outputs": [
    {
     "name": "stdout",
     "output_type": "stream",
     "text": [
      "Accuracy: 0.9771428571428571\n",
      "Precision: 0.9831932773109244\n",
      "Recall: 0.9761904761904762\n",
      "F1_Score: 0.9761904761904762\n"
     ]
    }
   ],
   "source": [
    "classifier = SVC(kernel='linear')\n",
    "our_function_macro(model=classifier, X=divorce_X, y=divorce_y)"
   ]
  },
  {
   "cell_type": "markdown",
   "id": "2c4f1444",
   "metadata": {},
   "source": [
    "* Folosind SochasticGradientDescent"
   ]
  },
  {
   "cell_type": "code",
   "execution_count": 154,
   "id": "1123c4ba",
   "metadata": {},
   "outputs": [
    {
     "name": "stdout",
     "output_type": "stream",
     "text": [
      "Accuracy: 0.9711904761904762\n",
      "Precision: 0.9811126373626374\n",
      "Recall: 0.9720695970695971\n",
      "F1_Score: 0.9764440228865159\n"
     ]
    }
   ],
   "source": [
    "classifier=SGDClassifier(loss='hinge', penalty='l2')\n",
    "our_function_macro(model=classifier, X=divorce_X, y=divorce_y)"
   ]
  },
  {
   "cell_type": "markdown",
   "id": "17af7251",
   "metadata": {},
   "source": [
    "* Folosind RBF"
   ]
  },
  {
   "cell_type": "code",
   "execution_count": 155,
   "id": "a9df672d",
   "metadata": {},
   "outputs": [
    {
     "name": "stdout",
     "output_type": "stream",
     "text": [
      "Accuracy: 0.9771428571428571\n",
      "Precision: 0.9831932773109244\n",
      "Recall: 0.9761904761904762\n",
      "F1_Score: 0.9761904761904762\n"
     ]
    }
   ],
   "source": [
    "kernel = 1.0 * RBF(1.0)\n",
    "gpc = GaussianProcessClassifier(kernel=kernel)\n",
    "our_function_macro(model=gpc, X=divorce_X, y=divorce_y)"
   ]
  },
  {
   "cell_type": "markdown",
   "id": "75f9989d",
   "metadata": {},
   "source": [
    "* Setul de date `Conventional Social Media Movies`"
   ]
  },
  {
   "cell_type": "code",
   "execution_count": 156,
   "id": "e29e2476",
   "metadata": {},
   "outputs": [],
   "source": [
    "CSM_data = pd.read_excel('data/2014 and 2015 CSM dataset.xlsx', index_col=None, header=None)\n",
    "CSM_data = CSM_data.drop(0, axis=0)\n",
    "CSM_data = CSM_data.drop(0, axis=1)"
   ]
  },
  {
   "cell_type": "code",
   "execution_count": 157,
   "id": "63542c56",
   "metadata": {},
   "outputs": [
    {
     "data": {
      "text/html": [
       "<div>\n",
       "<style scoped>\n",
       "    .dataframe tbody tr th:only-of-type {\n",
       "        vertical-align: middle;\n",
       "    }\n",
       "\n",
       "    .dataframe tbody tr th {\n",
       "        vertical-align: top;\n",
       "    }\n",
       "\n",
       "    .dataframe thead th {\n",
       "        text-align: right;\n",
       "    }\n",
       "</style>\n",
       "<table border=\"1\" class=\"dataframe\">\n",
       "  <thead>\n",
       "    <tr style=\"text-align: right;\">\n",
       "      <th></th>\n",
       "      <th>1</th>\n",
       "      <th>2</th>\n",
       "      <th>3</th>\n",
       "      <th>4</th>\n",
       "      <th>5</th>\n",
       "      <th>6</th>\n",
       "      <th>7</th>\n",
       "      <th>8</th>\n",
       "      <th>9</th>\n",
       "      <th>10</th>\n",
       "      <th>11</th>\n",
       "      <th>12</th>\n",
       "      <th>13</th>\n",
       "    </tr>\n",
       "  </thead>\n",
       "  <tbody>\n",
       "    <tr>\n",
       "      <th>1</th>\n",
       "      <td>2014</td>\n",
       "      <td>6.3</td>\n",
       "      <td>8</td>\n",
       "      <td>9130</td>\n",
       "      <td>4000000</td>\n",
       "      <td>45</td>\n",
       "      <td>1</td>\n",
       "      <td>0</td>\n",
       "      <td>3280543</td>\n",
       "      <td>4632</td>\n",
       "      <td>425</td>\n",
       "      <td>636</td>\n",
       "      <td>1120000</td>\n",
       "    </tr>\n",
       "    <tr>\n",
       "      <th>2</th>\n",
       "      <td>2014</td>\n",
       "      <td>7.1</td>\n",
       "      <td>1</td>\n",
       "      <td>192000000</td>\n",
       "      <td>50000000</td>\n",
       "      <td>3306</td>\n",
       "      <td>2</td>\n",
       "      <td>2</td>\n",
       "      <td>583289</td>\n",
       "      <td>3465</td>\n",
       "      <td>61</td>\n",
       "      <td>186</td>\n",
       "      <td>12350000</td>\n",
       "    </tr>\n",
       "    <tr>\n",
       "      <th>3</th>\n",
       "      <td>2014</td>\n",
       "      <td>6.2</td>\n",
       "      <td>1</td>\n",
       "      <td>30700000</td>\n",
       "      <td>28000000</td>\n",
       "      <td>2872</td>\n",
       "      <td>1</td>\n",
       "      <td>0</td>\n",
       "      <td>304861</td>\n",
       "      <td>328</td>\n",
       "      <td>34</td>\n",
       "      <td>47</td>\n",
       "      <td>483000</td>\n",
       "    </tr>\n",
       "    <tr>\n",
       "      <th>4</th>\n",
       "      <td>2014</td>\n",
       "      <td>6.3</td>\n",
       "      <td>1</td>\n",
       "      <td>106000000</td>\n",
       "      <td>110000000</td>\n",
       "      <td>3470</td>\n",
       "      <td>2</td>\n",
       "      <td>0</td>\n",
       "      <td>452917</td>\n",
       "      <td>2429</td>\n",
       "      <td>132</td>\n",
       "      <td>590</td>\n",
       "      <td>568000</td>\n",
       "    </tr>\n",
       "    <tr>\n",
       "      <th>5</th>\n",
       "      <td>2014</td>\n",
       "      <td>4.7</td>\n",
       "      <td>8</td>\n",
       "      <td>17300000</td>\n",
       "      <td>3500000</td>\n",
       "      <td>2310</td>\n",
       "      <td>2</td>\n",
       "      <td>0</td>\n",
       "      <td>3145573</td>\n",
       "      <td>12163</td>\n",
       "      <td>610</td>\n",
       "      <td>1082</td>\n",
       "      <td>1923800</td>\n",
       "    </tr>\n",
       "  </tbody>\n",
       "</table>\n",
       "</div>"
      ],
      "text/plain": [
       "     1    2  3          4          5     6  7  8        9      10   11    12  \\\n",
       "1  2014  6.3  8       9130    4000000    45  1  0  3280543   4632  425   636   \n",
       "2  2014  7.1  1  192000000   50000000  3306  2  2   583289   3465   61   186   \n",
       "3  2014  6.2  1   30700000   28000000  2872  1  0   304861    328   34    47   \n",
       "4  2014  6.3  1  106000000  110000000  3470  2  0   452917   2429  132   590   \n",
       "5  2014  4.7  8   17300000    3500000  2310  2  0  3145573  12163  610  1082   \n",
       "\n",
       "         13  \n",
       "1   1120000  \n",
       "2  12350000  \n",
       "3    483000  \n",
       "4    568000  \n",
       "5   1923800  "
      ]
     },
     "execution_count": 157,
     "metadata": {},
     "output_type": "execute_result"
    }
   ],
   "source": [
    "CSM_data.head()"
   ]
  },
  {
   "cell_type": "code",
   "execution_count": 158,
   "id": "3a0cb52f",
   "metadata": {},
   "outputs": [
    {
     "name": "stdout",
     "output_type": "stream",
     "text": [
      "Iteration: 0\n",
      "Iteration: 1\n",
      "Iteration: 2\n",
      "Iteration: 3\n"
     ]
    }
   ],
   "source": [
    "from missingpy import MissForest\n",
    "\n",
    "imputer = MissForest()\n",
    "CSM_data = imputer.fit_transform(CSM_data)\n",
    "assert not np.isnan(CSM_data.sum()) # verificam ca nu exista niciun nan"
   ]
  },
  {
   "cell_type": "code",
   "execution_count": 159,
   "id": "0868dfac",
   "metadata": {},
   "outputs": [],
   "source": [
    "CSM_y = CSM_data[:, 2]\n",
    "CSM_X = CSM_data[:, [0, 1, 3, 4, 5, 6, 7, 8, 9, 10, 11, 12]]"
   ]
  },
  {
   "cell_type": "code",
   "execution_count": 161,
   "id": "7f630720",
   "metadata": {},
   "outputs": [],
   "source": [
    "from sklearn.model_selection import ShuffleSplit\n",
    "def our_function_macro(model, X, y):\n",
    "    cv = ShuffleSplit(n_splits=10, test_size=1/3, random_state=0)\n",
    "    scores = cross_val_score(model, X, y, cv=cv, scoring='accuracy')\n",
    "    print(f'Accuracy: {scores.mean()}')\n",
    "    \n",
    "    scores = cross_val_score(model, X, y, cv=cv, scoring='precision_weighted')\n",
    "    print(f'Precision: {scores.mean()}')\n",
    "\n",
    "    scores = cross_val_score(model, X, y, cv=cv, scoring='recall_weighted')\n",
    "    print(f'Recall: {scores.mean()}')\n",
    "\n",
    "    scores = cross_val_score(model, X, y, cv=cv, scoring='f1_weighted')\n",
    "    print(f'F1_Score: {scores.mean()}')"
   ]
  },
  {
   "cell_type": "markdown",
   "id": "bcb588d6",
   "metadata": {},
   "source": [
    "* Folosind KNeighborsClassifier"
   ]
  },
  {
   "cell_type": "code",
   "execution_count": 162,
   "id": "2a117406",
   "metadata": {},
   "outputs": [
    {
     "name": "stdout",
     "output_type": "stream",
     "text": [
      "Accuracy: 0.2987012987012987\n",
      "Precision: 0.24873059931626568\n",
      "Recall: 0.2987012987012987\n",
      "F1_Score: 0.25872185418450416\n"
     ]
    }
   ],
   "source": [
    "model = KNeighborsClassifier(n_neighbors=5)\n",
    "our_function_macro(model=model, X=CSM_X, y=CSM_y)"
   ]
  },
  {
   "cell_type": "markdown",
   "id": "629e1f8c",
   "metadata": {},
   "source": [
    "* Folosind DecisionTreeClassifier"
   ]
  },
  {
   "cell_type": "code",
   "execution_count": 163,
   "id": "0f79e922",
   "metadata": {},
   "outputs": [
    {
     "name": "stdout",
     "output_type": "stream",
     "text": [
      "Accuracy: 0.27662337662337666\n",
      "Precision: 0.281505104086133\n",
      "Recall: 0.26623376623376627\n",
      "F1_Score: 0.2531397924806694\n"
     ]
    }
   ],
   "source": [
    "classifier = DecisionTreeClassifier()\n",
    "our_function_macro(model=classifier, X=CSM_X, y=CSM_y)"
   ]
  },
  {
   "cell_type": "markdown",
   "id": "ace92944",
   "metadata": {},
   "source": [
    "* Folosind SupportVectorMachines"
   ]
  },
  {
   "cell_type": "code",
   "execution_count": 164,
   "id": "a90c3f4c",
   "metadata": {},
   "outputs": [
    {
     "name": "stdout",
     "output_type": "stream",
     "text": [
      "Accuracy: 0.3467532467532468\n",
      "Precision: 0.22525110839934542\n",
      "Recall: 0.3467532467532468\n",
      "F1_Score: 0.25272170102599734\n"
     ]
    }
   ],
   "source": [
    "classifier = SVC()\n",
    "our_function_macro(model=classifier, X=CSM_X, y=CSM_y)"
   ]
  },
  {
   "cell_type": "markdown",
   "id": "b9f607bc",
   "metadata": {},
   "source": [
    "* Folosind SochasticGradientDescent"
   ]
  },
  {
   "cell_type": "code",
   "execution_count": 165,
   "id": "7798e085",
   "metadata": {},
   "outputs": [
    {
     "name": "stdout",
     "output_type": "stream",
     "text": [
      "Accuracy: 0.1896103896103896\n",
      "Precision: 0.18949641969207137\n",
      "Recall: 0.2012987012987013\n",
      "F1_Score: 0.16054788579517865\n"
     ]
    }
   ],
   "source": [
    "classifier=SGDClassifier(loss='hinge', penalty='l2')\n",
    "our_function_macro(model=classifier, X=CSM_X, y=CSM_y)"
   ]
  },
  {
   "cell_type": "markdown",
   "id": "110d8b52",
   "metadata": {},
   "source": [
    "* Folosind RBF"
   ]
  },
  {
   "cell_type": "code",
   "execution_count": 166,
   "id": "2f1eea28",
   "metadata": {},
   "outputs": [
    {
     "name": "stdout",
     "output_type": "stream",
     "text": [
      "Accuracy: 0.03766233766233766\n",
      "Precision: 0.0015685613088210492\n",
      "Recall: 0.03766233766233766\n",
      "F1_Score: 0.0029998456066172444\n"
     ]
    }
   ],
   "source": [
    "kernel = 1.0 * RBF(1.0)\n",
    "gpc = GaussianProcessClassifier(kernel=kernel)\n",
    "our_function_macro(model=gpc, X=CSM_X, y=CSM_y)"
   ]
  },
  {
   "cell_type": "markdown",
   "id": "c5e24e50",
   "metadata": {},
   "source": [
    "3. Raportati performanta fiecarui model, folosind 5 fold cross validation. Pentru fiecare din cele 5 rulari, cautati hiperparametrii optimi folosind 4-fold cross validation. Performanta modelului va fi raportata ca medie a celor  5 rulari. \n",
    "    \n",
    "    *Observatie:* la fiecare din cele 5 rulari, hiperparametrii optimi pot diferi, din cauza datelor utilizate pentru antrenare/validare. "
   ]
  },
  {
   "cell_type": "markdown",
   "id": "07eaf486",
   "metadata": {},
   "source": [
    "* Setul de date `Planning Relax`"
   ]
  },
  {
   "cell_type": "markdown",
   "id": "7c676f02",
   "metadata": {},
   "source": [
    "* Folosind KNeighborsClassifier"
   ]
  },
  {
   "cell_type": "code",
   "execution_count": 167,
   "id": "0aa64414",
   "metadata": {},
   "outputs": [],
   "source": [
    "pr_data = pd.read_csv(\"data/planning_relax_data_set.txt\", delimiter=\"\\t\", header=None)\n",
    "pr_data = pr_data.drop(13, axis=1)\n",
    "pr_X = pr_data.iloc[:, :-1].values\n",
    "pr_y = pr_data.iloc[:, -1].values"
   ]
  },
  {
   "cell_type": "code",
   "execution_count": 168,
   "id": "b5c94d5f",
   "metadata": {},
   "outputs": [
    {
     "name": "stdout",
     "output_type": "stream",
     "text": [
      "\n",
      "Iteration  0\n",
      "\tBest score: 0.725438596491228\n",
      "\tBest params: {'n_neighbors': 2, 'p': 3}\n",
      "\tAccuracy on whole set: 0.8021978021978022\n",
      "\n",
      "Iteration  1\n",
      "\tBest score: 0.725438596491228\n",
      "\tBest params: {'n_neighbors': 2, 'p': 3}\n",
      "\tAccuracy on whole set: 0.8021978021978022\n",
      "\n",
      "Iteration  2\n",
      "\tBest score: 0.725438596491228\n",
      "\tBest params: {'n_neighbors': 2, 'p': 3}\n",
      "\tAccuracy on whole set: 0.8021978021978022\n",
      "\n",
      "Iteration  3\n",
      "\tBest score: 0.725438596491228\n",
      "\tBest params: {'n_neighbors': 2, 'p': 3}\n",
      "\tAccuracy on whole set: 0.8021978021978022\n",
      "\n",
      "Iteration  4\n",
      "\tBest score: 0.725438596491228\n",
      "\tBest params: {'n_neighbors': 2, 'p': 3}\n",
      "\tAccuracy on whole set: 0.8021978021978022\n",
      "Media acuratetei dupa 5 iteratii este: 0.8021978021978022\n"
     ]
    }
   ],
   "source": [
    "from sklearn.model_selection import cross_validate, cross_val_score\n",
    "from sklearn.metrics import accuracy_score\n",
    "\n",
    "medii = []\n",
    "\n",
    "for _ in range(5):\n",
    "    best_score = 0\n",
    "    for k in range(1, 31):\n",
    "        for p in [1, 2, 3, 10]:\n",
    "            model = KNeighborsClassifier(n_neighbors=k, p=p)\n",
    "            score = np.mean(cross_val_score(model, pr_X, pr_y, cv=10))\n",
    "            if score >= best_score:\n",
    "                best_score = score\n",
    "                best_params = {'n_neighbors':k, 'p':p}\n",
    "\n",
    "    print('\\nIteration ', _)\n",
    "    print('\\tBest score:', best_score)\n",
    "    print('\\tBest params:', best_params)  \n",
    "\n",
    "    model = KNeighborsClassifier(**best_params)\n",
    "    model.fit(pr_X, pr_y)\n",
    "    y_predicted = model.predict(pr_X)\n",
    "    print('\\tAccuracy on whole set:', accuracy_score(pr_y, y_predicted))\n",
    "    medii += [accuracy_score(pr_y, y_predicted)]\n",
    "\n",
    "print(f'Media acuratetei dupa 5 iteratii este: {np.mean(medii)}')"
   ]
  },
  {
   "cell_type": "code",
   "execution_count": null,
   "id": "a8a72e9c",
   "metadata": {},
   "outputs": [],
   "source": []
  }
 ],
 "metadata": {
  "kernelspec": {
   "display_name": "Python 3",
   "language": "python",
   "name": "python3"
  },
  "language_info": {
   "codemirror_mode": {
    "name": "ipython",
    "version": 3
   },
   "file_extension": ".py",
   "mimetype": "text/x-python",
   "name": "python",
   "nbconvert_exporter": "python",
   "pygments_lexer": "ipython3",
   "version": "3.8.8"
  }
 },
 "nbformat": 4,
 "nbformat_minor": 5
}
