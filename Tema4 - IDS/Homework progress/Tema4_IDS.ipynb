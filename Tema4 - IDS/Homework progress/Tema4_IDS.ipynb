{
 "cells": [
  {
   "cell_type": "markdown",
   "id": "a3de6572",
   "metadata": {},
   "source": [
    "**Tema 4 - Metode de clasificare**"
   ]
  },
  {
   "cell_type": "markdown",
   "id": "4fe98e02",
   "metadata": {},
   "source": [
    "Folositi 4 seturi de date pentru probleme de clasificare, plecand de la repository-urile specificate in Cursul 6. Cel putin un set de date sa fie cu valori lipsa; pentru un alt set de date care are initial toate valorile, introduceti dvs. in mod artificial valori lipsa, suprascriind un anumit procent din valorile initiale (ex. `p=5%`, `p` parametru) cu `numpy.nan`. "
   ]
  },
  {
   "cell_type": "code",
   "execution_count": 1,
   "id": "ce2f14f6",
   "metadata": {},
   "outputs": [
    {
     "name": "stdout",
     "output_type": "stream",
     "text": [
      "At the moment the program was made:\n",
      "\tNumPy Version = 1.20.2\n",
      "\tScykit_learn Version = 0.24.1\n",
      "\tPandas Version = 1.2.3\n",
      "\n",
      "Current NumPy Version = 1.20.2\n",
      "Current Sklearn Version = 0.24.1\n",
      "Current Pandas Version = 1.2.4\n"
     ]
    }
   ],
   "source": [
    "import numpy as np\n",
    "import pandas as pd\n",
    "import sklearn\n",
    "\n",
    "print('At the moment the program was made:')\n",
    "print('\\tNumPy Version = 1.20.2')\n",
    "print('\\tScykit_learn Version = 0.24.1')\n",
    "print('\\tPandas Version = 1.2.3\\n')\n",
    "\n",
    "print(f'Current NumPy Version = {np.__version__}')\n",
    "print(f'Current Sklearn Version = {sklearn.__version__}')\n",
    "print(f'Current Pandas Version = {pd.__version__}')"
   ]
  },
  {
   "cell_type": "markdown",
   "id": "dc119a36",
   "metadata": {},
   "source": [
    "## Subpunctul 1\n",
    "1. Aplicati o metoda de missing value imputation, unde este cazul; documentati metoda folosita.\n",
    "*Resurse*: Pentru missing value imputation, puteti urmari [Imputation of missing values](https://scikit-learn.org/stable/modules/impute.html), [How to Handle Missing Data with Python](https://machinelearningmastery.com/handle-missing-data-python/), [fancyimpute](https://github.com/iskandr/fancyimpute), [missingpy](https://github.com/epsilon-machine/missingpy)."
   ]
  },
  {
   "cell_type": "markdown",
   "id": "eea884a1",
   "metadata": {},
   "source": [
    "### Setul de date `Planning Relax`"
   ]
  },
  {
   "cell_type": "code",
   "execution_count": 2,
   "id": "551f11d0",
   "metadata": {},
   "outputs": [
    {
     "data": {
      "text/html": [
       "<div>\n",
       "<style scoped>\n",
       "    .dataframe tbody tr th:only-of-type {\n",
       "        vertical-align: middle;\n",
       "    }\n",
       "\n",
       "    .dataframe tbody tr th {\n",
       "        vertical-align: top;\n",
       "    }\n",
       "\n",
       "    .dataframe thead th {\n",
       "        text-align: right;\n",
       "    }\n",
       "</style>\n",
       "<table border=\"1\" class=\"dataframe\">\n",
       "  <thead>\n",
       "    <tr style=\"text-align: right;\">\n",
       "      <th></th>\n",
       "      <th>0</th>\n",
       "      <th>1</th>\n",
       "      <th>2</th>\n",
       "      <th>3</th>\n",
       "      <th>4</th>\n",
       "      <th>5</th>\n",
       "      <th>6</th>\n",
       "      <th>7</th>\n",
       "      <th>8</th>\n",
       "      <th>9</th>\n",
       "      <th>10</th>\n",
       "      <th>11</th>\n",
       "      <th>12</th>\n",
       "    </tr>\n",
       "  </thead>\n",
       "  <tbody>\n",
       "    <tr>\n",
       "      <th>0</th>\n",
       "      <td>-0.17936</td>\n",
       "      <td>-0.20700</td>\n",
       "      <td>-0.209710</td>\n",
       "      <td>-0.097260</td>\n",
       "      <td>-0.119210</td>\n",
       "      <td>-0.17322</td>\n",
       "      <td>-0.280760</td>\n",
       "      <td>0.223170</td>\n",
       "      <td>0.418660</td>\n",
       "      <td>-0.032886</td>\n",
       "      <td>0.003383</td>\n",
       "      <td>-0.334250</td>\n",
       "      <td>1.0</td>\n",
       "    </tr>\n",
       "    <tr>\n",
       "      <th>1</th>\n",
       "      <td>-0.14659</td>\n",
       "      <td>-0.16494</td>\n",
       "      <td>0.249870</td>\n",
       "      <td>-0.073985</td>\n",
       "      <td>0.494940</td>\n",
       "      <td>-0.15633</td>\n",
       "      <td>-0.288910</td>\n",
       "      <td>0.500800</td>\n",
       "      <td>-0.045553</td>\n",
       "      <td>0.050759</td>\n",
       "      <td>-0.017511</td>\n",
       "      <td>0.066959</td>\n",
       "      <td>1.0</td>\n",
       "    </tr>\n",
       "    <tr>\n",
       "      <th>2</th>\n",
       "      <td>-0.13131</td>\n",
       "      <td>0.51816</td>\n",
       "      <td>0.432810</td>\n",
       "      <td>0.397890</td>\n",
       "      <td>0.043127</td>\n",
       "      <td>0.56320</td>\n",
       "      <td>-0.013246</td>\n",
       "      <td>-0.062833</td>\n",
       "      <td>-0.883390</td>\n",
       "      <td>-0.040303</td>\n",
       "      <td>0.088057</td>\n",
       "      <td>0.631200</td>\n",
       "      <td>2.0</td>\n",
       "    </tr>\n",
       "    <tr>\n",
       "      <th>3</th>\n",
       "      <td>0.64940</td>\n",
       "      <td>0.41878</td>\n",
       "      <td>0.148350</td>\n",
       "      <td>0.333490</td>\n",
       "      <td>-0.219740</td>\n",
       "      <td>0.39891</td>\n",
       "      <td>0.590650</td>\n",
       "      <td>0.077100</td>\n",
       "      <td>-1.107200</td>\n",
       "      <td>-0.367230</td>\n",
       "      <td>0.364680</td>\n",
       "      <td>0.571720</td>\n",
       "      <td>1.0</td>\n",
       "    </tr>\n",
       "    <tr>\n",
       "      <th>4</th>\n",
       "      <td>-0.40628</td>\n",
       "      <td>0.11503</td>\n",
       "      <td>0.073336</td>\n",
       "      <td>0.070066</td>\n",
       "      <td>-0.030920</td>\n",
       "      <td>0.15205</td>\n",
       "      <td>-0.191420</td>\n",
       "      <td>-0.580430</td>\n",
       "      <td>-0.102250</td>\n",
       "      <td>0.153750</td>\n",
       "      <td>-0.126950</td>\n",
       "      <td>0.184570</td>\n",
       "      <td>1.0</td>\n",
       "    </tr>\n",
       "  </tbody>\n",
       "</table>\n",
       "</div>"
      ],
      "text/plain": [
       "        0        1         2         3         4        5         6   \\\n",
       "0 -0.17936 -0.20700 -0.209710 -0.097260 -0.119210 -0.17322 -0.280760   \n",
       "1 -0.14659 -0.16494  0.249870 -0.073985  0.494940 -0.15633 -0.288910   \n",
       "2 -0.13131  0.51816  0.432810  0.397890  0.043127  0.56320 -0.013246   \n",
       "3  0.64940  0.41878  0.148350  0.333490 -0.219740  0.39891  0.590650   \n",
       "4 -0.40628  0.11503  0.073336  0.070066 -0.030920  0.15205 -0.191420   \n",
       "\n",
       "         7         8         9         10        11   12  \n",
       "0  0.223170  0.418660 -0.032886  0.003383 -0.334250  1.0  \n",
       "1  0.500800 -0.045553  0.050759 -0.017511  0.066959  1.0  \n",
       "2 -0.062833 -0.883390 -0.040303  0.088057  0.631200  2.0  \n",
       "3  0.077100 -1.107200 -0.367230  0.364680  0.571720  1.0  \n",
       "4 -0.580430 -0.102250  0.153750 -0.126950  0.184570  1.0  "
      ]
     },
     "execution_count": 2,
     "metadata": {},
     "output_type": "execute_result"
    }
   ],
   "source": [
    "pd_data = pd.read_csv(\"data/planning_relax_data_set.txt\", delimiter=\"\\t\", header=None)\n",
    "pd_data = pd_data.drop(13, axis=1)\n",
    "pd_data.head()"
   ]
  },
  {
   "cell_type": "code",
   "execution_count": 3,
   "id": "542ff89d",
   "metadata": {},
   "outputs": [
    {
     "name": "stdout",
     "output_type": "stream",
     "text": [
      "<class 'pandas.core.frame.DataFrame'>\n",
      "RangeIndex: 182 entries, 0 to 181\n",
      "Data columns (total 13 columns):\n",
      " #   Column  Non-Null Count  Dtype  \n",
      "---  ------  --------------  -----  \n",
      " 0   0       182 non-null    float64\n",
      " 1   1       182 non-null    float64\n",
      " 2   2       182 non-null    float64\n",
      " 3   3       182 non-null    float64\n",
      " 4   4       182 non-null    float64\n",
      " 5   5       182 non-null    float64\n",
      " 6   6       182 non-null    float64\n",
      " 7   7       182 non-null    float64\n",
      " 8   8       182 non-null    float64\n",
      " 9   9       182 non-null    float64\n",
      " 10  10      182 non-null    float64\n",
      " 11  11      182 non-null    float64\n",
      " 12  12      182 non-null    float64\n",
      "dtypes: float64(13)\n",
      "memory usage: 18.6 KB\n"
     ]
    }
   ],
   "source": [
    "pd_data.info()"
   ]
  },
  {
   "cell_type": "code",
   "execution_count": 4,
   "id": "6319df4e",
   "metadata": {},
   "outputs": [],
   "source": [
    "pd_data = pd_data.values\n",
    "pd_data_original = pd_data.copy()\n",
    "assert not np.isnan(pd_data_original.sum()) # verificam ca nu e niciun nan "
   ]
  },
  {
   "cell_type": "markdown",
   "id": "7dba3cdb",
   "metadata": {},
   "source": [
    "Setul initial de date nu are valori lipsa, dar am implementat o functie care sa suprascrie un anumit procent din valorile initiale (dat ca parametru) folosind `numpy.nan`"
   ]
  },
  {
   "cell_type": "code",
   "execution_count": 8,
   "id": "5eb08612",
   "metadata": {},
   "outputs": [
    {
     "name": "stdout",
     "output_type": "stream",
     "text": [
      "DataSet after adding Nan: \n",
      " [[-0.17936   -0.207     -0.20971   ...  0.0033827 -0.33425    1.       ]\n",
      " [       nan -0.16494    0.24987   ... -0.017511   0.066959   1.       ]\n",
      " [-0.13131    0.51816    0.43281   ...  0.088057   0.6312     2.       ]\n",
      " ...\n",
      " [ 0.29877   -0.17962    0.032859  ...  0.24683   -0.38916    2.       ]\n",
      " [-0.37812   -0.52287    0.21541   ...  0.007591   0.47603    1.       ]\n",
      " [ 0.37913   -0.046562         nan ...  0.17369    0.49063    2.       ]]\n"
     ]
    }
   ],
   "source": [
    "def insert_nan(data, percentage=15):\n",
    "    numbers_to_be_modified = int(percentage / 100 * data.shape[0] * data.shape[1])\n",
    "    random_lines = np.random.choice(data.shape[0], numbers_to_be_modified)\n",
    "    random_cols = np.random.choice(data.shape[1], numbers_to_be_modified)\n",
    "    data[random_lines, random_cols] = np.nan\n",
    "    return data\n",
    "\n",
    "pd_data = insert_nan(pd_data)\n",
    "print(f'DataSet after adding Nan: \\n {pd_data}')\n",
    "assert np.isnan(pd_data.sum()) # verificam ca e cel putin un nan"
   ]
  },
  {
   "cell_type": "code",
   "execution_count": 9,
   "id": "7ea2fcea",
   "metadata": {},
   "outputs": [
    {
     "name": "stdout",
     "output_type": "stream",
     "text": [
      "DataSet after missing values imputation: \n",
      " [[-0.17936    -0.207      -0.20971    ...  0.0033827  -0.33425\n",
      "   1.        ]\n",
      " [-0.20722871 -0.16494     0.24987    ... -0.017511    0.066959\n",
      "   1.        ]\n",
      " [-0.13131     0.51816     0.43281    ...  0.088057    0.6312\n",
      "   2.        ]\n",
      " ...\n",
      " [ 0.29877    -0.17962     0.032859   ...  0.24683    -0.38916\n",
      "   2.        ]\n",
      " [-0.37812    -0.52287     0.21541    ...  0.007591    0.47603\n",
      "   1.        ]\n",
      " [ 0.37913    -0.046562   -0.0989483  ...  0.17369     0.49063\n",
      "   2.        ]]\n"
     ]
    }
   ],
   "source": [
    "from sklearn.experimental import enable_iterative_imputer\n",
    "from sklearn.impute import IterativeImputer \n",
    "# from sklearn.ensemble import ExtraTreesRegressor\n",
    "imputer = IterativeImputer(max_iter=1000, random_state=0)\n",
    "pd_data_sklearn = imputer.fit_transform(pd_data)\n",
    "print(f'DataSet after missing values imputation: \\n {pd_data_sklearn}')"
   ]
  },
  {
   "cell_type": "code",
   "execution_count": 10,
   "id": "250848f2",
   "metadata": {},
   "outputs": [
    {
     "data": {
      "text/plain": [
       "6.133709292689028"
      ]
     },
     "execution_count": 10,
     "metadata": {},
     "output_type": "execute_result"
    }
   ],
   "source": [
    "np.linalg.norm(pd_data_sklearn - pd_data_original)"
   ]
  },
  {
   "cell_type": "markdown",
   "id": "51b88cbb",
   "metadata": {},
   "source": [
    "### Setul de date `Conventional Social Media Movies`"
   ]
  },
  {
   "cell_type": "code",
   "execution_count": 19,
   "id": "a551a161",
   "metadata": {},
   "outputs": [],
   "source": [
    "data = pd.read_excel('data/2014 and 2015 CSM dataset.xlsx', index_col=None, header=None)\n",
    "data = data.drop(0, axis=0)\n",
    "data = data.drop(0, axis=1)"
   ]
  },
  {
   "cell_type": "code",
   "execution_count": 20,
   "id": "0d3b0275",
   "metadata": {},
   "outputs": [
    {
     "data": {
      "text/html": [
       "<div>\n",
       "<style scoped>\n",
       "    .dataframe tbody tr th:only-of-type {\n",
       "        vertical-align: middle;\n",
       "    }\n",
       "\n",
       "    .dataframe tbody tr th {\n",
       "        vertical-align: top;\n",
       "    }\n",
       "\n",
       "    .dataframe thead th {\n",
       "        text-align: right;\n",
       "    }\n",
       "</style>\n",
       "<table border=\"1\" class=\"dataframe\">\n",
       "  <thead>\n",
       "    <tr style=\"text-align: right;\">\n",
       "      <th></th>\n",
       "      <th>1</th>\n",
       "      <th>2</th>\n",
       "      <th>3</th>\n",
       "      <th>4</th>\n",
       "      <th>5</th>\n",
       "      <th>6</th>\n",
       "      <th>7</th>\n",
       "      <th>8</th>\n",
       "      <th>9</th>\n",
       "      <th>10</th>\n",
       "      <th>11</th>\n",
       "      <th>12</th>\n",
       "      <th>13</th>\n",
       "    </tr>\n",
       "  </thead>\n",
       "  <tbody>\n",
       "    <tr>\n",
       "      <th>1</th>\n",
       "      <td>2014</td>\n",
       "      <td>6.3</td>\n",
       "      <td>8</td>\n",
       "      <td>9130</td>\n",
       "      <td>4000000</td>\n",
       "      <td>45</td>\n",
       "      <td>1</td>\n",
       "      <td>0</td>\n",
       "      <td>3280543</td>\n",
       "      <td>4632</td>\n",
       "      <td>425</td>\n",
       "      <td>636</td>\n",
       "      <td>1120000</td>\n",
       "    </tr>\n",
       "    <tr>\n",
       "      <th>2</th>\n",
       "      <td>2014</td>\n",
       "      <td>7.1</td>\n",
       "      <td>1</td>\n",
       "      <td>192000000</td>\n",
       "      <td>50000000</td>\n",
       "      <td>3306</td>\n",
       "      <td>2</td>\n",
       "      <td>2</td>\n",
       "      <td>583289</td>\n",
       "      <td>3465</td>\n",
       "      <td>61</td>\n",
       "      <td>186</td>\n",
       "      <td>12350000</td>\n",
       "    </tr>\n",
       "    <tr>\n",
       "      <th>3</th>\n",
       "      <td>2014</td>\n",
       "      <td>6.2</td>\n",
       "      <td>1</td>\n",
       "      <td>30700000</td>\n",
       "      <td>28000000</td>\n",
       "      <td>2872</td>\n",
       "      <td>1</td>\n",
       "      <td>0</td>\n",
       "      <td>304861</td>\n",
       "      <td>328</td>\n",
       "      <td>34</td>\n",
       "      <td>47</td>\n",
       "      <td>483000</td>\n",
       "    </tr>\n",
       "    <tr>\n",
       "      <th>4</th>\n",
       "      <td>2014</td>\n",
       "      <td>6.3</td>\n",
       "      <td>1</td>\n",
       "      <td>106000000</td>\n",
       "      <td>110000000</td>\n",
       "      <td>3470</td>\n",
       "      <td>2</td>\n",
       "      <td>0</td>\n",
       "      <td>452917</td>\n",
       "      <td>2429</td>\n",
       "      <td>132</td>\n",
       "      <td>590</td>\n",
       "      <td>568000</td>\n",
       "    </tr>\n",
       "    <tr>\n",
       "      <th>5</th>\n",
       "      <td>2014</td>\n",
       "      <td>4.7</td>\n",
       "      <td>8</td>\n",
       "      <td>17300000</td>\n",
       "      <td>3500000</td>\n",
       "      <td>2310</td>\n",
       "      <td>2</td>\n",
       "      <td>0</td>\n",
       "      <td>3145573</td>\n",
       "      <td>12163</td>\n",
       "      <td>610</td>\n",
       "      <td>1082</td>\n",
       "      <td>1923800</td>\n",
       "    </tr>\n",
       "  </tbody>\n",
       "</table>\n",
       "</div>"
      ],
      "text/plain": [
       "     1    2  3          4          5     6  7  8        9      10   11    12  \\\n",
       "1  2014  6.3  8       9130    4000000    45  1  0  3280543   4632  425   636   \n",
       "2  2014  7.1  1  192000000   50000000  3306  2  2   583289   3465   61   186   \n",
       "3  2014  6.2  1   30700000   28000000  2872  1  0   304861    328   34    47   \n",
       "4  2014  6.3  1  106000000  110000000  3470  2  0   452917   2429  132   590   \n",
       "5  2014  4.7  8   17300000    3500000  2310  2  0  3145573  12163  610  1082   \n",
       "\n",
       "         13  \n",
       "1   1120000  \n",
       "2  12350000  \n",
       "3    483000  \n",
       "4    568000  \n",
       "5   1923800  "
      ]
     },
     "execution_count": 20,
     "metadata": {},
     "output_type": "execute_result"
    }
   ],
   "source": [
    "data.head()"
   ]
  },
  {
   "cell_type": "code",
   "execution_count": 21,
   "id": "6bdbed59",
   "metadata": {},
   "outputs": [
    {
     "name": "stdout",
     "output_type": "stream",
     "text": [
      "[[2014 6.3 8 ... 425 636 1120000]\n",
      " [2014 7.1 1 ... 61 186 12350000]\n",
      " [2014 6.2 1 ... 34 47 483000]\n",
      " ...\n",
      " [2015 5.4 8 ... 325 409 nan]\n",
      " [2015 5.4 1 ... 67 201 nan]\n",
      " [2015 4.4 15 ... 431 606 nan]]\n"
     ]
    }
   ],
   "source": [
    "data = data.values\n",
    "print(data)\n",
    "data_original = data.copy()\n",
    "assert np.isnan(data.sum()) # verificam ca e cel putin un nan"
   ]
  },
  {
   "cell_type": "code",
   "execution_count": 22,
   "id": "665fc6b8",
   "metadata": {},
   "outputs": [
    {
     "name": "stdout",
     "output_type": "stream",
     "text": [
      "Requirement already satisfied: missingpy in c:\\users\\laur\\anaconda3\\envs\\introducereindatascience\\lib\\site-packages (0.2.0)\n"
     ]
    }
   ],
   "source": [
    "!pip install missingpy"
   ]
  },
  {
   "cell_type": "code",
   "execution_count": 23,
   "id": "39236ec3",
   "metadata": {},
   "outputs": [],
   "source": [
    "import sys\n",
    "import sklearn.neighbors._base\n",
    "sys.modules['sklearn.neighbors.base'] = sklearn.neighbors._base"
   ]
  },
  {
   "cell_type": "code",
   "execution_count": 24,
   "id": "505e9868",
   "metadata": {},
   "outputs": [
    {
     "name": "stdout",
     "output_type": "stream",
     "text": [
      "Iteration: 0\n",
      "Iteration: 1\n",
      "Iteration: 2\n"
     ]
    }
   ],
   "source": [
    "from missingpy import MissForest\n",
    "\n",
    "imputer = MissForest()\n",
    "data = imputer.fit_transform(data)"
   ]
  },
  {
   "cell_type": "code",
   "execution_count": 25,
   "id": "e9cdc5cc",
   "metadata": {},
   "outputs": [
    {
     "name": "stdout",
     "output_type": "stream",
     "text": [
      "Data original:\n",
      " [[2014 6.3 8 ... 425 636 1120000]\n",
      " [2014 7.1 1 ... 61 186 12350000]\n",
      " [2014 6.2 1 ... 34 47 483000]\n",
      " ...\n",
      " [2015 5.4 8 ... 325 409 nan]\n",
      " [2015 5.4 1 ... 67 201 nan]\n",
      " [2015 4.4 15 ... 431 606 nan]]\n",
      "\n",
      "Data filled:\n",
      " [[2.01400000e+03 6.30000000e+00 8.00000000e+00 ... 4.25000000e+02\n",
      "  6.36000000e+02 1.12000000e+06]\n",
      " [2.01400000e+03 7.10000000e+00 1.00000000e+00 ... 6.10000000e+01\n",
      "  1.86000000e+02 1.23500000e+07]\n",
      " [2.01400000e+03 6.20000000e+00 1.00000000e+00 ... 3.40000000e+01\n",
      "  4.70000000e+01 4.83000000e+05]\n",
      " ...\n",
      " [2.01500000e+03 5.40000000e+00 8.00000000e+00 ... 3.25000000e+02\n",
      "  4.09000000e+02 2.07559865e+06]\n",
      " [2.01500000e+03 5.40000000e+00 1.00000000e+00 ... 6.70000000e+01\n",
      "  2.01000000e+02 8.02575590e+05]\n",
      " [2.01500000e+03 4.40000000e+00 1.50000000e+01 ... 4.31000000e+02\n",
      "  6.06000000e+02 2.63669288e+06]]\n"
     ]
    }
   ],
   "source": [
    "print(f'Data original:\\n {data_original}')\n",
    "print(f'\\nData filled:\\n {data}')\n",
    "\n",
    "assert not np.isnan(data.sum()) # verificam ca nu exista niciun nan"
   ]
  },
  {
   "cell_type": "markdown",
   "id": "66b5d1d2",
   "metadata": {},
   "source": [
    "## Subpunctul 2\n",
    "2. Pentru fiecare set de date aplicati 5 modele de clasificare din scikit learn. Pentru fiecare raportati: acuratete, precision, recall, scorul F1 - a se vedea [sklearn.metrics](http://scikit-learn.org/stable/modules/classes.html#module-sklearn.metrics), [Precision and recall](https://en.wikipedia.org/wiki/Precision_and_recall) - folosind 5 fold cross validation. Raportati mediile rezultatelor atat pentru fold-urile de antrenare, cat si pentru cele de testare. Rularile se vor face cu valori fixate ale hiperparametrilor. "
   ]
  },
  {
   "cell_type": "markdown",
   "id": "2d9cd546",
   "metadata": {},
   "source": [
    "### Setul de date `Planning Relax`"
   ]
  },
  {
   "cell_type": "code",
   "execution_count": 26,
   "id": "9924f7a5",
   "metadata": {},
   "outputs": [
    {
     "data": {
      "text/html": [
       "<div>\n",
       "<style scoped>\n",
       "    .dataframe tbody tr th:only-of-type {\n",
       "        vertical-align: middle;\n",
       "    }\n",
       "\n",
       "    .dataframe tbody tr th {\n",
       "        vertical-align: top;\n",
       "    }\n",
       "\n",
       "    .dataframe thead th {\n",
       "        text-align: right;\n",
       "    }\n",
       "</style>\n",
       "<table border=\"1\" class=\"dataframe\">\n",
       "  <thead>\n",
       "    <tr style=\"text-align: right;\">\n",
       "      <th></th>\n",
       "      <th>0</th>\n",
       "      <th>1</th>\n",
       "      <th>2</th>\n",
       "      <th>3</th>\n",
       "      <th>4</th>\n",
       "      <th>5</th>\n",
       "      <th>6</th>\n",
       "      <th>7</th>\n",
       "      <th>8</th>\n",
       "      <th>9</th>\n",
       "      <th>10</th>\n",
       "      <th>11</th>\n",
       "      <th>12</th>\n",
       "    </tr>\n",
       "  </thead>\n",
       "  <tbody>\n",
       "    <tr>\n",
       "      <th>0</th>\n",
       "      <td>-0.17936</td>\n",
       "      <td>-0.20700</td>\n",
       "      <td>-0.209710</td>\n",
       "      <td>-0.097260</td>\n",
       "      <td>-0.119210</td>\n",
       "      <td>-0.17322</td>\n",
       "      <td>-0.280760</td>\n",
       "      <td>0.223170</td>\n",
       "      <td>0.418660</td>\n",
       "      <td>-0.032886</td>\n",
       "      <td>0.003383</td>\n",
       "      <td>-0.334250</td>\n",
       "      <td>1.0</td>\n",
       "    </tr>\n",
       "    <tr>\n",
       "      <th>1</th>\n",
       "      <td>-0.14659</td>\n",
       "      <td>-0.16494</td>\n",
       "      <td>0.249870</td>\n",
       "      <td>-0.073985</td>\n",
       "      <td>0.494940</td>\n",
       "      <td>-0.15633</td>\n",
       "      <td>-0.288910</td>\n",
       "      <td>0.500800</td>\n",
       "      <td>-0.045553</td>\n",
       "      <td>0.050759</td>\n",
       "      <td>-0.017511</td>\n",
       "      <td>0.066959</td>\n",
       "      <td>1.0</td>\n",
       "    </tr>\n",
       "    <tr>\n",
       "      <th>2</th>\n",
       "      <td>-0.13131</td>\n",
       "      <td>0.51816</td>\n",
       "      <td>0.432810</td>\n",
       "      <td>0.397890</td>\n",
       "      <td>0.043127</td>\n",
       "      <td>0.56320</td>\n",
       "      <td>-0.013246</td>\n",
       "      <td>-0.062833</td>\n",
       "      <td>-0.883390</td>\n",
       "      <td>-0.040303</td>\n",
       "      <td>0.088057</td>\n",
       "      <td>0.631200</td>\n",
       "      <td>2.0</td>\n",
       "    </tr>\n",
       "    <tr>\n",
       "      <th>3</th>\n",
       "      <td>0.64940</td>\n",
       "      <td>0.41878</td>\n",
       "      <td>0.148350</td>\n",
       "      <td>0.333490</td>\n",
       "      <td>-0.219740</td>\n",
       "      <td>0.39891</td>\n",
       "      <td>0.590650</td>\n",
       "      <td>0.077100</td>\n",
       "      <td>-1.107200</td>\n",
       "      <td>-0.367230</td>\n",
       "      <td>0.364680</td>\n",
       "      <td>0.571720</td>\n",
       "      <td>1.0</td>\n",
       "    </tr>\n",
       "    <tr>\n",
       "      <th>4</th>\n",
       "      <td>-0.40628</td>\n",
       "      <td>0.11503</td>\n",
       "      <td>0.073336</td>\n",
       "      <td>0.070066</td>\n",
       "      <td>-0.030920</td>\n",
       "      <td>0.15205</td>\n",
       "      <td>-0.191420</td>\n",
       "      <td>-0.580430</td>\n",
       "      <td>-0.102250</td>\n",
       "      <td>0.153750</td>\n",
       "      <td>-0.126950</td>\n",
       "      <td>0.184570</td>\n",
       "      <td>1.0</td>\n",
       "    </tr>\n",
       "  </tbody>\n",
       "</table>\n",
       "</div>"
      ],
      "text/plain": [
       "        0        1         2         3         4        5         6   \\\n",
       "0 -0.17936 -0.20700 -0.209710 -0.097260 -0.119210 -0.17322 -0.280760   \n",
       "1 -0.14659 -0.16494  0.249870 -0.073985  0.494940 -0.15633 -0.288910   \n",
       "2 -0.13131  0.51816  0.432810  0.397890  0.043127  0.56320 -0.013246   \n",
       "3  0.64940  0.41878  0.148350  0.333490 -0.219740  0.39891  0.590650   \n",
       "4 -0.40628  0.11503  0.073336  0.070066 -0.030920  0.15205 -0.191420   \n",
       "\n",
       "         7         8         9         10        11   12  \n",
       "0  0.223170  0.418660 -0.032886  0.003383 -0.334250  1.0  \n",
       "1  0.500800 -0.045553  0.050759 -0.017511  0.066959  1.0  \n",
       "2 -0.062833 -0.883390 -0.040303  0.088057  0.631200  2.0  \n",
       "3  0.077100 -1.107200 -0.367230  0.364680  0.571720  1.0  \n",
       "4 -0.580430 -0.102250  0.153750 -0.126950  0.184570  1.0  "
      ]
     },
     "execution_count": 26,
     "metadata": {},
     "output_type": "execute_result"
    }
   ],
   "source": [
    "pr_data = pd.read_csv(\"data/planning_relax_data_set.txt\", delimiter=\"\\t\", header=None)\n",
    "pr_data = pr_data.drop(13, axis=1)\n",
    "pr_data.head()"
   ]
  },
  {
   "cell_type": "code",
   "execution_count": 27,
   "id": "29def049",
   "metadata": {},
   "outputs": [],
   "source": [
    "pr_X = pr_data.iloc[:, :-1].values\n",
    "pr_y = pr_data.iloc[:, -1].values"
   ]
  },
  {
   "cell_type": "code",
   "execution_count": 28,
   "id": "421cce98",
   "metadata": {},
   "outputs": [
    {
     "name": "stdout",
     "output_type": "stream",
     "text": [
      "[[-0.17936   -0.207     -0.20971   ... -0.032886   0.0033827 -0.33425  ]\n",
      " [-0.14659   -0.16494    0.24987   ...  0.050759  -0.017511   0.066959 ]\n",
      " [-0.13131    0.51816    0.43281   ... -0.040303   0.088057   0.6312   ]\n",
      " ...\n",
      " [ 0.29877   -0.17962    0.032859  ... -0.41113    0.24683   -0.38916  ]\n",
      " [-0.37812   -0.52287    0.21541   ... -0.039117   0.007591   0.47603  ]\n",
      " [ 0.37913   -0.046562  -0.12336   ... -0.24229    0.17369    0.49063  ]]\n",
      "[1. 1. 2. 1. 1. 1. 2. 1. 1. 1. 2. 1. 1. 1. 2. 1. 1. 1. 2. 1. 1. 1. 2. 1.\n",
      " 1. 1. 2. 1. 1. 1. 2. 1. 1. 1. 2. 1. 1. 1. 2. 1. 1. 1. 2. 1. 1. 1. 2. 1.\n",
      " 1. 1. 2. 1. 1. 1. 2. 1. 1. 1. 2. 1. 1. 1. 2. 1. 1. 1. 2. 1. 1. 1. 2. 1.\n",
      " 1. 1. 2. 1. 1. 1. 2. 1. 1. 1. 2. 1. 1. 1. 2. 1. 1. 1. 2. 1. 1. 1. 2. 1.\n",
      " 1. 1. 2. 1. 1. 1. 2. 1. 1. 1. 2. 1. 1. 1. 2. 1. 1. 1. 2. 1. 1. 1. 2. 1.\n",
      " 1. 1. 2. 1. 1. 1. 2. 1. 1. 1. 2. 1. 1. 1. 2. 1. 1. 1. 2. 1. 1. 1. 2. 1.\n",
      " 1. 1. 2. 1. 1. 1. 2. 1. 1. 1. 2. 1. 1. 2. 1. 2. 1. 2. 1. 2. 1. 2. 1. 2.\n",
      " 1. 2. 1. 2. 1. 2. 1. 2. 1. 2. 1. 2. 1. 2.]\n"
     ]
    }
   ],
   "source": [
    "print(pr_X)\n",
    "print(pr_y)"
   ]
  },
  {
   "cell_type": "code",
   "execution_count": 29,
   "id": "80f2305f",
   "metadata": {},
   "outputs": [],
   "source": [
    "from sklearn.model_selection import cross_val_score, cross_validate\n",
    "from sklearn import metrics\n",
    "  \n",
    "def calculate_scores_micro(model, X, y):\n",
    "    scores = cross_validate(model, X, y, cv=5, scoring=['accuracy', 'precision', 'recall', 'f1'], return_train_score=True)\n",
    "    train_accuracy = scores['train_accuracy'].mean()\n",
    "    test_accuracy = scores['test_accuracy'].mean()\n",
    "    train_precision = scores['train_precision'].mean()\n",
    "    test_precision = scores['test_precision'].mean()\n",
    "    train_recall = scores['train_recall'].mean()\n",
    "    test_recall = scores['test_recall'].mean()\n",
    "    train_f1_score = scores['train_f1'].mean()\n",
    "    test_f1_score = scores['test_f1'].mean()\n",
    "    print(f'Train accuracy: {train_accuracy}')\n",
    "    print(f'Test accuracy: {test_accuracy}')\n",
    "    print(f'Train precision: {train_precision}')\n",
    "    print(f'Test precision: {test_precision}')\n",
    "    print(f'Train recall: {train_recall}')\n",
    "    print(f'Test recall: {test_recall}')\n",
    "    print(f'Train F1: {train_f1_score}')\n",
    "    print(f'Test F1: {test_f1_score}')"
   ]
  },
  {
   "cell_type": "markdown",
   "id": "dd2db89e",
   "metadata": {},
   "source": [
    "* Folosind `KNeighborsClassifier`"
   ]
  },
  {
   "cell_type": "code",
   "execution_count": 30,
   "id": "99e29ba8",
   "metadata": {},
   "outputs": [
    {
     "name": "stdout",
     "output_type": "stream",
     "text": [
      "Train accuracy: 0.8186679263108172\n",
      "Test accuracy: 0.6376876876876877\n",
      "Train precision: 0.8283701291123394\n",
      "Test precision: 0.7074860354699064\n",
      "Train recall: 0.9423076923076923\n",
      "Test recall: 0.8384615384615384\n",
      "Train F1: 0.8814538535510122\n",
      "Test F1: 0.7668308784169008\n"
     ]
    }
   ],
   "source": [
    "from sklearn.neighbors import KNeighborsClassifier\n",
    "\n",
    "model = KNeighborsClassifier(n_neighbors=3)\n",
    "calculate_scores_micro(model=model, X=pr_X, y=pr_y)"
   ]
  },
  {
   "cell_type": "markdown",
   "id": "1e3045e4",
   "metadata": {},
   "source": [
    "* Folosind `DecisionTreeClassifier`"
   ]
  },
  {
   "cell_type": "code",
   "execution_count": 31,
   "id": "4142abb2",
   "metadata": {},
   "outputs": [
    {
     "name": "stdout",
     "output_type": "stream",
     "text": [
      "Train accuracy: 1.0\n",
      "Test accuracy: 0.5615615615615617\n",
      "Train precision: 1.0\n",
      "Test precision: 0.6856716718785685\n",
      "Train recall: 1.0\n",
      "Test recall: 0.7\n",
      "Train F1: 1.0\n",
      "Test F1: 0.6912879643068324\n"
     ]
    }
   ],
   "source": [
    "from sklearn.tree import DecisionTreeClassifier\n",
    "\n",
    "classifier = DecisionTreeClassifier()\n",
    "calculate_scores_micro(model=classifier, X=pr_X, y=pr_y)"
   ]
  },
  {
   "cell_type": "markdown",
   "id": "4d2ef148",
   "metadata": {},
   "source": [
    "* Folosind `SupportVectorMachines`"
   ]
  },
  {
   "cell_type": "code",
   "execution_count": 32,
   "id": "3fb8d50d",
   "metadata": {},
   "outputs": [
    {
     "name": "stdout",
     "output_type": "stream",
     "text": [
      "Train accuracy: 0.7142938119981105\n",
      "Test accuracy: 0.7144144144144144\n",
      "Train precision: 0.7142938119981105\n",
      "Test precision: 0.7144144144144144\n",
      "Train recall: 1.0\n",
      "Test recall: 1.0\n",
      "Train F1: 0.833336546184739\n",
      "Test F1: 0.8333845366103431\n"
     ]
    }
   ],
   "source": [
    "from sklearn.svm import SVC\n",
    "\n",
    "classifier = SVC(kernel='linear')\n",
    "calculate_scores_micro(model=classifier, X=pr_X, y=pr_y)"
   ]
  },
  {
   "cell_type": "markdown",
   "id": "5435126f",
   "metadata": {},
   "source": [
    "* Folosind `SochasticGradientDescent`"
   ]
  },
  {
   "cell_type": "code",
   "execution_count": 33,
   "id": "736ba4ea",
   "metadata": {},
   "outputs": [
    {
     "name": "stdout",
     "output_type": "stream",
     "text": [
      "Train accuracy: 0.6745772319319792\n",
      "Test accuracy: 0.570870870870871\n",
      "Train precision: 0.7331567287612207\n",
      "Test precision: 0.6761511022871471\n",
      "Train recall: 0.8557692307692306\n",
      "Test recall: 0.7615384615384616\n",
      "Train F1: 0.787393859050052\n",
      "Test F1: 0.7112899185207492\n"
     ]
    }
   ],
   "source": [
    "from sklearn.linear_model import SGDClassifier\n",
    "\n",
    "classifier=SGDClassifier(loss='hinge', penalty='l2')\n",
    "calculate_scores_micro(model=classifier, X=pr_X, y=pr_y)"
   ]
  },
  {
   "cell_type": "markdown",
   "id": "f53e0494",
   "metadata": {},
   "source": [
    "* Folosind `RBF`"
   ]
  },
  {
   "cell_type": "code",
   "execution_count": 34,
   "id": "46c682ca",
   "metadata": {},
   "outputs": [
    {
     "name": "stdout",
     "output_type": "stream",
     "text": [
      "Train accuracy: 0.7142938119981105\n",
      "Test accuracy: 0.7144144144144144\n",
      "Train precision: 0.7142938119981105\n",
      "Test precision: 0.7144144144144144\n",
      "Train recall: 1.0\n",
      "Test recall: 1.0\n",
      "Train F1: 0.833336546184739\n",
      "Test F1: 0.8333845366103431\n"
     ]
    }
   ],
   "source": [
    "from sklearn.gaussian_process import GaussianProcessClassifier\n",
    "from sklearn.gaussian_process.kernels import RBF\n",
    "\n",
    "kernel = 1.0 * RBF(1.0)\n",
    "gpc = GaussianProcessClassifier(kernel=kernel)\n",
    "calculate_scores_micro(model=gpc, X=pr_X, y=pr_y)"
   ]
  },
  {
   "cell_type": "markdown",
   "id": "695dd89d",
   "metadata": {},
   "source": [
    "### Setul de date `Divorce`\n"
   ]
  },
  {
   "cell_type": "code",
   "execution_count": 35,
   "id": "0a87220b",
   "metadata": {},
   "outputs": [],
   "source": [
    "divorce_data = pd.read_excel('data/divorce.xlsx', index_col=None, header=None)\n",
    "divorce_data = divorce_data.drop(0, axis=0)"
   ]
  },
  {
   "cell_type": "code",
   "execution_count": 36,
   "id": "a3f166a2",
   "metadata": {},
   "outputs": [
    {
     "name": "stdout",
     "output_type": "stream",
     "text": [
      "    0  1  2  3  4  5  6  7  8  9   ... 45 46 47 48 49 50 51 52 53 54\n",
      "1    2  2  4  1  0  0  0  0  0  0  ...  2  1  3  3  3  2  3  2  1  1\n",
      "2    4  4  4  4  4  0  0  4  4  4  ...  2  2  3  4  4  4  4  2  2  1\n",
      "3    2  2  2  2  1  3  2  1  1  2  ...  3  2  3  1  1  1  2  2  2  1\n",
      "4    3  2  3  2  3  3  3  3  3  3  ...  2  2  3  3  3  3  2  2  2  1\n",
      "5    2  2  1  1  1  1  0  0  0  0  ...  2  1  2  3  2  2  2  1  0  1\n",
      "..  .. .. .. .. .. .. .. .. .. ..  ... .. .. .. .. .. .. .. .. .. ..\n",
      "166  0  0  0  0  0  0  0  0  0  0  ...  1  0  4  1  1  4  2  2  2  0\n",
      "167  0  0  0  0  0  0  0  0  0  0  ...  4  1  2  2  2  2  3  2  2  0\n",
      "168  1  1  0  0  0  0  0  0  0  1  ...  3  0  2  0  1  1  3  0  0  0\n",
      "169  0  0  0  0  0  0  0  0  0  0  ...  3  3  2  2  3  2  4  3  1  0\n",
      "170  0  0  0  0  0  0  0  1  0  0  ...  3  4  4  0  1  3  3  3  1  0\n",
      "\n",
      "[170 rows x 55 columns]\n"
     ]
    }
   ],
   "source": [
    "# divorce_data.head()\n",
    "print(divorce_data)"
   ]
  },
  {
   "cell_type": "code",
   "execution_count": 37,
   "id": "c3087409",
   "metadata": {},
   "outputs": [],
   "source": [
    "divorce_X = divorce_data.iloc[:, :-1].values\n",
    "divorce_y = divorce_data.iloc[:, -1].values\n",
    "divorce_y = divorce_y.astype('int')"
   ]
  },
  {
   "cell_type": "markdown",
   "id": "50f11d07",
   "metadata": {},
   "source": [
    "* Folosind `KNeighborsClassifier`"
   ]
  },
  {
   "cell_type": "code",
   "execution_count": 38,
   "id": "43a054a9",
   "metadata": {},
   "outputs": [
    {
     "name": "stdout",
     "output_type": "stream",
     "text": [
      "Train accuracy: 0.9779411764705882\n",
      "Test accuracy: 0.9764705882352942\n",
      "Train precision: 1.0\n",
      "Test precision: 1.0\n",
      "Train recall: 0.9553555750658473\n",
      "Test recall: 0.9529411764705882\n",
      "Train F1: 0.9770271833429728\n",
      "Test F1: 0.9733333333333334\n"
     ]
    }
   ],
   "source": [
    "#from sklearn.neighbors import KNeighborsClassifier\n",
    "\n",
    "model = KNeighborsClassifier(n_neighbors=3)\n",
    "calculate_scores_micro(model=model, X=divorce_X, y=divorce_y)"
   ]
  },
  {
   "cell_type": "markdown",
   "id": "227945e5",
   "metadata": {},
   "source": [
    "* Folosind `DecisionTreeClassifier`"
   ]
  },
  {
   "cell_type": "code",
   "execution_count": 39,
   "id": "d8545557",
   "metadata": {},
   "outputs": [
    {
     "name": "stdout",
     "output_type": "stream",
     "text": [
      "Train accuracy: 1.0\n",
      "Test accuracy: 0.9705882352941175\n",
      "Train precision: 1.0\n",
      "Test precision: 0.9777777777777779\n",
      "Train recall: 1.0\n",
      "Test recall: 0.9647058823529411\n",
      "Train F1: 1.0\n",
      "Test F1: 0.9688804554079697\n"
     ]
    }
   ],
   "source": [
    "classifier = DecisionTreeClassifier()\n",
    "calculate_scores_micro(model=classifier, X=divorce_X, y=divorce_y)"
   ]
  },
  {
   "cell_type": "markdown",
   "id": "9234216c",
   "metadata": {},
   "source": [
    "* Folosind `SupportVectorMachines`"
   ]
  },
  {
   "cell_type": "code",
   "execution_count": 40,
   "id": "bfa9d272",
   "metadata": {},
   "outputs": [
    {
     "name": "stdout",
     "output_type": "stream",
     "text": [
      "Train accuracy: 1.0\n",
      "Test accuracy: 0.9764705882352942\n",
      "Train precision: 1.0\n",
      "Test precision: 1.0\n",
      "Train recall: 1.0\n",
      "Test recall: 0.9529411764705882\n",
      "Train F1: 1.0\n",
      "Test F1: 0.9733333333333334\n"
     ]
    }
   ],
   "source": [
    "classifier = SVC(kernel='linear')\n",
    "calculate_scores_micro(model=classifier, X=divorce_X, y=divorce_y)"
   ]
  },
  {
   "cell_type": "markdown",
   "id": "3d47112a",
   "metadata": {},
   "source": [
    "* Folosind `SochasticGradientDescent`"
   ]
  },
  {
   "cell_type": "code",
   "execution_count": 41,
   "id": "a0670edc",
   "metadata": {},
   "outputs": [
    {
     "name": "stdout",
     "output_type": "stream",
     "text": [
      "Train accuracy: 1.0\n",
      "Test accuracy: 0.9588235294117646\n",
      "Train precision: 1.0\n",
      "Test precision: 0.9582352941176471\n",
      "Train recall: 1.0\n",
      "Test recall: 0.9647058823529411\n",
      "Train F1: 1.0\n",
      "Test F1: 0.9583683390135004\n"
     ]
    }
   ],
   "source": [
    "classifier=SGDClassifier(loss='hinge', penalty='l2')\n",
    "calculate_scores_micro(model=classifier, X=divorce_X, y=divorce_y)"
   ]
  },
  {
   "cell_type": "markdown",
   "id": "698f7bbf",
   "metadata": {},
   "source": [
    "* Folosind `RBF`"
   ]
  },
  {
   "cell_type": "code",
   "execution_count": 42,
   "id": "6539b346",
   "metadata": {},
   "outputs": [
    {
     "name": "stdout",
     "output_type": "stream",
     "text": [
      "Train accuracy: 1.0\n",
      "Test accuracy: 0.9764705882352942\n",
      "Train precision: 1.0\n",
      "Test precision: 1.0\n",
      "Train recall: 1.0\n",
      "Test recall: 0.9529411764705882\n",
      "Train F1: 1.0\n",
      "Test F1: 0.9733333333333334\n"
     ]
    }
   ],
   "source": [
    "kernel = 1.0 * RBF(1.0)\n",
    "gpc = GaussianProcessClassifier(kernel=kernel)\n",
    "calculate_scores_micro(model=gpc, X=divorce_X, y=divorce_y)"
   ]
  },
  {
   "cell_type": "markdown",
   "id": "b509f7a5",
   "metadata": {},
   "source": [
    "### Setul de date `HCV`"
   ]
  },
  {
   "cell_type": "code",
   "execution_count": 43,
   "id": "b21025f3",
   "metadata": {},
   "outputs": [
    {
     "name": "stdout",
     "output_type": "stream",
     "text": [
      "<class 'pandas.core.frame.DataFrame'>\n",
      "RangeIndex: 615 entries, 0 to 614\n",
      "Data columns (total 13 columns):\n",
      " #   Column    Non-Null Count  Dtype  \n",
      "---  ------    --------------  -----  \n",
      " 0   Category  615 non-null    object \n",
      " 1   Age       615 non-null    int64  \n",
      " 2   Sex       615 non-null    object \n",
      " 3   ALB       614 non-null    float64\n",
      " 4   ALP       597 non-null    float64\n",
      " 5   ALT       614 non-null    float64\n",
      " 6   AST       615 non-null    float64\n",
      " 7   BIL       615 non-null    float64\n",
      " 8   CHE       615 non-null    float64\n",
      " 9   CHOL      605 non-null    float64\n",
      " 10  CREA      615 non-null    float64\n",
      " 11  GGT       615 non-null    float64\n",
      " 12  PROT      614 non-null    float64\n",
      "dtypes: float64(10), int64(1), object(2)\n",
      "memory usage: 62.6+ KB\n"
     ]
    }
   ],
   "source": [
    "data_HCV = pd.read_csv('data/hcv_data.csv')\n",
    "data_HCV = data_HCV.drop('Unnamed: 0', axis=1)\n",
    "data_HCV.info()"
   ]
  },
  {
   "cell_type": "code",
   "execution_count": 44,
   "id": "947a3679",
   "metadata": {},
   "outputs": [
    {
     "name": "stdout",
     "output_type": "stream",
     "text": [
      "<class 'pandas.core.frame.DataFrame'>\n",
      "RangeIndex: 615 entries, 0 to 614\n",
      "Data columns (total 13 columns):\n",
      " #   Column    Non-Null Count  Dtype  \n",
      "---  ------    --------------  -----  \n",
      " 0   Category  615 non-null    int8   \n",
      " 1   Age       615 non-null    int64  \n",
      " 2   Sex       615 non-null    int8   \n",
      " 3   ALB       614 non-null    float64\n",
      " 4   ALP       597 non-null    float64\n",
      " 5   ALT       614 non-null    float64\n",
      " 6   AST       615 non-null    float64\n",
      " 7   BIL       615 non-null    float64\n",
      " 8   CHE       615 non-null    float64\n",
      " 9   CHOL      605 non-null    float64\n",
      " 10  CREA      615 non-null    float64\n",
      " 11  GGT       615 non-null    float64\n",
      " 12  PROT      614 non-null    float64\n",
      "dtypes: float64(10), int64(1), int8(2)\n",
      "memory usage: 54.2 KB\n"
     ]
    }
   ],
   "source": [
    "from sklearn.preprocessing import LabelEncoder\n",
    "\n",
    "labelencoder = LabelEncoder()\n",
    "\n",
    "data_HCV.Category = data_HCV.Category.astype('category')\n",
    "data_HCV.Category = data_HCV.Category.cat.codes\n",
    "data_HCV.Sex = data_HCV.Sex.astype('category')\n",
    "data_HCV.Sex = data_HCV.Sex.cat.codes\n",
    "data_HCV.info()"
   ]
  },
  {
   "cell_type": "code",
   "execution_count": 45,
   "id": "27fcad76",
   "metadata": {},
   "outputs": [
    {
     "name": "stdout",
     "output_type": "stream",
     "text": [
      "<class 'pandas.core.frame.DataFrame'>\n",
      "RangeIndex: 615 entries, 0 to 614\n",
      "Data columns (total 13 columns):\n",
      " #   Column    Non-Null Count  Dtype  \n",
      "---  ------    --------------  -----  \n",
      " 0   Category  615 non-null    int8   \n",
      " 1   Age       615 non-null    int64  \n",
      " 2   Sex       615 non-null    int8   \n",
      " 3   ALB       615 non-null    float64\n",
      " 4   ALP       615 non-null    float64\n",
      " 5   ALT       615 non-null    float64\n",
      " 6   AST       615 non-null    float64\n",
      " 7   BIL       615 non-null    float64\n",
      " 8   CHE       615 non-null    float64\n",
      " 9   CHOL      615 non-null    float64\n",
      " 10  CREA      615 non-null    float64\n",
      " 11  GGT       615 non-null    float64\n",
      " 12  PROT      615 non-null    float64\n",
      "dtypes: float64(10), int64(1), int8(2)\n",
      "memory usage: 54.2 KB\n"
     ]
    }
   ],
   "source": [
    "data_HCV = data_HCV.fillna(data_HCV.mean())\n",
    "data_HCV.info()"
   ]
  },
  {
   "cell_type": "code",
   "execution_count": 46,
   "id": "5a2fc9d5",
   "metadata": {},
   "outputs": [],
   "source": [
    "HCV_X = data_HCV.iloc[:, 1:].values\n",
    "HCV_y = data_HCV.iloc[:, 0].values"
   ]
  },
  {
   "cell_type": "code",
   "execution_count": 47,
   "id": "75737889",
   "metadata": {},
   "outputs": [
    {
     "data": {
      "text/plain": [
       "False"
      ]
     },
     "execution_count": 47,
     "metadata": {},
     "output_type": "execute_result"
    }
   ],
   "source": [
    "np.any(np.isnan(data_HCV))"
   ]
  },
  {
   "cell_type": "code",
   "execution_count": 48,
   "id": "c1ee521b",
   "metadata": {},
   "outputs": [],
   "source": [
    "import warnings\n",
    "import sklearn.exceptions\n",
    "warnings.filterwarnings(\"ignore\", category=sklearn.exceptions.UndefinedMetricWarning)"
   ]
  },
  {
   "cell_type": "code",
   "execution_count": 49,
   "id": "32121cbe",
   "metadata": {},
   "outputs": [],
   "source": [
    "def calculate_scores_macro(model, X, y):\n",
    "    scores = cross_validate(model, X, y, cv=5, scoring=['accuracy', 'precision_macro', 'recall_macro', 'f1_macro'], return_train_score=True)\n",
    "    train_accuracy = scores['train_accuracy'].mean()\n",
    "    test_accuracy = scores['test_accuracy'].mean()\n",
    "    train_precision = scores['train_precision_macro'].mean()\n",
    "    test_precision = scores['test_precision_macro'].mean()\n",
    "    train_recall = scores['train_recall_macro'].mean()\n",
    "    test_recall = scores['test_recall_macro'].mean()\n",
    "    train_f1_score = scores['train_f1_macro'].mean()\n",
    "    test_f1_score = scores['test_f1_macro'].mean()\n",
    "    print(f'Train accuracy: {train_accuracy}')\n",
    "    print(f'Test accuracy: {test_accuracy}')\n",
    "    print(f'Train precision: {train_precision}')\n",
    "    print(f'Test precision: {test_precision}')\n",
    "    print(f'Train recall: {train_recall}')\n",
    "    print(f'Test recall: {test_recall}')\n",
    "    print(f'Train F1: {train_f1_score}')\n",
    "    print(f'Test F1: {test_f1_score}')"
   ]
  },
  {
   "cell_type": "markdown",
   "id": "0ddeb4cc",
   "metadata": {},
   "source": [
    "* Folosind `KNeighborsClassifier`"
   ]
  },
  {
   "cell_type": "code",
   "execution_count": 50,
   "id": "09943323",
   "metadata": {},
   "outputs": [
    {
     "name": "stdout",
     "output_type": "stream",
     "text": [
      "Train accuracy: 0.9443089430894309\n",
      "Test accuracy: 0.9008130081300812\n",
      "Train precision: 0.8095025426719882\n",
      "Test precision: 0.524628733997155\n",
      "Train recall: 0.6235858862253356\n",
      "Test recall: 0.39649409275260095\n",
      "Train F1: 0.6855780932171947\n",
      "Test F1: 0.4394494925234267\n"
     ]
    }
   ],
   "source": [
    "model = KNeighborsClassifier(n_neighbors=3)\n",
    "calculate_scores_macro(model=model, X=HCV_X, y=HCV_y)"
   ]
  },
  {
   "cell_type": "markdown",
   "id": "bdcca20a",
   "metadata": {},
   "source": [
    "* Folosind `DecisionTreeClassifier`"
   ]
  },
  {
   "cell_type": "code",
   "execution_count": 51,
   "id": "fe35944e",
   "metadata": {},
   "outputs": [
    {
     "name": "stdout",
     "output_type": "stream",
     "text": [
      "Train accuracy: 1.0\n",
      "Test accuracy: 0.8878048780487806\n",
      "Train precision: 1.0\n",
      "Test precision: 0.48372573913368927\n",
      "Train recall: 1.0\n",
      "Test recall: 0.5243261035678599\n",
      "Train F1: 1.0\n",
      "Test F1: 0.49524932982243586\n"
     ]
    }
   ],
   "source": [
    "classifier = DecisionTreeClassifier()\n",
    "calculate_scores_macro(model=classifier, X=HCV_X, y=HCV_y)"
   ]
  },
  {
   "cell_type": "markdown",
   "id": "62dff540",
   "metadata": {},
   "source": [
    "* Folosind `SupportVectorMachines`"
   ]
  },
  {
   "cell_type": "code",
   "execution_count": 52,
   "id": "6bd7cd3b",
   "metadata": {},
   "outputs": [
    {
     "name": "stdout",
     "output_type": "stream",
     "text": [
      "Train accuracy: 1.0\n",
      "Test accuracy: 0.9764705882352942\n",
      "Train precision: 1.0\n",
      "Test precision: 0.980952380952381\n",
      "Train recall: 1.0\n",
      "Test recall: 0.9764705882352942\n",
      "Train F1: 1.0\n",
      "Test F1: 0.9761403508771931\n"
     ]
    }
   ],
   "source": [
    "classifier = SVC(kernel='linear')\n",
    "calculate_scores_macro(model=classifier, X=divorce_X, y=divorce_y)"
   ]
  },
  {
   "cell_type": "markdown",
   "id": "1409ea42",
   "metadata": {},
   "source": [
    "* Folosind `SochasticGradientDescent`"
   ]
  },
  {
   "cell_type": "code",
   "execution_count": 53,
   "id": "1a8d4e6d",
   "metadata": {},
   "outputs": [
    {
     "name": "stdout",
     "output_type": "stream",
     "text": [
      "Train accuracy: 1.0\n",
      "Test accuracy: 0.9647058823529411\n",
      "Train precision: 1.0\n",
      "Test precision: 0.9695144724556488\n",
      "Train recall: 1.0\n",
      "Test recall: 0.965032679738562\n",
      "Train F1: 1.0\n",
      "Test F1: 0.9643654591023012\n"
     ]
    }
   ],
   "source": [
    "classifier=SGDClassifier(loss='hinge', penalty='l2')\n",
    "calculate_scores_macro(model=classifier, X=divorce_X, y=divorce_y)"
   ]
  },
  {
   "cell_type": "markdown",
   "id": "e6871422",
   "metadata": {},
   "source": [
    "* Folosind `RBF`"
   ]
  },
  {
   "cell_type": "code",
   "execution_count": 54,
   "id": "720e5790",
   "metadata": {},
   "outputs": [
    {
     "name": "stdout",
     "output_type": "stream",
     "text": [
      "Train accuracy: 1.0\n",
      "Test accuracy: 0.9764705882352942\n",
      "Train precision: 1.0\n",
      "Test precision: 0.980952380952381\n",
      "Train recall: 1.0\n",
      "Test recall: 0.9764705882352942\n",
      "Train F1: 1.0\n",
      "Test F1: 0.9761403508771931\n"
     ]
    }
   ],
   "source": [
    "kernel = 1.0 * RBF(1.0)\n",
    "gpc = GaussianProcessClassifier(kernel=kernel)\n",
    "calculate_scores_macro(model=gpc, X=divorce_X, y=divorce_y)"
   ]
  },
  {
   "cell_type": "markdown",
   "id": "7b015a47",
   "metadata": {},
   "source": [
    "### Setul de date `Conventional Social Media Movies`"
   ]
  },
  {
   "cell_type": "code",
   "execution_count": 55,
   "id": "bc9f5ee7",
   "metadata": {},
   "outputs": [],
   "source": [
    "CSM_data = pd.read_excel('data/2014 and 2015 CSM dataset.xlsx', index_col=None, header=None)\n",
    "CSM_data = CSM_data.drop(0, axis=0)\n",
    "CSM_data = CSM_data.drop(0, axis=1)"
   ]
  },
  {
   "cell_type": "code",
   "execution_count": 56,
   "id": "c820156d",
   "metadata": {},
   "outputs": [
    {
     "data": {
      "text/html": [
       "<div>\n",
       "<style scoped>\n",
       "    .dataframe tbody tr th:only-of-type {\n",
       "        vertical-align: middle;\n",
       "    }\n",
       "\n",
       "    .dataframe tbody tr th {\n",
       "        vertical-align: top;\n",
       "    }\n",
       "\n",
       "    .dataframe thead th {\n",
       "        text-align: right;\n",
       "    }\n",
       "</style>\n",
       "<table border=\"1\" class=\"dataframe\">\n",
       "  <thead>\n",
       "    <tr style=\"text-align: right;\">\n",
       "      <th></th>\n",
       "      <th>1</th>\n",
       "      <th>2</th>\n",
       "      <th>3</th>\n",
       "      <th>4</th>\n",
       "      <th>5</th>\n",
       "      <th>6</th>\n",
       "      <th>7</th>\n",
       "      <th>8</th>\n",
       "      <th>9</th>\n",
       "      <th>10</th>\n",
       "      <th>11</th>\n",
       "      <th>12</th>\n",
       "      <th>13</th>\n",
       "    </tr>\n",
       "  </thead>\n",
       "  <tbody>\n",
       "    <tr>\n",
       "      <th>1</th>\n",
       "      <td>2014</td>\n",
       "      <td>6.3</td>\n",
       "      <td>8</td>\n",
       "      <td>9130</td>\n",
       "      <td>4000000</td>\n",
       "      <td>45</td>\n",
       "      <td>1</td>\n",
       "      <td>0</td>\n",
       "      <td>3280543</td>\n",
       "      <td>4632</td>\n",
       "      <td>425</td>\n",
       "      <td>636</td>\n",
       "      <td>1120000</td>\n",
       "    </tr>\n",
       "    <tr>\n",
       "      <th>2</th>\n",
       "      <td>2014</td>\n",
       "      <td>7.1</td>\n",
       "      <td>1</td>\n",
       "      <td>192000000</td>\n",
       "      <td>50000000</td>\n",
       "      <td>3306</td>\n",
       "      <td>2</td>\n",
       "      <td>2</td>\n",
       "      <td>583289</td>\n",
       "      <td>3465</td>\n",
       "      <td>61</td>\n",
       "      <td>186</td>\n",
       "      <td>12350000</td>\n",
       "    </tr>\n",
       "    <tr>\n",
       "      <th>3</th>\n",
       "      <td>2014</td>\n",
       "      <td>6.2</td>\n",
       "      <td>1</td>\n",
       "      <td>30700000</td>\n",
       "      <td>28000000</td>\n",
       "      <td>2872</td>\n",
       "      <td>1</td>\n",
       "      <td>0</td>\n",
       "      <td>304861</td>\n",
       "      <td>328</td>\n",
       "      <td>34</td>\n",
       "      <td>47</td>\n",
       "      <td>483000</td>\n",
       "    </tr>\n",
       "    <tr>\n",
       "      <th>4</th>\n",
       "      <td>2014</td>\n",
       "      <td>6.3</td>\n",
       "      <td>1</td>\n",
       "      <td>106000000</td>\n",
       "      <td>110000000</td>\n",
       "      <td>3470</td>\n",
       "      <td>2</td>\n",
       "      <td>0</td>\n",
       "      <td>452917</td>\n",
       "      <td>2429</td>\n",
       "      <td>132</td>\n",
       "      <td>590</td>\n",
       "      <td>568000</td>\n",
       "    </tr>\n",
       "    <tr>\n",
       "      <th>5</th>\n",
       "      <td>2014</td>\n",
       "      <td>4.7</td>\n",
       "      <td>8</td>\n",
       "      <td>17300000</td>\n",
       "      <td>3500000</td>\n",
       "      <td>2310</td>\n",
       "      <td>2</td>\n",
       "      <td>0</td>\n",
       "      <td>3145573</td>\n",
       "      <td>12163</td>\n",
       "      <td>610</td>\n",
       "      <td>1082</td>\n",
       "      <td>1923800</td>\n",
       "    </tr>\n",
       "  </tbody>\n",
       "</table>\n",
       "</div>"
      ],
      "text/plain": [
       "     1    2  3          4          5     6  7  8        9      10   11    12  \\\n",
       "1  2014  6.3  8       9130    4000000    45  1  0  3280543   4632  425   636   \n",
       "2  2014  7.1  1  192000000   50000000  3306  2  2   583289   3465   61   186   \n",
       "3  2014  6.2  1   30700000   28000000  2872  1  0   304861    328   34    47   \n",
       "4  2014  6.3  1  106000000  110000000  3470  2  0   452917   2429  132   590   \n",
       "5  2014  4.7  8   17300000    3500000  2310  2  0  3145573  12163  610  1082   \n",
       "\n",
       "         13  \n",
       "1   1120000  \n",
       "2  12350000  \n",
       "3    483000  \n",
       "4    568000  \n",
       "5   1923800  "
      ]
     },
     "execution_count": 56,
     "metadata": {},
     "output_type": "execute_result"
    }
   ],
   "source": [
    "CSM_data.head()"
   ]
  },
  {
   "cell_type": "code",
   "execution_count": 57,
   "id": "792e01e2",
   "metadata": {},
   "outputs": [
    {
     "name": "stdout",
     "output_type": "stream",
     "text": [
      "Iteration: 0\n",
      "Iteration: 1\n",
      "Iteration: 2\n"
     ]
    }
   ],
   "source": [
    "from missingpy import MissForest\n",
    "\n",
    "imputer = MissForest()\n",
    "CSM_data = imputer.fit_transform(CSM_data)\n",
    "assert not np.isnan(CSM_data.sum()) # verificam ca nu exista niciun nan"
   ]
  },
  {
   "cell_type": "code",
   "execution_count": 58,
   "id": "c30b95b9",
   "metadata": {},
   "outputs": [],
   "source": [
    "CSM_y = CSM_data[:, 2]\n",
    "CSM_X = CSM_data[:, [0, 1, 3, 4, 5, 6, 7, 8, 9, 10, 11, 12]]"
   ]
  },
  {
   "cell_type": "markdown",
   "id": "9855b0d6",
   "metadata": {},
   "source": [
    "Datorita diferentelor foarte mari de valori din tabel, am decis sa facem o scalare a valorilor, pentru o clasificare mai buna."
   ]
  },
  {
   "cell_type": "code",
   "execution_count": 59,
   "id": "69ee740b",
   "metadata": {},
   "outputs": [
    {
     "name": "stdout",
     "output_type": "stream",
     "text": [
      "[[0.00000000e+00 5.71428571e-01 1.03577381e-05 ... 3.04441261e-02\n",
      "  1.65784741e-02 3.60609875e-02]\n",
      " [0.00000000e+00 7.14285714e-01 2.98597617e-01 ... 4.36962751e-03\n",
      "  4.84842166e-03 3.97981252e-01]\n",
      " [0.00000000e+00 5.53571429e-01 4.77412876e-02 ... 2.43553009e-03\n",
      "  1.22513881e-03 1.55317614e-02]\n",
      " ...\n",
      " [1.00000000e+00 4.10714286e-01 1.58593611e-02 ... 2.32808023e-02\n",
      "  1.06613143e-02 6.46230728e-02]\n",
      " [1.00000000e+00 4.10714286e-01 1.91253145e-02 ... 4.79942693e-03\n",
      "  5.23942340e-03 2.61706039e-02]\n",
      " [1.00000000e+00 2.32142857e-01 3.51440386e-02 ... 3.08739255e-02\n",
      "  1.57964706e-02 7.93763808e-02]]\n"
     ]
    }
   ],
   "source": [
    "from sklearn.preprocessing import MinMaxScaler\n",
    "scaler = MinMaxScaler()\n",
    "scaler.fit(CSM_X)\n",
    "CSM_X = scaler.transform(CSM_X)\n",
    "\n",
    "print(CSM_X)"
   ]
  },
  {
   "cell_type": "code",
   "execution_count": 60,
   "id": "37aa05ca",
   "metadata": {},
   "outputs": [],
   "source": [
    "from sklearn.model_selection import ShuffleSplit\n",
    "def our_function_macro(model, X, y):\n",
    "    cv = ShuffleSplit(n_splits=10, test_size=1/3, random_state=0)\n",
    "    scores = cross_validate(model, X, y, cv=cv, scoring=['accuracy', 'precision_macro', 'recall_macro', 'f1_macro'], return_train_score=True)\n",
    "    train_accuracy = scores['train_accuracy'].mean()\n",
    "    test_accuracy = scores['test_accuracy'].mean()\n",
    "    train_precision = scores['train_precision_macro'].mean()\n",
    "    test_precision = scores['test_precision_macro'].mean()\n",
    "    train_recall = scores['train_recall_macro'].mean()\n",
    "    test_recall = scores['test_recall_macro'].mean()\n",
    "    train_f1_score = scores['train_f1_macro'].mean()\n",
    "    test_f1_score = scores['test_f1_macro'].mean()\n",
    "    print(f'Train accuracy: {train_accuracy}')\n",
    "    print(f'Test accuracy: {test_accuracy}')\n",
    "    print(f'Train precision: {train_precision}')\n",
    "    print(f'Test precision: {test_precision}')\n",
    "    print(f'Train recall: {train_recall}')\n",
    "    print(f'Test recall: {test_recall}')\n",
    "    print(f'Train F1: {train_f1_score}')\n",
    "    print(f'Test F1: {test_f1_score}')"
   ]
  },
  {
   "cell_type": "markdown",
   "id": "c84deed2",
   "metadata": {},
   "source": [
    "* Folosind `KNeighborsClassifier`"
   ]
  },
  {
   "cell_type": "code",
   "execution_count": 61,
   "id": "c6bdac65",
   "metadata": {},
   "outputs": [
    {
     "name": "stdout",
     "output_type": "stream",
     "text": [
      "Train accuracy: 0.5097414806110457\n",
      "Test accuracy: 0.24625346901017578\n",
      "Train precision: 0.39475357135152184\n",
      "Test precision: 0.07329378958706512\n",
      "Train recall: 0.2561300171902709\n",
      "Test recall: 0.10624363291029956\n",
      "Train F1: 0.25639528387079125\n",
      "Test F1: 0.08214560645018162\n"
     ]
    },
    {
     "name": "stderr",
     "output_type": "stream",
     "text": [
      "C:\\Users\\Laur\\anaconda3\\envs\\IntroducereInDataScience\\lib\\site-packages\\sklearn\\model_selection\\_split.py:666: UserWarning: The least populated class in y has only 1 members, which is less than n_splits=5.\n",
      "  warnings.warn((\"The least populated class in y has only %d\"\n"
     ]
    }
   ],
   "source": [
    "model = KNeighborsClassifier(n_neighbors=5)\n",
    "# our_function_macro(model=model, X=CSM_X, y=CSM_y)\n",
    "calculate_scores_macro(model=model, X=CSM_X, y=CSM_y)"
   ]
  },
  {
   "cell_type": "markdown",
   "id": "8887a2fb",
   "metadata": {},
   "source": [
    "* Folosind `DecisionTreeClassifier`"
   ]
  },
  {
   "cell_type": "code",
   "execution_count": 62,
   "id": "bd3d2543",
   "metadata": {},
   "outputs": [
    {
     "name": "stdout",
     "output_type": "stream",
     "text": [
      "Train accuracy: 1.0\n",
      "Test accuracy: 0.21618871415356153\n",
      "Train precision: 1.0\n",
      "Test precision: 0.11273689922812728\n",
      "Train recall: 1.0\n",
      "Test recall: 0.13145730812397477\n",
      "Train F1: 1.0\n",
      "Test F1: 0.11633435373841738\n"
     ]
    },
    {
     "name": "stderr",
     "output_type": "stream",
     "text": [
      "C:\\Users\\Laur\\anaconda3\\envs\\IntroducereInDataScience\\lib\\site-packages\\sklearn\\model_selection\\_split.py:666: UserWarning: The least populated class in y has only 1 members, which is less than n_splits=5.\n",
      "  warnings.warn((\"The least populated class in y has only %d\"\n"
     ]
    }
   ],
   "source": [
    "classifier = DecisionTreeClassifier()\n",
    "# our_function_macro(model=classifier, X=CSM_X, y=CSM_y)\n",
    "calculate_scores_macro(model=classifier, X=CSM_X, y=CSM_y)"
   ]
  },
  {
   "cell_type": "markdown",
   "id": "4d971fc3",
   "metadata": {},
   "source": [
    "* Folosind `SupportVectorMachines`"
   ]
  },
  {
   "cell_type": "code",
   "execution_count": 63,
   "id": "52de52e8",
   "metadata": {},
   "outputs": [
    {
     "name": "stdout",
     "output_type": "stream",
     "text": [
      "Train accuracy: 0.4274853113983549\n",
      "Test accuracy: 0.346068455134135\n",
      "Train precision: 0.119735259740762\n",
      "Test precision: 0.11725339919847928\n",
      "Train recall: 0.16509945641023865\n",
      "Test recall: 0.15703358370025036\n",
      "Train F1: 0.13483556536510283\n",
      "Test F1: 0.11100186587259989\n"
     ]
    },
    {
     "name": "stderr",
     "output_type": "stream",
     "text": [
      "C:\\Users\\Laur\\anaconda3\\envs\\IntroducereInDataScience\\lib\\site-packages\\sklearn\\model_selection\\_split.py:666: UserWarning: The least populated class in y has only 1 members, which is less than n_splits=5.\n",
      "  warnings.warn((\"The least populated class in y has only %d\"\n"
     ]
    }
   ],
   "source": [
    "classifier = SVC()\n",
    "# our_function_macro(model=classifier, X=CSM_X, y=CSM_y)\n",
    "calculate_scores_macro(model=classifier, X=CSM_X, y=CSM_y)"
   ]
  },
  {
   "cell_type": "markdown",
   "id": "833549f9",
   "metadata": {},
   "source": [
    "* Folosind `SochasticGradientDescent`"
   ]
  },
  {
   "cell_type": "code",
   "execution_count": 64,
   "id": "712ab660",
   "metadata": {},
   "outputs": [
    {
     "name": "stdout",
     "output_type": "stream",
     "text": [
      "Train accuracy: 0.33981198589894246\n",
      "Test accuracy: 0.2639222941720629\n",
      "Train precision: 0.23820139569532492\n",
      "Test precision: 0.09633051087398914\n",
      "Train recall: 0.2192612297834285\n",
      "Test recall: 0.1303824570491237\n",
      "Train F1: 0.18025050526314007\n",
      "Test F1: 0.08858378591973569\n"
     ]
    },
    {
     "name": "stderr",
     "output_type": "stream",
     "text": [
      "C:\\Users\\Laur\\anaconda3\\envs\\IntroducereInDataScience\\lib\\site-packages\\sklearn\\model_selection\\_split.py:666: UserWarning: The least populated class in y has only 1 members, which is less than n_splits=5.\n",
      "  warnings.warn((\"The least populated class in y has only %d\"\n"
     ]
    }
   ],
   "source": [
    "classifier=SGDClassifier(loss='hinge', penalty='l2')\n",
    "# our_function_macro(model=classifier, X=CSM_X, y=CSM_y)\n",
    "calculate_scores_macro(model=classifier, X=CSM_X, y=CSM_y)"
   ]
  },
  {
   "cell_type": "markdown",
   "id": "19a1f774",
   "metadata": {},
   "source": [
    "* Folosind `RBF`"
   ]
  },
  {
   "cell_type": "code",
   "execution_count": 65,
   "id": "6e07dab8",
   "metadata": {},
   "outputs": [
    {
     "name": "stderr",
     "output_type": "stream",
     "text": [
      "C:\\Users\\Laur\\anaconda3\\envs\\IntroducereInDataScience\\lib\\site-packages\\sklearn\\model_selection\\_split.py:666: UserWarning: The least populated class in y has only 1 members, which is less than n_splits=5.\n",
      "  warnings.warn((\"The least populated class in y has only %d\"\n"
     ]
    },
    {
     "name": "stdout",
     "output_type": "stream",
     "text": [
      "Train accuracy: 0.4296122209165688\n",
      "Test accuracy: 0.3548566142460684\n",
      "Train precision: 0.19290913952430758\n",
      "Test precision: 0.13321297314847366\n",
      "Train recall: 0.1967449574532027\n",
      "Test recall: 0.17956660623327292\n",
      "Train F1: 0.18034240388781547\n",
      "Test F1: 0.1375211010093026\n"
     ]
    }
   ],
   "source": [
    "kernel = 1.0 * RBF(length_scale=1.0, length_scale_bounds=(1e-1, 1e10))\n",
    "gpc = GaussianProcessClassifier(kernel=kernel)\n",
    "# our_function_macro(model=gpc, X=CSM_X, y=CSM_y)\n",
    "calculate_scores_macro(model=gpc, X=CSM_X, y=CSM_y)"
   ]
  },
  {
   "cell_type": "markdown",
   "id": "e2a72adc",
   "metadata": {},
   "source": [
    "## Subpunctul 3\n",
    "3. Raportati performanta fiecarui model, folosind 5 fold cross validation. Pentru fiecare din cele 5 rulari, cautati hiperparametrii optimi folosind 4-fold cross validation. Performanta modelului va fi raportata ca medie a celor  5 rulari. \n",
    "    \n",
    "    *Observatie:* la fiecare din cele 5 rulari, hiperparametrii optimi pot diferi, din cauza datelor utilizate pentru antrenare/validare. "
   ]
  },
  {
   "cell_type": "markdown",
   "id": "5ce35a69",
   "metadata": {},
   "source": [
    "### Setul de date `Planning Relax`"
   ]
  },
  {
   "cell_type": "markdown",
   "id": "dcc56b64",
   "metadata": {},
   "source": [
    "* Folosind `KNeighborsClassifier`"
   ]
  },
  {
   "cell_type": "code",
   "execution_count": 60,
   "id": "d2d6a36c",
   "metadata": {},
   "outputs": [],
   "source": [
    "def mean_score_for_model_K(k:int, X, y) -> float:\n",
    "    \"\"\"Creates and train a KNeighborclassifier with number of neighbors given by :param k:\n",
    "    :param k: number of neighbors\n",
    "    :return: mean of scores over 10 fold CV\n",
    "    \"\"\"\n",
    "    model = KNeighborsClassifier(n_neighbors=k)\n",
    "    scores = cross_val_score(model, X, y, cv=5, scoring='accuracy')\n",
    "    return scores.mean()\n",
    "\n",
    "range_k = range(1, 35)\n"
   ]
  },
  {
   "cell_type": "code",
   "execution_count": 61,
   "id": "146d8839",
   "metadata": {},
   "outputs": [],
   "source": [
    "pr_data = pd.read_csv(\"data/planning_relax_data_set.txt\", delimiter=\"\\t\", header=None)\n",
    "pr_data = pr_data.drop(13, axis=1)\n",
    "pr_X = pr_data.iloc[:, :-1].values\n",
    "pr_y = pr_data.iloc[:, -1].values"
   ]
  },
  {
   "cell_type": "code",
   "execution_count": 63,
   "id": "2fea17ec",
   "metadata": {},
   "outputs": [
    {
     "name": "stdout",
     "output_type": "stream",
     "text": [
      "{'fit_time': array([0.00099778, 0.00099421, 0.        , 0.0009985 , 0.        ]), 'score_time': array([0.00099659, 0.00099921, 0.00199485, 0.0009973 , 0.00199318]), 'test_score': array([0.7027027 , 0.7027027 , 0.72222222, 0.72222222, 0.72222222]), 'train_score': array([0.70344828, 0.71724138, 0.71232877, 0.69178082, 0.70547945])}\n"
     ]
    }
   ],
   "source": [
    "from sklearn.model_selection import cross_validate\n",
    "\n",
    "scores_k = [mean_score_for_model_K(k, pr_X, pr_y) for k in range_k]\n",
    "hyp_param = 1+np.argmax(scores_k)\n",
    "\n",
    "model = KNeighborsClassifier(n_neighbors=hyp_param)\n",
    "\n",
    "results = cross_validate(model, pr_X, pr_y, cv=5, scoring='accuracy', return_train_score=True)\n",
    "print(results)"
   ]
  },
  {
   "cell_type": "markdown",
   "id": "3c269002",
   "metadata": {},
   "source": [
    "* Folosind `DecisionTreeClassifier`"
   ]
  },
  {
   "cell_type": "code",
   "execution_count": null,
   "id": "ef4beb3b",
   "metadata": {},
   "outputs": [],
   "source": [
    "def mean_score_for_model_DTC(k:int, X, y) -> float:\n",
    "    \"\"\"Creates and train a KNeighborclassifier with number of neighbors given by :param k:\n",
    "    :param k: number of neighbors\n",
    "    :return: mean of scores over 10 fold CV\n",
    "    \"\"\"\n",
    "    model = KNeighborsClassifier(n_neighbors=k)\n",
    "    scores = cross_val_score(model, X, y, cv=5, scoring='accuracy')\n",
    "    return scores.mean()"
   ]
  },
  {
   "cell_type": "code",
   "execution_count": null,
   "id": "c07632d5",
   "metadata": {},
   "outputs": [],
   "source": [
    "\n",
    "our_function_macro(model=classifier, X=CSM_X, y=CSM_y)\n",
    "\n",
    "scores_k = [mean_score_for_model_K(k, pr_X, pr_y) for k in range_k]\n",
    "hyp_param = 1+np.argmax(scores_k)\n",
    "\n",
    "model = DecisionTreeClassifier(n_neighbors=hyp_param)\n",
    "\n",
    "results = cross_validate(model, pr_X, pr_y, cv=hyp_param, scoring='accuracy', return_train_score=True)\n",
    "print(results)"
   ]
  },
  {
   "cell_type": "code",
   "execution_count": null,
   "id": "e61c95ed",
   "metadata": {},
   "outputs": [],
   "source": []
  },
  {
   "cell_type": "code",
   "execution_count": null,
   "id": "94b50b0f",
   "metadata": {},
   "outputs": [],
   "source": []
  },
  {
   "cell_type": "code",
   "execution_count": null,
   "id": "53d5881a",
   "metadata": {},
   "outputs": [],
   "source": []
  },
  {
   "cell_type": "code",
   "execution_count": null,
   "id": "9c6d5796",
   "metadata": {},
   "outputs": [],
   "source": []
  },
  {
   "cell_type": "code",
   "execution_count": null,
   "id": "5fc1eaf9",
   "metadata": {},
   "outputs": [],
   "source": []
  },
  {
   "cell_type": "code",
   "execution_count": null,
   "id": "b64bafc6",
   "metadata": {},
   "outputs": [],
   "source": []
  },
  {
   "cell_type": "code",
   "execution_count": null,
   "id": "62390ac9",
   "metadata": {},
   "outputs": [],
   "source": []
  },
  {
   "cell_type": "code",
   "execution_count": null,
   "id": "80be3768",
   "metadata": {},
   "outputs": [],
   "source": []
  },
  {
   "cell_type": "code",
   "execution_count": 168,
   "id": "c942de3f",
   "metadata": {},
   "outputs": [
    {
     "name": "stdout",
     "output_type": "stream",
     "text": [
      "\n",
      "Iteration  0\n",
      "\tBest score: 0.725438596491228\n",
      "\tBest params: {'n_neighbors': 2, 'p': 3}\n",
      "\tAccuracy on whole set: 0.8021978021978022\n",
      "\n",
      "Iteration  1\n",
      "\tBest score: 0.725438596491228\n",
      "\tBest params: {'n_neighbors': 2, 'p': 3}\n",
      "\tAccuracy on whole set: 0.8021978021978022\n",
      "\n",
      "Iteration  2\n",
      "\tBest score: 0.725438596491228\n",
      "\tBest params: {'n_neighbors': 2, 'p': 3}\n",
      "\tAccuracy on whole set: 0.8021978021978022\n",
      "\n",
      "Iteration  3\n",
      "\tBest score: 0.725438596491228\n",
      "\tBest params: {'n_neighbors': 2, 'p': 3}\n",
      "\tAccuracy on whole set: 0.8021978021978022\n",
      "\n",
      "Iteration  4\n",
      "\tBest score: 0.725438596491228\n",
      "\tBest params: {'n_neighbors': 2, 'p': 3}\n",
      "\tAccuracy on whole set: 0.8021978021978022\n",
      "Media acuratetei dupa 5 iteratii este: 0.8021978021978022\n"
     ]
    }
   ],
   "source": [
    "from sklearn.model_selection import cross_validate, cross_val_score\n",
    "from sklearn.metrics import accuracy_score\n",
    "\n",
    "medii = []\n",
    "\n",
    "for _ in range(5):\n",
    "    best_score = 0\n",
    "    for k in range(1, 31):\n",
    "        for p in [1, 2, 3, 10]:\n",
    "            model = KNeighborsClassifier(n_neighbors=k, p=p)\n",
    "            score = np.mean(cross_val_score(model, pr_X, pr_y, cv=10))\n",
    "            if score >= best_score:\n",
    "                best_score = score\n",
    "                best_params = {'n_neighbors':k, 'p':p}\n",
    "\n",
    "    print('\\nIteration ', _)\n",
    "    print('\\tBest score:', best_score)\n",
    "    print('\\tBest params:', best_params)  \n",
    "\n",
    "    model = KNeighborsClassifier(**best_params)\n",
    "    model.fit(pr_X, pr_y)\n",
    "    y_predicted = model.predict(pr_X)\n",
    "    print('\\tAccuracy on whole set:', accuracy_score(pr_y, y_predicted))\n",
    "    medii += [accuracy_score(pr_y, y_predicted)]\n",
    "\n",
    "print(f'Media acuratetei dupa 5 iteratii este: {np.mean(medii)}')"
   ]
  },
  {
   "cell_type": "code",
   "execution_count": null,
   "id": "e06b4147",
   "metadata": {},
   "outputs": [],
   "source": []
  }
 ],
 "metadata": {
  "kernelspec": {
   "display_name": "Python 3",
   "language": "python",
   "name": "python3"
  },
  "language_info": {
   "codemirror_mode": {
    "name": "ipython",
    "version": 3
   },
   "file_extension": ".py",
   "mimetype": "text/x-python",
   "name": "python",
   "nbconvert_exporter": "python",
   "pygments_lexer": "ipython3",
   "version": "3.8.8"
  },
  "toc": {
   "base_numbering": 1,
   "nav_menu": {
    "height": "236.989px",
    "width": "445px"
   },
   "number_sections": true,
   "sideBar": true,
   "skip_h1_title": false,
   "title_cell": "Table of Contents",
   "title_sidebar": "Contents",
   "toc_cell": false,
   "toc_position": {},
   "toc_section_display": true,
   "toc_window_display": false
  }
 },
 "nbformat": 4,
 "nbformat_minor": 5
}
