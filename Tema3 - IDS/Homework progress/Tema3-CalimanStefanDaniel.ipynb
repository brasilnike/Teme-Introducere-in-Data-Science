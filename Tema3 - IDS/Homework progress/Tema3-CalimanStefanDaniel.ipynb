{
 "cells": [
  {
   "cell_type": "code",
   "execution_count": null,
   "metadata": {},
   "outputs": [],
   "source": [
    "import numpy as np\n",
    "from io import StringIO\n",
    "import ipywidgets as widgets\n",
    "import matplotlib.pyplot as plt \n",
    "from IPython.display import display\n",
    "from ipywidgets import interact, interactive, fixed, interact_manual"
   ]
  },
  {
   "cell_type": "code",
   "execution_count": null,
   "metadata": {
    "scrolled": false
   },
   "outputs": [],
   "source": [
    "def on_change(change):\n",
    "    if change['type'] == 'change' and change['name'] == 'value':\n",
    "        print(\"changed to %s\" % change['new'])\n",
    "    return change.new\n",
    "\n",
    "def f(drop):\n",
    "    return drop\n",
    "\n",
    "d = np.loadtxt(\"./iris.data\",delimiter=',',usecols=range(4))\n",
    "Dropdown1 = widgets.Dropdown(\n",
    "    options=['sepal length in cm', 'sepal width in cm'],\n",
    "    \n",
    "    description='Sepal:',\n",
    "    disabled=False,\n",
    ")\n",
    "Dropdown2 = widgets.Dropdown(\n",
    "    options=['petal length in cm', 'petal width in cm'],\n",
    "    \n",
    "    description='Petal:',\n",
    "    disabled=False,\n",
    ")\n",
    "\n",
    "col1, col2, col3, col4 = np.loadtxt(\"./iris.data\", delimiter =',', usecols =(0, 1, 2, 3),  \n",
    "                                                unpack = True)\n",
    "\n",
    "Dropdown1.observe(on_change)\n",
    "Dropdown2.observe(on_change)\n",
    "plt.plot(col1,'o', label = \"line 2\") \n",
    "plt.plot(col4, 'o', label = \"line 2\")\n",
    "\n",
    "display(Dropdown1)\n",
    "display(Dropdown2)"
   ]
  },
  {
   "cell_type": "code",
   "execution_count": null,
   "metadata": {},
   "outputs": [],
   "source": []
  }
 ],
 "metadata": {
  "kernelspec": {
   "display_name": "Python 3",
   "language": "python",
   "name": "python3"
  },
  "language_info": {
   "codemirror_mode": {
    "name": "ipython",
    "version": 3
   },
   "file_extension": ".py",
   "mimetype": "text/x-python",
   "name": "python",
   "nbconvert_exporter": "python",
   "pygments_lexer": "ipython3",
   "version": "3.8.5"
  }
 },
 "nbformat": 4,
 "nbformat_minor": 4
}
