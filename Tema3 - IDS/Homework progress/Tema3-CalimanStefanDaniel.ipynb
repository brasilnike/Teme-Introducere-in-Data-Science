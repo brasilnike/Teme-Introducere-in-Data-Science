{
 "cells": [
  {
   "cell_type": "code",
   "execution_count": 2,
   "metadata": {},
   "outputs": [],
   "source": [
    "import numpy as np\n",
    "from io import StringIO\n",
    "import ipywidgets as widgets\n",
    "import matplotlib.pyplot as plt \n",
    "from IPython.display import display\n",
    "from ipywidgets import interact, interactive, fixed, interact_manual"
   ]
  },
  {
   "cell_type": "code",
   "execution_count": 8,
   "metadata": {
    "scrolled": false
   },
   "outputs": [
    {
     "data": {
      "application/vnd.jupyter.widget-view+json": {
       "model_id": "3c5db999d49e4e95a00f7cbde37481df",
       "version_major": 2,
       "version_minor": 0
      },
      "text/plain": [
       "interactive(children=(IntSlider(value=0, description='a', max=3), IntSlider(value=1, description='b', max=3), …"
      ]
     },
     "metadata": {},
     "output_type": "display_data"
    },
    {
     "data": {
      "text/plain": [
       "<function __main__.da(a=0, b=1)>"
      ]
     },
     "execution_count": 8,
     "metadata": {},
     "output_type": "execute_result"
    }
   ],
   "source": [
    "def on_change(change):\n",
    "    if change['type'] == 'change' and change['name'] == 'value':\n",
    "        print(\"changed to %s\" % change['new'])\n",
    "    return change.new\n",
    "\n",
    "def f(drop):\n",
    "    return drop\n",
    "\n",
    "def da(a=0,b=1):\n",
    "    col1, col2 = np.loadtxt(\"./iris.data\", delimiter =',', usecols =(a, b),  \n",
    "                                       unpack = True)\n",
    "    plt.plot(col1,'o', label = \"line 2\") \n",
    "    plt.plot(col2, 'o', label = \"line 2\")\n",
    "\n",
    "    display(Dropdown1)\n",
    "    display(Dropdown2)\n",
    "\n",
    "d = np.loadtxt(\"./iris.data\",delimiter=',',usecols=range(4))\n",
    "Dropdown1 = widgets.Dropdown(\n",
    "    options=['sepal length in cm', 'sepal width in cm'],\n",
    "    \n",
    "    description='Sepal:',\n",
    "    disabled=False,\n",
    ")\n",
    "Dropdown2 = widgets.Dropdown(\n",
    "    options=['petal length in cm', 'petal width in cm'],\n",
    "    \n",
    "    description='Petal:',\n",
    "    disabled=False,\n",
    ")\n",
    "\n",
    "\n",
    "Dropdown1.observe(on_change)\n",
    "\n",
    "interact(da,a=(0,3),b=(0,3))"
   ]
  },
  {
   "cell_type": "code",
   "execution_count": null,
   "metadata": {},
   "outputs": [],
   "source": []
  }
 ],
 "metadata": {
  "kernelspec": {
   "display_name": "Python 3",
   "language": "python",
   "name": "python3"
  },
  "language_info": {
   "codemirror_mode": {
    "name": "ipython",
    "version": 3
   },
   "file_extension": ".py",
   "mimetype": "text/x-python",
   "name": "python",
   "nbconvert_exporter": "python",
   "pygments_lexer": "ipython3",
   "version": "3.8.5"
  }
 },
 "nbformat": 4,
 "nbformat_minor": 4
}
