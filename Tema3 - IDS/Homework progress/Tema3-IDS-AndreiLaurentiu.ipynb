{
 "cells": [
  {
   "cell_type": "markdown",
   "id": "burning-myrtle",
   "metadata": {},
   "source": [
    "# Tema 3 - Exercitii `ipywidgets`"
   ]
  },
  {
   "cell_type": "code",
   "execution_count": 1,
   "id": "public-medication",
   "metadata": {},
   "outputs": [
    {
     "name": "stdout",
     "output_type": "stream",
     "text": [
      "IPywidgets version: 7.6.3\n",
      "NumPy version: 1.19.2\n",
      "Matplotlib version: 3.3.4\n"
     ]
    }
   ],
   "source": [
    "import ipywidgets as widgets\n",
    "print(f'IPywidgets version: {widgets.__version__}')\n",
    "\n",
    "import numpy as np\n",
    "print(f'NumPy version: {np.__version__}')\n",
    "\n",
    "import matplotlib.pyplot as plt\n",
    "import matplotlib\n",
    "print(f'Matplotlib version: {matplotlib.__version__}')"
   ]
  },
  {
   "cell_type": "code",
   "execution_count": 2,
   "id": "amber-missouri",
   "metadata": {},
   "outputs": [],
   "source": [
    "from ipywidgets import interact, interactive, fixed, interact_manual"
   ]
  },
  {
   "cell_type": "markdown",
   "id": "surprising-georgia",
   "metadata": {},
   "source": [
    "### Problema 1\n",
    "Definiti o functie polinomiala de gradul 3, $f:\\mathbb{R} \\rightarrow \\mathbb{R}$, cu coeficienti constanti prestabiliti. Aplicati algoritmul gradient descent pentru a vedea cum evolueaza cautarea minimului. Folositi minim doua controale ipywidgets: unul pentru pozitia initiala a lui $x$, altul pentru coeficientul $\\alpha>0$ cu care se inmulteste gradientul. Gradientul va fi calculat analitic de voi sau folosind biblioteca [autograd](https://github.com/HIPS/autograd). \n",
    "Modificarea facuta prin metoda gradient descent este:\n",
    "$$\n",
    "x = x - \\alpha \\cdot f'(x)\n",
    "$$\n",
    "Se vor efectua minim 10 iteratii (optional: numarul de iteratii poate fi dat printr-un control ipywidgets), se vor marca pe grafic pozitiile succesive, in mod convenabil. "
   ]
  },
  {
   "cell_type": "code",
   "execution_count": 3,
   "id": "surgical-anniversary",
   "metadata": {},
   "outputs": [
    {
     "data": {
      "application/vnd.jupyter.widget-view+json": {
       "model_id": "935db1ea62be404eae4baedd35395dc7",
       "version_major": 2,
       "version_minor": 0
      },
      "text/plain": [
       "interactive(children=(IntSlider(value=10, description='x', max=10, min=-10), FloatSlider(value=0.001, descript…"
      ]
     },
     "metadata": {},
     "output_type": "display_data"
    }
   ],
   "source": [
    "f = lambda x: 3*x**3 + (-2)*x**2 + 2*x + 3\n",
    "grad = lambda x: 9*x**2 + (-4)*x + 2\n",
    "\n",
    "xf = np.linspace(-10, 10, 100)\n",
    "yf = f(xf)\n",
    "\n",
    "def sgd_plot(xf, yf, res=None, title = 'Functia $f(x)=3x^3 -2x^2 + 2x + 3$'):\n",
    "    _, ax = plt.subplots(1, 1, figsize=(10, 5))\n",
    "    ax.plot(xf, yf)\n",
    "    if res is not None:\n",
    "        ax.plot(res, [f(x) for x in res], 'o')\n",
    "    ax.set_title(title)\n",
    "    ax.grid(axis='both')\n",
    "#     ax.axhline(y=0, color='k')\n",
    "#     ax.axvline(x=0, color='k')\n",
    "    plt.show()\n",
    "\n",
    "def sgd(x=10, alpha=0.001, epochs=10):\n",
    "    res = [x]\n",
    "    for _ in range(epochs):\n",
    "        x -= alpha * grad(x)\n",
    "        res += [x]\n",
    "    return res\n",
    "\n",
    "def gradient_descent(x=10, alpha=0.001, epochs=10) -> None:\n",
    "    res = sgd(x, alpha, epochs)\n",
    "    sgd_plot(xf, yf, res, title=f'$f(x) = 3x^3 -2x^2 + 2x + 3$, start x={x}, alpha={alpha}')\n",
    "\n",
    "interact(gradient_descent, x=(-10,10), alpha=(1e-3,5e-3,0.0001), epochs=(10,100));"
   ]
  },
  {
   "cell_type": "markdown",
   "id": "effective-maker",
   "metadata": {},
   "source": [
    "### Problema 2\n",
    "\n",
    "Generati o lista de $n=100$ de perechi de valori $\\{x_i, y_i\\}_{i=0,n-1}$ in intervalul [-20, 10), afisati aceste valori pe un grafic, impreuna cu o dreapta definita de o functie liniara $y=a \\cdot x+b$. Intr-un alt plot afisati, ca histograma, distanta dintre punctele de coordonate $(x_i, y_i)$ si punctele de intersectie ale verticalelor duse prin $x_i$ cu dreapta data, $\\hat{y}_i$. Dreapta trebuie sa fie controlabila din widgets, prin cei doi coeficienti $a$ si $b$. Constatati modificarea histogramei in functie de pozitia dreptei si afisati mean squared error: $$MSE=\\frac{1}{n} \\cdot \\sum_{i=0}^{n-1} (y_i - (a\\cdot x_i + b))^2$$.\n",
    "*Indicatii:*\n",
    "1. Pentru generare de valori distribuite uniform in intervalul [0, 1) puteti folosi functia [numpy.random.uniform](https://docs.scipy.org/doc/numpy/reference/generated/numpy.random.uniform.html) si sa faceti inmultire si adunare in mod convenabil.\n",
    "1. Puteti opta sa returnati cele $n$ puncte sub forma `vector_x`, `vector_y`."
   ]
  },
  {
   "cell_type": "code",
   "execution_count": 8,
   "id": "collaborative-victor",
   "metadata": {},
   "outputs": [
    {
     "data": {
      "application/vnd.jupyter.widget-view+json": {
       "model_id": "4093f2e7c8e8414fb304c47af42c4397",
       "version_major": 2,
       "version_minor": 0
      },
      "text/plain": [
       "interactive(children=(FloatSlider(value=1.0, description='a', max=10.0, min=-10.0), FloatSlider(value=1.0, des…"
      ]
     },
     "metadata": {},
     "output_type": "display_data"
    }
   ],
   "source": [
    "def line(a=1, b=1):\n",
    "    x_rand = np.random.uniform(-20, 10, 100)\n",
    "    y_rand = np.random.uniform(-20, 10, 100)\n",
    "    range_x = np.linspace(-20, 10, 100)\n",
    "    values_y = a * range_x + b\n",
    "    \n",
    "    predicted_y = a * x_rand + b\n",
    "    vertical_distances = y_rand - predicted_y\n",
    "#     print(f'Vertical distances: \\n {vertical_distances}')\n",
    "    print(f'Distanta verticala minima este: {min(vertical_distances)}')\n",
    "    print(f'Distanta verticala maxima este: {max(vertical_distances)}')\n",
    "    plt.figure(figsize=(10,5))\n",
    "    plt.xlabel('x')\n",
    "    plt.ylabel('y = ax + b')\n",
    "    plt.plot(range_x, values_y, 'r', x_rand, y_rand, 'o')\n",
    "    plt.grid(axis='both')\n",
    "    plt.axhline(y=0, color='k')\n",
    "    plt.axvline(x=0, color='k')\n",
    "    plt.show()\n",
    "    \n",
    "    plt.hist(vertical_distances, bins=20)\n",
    "    plt.xlabel('Vertical Distance')\n",
    "    plt.ylabel('Number of appearances')\n",
    "    plt.show()\n",
    "\n",
    "    MSE = np.square(np.subtract(y_rand,predicted_y)).mean()\n",
    "    print(f'MSE = {MSE}')\n",
    "    \n",
    "interact(line, a=(-10, 10.0), b=(-10, 10.0));"
   ]
  },
  {
   "cell_type": "markdown",
   "id": "applied-liberal",
   "metadata": {},
   "source": [
    "### Problema 3\n",
    "Incarcati fisierul `iris.data` din [setul de date iris](https://archive.ics.uci.edu/ml/datasets/iris). In functie de alegerile exprimate de un utilizator, afisati intr-un grafic 2D coloanele numerice alese (de exemplu, coloana 0 si coloana 2). Numele coloanelor se afla in fisierul iris.names.\n",
    "\n",
    "*Indicatii/optiuni*:\n",
    "* Incarcarea de date se poate face cu numpy, functia [loadtxt](https://docs.scipy.org/doc/numpy/reference/generated/numpy.loadtxt.html). Specificati faptul ca se sare peste prima linie din fisier (header). Alternativ, puteti folosi [pandas.read_csv](https://pandas.pydata.org/pandas-docs/stable/reference/api/pandas.read_csv.html).\n",
    "* Pentru cele doua alegeri puteti sa instantiati doua obiecte [Dropdown](https://ipywidgets.readthedocs.io/en/stable/examples/Widget%20List.html#Dropdown) sau [Select](https://ipywidgets.readthedocs.io/en/stable/examples/Widget%20List.html#Select)."
   ]
  },
  {
   "cell_type": "code",
   "execution_count": 68,
   "id": "fancy-smile",
   "metadata": {},
   "outputs": [
    {
     "data": {
      "application/vnd.jupyter.widget-view+json": {
       "model_id": "17cd36a577fa4984944fb82242453ad7",
       "version_major": 2,
       "version_minor": 0
      },
      "text/plain": [
       "interactive(children=(Dropdown(description='Sepal: ', options=('sepal length in cm', 'sepal width in cm'), val…"
      ]
     },
     "metadata": {},
     "output_type": "display_data"
    }
   ],
   "source": [
    "data = np.loadtxt(\"iris.data\", delimiter=',', usecols=range(4))\n",
    "\n",
    "sepal_dropdown = widgets.Dropdown(\n",
    "    options=['sepal length in cm', 'sepal width in cm'],\n",
    "    description='Sepal: ',\n",
    "    disabled=False,\n",
    ")\n",
    "petal_dropdown = widgets.Dropdown(\n",
    "    options=['petal length in cm', 'petal width in cm'],\n",
    "    description='Petal: ',\n",
    "    disabled=False,\n",
    ")\n",
    "\n",
    "def plot_it(sepal_dropdown, petal_dropdown):\n",
    "    plt.title(\"Iris Data Set\")\n",
    "    plt.xlabel('Data number')\n",
    "    plt.ylabel('Centimeters')\n",
    "    if sepal_dropdown == \"sepal length in cm\":\n",
    "        col1 = data[:, 0]\n",
    "        plt.plot(col1, 'r*', label='Sepal length in cm')\n",
    "    else:\n",
    "        col2 = data[:, 1]\n",
    "        plt.plot(col2, 'gv', label='Sepal width in cm')\n",
    "    if petal_dropdown == \"petal length in cm\":\n",
    "        col3 = data[:, 2]\n",
    "        plt.plot(col3, 'b^', label='Petal length in cm')\n",
    "    else:\n",
    "        col4 = data[:, 3]\n",
    "        plt.plot(col4, 'c+', label='Petal width in cm')\n",
    "    plt.legend()\n",
    "    \n",
    "interact(plot_it, sepal_dropdown=sepal_dropdown, petal_dropdown=petal_dropdown);"
   ]
  },
  {
   "cell_type": "markdown",
   "id": "reasonable-clear",
   "metadata": {},
   "source": [
    "### Problema 4\n",
    "Generati $n$ perechi de puncte aleatoare, folosind o functie $f:\\mathbb{R} \\rightarrow \\mathbb{R}$ de alease e voi (de exemplu: functie polinomiala + zgomot aleator adaugat). Alegeti 5 metode de interpolare din [scipy.interpolate](https://docs.scipy.org/doc/scipy/reference/interpolate.html) si reprezentati grafic valorile interpolate. Folositi controale ipywidgets cel putin pentru alegerea lui $n$ si a metodei de interpolare aleasa."
   ]
  },
  {
   "cell_type": "code",
   "execution_count": 86,
   "id": "environmental-thirty",
   "metadata": {},
   "outputs": [
    {
     "data": {
      "application/vnd.jupyter.widget-view+json": {
       "model_id": "6cfe145f3fcd4770bd948fbb1bf2a8c5",
       "version_major": 2,
       "version_minor": 0
      },
      "text/plain": [
       "interactive(children=(IntSlider(value=55, description='n', min=10), Dropdown(description='Interpolation Method…"
      ]
     },
     "metadata": {},
     "output_type": "display_data"
    }
   ],
   "source": [
    "from scipy import interpolate\n",
    "from scipy.interpolate import barycentric_interpolate, pchip_interpolate\n",
    "\n",
    "interpolation_dropdown = widgets.Dropdown(\n",
    "    options=[\"1-D Interpolation\", \"Barycentric Interpolation\", \"Pchip Interpolation\"],\n",
    "    description=\"Interpolation Method: \",\n",
    "    disabled=False,\n",
    ")\n",
    "def funct(n, interpolation_dropdown):\n",
    "    range_x = np.linspace(-10,10,n)\n",
    "    values_y = 2*range_x**3 + 2*range_x**2 - 3*range_x + 7\n",
    "    \n",
    "    plt.figure(figsize=(10,5))\n",
    "    plt.xlabel('x')\n",
    "    plt.ylabel('y = $-3x^2 + 6x -7$')\n",
    "    plt.grid(axis='both')\n",
    "    plt.axhline(y=0, color='k')\n",
    "    plt.axvline(x=0, color='k')\n",
    "    if interpolation_dropdown == '1-D Interpolation':\n",
    "        f = interpolate.interp1d(range_x, values_y)\n",
    "        xnew = np.arange(-10,10,0.5)\n",
    "        ynew = f(xnew)\n",
    "        plt.plot(range_x, values_y, 'r-', label='observation')\n",
    "        plt.plot(xnew, ynew, 'ko', label='1-D Interpolation')\n",
    "        plt.legend()\n",
    "    elif interpolation_dropdown == \"Barycentric Interpolation\":\n",
    "        x = np.linspace(min(range_x), max(range_x), num=10)\n",
    "        y = barycentric_interpolate(range_x, values_y, x)\n",
    "        plt.plot(range_x, values_y, 'r-', label=\"observation\")\n",
    "        plt.plot(x, y, 'bo', label='Barycentric Interpolation')\n",
    "        plt.legend()\n",
    "    elif interpolation_dropdown == \"Pchip Interpolation\":\n",
    "        x = np.linspace(min(range_x), max(range_x), num=10)\n",
    "        y = pchip_interpolate(range_x, values_y, x)\n",
    "        plt.plot(range_x, values_y, 'r-', label='observation')\n",
    "        plt.plot(x, y, 'go', label='pchip Interpolation')\n",
    "        plt.legend()\n",
    "\n",
    "    \n",
    "interact(funct, n=(10, 100), interpolation_dropdown=interpolation_dropdown);\n"
   ]
  },
  {
   "cell_type": "code",
   "execution_count": null,
   "id": "alternate-facial",
   "metadata": {},
   "outputs": [],
   "source": []
  }
 ],
 "metadata": {
  "kernelspec": {
   "display_name": "Python 3",
   "language": "python",
   "name": "python3"
  },
  "language_info": {
   "codemirror_mode": {
    "name": "ipython",
    "version": 3
   },
   "file_extension": ".py",
   "mimetype": "text/x-python",
   "name": "python",
   "nbconvert_exporter": "python",
   "pygments_lexer": "ipython3",
   "version": "3.8.8"
  }
 },
 "nbformat": 4,
 "nbformat_minor": 5
}
