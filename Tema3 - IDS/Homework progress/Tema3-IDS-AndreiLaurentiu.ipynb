{
 "cells": [
  {
   "cell_type": "markdown",
   "id": "burning-myrtle",
   "metadata": {},
   "source": [
    "# Tema 3 - Exercitii `ipywidgets`"
   ]
  },
  {
   "cell_type": "code",
   "execution_count": 2,
   "id": "public-medication",
   "metadata": {},
   "outputs": [
    {
     "name": "stdout",
     "output_type": "stream",
     "text": [
      "IPywidgets version: 7.6.3\n",
      "NumPy version: 1.19.2\n",
      "Matplotlib version: 3.3.4\n"
     ]
    }
   ],
   "source": [
    "import ipywidgets as widgets\n",
    "print(f'IPywidgets version: {widgets.__version__}')\n",
    "\n",
    "import numpy as np\n",
    "print(f'NumPy version: {np.__version__}')\n",
    "\n",
    "import matplotlib.pyplot as plt\n",
    "import matplotlib\n",
    "print(f'Matplotlib version: {matplotlib.__version__}')"
   ]
  },
  {
   "cell_type": "code",
   "execution_count": 3,
   "id": "amber-missouri",
   "metadata": {},
   "outputs": [],
   "source": [
    "from ipywidgets import interact, interactive, fixed, interact_manual"
   ]
  },
  {
   "cell_type": "markdown",
   "id": "surprising-georgia",
   "metadata": {},
   "source": [
    "### Problema 1\n",
    "Definiti o functie polinomiala de gradul 3, $f:\\mathbb{R} \\rightarrow \\mathbb{R}$, cu coeficienti constanti prestabiliti. Aplicati algoritmul gradient descent pentru a vedea cum evolueaza cautarea minimului. Folositi minim doua controale ipywidgets: unul pentru pozitia initiala a lui $x$, altul pentru coeficientul $\\alpha>0$ cu care se inmulteste gradientul. Gradientul va fi calculat analitic de voi sau folosind biblioteca [autograd](https://github.com/HIPS/autograd). \n",
    "Modificarea facuta prin metoda gradient descent este:\n",
    "$$\n",
    "x = x - \\alpha \\cdot f'(x)\n",
    "$$\n",
    "Se vor efectua minim 10 iteratii (optional: numarul de iteratii poate fi dat printr-un control ipywidgets), se vor marca pe grafic pozitiile succesive, in mod convenabil. "
   ]
  },
  {
   "cell_type": "code",
   "execution_count": 6,
   "id": "surgical-anniversary",
   "metadata": {},
   "outputs": [
    {
     "data": {
      "application/vnd.jupyter.widget-view+json": {
       "model_id": "baa892865ff7477b991744cc8e25a2ee",
       "version_major": 2,
       "version_minor": 0
      },
      "text/plain": [
       "interactive(children=(IntSlider(value=10, description='x', max=10, min=-10), FloatSlider(value=0.001, descript…"
      ]
     },
     "metadata": {},
     "output_type": "display_data"
    }
   ],
   "source": [
    "f = lambda x: 3*x**3 + (-2)*x**2 + 2*x + 3\n",
    "grad = lambda x: 9*x**2 + (-4)*x + 2\n",
    "\n",
    "xf = np.linspace(-10, 10, 100)\n",
    "yf = f(xf)\n",
    "\n",
    "def sgd_plot(xf, yf, res=None, title = 'Functia $f(x)=3x^3 -2x^2 + 2x + 3$'):\n",
    "    _, ax = plt.subplots(1, 1, figsize=(10, 5))\n",
    "    ax.plot(xf, yf)\n",
    "    if res is not None:\n",
    "        ax.plot(res, [f(x) for x in res], 'o')\n",
    "    ax.set_title(title)\n",
    "    ax.grid(axis='both')\n",
    "#     ax.axhline(y=0, color='k')\n",
    "#     ax.axvline(x=0, color='k')\n",
    "    plt.show()\n",
    "\n",
    "def sgd(x=10, alpha=0.001, epochs=10):\n",
    "    res = [x]\n",
    "    for _ in range(epochs):\n",
    "        x -= alpha * grad(x)\n",
    "        res += [x]\n",
    "    return res\n",
    "\n",
    "def gradient_descent(x=10, alpha=0.001, epochs=10) -> None:\n",
    "    res = sgd(x, alpha, epochs)\n",
    "    sgd_plot(xf, yf, res, title=f'$f(x) = 3x^3 -2x^2 + 2x + 3$, start x={x}, alpha={alpha}')\n",
    "\n",
    "interact(gradient_descent, x=(-10,10), alpha=(1e-3,5e-3,0.0001), epochs=(10,100));"
   ]
  },
  {
   "cell_type": "markdown",
   "id": "effective-maker",
   "metadata": {},
   "source": [
    "### Problema 2\n",
    "\n",
    "Generati o lista de $n=100$ de perechi de valori $\\{x_i, y_i\\}_{i=0,n-1}$ in intervalul [-20, 10), afisati aceste valori pe un grafic, impreuna cu o dreapta definita de o functie liniara $y=a \\cdot x+b$. Intr-un alt plot afisati, ca histograma, distanta dintre punctele de coordonate $(x_i, y_i)$ si punctele de intersectie ale verticalelor duse prin $x_i$ cu dreapta data, $\\hat{y}_i$. Dreapta trebuie sa fie controlabila din widgets, prin cei doi coeficienti $a$ si $b$. Constatati modificarea histogramei in functie de pozitia dreptei si afisati mean squared error: $$MSE=\\frac{1}{n} \\cdot \\sum_{i=0}^{n-1} (y_i - (a\\cdot x_i + b))^2$$.\n",
    "*Indicatii:*\n",
    "1. Pentru generare de valori distribuite uniform in intervalul [0, 1) puteti folosi functia [numpy.random.uniform](https://docs.scipy.org/doc/numpy/reference/generated/numpy.random.uniform.html) si sa faceti inmultire si adunare in mod convenabil.\n",
    "1. Puteti opta sa returnati cele $n$ puncte sub forma `vector_x`, `vector_y`."
   ]
  },
  {
   "cell_type": "code",
   "execution_count": 9,
   "id": "collaborative-victor",
   "metadata": {},
   "outputs": [
    {
     "data": {
      "application/vnd.jupyter.widget-view+json": {
       "model_id": "c70a213ef58340a18c244bc771847ebc",
       "version_major": 2,
       "version_minor": 0
      },
      "text/plain": [
       "interactive(children=(FloatSlider(value=1.0, description='a', max=10.0, min=-10.0), FloatSlider(value=1.0, des…"
      ]
     },
     "metadata": {},
     "output_type": "display_data"
    }
   ],
   "source": [
    "def line(a=1, b=1):\n",
    "    x_rand = np.random.uniform(-20, 10, 100)\n",
    "    y_rand = np.random.uniform(-20, 10, 100)\n",
    "    range_x = np.linspace(-20, 10, 100)\n",
    "    values_y = a * range_x + b\n",
    "    \n",
    "    vertical_distances = [values_y[i] - y_rand[i] for i in range(100)]\n",
    "#     print(f'Vertical distances: \\n {vertical_distances}')\n",
    "#     print(min(vertical_distances))\n",
    "#     print(max(vertical_distances))\n",
    "    plt.figure(figsize=(10,5))\n",
    "    plt.xlabel('x')\n",
    "    plt.ylabel('y = ax + b')\n",
    "    plt.plot(range_x, values_y, 'r', x_rand, y_rand, 'o')\n",
    "    plt.grid(axis='both')\n",
    "    plt.axhline(y=0, color='k')\n",
    "    plt.axvline(x=0, color='k')\n",
    "    plt.show()\n",
    "    \n",
    "    plt.hist(vertical_distances, bins=100)\n",
    "    plt.xlabel('Vertical Distance')\n",
    "    plt.show()\n",
    "    \n",
    "    predicted_y = a * x_rand + b\n",
    "    MSE = np.square(np.subtract(y_rand,predicted_y)).mean()\n",
    "    print(f'MSE = {MSE}')\n",
    "    \n",
    "#     sum = 0\n",
    "#     for i in range(100):\n",
    "#         sum += (y_rand[i] - values_y[i])**2\n",
    "#     mse = sum/100\n",
    "#     print(f'MSE = {mse}')\n",
    "\n",
    "interact(line, a=(-10, 10.0), b=(-10, 10.0));"
   ]
  },
  {
   "cell_type": "code",
   "execution_count": null,
   "id": "differential-steps",
   "metadata": {},
   "outputs": [],
   "source": []
  }
 ],
 "metadata": {
  "kernelspec": {
   "display_name": "Python 3",
   "language": "python",
   "name": "python3"
  },
  "language_info": {
   "codemirror_mode": {
    "name": "ipython",
    "version": 3
   },
   "file_extension": ".py",
   "mimetype": "text/x-python",
   "name": "python",
   "nbconvert_exporter": "python",
   "pygments_lexer": "ipython3",
   "version": "3.8.8"
  }
 },
 "nbformat": 4,
 "nbformat_minor": 5
}
