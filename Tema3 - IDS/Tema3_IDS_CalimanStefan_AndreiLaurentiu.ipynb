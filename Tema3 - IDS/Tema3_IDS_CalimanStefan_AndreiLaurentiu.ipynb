{
 "cells": [
  {
   "cell_type": "markdown",
   "id": "advised-public",
   "metadata": {},
   "source": [
    "# Tema 3 - Exercitii `ipywidgets`"
   ]
  },
  {
   "cell_type": "code",
   "execution_count": 1,
   "id": "distributed-taxation",
   "metadata": {},
   "outputs": [
    {
     "name": "stdout",
     "output_type": "stream",
     "text": [
      "IPywidgets version: 7.6.3\n",
      "NumPy version: 1.19.2\n",
      "Matplotlib version: 3.3.4\n"
     ]
    }
   ],
   "source": [
    "import ipywidgets as widgets\n",
    "print(f'IPywidgets version: {widgets.__version__}')\n",
    "\n",
    "import numpy as np\n",
    "print(f'NumPy version: {np.__version__}')\n",
    "\n",
    "import matplotlib.pyplot as plt\n",
    "import matplotlib\n",
    "print(f'Matplotlib version: {matplotlib.__version__}')"
   ]
  },
  {
   "cell_type": "code",
   "execution_count": 2,
   "id": "celtic-offset",
   "metadata": {},
   "outputs": [],
   "source": [
    "from ipywidgets import interact, interactive, fixed, interact_manual\n",
    "from typing import List"
   ]
  },
  {
   "cell_type": "markdown",
   "id": "crude-subsection",
   "metadata": {},
   "source": [
    "### Problema 1\n",
    "Definiti o functie polinomiala de gradul 3, $f:\\mathbb{R} \\rightarrow \\mathbb{R}$, cu coeficienti constanti prestabiliti. Aplicati algoritmul gradient descent pentru a vedea cum evolueaza cautarea minimului. Folositi minim doua controale ipywidgets: unul pentru pozitia initiala a lui $x$, altul pentru coeficientul $\\alpha>0$ cu care se inmulteste gradientul. Gradientul va fi calculat analitic de voi sau folosind biblioteca [autograd](https://github.com/HIPS/autograd). \n",
    "Modificarea facuta prin metoda gradient descent este:\n",
    "$$\n",
    "x = x - \\alpha \\cdot f'(x)\n",
    "$$\n",
    "Se vor efectua minim 10 iteratii (optional: numarul de iteratii poate fi dat printr-un control ipywidgets), se vor marca pe grafic pozitiile succesive, in mod convenabil. "
   ]
  },
  {
   "cell_type": "code",
   "execution_count": 3,
   "id": "other-admission",
   "metadata": {},
   "outputs": [
    {
     "data": {
      "application/vnd.jupyter.widget-view+json": {
       "model_id": "cd370a1efee4413095502a5de5531e84",
       "version_major": 2,
       "version_minor": 0
      },
      "text/plain": [
       "interactive(children=(IntSlider(value=10, description='x', max=10, min=-10), FloatSlider(value=0.001, descript…"
      ]
     },
     "metadata": {},
     "output_type": "display_data"
    }
   ],
   "source": [
    "f = lambda x: 3*x**3 + (-2)*x**2 + 2*x + 3\n",
    "grad = lambda x: 9*x**2 + (-4)*x + 2\n",
    "\n",
    "xf: np.ndarray = np.linspace(-10, 10, 100)\n",
    "yf: np.ndarray = f(xf)\n",
    "\n",
    "def sgd_plot(xf, yf, res=None, title = 'Functia $f(x)=3x^3 -2x^2 + 2x + 3$') -> None:\n",
    "    \"\"\"\n",
    "    Function that displays the graph\n",
    "    :param xf: an array that is the function domain(evenly spaced numbers over a specified interval)\n",
    "    :param yf: an array that is the function codomain(the set of values from f(xf))\n",
    "    :param res: specify if we want another function on the graph\n",
    "    :param title: is the title of the function\n",
    "    :returns: None\n",
    "    \"\"\"\n",
    "    _, ax = plt.subplots(1, 1, figsize=(10, 5))\n",
    "    ax.plot(xf, yf)\n",
    "    if res is not None:\n",
    "        ax.plot(res, [f(x) for x in res], 'o')\n",
    "    ax.set_title(title)\n",
    "    ax.grid(axis='both')\n",
    "    plt.show()\n",
    "\n",
    "def sgd(x:int=10, alpha:float=0.001, epochs:int=10) -> List[float]:\n",
    "    \"\"\"\n",
    "    Functions that searches for the minimum\n",
    "    :param x: int number that represents the initial position\n",
    "    :param alpha: float number that represents the scale factor from learning rate\n",
    "    :param epochs: int that represents the number of iterations\n",
    "    :param title: int number that represents the title of the function\n",
    "    :returns: list of floats that represents the t\n",
    "    \"\"\"\n",
    "    res: List[float] = [x]\n",
    "    for _ in range(epochs):\n",
    "        x -= alpha * grad(x)\n",
    "        res += [x]\n",
    "    return res\n",
    "\n",
    "def gradient_descent(x=10, alpha=0.001, epochs=10) -> None:\n",
    "    \"\"\"\n",
    "    Functions that calls the other 2 functions defined earlier. It helps us interact with the graph\n",
    "    :param x: int number that represents the initial position\n",
    "    :param alpha: float number that represents the scale factor from learning rate\n",
    "    :param epochs: int that represents the number of iterations\n",
    "    :returns: None\n",
    "    \"\"\"\n",
    "    res:List[float] = sgd(x, alpha, epochs)\n",
    "    sgd_plot(xf, yf, res, title=f'$f(x) = 3x^3 -2x^2 + 2x + 3$, start x={x}, alpha={alpha}')\n",
    "\n",
    "    \n",
    "interact(gradient_descent, x=(-10,10), alpha=(1e-3,5e-3,0.0001), epochs=(10,100));"
   ]
  },
  {
   "cell_type": "markdown",
   "id": "incomplete-idaho",
   "metadata": {},
   "source": [
    "### Problema 2\n",
    "\n",
    "Generati o lista de $n=100$ de perechi de valori $\\{x_i, y_i\\}_{i=0,n-1}$ in intervalul [-20, 10), afisati aceste valori pe un grafic, impreuna cu o dreapta definita de o functie liniara $y=a \\cdot x+b$. Intr-un alt plot afisati, ca histograma, distanta dintre punctele de coordonate $(x_i, y_i)$ si punctele de intersectie ale verticalelor duse prin $x_i$ cu dreapta data, $\\hat{y}_i$. Dreapta trebuie sa fie controlabila din widgets, prin cei doi coeficienti $a$ si $b$. Constatati modificarea histogramei in functie de pozitia dreptei si afisati mean squared error: $$MSE=\\frac{1}{n} \\cdot \\sum_{i=0}^{n-1} (y_i - (a\\cdot x_i + b))^2$$.\n",
    "*Indicatii:*\n",
    "1. Pentru generare de valori distribuite uniform in intervalul [0, 1) puteti folosi functia [numpy.random.uniform](https://docs.scipy.org/doc/numpy/reference/generated/numpy.random.uniform.html) si sa faceti inmultire si adunare in mod convenabil.\n",
    "1. Puteti opta sa returnati cele $n$ puncte sub forma `vector_x`, `vector_y`."
   ]
  },
  {
   "cell_type": "code",
   "execution_count": 4,
   "id": "coral-station",
   "metadata": {},
   "outputs": [
    {
     "data": {
      "application/vnd.jupyter.widget-view+json": {
       "model_id": "db1167d90dc44f5791e29b9778a88528",
       "version_major": 2,
       "version_minor": 0
      },
      "text/plain": [
       "interactive(children=(FloatSlider(value=1.0, description='a', max=10.0, min=-10.0), FloatSlider(value=1.0, des…"
      ]
     },
     "metadata": {},
     "output_type": "display_data"
    }
   ],
   "source": [
    "def line(a:float=1, b:float=1) -> None:\n",
    "    \"\"\"\n",
    "    Function that displays the graph, the distance between two coordinates and intersection points of verticals that goes through xi with the yi line\n",
    "    :param a: first coefficient\n",
    "    :param b: second coefficient\n",
    "    :returns: None\n",
    "    \"\"\"\n",
    "    x_rand: np.ndarray = np.random.uniform(-20, 10, 100)\n",
    "    y_rand: np.ndarray = np.random.uniform(-20, 10, 100)\n",
    "    range_x: np.ndarray = np.linspace(-20, 10, 100)\n",
    "    values_y: np.ndarray = a * range_x + b\n",
    "    \n",
    "    predicted_y: np.ndarray = a * x_rand + b\n",
    "        \n",
    "    MSE = np.square(np.subtract(y_rand,predicted_y)).mean()\n",
    "    \n",
    "    vertical_distances = np.abs(y_rand - predicted_y)\n",
    "    \n",
    "    range_dist:int = int(max(vertical_distances) - min(vertical_distances)) + 1\n",
    "    hist_bins: List[int] = [i for i in range(0, range_dist, range_dist//10+1)] + [range_dist]\n",
    "        \n",
    "    plt.figure(figsize=(10,5))\n",
    "    plt.xlabel('x')\n",
    "    plt.ylabel('y = ax + b')\n",
    "    plt.plot(range_x, values_y, 'r', x_rand, y_rand, 'o')\n",
    "    plt.grid(axis='both')\n",
    "    plt.axhline(y=0, color='k')\n",
    "    plt.axvline(x=0, color='k')\n",
    "    plt.show()\n",
    "    \n",
    "    plt.hist(vertical_distances, bins=hist_bins)\n",
    "    plt.xlabel('Vertical Distance')\n",
    "    plt.ylabel('Number of appearances')\n",
    "    plt.xlim([0, range_dist])\n",
    "    plt.xticks(np.arange(0, range_dist+1, 3))\n",
    "    plt.yticks(np.arange(0, 31, 5))\n",
    "    plt.show()\n",
    "\n",
    "    print(f'MSE = {MSE}')\n",
    "    \n",
    "interact(line, a=(-10, 10.0), b=(-10, 10.0));"
   ]
  },
  {
   "cell_type": "markdown",
   "id": "exposed-princess",
   "metadata": {},
   "source": [
    "### Problema 3\n",
    "Incarcati fisierul `iris.data` din [setul de date iris](https://archive.ics.uci.edu/ml/datasets/iris). In functie de alegerile exprimate de un utilizator, afisati intr-un grafic 2D coloanele numerice alese (de exemplu, coloana 0 si coloana 2). Numele coloanelor se afla in fisierul iris.names.\n",
    "\n",
    "*Indicatii/optiuni*:\n",
    "* Incarcarea de date se poate face cu numpy, functia [loadtxt](https://docs.scipy.org/doc/numpy/reference/generated/numpy.loadtxt.html). Specificati faptul ca se sare peste prima linie din fisier (header). Alternativ, puteti folosi [pandas.read_csv](https://pandas.pydata.org/pandas-docs/stable/reference/api/pandas.read_csv.html).\n",
    "* Pentru cele doua alegeri puteti sa instantiati doua obiecte [Dropdown](https://ipywidgets.readthedocs.io/en/stable/examples/Widget%20List.html#Dropdown) sau [Select](https://ipywidgets.readthedocs.io/en/stable/examples/Widget%20List.html#Select)."
   ]
  },
  {
   "cell_type": "code",
   "execution_count": 6,
   "id": "agreed-england",
   "metadata": {},
   "outputs": [
    {
     "data": {
      "application/vnd.jupyter.widget-view+json": {
       "model_id": "eedee0ad34d34f398df0b2e8b745965d",
       "version_major": 2,
       "version_minor": 0
      },
      "text/plain": [
       "interactive(children=(Dropdown(description='First choice: ', options=('sepal length in cm', 'sepal width in cm…"
      ]
     },
     "metadata": {},
     "output_type": "display_data"
    }
   ],
   "source": [
    "data: np.ndarray = np.loadtxt(\"iris.data\", delimiter=',', usecols=range(4))\n",
    "\n",
    "sepal_dropdown = widgets.Dropdown(\n",
    "    options = ['sepal length in cm', 'sepal width in cm', 'petal length in cm', 'petal width in cm'],\n",
    "    description = 'First choice: ',\n",
    "    value = 'sepal length in cm',\n",
    "    disabled = False,\n",
    ")\n",
    "petal_dropdown = widgets.Dropdown(\n",
    "    options = ['sepal length in cm', 'sepal width in cm', 'petal length in cm', 'petal width in cm'],\n",
    "    description = 'Second choice: ',\n",
    "    value = 'petal length in cm',\n",
    "    disabled = False,\n",
    ")\n",
    "\n",
    "def plot_it(sepal_dropdown, petal_dropdown):\n",
    "    \"\"\"\n",
    "    Function that displays the graph with a cloud of dots representing length and width of an iris flower\n",
    "    :param sepal_dropdown: a dropdown representing length/width of a sepal\n",
    "    :param petal_dropdown: a dropdown representing length/width of a petal\n",
    "    :returns: None\n",
    "    \"\"\"\n",
    "    plt.title(\"Iris Data Set\")\n",
    "    plt.xlabel('Iris-setosa                Iris-versicolor                 Iris-virginica')\n",
    "    plt.ylabel('Centimeters')\n",
    "    plt.xlim(0, data.shape[0])\n",
    "    plt.xticks(np.arange(0, data.shape[0]+1, 10))\n",
    "    \n",
    "    if sepal_dropdown == \"sepal length in cm\":\n",
    "        col: np.ndarray = data[:, 0]\n",
    "        plt.plot(col, 'r*', label='Sepal length in cm')\n",
    "    elif sepal_dropdown == 'sepal width in cm':\n",
    "        col: np.ndarray = data[:, 1]\n",
    "        plt.plot(col, 'gv', label='Sepal width in cm')\n",
    "    elif sepal_dropdown == \"petal length in cm\":\n",
    "        col: np.ndarray = data[:, 2]\n",
    "        plt.plot(col, 'b^', label='Petal length in cm')\n",
    "    else:\n",
    "        col: np.ndarray = data[:, 3]\n",
    "        plt.plot(col, 'c+', label='Petal width in cm')\n",
    "        \n",
    "    if petal_dropdown == \"sepal length in cm\":\n",
    "        col: np.ndarray = data[:, 0]\n",
    "        plt.plot(col, 'r*', label='Sepal length in cm')\n",
    "    elif petal_dropdown == 'sepal width in cm':\n",
    "        col: np.ndarray = data[:, 1]\n",
    "        plt.plot(col, 'gv', label='Sepal width in cm')\n",
    "    elif petal_dropdown == \"petal length in cm\":\n",
    "        col: np.ndarray = data[:, 2]\n",
    "        plt.plot(col, 'b^', label='Petal length in cm')\n",
    "    else:\n",
    "        col: np.ndarray = data[:, 3]\n",
    "        plt.plot(col, 'c+', label='Petal width in cm')\n",
    "    plt.legend()\n",
    "    \n",
    "interact(plot_it, sepal_dropdown=sepal_dropdown, petal_dropdown=petal_dropdown);"
   ]
  },
  {
   "cell_type": "markdown",
   "id": "actual-battlefield",
   "metadata": {},
   "source": [
    "### Problema 4\n",
    "Generati $n$ perechi de puncte aleatoare, folosind o functie $f:\\mathbb{R} \\rightarrow \\mathbb{R}$ de alease e voi (de exemplu: functie polinomiala + zgomot aleator adaugat). Alegeti 5 metode de interpolare din [scipy.interpolate](https://docs.scipy.org/doc/scipy/reference/interpolate.html) si reprezentati grafic valorile interpolate. Folositi controale ipywidgets cel putin pentru alegerea lui $n$ si a metodei de interpolare aleasa."
   ]
  },
  {
   "cell_type": "code",
   "execution_count": 9,
   "id": "unsigned-fancy",
   "metadata": {},
   "outputs": [
    {
     "data": {
      "application/vnd.jupyter.widget-view+json": {
       "model_id": "15c5d2713bba45e287faa6171b7d60d5",
       "version_major": 2,
       "version_minor": 0
      },
      "text/plain": [
       "interactive(children=(Dropdown(description='Interpolation Method: ', options=('1-D Interpolation', 'Barycentri…"
      ]
     },
     "metadata": {},
     "output_type": "display_data"
    }
   ],
   "source": [
    "from scipy import interpolate\n",
    "from scipy.interpolate import barycentric_interpolate, pchip_interpolate, krogh_interpolate, CubicSpline\n",
    "\n",
    "interpolation_dropdown = widgets.Dropdown(\n",
    "    options = [\"1-D Interpolation\", \"Barycentric Interpolation\", \"Pchip Interpolation\", \"Krogh Interpolation\", \"Cubic Spline Interpolation\"],\n",
    "    description = \"Interpolation Method: \",\n",
    "    value = '1-D Interpolation',\n",
    "    disabled = False,\n",
    ")\n",
    "def funct(interpolation_dropdown, n=50) -> None:\n",
    "    \"\"\"\n",
    "    Function that displays the graph with the result of the function\n",
    "    :param n: int that represents how many pairs we generate\n",
    "    :param interpolation_dropdown: a dropdown representing the type of interpolation\n",
    "    :returns: None\n",
    "    \"\"\"\n",
    "    range_x: np.ndarray = np.linspace(-10,10,n)\n",
    "    values_y: np.ndarray = 2*range_x**3 + 2*range_x**2 - 3*range_x + 7\n",
    "    \n",
    "    plt.figure(figsize=(10,5))\n",
    "    plt.xlabel('x')\n",
    "    plt.ylabel('y = $-3x^2 + 6x -7$')\n",
    "    plt.grid(axis='both')\n",
    "    plt.axhline(y=0, color='k')\n",
    "    plt.axvline(x=0, color='k')\n",
    "    if interpolation_dropdown == '1-D Interpolation':\n",
    "        f = interpolate.interp1d(range_x, values_y)\n",
    "        xnew: np.ndarray = np.arange(-10,10,0.5)\n",
    "        ynew: np.ndarray = f(xnew)\n",
    "        plt.plot(range_x, values_y, 'r-', label='observation')\n",
    "        plt.plot(xnew, ynew, 'bo', label='1-D Interpolation')\n",
    "        plt.legend()\n",
    "    elif interpolation_dropdown == \"Barycentric Interpolation\":\n",
    "        x: np.ndarray = np.linspace(min(range_x), max(range_x), num=10)\n",
    "        y: np.ndarray = barycentric_interpolate(range_x, values_y, x)\n",
    "        plt.plot(range_x, values_y, 'r-', label=\"observation\")\n",
    "        plt.plot(x, y, 'bo', label='Barycentric Interpolation')\n",
    "        plt.legend()\n",
    "    elif interpolation_dropdown == \"Pchip Interpolation\":\n",
    "        x: np.ndarray = np.linspace(min(range_x), max(range_x), num=10)\n",
    "        y: np.ndarray = pchip_interpolate(range_x, values_y, x)\n",
    "        plt.plot(range_x, values_y, 'r-', label='observation')\n",
    "        plt.plot(x, y, 'bo', label='pchip Interpolation')\n",
    "        plt.legend()\n",
    "    elif interpolation_dropdown == \"Krogh Interpolation\":\n",
    "        x: np.ndarray = np.linspace(min(range_x), max(range_x), num=10)\n",
    "        y: np.ndarray = krogh_interpolate(range_x, values_y, x)\n",
    "        plt.plot(range_x, values_y, 'r-', label='observation')\n",
    "        plt.plot(x, y, 'bo', label='Krogh Interpolation')\n",
    "        plt.legend()\n",
    "    else:\n",
    "        cs = CubicSpline(range_x, values_y)\n",
    "        xs: np.ndarray = np.arange(-10, 10, 0.5)\n",
    "        plt.plot(range_x, values_y, 'r-', label='observation')\n",
    "        plt.plot(xs, cs(xs), 'bo', label='Cubic Spline Interpolation')\n",
    "#         plt.plot(xs, cs(xs, 1), 'b-', label = \"First Derivative\")\n",
    "#         plt.plot(xs, cs(xs, 2), 'y-', label = \"Second Derivative\")\n",
    "#         plt.plot(xs, cs(xs, 3), 'c-', label = 'Third Derivative')\n",
    "        plt.legend()\n",
    "        \n",
    "interact(funct, n=(10, 100), interpolation_dropdown=interpolation_dropdown);\n"
   ]
  },
  {
   "cell_type": "code",
   "execution_count": null,
   "id": "certain-albert",
   "metadata": {},
   "outputs": [],
   "source": []
  }
 ],
 "metadata": {
  "kernelspec": {
   "display_name": "Python 3",
   "language": "python",
   "name": "python3"
  },
  "language_info": {
   "codemirror_mode": {
    "name": "ipython",
    "version": 3
   },
   "file_extension": ".py",
   "mimetype": "text/x-python",
   "name": "python",
   "nbconvert_exporter": "python",
   "pygments_lexer": "ipython3",
   "version": "3.8.8"
  }
 },
 "nbformat": 4,
 "nbformat_minor": 5
}
