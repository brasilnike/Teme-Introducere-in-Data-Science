{
 "cells": [
  {
   "cell_type": "markdown",
   "metadata": {},
   "source": [
    "# Problema 1"
   ]
  },
  {
   "cell_type": "code",
   "execution_count": 6,
   "metadata": {},
   "outputs": [
    {
     "name": "stdout",
     "output_type": "stream",
     "text": [
      "Expresia ceruta are valoarea:43\n"
     ]
    }
   ],
   "source": [
    "# Se da o lista de numere. Sa se afiseze diferenta dintre: suma celor mai mari 3 numere si produsulcelor mai mici 2 numere.\n",
    "# lista = [10, 3, 5, 20, -4, 9, 1] -> 43\n",
    "# lista = [0, -1, -2, -3 , -4] -> -15\n",
    "\n",
    "lista = [10, 3, 5, 20, -4, 9, 1]\n",
    "lista.sort()\n",
    "\n",
    "sum = lista[-1] + lista[-2] + lista[-3]\n",
    "prod = lista[0] * lista[1]\n",
    "\n",
    "print(f'Expresia ceruta are valoarea:{sum - prod}')"
   ]
  },
  {
   "cell_type": "markdown",
   "metadata": {},
   "source": [
    "# Problema 2"
   ]
  },
  {
   "cell_type": "code",
   "execution_count": 8,
   "metadata": {},
   "outputs": [
    {
     "name": "stdout",
     "output_type": "stream",
     "text": [
      "{'doi': 2, 'trei': 2, 'un': 1}\n"
     ]
    }
   ],
   "source": [
    "# Se da o lista de cuvinte. Sa se determine cuvintele unice (fara diferenta intre litere mici si mari) si decate ori apare fiecare.\n",
    "# Exemple:\n",
    "# ['mouse', 'and', 'branza', 'viezure', 'viezure', 'viezure', 'me', 'slow', 'mouse', 'This', 'mouse', 'out', \n",
    "# 'in', 'want','branza', 'song', 'barza', 'barza', 'barza', 'makes', 'to', 'in', 'branza', 'run', 'motion'] -> {'mouse': 3, \n",
    "# 'and': 1, 'branza':3, 'viezure': 3, 'me': 1, 'slow': 1, 'This': 1, 'out': 1, 'in': 2, 'want': 1, 'song': 1, \n",
    "# 'barza': 3, 'makes': 1, 'to': 1, 'run': 1,'motion': 1}\n",
    "# ['doi', 'doi', 'trei', 'Trei', 'un'] -> {'doi': 2, 'trei': 2, 'un': 1}\n",
    "\n",
    "dict = {}\n",
    "lista = ['doi', 'doi', 'trei', 'Trei', 'un']\n",
    "\n",
    "for word in lista:\n",
    "    try:\n",
    "        dict[word.lower()] += 1\n",
    "    except KeyError:\n",
    "        dict[word] = 1\n",
    "\n",
    "print(dict)"
   ]
  },
  {
   "cell_type": "markdown",
   "metadata": {},
   "source": [
    "# Problema 3"
   ]
  },
  {
   "cell_type": "code",
   "execution_count": 21,
   "metadata": {},
   "outputs": [
    {
     "name": "stdout",
     "output_type": "stream",
     "text": [
      "produsul maxim este: 720\n",
      "solutia = (10, 9, 8)\n"
     ]
    }
   ],
   "source": [
    "# Se da o lista de cel putin 10 numere. Care 3 numere din lista, inmultite, dau produsul maxim?\n",
    "# Exemple:\n",
    "# [10, 1, 2, 9, 7, 8, 3, 6, 4, 5] -> p_max=720, solutie=(10, 9, 8)\n",
    "# [1, -2, -3, -4, -5, 0] -> p_max=20, solutie=(1, -4, -5)\n",
    "\n",
    "lista = [10, 1, 2, 9, 7, 8, 3, 6, 4, 5]\n",
    "lista.sort()\n",
    "count = 0\n",
    "prod = 1\n",
    "for i in reversed(range(len(lista))):\n",
    "    if count == 3:\n",
    "        break\n",
    "    if lista[i] == 0:\n",
    "        continue\n",
    "    prod *= lista[i]\n",
    "    count += 1\n",
    "\n",
    "print(f'produsul maxim este: {prod}')\n",
    "print(f'solutia = {lista[-1],lista[-2],lista[-3]}')"
   ]
  },
  {
   "cell_type": "markdown",
   "metadata": {},
   "source": [
    "# Problema 4"
   ]
  },
  {
   "cell_type": "code",
   "execution_count": 17,
   "metadata": {},
   "outputs": [
    {
     "name": "stdout",
     "output_type": "stream",
     "text": [
      "3 4 5\n",
      "6 8 10\n"
     ]
    }
   ],
   "source": [
    "# Dandu-se o lista de numere si un numar n natural, 𝑛 ≥ 1 , \n",
    "# sa se determine toate tripletele a, b, c cu a < b din lista, pentru care a**n + b**n == c**n\n",
    "# Exemple:\n",
    "# lista = [12, 11, 10, 9, 8, 7, 6, 5, 4, 3, 2], n=2 -> 3 4 5; 6 8 10\n",
    "# lista = [90, 10, 20, 30, 40, 50], n=3 -> se afiseaza 'Nu exista solutie'\n",
    "\n",
    "lista = [12, 11, 10, 9, 8, 7, 6, 5, 4, 3, 2]\n",
    "n = 2\n",
    "\n",
    "lista.sort()\n",
    "printed = 0\n",
    "\n",
    "for a in range(len(lista) - 2):\n",
    "    for b in range(a, len(lista) -1):\n",
    "        for c in range(b, len(lista)):\n",
    "            if (lista[a]**n + lista[b]**n == lista[c]**n):\n",
    "                print(lista[a], lista[b], lista[c])\n",
    "                printed = printed + 1\n",
    "                \n",
    "if (printed == 0):\n",
    "    print('Nu exista solutie')"
   ]
  },
  {
   "cell_type": "markdown",
   "metadata": {},
   "source": [
    "# Problema 5"
   ]
  },
  {
   "cell_type": "code",
   "execution_count": 99,
   "metadata": {},
   "outputs": [
    {
     "name": "stdout",
     "output_type": "stream",
     "text": [
      "Traducerea in pasareasca este: pripiepetepen\n"
     ]
    }
   ],
   "source": [
    "# Dandu-se o propozitie, sa se detemine transcrierea ei in \"pasareasca\" (o vocala se transforma in vocala + 'P' + vocala\n",
    "# Sa se scrie un program care face traducerea inversa (daca stringul dat provine din pasareasca; daca nu,semnaleaza acest lucru).\n",
    "# Exemplu de traducere in pasareasca: acasa-apacapasapa, prietena-pripitepenapa.\n",
    "\n",
    "#Traducerea din romana in pasareasca \n",
    "\n",
    "sentence = \"prieten\"\n",
    "lista = list(sentence)\n",
    "\n",
    "replacements = {\n",
    "    'a':'apa',\n",
    "    'A':'Apa',\n",
    "    'e':'epe',\n",
    "    'E':'Epe',\n",
    "    'i':'ipi',\n",
    "    'I':'Ipi',\n",
    "    'o':'opo',\n",
    "    'O':'Opo',\n",
    "    'u':'upu',\n",
    "    'U':'Upu'\n",
    "}\n",
    "  \n",
    "def listToString(s):\n",
    "    str = \"\"\n",
    "    return (str.join(s))\n",
    "\n",
    "lista = [replacements.get(x, x) for x in lista]\n",
    "print(f'Traducerea in pasareasca este: {listToString(lista)}')    "
   ]
  },
  {
   "cell_type": "code",
   "execution_count": 1,
   "metadata": {},
   "outputs": [
    {
     "name": "stdout",
     "output_type": "stream",
     "text": [
      "Traducerea din pasareasca in limba romana este: prieten\n"
     ]
    }
   ],
   "source": [
    "# Traducerea inversa cu verificare daca provine din pasareasca\n",
    "\n",
    "sentence = 'pripiepetepen'\n",
    "lista = list(sentence)\n",
    "\n",
    "def listToString(s):\n",
    "    str = \"\"\n",
    "    return (str.join(s))\n",
    "\n",
    "def checkWord(s): \n",
    "    index = 0\n",
    "    while (index <= len(s)-2):\n",
    "        if (lista[index] in ('a','e','i','o','u')):\n",
    "            if (lista[index+1] != 'p' and lista[index+2] != lista[index]):\n",
    "                return False\n",
    "            else:\n",
    "                index = index+3\n",
    "        else:\n",
    "            index = index + 1\n",
    "    return True\n",
    "               \n",
    "if (checkWord(lista) == False):\n",
    "    print('Stringul nu provine din pasareasca !!')\n",
    "else:\n",
    "    for i in range(len(lista) -2):\n",
    "        try:\n",
    "            if(lista[i] in ('a','e','i','o','u')):\n",
    "                del lista[i:i+2]\n",
    "            else:\n",
    "                continue\n",
    "        except IndexError:\n",
    "            break\n",
    "    print(f'Traducerea din pasareasca in limba romana este: {listToString(lista)}')"
   ]
  },
  {
   "cell_type": "markdown",
   "metadata": {},
   "source": [
    "# Problema 6"
   ]
  },
  {
   "cell_type": "code",
   "execution_count": 59,
   "metadata": {},
   "outputs": [],
   "source": [
    "# Se da un dictionar in care cheile sunt nume de studenti, iar valorile sunt liste de carti preferate. Sa sedetermine:\n",
    "# A.Care sunt studentii care au in lista de preferinte o carte specificata?\n",
    "# B.Care sunt perechile de studenti care au aceleasi preferinte de carti (ordinea in lista de preferinte nu erelevanta)\n",
    "# C.Pentru un student dat, care sunt studentii cu care are cele mai multe carti comune in liste depreferinte; \n",
    "# daca sunt mai multi astfel de studenti cei mai apropiati, se vor enumera toti.\n",
    "# D.Pentru doi studenti, A si B, care e lista de stergeri si adaugari prin care lista lui A \n",
    "# devine identica culista lui B (ordinea in lista nefiind importanta)\n",
    "# E.Toate perechile de studenti A, B pentru care lista de preferinte a lui A este inclusa in (dar nu coincide cu) \n",
    "# lista de preferinte a lui B."
   ]
  },
  {
   "cell_type": "markdown",
   "metadata": {},
   "source": [
    "# Problema 7"
   ]
  },
  {
   "cell_type": "code",
   "execution_count": 42,
   "metadata": {},
   "outputs": [
    {
     "name": "stdout",
     "output_type": "stream",
     "text": [
      "La ora 13 sunt disponibili: \n",
      "\tPopescu\n",
      "\tIonescu\n",
      "La ora 13.30 sunt disponibili: \n",
      "\tPopescu\n",
      "\tIonescu\n",
      "La ora 16 sunt disponibili: \n",
      "\tPopescu\n",
      "\tIonescu\n",
      "La ora 17 sunt disponibili: \n",
      "\tPopescu\n",
      "\tIonescu\n",
      "La ora 15 sunt disponibili: \n",
      "\tIonescu\n",
      "\tMaximilian\n"
     ]
    }
   ],
   "source": [
    "# Se da un dictionar cu persoane, si pentru fiecare persoana o lista de intervale de timp dedisponibilitate. \n",
    "# O disponibilitate incepe la o anumita ora fixa (ex: 17) sau ora fixa+30 de minute si dureazaexact 30 de minute. \n",
    "# Sa se determine toate intervalele in care toate persoanele sunt disponibile. Daca nu exista niciun astfel de interval, \n",
    "# atunci sa se determine care sunt intervalele de timp in care numarul maxim de persoane poate participa. \n",
    "# Daca sunt mai multe intervale pentru acest numar maxim de persoane, se vor da toate solutiile.\n",
    "# In fiecare caz se da lista de persoane participante si intervalele orare.\n",
    "\n",
    "doodle = {\n",
    "    \"Popescu\": [\"13\", \"13.30\", \"16\", \"17\"],\n",
    "    \"Ionescu\": [\"13\", \"13.30\", \"16\", \"17\", \"17.30\", \"11\", \"15\"],\n",
    "    \"Maximilian\": [\"14\", \"14.30\", \"15\", \"15.30\", \"16.30\", \"19\", \"19.30\"]\n",
    "}\n",
    "lista = []\n",
    "name_count = 0\n",
    "for nume in doodle:\n",
    "    lista += doodle[nume]\n",
    "    name_count = name_count + 1\n",
    "\n",
    "counter_dict = {}\n",
    "for time in lista:\n",
    "    try:\n",
    "        counter_dict[time] += 1\n",
    "    except KeyError:\n",
    "        counter_dict[time] = 1\n",
    "        \n",
    "def getMaximumValue(d):\n",
    "    max_val = -999999999\n",
    "    for interval in d:\n",
    "        if (d[interval] > max_val):\n",
    "            max_val = d[interval]\n",
    "    return max_val\n",
    "\n",
    "max_Value = getMaximumValue(counter_dict)\n",
    "\n",
    "if (max_Value == name_count):\n",
    "    for interval in counter_dict:\n",
    "        if (counter_dict[interval] == name_count):\n",
    "            print(\"Toate cele \" + str(name_count) + \" persoane sunt disponibile la ora: \" + str(interval))\n",
    "else:\n",
    "    temp_list=[]\n",
    "    for interval in counter_dict:\n",
    "        if(counter_dict[interval] == max_Value):\n",
    "            temp_list.append(interval)\n",
    "    for interval in temp_list:\n",
    "        print(\"La ora \" + str(interval)+ \" sunt disponibili: \")\n",
    "        for nume in doodle:\n",
    "            if (interval in doodle[nume]):\n",
    "                print('\\t' + nume)"
   ]
  },
  {
   "cell_type": "markdown",
   "metadata": {},
   "source": [
    "# Problema 8 "
   ]
  },
  {
   "cell_type": "code",
   "execution_count": 25,
   "metadata": {},
   "outputs": [
    {
     "name": "stdout",
     "output_type": "stream",
     "text": [
      "Punctul A:\n",
      "Salariul minim din lista este: 2000\n",
      "Salariul maxim din lista este: 4500\n",
      "Salariul mediu din lista este: 3166.6666666666665\n",
      "\n",
      "\n",
      "Punctul B:\n",
      "Persoanele care au varsta cuprinsa intre: 25 si 50 ani sunt: \n",
      "\tPopescu\n",
      "\tIrimia\n",
      "\n",
      "\n",
      "Punctul C:\n",
      "Animalul cu cele mai multe preferinte este: \n",
      "\tcaine\n",
      "\n",
      "\n",
      "Punctul D:\n",
      "Numarul de persoane de genul feminin este: 1\n",
      "Numarul de persoane de genul masculin este: 2\n"
     ]
    }
   ],
   "source": [
    "# Se da o lista de dictionare de forma:\n",
    "# [ {\n",
    "# \"nume\"\n",
    "# :\n",
    "# \"Popescu\"\n",
    "# ,\n",
    "# \"gen\"\n",
    "# :\n",
    "# feminin\n",
    "# ,\n",
    "# \"varsta\"\n",
    "# :\n",
    "# 30\n",
    "# ,\n",
    "# \"salariu\"\n",
    "# :\n",
    "# 2000\n",
    "# ,\n",
    "# \"animal preferat\"\n",
    "# :\n",
    "# \"pisica\"\n",
    "# , }, {\n",
    "# \"nume\"\n",
    "# :\n",
    "# \"Irimia\"\n",
    "# ,\n",
    "# \"varsta\"\n",
    "# :\n",
    "# 40\n",
    "# ,\n",
    "# \"gen\"\n",
    "# :\n",
    "# \"masculin\"\n",
    "# \"salariu\"\n",
    "# :\n",
    "# 3000\n",
    "# ,\n",
    "# \"animal preferat\"\n",
    "# :\n",
    "# \"caine\"\n",
    "# },\n",
    "# ]\n",
    "\n",
    "# Sa se determine:\n",
    "# A.salariul mediu, minim si maxim\n",
    "# B.cei care au varsta intr-un anumit interval dat [a, b]\n",
    "# C.care este animalul cu cele mai multe preferinte. Daca sunt mai multe astfel e animale, atunci se vor datoate\n",
    "# D.cate persoane de gen feminin si respectiv masculin sunt in lista\n",
    "\n",
    "dict_list = [\n",
    "    {\"nume\": \"Popescu\",\n",
    "    \"gen\": \"feminin\",\n",
    "    \"varsta\": 30,\n",
    "    \"salariu\": 2000,\n",
    "    \"animal preferat\": \"pisica\"\n",
    "    },\n",
    "    {\"nume\": \"Irimia\",\n",
    "    \"gen\": \"masculin\",\n",
    "    \"varsta\": 40,\n",
    "    \"salariu\": 3000,\n",
    "    \"animal preferat\": \"caine\"\n",
    "    },\n",
    "    {\"nume\": \"Maximilian\",\n",
    "    \"gen\": \"masculin\",\n",
    "    \"varsta\": 55,\n",
    "    \"salariu\": 4500,\n",
    "    \"animal preferat\": \"caine\"\n",
    "    }\n",
    "]\n",
    "\n",
    "def punctulA(l):\n",
    "    salariu_min = 99999999\n",
    "    salariu_max = -99999999\n",
    "    salariu_mediu = 0\n",
    "    \n",
    "    for element in l:\n",
    "        for atribute in element:\n",
    "            if (atribute == \"salariu\"):\n",
    "                if (element[atribute] < salariu_min):\n",
    "                    salariu_min = element[atribute]\n",
    "                if (element[atribute] > salariu_max):\n",
    "                    salariu_max = element[atribute]\n",
    "                salariu_mediu += element[atribute]\n",
    "    salariu_mediu = salariu_mediu / len(l)\n",
    "    \n",
    "    print(f'Salariul minim din lista este: {salariu_min}')\n",
    "    print(f'Salariul maxim din lista este: {salariu_max}')\n",
    "    print(f'Salariul mediu din lista este: {salariu_mediu}')\n",
    "    \n",
    "def punctulB(l):\n",
    "    a = 25\n",
    "    b = 50\n",
    "    print(\"Persoanele care au varsta cuprinsa intre: \" + str(a) + \" si \" + str(b) + \" ani sunt: \")\n",
    "    for element in l:\n",
    "        for atribute in element:\n",
    "            if (atribute == \"varsta\"):\n",
    "                if (element[atribute] > a and element[atribute] < b):\n",
    "                    print('\\t' + element[\"nume\"])\n",
    "                    \n",
    "def punctulC(l):\n",
    "    print(\"Animalul cu cele mai multe preferinte este: \")\n",
    "    count_dict = {}\n",
    "    for element in l:\n",
    "        for atribute in element:\n",
    "            if (atribute == \"animal preferat\"):\n",
    "                try:\n",
    "                    count_dict[element[atribute]] += 1\n",
    "                except KeyError:\n",
    "                    count_dict[element[atribute]] = 1\n",
    "                    \n",
    "    max_element = -999999999\n",
    "    for element in count_dict:\n",
    "        if (count_dict[element] > max_element):\n",
    "            max_element = count_dict[element]\n",
    "\n",
    "    for nume in count_dict:\n",
    "        if (max_element == count_dict[nume]):           \n",
    "            print('\\t' + nume)\n",
    "\n",
    "def punctulD(l):\n",
    "    count_dict = {}\n",
    "    for element in l:\n",
    "        for atribute in element:\n",
    "            if (atribute == \"gen\"):\n",
    "                try:\n",
    "                    count_dict[element[atribute]] += 1\n",
    "                except:\n",
    "                    count_dict[element[atribute]] = 1\n",
    "    for nume in count_dict:\n",
    "        print(\"Numarul de persoane de genul \" + nume + \" este: \" + str(count_dict[nume]))\n",
    "\n",
    "print(\"Punctul A:\")\n",
    "punctulA(dict_list)\n",
    "print(\"\\n\\nPunctul B:\")\n",
    "punctulB(dict_list)\n",
    "print(\"\\n\\nPunctul C:\")\n",
    "punctulC(dict_list)\n",
    "print(\"\\n\\nPunctul D:\")\n",
    "punctulD(dict_list)"
   ]
  },
  {
   "cell_type": "code",
   "execution_count": null,
   "metadata": {},
   "outputs": [],
   "source": []
  }
 ],
 "metadata": {
  "kernelspec": {
   "display_name": "Python 3",
   "language": "python",
   "name": "python3"
  },
  "language_info": {
   "codemirror_mode": {
    "name": "ipython",
    "version": 3
   },
   "file_extension": ".py",
   "mimetype": "text/x-python",
   "name": "python",
   "nbconvert_exporter": "python",
   "pygments_lexer": "ipython3",
   "version": "3.8.5"
  }
 },
 "nbformat": 4,
 "nbformat_minor": 4
}
