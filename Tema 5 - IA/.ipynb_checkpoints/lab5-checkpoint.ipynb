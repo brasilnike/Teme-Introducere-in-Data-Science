{
 "cells": [
  {
   "cell_type": "code",
   "execution_count": 17,
   "metadata": {},
   "outputs": [],
   "source": [
    "import numpy as np\n",
    "import pandas as pd\n",
    "import matplotlib.pyplot as plt\n",
    "\n",
    "plt.rc('font', **{'size' : 18})"
   ]
  },
  {
   "attachments": {
    "MLP.png": {
     "image/png": "[encoded data removed]"
    }
   },
   "cell_type": "markdown",
   "metadata": {},
   "source": [
    "# Perceptronul multi-strat / Multi-Layer Perceptron (MLP)\n",
    "\n",
    "## 1. Topologia reţelei\n",
    "\n",
    "învăţarea se bazează tot pe ajustarea ponderilor în direcţia dată de gradientului negativ. De data aceasta funcţia de optimizat va avea ca argumente ponderie straturilor succesive. Vom pleca de la modelul reţelei pentru a da forma funcţiei de cost, care, vom vedea, poate fi privită ca o compunere de funcţii.\n",
    "\n",
    "O reţea fully connected cu două straturi poate arăta, schematic, în felul următor:\n",
    "\n",
    "![MLP.png](attachment:MLP.png)\n",
    "\n",
    "Primul strat, cel al intrărilor, este stratul $I$. Intrările vin dim matricea $X$ a sample-urilor, care are dimensiunea $(m, n)$. Primul set de ponderi este $w_{JI}$ (remarcaţi vă rog notaţia inversată). Acesta este conectat la stratul ascuns (hidden) $J$, cu activările $a_J$. Acestea se propagă prin ponderile $w_{KJ}$ către ultimul strat $K$.\n",
    "\n",
    "Vom folosi $I$, $J$ şi $K$ atât pentru a referi primul, cel ascuns respectiv ultimul strat, cât şi pentru a le da o dimensiune. În exemplul considerat, pentru învăţarea setului MNIST cu 10 clase de digiţi, $I = 28 * 28 = 784$, dat de dimensiunea imaginii, $J=100$ (ales) iar $K=10$, dat de cele 10 clase de ieşire. Dimensiunea stratului ascuns ($J=100$) poate fi modificată; o dimensiune prea mică duce la performanţe slabe, în vreme ce o dimensiune prea mare îngreunează şi mai mult calculul (ar fi bine sa aveţi la dispoziţie minim 2GB RAM liberi).\n",
    "\n",
    "Notând cu $a$ activările calculate şi cu $f(\\cdot)$ funcţiile de activare (vor fi tanh respectiv softmax pentru ultimul strat), procesul de propagare înainte (forward propagation) poate fi scris concis sub forma următoare:\n",
    "\n",
    "$a_I = X$\n",
    "\n",
    "$a_J = f(z_J) = f(w_{JI} \\cdot a_I + b_{JI})$\n",
    "\n",
    "$a_K = f(z_K) = f(w_{KJ} \\cdot a_J + b_{KJ})$\n",
    "\n",
    "Folosim notaţia:\n",
    "\n",
    "$net_K = z_K = w_{KJ} \\cdot a_J$ \n",
    "\n",
    "pentru calcularea produselor scalare dintre liniile lui $w_{KJ}$ şi vectorul linie $a_J$; în realitate va fi o înmulţire de matrici. \n",
    "\n",
    "Activările $a_I$ şi $a_J$ vor fi de fapt matrici; $a_I$ ştim deja că este matricea $X$ de dimensiune $(m, n)$, unde $m=20$ va fi dimensiunea batch-ului iar $n = I = 28 * 28 = 784$; $a_J$ de dimensiune $(m, J) = (20, 100)$ iar $a_K$ de dimensiune $(m, K) = (20, 10)$. \n",
    "\n",
    "Ponderile straturilor vor avea dimensiunile: $w_{JI}$, $(J, I) = (100, 784)$ iar $w_{KJ}$, $(K, J) = (10, 100)$. $b_{JI}$ va fi de dimensiune $(100,)$ iar $b_{KJ}$ de dimensiune $(10,)$."
   ]
  },
  {
   "cell_type": "markdown",
   "metadata": {},
   "source": [
    "## 2. Calculul gradientului pentru ponderile ultimului strat\n",
    "\n",
    "Funcţia de activare de pe ultimul strat este în cazul nostru $a_k = softmax(z_k)$. Ieşirea acesteia face obiectul funcţiei de cost, care este\n",
    "\n",
    "$E(a_k) = crossentropy(a_k)$\n",
    "\n",
    "Avem aşadar compunerea de funcţii\n",
    "\n",
    "$E(w_{KJ}) = crossentropy(softmax(w_{KJ} \\cdot a_J))$\n",
    "\n",
    "Folosind chain rule, putem scrie derivata parţială a funcţiei de cost în raport cu ponderile de pe ultimul strat:\n",
    "\n",
    "$\\frac{\\partial E}{\\partial w_{kj}} = \\frac{\\partial E}{\\partial z_k} \\cdot \\frac{\\partial z_k}{\\partial w_{kj}} = \\frac{\\partial E}{\\partial a_k} \\cdot \\frac{\\partial a_k}{\\partial z_k} \\cdot \\frac{\\partial z_k}{\\partial w_{kj}} = crossentropy'(a_k) \\cdot softmax'(z_k) \\cdot a_j$\n",
    "\n",
    "Relaţia se poate scrie mai compact ca:\n",
    "\n",
    "$\\nabla_{w_{KJ}} E = \\delta_{a_K} \\cdot a_J$, unde am notat vectorial:\n",
    "\n",
    "$\\delta_{a_K} = crossentropy'(a_K) \\cdot softmax'(z_K)$"
   ]
  },
  {
   "cell_type": "markdown",
   "metadata": {},
   "source": [
    "### Calculul lui $\\delta_{a_K}$\n",
    "\n",
    "Vom ţine seama de definiţia funcţiei cross entropy $E$:\n",
    "\n",
    "$E(z, y) = - \\sum_i y_i \\log( softmax( z_i ))$\n",
    "\n",
    "Revenind la notaţia pe o singură dimensiune, avem:\n",
    "\n",
    "$\\delta_{a_k} = \\frac{\\partial E}{\\partial z_k} = - \\frac{\\partial}{\\partial z_k} \\left( \\sum_i y_i \\log(softmax(z_i)) \\right) = - \\sum_i y_i \\frac{1}{softmax(z_i)} \\frac{\\partial}{\\partial z_k} \\left( \\frac{e^{z_i}}{\\sum_j e^{z_j}} \\right)$\n",
    "\n",
    "Ultimul termen este derivata funcţiei $softmax$. Acesta necesită un tratament separat, pentru că $z_k$-ul după care se derivează poate să fie (sau nu) $z_i$-ul de la numitor:\n",
    "\n",
    "a) pentru $k=i$:\n",
    "\n",
    "$\\frac{\\partial softmax(z_i)}{\\partial z_{k=i}} = \\frac{\\partial}{\\partial z_i} \\left( \\frac{e^{z_i}}{\\sum_j e^{z_j}} \\right) = softmax(z_i) \\left[ 1 - softmax(z_i) \\right]$\n",
    "\n",
    "b) pentru $k \\neq i$:\n",
    "\n",
    "$\\frac{\\partial softmax(z_i)}{\\partial z_{k}} = \\frac{\\partial}{\\partial z_k} \\left( \\frac{e^{z_i}}{\\sum_j e^{z_j}} \\right) = - softmax(z_i) \\cdot softmax(z_k)$\n",
    "\n",
    "Revenind, $\\delta_{a_k}$ devine:\n",
    "\n",
    "$\\delta_{a_k} = \\frac{\\partial E}{\\partial z_k} = - \\sum_{i \\neq k} y_i \\frac{1}{softmax(z_i)} (-1) softmax(z_i) \\cdot softmax(z_k) - y_k \\frac{1}{softmax(z_k)} softmax(z_k) \\left[ 1 - softmax(z_k) \\right] = softmax(z_k) \\sum_i y_i - y_k = softmax(z_k) - y_k$\n",
    "\n",
    "Adică:\n",
    "\n",
    "$\\delta_{a_K} = softmax(z_K) - y_K$, dacă scriem relaţia vectorial.\n",
    "\n",
    "Puteţi găsi întregul raţionament detaliat [aici](https://levelup.gitconnected.com/killer-combo-softmax-and-cross-entropy-5907442f60ba).\n",
    "\n",
    "\n",
    "### Revenirea la notaţie\n",
    "\n",
    "Gradienţii devin astfel:\n",
    "\n",
    "$\\nabla_{w_{KJ}} E = \\delta_{a_K} \\cdot a_J$\n",
    "\n",
    "$\\nabla_{b_{KJ}} E = \\delta_{a_K}$, cu\n",
    "\n",
    "$\\delta_{a_K} = softmax(z_K) - y_K$\n",
    "\n",
    "De remarcat faptul că $\\delta_{a_K}$ este un vector de $K$ elemente iar $a_J$ un vector de $J$ elemente; prin înmulţirea primului vector (coloană) cu al doilea vector (linie) se generează matricea $w_{KJ}$."
   ]
  },
  {
   "cell_type": "markdown",
   "metadata": {},
   "source": [
    "## 3. Calculul gradientului pentru ponderile stratului intermediar (regula propagării înapoi, backpropagation)\n",
    "\n",
    "Ne interesează şi gradientul funcţiei de cost în raport cu ponderile stratului intermediar. Avem:\n",
    "\n",
    "$\\frac{\\partial E}{\\partial w_{ji}} = \\sum_k \\frac{\\partial E}{\\partial z_k} \\cdot \\frac{\\partial z_k}{\\partial w_{ji}} = \\sum_k \\delta_{a_k} \\cdot \\frac{\\partial z_k}{\\partial z_j} \\cdot \\frac{\\partial z_j}{\\partial w_{ji}} = \\sum_k \\delta_{a_k} \\cdot w_{kj} \\cdot f'(z_j) \\cdot a_i = f'(z_j) \\left[ \\sum_k \\delta_{a_k} w_{kj} \\right] a_i = \\delta_{a_j} \\cdot a_i$\n",
    "\n",
    "Vectorial, putem scrie expresia mai compact astfel:\n",
    "\n",
    "$\\nabla_{w_{JI}} E = \\delta_{a_J} \\cdot a_I$, respectiv:\n",
    "\n",
    "$\\nabla_{b_{JI}} E = \\delta_{a_J}$, unde: \n",
    "\n",
    "$\\delta_{a_J} = \\left( \\delta_{a_K} w_{KJ} \\right) \\odot f'(z_j)$\n",
    "\n",
    "La fel, de remarcat faptul că $\\delta_{a_J}$ este un vector de $J$ elemente iar $a_I$ un vector de $I = n$ elemente; prin înmulţirea primului vector (coloană) cu al doilea vector (linie) se generează matricea $w_{JI}$."
   ]
  },
  {
   "cell_type": "markdown",
   "metadata": {},
   "source": [
    "## 4. Prelucrarea setului de date"
   ]
  },
  {
   "cell_type": "code",
   "execution_count": 18,
   "metadata": {},
   "outputs": [],
   "source": [
    "train_set = pd.read_csv('mnist_train.csv').values\n",
    "test_set = pd.read_csv('mnist_test.csv').values"
   ]
  },
  {
   "cell_type": "markdown",
   "metadata": {},
   "source": [
    "Procesarea presupune separarea primului element din fiecare linie ca fiind eticheta $y$. Vom face acelaşi lucru şi pentru setul de train şi pentru cel de test:"
   ]
  },
  {
   "cell_type": "code",
   "execution_count": 19,
   "metadata": {},
   "outputs": [],
   "source": [
    "train_x, train_y = train_set[:,1:],train_set[:,0] \n",
    "test_x, test_y = test_set[:,1:],test_set[:,0]\n",
    "\n",
    "# verificăm că setul de train este separat în sample-uri şi etichete:\n",
    "assert train_x.shape == (59999, 784)\n",
    "assert train_y.shape == (59999,)\n",
    "\n",
    "# la fel şi pentru setul de test:\n",
    "assert test_x.shape == (9999, 784)\n",
    "assert test_y.shape == (9999,)"
   ]
  },
  {
   "cell_type": "code",
   "execution_count": 20,
   "metadata": {},
   "outputs": [],
   "source": [
    "train_y_o = train_y\n",
    "test_y_o = test_y\n"
   ]
  },
  {
   "cell_type": "code",
   "execution_count": 21,
   "metadata": {},
   "outputs": [
    {
     "name": "stdout",
     "output_type": "stream",
     "text": [
      "[0 4 1 ... 5 6 8]\n"
     ]
    }
   ],
   "source": [
    "print(train_y_o)"
   ]
  },
  {
   "cell_type": "code",
   "execution_count": 22,
   "metadata": {},
   "outputs": [
    {
     "data": {
      "image/png": "[encoded data removed]",
      "text/plain": [
       "<Figure size 1440x720 with 16 Axes>"
      ]
     },
     "metadata": {
      "needs_background": "light"
     },
     "output_type": "display_data"
    }
   ],
   "source": [
    "def show_samples(x_set, y_set):\n",
    "    size = x_set.shape[0]\n",
    "    \n",
    "    fig, ax = plt.subplots(size // 4, 4, figsize=(20, 10))\n",
    "    for k in range(size):\n",
    "        row, col = k // 4, k % 4\n",
    "        \n",
    "        # Make those columns into a array of 8-bits pixels\n",
    "        # The pixel intensity values are integers from 0 to 255\n",
    "        pixels = np.array(x_set[k], dtype='uint8')    \n",
    "        \n",
    "        # Reshape the array into 28 x 28 array (2-dimensional array)\n",
    "        n = int(np.sqrt(len(pixels)))\n",
    "        assert n**2 == len(pixels)\n",
    "        pixels = pixels.reshape(n, n)\n",
    "        ax[row, col].imshow(pixels, cmap='gray')\n",
    "        ax[row, col].set_title('Eticheta {label}'.format(label=y_set[k]))\n",
    "        ax[row, col].axis('off')\n",
    "\n",
    "    plt.show()\n",
    "    \n",
    "show_samples(train_x[:16], train_y[:16])"
   ]
  },
  {
   "cell_type": "code",
   "execution_count": 23,
   "metadata": {},
   "outputs": [],
   "source": [
    "def normalize(x):\n",
    "    \"\"\"\n",
    "    Normalizarea înseamnă împărţirea cu 255\n",
    "    \n",
    "    Args:\n",
    "        x: matricea feature-urilor, dimensiune m x n\n",
    "    \n",
    "    Returns:\n",
    "        matricea cu valorile normalizate in in [0, 1], dimensiune m x n\n",
    "    \"\"\"\n",
    "    return x/255"
   ]
  },
  {
   "cell_type": "code",
   "execution_count": 24,
   "metadata": {},
   "outputs": [],
   "source": [
    "# în urma normalizării depunem rezultatele în aceleaşi variabile (le suprascriem)\n",
    "train_x, test_x = normalize(train_x), normalize(test_x)\n",
    "\n",
    "# valorile sample-urilor vor fi constrânse în intervalul [0, 1]\n",
    "assert np.all(np.bitwise_and(train_x >= 0., train_x <= 1.))\n",
    "assert np.all(np.bitwise_and(test_x >= 0., test_x <= 1.))"
   ]
  },
  {
   "cell_type": "markdown",
   "metadata": {},
   "source": [
    "Deoarece folosim funcţia cross-entropy pentru antrenare, vom encoda cu 'one-hot encoding' etichetele. Matricea train_y se va transforma dintr-o matrice de dimensiune $(m, 1)$ în una de dimensiuni $(m, k)$, unde $k = 10$ (avem 10 clase)."
   ]
  },
  {
   "cell_type": "code",
   "execution_count": 25,
   "metadata": {},
   "outputs": [
    {
     "name": "stdout",
     "output_type": "stream",
     "text": [
      "[0 4 1 ... 5 6 8]\n"
     ]
    }
   ],
   "source": [
    "print(train_y_o)"
   ]
  },
  {
   "cell_type": "code",
   "execution_count": 26,
   "metadata": {},
   "outputs": [],
   "source": [
    "def single_hot(p, k):\n",
    "    \"\"\" \n",
    "    Single-hot encoding converteste o eticheta, de exemplu 7, in [0 0 0 0 0 0 0 1 0 0]\n",
    "    \n",
    "    Args:\n",
    "        p: pozitia pe care se pune \"1\"\n",
    "        k: numarul total de clase (lungimea listei generate)\n",
    "    \n",
    "    Returns:\n",
    "        lista de zero-uri cu pozitia p setata pe 1\n",
    "    \"\"\"\n",
    "    a = np.zeros((k))\n",
    "    a[p] = 1\n",
    "    return a\n",
    "    \n",
    "def one_hot(set_y, k):\n",
    "    \"\"\"\n",
    "    One-hot encoding converteste un intreg set la o forma matriciala.\n",
    "    Foloseste implemetarea lui single-hot.\n",
    "    \n",
    "    Args:\n",
    "        set_y: vector de dimensiune (m,)\n",
    "        k: numarul de clase\n",
    "        \n",
    "    Returns:\n",
    "        matricea de dimensiune (m, k), o linie reprezentind encodarea fiecarei etichete\n",
    "    \"\"\"\n",
    "    #print(set_y)\n",
    "    \n",
    "    aux = [single_hot(set_y[i],k) for i in range(len(set_y))]\n",
    "    return np.array(aux)\n",
    "\n",
    "train_y = one_hot(train_y_o, 10)\n",
    "test_y = one_hot(test_y_o, 10)\n",
    "\n",
    "# verificam dimensiunile\n",
    "assert train_y.shape == (train_x.shape[0], 10)\n",
    "assert test_y.shape == (test_y.shape[0], 10)\n",
    "\n",
    "# verificam ca pe fiecare linie sa avem doar un 1 si restul zero-uri\n",
    "assert np.all(train_y.sum(axis=1) == 1)\n",
    "assert np.all(test_y.sum(axis=1) == 1)"
   ]
  },
  {
   "cell_type": "markdown",
   "metadata": {},
   "source": [
    "În implementarea funcţiei de activare n-am mai folosit funcţia sigmoidă ca până acum, ci funcţia tangentă hiperbolică. Iată cum arată acestea:"
   ]
  },
  {
   "cell_type": "code",
   "execution_count": 27,
   "metadata": {},
   "outputs": [
    {
     "data": {
      "image/png": "[encoded data removed]",
      "text/plain": [
       "<Figure size 1080x576 with 1 Axes>"
      ]
     },
     "metadata": {
      "needs_background": "light"
     },
     "output_type": "display_data"
    }
   ],
   "source": [
    "def represent():\n",
    "    x = np.linspace(-10, 10, 100)\n",
    "    sigmoid = lambda x: 1. / (1 + np.exp(-x))\n",
    "    sigmoid_d = lambda x: sigmoid(x) * (1 - sigmoid(x))\n",
    "    tanh = lambda x: np.tanh(x)\n",
    "    tanh_d = lambda x: 1.0 - (tanh(x) ** 2)\n",
    "    \n",
    "    fig, ax = plt.subplots(1, 1, figsize=(15, 8))\n",
    "    ax.plot(x, sigmoid(x), '-', color='blue')\n",
    "    ax.plot(x, sigmoid_d(x), '--', color='blue')\n",
    "    ax.plot(x, tanh(x), '-', color='red')\n",
    "    ax.plot(x, tanh_d(x), '--', color='red')\n",
    "    ax.legend(['sigmoid(x)', \"sigmoid'(x)\", 'tanh(x)', \"tanh'(x)\"])\n",
    "    ax.grid() ; plt.show()\n",
    "    \n",
    "represent()"
   ]
  },
  {
   "cell_type": "markdown",
   "metadata": {},
   "source": [
    "Avem următoarele remarci:\n",
    "* media funcţiei sigmoide este 0.5, faţă de 0.0 a lui tanh;\n",
    "* media derivatei sigmoidei este 0.076 faţă de 0.154 a derivatei lui tanh.\n",
    "\n",
    "Tangenta hiperbolică prezintă o serie de avantaje:\n",
    "\n",
    "* tanh este simetrică faţă de 0. Inputurile sunt normalizate (adică în intervalul \\[-1, 1\\]), iar aplicarea ei va produce tot valori de ieşire în acest interval (valorile de ieşire sunt intrări pentru stratul următor);\n",
    "* convergenţa este mai rapidă dacă toate activările reţelei au media zero şi dispersie 1, şi sunt decorelate.\n",
    "\n",
    "Pentru o intrare negativă, ieşirea în cazul funcţiei sigmoide se saturează la 0. Acest lucru nu se întâmplă în cazul funcţiei tanh(), o intrare negativă determină o activare negativă. Prin acest comportament, funcţia sigmoidă poate determina reţeaua să se blocheze în minime locale, procesul de învăţare decurgând mai lent.\n",
    "\n",
    "Mai multe detalii puteţi găsi în articolul lui [Yann LeCun](http://yann.lecun.com/exdb/publis/pdf/lecun-98b.pdf).\n",
    "\n",
    "## 5. Implementarea funcţiei softmax"
   ]
  },
  {
   "cell_type": "code",
   "execution_count": 28,
   "metadata": {},
   "outputs": [],
   "source": [
    "def sigmoid(z):\n",
    "    return np.tanh(z)\n",
    "\n",
    "def sigmoid_derivative(z):\n",
    "    return 1.0 - (np.tanh(z) ** 2)\n",
    "\n",
    "def softmax(z):\n",
    "    reg = np.sum(z,axis=1).reshape(-1,1)\n",
    "    return z / reg\n",
    "\n",
    "# verificam ca softmax-ul sa fie calculat corect\n",
    "a = np.array([[1., 3, 4], [2, 7, 3]])\n",
    "assert a.shape == softmax(a).shape\n",
    "assert np.all(np.abs(softmax(a).sum(axis=1) - 1) < 1e-6)\n",
    "assert softmax(a).sum(axis=1).shape == (2,)\n",
    "del a"
   ]
  },
  {
   "cell_type": "markdown",
   "metadata": {},
   "source": [
    "## 6. Implementarea propagării înainte (forward)\n",
    "\n",
    "Scopul este să evaluăm strat cu strat întreaga reţea, pornind de la intrare. Activările primului strat sunt chiar sample-urile setului de date $X$.\n",
    "\n",
    "Se vor calcula net-urile (z-urile) pentru fiecare strat:\n",
    "\n",
    "$z = w \\cdot a + b$, respectiv activarile următoare:\n",
    "\n",
    "$a = sigmoid(z)$, respectiv funcţia $softmax()$ pentru ultimul strat.\n",
    "\n",
    "De exemplu, intrarea $a_I$ are dimensiunea $(m, I)$. Ponderile primului strat $w_{JI}$ au dimensiunea $(J, I)$, deci activarea $a_J = f(a_I \\cdot w_{JI}^T + b_{JI}^T)$ va avea dimensiunea $(m, J)$ - vom folosi înmulţirea matricială pentru calculul net-ului $z_{J}$."
   ]
  },
  {
   "cell_type": "code",
   "execution_count": 29,
   "metadata": {},
   "outputs": [],
   "source": [
    "def forward(set_x, weights, biases):\n",
    "    \"\"\"\n",
    "    Propagarea înainte prin reţea, cu calcularea net-urilor şi activărilor.\n",
    "    Atenţie că activările de pe ultimul strat se calculează cu funcţia softmax() în loc de sigmoid().\n",
    "    \n",
    "    Args:\n",
    "        set_x: setul de intrare de dimensiune (m, I)\n",
    "        weights: lista de matrici de ponderi\n",
    "        biases: lista de vectori de termeni liberi\n",
    "        \n",
    "    Returns:\n",
    "        activations: lista de activari\n",
    "        nets: lista de net-uri (z)\n",
    "    \"\"\"\n",
    "    activations = [set_x]\n",
    "    nets = []\n",
    "    firstLayer = np.matmul(set_x, np.transpose(weights[0])) + biases[0]\n",
    "    activations_1 = sigmoid(firstLayer)\n",
    "    secondLayer = np.matmul(activations_1, np.transpose(weights[1])) + biases[1]\n",
    "    activations_2 = softmax(secondLayer)\n",
    "    activations.append(activations_1)\n",
    "    activations.append(activations_2)\n",
    "    nets.append(firstLayer)\n",
    "    nets.append(secondLayer)\n",
    "    return activations, nets\n",
    "\n",
    "# Pentru testare. luam intrarea de dimensiune (3, 25). 3 va fi dimensiunea batch size-ului,\n",
    "# iar I=25 este numarul de neuroni de pe primul strat.\n",
    "inputs = np.ones((3, 25)) * 0.5\n",
    "\n",
    "# Stratul ascuns are J=10 neuroni iar ultimul (softmax) are K=4.\n",
    "weights = [np.ones((10, 25)) * 0.2, np.ones((4, 10)) * 0.3]\n",
    "biases = [np.ones((10,)) * 0.1, np.ones((4,)) * 0.1]\n",
    "\n",
    "activations, nets = forward(inputs, weights, biases)\n",
    "\n",
    "# Pentru 3 straturi, se vor calcula 3 activări şi 2 net-uri în cele două liste rezultate:\n",
    "assert len(activations) == 3\n",
    "assert len(nets) == 2\n",
    "\n",
    "# Verificam forma activarilor\n",
    "assert activations[0].shape == inputs.shape == (3, 25)\n",
    "assert activations[1].shape == (3, 10)\n",
    "assert activations[2].shape == (3, 4)\n",
    "assert np.abs(np.linalg.norm(activations[0]) - 4.330127) < 1e-6\n",
    "assert np.abs(np.linalg.norm(activations[1]) - 5.4171262) < 1e-6\n",
    "assert np.abs(np.linalg.norm(activations[2]) - 0.8660254) < 1e-6\n",
    "\n",
    "# Verificam forma net-urilor\n",
    "assert nets[0].shape == (3, 10)\n",
    "assert nets[1].shape == (3, 4)\n",
    "assert np.abs(np.linalg.norm(nets[0]) - 14.2407865) < 1e-6\n",
    "assert np.abs(np.linalg.norm(nets[1]) - 10.6246844) < 1e-6"
   ]
  },
  {
   "cell_type": "markdown",
   "metadata": {},
   "source": [
    "## 7. Implementarea propagării înapoi (backward propagation)\n",
    "\n",
    "Propagarea înapoi are drept scop calcularea gradientului pentru fiecare strat. Pentru aceasta, va trebui să determinăm $\\delta$ asociat pentru fiecare strat începând de la ultimul.\n",
    "\n",
    "Atenţie că aceşti $\\delta$ nu sunt vectori coloană, ci matrici, cu prima dimensiune dimensiunea batch-ului şi a doua dimensiune dimensiunea stratului. Pe baza lui $\\delta$ veţi determina gradientul, prin medierea folosind dimensiunea batch-ului (prima dimensiune).\n",
    "\n",
    "O complicaţie din cauza dimensiunii batch-ului apare la următoarea relaţie:\n",
    "\n",
    "$\\delta_{a_J} = \\left( \\delta_{a_K} w_{KJ} \\right) \\odot f'(z_j)$\n",
    "\n",
    "Aici, $\\delta_{a_K}$ are dimensiunea $(m, K)$ iar prin înmulţirea cu $w_{KJ}$ se generează o matrice de dimensiuni $(m, J)$, aceleaşi cu cele ale lui $f'(z_j)$.\n",
    "\n",
    "O a doua complicaţie apare tot din cauza dimensiunii batch-ului la relaţiile de calcul a gradientului:\n",
    "\n",
    "$\\nabla_{w_{JI}} E = \\delta_{a_J} \\cdot a_I$\n",
    "\n",
    "Aici, $\\delta_{a_J}$ are dimensiunea $(m, J)$ iar $a_I$, $(m, I)$. Pentru a înmulţi primii $m$ vectori coloană cu ceilalţi $m$ vectori linie, folosim batch matrix multiplication - înmulţire normală de matrici doar pentru ultimele două dimensiuni, pentru fiecare element din dimensiunea 0. Adică redimensionăm $(m, J) \\rightarrow (m, J, 1)$ iar $(m, I) \\rightarrow (m, 1, I)$, iar prin înmulţirea lor matricială obţinem $(m, J, I)$. Reducem prin mediere prima dimensiune."
   ]
  },
  {
   "cell_type": "markdown",
   "metadata": {},
   "source": [
    "$\\delta_{a_K} = softmax(z_K) - y_K$\n",
    "\n",
    "$\\nabla_{w_{JI}} E = \\delta_{a_J} \\cdot a_I$, respectiv:\n",
    "\n",
    "$\\nabla_{b_{JI}} E = \\delta_{a_J}$, unde: \n",
    "\n",
    "$\\delta_{a_J} = \\left( \\delta_{a_K} w_{KJ} \\right) \\odot f'(z_j)$"
   ]
  },
  {
   "cell_type": "code",
   "execution_count": 35,
   "metadata": {},
   "outputs": [],
   "source": [
    "def backward(weights, biases, activations, nets, set_y):\n",
    "    \"\"\"\n",
    "    Propagă delta spre intrarea reţelei începând de la ultimul strat\n",
    "    \n",
    "    Args:\n",
    "        weights: lista de ponderi\n",
    "        biases: lista de elemente libere\n",
    "        activations: lista de activari, calculata de forward\n",
    "        nets: lista de z-uri, calculata de forward\n",
    "        set_y: etichetele, one-hot encodate\n",
    "        \n",
    "    Returns:\n",
    "        delta_w, delta_b: update-urile gradientilor\n",
    "    \"\"\"\n",
    "    #calculez pentru dak pentru ultimul strat\n",
    "    delta_b = [np.zeros(b.shape) for b in biases]\n",
    "    delta_w = [np.zeros(w.shape) for w in weights]\n",
    "\n",
    "    delta_ak = activations[2] - set_y\n",
    "    delta_b[1] = delta_ak.mean(axis=0)\n",
    "    delta_aj = np.matmul(delta_ak, weights[1]) * sigmoid_derivative(nets[0])\n",
    "    delta_b[0] = delta_aj.mean(axis=0)\n",
    "    delta_w[1] = np.matmul(delta_ak.reshape(delta_ak.shape[0],delta_ak.shape[1],1), \n",
    "                           activations[1].reshape(activations[1].shape[0],1,activations[1].shape[1])).mean(axis=0)\n",
    "    delta_w[0] = np.matmul(delta_aj.reshape(delta_aj.shape[0],delta_aj.shape[1],1), \n",
    "                           activations[0].reshape(activations[0].shape[0],1,activations[0].shape[1])).mean(axis=0)\n",
    "    \n",
    "    for l in range(2):\n",
    "        \n",
    "        \n",
    "        assert delta_w[l].shape == weights[l].shape\n",
    "        assert delta_b[l].shape == biases[l].shape\n",
    "        \n",
    "    return delta_w, delta_b\n",
    "\n",
    "# declaram niste etichete de test si aplicam metoda\n",
    "labels = one_hot(np.array([1, 0, 3]), 4)\n",
    "delta_w, delta_b = backward(weights, biases, activations, nets, labels)\n",
    "\n",
    "# verificam consistenta raspunsurilor\n",
    "assert len(delta_w) == len(delta_b) == 2\n",
    "assert delta_w[0].shape == (10, 25)\n",
    "assert delta_w[1].shape == (4, 10)\n",
    "assert delta_b[0].shape == (10,)\n",
    "assert delta_b[1].shape == (4,)\n",
    "assert np.linalg.norm(delta_w[0]) < 1e-15\n",
    "assert np.abs(np.linalg.norm(delta_w[1]) - 0.9028543) < 1e-6\n",
    "assert np.linalg.norm(delta_b[0]) < 1e-15\n",
    "assert np.abs(np.linalg.norm(delta_b[1]) - 0.2886751) < 1e-6"
   ]
  },
  {
   "cell_type": "markdown",
   "metadata": {},
   "source": [
    "## 8. Calculul unui batch şi a acurateţii\n",
    "\n",
    "Constă din propagarea înainte, propagarea înapoi, urmate de ajustarea ponderilor."
   ]
  },
  {
   "cell_type": "code",
   "execution_count": 36,
   "metadata": {},
   "outputs": [],
   "source": [
    "def compute_batch(batch_x, batch_y, weights, biases, eta, lmbda):\n",
    "    \"\"\" \n",
    "    Realizeaza cei doi pasi pentru fiecare batch in parte\n",
    "    \n",
    "    Args:\n",
    "        batch_x: sample-urile de intrare\n",
    "        batch_y: etichetele lor\n",
    "        weights: lista cu ponderile reţelei\n",
    "        biases: lista cu termenii liberi\n",
    "        eta: rata de învăţare\n",
    "        lmbda: parametrul de regularizare\n",
    "        \n",
    "    Returns:\n",
    "        weights, biases: noile ponderi după actualizarea lor cu gradienţii calculaţi\n",
    "    \"\"\"\n",
    "    activations, nets = forward(batch_x, weights, biases)\n",
    "    delta_w, delta_b = backward(weights, biases, activations, nets, batch_y)\n",
    "\n",
    "    # Pentru fiecare parametru din lista se realizeaza:\n",
    "    # weight <-- weight - eta * (grad_w + lambda * weight)\n",
    "    # bias <-- bias - eta * grad_b\n",
    "    weight = []\n",
    "    bias = []\n",
    "    weight.append(weights[0] - eta * (delta_w[0] + lmbda * weights[0]))\n",
    "    weight.append(weights[1] - eta * (delta_w[1] + lmbda * weights[1]))\n",
    "    bias.append(biases[0]-eta*delta_b[0])\n",
    "    bias.append(biases[1]-eta*delta_b[1])\n",
    "    \n",
    "    return weight, bias"
   ]
  },
  {
   "cell_type": "markdown",
   "metadata": {},
   "source": [
    "Acurateţea presupune inspectarea etichetelor şi compararea lor cu rezultatul produs de reţea:"
   ]
  },
  {
   "cell_type": "code",
   "execution_count": 37,
   "metadata": {},
   "outputs": [],
   "source": [
    "def accuracy(set_x, set_y, weights, biases):\n",
    "    \"\"\" \n",
    "    Calculeaza iesirea sub forma de one-hot encoding folosind feedforward(),\n",
    "    si o foloseste pentru a numara cate sample-uri sunt antrenate corect\n",
    "    \n",
    "    Args:\n",
    "        set_x: sample-urile, de dimensiune (m, n)\n",
    "        set_y: etichetele, de dimensiune (m, k)\n",
    "        weights: lista ponderilor reţelei\n",
    "        biases: lista termenilor liberi\n",
    "        \n",
    "    Returns:\n",
    "        procentul de sample-uri clasificate corect\n",
    "    \"\"\"\n",
    "    # ... call forward() \n",
    "    act, nets = forward(set_x, weights, biases)\n",
    "    row_max = np.argmax(act[2], axis = 1)\n",
    "    set_y_row_max = np.argmax(set_y, axis = 1)\n",
    "    res = row_max == set_y_row_max\n",
    "    \n",
    "    return 100 * res.sum() / len(res)\n",
    "\n",
    "assert np.abs(accuracy(inputs, labels, weights, biases) - 33.3333333) < 1e-6"
   ]
  },
  {
   "cell_type": "markdown",
   "metadata": {},
   "source": [
    "## 9. Antrenarea reţelei şi evaluarea pe setul de test"
   ]
  },
  {
   "cell_type": "code",
   "execution_count": 38,
   "metadata": {},
   "outputs": [
    {
     "name": "stdout",
     "output_type": "stream",
     "text": [
      "epoch: 0, eta: 0.20, train accuracy: 9.93\n"
     ]
    },
    {
     "name": "stderr",
     "output_type": "stream",
     "text": [
      "<ipython-input-28-fd383441209b>:9: RuntimeWarning: divide by zero encountered in true_divide\n",
      "  return z / reg\n",
      "<ipython-input-35-f8fa2e9ef4e5>:23: RuntimeWarning: invalid value encountered in multiply\n",
      "  delta_aj = np.matmul(delta_ak, weights[1]) * sigmoid_derivative(nets[0])\n"
     ]
    },
    {
     "name": "stdout",
     "output_type": "stream",
     "text": [
      "epoch: 1, eta: 0.16, train accuracy: 9.87\n",
      "epoch: 2, eta: 0.13, train accuracy: 9.87\n"
     ]
    },
    {
     "ename": "KeyboardInterrupt",
     "evalue": "",
     "output_type": "error",
     "traceback": [
      "\u001b[1;31m---------------------------------------------------------------------------\u001b[0m",
      "\u001b[1;31mKeyboardInterrupt\u001b[0m                         Traceback (most recent call last)",
      "\u001b[1;32m<ipython-input-38-3a62bef3784c>\u001b[0m in \u001b[0;36m<module>\u001b[1;34m\u001b[0m\n\u001b[0;32m     24\u001b[0m     \u001b[1;31m# rularea batch-urilor si schimbarea ponderilor retelei\u001b[0m\u001b[1;33m\u001b[0m\u001b[1;33m\u001b[0m\u001b[1;33m\u001b[0m\u001b[0m\n\u001b[0;32m     25\u001b[0m     \u001b[1;32mfor\u001b[0m \u001b[1;33m(\u001b[0m\u001b[0mbatch_x\u001b[0m\u001b[1;33m,\u001b[0m \u001b[0mbatch_y\u001b[0m\u001b[1;33m)\u001b[0m \u001b[1;32min\u001b[0m \u001b[0mzip\u001b[0m\u001b[1;33m(\u001b[0m\u001b[0mx_batches\u001b[0m\u001b[1;33m,\u001b[0m \u001b[0my_batches\u001b[0m\u001b[1;33m)\u001b[0m\u001b[1;33m:\u001b[0m\u001b[1;33m\u001b[0m\u001b[1;33m\u001b[0m\u001b[0m\n\u001b[1;32m---> 26\u001b[1;33m         \u001b[0mweights\u001b[0m\u001b[1;33m,\u001b[0m \u001b[0mbiases\u001b[0m \u001b[1;33m=\u001b[0m \u001b[0mcompute_batch\u001b[0m\u001b[1;33m(\u001b[0m\u001b[0mbatch_x\u001b[0m\u001b[1;33m,\u001b[0m \u001b[0mbatch_y\u001b[0m\u001b[1;33m,\u001b[0m \u001b[0mweights\u001b[0m\u001b[1;33m,\u001b[0m \u001b[0mbiases\u001b[0m\u001b[1;33m,\u001b[0m \u001b[0meta\u001b[0m\u001b[1;33m,\u001b[0m \u001b[0mlmbda\u001b[0m\u001b[1;33m)\u001b[0m\u001b[1;33m\u001b[0m\u001b[1;33m\u001b[0m\u001b[0m\n\u001b[0m\u001b[0;32m     27\u001b[0m \u001b[1;33m\u001b[0m\u001b[0m\n\u001b[0;32m     28\u001b[0m     \u001b[0mprint\u001b[0m\u001b[1;33m(\u001b[0m\u001b[1;34mf'epoch: {epoch}, eta: {eta:.2f}, train accuracy: {accuracy(train_x, train_y, weights, biases):.2f}'\u001b[0m\u001b[1;33m)\u001b[0m\u001b[1;33m\u001b[0m\u001b[1;33m\u001b[0m\u001b[0m\n",
      "\u001b[1;32m<ipython-input-36-901600b3a19a>\u001b[0m in \u001b[0;36mcompute_batch\u001b[1;34m(batch_x, batch_y, weights, biases, eta, lmbda)\u001b[0m\n\u001b[0;32m     15\u001b[0m     \"\"\"\n\u001b[0;32m     16\u001b[0m     \u001b[0mactivations\u001b[0m\u001b[1;33m,\u001b[0m \u001b[0mnets\u001b[0m \u001b[1;33m=\u001b[0m \u001b[0mforward\u001b[0m\u001b[1;33m(\u001b[0m\u001b[0mbatch_x\u001b[0m\u001b[1;33m,\u001b[0m \u001b[0mweights\u001b[0m\u001b[1;33m,\u001b[0m \u001b[0mbiases\u001b[0m\u001b[1;33m)\u001b[0m\u001b[1;33m\u001b[0m\u001b[1;33m\u001b[0m\u001b[0m\n\u001b[1;32m---> 17\u001b[1;33m     \u001b[0mdelta_w\u001b[0m\u001b[1;33m,\u001b[0m \u001b[0mdelta_b\u001b[0m \u001b[1;33m=\u001b[0m \u001b[0mbackward\u001b[0m\u001b[1;33m(\u001b[0m\u001b[0mweights\u001b[0m\u001b[1;33m,\u001b[0m \u001b[0mbiases\u001b[0m\u001b[1;33m,\u001b[0m \u001b[0mactivations\u001b[0m\u001b[1;33m,\u001b[0m \u001b[0mnets\u001b[0m\u001b[1;33m,\u001b[0m \u001b[0mbatch_y\u001b[0m\u001b[1;33m)\u001b[0m\u001b[1;33m\u001b[0m\u001b[1;33m\u001b[0m\u001b[0m\n\u001b[0m\u001b[0;32m     18\u001b[0m \u001b[1;33m\u001b[0m\u001b[0m\n\u001b[0;32m     19\u001b[0m     \u001b[1;31m# Pentru fiecare parametru din lista se realizeaza:\u001b[0m\u001b[1;33m\u001b[0m\u001b[1;33m\u001b[0m\u001b[1;33m\u001b[0m\u001b[0m\n",
      "\u001b[1;32m<ipython-input-35-f8fa2e9ef4e5>\u001b[0m in \u001b[0;36mbackward\u001b[1;34m(weights, biases, activations, nets, set_y)\u001b[0m\n\u001b[0;32m     25\u001b[0m     delta_w[1] = np.matmul(delta_ak.reshape(delta_ak.shape[0],delta_ak.shape[1],1), \n\u001b[0;32m     26\u001b[0m                            activations[1].reshape(activations[1].shape[0],1,activations[1].shape[1])).mean(axis=0)\n\u001b[1;32m---> 27\u001b[1;33m     delta_w[0] = np.matmul(delta_aj.reshape(delta_aj.shape[0],delta_aj.shape[1],1), \n\u001b[0m\u001b[0;32m     28\u001b[0m                            activations[0].reshape(activations[0].shape[0],1,activations[0].shape[1])).mean(axis=0)\n\u001b[0;32m     29\u001b[0m \u001b[1;33m\u001b[0m\u001b[0m\n",
      "\u001b[1;31mKeyboardInterrupt\u001b[0m: "
     ]
    }
   ],
   "source": [
    "import random\n",
    "sizes = [28 * 28, 100, 10]\n",
    "scale = 1 / np.sqrt(train_x.shape[0])\n",
    "\n",
    "weights = [np.random.normal(loc=0, scale=scale, size = (j, i)) for i, j in zip(sizes[:-1], sizes[1:])]\n",
    "biases = [np.random.normal(loc=0, scale=scale, size = (i,)) for i in sizes[1:]]\n",
    "\n",
    "eta = 0.2\n",
    "batch_size = 20 # pentru aceasta dimensiune de batch, consumul de memorie este la 1.5 GB\n",
    "lmbda = 0.001\n",
    "epochs = 10\n",
    "\n",
    "for epoch in range(epochs):\n",
    "    # generarea unei permutari aleatoare a sample-urilor din set\n",
    "    \n",
    "    perm = [x for x in range(train_x.shape[0])]\n",
    "    \n",
    "    np.random.shuffle(perm)\n",
    "    \n",
    "    # generarea batch-urilor folosind acea permutare aleatoare\n",
    "    x_batches = [train_x[perm[i * 20 : (i + 1) * 20]] for i in range(train_x.shape[0] // 20) ]\n",
    "    y_batches = [train_y[perm[i * 20 : (i + 1) * 20]] for i in range(train_y.shape[0] // 20) ]\n",
    "\n",
    "    # rularea batch-urilor si schimbarea ponderilor retelei\n",
    "    for (batch_x, batch_y) in zip(x_batches, y_batches):\n",
    "        weights, biases = compute_batch(batch_x, batch_y, weights, biases, eta, lmbda)\n",
    "        \n",
    "    print(f'epoch: {epoch}, eta: {eta:.2f}, train accuracy: {accuracy(train_x, train_y, weights, biases):.2f}')\n",
    "    \n",
    "    eta *= 0.8"
   ]
  },
  {
   "cell_type": "code",
   "execution_count": null,
   "metadata": {},
   "outputs": [],
   "source": [
    "# acuratetea pe setul de test\n",
    "accuracy(test_x, test_y, weights, biases)"
   ]
  },
  {
   "cell_type": "markdown",
   "metadata": {},
   "source": [
    "## 10. Challenge\n",
    "\n",
    "Pentru a obţine nota maximă, realizaţi modelul de regresie.\n",
    "\n",
    "Acesta presupune să:\n",
    "* înlocuiţi funcţia de cost din cross-entropy în Mean Square Error (eroarea pătratică medie), $E=\\|a_K - y_K\\|^2$\n",
    "* înlocuiţi funcţia de activare de pe ultimul strat din $softmax$ în $tanh$\n",
    "* calculaţi derivata pentru funcţia MSE şi să reeevaluaţi formula pentru $\\delta_K$, prin prisma funcţiilor schimbate MSE şi $tanh$\n",
    "* recalculaţi etichetele $y$ să fie valori întregi şi nu one-hot encoding-uri\n",
    "* reantrenaţi noua reţea obţinută\n",
    "* evaluaţi reţeaua pe setul de test, cu $y$ schimbaţi ca mai sus\n"
   ]
  },
  {
   "cell_type": "code",
   "execution_count": null,
   "metadata": {},
   "outputs": [],
   "source": []
  }
 ],
 "metadata": {
  "kernelspec": {
   "display_name": "Python 3",
   "language": "python",
   "name": "python3"
  },
  "language_info": {
   "codemirror_mode": {
    "name": "ipython",
    "version": 3
   },
   "file_extension": ".py",
   "mimetype": "text/x-python",
   "name": "python",
   "nbconvert_exporter": "python",
   "pygments_lexer": "ipython3",
   "version": "3.8.5"
  }
 },
 "nbformat": 4,
 "nbformat_minor": 4
}
