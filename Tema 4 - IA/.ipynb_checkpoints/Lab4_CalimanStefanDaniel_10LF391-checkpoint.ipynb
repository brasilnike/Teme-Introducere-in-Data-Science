{
 "cells": [
  {
   "cell_type": "markdown",
   "metadata": {},
   "source": [
    "# Perceptronul liniar\n",
    "\n",
    "Perceptronul liniar se bazează pe capacitatea de separaţie a unui hiperplan. Cel mai simplu de înţeles este în 2D - aici hiperplanul devine o banală dreaptă. Dacă $f(x) = 0$ este ecuaţia care descrie dreapta, punctele de pe dreaptă sunt cele pentru care, evident, $f(x) = 0$. Dacă $f(x_1) < 0$, punctul $x_1$ aparţine unei clase, iar dacă $f(x_2) > 0$, $x_2$ aparţine celeilalte clase. Dreapta devine astfel un discriminator liniar. \"Perceptronul liniar\" este denumirea foarte pompoasă dată unei drepte folosite ca discriminator liniar."
   ]
  },
  {
   "cell_type": "code",
   "execution_count": 1,
   "metadata": {},
   "outputs": [],
   "source": [
    "import numpy as np\n",
    "import matplotlib.pyplot as plt\n",
    "import pandas as pd"
   ]
  },
  {
   "cell_type": "markdown",
   "metadata": {},
   "source": [
    "## 1. Reprezentarea perceptronului liniar\n",
    "\n",
    "Ne propunem în continuare să reprezentăm un astfel de discriminator liniar în 2D (două dimensiuni). Vom face următoarele lucruri:\n",
    "* definim funcţia $y=f(x)$, ca fiind ordonata $y$ în funcţie de abscisa $x$ (ca să putem reprezenta);\n",
    "* definim funcţia $g(x)=w^T x$ care calculează produsul scalar între $w$ şi $x$, unde $x$ este extins să aibă o componentă $1$ iar $w$ este extins cu coeficientul acela $b$ folosit la curs;\n",
    "* luăm puncte în plan;\n",
    "* clasificăm fiecare punct din plan în funcţie de partea dreptei în care se află;\n",
    "* desenăm dreapta.\n",
    "\n",
    "Considerăm forma ecuaţiei dreptei ca fiind:\n",
    "\n",
    "$$g(x) = ax + by + 1 = 0$$\n",
    "\n",
    "De aici putem exprima $y$ ca:\n",
    "\n",
    "$$y = f(x) = (-1 - ax) / b$$\n",
    "\n",
    "Pentru un $x$ dat, vom folosi comparaţia lui $g(x)$ cu zero ca să clasificăm acel sample $x$."
   ]
  },
  {
   "cell_type": "code",
   "execution_count": 2,
   "metadata": {},
   "outputs": [],
   "source": [
    "# definim f(x, a, b) pentru calculul lui y asociat\n",
    "def f(x, a, b):\n",
    "    return (-1 - a*x)/b\n",
    "\n",
    "\n",
    "# definim g(x, y, a, b) pentru calculul poziţiei faţă de hiperplan (deasupra / dedesubt)\n",
    "def g(x, y, a, b):\n",
    "    return a*x+b*y + 1\n",
    "\n",
    "# alegem un exemplu de hiperplan 2D (dreaptă) care trece prin punctele (0, 2) şi (3, 0)\n",
    "# putem calcula astfel a şî b:\n",
    "a, b = (-1.0 / 3), (-1.0 / 2)\n",
    "\n",
    "# dreapta trebue să treacă prin cele două puncte date mai sus\n",
    "assert f(0, a, b) == 2.\n",
    "assert f(3, a, b) == 0.\n",
    "assert g(0, 2, a, b) == 0.\n",
    "assert g(3, 0, a, b) == 0."
   ]
  },
  {
   "cell_type": "code",
   "execution_count": 3,
   "metadata": {},
   "outputs": [],
   "source": [
    "# porţiunea de plan pe care o reprezentăm este luată pentru x aparţine lui [-lim, lim] (limitele orizontale)\n",
    "lim = 10\n",
    "\n",
    "# numărul de puncte de fiecare fel\n",
    "n = 100\n",
    "\n",
    "# ne interesează, pentru reprezentare, limitele funcţiei [vmin, vmax] (limitele vertiale)\n",
    "vmin, vmax = f(-lim, a, b), f(lim, a, b)\n",
    "if vmin > vmax:\n",
    "    vmin, vmax = vmax, vmin\n",
    "\n",
    "# alegem random uniform, în acest spaţiu, 2n puncte\n",
    "u = 2 * lim * np.random.rand(2 * n) - lim\n",
    "v = (vmax - vmin) * np.random.rand(2 * n) + vmin\n",
    "\n",
    "# verificam ca punctele sunt luate în domeniu\n",
    "assert np.all(np.logical_and(u <= lim, u >= -lim))\n",
    "assert np.all(np.logical_and(v <= vmax, v >= vmin))"
   ]
  },
  {
   "cell_type": "code",
   "execution_count": 4,
   "metadata": {},
   "outputs": [
    {
     "data": {
      "image/png": "[encoded data removed]",
      "text/plain": [
       "<Figure size 720x576 with 1 Axes>"
      ]
     },
     "metadata": {
      "needs_background": "light"
     },
     "output_type": "display_data"
    }
   ],
   "source": [
    "# alcătuim cele două clase de puncte\n",
    "h1 = [z for z in zip(u, v) if g(z[0], z[1], a, b) >= 0]\n",
    "h2 = [z for z in zip(u, v) if g(z[0], z[1], a, b) < 0]\n",
    "\n",
    "# generăm valorile (x, y) pentru reprezentarea hiperplanului (dreptei) de separaţie\n",
    "x = np.linspace(-lim, lim)\n",
    "y = f(x, a, b)\n",
    "\n",
    "# creăm o figură de tip subplot\n",
    "fig = plt.figure(num=1, figsize=(10, 8)) \n",
    "ax = fig.add_subplot(111)\n",
    "ax.set_title('Hiperplanul de separaţie este roşu')\n",
    "\n",
    "# reprezentăm dreapta\n",
    "ax.plot(x, y, 'r')\n",
    "\n",
    "# punctele din cele două clase\n",
    "ax.plot([i[0] for i in h1], [i[1] for i in h1], 'x' , color='blue')\n",
    "ax.plot([i[0] for i in h2], [i[1] for i in h2], 'o' , color='blue')\n",
    "\n",
    "# aranjăm sistemul de coordonate\n",
    "ax.spines['left'].set_position('zero')\n",
    "ax.spines['right'].set_color('none')\n",
    "ax.spines['bottom'].set_position('zero')\n",
    "ax.spines['top'].set_color('none')"
   ]
  },
  {
   "cell_type": "markdown",
   "metadata": {},
   "source": [
    "## 2. Antrenarea perceptronului liniar\n",
    "\n",
    "Am văzut că perceptronul se bazează pe funcţia $g(x)$; pentru un sample $x$ dat, $g(x) \\lessgtr 0$, semnul ne dă clasa în care $x$ este plasat de perceptron.\n",
    "\n",
    "Pornim de la două clase de sample-uri. Fiecare $x$ are asociată clasa lui $y$, unde $y \\in \\{-1, +1\\}$. Dacă funcţia perceptron (clasificator liniar) este $g(x) = w^T x$ (produs scalar), şi semnul ei ne dă eticheta dată de clasificator, atunci dacă am găsi soluţia $w$, avem pentru orice $x$, indiferent de clasă:\n",
    "\n",
    "$$y \\cdot g(x) \\geq 0$$\n",
    "\n",
    "Am dori să alegem un $w$ pentru care distincţia să fie destul de clară, şi atunci impunem ca produsul să fie nu doar pozitiv, ci, în plus:\n",
    "\n",
    "$$y \\cdot g(x) \\geq 1$$\n",
    "\n",
    "Echivalent:\n",
    "\n",
    "$$1 - y \\cdot g(x) \\leq 0$$\n",
    "\n",
    "Observăm că această relaţie este întotdeauna adevărată dacă $y$ coincide ca semn cu predicţia dată de clasificator, respectiv devine pozitivă când nu se întâmplă acest lucru.\n",
    "\n",
    "Găsirea lui $w$ se rezumă la a minimiza funcţia:\n",
    "\n",
    "$$J(w) = \\max\\left( 0, 1 - y \\cdot g(x) \\right) = \\max\\left( 0, 1 - y \\cdot w^T x \\right)$$\n",
    "\n",
    "Ne interesează să minimizăm funcţia $J(w)$ doar pentru valorile sale pozitive.\n",
    "\n",
    "Forma analitică a gradientului este:\n",
    "\n",
    "$$\\nabla_w J (x) = - y \\cdot x$$\n",
    "\n",
    "Mergând pe aceeaşi idee a update-ului cu gradientul negativ, regula de update a lui $w$ este:\n",
    "\n",
    "$$ w_{k+1} \\leftarrow w_{k} + \\alpha \\cdot y \\cdot x$$\n",
    "\n",
    "Aplicăm acest update doar pentru cazurile în care valorile $y$ şi $g(x)$ au semne diferite, sau mai concis pentru cazul în care $y \\cdot g(x) < 0$. Să realizăm această antrenare pe exemplul anterior."
   ]
  },
  {
   "cell_type": "code",
   "execution_count": 5,
   "metadata": {},
   "outputs": [
    {
     "name": "stdout",
     "output_type": "stream",
     "text": [
      "[0.19450992 0.68069461 0.64894559]\n"
     ]
    }
   ],
   "source": [
    "# iniţializm aleator coeficienţii hiperplanului\n",
    "\n",
    "w = np.random.rand(3)\n",
    "print(w)\n",
    "\n",
    "# păstrăm o copie ca să reprezentăm dreapta iniţială aleator aleasă\n",
    "w_init = w.copy()\n",
    "\n",
    "assert w.shape == (3,)"
   ]
  },
  {
   "cell_type": "code",
   "execution_count": 6,
   "metadata": {},
   "outputs": [],
   "source": [
    "# funcţia de calcul a clasei\n",
    "# h(net) = +1 dacă net e mai mare sau egal cu zero\n",
    "# h(net) = -1 dacă net e mai mic decât zero\n",
    "\n",
    "def h(net):\n",
    "    return (net >= 0) * 2 - 1 \n",
    "\n",
    "assert np.all(h(-np.random.randint(100, size=(10,))) == -1)\n",
    "assert np.all(h(np.random.randint(100, size=(10,))) == +1)"
   ]
  },
  {
   "cell_type": "code",
   "execution_count": 7,
   "metadata": {},
   "outputs": [],
   "source": [
    "# formăm matricea X de dimensiune (m, 3), cu prima coloana de '1'-uri, \n",
    "# a doua coloana sunt abscisele stocate in u iar\n",
    "# a treia coloana ordonatele stocate in v\n",
    "x = np.zeros((len(u), 3))\n",
    "x[:, 0] = 1\n",
    "x[:, 1] = u\n",
    "x[:, 2] = v\n",
    "\n",
    "m = len(u)\n",
    "\n",
    "\n",
    "assert len(v) == m\n",
    "\n",
    "assert x.shape == (m, 3)\n",
    "assert np.all(x[:, 0] == 1.)"
   ]
  },
  {
   "cell_type": "code",
   "execution_count": 8,
   "metadata": {},
   "outputs": [],
   "source": [
    "# formam etichetele y pentru cele m sample-uri, pe baza functiilor g() si h() definite anterior\n",
    "y = h(g(u, v, a, b))\n",
    "\n",
    "assert y.shape == (m,)\n",
    "assert np.abs(y).sum() == m"
   ]
  },
  {
   "cell_type": "code",
   "execution_count": 9,
   "metadata": {},
   "outputs": [],
   "source": [
    "# learning rate\n",
    "alpha = 0.2\n",
    "epochs = 10\n",
    "\n",
    "# câteva iteraţii sunt suficiente\n",
    "# vom actualiza ponderile w de fiecare data, nu la sfarsitul buclei cum am facut anterior\n",
    "for epoch in range(epochs):\n",
    "    # pentru fiecare linie (pattern)\n",
    "    for i in range(m):\n",
    "        # vom 'trage' hiperplanul de separaţie în direcţia dorită\n",
    "        # doar atunci cand eticheta y si cea estimata y_hat nu coincid\n",
    "        #print(w)\n",
    "        #print(np.dot(w, x[i]))\n",
    "        if h(np.dot(w, x[i])) != y[i]:\n",
    "            c = y[i]\n",
    "        else:\n",
    "            c = 0\n",
    "        # c-ul va fi diferit de zero doar dacă punctul\n",
    "        # este de partea greşită a hiper planului\n",
    "        w += alpha * c * x[i]\n",
    "    \n",
    "# să nu uităm să scalăm parametrii hiperplanului, pentru reprezentare\n",
    "# am presupus forma 1 + ax + by = 0, ori, echivalent, w[0] + w[1] x + w[2] y = 0,\n",
    "#   deci implicit am presupus w[0] = 1\n",
    "w /= w[0]"
   ]
  },
  {
   "cell_type": "code",
   "execution_count": 10,
   "metadata": {},
   "outputs": [
    {
     "data": {
      "image/png": "[encoded data removed]",
      "text/plain": [
       "<Figure size 720x576 with 1 Axes>"
      ]
     },
     "metadata": {
      "needs_background": "light"
     },
     "output_type": "display_data"
    }
   ],
   "source": [
    "def hyper_plot(lim, a, b, w_init, w, h1, h2):\n",
    "    fig = plt.figure(num=1, figsize=(10, 8)) \n",
    "    ax = fig.add_subplot(111)\n",
    "    ax.set_title('Separation hyperplane:\\n correct is blue, initial is dashed red and computed is plain red')\n",
    "\n",
    "    # reprezentăm hiperplanul de la care am pornit\n",
    "    x = np.linspace(-lim, lim)\n",
    "    y = f(x, a, b)\n",
    "    ax.plot(x, y)\n",
    "\n",
    "    # reprezentăm hiperplanul iniţializat random\n",
    "    xmin, xmax = (-1 - w_init[2] * vmin) / w_init[1], (-1 - w_init[2] * vmax) / w_init[1]\n",
    "    xmin, xmax = (xmin, xmax) if xmin < xmax else (xmax, xmin)\n",
    "    xmin, xmax = -lim if xmin < -lim else xmin, lim if xmax > lim else xmax\n",
    "    \n",
    "    x = np.linspace(xmin, xmax)\n",
    "    y = f(x, w_init[1], w_init[2])\n",
    "    ax.plot(x, y, linestyle='dashed', color='red')\n",
    "\n",
    "    # reprezentăm hiperplanul calculat de instruire\n",
    "    x = np.linspace(-lim, lim)\n",
    "    y = f(x, w[1], w[2])\n",
    "    ax.plot(x, y, color='red')\n",
    "\n",
    "    # cele două clase\n",
    "    ax.plot([i[0] for i in h1], [i[1] for i in h1], 'x' , color='blue')\n",
    "    ax.plot([i[0] for i in h2], [i[1] for i in h2], 'o' , color='blue')\n",
    "\n",
    "    # şi in fine axele de coordonate\n",
    "    ax.spines['left'].set_position('zero')\n",
    "    ax.spines['right'].set_color('none')\n",
    "    ax.spines['bottom'].set_position('zero')\n",
    "    ax.spines['top'].set_color('none')\n",
    "\n",
    "# dreapta de separaţie este foarte aproape (uneori coincide) cu cea teoretică\n",
    "hyper_plot(lim, a, b, w_init, w, h1, h2)"
   ]
  },
  {
   "cell_type": "markdown",
   "metadata": {},
   "source": [
    "# 3. Perceptron pentru caracterele \"0\" şi \"1\" reprezentate ca rastru de pixeli\n",
    "\n",
    "Trecem de la un spatiu cu 2 dimensiuni la un spatiu cu 35 de dimensiuni. De data aceasta, vrem ca un clasificator liniar (hiperplan) sa separe doua clase formate din cifre reprezentate sub forma de rastru de pixeli."
   ]
  },
  {
   "cell_type": "code",
   "execution_count": 11,
   "metadata": {},
   "outputs": [],
   "source": [
    "# am luat dimensiunea rastrului de 7 x 5\n",
    "# de asemenea am 5 caractere de train din fiecare clasă,\n",
    "# respectiv 3 caractere de test per clasă\n",
    "train_set_x = np.array([\n",
    "    [0, 1, 1, 1, 0, \n",
    "     1, 0, 0, 0, 1,\n",
    "     1, 0, 0, 0, 1,\n",
    "     1, 0, 0, 0, 1,\n",
    "     1, 0, 0, 0, 1,\n",
    "     1, 0, 0, 0, 1,\n",
    "     0, 1, 1, 1, 0],\n",
    "    [0, 0, 1, 1, 0,\n",
    "     0, 1, 0, 0, 1,\n",
    "     0, 1, 0, 0, 1,\n",
    "     0, 1, 0, 0, 1,\n",
    "     0, 1, 0, 0, 1,\n",
    "     0, 1, 0, 0, 1,\n",
    "     0, 0, 1, 1, 0],\n",
    "    [0, 1, 1, 0, 0,\n",
    "     1, 0, 0, 1, 0,\n",
    "     1, 0, 0, 1, 0,\n",
    "     1, 0, 0, 1, 0,\n",
    "     1, 0, 0, 1, 0,\n",
    "     1, 0, 0, 1, 0,\n",
    "     0, 1, 1, 0, 0],\n",
    "    [0, 0, 0, 0, 0,\n",
    "     0, 1, 1, 1, 0,\n",
    "     1, 0, 0, 0, 1,\n",
    "     1, 0, 0, 0, 1,\n",
    "     1, 0, 0, 0, 1,\n",
    "     1, 0, 0, 0, 1,\n",
    "     0, 1, 1, 1, 0],\n",
    "    [0, 1, 1, 1, 0,\n",
    "     1, 0, 0, 0, 1,\n",
    "     1, 0, 0, 0, 1,\n",
    "     1, 0, 0, 0, 1,\n",
    "     1, 0, 0, 0, 1,\n",
    "     0, 1, 1, 1, 0,\n",
    "     0, 0, 0, 0, 0],\n",
    "    [0, 0, 1, 0, 0,\n",
    "     0, 1, 1, 0, 0,\n",
    "     1, 0, 1, 0, 0,\n",
    "     0, 0, 1, 0, 0,\n",
    "     0, 0, 1, 0, 0,\n",
    "     0, 0, 1, 0, 0,\n",
    "     1, 1, 1, 1, 1],\n",
    "    [0, 0, 1, 0, 0,\n",
    "     0, 1, 1, 0, 0,\n",
    "     0, 0, 1, 0, 0,\n",
    "     0, 0, 1, 0, 0,\n",
    "     0, 0, 1, 0, 0,\n",
    "     0, 0, 1, 0, 0,\n",
    "     0, 0, 1, 0, 0],\n",
    "    [0, 0, 1, 0, 0,\n",
    "     0, 1, 1, 0, 0,\n",
    "     0, 0, 1, 0, 0,\n",
    "     0, 0, 1, 0, 0,\n",
    "     0, 0, 1, 0, 0,\n",
    "     0, 0, 1, 0, 0,\n",
    "     0, 1, 1, 1, 0],\n",
    "    [0, 0, 1, 0, 0,\n",
    "     0, 0, 1, 0, 0,\n",
    "     0, 0, 1, 0, 0,\n",
    "     0, 0, 1, 0, 0,\n",
    "     0, 0, 1, 0, 0,\n",
    "     0, 0, 1, 0, 0,\n",
    "     0, 0, 1, 0, 0],\n",
    "    [0, 0, 1, 0, 0,\n",
    "     0, 1, 1, 0, 0,\n",
    "     1, 0, 1, 0, 0,\n",
    "     0, 0, 1, 0, 0,\n",
    "     0, 0, 1, 0, 0,\n",
    "     0, 0, 1, 0, 0,\n",
    "     0, 0, 1, 0, 0]\n",
    "])\n",
    "train_set_y = [-1, -1, -1, -1, -1, 1, 1, 1, 1, 1]"
   ]
  },
  {
   "cell_type": "code",
   "execution_count": 12,
   "metadata": {},
   "outputs": [
    {
     "data": {
      "image/png": "[encoded data removed]",
      "text/plain": [
       "<Figure size 720x576 with 5 Axes>"
      ]
     },
     "metadata": {
      "needs_background": "light"
     },
     "output_type": "display_data"
    },
    {
     "data": {
      "image/png": "[encoded data removed]",
      "text/plain": [
       "<Figure size 720x576 with 5 Axes>"
      ]
     },
     "metadata": {
      "needs_background": "light"
     },
     "output_type": "display_data"
    }
   ],
   "source": [
    "# afişăm setul definit\n",
    "fig = plt.figure(num=1, figsize=(10, 8)) \n",
    "for i in range(0, 5):\n",
    "    ax = fig.add_subplot(450 + i + 1)\n",
    "    ax.imshow(255 * train_set_x[i].reshape(7, 5), cmap='gray')\n",
    "    ax.set_title(f'eticheta {train_set_y[i]}')\n",
    "    \n",
    "fig = plt.figure(num=2, figsize=(10, 8)) \n",
    "for i in range(5, 10):\n",
    "    ax = fig.add_subplot(450 + i - 4)\n",
    "    ax.imshow(255 * train_set_x[i].reshape(7, 5), cmap='gray')\n",
    "    ax.set_title(f'eticheta {train_set_y[i]}')"
   ]
  },
  {
   "cell_type": "code",
   "execution_count": 13,
   "metadata": {},
   "outputs": [],
   "source": [
    "# setul de test are câte un pixel lipsă\n",
    "test_set_x = np.array([\n",
    "    [0, 1, 1, 1, 0, \n",
    "     1, 0, 0, 0, 1,\n",
    "     1, 0, 0, 0, 1,\n",
    "     1, 0, 0, 0, 0,\n",
    "     1, 0, 0, 0, 1,\n",
    "     1, 0, 0, 0, 1,\n",
    "     0, 1, 1, 1, 0],\n",
    "    [0, 0, 1, 1, 0,\n",
    "     0, 1, 0, 0, 1,\n",
    "     0, 1, 0, 0, 1,\n",
    "     0, 1, 0, 0, 1,\n",
    "     0, 1, 0, 0, 1,\n",
    "     0, 0, 0, 0, 1,\n",
    "     0, 0, 1, 1, 0],\n",
    "    [0, 1, 1, 0, 0,\n",
    "     1, 0, 0, 1, 0,\n",
    "     1, 0, 0, 1, 0,\n",
    "     1, 0, 0, 1, 0,\n",
    "     1, 0, 0, 1, 0,\n",
    "     1, 0, 0, 1, 0,\n",
    "     0, 0, 1, 0, 0],\n",
    "    [0, 0, 1, 0, 0,\n",
    "     0, 1, 1, 0, 0,\n",
    "     1, 0, 0, 0, 0,\n",
    "     0, 0, 1, 0, 0,\n",
    "     0, 0, 1, 0, 0,\n",
    "     0, 0, 1, 0, 0,\n",
    "     1, 1, 1, 1, 1],\n",
    "    [0, 0, 1, 0, 0,\n",
    "     0, 0, 1, 0, 0,\n",
    "     0, 0, 1, 0, 0,\n",
    "     0, 0, 1, 0, 0,\n",
    "     0, 0, 1, 0, 0,\n",
    "     0, 0, 1, 0, 0,\n",
    "     0, 0, 1, 0, 0],\n",
    "    [0, 0, 1, 0, 0,\n",
    "     0, 1, 1, 0, 0,\n",
    "     0, 0, 1, 0, 0,\n",
    "     0, 0, 1, 0, 0,\n",
    "     0, 0, 1, 0, 0,\n",
    "     0, 0, 1, 0, 0,\n",
    "     0, 0, 1, 1, 0],\n",
    "])\n",
    "test_set_y = [-1, -1, -1, 1, 1, 1]"
   ]
  },
  {
   "cell_type": "code",
   "execution_count": 14,
   "metadata": {},
   "outputs": [
    {
     "data": {
      "image/png": "[encoded data removed]",
      "text/plain": [
       "<Figure size 720x576 with 3 Axes>"
      ]
     },
     "metadata": {
      "needs_background": "light"
     },
     "output_type": "display_data"
    },
    {
     "data": {
      "image/png": "[encoded data removed]",
      "text/plain": [
       "<Figure size 720x576 with 3 Axes>"
      ]
     },
     "metadata": {
      "needs_background": "light"
     },
     "output_type": "display_data"
    }
   ],
   "source": [
    "fig = plt.figure(num=3, figsize=(10, 8)) \n",
    "for i in range(0, 3):\n",
    "    ax = fig.add_subplot(430 + i + 1)\n",
    "    ax.imshow(255 * test_set_x[i].reshape(7, 5), cmap='gray')\n",
    "    ax.set_title(f'eticheta {test_set_y[i]}')\n",
    "    \n",
    "fig = plt.figure(num=4, figsize=(10, 8)) \n",
    "for i in range(3, 6):\n",
    "    ax = fig.add_subplot(430 + i - 2)\n",
    "    ax.imshow(255 * test_set_x[i].reshape(7, 5), cmap='gray')\n",
    "    ax.set_title(f'eticheta {test_set_y[i]}')"
   ]
  },
  {
   "cell_type": "code",
   "execution_count": 15,
   "metadata": {},
   "outputs": [],
   "source": [
    "# funcţia de activare este o simplă treaptă (-1, 1) în jurul lui 0\n",
    "def h(net):\n",
    "    return (net >= 0) * 2 - 1 \n",
    "\n",
    "assert np.all(h(-np.random.randint(100, size=(10,))) == -1)\n",
    "assert np.all(h(np.random.randint(100, size=(10,))) == +1)"
   ]
  },
  {
   "cell_type": "code",
   "execution_count": 16,
   "metadata": {},
   "outputs": [
    {
     "ename": "ValueError",
     "evalue": "all the input array dimensions for the concatenation axis must match exactly, but along dimension 0, the array at index 0 has size 200 and the array at index 1 has size 10",
     "output_type": "error",
     "traceback": [
      "\u001b[1;31m---------------------------------------------------------------------------\u001b[0m",
      "\u001b[1;31mValueError\u001b[0m                                Traceback (most recent call last)",
      "\u001b[1;32m<ipython-input-16-a17818c7d119>\u001b[0m in \u001b[0;36m<module>\u001b[1;34m\u001b[0m\n\u001b[0;32m      5\u001b[0m \u001b[0maux\u001b[0m \u001b[1;33m=\u001b[0m \u001b[0mnp\u001b[0m\u001b[1;33m.\u001b[0m\u001b[0mones\u001b[0m\u001b[1;33m(\u001b[0m\u001b[1;33m(\u001b[0m\u001b[0mx\u001b[0m\u001b[1;33m.\u001b[0m\u001b[0mshape\u001b[0m\u001b[1;33m[\u001b[0m\u001b[1;36m0\u001b[0m\u001b[1;33m]\u001b[0m\u001b[1;33m)\u001b[0m\u001b[1;33m)\u001b[0m\u001b[1;33m.\u001b[0m\u001b[0mtranspose\u001b[0m\u001b[1;33m(\u001b[0m\u001b[1;33m)\u001b[0m\u001b[1;33m\u001b[0m\u001b[1;33m\u001b[0m\u001b[0m\n\u001b[0;32m      6\u001b[0m \u001b[0mx\u001b[0m \u001b[1;33m=\u001b[0m \u001b[0mtrain_set_x\u001b[0m\u001b[1;33m\u001b[0m\u001b[1;33m\u001b[0m\u001b[0m\n\u001b[1;32m----> 7\u001b[1;33m \u001b[0mx\u001b[0m \u001b[1;33m=\u001b[0m \u001b[0mnp\u001b[0m\u001b[1;33m.\u001b[0m\u001b[0mc_\u001b[0m\u001b[1;33m[\u001b[0m\u001b[0maux\u001b[0m\u001b[1;33m,\u001b[0m \u001b[0mx\u001b[0m\u001b[1;33m]\u001b[0m\u001b[1;33m\u001b[0m\u001b[1;33m\u001b[0m\u001b[0m\n\u001b[0m\u001b[0;32m      8\u001b[0m \u001b[1;33m\u001b[0m\u001b[0m\n\u001b[0;32m      9\u001b[0m \u001b[1;32massert\u001b[0m \u001b[0mx\u001b[0m\u001b[1;33m.\u001b[0m\u001b[0mshape\u001b[0m \u001b[1;33m==\u001b[0m \u001b[1;33m(\u001b[0m\u001b[1;36m10\u001b[0m\u001b[1;33m,\u001b[0m \u001b[1;36m36\u001b[0m\u001b[1;33m)\u001b[0m\u001b[1;33m\u001b[0m\u001b[1;33m\u001b[0m\u001b[0m\n",
      "\u001b[1;32mD:\\Programe\\AnacondaNavigator\\envs\\IA\\lib\\site-packages\\numpy\\lib\\index_tricks.py\u001b[0m in \u001b[0;36m__getitem__\u001b[1;34m(self, key)\u001b[0m\n\u001b[0;32m    405\u001b[0m                 \u001b[0mobjs\u001b[0m\u001b[1;33m[\u001b[0m\u001b[0mk\u001b[0m\u001b[1;33m]\u001b[0m \u001b[1;33m=\u001b[0m \u001b[0mobjs\u001b[0m\u001b[1;33m[\u001b[0m\u001b[0mk\u001b[0m\u001b[1;33m]\u001b[0m\u001b[1;33m.\u001b[0m\u001b[0mastype\u001b[0m\u001b[1;33m(\u001b[0m\u001b[0mfinal_dtype\u001b[0m\u001b[1;33m)\u001b[0m\u001b[1;33m\u001b[0m\u001b[1;33m\u001b[0m\u001b[0m\n\u001b[0;32m    406\u001b[0m \u001b[1;33m\u001b[0m\u001b[0m\n\u001b[1;32m--> 407\u001b[1;33m         \u001b[0mres\u001b[0m \u001b[1;33m=\u001b[0m \u001b[0mself\u001b[0m\u001b[1;33m.\u001b[0m\u001b[0mconcatenate\u001b[0m\u001b[1;33m(\u001b[0m\u001b[0mtuple\u001b[0m\u001b[1;33m(\u001b[0m\u001b[0mobjs\u001b[0m\u001b[1;33m)\u001b[0m\u001b[1;33m,\u001b[0m \u001b[0maxis\u001b[0m\u001b[1;33m=\u001b[0m\u001b[0maxis\u001b[0m\u001b[1;33m)\u001b[0m\u001b[1;33m\u001b[0m\u001b[1;33m\u001b[0m\u001b[0m\n\u001b[0m\u001b[0;32m    408\u001b[0m \u001b[1;33m\u001b[0m\u001b[0m\n\u001b[0;32m    409\u001b[0m         \u001b[1;32mif\u001b[0m \u001b[0mmatrix\u001b[0m\u001b[1;33m:\u001b[0m\u001b[1;33m\u001b[0m\u001b[1;33m\u001b[0m\u001b[0m\n",
      "\u001b[1;32m<__array_function__ internals>\u001b[0m in \u001b[0;36mconcatenate\u001b[1;34m(*args, **kwargs)\u001b[0m\n",
      "\u001b[1;31mValueError\u001b[0m: all the input array dimensions for the concatenation axis must match exactly, but along dimension 0, the array at index 0 has size 200 and the array at index 1 has size 10"
     ]
    }
   ],
   "source": [
    "# iniţializăm matricea extinsă X folosind train_set_x\n",
    "# adaug 1 pe prima coloana la x\n",
    "\n",
    "\n",
    "aux = np.ones((x.shape[0])).transpose()\n",
    "x = train_set_x\n",
    "x = np.c_[aux, x]\n",
    "\n",
    "assert x.shape == (10, 36)\n",
    "assert np.all(x[:, 0] == 1)"
   ]
  },
  {
   "cell_type": "code",
   "execution_count": null,
   "metadata": {},
   "outputs": [],
   "source": [
    "# iniţializarea aleatoare a ponderilor\n",
    "\n",
    "\n",
    "def f(x, y):\n",
    "    w = np.random.rand(x.shape[1])\n",
    "    alpha = 0.3\n",
    "    epochs = 10\n",
    "\n",
    "    # câteva iteraţii sunt suficiente\n",
    "    # exact acelasi algoritm\n",
    "    # print(w.shape)\n",
    "    # print(x.shape)\n",
    "    for epoch in range(epochs):\n",
    "        # pentru fiecare linie (pattern)\n",
    "        diferente = 0\n",
    "        y_hat = []\n",
    "        for i in range(x.shape[0]):\n",
    "            # vom 'trage' hiperplanul de separaţie în direcţia dorită\n",
    "            # doar atunci cand eticheta y si cea estimata y_hat nu coincid\n",
    "            #print(w)\n",
    "            #print(np.dot(w, x[i]))\n",
    "\n",
    "            if h(np.dot(w, x[i])) != y[i]:\n",
    "                c = y[i]\n",
    "                diferente+=1\n",
    "            else:\n",
    "                c = 0\n",
    "            # c-ul va fi diferit de zero doar dacă punctul\n",
    "            # este de partea greşită a hiper planului\n",
    "            y_hat.append( h(np.dot(w,x[i])) )\n",
    "            w += alpha * c * x[i]\n",
    "\n",
    "    # să nu uităm să scalăm parametrii hiperplanului, pentru reprezentare\n",
    "    # am presupus forma 1 + ax + by = 0, ori, echivalent, w[0] + w[1] x + w[2] y = 0,\n",
    "    #   deci implicit am presupus w[0] = 1\n",
    "    w /= w[0]\n",
    "    return (diferente,y_hat)"
   ]
  },
  {
   "cell_type": "code",
   "execution_count": null,
   "metadata": {},
   "outputs": [],
   "source": [
    "\n",
    "diffs_train, train_y_hat = f(x, train_set_y)\n",
    "\n",
    "# tipărim numărul de clasificări greşite pentru setul de instruire\n",
    "print(\"train: \", train_y_hat, \" vs. \", train_set_y, \" diffs: \", diffs_train)\n",
    "# cream matricea extinsa X pentru setul de test\n",
    "aux = np.ones((x.shape[0])).transpose()\n",
    "x = test_set_x\n",
    "x = np.c_[aux, x]\n",
    "\n",
    "diffs_test, test_y_hat = f(x, test_set_y)\n",
    "\n",
    "# tipărim numărul de clasificări greşite şi pentru setul de test\n",
    "print(\"test: \", test_y_hat, \" vs. \", test_set_y, \n",
    "      \" diffs: \", diffs_test)\n",
    "\n",
    "# foarte rar apare o diferenţă"
   ]
  },
  {
   "cell_type": "code",
   "execution_count": null,
   "metadata": {},
   "outputs": [],
   "source": []
  }
 ],
 "metadata": {
  "kernelspec": {
   "display_name": "Python 3",
   "language": "python",
   "name": "python3"
  },
  "language_info": {
   "codemirror_mode": {
    "name": "ipython",
    "version": 3
   },
   "file_extension": ".py",
   "mimetype": "text/x-python",
   "name": "python",
   "nbconvert_exporter": "python",
   "pygments_lexer": "ipython3",
   "version": "3.8.5"
  }
 },
 "nbformat": 4,
 "nbformat_minor": 2
}
